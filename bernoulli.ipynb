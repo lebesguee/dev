{
 "cells": [
  {
   "cell_type": "markdown",
   "metadata": {},
   "source": [
    "# An study in Bernoulli Distribution.\n",
    "\n",
    "### Density and Moments"
   ]
  },
  {
   "cell_type": "markdown",
   "metadata": {},
   "source": [
    "### X ~ Bernoulli(p). Gives 1 or 0 with probability p. The probability density function is: f(x) = p^x * (1-p)^(1-x) if x=0,1. f(x)=0 otherwise.\n",
    "### E(X) = p\n",
    "### Var(X) = p*(1-p)"
   ]
  },
  {
   "cell_type": "code",
   "execution_count": 8,
   "metadata": {},
   "outputs": [],
   "source": [
    "# libraries\n",
    "import numpy as np"
   ]
  },
  {
   "cell_type": "code",
   "execution_count": 47,
   "metadata": {},
   "outputs": [],
   "source": [
    "# density\n",
    "def pmf_bernoulli(x,p):\n",
    "    f = p**x*(1-p)**(1-x)\n",
    "    return f"
   ]
  },
  {
   "cell_type": "code",
   "execution_count": 3,
   "metadata": {},
   "outputs": [],
   "source": [
    "# mean, expected value of X\n",
    "def mean(p):\n",
    "    return p   "
   ]
  },
  {
   "cell_type": "code",
   "execution_count": 5,
   "metadata": {},
   "outputs": [],
   "source": [
    "# variance\n",
    "def var(p):\n",
    "    return p*(1-p)"
   ]
  },
  {
   "cell_type": "code",
   "execution_count": 61,
   "metadata": {},
   "outputs": [],
   "source": [
    "# standard deviation\n",
    "def std_dev(p):\n",
    "    return bernoulli.var(p)**(1/2)"
   ]
  },
  {
   "cell_type": "markdown",
   "metadata": {},
   "source": [
    "### Generating Random Variables from Bernoulli Distribution"
   ]
  },
  {
   "cell_type": "code",
   "execution_count": 46,
   "metadata": {},
   "outputs": [],
   "source": [
    "# compares given probability p with random number x in [0,1) sampled from uniform distribution. Add 1 if x <= p, add 0 if x>p. \n",
    "#size is a parameter that how many number generates\n",
    "def rvs(p, size=1):\n",
    "    rvs = np.array([]) #initiate empty numpy array\n",
    "    for i in range(0, size):\n",
    "        if np.random.rand() <= p: # random number from Uniform Distribution\n",
    "            a = 1\n",
    "            rvs = np.append(rvs,a)\n",
    "        else:\n",
    "            a = 0\n",
    "            rvs = np.append(rvs,a)\n",
    "    return rvs"
   ]
  },
  {
   "cell_type": "code",
   "execution_count": 60,
   "metadata": {},
   "outputs": [],
   "source": [
    "#create Bernoulli CLass putting all together. \n",
    "\n",
    "class bernoulli():\n",
    "    \n",
    "    def pmf_bernoulli(x,p):\n",
    "        return p**x*(1-p)**(1-x)\n",
    "\n",
    "    def mean(p):\n",
    "        return p\n",
    "    \n",
    "    def var(p):\n",
    "        return p*(1-p)\n",
    "\n",
    "    def std_dev(p):\n",
    "        return bernoulli.var(p)**(1/2)\n",
    "\n",
    "    def rvs(p, size=1):\n",
    "        rvs = np.array([]) #initiate empty numpy array\n",
    "        for i in range(0, size):\n",
    "            if np.random.rand() <= p: # random number from Uniform Distribution\n",
    "                a = 1\n",
    "                rvs = np.append(rvs,a)\n",
    "            else:\n",
    "                a = 0\n",
    "                rvs = np.append(rvs,a)\n",
    "        return rvs"
   ]
  },
  {
   "cell_type": "markdown",
   "metadata": {},
   "source": [
    "## Example\n",
    "### Suppose that a Formula 1 racer has a p=0.2 probability of having an accident. So that X = 1 if an accident occurs, and X = 0 otherwise. Find the expectation, variance and standard deviation of X and generate random variate 10 times."
   ]
  },
  {
   "cell_type": "code",
   "execution_count": 64,
   "metadata": {},
   "outputs": [
    {
     "name": "stdout",
     "output_type": "stream",
     "text": [
      "An average of  0.2  accidents occur on Formula1, given a 0.2 probability of having an accident.\n",
      "Variance:  0.16\n",
      "Standard Deviation:  0.4\n",
      "Simulation of Beroulli variables:  [1. 1. 0. 0. 0. 0. 1. 0. 0. 0.]\n"
     ]
    }
   ],
   "source": [
    "p = 0.2 #probability of having an accident\n",
    "print(\"An average of \", bernoulli.mean(p), \" accidents occur on Formula1, given a 0.2 probability of having an accident.\")\n",
    "print(\"Variance: \", round(bernoulli.var(p),2))\n",
    "print(\"Standard Deviation: \", round(bernoulli.std_dev(p),2))\n",
    "print(\"Simulation of Beroulli variables: \", bernoulli.rvs(p,size=10))\n"
   ]
  },
  {
   "cell_type": "markdown",
   "metadata": {},
   "source": [
    "# Next Steps...\n",
    "## 1. Use OOP to define Bernoulli Class and recieve p as a parameter to all its methods.\n",
    "## 2. Extend other distributions and generate a Random Variable Distribution Calculator."
   ]
  }
 ],
 "metadata": {
  "interpreter": {
   "hash": "d91e12caca1335479f63af8b7d6b8bc00e633a52c41591a79bc3511ba9975750"
  },
  "kernelspec": {
   "display_name": "Python 3.9.6 64-bit",
   "name": "python3"
  },
  "language_info": {
   "codemirror_mode": {
    "name": "ipython",
    "version": 3
   },
   "file_extension": ".py",
   "mimetype": "text/x-python",
   "name": "python",
   "nbconvert_exporter": "python",
   "pygments_lexer": "ipython3",
   "version": "3.9.6"
  },
  "orig_nbformat": 4
 },
 "nbformat": 4,
 "nbformat_minor": 2
}
