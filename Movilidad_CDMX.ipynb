{
  "nbformat": 4,
  "nbformat_minor": 0,
  "metadata": {
    "colab": {
      "name": "Movilidad CDMX.ipynb",
      "provenance": [],
      "collapsed_sections": []
    },
    "kernelspec": {
      "name": "python3",
      "display_name": "Python 3"
    }
  },
  "cells": [
    {
      "cell_type": "code",
      "source": [
        "#import pandas as pd\n",
        "#pd.read_csv(\"https://archive.ics.uci.edu/ml/machine-learning-databases/breast-cancer-wisconsin/breast-cancer-wisconsin.data\")"
      ],
      "metadata": {
        "colab": {
          "base_uri": "https://localhost:8080/",
          "height": 424
        },
        "id": "g00EnCkTd8DN",
        "outputId": "63ffbaee-b698-4ee8-8db7-e8f04ef1c746"
      },
      "execution_count": null,
      "outputs": [
        {
          "output_type": "execute_result",
          "data": {
            "text/plain": [
              "     1000025  5   1  1.1  1.2  2 1.3   3  1.4  1.5  2.1\n",
              "0    1002945  5   4    4    5  7  10   3    2    1    2\n",
              "1    1015425  3   1    1    1  2   2   3    1    1    2\n",
              "2    1016277  6   8    8    1  3   4   3    7    1    2\n",
              "3    1017023  4   1    1    3  2   1   3    1    1    2\n",
              "4    1017122  8  10   10    8  7  10   9    7    1    4\n",
              "..       ... ..  ..  ...  ... ..  ..  ..  ...  ...  ...\n",
              "693   776715  3   1    1    1  3   2   1    1    1    2\n",
              "694   841769  2   1    1    1  2   1   1    1    1    2\n",
              "695   888820  5  10   10    3  7   3   8   10    2    4\n",
              "696   897471  4   8    6    4  3   4  10    6    1    4\n",
              "697   897471  4   8    8    5  4   5  10    4    1    4\n",
              "\n",
              "[698 rows x 11 columns]"
            ],
            "text/html": [
              "\n",
              "  <div id=\"df-73eed213-6540-47d4-948c-fd8e784c464f\">\n",
              "    <div class=\"colab-df-container\">\n",
              "      <div>\n",
              "<style scoped>\n",
              "    .dataframe tbody tr th:only-of-type {\n",
              "        vertical-align: middle;\n",
              "    }\n",
              "\n",
              "    .dataframe tbody tr th {\n",
              "        vertical-align: top;\n",
              "    }\n",
              "\n",
              "    .dataframe thead th {\n",
              "        text-align: right;\n",
              "    }\n",
              "</style>\n",
              "<table border=\"1\" class=\"dataframe\">\n",
              "  <thead>\n",
              "    <tr style=\"text-align: right;\">\n",
              "      <th></th>\n",
              "      <th>1000025</th>\n",
              "      <th>5</th>\n",
              "      <th>1</th>\n",
              "      <th>1.1</th>\n",
              "      <th>1.2</th>\n",
              "      <th>2</th>\n",
              "      <th>1.3</th>\n",
              "      <th>3</th>\n",
              "      <th>1.4</th>\n",
              "      <th>1.5</th>\n",
              "      <th>2.1</th>\n",
              "    </tr>\n",
              "  </thead>\n",
              "  <tbody>\n",
              "    <tr>\n",
              "      <th>0</th>\n",
              "      <td>1002945</td>\n",
              "      <td>5</td>\n",
              "      <td>4</td>\n",
              "      <td>4</td>\n",
              "      <td>5</td>\n",
              "      <td>7</td>\n",
              "      <td>10</td>\n",
              "      <td>3</td>\n",
              "      <td>2</td>\n",
              "      <td>1</td>\n",
              "      <td>2</td>\n",
              "    </tr>\n",
              "    <tr>\n",
              "      <th>1</th>\n",
              "      <td>1015425</td>\n",
              "      <td>3</td>\n",
              "      <td>1</td>\n",
              "      <td>1</td>\n",
              "      <td>1</td>\n",
              "      <td>2</td>\n",
              "      <td>2</td>\n",
              "      <td>3</td>\n",
              "      <td>1</td>\n",
              "      <td>1</td>\n",
              "      <td>2</td>\n",
              "    </tr>\n",
              "    <tr>\n",
              "      <th>2</th>\n",
              "      <td>1016277</td>\n",
              "      <td>6</td>\n",
              "      <td>8</td>\n",
              "      <td>8</td>\n",
              "      <td>1</td>\n",
              "      <td>3</td>\n",
              "      <td>4</td>\n",
              "      <td>3</td>\n",
              "      <td>7</td>\n",
              "      <td>1</td>\n",
              "      <td>2</td>\n",
              "    </tr>\n",
              "    <tr>\n",
              "      <th>3</th>\n",
              "      <td>1017023</td>\n",
              "      <td>4</td>\n",
              "      <td>1</td>\n",
              "      <td>1</td>\n",
              "      <td>3</td>\n",
              "      <td>2</td>\n",
              "      <td>1</td>\n",
              "      <td>3</td>\n",
              "      <td>1</td>\n",
              "      <td>1</td>\n",
              "      <td>2</td>\n",
              "    </tr>\n",
              "    <tr>\n",
              "      <th>4</th>\n",
              "      <td>1017122</td>\n",
              "      <td>8</td>\n",
              "      <td>10</td>\n",
              "      <td>10</td>\n",
              "      <td>8</td>\n",
              "      <td>7</td>\n",
              "      <td>10</td>\n",
              "      <td>9</td>\n",
              "      <td>7</td>\n",
              "      <td>1</td>\n",
              "      <td>4</td>\n",
              "    </tr>\n",
              "    <tr>\n",
              "      <th>...</th>\n",
              "      <td>...</td>\n",
              "      <td>...</td>\n",
              "      <td>...</td>\n",
              "      <td>...</td>\n",
              "      <td>...</td>\n",
              "      <td>...</td>\n",
              "      <td>...</td>\n",
              "      <td>...</td>\n",
              "      <td>...</td>\n",
              "      <td>...</td>\n",
              "      <td>...</td>\n",
              "    </tr>\n",
              "    <tr>\n",
              "      <th>693</th>\n",
              "      <td>776715</td>\n",
              "      <td>3</td>\n",
              "      <td>1</td>\n",
              "      <td>1</td>\n",
              "      <td>1</td>\n",
              "      <td>3</td>\n",
              "      <td>2</td>\n",
              "      <td>1</td>\n",
              "      <td>1</td>\n",
              "      <td>1</td>\n",
              "      <td>2</td>\n",
              "    </tr>\n",
              "    <tr>\n",
              "      <th>694</th>\n",
              "      <td>841769</td>\n",
              "      <td>2</td>\n",
              "      <td>1</td>\n",
              "      <td>1</td>\n",
              "      <td>1</td>\n",
              "      <td>2</td>\n",
              "      <td>1</td>\n",
              "      <td>1</td>\n",
              "      <td>1</td>\n",
              "      <td>1</td>\n",
              "      <td>2</td>\n",
              "    </tr>\n",
              "    <tr>\n",
              "      <th>695</th>\n",
              "      <td>888820</td>\n",
              "      <td>5</td>\n",
              "      <td>10</td>\n",
              "      <td>10</td>\n",
              "      <td>3</td>\n",
              "      <td>7</td>\n",
              "      <td>3</td>\n",
              "      <td>8</td>\n",
              "      <td>10</td>\n",
              "      <td>2</td>\n",
              "      <td>4</td>\n",
              "    </tr>\n",
              "    <tr>\n",
              "      <th>696</th>\n",
              "      <td>897471</td>\n",
              "      <td>4</td>\n",
              "      <td>8</td>\n",
              "      <td>6</td>\n",
              "      <td>4</td>\n",
              "      <td>3</td>\n",
              "      <td>4</td>\n",
              "      <td>10</td>\n",
              "      <td>6</td>\n",
              "      <td>1</td>\n",
              "      <td>4</td>\n",
              "    </tr>\n",
              "    <tr>\n",
              "      <th>697</th>\n",
              "      <td>897471</td>\n",
              "      <td>4</td>\n",
              "      <td>8</td>\n",
              "      <td>8</td>\n",
              "      <td>5</td>\n",
              "      <td>4</td>\n",
              "      <td>5</td>\n",
              "      <td>10</td>\n",
              "      <td>4</td>\n",
              "      <td>1</td>\n",
              "      <td>4</td>\n",
              "    </tr>\n",
              "  </tbody>\n",
              "</table>\n",
              "<p>698 rows × 11 columns</p>\n",
              "</div>\n",
              "      <button class=\"colab-df-convert\" onclick=\"convertToInteractive('df-73eed213-6540-47d4-948c-fd8e784c464f')\"\n",
              "              title=\"Convert this dataframe to an interactive table.\"\n",
              "              style=\"display:none;\">\n",
              "        \n",
              "  <svg xmlns=\"http://www.w3.org/2000/svg\" height=\"24px\"viewBox=\"0 0 24 24\"\n",
              "       width=\"24px\">\n",
              "    <path d=\"M0 0h24v24H0V0z\" fill=\"none\"/>\n",
              "    <path d=\"M18.56 5.44l.94 2.06.94-2.06 2.06-.94-2.06-.94-.94-2.06-.94 2.06-2.06.94zm-11 1L8.5 8.5l.94-2.06 2.06-.94-2.06-.94L8.5 2.5l-.94 2.06-2.06.94zm10 10l.94 2.06.94-2.06 2.06-.94-2.06-.94-.94-2.06-.94 2.06-2.06.94z\"/><path d=\"M17.41 7.96l-1.37-1.37c-.4-.4-.92-.59-1.43-.59-.52 0-1.04.2-1.43.59L10.3 9.45l-7.72 7.72c-.78.78-.78 2.05 0 2.83L4 21.41c.39.39.9.59 1.41.59.51 0 1.02-.2 1.41-.59l7.78-7.78 2.81-2.81c.8-.78.8-2.07 0-2.86zM5.41 20L4 18.59l7.72-7.72 1.47 1.35L5.41 20z\"/>\n",
              "  </svg>\n",
              "      </button>\n",
              "      \n",
              "  <style>\n",
              "    .colab-df-container {\n",
              "      display:flex;\n",
              "      flex-wrap:wrap;\n",
              "      gap: 12px;\n",
              "    }\n",
              "\n",
              "    .colab-df-convert {\n",
              "      background-color: #E8F0FE;\n",
              "      border: none;\n",
              "      border-radius: 50%;\n",
              "      cursor: pointer;\n",
              "      display: none;\n",
              "      fill: #1967D2;\n",
              "      height: 32px;\n",
              "      padding: 0 0 0 0;\n",
              "      width: 32px;\n",
              "    }\n",
              "\n",
              "    .colab-df-convert:hover {\n",
              "      background-color: #E2EBFA;\n",
              "      box-shadow: 0px 1px 2px rgba(60, 64, 67, 0.3), 0px 1px 3px 1px rgba(60, 64, 67, 0.15);\n",
              "      fill: #174EA6;\n",
              "    }\n",
              "\n",
              "    [theme=dark] .colab-df-convert {\n",
              "      background-color: #3B4455;\n",
              "      fill: #D2E3FC;\n",
              "    }\n",
              "\n",
              "    [theme=dark] .colab-df-convert:hover {\n",
              "      background-color: #434B5C;\n",
              "      box-shadow: 0px 1px 3px 1px rgba(0, 0, 0, 0.15);\n",
              "      filter: drop-shadow(0px 1px 2px rgba(0, 0, 0, 0.3));\n",
              "      fill: #FFFFFF;\n",
              "    }\n",
              "  </style>\n",
              "\n",
              "      <script>\n",
              "        const buttonEl =\n",
              "          document.querySelector('#df-73eed213-6540-47d4-948c-fd8e784c464f button.colab-df-convert');\n",
              "        buttonEl.style.display =\n",
              "          google.colab.kernel.accessAllowed ? 'block' : 'none';\n",
              "\n",
              "        async function convertToInteractive(key) {\n",
              "          const element = document.querySelector('#df-73eed213-6540-47d4-948c-fd8e784c464f');\n",
              "          const dataTable =\n",
              "            await google.colab.kernel.invokeFunction('convertToInteractive',\n",
              "                                                     [key], {});\n",
              "          if (!dataTable) return;\n",
              "\n",
              "          const docLinkHtml = 'Like what you see? Visit the ' +\n",
              "            '<a target=\"_blank\" href=https://colab.research.google.com/notebooks/data_table.ipynb>data table notebook</a>'\n",
              "            + ' to learn more about interactive tables.';\n",
              "          element.innerHTML = '';\n",
              "          dataTable['output_type'] = 'display_data';\n",
              "          await google.colab.output.renderOutput(dataTable, element);\n",
              "          const docLink = document.createElement('div');\n",
              "          docLink.innerHTML = docLinkHtml;\n",
              "          element.appendChild(docLink);\n",
              "        }\n",
              "      </script>\n",
              "    </div>\n",
              "  </div>\n",
              "  "
            ]
          },
          "metadata": {},
          "execution_count": 8
        }
      ]
    },
    {
      "cell_type": "markdown",
      "metadata": {
        "id": "d3f-UoVaOmtP"
      },
      "source": [
        "# Objetivo de la sesión:\n",
        "* Descargar datos de internet\n",
        "* Crear gráficas\n",
        "* Crear mapa\n",
        "\n"
      ]
    },
    {
      "cell_type": "markdown",
      "metadata": {
        "id": "rynWuVKQy4kl"
      },
      "source": [
        "# Y el tema de hoy:\n"
      ]
    },
    {
      "cell_type": "markdown",
      "metadata": {
        "id": "GV9QwOmoxs4t"
      },
      "source": [
        "![link text](https://images.unsplash.com/photo-1585393054294-e234563512d4?ixlib=rb-1.2.1&ixid=eyJhcHBfaWQiOjEyMDd9&auto=format&fit=crop&w=703&q=80)"
      ]
    },
    {
      "cell_type": "markdown",
      "metadata": {
        "id": "xIEnZJuK0LC4"
      },
      "source": [
        "![stree](https://images.unsplash.com/photo-1592182811189-87f6ae2f3407?ixlib=rb-1.2.1&ixid=eyJhcHBfaWQiOjEyMDd9&auto=format&fit=crop&w=1350&q=80)\n"
      ]
    },
    {
      "cell_type": "markdown",
      "metadata": {
        "id": "3sBeZlvC1ORJ"
      },
      "source": [
        "# Reglas"
      ]
    },
    {
      "cell_type": "markdown",
      "metadata": {
        "id": "afIO5edr1QSK"
      },
      "source": [
        "![habla](https://images.unsplash.com/photo-1453738773917-9c3eff1db985?ixlib=rb-1.2.1&ixid=eyJhcHBfaWQiOjEyMDd9&auto=format&fit=crop&w=1350&q=80)"
      ]
    },
    {
      "cell_type": "markdown",
      "metadata": {
        "id": "UZzJguzi5-Co"
      },
      "source": [
        "# Análisis de datos de uso de transporte público  \n",
        "Fuente de datos: \n",
        "* [Afluencia preliminar en transporte público](https://datos.cdmx.gob.mx/dataset/afluencia-preliminar-en-transporte-publico/resource/c2a29b87-0809-4448-90a2-158d8fc5d180)\n",
        "Se utiliza esa versión debido a que es la mas actualizada\n",
        "* [Histórico Ecobici](https://www.ecobici.cdmx.gob.mx/es/informacion-del-servicio/open-data)\n",
        "* [Ubicaciones Cicloestaciones](https://datos.cdmx.gob.mx/dataset/d7e7267a-ade7-49a9-b5c7-dd6add20f79c/resource/f5f4e6c8-a2b1-4fb8-97be-df9b0f0dfb5d/download/ecobici_cicloestaciones.xlsx)\n"
      ]
    },
    {
      "cell_type": "code",
      "metadata": {
        "id": "cZw-iJPIEhcG"
      },
      "source": [
        "### Cargar paquetes necesarios\n",
        "import pandas as pd\n",
        "import io\n",
        "import requests\n",
        "import matplotlib.pyplot as plt\n",
        "import numpy as np\n",
        "import plotly.graph_objects as go\n",
        "import plotly.express as px\n",
        "import seaborn as sns"
      ],
      "execution_count": null,
      "outputs": []
    },
    {
      "cell_type": "code",
      "metadata": {
        "id": "PRGBX0oB3vug",
        "colab": {
          "base_uri": "https://localhost:8080/"
        },
        "outputId": "645f9bd3-0a21-4d04-933e-449c5f532384"
      },
      "source": [
        "from google.colab import drive\n",
        "drive.mount('/content/gdrive', force_remount=True)"
      ],
      "execution_count": null,
      "outputs": [
        {
          "output_type": "stream",
          "name": "stdout",
          "text": [
            "Mounted at /content/gdrive\n"
          ]
        }
      ]
    },
    {
      "cell_type": "code",
      "metadata": {
        "id": "-X8TfEQk35eJ",
        "colab": {
          "base_uri": "https://localhost:8080/"
        },
        "outputId": "6e13c0cd-c8b3-49a4-cce7-8d1b4c05fb26"
      },
      "source": [
        "!ls 'gdrive/'"
      ],
      "execution_count": null,
      "outputs": [
        {
          "output_type": "stream",
          "name": "stdout",
          "text": [
            "MyDrive\n"
          ]
        }
      ]
    },
    {
      "cell_type": "code",
      "metadata": {
        "id": "Jwl-R1p85yG4",
        "colab": {
          "base_uri": "https://localhost:8080/"
        },
        "outputId": "1f55c24a-a062-46d2-89e0-fab8748f076a"
      },
      "source": [
        "!ls 'gdrive/My Drive/Personal/Platicas'"
      ],
      "execution_count": null,
      "outputs": [
        {
          "output_type": "stream",
          "name": "stdout",
          "text": [
            "token_mb.txt\n"
          ]
        }
      ]
    },
    {
      "cell_type": "code",
      "metadata": {
        "id": "kEY2j_F434qz"
      },
      "source": [
        "f = open(\"gdrive/My Drive/Personal/Platicas/token_mb.txt\", \"r\")\n",
        "token = f.read()[:-1]"
      ],
      "execution_count": null,
      "outputs": []
    },
    {
      "cell_type": "markdown",
      "metadata": {
        "id": "rj3CFBgG6RLH"
      },
      "source": [
        "### Descargar datos"
      ]
    },
    {
      "cell_type": "code",
      "metadata": {
        "colab": {
          "base_uri": "https://localhost:8080/"
        },
        "id": "z2rA2lgt8V-i",
        "outputId": "a0c5f505-bac1-4386-8393-f2bbbaacbbab"
      },
      "source": [
        "url=\"https://datos.cdmx.gob.mx/dataset/da3fcf80-f15f-4478-9795-26eddaa6fe86/resource/c2a29b87-0809-4448-90a2-158d8fc5d180/download/___\"\n",
        "file=requests.get(url).content\n",
        "file"
      ],
      "execution_count": null,
      "outputs": [
        {
          "output_type": "execute_result",
          "data": {
            "text/plain": [
              "b'\"\",\"id\",\"organismo\",\"linea_servicio\",\"dia\",\"fecha\",\"afluencia_tarjeta\",\"afluencia_boleto\",\"afluencia_total\"\\n\"1\",25482,\"Ecobici\",\"N/A\",\"Viernes\",\"01-01-2021\",NA,NA,2755\\n\"2\",25483,\"Ecobici\",\"N/A\",\"S\\xc3\\xa1bado\",\"02-01-2021\",NA,NA,4607\\n\"3\",25484,\"Ecobici\",\"N/A\",\"Domingo\",\"03-01-2021\",NA,NA,4492\\n\"4\",25485,\"Ecobici\",\"N/A\",\"Lunes\",\"04-01-2021\",NA,NA,7269\\n\"5\",25486,\"Ecobici\",\"N/A\",\"Martes\",\"05-01-2021\",NA,NA,7959\\n\"6\",25487,\"Ecobici\",\"N/A\",\"Mi\\xc3\\xa9rcoles\",\"06-01-2021\",NA,NA,7401\\n\"7\",25488,\"Ecobici\",\"N/A\",\"Jueves\",\"07-01-2021\",NA,NA,7722\\n\"8\",25489,\"Ecobici\",\"N/A\",\"Viernes\",\"08-01-2021\",NA,NA,7976\\n\"9\",25490,\"Ecobici\",\"N/A\",\"S\\xc3\\xa1bado\",\"09-01-2021\",NA,NA,6369\\n\"10\",25491,\"Ecobici\",\"N/A\",\"Domingo\",\"10-01-2021\",NA,NA,5347\\n\"11\",25492,\"Ecobici\",\"N/A\",\"Lunes\",\"11-01-2021\",NA,NA,8190\\n\"12\",25493,\"Ecobici\",\"N/A\",\"Martes\",\"12-01-2021\",NA,NA,8805\\n\"13\",25494,\"Ecobici\",\"N/A\",\"Mi\\xc3\\xa9rcoles\",\"13-01-2021\",NA,NA,8898\\n\"14\",25495,\"Ecobici\",\"N/A\",\"Jueves\",\"14-01-2021\",NA,NA,9171\\n\"15\",25496,\"Ecobici\",\"N/A\",\"Viernes\",\"15-01-2021\",NA,NA,9582\\n\"16\",25497,\"Ecobici\",\"N/A\",\"S\\xc3\\xa1bado\",\"16-01-2021\",NA,NA,6692\\n\"17\",25498,\"Ecobici\",\"N/A\",\"Domingo\",\"17-01-2021\",NA,NA,5209\\n\"18\",25499,\"Ecobici\",\"N/A\",\"Lunes\",\"18-01-2021\",NA,NA,9889\\n\"19\",25500,\"Ecobici\",\"N/A\",\"Martes\",\"19-01-2021\",NA,NA,10079\\n\"20\",25501,\"Ecobici\",\"N/A\",\"Mi\\xc3\\xa9rcoles\",\"20-01-2021\",NA,NA,10209\\n\"21\",25502,\"Ecobici\",\"N/A\",\"Jueves\",\"21-01-2021\",NA,NA,10398\\n\"22\",25503,\"Ecobici\",\"N/A\",\"Viernes\",\"22-01-2021\",NA,NA,10723\\n\"23\",25504,\"Ecobici\",\"N/A\",\"S\\xc3\\xa1bado\",\"23-01-2021\",NA,NA,8376\\n\"24\",25505,\"Ecobici\",\"N/A\",\"Domingo\",\"24-01-2021\",NA,NA,6844\\n\"25\",25506,\"Ecobici\",\"N/A\",\"Lunes\",\"25-01-2021\",NA,NA,10267\\n\"26\",25507,\"Ecobici\",\"N/A\",\"Martes\",\"26-01-2021\",NA,NA,11042\\n\"27\",25508,\"Ecobici\",\"N/A\",\"Mi\\xc3\\xa9rcoles\",\"27-01-2021\",NA,NA,10893\\n\"28\",25509,\"Ecobici\",\"N/A\",\"Jueves\",\"28-01-2021\",NA,NA,10961\\n\"29\",25510,\"Ecobici\",\"N/A\",\"Viernes\",\"29-01-2021\",NA,NA,11581\\n\"30\",25511,\"Ecobici\",\"N/A\",\"S\\xc3\\xa1bado\",\"30-01-2021\",NA,NA,8948\\n\"31\",25512,\"Ecobici\",\"N/A\",\"Domingo\",\"31-01-2021\",NA,NA,7151\\n\"32\",25513,\"Ecobici\",\"N/A\",\"Lunes\",\"01-02-2021\",NA,NA,7519\\n\"33\",25514,\"Ecobici\",\"N/A\",\"Martes\",\"02-02-2021\",NA,NA,10884\\n\"34\",25515,\"Ecobici\",\"N/A\",\"Mi\\xc3\\xa9rcoles\",\"03-02-2021\",NA,NA,11331\\n\"35\",25516,\"Ecobici\",\"N/A\",\"Jueves\",\"04-02-2021\",NA,NA,11184\\n\"36\",25517,\"Ecobici\",\"N/A\",\"Viernes\",\"05-02-2021\",NA,NA,11682\\n\"37\",25518,\"Ecobici\",\"N/A\",\"S\\xc3\\xa1bado\",\"06-02-2021\",NA,NA,9123\\n\"38\",25519,\"Ecobici\",\"N/A\",\"Domingo\",\"07-02-2021\",NA,NA,7180\\n\"39\",25520,\"Ecobici\",\"N/A\",\"Lunes\",\"08-02-2021\",NA,NA,10535\\n\"40\",25521,\"Ecobici\",\"N/A\",\"Martes\",\"09-02-2021\",NA,NA,11418\\n\"41\",25522,\"Ecobici\",\"N/A\",\"Mi\\xc3\\xa9rcoles\",\"10-02-2021\",NA,NA,10233\\n\"42\",25523,\"Ecobici\",\"N/A\",\"Jueves\",\"11-02-2021\",NA,NA,10089\\n\"43\",25524,\"Ecobici\",\"N/A\",\"Viernes\",\"12-02-2021\",NA,NA,11422\\n\"44\",25525,\"Ecobici\",\"N/A\",\"S\\xc3\\xa1bado\",\"13-02-2021\",NA,NA,9045\\n\"45\",25526,\"Ecobici\",\"N/A\",\"Domingo\",\"14-02-2021\",NA,NA,7363\\n\"46\",25527,\"Ecobici\",\"N/A\",\"Lunes\",\"15-02-2021\",NA,NA,10456\\n\"47\",25528,\"Ecobici\",\"N/A\",\"Martes\",\"16-02-2021\",NA,NA,11862\\n\"48\",25529,\"Ecobici\",\"N/A\",\"Mi\\xc3\\xa9rcoles\",\"17-02-2021\",NA,NA,11888\\n\"49\",25530,\"Ecobici\",\"N/A\",\"Jueves\",\"18-02-2021\",NA,NA,11841\\n\"50\",25531,\"Ecobici\",\"N/A\",\"Viernes\",\"19-02-2021\",NA,NA,11728\\n\"51\",25532,\"Ecobici\",\"N/A\",\"S\\xc3\\xa1bado\",\"20-02-2021\",NA,NA,9015\\n\"52\",25533,\"Ecobici\",\"N/A\",\"Domingo\",\"21-02-2021\",NA,NA,7481\\n\"53\",25534,\"Ecobici\",\"N/A\",\"Lunes\",\"22-02-2021\",NA,NA,11055\\n\"54\",25535,\"Ecobici\",\"N/A\",\"Martes\",\"23-02-2021\",NA,NA,NA\\n\"55\",16074,\"Metrob\\xc3\\xbas\",\"L1\",\"Viernes\",\"01-01-2021\",NA,NA,42650\\n\"56\",16075,\"Metrob\\xc3\\xbas\",\"L2\",\"Viernes\",\"01-01-2021\",NA,NA,26201\\n\"57\",16076,\"Metrob\\xc3\\xbas\",\"L3\",\"Viernes\",\"01-01-2021\",NA,NA,20964\\n\"58\",16077,\"Metrob\\xc3\\xbas\",\"L4\",\"Viernes\",\"01-01-2021\",NA,NA,9819\\n\"59\",16078,\"Metrob\\xc3\\xbas\",\"L5\",\"Viernes\",\"01-01-2021\",NA,NA,35599\\n\"60\",16079,\"Metrob\\xc3\\xbas\",\"L6\",\"Viernes\",\"01-01-2021\",NA,NA,29342\\n\"61\",16080,\"Metrob\\xc3\\xbas\",\"L7\",\"Viernes\",\"01-01-2021\",NA,NA,17704\\n\"62\",16081,\"Metrob\\xc3\\xbas\",\"L1\",\"S\\xc3\\xa1bado\",\"02-01-2021\",NA,NA,92590\\n\"63\",16082,\"Metrob\\xc3\\xbas\",\"L2\",\"S\\xc3\\xa1bado\",\"02-01-2021\",NA,NA,51463\\n\"64\",16083,\"Metrob\\xc3\\xbas\",\"L3\",\"S\\xc3\\xa1bado\",\"02-01-2021\",NA,NA,43300\\n\"65\",16084,\"Metrob\\xc3\\xbas\",\"L4\",\"S\\xc3\\xa1bado\",\"02-01-2021\",NA,NA,30124\\n\"66\",16085,\"Metrob\\xc3\\xbas\",\"L5\",\"S\\xc3\\xa1bado\",\"02-01-2021\",NA,NA,66471\\n\"67\",16086,\"Metrob\\xc3\\xbas\",\"L6\",\"S\\xc3\\xa1bado\",\"02-01-2021\",NA,NA,54372\\n\"68\",16087,\"Metrob\\xc3\\xbas\",\"L7\",\"S\\xc3\\xa1bado\",\"02-01-2021\",NA,NA,35910\\n\"69\",16088,\"Metrob\\xc3\\xbas\",\"L1\",\"Domingo\",\"03-01-2021\",NA,NA,70939\\n\"70\",16089,\"Metrob\\xc3\\xbas\",\"L2\",\"Domingo\",\"03-01-2021\",NA,NA,41892\\n\"71\",16090,\"Metrob\\xc3\\xbas\",\"L3\",\"Domingo\",\"03-01-2021\",NA,NA,34583\\n\"72\",16091,\"Metrob\\xc3\\xbas\",\"L4\",\"Domingo\",\"03-01-2021\",NA,NA,19515\\n\"73\",16092,\"Metrob\\xc3\\xbas\",\"L5\",\"Domingo\",\"03-01-2021\",NA,NA,56826\\n\"74\",16093,\"Metrob\\xc3\\xbas\",\"L6\",\"Domingo\",\"03-01-2021\",NA,NA,45062\\n\"75\",16094,\"Metrob\\xc3\\xbas\",\"L7\",\"Domingo\",\"03-01-2021\",NA,NA,25967\\n\"76\",16095,\"Metrob\\xc3\\xbas\",\"L1\",\"Lunes\",\"04-01-2021\",NA,NA,176830\\n\"77\",16096,\"Metrob\\xc3\\xbas\",\"L2\",\"Lunes\",\"04-01-2021\",NA,NA,84719\\n\"78\",16097,\"Metrob\\xc3\\xbas\",\"L3\",\"Lunes\",\"04-01-2021\",NA,NA,72821\\n\"79\",16098,\"Metrob\\xc3\\xbas\",\"L4\",\"Lunes\",\"04-01-2021\",NA,NA,44110\\n\"80\",16099,\"Metrob\\xc3\\xbas\",\"L5\",\"Lunes\",\"04-01-2021\",NA,NA,99623\\n\"81\",16100,\"Metrob\\xc3\\xbas\",\"L6\",\"Lunes\",\"04-01-2021\",NA,NA,91824\\n\"82\",16101,\"Metrob\\xc3\\xbas\",\"L7\",\"Lunes\",\"04-01-2021\",NA,NA,46697\\n\"83\",16102,\"Metrob\\xc3\\xbas\",\"L1\",\"Martes\",\"05-01-2021\",NA,NA,180348\\n\"84\",16103,\"Metrob\\xc3\\xbas\",\"L2\",\"Martes\",\"05-01-2021\",NA,NA,88446\\n\"85\",16104,\"Metrob\\xc3\\xbas\",\"L3\",\"Martes\",\"05-01-2021\",NA,NA,74389\\n\"86\",16105,\"Metrob\\xc3\\xbas\",\"L4\",\"Martes\",\"05-01-2021\",NA,NA,40663\\n\"87\",16106,\"Metrob\\xc3\\xbas\",\"L5\",\"Martes\",\"05-01-2021\",NA,NA,102802\\n\"88\",16107,\"Metrob\\xc3\\xbas\",\"L6\",\"Martes\",\"05-01-2021\",NA,NA,93143\\n\"89\",16108,\"Metrob\\xc3\\xbas\",\"L7\",\"Martes\",\"05-01-2021\",NA,NA,54275\\n\"90\",16109,\"Metrob\\xc3\\xbas\",\"L1\",\"M\\xc3\\xadercoles\",\"06-01-2021\",NA,NA,166229\\n\"91\",16110,\"Metrob\\xc3\\xbas\",\"L2\",\"M\\xc3\\xadercoles\",\"06-01-2021\",NA,NA,79523\\n\"92\",16111,\"Metrob\\xc3\\xbas\",\"L3\",\"M\\xc3\\xadercoles\",\"06-01-2021\",NA,NA,64958\\n\"93\",16112,\"Metrob\\xc3\\xbas\",\"L4\",\"M\\xc3\\xadercoles\",\"06-01-2021\",NA,NA,30695\\n\"94\",16113,\"Metrob\\xc3\\xbas\",\"L5\",\"M\\xc3\\xadercoles\",\"06-01-2021\",NA,NA,88710\\n\"95\",16114,\"Metrob\\xc3\\xbas\",\"L6\",\"M\\xc3\\xadercoles\",\"06-01-2021\",NA,NA,82670\\n\"96\",16115,\"Metrob\\xc3\\xbas\",\"L7\",\"M\\xc3\\xadercoles\",\"06-01-2021\",NA,NA,46264\\n\"97\",16116,\"Metrob\\xc3\\xbas\",\"L1\",\"Jueves\",\"07-01-2021\",NA,NA,170489\\n\"98\",16117,\"Metrob\\xc3\\xbas\",\"L2\",\"Jueves\",\"07-01-2021\",NA,NA,82448\\n\"99\",16118,\"Metrob\\xc3\\xbas\",\"L3\",\"Jueves\",\"07-01-2021\",NA,NA,65723\\n\"100\",16119,\"Metrob\\xc3\\xbas\",\"L4\",\"Jueves\",\"07-01-2021\",NA,NA,28058\\n\"101\",16120,\"Metrob\\xc3\\xbas\",\"L5\",\"Jueves\",\"07-01-2021\",NA,NA,91971\\n\"102\",16121,\"Metrob\\xc3\\xbas\",\"L6\",\"Jueves\",\"07-01-2021\",NA,NA,85445\\n\"103\",16122,\"Metrob\\xc3\\xbas\",\"L7\",\"Jueves\",\"07-01-2021\",NA,NA,48231\\n\"104\",16123,\"Metrob\\xc3\\xbas\",\"L1\",\"Viernes\",\"08-01-2021\",NA,NA,188533\\n\"105\",16124,\"Metrob\\xc3\\xbas\",\"L2\",\"Viernes\",\"08-01-2021\",NA,NA,86501\\n\"106\",16125,\"Metrob\\xc3\\xbas\",\"L3\",\"Viernes\",\"08-01-2021\",NA,NA,71038\\n\"107\",16126,\"Metrob\\xc3\\xbas\",\"L4\",\"Viernes\",\"08-01-2021\",NA,NA,30139\\n\"108\",16127,\"Metrob\\xc3\\xbas\",\"L5\",\"Viernes\",\"08-01-2021\",NA,NA,96264\\n\"109\",16128,\"Metrob\\xc3\\xbas\",\"L6\",\"Viernes\",\"08-01-2021\",NA,NA,90539\\n\"110\",16129,\"Metrob\\xc3\\xbas\",\"L7\",\"Viernes\",\"08-01-2021\",NA,NA,51809\\n\"111\",16130,\"Metrob\\xc3\\xbas\",\"L1\",\"S\\xc3\\xa1bado\",\"09-01-2021\",NA,NA,215201\\n\"112\",16131,\"Metrob\\xc3\\xbas\",\"L2\",\"S\\xc3\\xa1bado\",\"09-01-2021\",NA,NA,90413\\n\"113\",16132,\"Metrob\\xc3\\xbas\",\"L3\",\"S\\xc3\\xa1bado\",\"09-01-2021\",NA,NA,90515\\n\"114\",16133,\"Metrob\\xc3\\xbas\",\"L4\",\"S\\xc3\\xa1bado\",\"09-01-2021\",NA,NA,50118\\n\"115\",16134,\"Metrob\\xc3\\xbas\",\"L5\",\"S\\xc3\\xa1bado\",\"09-01-2021\",NA,NA,89692\\n\"116\",16135,\"Metrob\\xc3\\xbas\",\"L6\",\"S\\xc3\\xa1bado\",\"09-01-2021\",NA,NA,94860\\n\"117\",16136,\"Metrob\\xc3\\xbas\",\"L7\",\"S\\xc3\\xa1bado\",\"09-01-2021\",NA,NA,63746\\n\"118\",16137,\"Metrob\\xc3\\xbas\",\"L1\",\"Domingo\",\"10-01-2021\",NA,NA,132867\\n\"119\",16138,\"Metrob\\xc3\\xbas\",\"L2\",\"Domingo\",\"10-01-2021\",NA,NA,60405\\n\"120\",16139,\"Metrob\\xc3\\xbas\",\"L3\",\"Domingo\",\"10-01-2021\",NA,NA,55996\\n\"121\",16140,\"Metrob\\xc3\\xbas\",\"L4\",\"Domingo\",\"10-01-2021\",NA,NA,23962\\n\"122\",16141,\"Metrob\\xc3\\xbas\",\"L5\",\"Domingo\",\"10-01-2021\",NA,NA,66571\\n\"123\",16142,\"Metrob\\xc3\\xbas\",\"L6\",\"Domingo\",\"10-01-2021\",NA,NA,62175\\n\"124\",16143,\"Metrob\\xc3\\xbas\",\"L7\",\"Domingo\",\"10-01-2021\",NA,NA,45397\\n\"125\",16144,\"Metrob\\xc3\\xbas\",\"L1\",\"Lunes\",\"11-01-2021\",NA,NA,315267\\n\"126\",16145,\"Metrob\\xc3\\xbas\",\"L2\",\"Lunes\",\"11-01-2021\",NA,NA,114761\\n\"127\",16146,\"Metrob\\xc3\\xbas\",\"L3\",\"Lunes\",\"11-01-2021\",NA,NA,116712\\n\"128\",16147,\"Metrob\\xc3\\xbas\",\"L4\",\"Lunes\",\"11-01-2021\",NA,NA,51632\\n\"129\",16148,\"Metrob\\xc3\\xbas\",\"L5\",\"Lunes\",\"11-01-2021\",NA,NA,114353\\n\"130\",16149,\"Metrob\\xc3\\xbas\",\"L6\",\"Lunes\",\"11-01-2021\",NA,NA,137151\\n\"131\",16150,\"Metrob\\xc3\\xbas\",\"L7\",\"Lunes\",\"11-01-2021\",NA,NA,89713\\n\"132\",16151,\"Metrob\\xc3\\xbas\",\"L1\",\"Martes\",\"12-01-2021\",NA,NA,291631\\n\"133\",16152,\"Metrob\\xc3\\xbas\",\"L2\",\"Martes\",\"12-01-2021\",NA,NA,110024\\n\"134\",16153,\"Metrob\\xc3\\xbas\",\"L3\",\"Martes\",\"12-01-2021\",NA,NA,103421\\n\"135\",16154,\"Metrob\\xc3\\xbas\",\"L4\",\"Martes\",\"12-01-2021\",NA,NA,50091\\n\"136\",16155,\"Metrob\\xc3\\xbas\",\"L5\",\"Martes\",\"12-01-2021\",NA,NA,109353\\n\"137\",16156,\"Metrob\\xc3\\xbas\",\"L6\",\"Martes\",\"12-01-2021\",NA,NA,102804\\n\"138\",16157,\"Metrob\\xc3\\xbas\",\"L7\",\"Martes\",\"12-01-2021\",NA,NA,90940\\n\"139\",16158,\"Metrob\\xc3\\xbas\",\"L1\",\"M\\xc3\\xadercoles\",\"13-01-2021\",NA,NA,292941\\n\"140\",16159,\"Metrob\\xc3\\xbas\",\"L2\",\"M\\xc3\\xadercoles\",\"13-01-2021\",NA,NA,106917\\n\"141\",16160,\"Metrob\\xc3\\xbas\",\"L3\",\"M\\xc3\\xadercoles\",\"13-01-2021\",NA,NA,104296\\n\"142\",16161,\"Metrob\\xc3\\xbas\",\"L4\",\"M\\xc3\\xadercoles\",\"13-01-2021\",NA,NA,54048\\n\"143\",16162,\"Metrob\\xc3\\xbas\",\"L5\",\"M\\xc3\\xadercoles\",\"13-01-2021\",NA,NA,99498\\n\"144\",16163,\"Metrob\\xc3\\xbas\",\"L6\",\"M\\xc3\\xadercoles\",\"13-01-2021\",NA,NA,100295\\n\"145\",16164,\"Metrob\\xc3\\xbas\",\"L7\",\"M\\xc3\\xadercoles\",\"13-01-2021\",NA,NA,92280\\n\"146\",16165,\"Metrob\\xc3\\xbas\",\"L1\",\"Jueves\",\"14-01-2021\",NA,NA,294488\\n\"147\",16166,\"Metrob\\xc3\\xbas\",\"L2\",\"Jueves\",\"14-01-2021\",NA,NA,106796\\n\"148\",16167,\"Metrob\\xc3\\xbas\",\"L3\",\"Jueves\",\"14-01-2021\",NA,NA,106209\\n\"149\",16168,\"Metrob\\xc3\\xbas\",\"L4\",\"Jueves\",\"14-01-2021\",NA,NA,52297\\n\"150\",16169,\"Metrob\\xc3\\xbas\",\"L5\",\"Jueves\",\"14-01-2021\",NA,NA,102600\\n\"151\",16170,\"Metrob\\xc3\\xbas\",\"L6\",\"Jueves\",\"14-01-2021\",NA,NA,102692\\n\"152\",16171,\"Metrob\\xc3\\xbas\",\"L7\",\"Jueves\",\"14-01-2021\",NA,NA,91146\\n\"153\",16172,\"Metrob\\xc3\\xbas\",\"L1\",\"Viernes\",\"15-01-2021\",NA,NA,316154\\n\"154\",16173,\"Metrob\\xc3\\xbas\",\"L2\",\"Viernes\",\"15-01-2021\",NA,NA,115320\\n\"155\",16174,\"Metrob\\xc3\\xbas\",\"L3\",\"Viernes\",\"15-01-2021\",NA,NA,113706\\n\"156\",16175,\"Metrob\\xc3\\xbas\",\"L4\",\"Viernes\",\"15-01-2021\",NA,NA,52017\\n\"157\",16176,\"Metrob\\xc3\\xbas\",\"L5\",\"Viernes\",\"15-01-2021\",NA,NA,111038\\n\"158\",16177,\"Metrob\\xc3\\xbas\",\"L6\",\"Viernes\",\"15-01-2021\",NA,NA,104723\\n\"159\",16178,\"Metrob\\xc3\\xbas\",\"L7\",\"Viernes\",\"15-01-2021\",NA,NA,91020\\n\"160\",16179,\"Metrob\\xc3\\xbas\",\"L1\",\"S\\xc3\\xa1bado\",\"16-01-2021\",NA,NA,210654\\n\"161\",16180,\"Metrob\\xc3\\xbas\",\"L2\",\"S\\xc3\\xa1bado\",\"16-01-2021\",NA,NA,86506\\n\"162\",16181,\"Metrob\\xc3\\xbas\",\"L3\",\"S\\xc3\\xa1bado\",\"16-01-2021\",NA,NA,91025\\n\"163\",16182,\"Metrob\\xc3\\xbas\",\"L4\",\"S\\xc3\\xa1bado\",\"16-01-2021\",NA,NA,54648\\n\"164\",16183,\"Metrob\\xc3\\xbas\",\"L5\",\"S\\xc3\\xa1bado\",\"16-01-2021\",NA,NA,86138\\n\"165\",16184,\"Metrob\\xc3\\xbas\",\"L6\",\"S\\xc3\\xa1bado\",\"16-01-2021\",NA,NA,78366\\n\"166\",16185,\"Metrob\\xc3\\xbas\",\"L7\",\"S\\xc3\\xa1bado\",\"16-01-2021\",NA,NA,88980\\n\"167\",16186,\"Metrob\\xc3\\xbas\",\"L1\",\"Domingo\",\"17-01-2021\",NA,NA,123820\\n\"168\",16187,\"Metrob\\xc3\\xbas\",\"L2\",\"Domingo\",\"17-01-2021\",NA,NA,51753\\n\"169\",16188,\"Metrob\\xc3\\xbas\",\"L3\",\"Domingo\",\"17-01-2021\",NA,NA,61081\\n\"170\",16189,\"Metrob\\xc3\\xbas\",\"L4\",\"Domingo\",\"17-01-2021\",NA,NA,23175\\n\"171\",16190,\"Metrob\\xc3\\xbas\",\"L5\",\"Domingo\",\"17-01-2021\",NA,NA,66461\\n\"172\",16191,\"Metrob\\xc3\\xbas\",\"L6\",\"Domingo\",\"17-01-2021\",NA,NA,53820\\n\"173\",16192,\"Metrob\\xc3\\xbas\",\"L7\",\"Domingo\",\"17-01-2021\",NA,NA,36206\\n\"174\",16193,\"Metrob\\xc3\\xbas\",\"L1\",\"Lunes\",\"18-01-2021\",NA,NA,310995\\n\"175\",16194,\"Metrob\\xc3\\xbas\",\"L2\",\"Lunes\",\"18-01-2021\",NA,NA,112401\\n\"176\",16195,\"Metrob\\xc3\\xbas\",\"L3\",\"Lunes\",\"18-01-2021\",NA,NA,120676\\n\"177\",16196,\"Metrob\\xc3\\xbas\",\"L4\",\"Lunes\",\"18-01-2021\",NA,NA,57161\\n\"178\",16197,\"Metrob\\xc3\\xbas\",\"L5\",\"Lunes\",\"18-01-2021\",NA,NA,101910\\n\"179\",16198,\"Metrob\\xc3\\xbas\",\"L6\",\"Lunes\",\"18-01-2021\",NA,NA,104240\\n\"180\",16199,\"Metrob\\xc3\\xbas\",\"L7\",\"Lunes\",\"18-01-2021\",NA,NA,100770\\n\"181\",16200,\"Metrob\\xc3\\xbas\",\"L1\",\"Martes\",\"19-01-2021\",NA,NA,300735\\n\"182\",16201,\"Metrob\\xc3\\xbas\",\"L2\",\"Martes\",\"19-01-2021\",NA,NA,112179\\n\"183\",16202,\"Metrob\\xc3\\xbas\",\"L3\",\"Martes\",\"19-01-2021\",NA,NA,121512\\n\"184\",16203,\"Metrob\\xc3\\xbas\",\"L4\",\"Martes\",\"19-01-2021\",NA,NA,56475\\n\"185\",16204,\"Metrob\\xc3\\xbas\",\"L5\",\"Martes\",\"19-01-2021\",NA,NA,106106\\n\"186\",16205,\"Metrob\\xc3\\xbas\",\"L6\",\"Martes\",\"19-01-2021\",NA,NA,100657\\n\"187\",16206,\"Metrob\\xc3\\xbas\",\"L7\",\"Martes\",\"19-01-2021\",NA,NA,91306\\n\"188\",16207,\"Metrob\\xc3\\xbas\",\"L1\",\"M\\xc3\\xadercoles\",\"20-01-2021\",NA,NA,303257\\n\"189\",16208,\"Metrob\\xc3\\xbas\",\"L2\",\"M\\xc3\\xadercoles\",\"20-01-2021\",NA,NA,111786\\n\"190\",16209,\"Metrob\\xc3\\xbas\",\"L3\",\"M\\xc3\\xadercoles\",\"20-01-2021\",NA,NA,123067\\n\"191\",16210,\"Metrob\\xc3\\xbas\",\"L4\",\"M\\xc3\\xadercoles\",\"20-01-2021\",NA,NA,53768\\n\"192\",16211,\"Metrob\\xc3\\xbas\",\"L5\",\"M\\xc3\\xadercoles\",\"20-01-2021\",NA,NA,107764\\n\"193\",16212,\"Metrob\\xc3\\xbas\",\"L6\",\"M\\xc3\\xadercoles\",\"20-01-2021\",NA,NA,102740\\n\"194\",16213,\"Metrob\\xc3\\xbas\",\"L7\",\"M\\xc3\\xadercoles\",\"20-01-2021\",NA,NA,94688\\n\"195\",16214,\"Metrob\\xc3\\xbas\",\"L1\",\"Jueves\",\"21-01-2021\",NA,NA,296957\\n\"196\",16215,\"Metrob\\xc3\\xbas\",\"L2\",\"Jueves\",\"21-01-2021\",NA,NA,111095\\n\"197\",16216,\"Metrob\\xc3\\xbas\",\"L3\",\"Jueves\",\"21-01-2021\",NA,NA,110125\\n\"198\",16217,\"Metrob\\xc3\\xbas\",\"L4\",\"Jueves\",\"21-01-2021\",NA,NA,55318\\n\"199\",16218,\"Metrob\\xc3\\xbas\",\"L5\",\"Jueves\",\"21-01-2021\",NA,NA,97821\\n\"200\",16219,\"Metrob\\xc3\\xbas\",\"L6\",\"Jueves\",\"21-01-2021\",NA,NA,103980\\n\"201\",16220,\"Metrob\\xc3\\xbas\",\"L7\",\"Jueves\",\"21-01-2021\",NA,NA,88597\\n\"202\",16221,\"Metrob\\xc3\\xbas\",\"L1\",\"Viernes\",\"22-01-2021\",NA,NA,321241\\n\"203\",16222,\"Metrob\\xc3\\xbas\",\"L2\",\"Viernes\",\"22-01-2021\",NA,NA,112261\\n\"204\",16223,\"Metrob\\xc3\\xbas\",\"L3\",\"Viernes\",\"22-01-2021\",NA,NA,112124\\n\"205\",16224,\"Metrob\\xc3\\xbas\",\"L4\",\"Viernes\",\"22-01-2021\",NA,NA,55681\\n\"206\",16225,\"Metrob\\xc3\\xbas\",\"L5\",\"Viernes\",\"22-01-2021\",NA,NA,110089\\n\"207\",16226,\"Metrob\\xc3\\xbas\",\"L6\",\"Viernes\",\"22-01-2021\",NA,NA,96795\\n\"208\",16227,\"Metrob\\xc3\\xbas\",\"L7\",\"Viernes\",\"22-01-2021\",NA,NA,92824\\n\"209\",16228,\"Metrob\\xc3\\xbas\",\"L1\",\"S\\xc3\\xa1bado\",\"23-01-2021\",NA,NA,204295\\n\"210\",16229,\"Metrob\\xc3\\xbas\",\"L2\",\"S\\xc3\\xa1bado\",\"23-01-2021\",NA,NA,85678\\n\"211\",16230,\"Metrob\\xc3\\xbas\",\"L3\",\"S\\xc3\\xa1bado\",\"23-01-2021\",NA,NA,85846\\n\"212\",16231,\"Metrob\\xc3\\xbas\",\"L4\",\"S\\xc3\\xa1bado\",\"23-01-2021\",NA,NA,53700\\n\"213\",16232,\"Metrob\\xc3\\xbas\",\"L5\",\"S\\xc3\\xa1bado\",\"23-01-2021\",NA,NA,86132\\n\"214\",16233,\"Metrob\\xc3\\xbas\",\"L6\",\"S\\xc3\\xa1bado\",\"23-01-2021\",NA,NA,79074\\n\"215\",16234,\"Metrob\\xc3\\xbas\",\"L7\",\"S\\xc3\\xa1bado\",\"23-01-2021\",NA,NA,80541\\n\"216\",16235,\"Metrob\\xc3\\xbas\",\"L1\",\"Domingo\",\"24-01-2021\",NA,NA,129109\\n\"217\",16236,\"Metrob\\xc3\\xbas\",\"L2\",\"Domingo\",\"24-01-2021\",NA,NA,51886\\n\"218\",16237,\"Metrob\\xc3\\xbas\",\"L3\",\"Domingo\",\"24-01-2021\",NA,NA,51963\\n\"219\",16238,\"Metrob\\xc3\\xbas\",\"L4\",\"Domingo\",\"24-01-2021\",NA,NA,24361\\n\"220\",16239,\"Metrob\\xc3\\xbas\",\"L5\",\"Domingo\",\"24-01-2021\",NA,NA,61990\\n\"221\",16240,\"Metrob\\xc3\\xbas\",\"L6\",\"Domingo\",\"24-01-2021\",NA,NA,50549\\n\"222\",16241,\"Metrob\\xc3\\xbas\",\"L7\",\"Domingo\",\"24-01-2021\",NA,NA,42111\\n\"223\",16242,\"Metrob\\xc3\\xbas\",\"L1\",\"Lunes\",\"25-01-2021\",NA,NA,297900\\n\"224\",16243,\"Metrob\\xc3\\xbas\",\"L2\",\"Lunes\",\"25-01-2021\",NA,NA,106618\\n\"225\",16244,\"Metrob\\xc3\\xbas\",\"L3\",\"Lunes\",\"25-01-2021\",NA,NA,108120\\n\"226\",16245,\"Metrob\\xc3\\xbas\",\"L4\",\"Lunes\",\"25-01-2021\",NA,NA,47005\\n\"227\",16246,\"Metrob\\xc3\\xbas\",\"L5\",\"Lunes\",\"25-01-2021\",NA,NA,100716\\n\"228\",16247,\"Metrob\\xc3\\xbas\",\"L6\",\"Lunes\",\"25-01-2021\",NA,NA,102669\\n\"229\",16248,\"Metrob\\xc3\\xbas\",\"L7\",\"Lunes\",\"25-01-2021\",NA,NA,74440\\n\"230\",16249,\"Metrob\\xc3\\xbas\",\"L1\",\"Martes\",\"26-01-2021\",NA,NA,286006\\n\"231\",16250,\"Metrob\\xc3\\xbas\",\"L2\",\"Martes\",\"26-01-2021\",NA,NA,107517\\n\"232\",16251,\"Metrob\\xc3\\xbas\",\"L3\",\"Martes\",\"26-01-2021\",NA,NA,107220\\n\"233\",16252,\"Metrob\\xc3\\xbas\",\"L4\",\"Martes\",\"26-01-2021\",NA,NA,45494\\n\"234\",16253,\"Metrob\\xc3\\xbas\",\"L5\",\"Martes\",\"26-01-2021\",NA,NA,103522\\n\"235\",16254,\"Metrob\\xc3\\xbas\",\"L6\",\"Martes\",\"26-01-2021\",NA,NA,99682\\n\"236\",16255,\"Metrob\\xc3\\xbas\",\"L7\",\"Martes\",\"26-01-2021\",NA,NA,78714\\n\"237\",16256,\"Metrob\\xc3\\xbas\",\"L1\",\"M\\xc3\\xadercoles\",\"27-01-2021\",NA,NA,288228\\n\"238\",16257,\"Metrob\\xc3\\xbas\",\"L2\",\"M\\xc3\\xadercoles\",\"27-01-2021\",NA,NA,105009\\n\"239\",16258,\"Metrob\\xc3\\xbas\",\"L3\",\"M\\xc3\\xadercoles\",\"27-01-2021\",NA,NA,110115\\n\"240\",16259,\"Metrob\\xc3\\xbas\",\"L4\",\"M\\xc3\\xadercoles\",\"27-01-2021\",NA,NA,44962\\n\"241\",16260,\"Metrob\\xc3\\xbas\",\"L5\",\"M\\xc3\\xadercoles\",\"27-01-2021\",NA,NA,104893\\n\"242\",16261,\"Metrob\\xc3\\xbas\",\"L6\",\"M\\xc3\\xadercoles\",\"27-01-2021\",NA,NA,99344\\n\"243\",16262,\"Metrob\\xc3\\xbas\",\"L7\",\"M\\xc3\\xadercoles\",\"27-01-2021\",NA,NA,83726\\n\"244\",16263,\"Metrob\\xc3\\xbas\",\"L1\",\"Jueves\",\"28-01-2021\",NA,NA,291065\\n\"245\",16264,\"Metrob\\xc3\\xbas\",\"L2\",\"Jueves\",\"28-01-2021\",NA,NA,107104\\n\"246\",16265,\"Metrob\\xc3\\xbas\",\"L3\",\"Jueves\",\"28-01-2021\",NA,NA,108894\\n\"247\",16266,\"Metrob\\xc3\\xbas\",\"L4\",\"Jueves\",\"28-01-2021\",NA,NA,42359\\n\"248\",16267,\"Metrob\\xc3\\xbas\",\"L5\",\"Jueves\",\"28-01-2021\",NA,NA,103453\\n\"249\",16268,\"Metrob\\xc3\\xbas\",\"L6\",\"Jueves\",\"28-01-2021\",NA,NA,99566\\n\"250\",16269,\"Metrob\\xc3\\xbas\",\"L7\",\"Jueves\",\"28-01-2021\",NA,NA,83535\\n\"251\",16270,\"Metrob\\xc3\\xbas\",\"L1\",\"Viernes\",\"29-01-2021\",NA,NA,306636\\n\"252\",16271,\"Metrob\\xc3\\xbas\",\"L2\",\"Viernes\",\"29-01-2021\",NA,NA,106673\\n\"253\",16272,\"Metrob\\xc3\\xbas\",\"L3\",\"Viernes\",\"29-01-2021\",NA,NA,114668\\n\"254\",16273,\"Metrob\\xc3\\xbas\",\"L4\",\"Viernes\",\"29-01-2021\",NA,NA,48955\\n\"255\",16274,\"Metrob\\xc3\\xbas\",\"L5\",\"Viernes\",\"29-01-2021\",NA,NA,104488\\n\"256\",16275,\"Metrob\\xc3\\xbas\",\"L6\",\"Viernes\",\"29-01-2021\",NA,NA,101944\\n\"257\",16276,\"Metrob\\xc3\\xbas\",\"L7\",\"Viernes\",\"29-01-2021\",NA,NA,84104\\n\"258\",16277,\"Metrob\\xc3\\xbas\",\"L1\",\"S\\xc3\\xa1bado\",\"30-01-2021\",NA,NA,213393\\n\"259\",16278,\"Metrob\\xc3\\xbas\",\"L2\",\"S\\xc3\\xa1bado\",\"30-01-2021\",NA,NA,80809\\n\"260\",16279,\"Metrob\\xc3\\xbas\",\"L3\",\"S\\xc3\\xa1bado\",\"30-01-2021\",NA,NA,88966\\n\"261\",16280,\"Metrob\\xc3\\xbas\",\"L4\",\"S\\xc3\\xa1bado\",\"30-01-2021\",NA,NA,47755\\n\"262\",16281,\"Metrob\\xc3\\xbas\",\"L5\",\"S\\xc3\\xa1bado\",\"30-01-2021\",NA,NA,87867\\n\"263\",16282,\"Metrob\\xc3\\xbas\",\"L6\",\"S\\xc3\\xa1bado\",\"30-01-2021\",NA,NA,81228\\n\"264\",16283,\"Metrob\\xc3\\xbas\",\"L7\",\"S\\xc3\\xa1bado\",\"30-01-2021\",NA,NA,73904\\n\"265\",16284,\"Metrob\\xc3\\xbas\",\"L1\",\"Domingo\",\"31-01-2021\",NA,NA,129932\\n\"266\",16285,\"Metrob\\xc3\\xbas\",\"L2\",\"Domingo\",\"31-01-2021\",NA,NA,50802\\n\"267\",16286,\"Metrob\\xc3\\xbas\",\"L3\",\"Domingo\",\"31-01-2021\",NA,NA,52098\\n\"268\",16287,\"Metrob\\xc3\\xbas\",\"L4\",\"Domingo\",\"31-01-2021\",NA,NA,21090\\n\"269\",16288,\"Metrob\\xc3\\xbas\",\"L5\",\"Domingo\",\"31-01-2021\",NA,NA,61365\\n\"270\",16289,\"Metrob\\xc3\\xbas\",\"L6\",\"Domingo\",\"31-01-2021\",NA,NA,46948\\n\"271\",16290,\"Metrob\\xc3\\xbas\",\"L7\",\"Domingo\",\"31-01-2021\",NA,NA,38361\\n\"272\",16291,\"Metrob\\xc3\\xbas\",\"L1\",\"Lunes\",\"01-02-2021\",NA,NA,133784\\n\"273\",16292,\"Metrob\\xc3\\xbas\",\"L2\",\"Lunes\",\"01-02-2021\",NA,NA,64027\\n\"274\",16293,\"Metrob\\xc3\\xbas\",\"L3\",\"Lunes\",\"01-02-2021\",NA,NA,55995\\n\"275\",16294,\"Metrob\\xc3\\xbas\",\"L4\",\"Lunes\",\"01-02-2021\",NA,NA,35809\\n\"276\",16295,\"Metrob\\xc3\\xbas\",\"L5\",\"Lunes\",\"01-02-2021\",NA,NA,77019\\n\"277\",16296,\"Metrob\\xc3\\xbas\",\"L6\",\"Lunes\",\"01-02-2021\",NA,NA,64250\\n\"278\",16297,\"Metrob\\xc3\\xbas\",\"L7\",\"Lunes\",\"01-02-2021\",NA,NA,39891\\n\"279\",16298,\"Metrob\\xc3\\xbas\",\"L1\",\"Martes\",\"02-02-2021\",NA,NA,248422\\n\"280\",16299,\"Metrob\\xc3\\xbas\",\"L2\",\"Martes\",\"02-02-2021\",NA,NA,105611\\n\"281\",16300,\"Metrob\\xc3\\xbas\",\"L3\",\"Martes\",\"02-02-2021\",NA,NA,91220\\n\"282\",16301,\"Metrob\\xc3\\xbas\",\"L4\",\"Martes\",\"02-02-2021\",NA,NA,44681\\n\"283\",16302,\"Metrob\\xc3\\xbas\",\"L5\",\"Martes\",\"02-02-2021\",NA,NA,106028\\n\"284\",16303,\"Metrob\\xc3\\xbas\",\"L6\",\"Martes\",\"02-02-2021\",NA,NA,100312\\n\"285\",16304,\"Metrob\\xc3\\xbas\",\"L7\",\"Martes\",\"02-02-2021\",NA,NA,73934\\n\"286\",16305,\"Metrob\\xc3\\xbas\",\"L1\",\"M\\xc3\\xadercoles\",\"03-02-2021\",NA,NA,237261\\n\"287\",16306,\"Metrob\\xc3\\xbas\",\"L2\",\"M\\xc3\\xadercoles\",\"03-02-2021\",NA,NA,103805\\n\"288\",16307,\"Metrob\\xc3\\xbas\",\"L3\",\"M\\xc3\\xadercoles\",\"03-02-2021\",NA,NA,90224\\n\"289\",16308,\"Metrob\\xc3\\xbas\",\"L4\",\"M\\xc3\\xadercoles\",\"03-02-2021\",NA,NA,42285\\n\"290\",16309,\"Metrob\\xc3\\xbas\",\"L5\",\"M\\xc3\\xadercoles\",\"03-02-2021\",NA,NA,104997\\n\"291\",16310,\"Metrob\\xc3\\xbas\",\"L6\",\"M\\xc3\\xadercoles\",\"03-02-2021\",NA,NA,99647\\n\"292\",16311,\"Metrob\\xc3\\xbas\",\"L7\",\"M\\xc3\\xadercoles\",\"03-02-2021\",NA,NA,67486\\n\"293\",16312,\"Metrob\\xc3\\xbas\",\"L1\",\"Jueves\",\"04-02-2021\",NA,NA,242377\\n\"294\",16313,\"Metrob\\xc3\\xbas\",\"L2\",\"Jueves\",\"04-02-2021\",NA,NA,102488\\n\"295\",16314,\"Metrob\\xc3\\xbas\",\"L3\",\"Jueves\",\"04-02-2021\",NA,NA,93800\\n\"296\",16315,\"Metrob\\xc3\\xbas\",\"L4\",\"Jueves\",\"04-02-2021\",NA,NA,38150\\n\"297\",16316,\"Metrob\\xc3\\xbas\",\"L5\",\"Jueves\",\"04-02-2021\",NA,NA,99818\\n\"298\",16317,\"Metrob\\xc3\\xbas\",\"L6\",\"Jueves\",\"04-02-2021\",NA,NA,98325\\n\"299\",16318,\"Metrob\\xc3\\xbas\",\"L7\",\"Jueves\",\"04-02-2021\",NA,NA,70492\\n\"300\",16319,\"Metrob\\xc3\\xbas\",\"L1\",\"Viernes\",\"05-02-2021\",NA,NA,237577\\n\"301\",16320,\"Metrob\\xc3\\xbas\",\"L2\",\"Viernes\",\"05-02-2021\",NA,NA,101969\\n\"302\",16321,\"Metrob\\xc3\\xbas\",\"L3\",\"Viernes\",\"05-02-2021\",NA,NA,90821\\n\"303\",16322,\"Metrob\\xc3\\xbas\",\"L4\",\"Viernes\",\"05-02-2021\",NA,NA,49985\\n\"304\",16323,\"Metrob\\xc3\\xbas\",\"L5\",\"Viernes\",\"05-02-2021\",NA,NA,104538\\n\"305\",16324,\"Metrob\\xc3\\xbas\",\"L6\",\"Viernes\",\"05-02-2021\",NA,NA,98736\\n\"306\",16325,\"Metrob\\xc3\\xbas\",\"L7\",\"Viernes\",\"05-02-2021\",NA,NA,64760\\n\"307\",16326,\"Metrob\\xc3\\xbas\",\"L1\",\"S\\xc3\\xa1bado\",\"06-02-2021\",NA,NA,163656\\n\"308\",16327,\"Metrob\\xc3\\xbas\",\"L2\",\"S\\xc3\\xa1bado\",\"06-02-2021\",NA,NA,78672\\n\"309\",16328,\"Metrob\\xc3\\xbas\",\"L3\",\"S\\xc3\\xa1bado\",\"06-02-2021\",NA,NA,70673\\n\"310\",16329,\"Metrob\\xc3\\xbas\",\"L4\",\"S\\xc3\\xa1bado\",\"06-02-2021\",NA,NA,45497\\n\"311\",16330,\"Metrob\\xc3\\xbas\",\"L5\",\"S\\xc3\\xa1bado\",\"06-02-2021\",NA,NA,87488\\n\"312\",16331,\"Metrob\\xc3\\xbas\",\"L6\",\"S\\xc3\\xa1bado\",\"06-02-2021\",NA,NA,76822\\n\"313\",16332,\"Metrob\\xc3\\xbas\",\"L7\",\"S\\xc3\\xa1bado\",\"06-02-2021\",NA,NA,56679\\n\"314\",16333,\"Metrob\\xc3\\xbas\",\"L1\",\"Domingo\",\"07-02-2021\",NA,NA,95075\\n\"315\",16334,\"Metrob\\xc3\\xbas\",\"L2\",\"Domingo\",\"07-02-2021\",NA,NA,49380\\n\"316\",16335,\"Metrob\\xc3\\xbas\",\"L3\",\"Domingo\",\"07-02-2021\",NA,NA,42373\\n\"317\",16336,\"Metrob\\xc3\\xbas\",\"L4\",\"Domingo\",\"07-02-2021\",NA,NA,18418\\n\"318\",16337,\"Metrob\\xc3\\xbas\",\"L5\",\"Domingo\",\"07-02-2021\",NA,NA,64632\\n\"319\",16338,\"Metrob\\xc3\\xbas\",\"L6\",\"Domingo\",\"07-02-2021\",NA,NA,50376\\n\"320\",16339,\"Metrob\\xc3\\xbas\",\"L7\",\"Domingo\",\"07-02-2021\",NA,NA,30631\\n\"321\",16340,\"Metrob\\xc3\\xbas\",\"L1\",\"Lunes\",\"08-02-2021\",NA,NA,219090\\n\"322\",16341,\"Metrob\\xc3\\xbas\",\"L2\",\"Lunes\",\"08-02-2021\",NA,NA,98442\\n\"323\",16342,\"Metrob\\xc3\\xbas\",\"L3\",\"Lunes\",\"08-02-2021\",NA,NA,84811\\n\"324\",16343,\"Metrob\\xc3\\xbas\",\"L4\",\"Lunes\",\"08-02-2021\",NA,NA,41412\\n\"325\",16344,\"Metrob\\xc3\\xbas\",\"L5\",\"Lunes\",\"08-02-2021\",NA,NA,100744\\n\"326\",16345,\"Metrob\\xc3\\xbas\",\"L6\",\"Lunes\",\"08-02-2021\",NA,NA,95666\\n\"327\",16346,\"Metrob\\xc3\\xbas\",\"L7\",\"Lunes\",\"08-02-2021\",NA,NA,68265\\n\"328\",16347,\"Metrob\\xc3\\xbas\",\"L1\",\"Martes\",\"09-02-2021\",NA,NA,219693\\n\"329\",16348,\"Metrob\\xc3\\xbas\",\"L2\",\"Martes\",\"09-02-2021\",NA,NA,98093\\n\"330\",16349,\"Metrob\\xc3\\xbas\",\"L3\",\"Martes\",\"09-02-2021\",NA,NA,88605\\n\"331\",16350,\"Metrob\\xc3\\xbas\",\"L4\",\"Martes\",\"09-02-2021\",NA,NA,41712\\n\"332\",16351,\"Metrob\\xc3\\xbas\",\"L5\",\"Martes\",\"09-02-2021\",NA,NA,101903\\n\"333\",16352,\"Metrob\\xc3\\xbas\",\"L6\",\"Martes\",\"09-02-2021\",NA,NA,98748\\n\"334\",16353,\"Metrob\\xc3\\xbas\",\"L7\",\"Martes\",\"09-02-2021\",NA,NA,68621\\n\"335\",16354,\"Metrob\\xc3\\xbas\",\"L1\",\"M\\xc3\\xadercoles\",\"10-02-2021\",NA,NA,234856\\n\"336\",16355,\"Metrob\\xc3\\xbas\",\"L2\",\"M\\xc3\\xadercoles\",\"10-02-2021\",NA,NA,100261\\n\"337\",16356,\"Metrob\\xc3\\xbas\",\"L3\",\"M\\xc3\\xadercoles\",\"10-02-2021\",NA,NA,90238\\n\"338\",16357,\"Metrob\\xc3\\xbas\",\"L4\",\"M\\xc3\\xadercoles\",\"10-02-2021\",NA,NA,43978\\n\"339\",16358,\"Metrob\\xc3\\xbas\",\"L5\",\"M\\xc3\\xadercoles\",\"10-02-2021\",NA,NA,104955\\n\"340\",16359,\"Metrob\\xc3\\xbas\",\"L6\",\"M\\xc3\\xadercoles\",\"10-02-2021\",NA,NA,99695\\n\"341\",16360,\"Metrob\\xc3\\xbas\",\"L7\",\"M\\xc3\\xadercoles\",\"10-02-2021\",NA,NA,73775\\n\"342\",16361,\"Metrob\\xc3\\xbas\",\"L1\",\"Jueves\",\"11-02-2021\",NA,NA,222935\\n\"343\",16362,\"Metrob\\xc3\\xbas\",\"L2\",\"Jueves\",\"11-02-2021\",NA,NA,98588\\n\"344\",16363,\"Metrob\\xc3\\xbas\",\"L3\",\"Jueves\",\"11-02-2021\",NA,NA,87601\\n\"345\",16364,\"Metrob\\xc3\\xbas\",\"L4\",\"Jueves\",\"11-02-2021\",NA,NA,41556\\n\"346\",16365,\"Metrob\\xc3\\xbas\",\"L5\",\"Jueves\",\"11-02-2021\",NA,NA,103515\\n\"347\",16366,\"Metrob\\xc3\\xbas\",\"L6\",\"Jueves\",\"11-02-2021\",NA,NA,98481\\n\"348\",16367,\"Metrob\\xc3\\xbas\",\"L7\",\"Jueves\",\"11-02-2021\",NA,NA,66861\\n\"349\",16368,\"Metrob\\xc3\\xbas\",\"L1\",\"Viernes\",\"12-02-2021\",NA,NA,228853\\n\"350\",16369,\"Metrob\\xc3\\xbas\",\"L2\",\"Viernes\",\"12-02-2021\",NA,NA,102371\\n\"351\",16370,\"Metrob\\xc3\\xbas\",\"L3\",\"Viernes\",\"12-02-2021\",NA,NA,91491\\n\"352\",16371,\"Metrob\\xc3\\xbas\",\"L4\",\"Viernes\",\"12-02-2021\",NA,NA,50706\\n\"353\",16372,\"Metrob\\xc3\\xbas\",\"L5\",\"Viernes\",\"12-02-2021\",NA,NA,108186\\n\"354\",16373,\"Metrob\\xc3\\xbas\",\"L6\",\"Viernes\",\"12-02-2021\",NA,NA,105404\\n\"355\",16374,\"Metrob\\xc3\\xbas\",\"L7\",\"Viernes\",\"12-02-2021\",NA,NA,80995\\n\"356\",16375,\"Metrob\\xc3\\xbas\",\"L1\",\"S\\xc3\\xa1bado\",\"13-02-2021\",NA,NA,161164\\n\"357\",16376,\"Metrob\\xc3\\xbas\",\"L2\",\"S\\xc3\\xa1bado\",\"13-02-2021\",NA,NA,82098\\n\"358\",16377,\"Metrob\\xc3\\xbas\",\"L3\",\"S\\xc3\\xa1bado\",\"13-02-2021\",NA,NA,73100\\n\"359\",16378,\"Metrob\\xc3\\xbas\",\"L4\",\"S\\xc3\\xa1bado\",\"13-02-2021\",NA,NA,41000\\n\"360\",16379,\"Metrob\\xc3\\xbas\",\"L5\",\"S\\xc3\\xa1bado\",\"13-02-2021\",NA,NA,91143\\n\"361\",16380,\"Metrob\\xc3\\xbas\",\"L6\",\"S\\xc3\\xa1bado\",\"13-02-2021\",NA,NA,79973\\n\"362\",16381,\"Metrob\\xc3\\xbas\",\"L7\",\"S\\xc3\\xa1bado\",\"13-02-2021\",NA,NA,61327\\n\"363\",16382,\"Metrob\\xc3\\xbas\",\"L1\",\"Domingo\",\"14-02-2021\",NA,NA,97280\\n\"364\",16383,\"Metrob\\xc3\\xbas\",\"L2\",\"Domingo\",\"14-02-2021\",NA,NA,50951\\n\"365\",16384,\"Metrob\\xc3\\xbas\",\"L3\",\"Domingo\",\"14-02-2021\",NA,NA,48849\\n\"366\",16385,\"Metrob\\xc3\\xbas\",\"L4\",\"Domingo\",\"14-02-2021\",NA,NA,15049\\n\"367\",16386,\"Metrob\\xc3\\xbas\",\"L5\",\"Domingo\",\"14-02-2021\",NA,NA,64350\\n\"368\",16387,\"Metrob\\xc3\\xbas\",\"L6\",\"Domingo\",\"14-02-2021\",NA,NA,57020\\n\"369\",16388,\"Metrob\\xc3\\xbas\",\"L7\",\"Domingo\",\"14-02-2021\",NA,NA,34489\\n\"370\",16389,\"Metrob\\xc3\\xbas\",\"L1\",\"Lunes\",\"15-02-2021\",NA,NA,225622\\n\"371\",16390,\"Metrob\\xc3\\xbas\",\"L2\",\"Lunes\",\"15-02-2021\",NA,NA,98576\\n\"372\",16391,\"Metrob\\xc3\\xbas\",\"L3\",\"Lunes\",\"15-02-2021\",NA,NA,85484\\n\"373\",16392,\"Metrob\\xc3\\xbas\",\"L4\",\"Lunes\",\"15-02-2021\",NA,NA,42854\\n\"374\",16393,\"Metrob\\xc3\\xbas\",\"L5\",\"Lunes\",\"15-02-2021\",NA,NA,101997\\n\"375\",16394,\"Metrob\\xc3\\xbas\",\"L6\",\"Lunes\",\"15-02-2021\",NA,NA,101330\\n\"376\",16395,\"Metrob\\xc3\\xbas\",\"L7\",\"Lunes\",\"15-02-2021\",NA,NA,68876\\n\"377\",16396,\"Metrob\\xc3\\xbas\",\"L1\",\"Martes\",\"16-02-2021\",NA,NA,231010\\n\"378\",16397,\"Metrob\\xc3\\xbas\",\"L2\",\"Martes\",\"16-02-2021\",NA,NA,102008\\n\"379\",16398,\"Metrob\\xc3\\xbas\",\"L3\",\"Martes\",\"16-02-2021\",NA,NA,88123\\n\"380\",16399,\"Metrob\\xc3\\xbas\",\"L4\",\"Martes\",\"16-02-2021\",NA,NA,42935\\n\"381\",16400,\"Metrob\\xc3\\xbas\",\"L5\",\"Martes\",\"16-02-2021\",NA,NA,106205\\n\"382\",16401,\"Metrob\\xc3\\xbas\",\"L6\",\"Martes\",\"16-02-2021\",NA,NA,100192\\n\"383\",16402,\"Metrob\\xc3\\xbas\",\"L7\",\"Martes\",\"16-02-2021\",NA,NA,63799\\n\"384\",16403,\"Metrob\\xc3\\xbas\",\"L1\",\"M\\xc3\\xadercoles\",\"17-02-2021\",NA,NA,224763\\n\"385\",16404,\"Metrob\\xc3\\xbas\",\"L2\",\"M\\xc3\\xadercoles\",\"17-02-2021\",NA,NA,100624\\n\"386\",16405,\"Metrob\\xc3\\xbas\",\"L3\",\"M\\xc3\\xadercoles\",\"17-02-2021\",NA,NA,89520\\n\"387\",16406,\"Metrob\\xc3\\xbas\",\"L4\",\"M\\xc3\\xadercoles\",\"17-02-2021\",NA,NA,39773\\n\"388\",16407,\"Metrob\\xc3\\xbas\",\"L5\",\"M\\xc3\\xadercoles\",\"17-02-2021\",NA,NA,107579\\n\"389\",16408,\"Metrob\\xc3\\xbas\",\"L6\",\"M\\xc3\\xadercoles\",\"17-02-2021\",NA,NA,100865\\n\"390\",16409,\"Metrob\\xc3\\xbas\",\"L7\",\"M\\xc3\\xadercoles\",\"17-02-2021\",NA,NA,71470\\n\"391\",16410,\"Metrob\\xc3\\xbas\",\"L1\",\"Jueves\",\"18-02-2021\",NA,NA,224627\\n\"392\",16411,\"Metrob\\xc3\\xbas\",\"L2\",\"Jueves\",\"18-02-2021\",NA,NA,100080\\n\"393\",16412,\"Metrob\\xc3\\xbas\",\"L3\",\"Jueves\",\"18-02-2021\",NA,NA,88797\\n\"394\",16413,\"Metrob\\xc3\\xbas\",\"L4\",\"Jueves\",\"18-02-2021\",NA,NA,42423\\n\"395\",16414,\"Metrob\\xc3\\xbas\",\"L5\",\"Jueves\",\"18-02-2021\",NA,NA,103616\\n\"396\",16415,\"Metrob\\xc3\\xbas\",\"L6\",\"Jueves\",\"18-02-2021\",NA,NA,98643\\n\"397\",16416,\"Metrob\\xc3\\xbas\",\"L7\",\"Jueves\",\"18-02-2021\",NA,NA,70498\\n\"398\",16417,\"Metrob\\xc3\\xbas\",\"L1\",\"Viernes\",\"19-02-2021\",NA,NA,243236\\n\"399\",16418,\"Metrob\\xc3\\xbas\",\"L2\",\"Viernes\",\"19-02-2021\",NA,NA,105147\\n\"400\",16419,\"Metrob\\xc3\\xbas\",\"L3\",\"Viernes\",\"19-02-2021\",NA,NA,95956\\n\"401\",16420,\"Metrob\\xc3\\xbas\",\"L4\",\"Viernes\",\"19-02-2021\",NA,NA,45197\\n\"402\",16421,\"Metrob\\xc3\\xbas\",\"L5\",\"Viernes\",\"19-02-2021\",NA,NA,114562\\n\"403\",16422,\"Metrob\\xc3\\xbas\",\"L6\",\"Viernes\",\"19-02-2021\",NA,NA,102748\\n\"404\",16423,\"Metrob\\xc3\\xbas\",\"L7\",\"Viernes\",\"19-02-2021\",NA,NA,80081\\n\"405\",16424,\"Metrob\\xc3\\xbas\",\"L1\",\"S\\xc3\\xa1bado\",\"20-02-2021\",NA,NA,158866\\n\"406\",16425,\"Metrob\\xc3\\xbas\",\"L2\",\"S\\xc3\\xa1bado\",\"20-02-2021\",NA,NA,81110\\n\"407\",16426,\"Metrob\\xc3\\xbas\",\"L3\",\"S\\xc3\\xa1bado\",\"20-02-2021\",NA,NA,73884\\n\"408\",16427,\"Metrob\\xc3\\xbas\",\"L4\",\"S\\xc3\\xa1bado\",\"20-02-2021\",NA,NA,41441\\n\"409\",16428,\"Metrob\\xc3\\xbas\",\"L5\",\"S\\xc3\\xa1bado\",\"20-02-2021\",NA,NA,84606\\n\"410\",16429,\"Metrob\\xc3\\xbas\",\"L6\",\"S\\xc3\\xa1bado\",\"20-02-2021\",NA,NA,81461\\n\"411\",16430,\"Metrob\\xc3\\xbas\",\"L7\",\"S\\xc3\\xa1bado\",\"20-02-2021\",NA,NA,65630\\n\"412\",16431,\"Metrob\\xc3\\xbas\",\"L1\",\"Domingo\",\"21-02-2021\",NA,NA,95428\\n\"413\",16432,\"Metrob\\xc3\\xbas\",\"L2\",\"Domingo\",\"21-02-2021\",NA,NA,49968\\n\"414\",16433,\"Metrob\\xc3\\xbas\",\"L3\",\"Domingo\",\"21-02-2021\",NA,NA,46486\\n\"415\",16434,\"Metrob\\xc3\\xbas\",\"L4\",\"Domingo\",\"21-02-2021\",NA,NA,18931\\n\"416\",16435,\"Metrob\\xc3\\xbas\",\"L5\",\"Domingo\",\"21-02-2021\",NA,NA,67766\\n\"417\",16436,\"Metrob\\xc3\\xbas\",\"L6\",\"Domingo\",\"21-02-2021\",NA,NA,56554\\n\"418\",16437,\"Metrob\\xc3\\xbas\",\"L7\",\"Domingo\",\"21-02-2021\",NA,NA,30012\\n\"419\",16438,\"Metrob\\xc3\\xbas\",\"L1\",\"Lunes\",\"22-02-2021\",NA,NA,225754\\n\"420\",16439,\"Metrob\\xc3\\xbas\",\"L2\",\"Lunes\",\"22-02-2021\",NA,NA,100257\\n\"421\",16440,\"Metrob\\xc3\\xbas\",\"L3\",\"Lunes\",\"22-02-2021\",NA,NA,87924\\n\"422\",16441,\"Metrob\\xc3\\xbas\",\"L4\",\"Lunes\",\"22-02-2021\",NA,NA,41840\\n\"423\",16442,\"Metrob\\xc3\\xbas\",\"L5\",\"Lunes\",\"22-02-2021\",NA,NA,101633\\n\"424\",16443,\"Metrob\\xc3\\xbas\",\"L6\",\"Lunes\",\"22-02-2021\",NA,NA,98252\\n\"425\",16444,\"Metrob\\xc3\\xbas\",\"L7\",\"Lunes\",\"22-02-2021\",NA,NA,74099\\n\"426\",16445,\"Metrob\\xc3\\xbas\",\"L1\",\"Martes\",\"23-02-2021\",NA,NA,NA\\n\"427\",16446,\"Metrob\\xc3\\xbas\",\"L2\",\"Martes\",\"23-02-2021\",NA,NA,NA\\n\"428\",16447,\"Metrob\\xc3\\xbas\",\"L3\",\"Martes\",\"23-02-2021\",NA,NA,NA\\n\"429\",16448,\"Metrob\\xc3\\xbas\",\"L4\",\"Martes\",\"23-02-2021\",NA,NA,NA\\n\"430\",16449,\"Metrob\\xc3\\xbas\",\"L5\",\"Martes\",\"23-02-2021\",NA,NA,NA\\n\"431\",16450,\"Metrob\\xc3\\xbas\",\"L6\",\"Martes\",\"23-02-2021\",NA,NA,NA\\n\"432\",16451,\"Metrob\\xc3\\xbas\",\"L7\",\"Martes\",\"23-02-2021\",NA,NA,NA\\n\"433\",22346,\"RTP\",\"Ordinario\",\"Viernes\",\"01-01-2021\",636,29483,30119\\n\"434\",22347,\"RTP\",\"Expreso\",\"Viernes\",\"01-01-2021\",778,13727,14505\\n\"435\",22348,\"RTP\",\"Atenea\",\"Viernes\",\"01-01-2021\",NA,1011,1011\\n\"436\",22349,\"RTP\",\"Ecob\\xc3\\xbas\",\"Viernes\",\"01-01-2021\",348,3921,4269\\n\"437\",22350,\"RTP\",\"Nocturno\",\"Viernes\",\"01-01-2021\",4,72,76\\n\"438\",22351,\"RTP\",\"Eco Atenea\",\"Viernes\",\"01-01-2021\",NA,0,0\\n\"439\",22352,\"RTP\",\"Expreso Directo\",\"Viernes\",\"01-01-2021\",3,34,37\\n\"440\",22353,\"RTP\",\"Temporal Pe\\xc3\\xb1\\xc3\\xb3n-Pante\\xc3\\xb3n San Isidro-Metro Camarones\",\"Viernes\",\"01-01-2021\",53,1047,1100\\n\"441\",22354,\"RTP\",\"Ordinario\",\"S\\xc3\\xa1bado\",\"02-01-2021\",1045,42879,43924\\n\"442\",22355,\"RTP\",\"Expreso\",\"S\\xc3\\xa1bado\",\"02-01-2021\",1617,24030,25647\\n\"443\",22356,\"RTP\",\"Atenea\",\"S\\xc3\\xa1bado\",\"02-01-2021\",NA,930,930\\n\"444\",22357,\"RTP\",\"Ecob\\xc3\\xbas\",\"S\\xc3\\xa1bado\",\"02-01-2021\",487,6165,6652\\n\"445\",22358,\"RTP\",\"Nocturno\",\"S\\xc3\\xa1bado\",\"02-01-2021\",5,108,113\\n\"446\",22359,\"RTP\",\"Eco Atenea\",\"S\\xc3\\xa1bado\",\"02-01-2021\",NA,0,0\\n\"447\",22360,\"RTP\",\"Expreso Directo\",\"S\\xc3\\xa1bado\",\"02-01-2021\",4,93,97\\n\"448\",22361,\"RTP\",\"Temporal Pe\\xc3\\xb1\\xc3\\xb3n-Pante\\xc3\\xb3n San Isidro-Metro Camarones\",\"S\\xc3\\xa1bado\",\"02-01-2021\",116,1962,2078\\n\"449\",22362,\"RTP\",\"Ordinario\",\"Domingo\",\"03-01-2021\",792,36347,37139\\n\"450\",22363,\"RTP\",\"Expreso\",\"Domingo\",\"03-01-2021\",1187,21193,22380\\n\"451\",22364,\"RTP\",\"Atenea\",\"Domingo\",\"03-01-2021\",NA,785,785\\n\"452\",22365,\"RTP\",\"Ecob\\xc3\\xbas\",\"Domingo\",\"03-01-2021\",569,6146,6715\\n\"453\",22366,\"RTP\",\"Nocturno\",\"Domingo\",\"03-01-2021\",13,196,209\\n\"454\",22367,\"RTP\",\"Eco Atenea\",\"Domingo\",\"03-01-2021\",NA,0,0\\n\"455\",22368,\"RTP\",\"Expreso Directo\",\"Domingo\",\"03-01-2021\",NA,0,0\\n\"456\",22369,\"RTP\",\"Temporal Pe\\xc3\\xb1\\xc3\\xb3n-Pante\\xc3\\xb3n San Isidro-Metro Camarones\",\"Domingo\",\"03-01-2021\",82,2351,2433\\n\"457\",22370,\"RTP\",\"Ordinario\",\"Lunes\",\"04-01-2021\",2291,88401,90692\\n\"458\",22371,\"RTP\",\"Expreso\",\"Lunes\",\"04-01-2021\",3600,42105,45705\\n\"459\",22372,\"RTP\",\"Atenea\",\"Lunes\",\"04-01-2021\",NA,9583,9583\\n\"460\",22373,\"RTP\",\"Ecob\\xc3\\xbas\",\"Lunes\",\"04-01-2021\",1609,15292,16901\\n\"461\",22374,\"RTP\",\"Nocturno\",\"Lunes\",\"04-01-2021\",4,135,139\\n\"462\",22375,\"RTP\",\"Eco Atenea\",\"Lunes\",\"04-01-2021\",NA,427,427\\n\"463\",22376,\"RTP\",\"Expreso Directo\",\"Lunes\",\"04-01-2021\",56,580,636\\n\"464\",22377,\"RTP\",\"Temporal Pe\\xc3\\xb1\\xc3\\xb3n-Pante\\xc3\\xb3n San Isidro-Metro Camarones\",\"Lunes\",\"04-01-2021\",194,3303,3497\\n\"465\",22378,\"RTP\",\"Ordinario\",\"Martes\",\"05-01-2021\",2251,88005,90256\\n\"466\",22379,\"RTP\",\"Expreso\",\"Martes\",\"05-01-2021\",3895,42598,46493\\n\"467\",22380,\"RTP\",\"Atenea\",\"Martes\",\"05-01-2021\",NA,11753,11753\\n\"468\",22381,\"RTP\",\"Ecob\\xc3\\xbas\",\"Martes\",\"05-01-2021\",1628,17474,19102\\n\"469\",22382,\"RTP\",\"Nocturno\",\"Martes\",\"05-01-2021\",6,254,260\\n\"470\",22383,\"RTP\",\"Eco Atenea\",\"Martes\",\"05-01-2021\",NA,250,250\\n\"471\",22384,\"RTP\",\"Expreso Directo\",\"Martes\",\"05-01-2021\",183,3350,3533\\n\"472\",22385,\"RTP\",\"Temporal Pe\\xc3\\xb1\\xc3\\xb3n-Pante\\xc3\\xb3n San Isidro-Metro Camarones\",\"Martes\",\"05-01-2021\",69,821,890\\n\"473\",22386,\"RTP\",\"Ordinario\",\"Mi\\xc3\\xa9rcoles\",\"06-01-2021\",2174,72474,74648\\n\"474\",22387,\"RTP\",\"Expreso\",\"Mi\\xc3\\xa9rcoles\",\"06-01-2021\",3719,37869,41588\\n\"475\",22388,\"RTP\",\"Atenea\",\"Mi\\xc3\\xa9rcoles\",\"06-01-2021\",0,10522,10522\\n\"476\",22389,\"RTP\",\"Ecob\\xc3\\xbas\",\"Mi\\xc3\\xa9rcoles\",\"06-01-2021\",1422,12028,13450\\n\"477\",22390,\"RTP\",\"Nocturno\",\"Mi\\xc3\\xa9rcoles\",\"06-01-2021\",13,290,303\\n\"478\",22391,\"RTP\",\"Eco Atenea\",\"Mi\\xc3\\xa9rcoles\",\"06-01-2021\",0,181,181\\n\"479\",22392,\"RTP\",\"Expreso Directo\",\"Mi\\xc3\\xa9rcoles\",\"06-01-2021\",75,504,579\\n\"480\",22393,\"RTP\",\"Temporal Pe\\xc3\\xb1\\xc3\\xb3n-Pante\\xc3\\xb3n San Isidro-Metro Camarones\",\"Mi\\xc3\\xa9rcoles\",\"06-01-2021\",164,2945,3109\\n\"481\",22394,\"RTP\",\"Ordinario\",\"Jueves\",\"07-01-2021\",2234,89802,92036\\n\"482\",22395,\"RTP\",\"Expreso\",\"Jueves\",\"07-01-2021\",3542,37873,41415\\n\"483\",22396,\"RTP\",\"Atenea\",\"Jueves\",\"07-01-2021\",NA,10366,10366\\n\"484\",22397,\"RTP\",\"Ecob\\xc3\\xbas\",\"Jueves\",\"07-01-2021\",1792,16468,18260\\n\"485\",22398,\"RTP\",\"Nocturno\",\"Jueves\",\"07-01-2021\",15,240,255\\n\"486\",22399,\"RTP\",\"Eco Atenea\",\"Jueves\",\"07-01-2021\",NA,285,285\\n\"487\",22400,\"RTP\",\"Expreso Directo\",\"Jueves\",\"07-01-2021\",73,660,733\\n\"488\",22401,\"RTP\",\"Temporal Pe\\xc3\\xb1\\xc3\\xb3n-Pante\\xc3\\xb3n San Isidro-Metro Camarones\",\"Jueves\",\"07-01-2021\",64,1019,1083\\n\"489\",22402,\"RTP\",\"Ordinario\",\"Viernes\",\"08-01-2021\",2560,93806,96366\\n\"490\",22403,\"RTP\",\"Expreso\",\"Viernes\",\"08-01-2021\",3108,36479,39587\\n\"491\",22404,\"RTP\",\"Atenea\",\"Viernes\",\"08-01-2021\",NA,8897,8897\\n\"492\",22405,\"RTP\",\"Ecob\\xc3\\xbas\",\"Viernes\",\"08-01-2021\",1752,15483,17235\\n\"493\",22406,\"RTP\",\"Nocturno\",\"Viernes\",\"08-01-2021\",13,230,243\\n\"494\",22407,\"RTP\",\"Eco Atenea\",\"Viernes\",\"08-01-2021\",NA,459,459\\n\"495\",22408,\"RTP\",\"Expreso Directo\",\"Viernes\",\"08-01-2021\",60,644,704\\n\"496\",22409,\"RTP\",\"Temporal Pe\\xc3\\xb1\\xc3\\xb3n-Pante\\xc3\\xb3n San Isidro-Metro Camarones\",\"Viernes\",\"08-01-2021\",66,1189,1255\\n\"497\",22410,\"RTP\",\"Ordinario\",\"S\\xc3\\xa1bado\",\"09-01-2021\",885,37367,38252\\n\"498\",22411,\"RTP\",\"Expreso\",\"S\\xc3\\xa1bado\",\"09-01-2021\",1453,15967,17420\\n\"499\",22412,\"RTP\",\"Atenea\",\"S\\xc3\\xa1bado\",\"09-01-2021\",NA,1180,1180\\n\"500\",22413,\"RTP\",\"Ecob\\xc3\\xbas\",\"S\\xc3\\xa1bado\",\"09-01-2021\",887,11317,12204\\n\"501\",22414,\"RTP\",\"Nocturno\",\"S\\xc3\\xa1bado\",\"09-01-2021\",6,262,268\\n\"502\",22415,\"RTP\",\"Eco Atenea\",\"S\\xc3\\xa1bado\",\"09-01-2021\",NA,0,0\\n\"503\",22416,\"RTP\",\"Expreso Directo\",\"S\\xc3\\xa1bado\",\"09-01-2021\",13,171,184\\n\"504\",22417,\"RTP\",\"Temporal Pe\\xc3\\xb1\\xc3\\xb3n-Pante\\xc3\\xb3n San Isidro-Metro Camarones\",\"S\\xc3\\xa1bado\",\"09-01-2021\",9,106,115\\n\"505\",22418,\"RTP\",\"Ordinario\",\"Domingo\",\"10-01-2021\",479,18582,19061\\n\"506\",22419,\"RTP\",\"Expreso\",\"Domingo\",\"10-01-2021\",610,8833,9443\\n\"507\",22420,\"RTP\",\"Atenea\",\"Domingo\",\"10-01-2021\",NA,96,96\\n\"508\",22421,\"RTP\",\"Ecob\\xc3\\xbas\",\"Domingo\",\"10-01-2021\",360,6109,6469\\n\"509\",22422,\"RTP\",\"Nocturno\",\"Domingo\",\"10-01-2021\",4,298,302\\n\"510\",22423,\"RTP\",\"Eco Atenea\",\"Domingo\",\"10-01-2021\",NA,0,0\\n\"511\",22424,\"RTP\",\"Expreso Directo\",\"Domingo\",\"10-01-2021\",0,0,0\\n\"512\",22425,\"RTP\",\"Temporal Pe\\xc3\\xb1\\xc3\\xb3n-Pante\\xc3\\xb3n San Isidro-Metro Camarones\",\"Domingo\",\"10-01-2021\",37,608,645\\n\"513\",22426,\"RTP\",\"Ordinario\",\"Lunes\",\"11-01-2021\",1046,41334,42380\\n\"514\",22427,\"RTP\",\"Expreso\",\"Lunes\",\"11-01-2021\",1792,21741,23533\\n\"515\",22428,\"RTP\",\"Atenea\",\"Lunes\",\"11-01-2021\",NA,9837,9837\\n\"516\",22429,\"RTP\",\"Ecob\\xc3\\xbas\",\"Lunes\",\"11-01-2021\",1188,14017,15205\\n\"517\",22430,\"RTP\",\"Nocturno\",\"Lunes\",\"11-01-2021\",1,195,196\\n\"518\",22431,\"RTP\",\"Eco Atenea\",\"Lunes\",\"11-01-2021\",NA,403,403\\n\"519\",22432,\"RTP\",\"Expreso Directo\",\"Lunes\",\"11-01-2021\",87,846,933\\n\"520\",22433,\"RTP\",\"Temporal Pe\\xc3\\xb1\\xc3\\xb3n-Pante\\xc3\\xb3n San Isidro-Metro Camarones\",\"Lunes\",\"11-01-2021\",22,741,763\\n\"521\",26266,\"RTP\",\"SEFI Metro\",\"Lunes\",\"11-01-2021\",2575,103894,106469\\n\"522\",22434,\"RTP\",\"Ordinario\",\"Martes\",\"12-01-2021\",1146,41452,42598\\n\"523\",22435,\"RTP\",\"Expreso\",\"Martes\",\"12-01-2021\",2157,22040,24197\\n\"524\",22436,\"RTP\",\"Atenea\",\"Martes\",\"12-01-2021\",NA,8093,8093\\n\"525\",22437,\"RTP\",\"Ecob\\xc3\\xbas\",\"Martes\",\"12-01-2021\",1567,12963,14530\\n\"526\",22438,\"RTP\",\"Nocturno\",\"Martes\",\"12-01-2021\",4,265,269\\n\"527\",22439,\"RTP\",\"Eco Atenea\",\"Martes\",\"12-01-2021\",NA,2441,2441\\n\"528\",22440,\"RTP\",\"Expreso Directo\",\"Martes\",\"12-01-2021\",102,801,903\\n\"529\",22441,\"RTP\",\"Temporal Pe\\xc3\\xb1\\xc3\\xb3n-Pante\\xc3\\xb3n San Isidro-Metro Camarones\",\"Martes\",\"12-01-2021\",57,498,555\\n\"530\",26267,\"RTP\",\"SEFI Metro\",\"Martes\",\"12-01-2021\",2714,96061,98775\\n\"531\",22442,\"RTP\",\"Ordinario\",\"Mi\\xc3\\xa9rcoles\",\"13-01-2021\",1383,51506,52889\\n\"532\",22443,\"RTP\",\"Expreso\",\"Mi\\xc3\\xa9rcoles\",\"13-01-2021\",1746,26333,28079\\n\"533\",22444,\"RTP\",\"Atenea\",\"Mi\\xc3\\xa9rcoles\",\"13-01-2021\",NA,8177,8177\\n\"534\",22445,\"RTP\",\"Ecob\\xc3\\xbas\",\"Mi\\xc3\\xa9rcoles\",\"13-01-2021\",1694,15260,16954\\n\"535\",22446,\"RTP\",\"Nocturno\",\"Mi\\xc3\\xa9rcoles\",\"13-01-2021\",3,241,244\\n\"536\",22447,\"RTP\",\"Eco Atenea\",\"Mi\\xc3\\xa9rcoles\",\"13-01-2021\",NA,2510,2510\\n\"537\",22448,\"RTP\",\"Expreso Directo\",\"Mi\\xc3\\xa9rcoles\",\"13-01-2021\",93,757,850\\n\"538\",22449,\"RTP\",\"Temporal Pe\\xc3\\xb1\\xc3\\xb3n-Pante\\xc3\\xb3n San Isidro-Metro Camarones\",\"Mi\\xc3\\xa9rcoles\",\"13-01-2021\",61,611,672\\n\"539\",26268,\"RTP\",\"SEFI Metro\",\"Mi\\xc3\\xa9rcoles\",\"13-01-2021\",3508,91110,94618\\n\"540\",22450,\"RTP\",\"Ordinario\",\"Jueves\",\"14-01-2021\",1571,56016,57587\\n\"541\",22451,\"RTP\",\"Expreso\",\"Jueves\",\"14-01-2021\",2525,31959,34484\\n\"542\",22452,\"RTP\",\"Atenea\",\"Jueves\",\"14-01-2021\",NA,7841,7841\\n\"543\",22453,\"RTP\",\"Ecob\\xc3\\xbas\",\"Jueves\",\"14-01-2021\",1553,15754,17307\\n\"544\",22454,\"RTP\",\"Nocturno\",\"Jueves\",\"14-01-2021\",11,298,309\\n\"545\",22455,\"RTP\",\"Eco Atenea\",\"Jueves\",\"14-01-2021\",NA,272,272\\n\"546\",22456,\"RTP\",\"Expreso Directo\",\"Jueves\",\"14-01-2021\",94,769,863\\n\"547\",22457,\"RTP\",\"Temporal Pe\\xc3\\xb1\\xc3\\xb3n-Pante\\xc3\\xb3n San Isidro-Metro Camarones\",\"Jueves\",\"14-01-2021\",55,739,794\\n\"548\",26269,\"RTP\",\"SEFI Metro\",\"Jueves\",\"14-01-2021\",3075,86490,89565\\n\"549\",22458,\"RTP\",\"Ordinario\",\"Viernes\",\"15-01-2021\",1526,55503,57029\\n\"550\",22459,\"RTP\",\"Expreso\",\"Viernes\",\"15-01-2021\",2403,31467,33870\\n\"551\",22460,\"RTP\",\"Atenea\",\"Viernes\",\"15-01-2021\",NA,8204,8204\\n\"552\",22461,\"RTP\",\"Ecob\\xc3\\xbas\",\"Viernes\",\"15-01-2021\",1316,15927,17243\\n\"553\",22462,\"RTP\",\"Nocturno\",\"Viernes\",\"15-01-2021\",11,422,433\\n\"554\",22463,\"RTP\",\"Eco Atenea\",\"Viernes\",\"15-01-2021\",NA,1442,1442\\n\"555\",22464,\"RTP\",\"Expreso Directo\",\"Viernes\",\"15-01-2021\",65,774,839\\n\"556\",22465,\"RTP\",\"Temporal Pe\\xc3\\xb1\\xc3\\xb3n-Pante\\xc3\\xb3n San Isidro-Metro Camarones\",\"Viernes\",\"15-01-2021\",41,731,772\\n\"557\",26270,\"RTP\",\"SEFI Metro\",\"Viernes\",\"15-01-2021\",2919,92719,95638\\n\"558\",22466,\"RTP\",\"Ordinario\",\"S\\xc3\\xa1bado\",\"16-01-2021\",581,31243,31824\\n\"559\",22467,\"RTP\",\"Expreso\",\"S\\xc3\\xa1bado\",\"16-01-2021\",779,18372,19151\\n\"560\",22468,\"RTP\",\"Atenea\",\"S\\xc3\\xa1bado\",\"16-01-2021\",NA,3421,3421\\n\"561\",22469,\"RTP\",\"Ecob\\xc3\\xbas\",\"S\\xc3\\xa1bado\",\"16-01-2021\",671,12819,13490\\n\"562\",22470,\"RTP\",\"Nocturno\",\"S\\xc3\\xa1bado\",\"16-01-2021\",7,296,303\\n\"563\",22471,\"RTP\",\"Eco Atenea\",\"S\\xc3\\xa1bado\",\"16-01-2021\",NA,0,0\\n\"564\",22472,\"RTP\",\"Expreso Directo\",\"S\\xc3\\xa1bado\",\"16-01-2021\",8,247,255\\n\"565\",22473,\"RTP\",\"Temporal Pe\\xc3\\xb1\\xc3\\xb3n-Pante\\xc3\\xb3n San Isidro-Metro Camarones\",\"S\\xc3\\xa1bado\",\"16-01-2021\",2,303,305\\n\"566\",26271,\"RTP\",\"SEFI Metro\",\"S\\xc3\\xa1bado\",\"16-01-2021\",1452,65289,66741\\n\"567\",22474,\"RTP\",\"Ordinario\",\"Domingo\",\"17-01-2021\",553,25444,25997\\n\"568\",22475,\"RTP\",\"Expreso\",\"Domingo\",\"17-01-2021\",523,12582,13105\\n\"569\",22476,\"RTP\",\"Atenea\",\"Domingo\",\"17-01-2021\",NA,711,711\\n\"570\",22477,\"RTP\",\"Ecob\\xc3\\xbas\",\"Domingo\",\"17-01-2021\",339,4724,5063\\n\"571\",22478,\"RTP\",\"Nocturno\",\"Domingo\",\"17-01-2021\",4,320,324\\n\"572\",22479,\"RTP\",\"Eco Atenea\",\"Domingo\",\"17-01-2021\",NA,0,0\\n\"573\",22480,\"RTP\",\"Expreso Directo\",\"Domingo\",\"17-01-2021\",0,0,0\\n\"574\",22481,\"RTP\",\"Temporal Pe\\xc3\\xb1\\xc3\\xb3n-Pante\\xc3\\xb3n San Isidro-Metro Camarones\",\"Domingo\",\"17-01-2021\",9,155,164\\n\"575\",26272,\"RTP\",\"SEFI Metro\",\"Domingo\",\"17-01-2021\",1464,52714,54178\\n\"576\",22482,\"RTP\",\"Ordinario\",\"Lunes\",\"18-01-2021\",1309,53290,54599\\n\"577\",22483,\"RTP\",\"Expreso\",\"Lunes\",\"18-01-2021\",1121,20248,21369\\n\"578\",22484,\"RTP\",\"Atenea\",\"Lunes\",\"18-01-2021\",NA,10525,10525\\n\"579\",22485,\"RTP\",\"Ecob\\xc3\\xbas\",\"Lunes\",\"18-01-2021\",1432,16384,17816\\n\"580\",22486,\"RTP\",\"Nocturno\",\"Lunes\",\"18-01-2021\",3,245,248\\n\"581\",22487,\"RTP\",\"Eco Atenea\",\"Lunes\",\"18-01-2021\",NA,51,51\\n\"582\",22488,\"RTP\",\"Expreso Directo\",\"Lunes\",\"18-01-2021\",89,698,787\\n\"583\",22489,\"RTP\",\"Temporal Pe\\xc3\\xb1\\xc3\\xb3n-Pante\\xc3\\xb3n San Isidro-Metro Camarones\",\"Lunes\",\"18-01-2021\",37,500,537\\n\"584\",26273,\"RTP\",\"SEFI Metro\",\"Lunes\",\"18-01-2021\",2451,97880,100331\\n\"585\",22490,\"RTP\",\"Ordinario\",\"Martes\",\"19-01-2021\",1361,49074,50435\\n\"586\",22491,\"RTP\",\"Expreso\",\"Martes\",\"19-01-2021\",1636,24480,26116\\n\"587\",22492,\"RTP\",\"Atenea\",\"Martes\",\"19-01-2021\",NA,11894,11894\\n\"588\",22493,\"RTP\",\"Ecob\\xc3\\xbas\",\"Martes\",\"19-01-2021\",1369,16041,17410\\n\"589\",22494,\"RTP\",\"Nocturno\",\"Martes\",\"19-01-2021\",13,341,354\\n\"590\",22495,\"RTP\",\"Eco Atenea\",\"Martes\",\"19-01-2021\",NA,225,225\\n\"591\",22496,\"RTP\",\"Expreso Directo\",\"Martes\",\"19-01-2021\",97,830,927\\n\"592\",22497,\"RTP\",\"Temporal Pe\\xc3\\xb1\\xc3\\xb3n-Pante\\xc3\\xb3n San Isidro-Metro Camarones\",\"Martes\",\"19-01-2021\",37,1176,1213\\n\"593\",26274,\"RTP\",\"SEFI Metro\",\"Martes\",\"19-01-2021\",3157,99089,102246\\n\"594\",22498,\"RTP\",\"Ordinario\",\"Mi\\xc3\\xa9rcoles\",\"20-01-2021\",1571,52038,53609\\n\"595\",22499,\"RTP\",\"Expreso\",\"Mi\\xc3\\xa9rcoles\",\"20-01-2021\",1597,22905,24502\\n\"596\",22500,\"RTP\",\"Atenea\",\"Mi\\xc3\\xa9rcoles\",\"20-01-2021\",NA,11732,11732\\n\"597\",22501,\"RTP\",\"Ecob\\xc3\\xbas\",\"Mi\\xc3\\xa9rcoles\",\"20-01-2021\",1307,15215,16522\\n\"598\",22502,\"RTP\",\"Nocturno\",\"Mi\\xc3\\xa9rcoles\",\"20-01-2021\",4,326,330\\n\"599\",22503,\"RTP\",\"Eco Atenea\",\"Mi\\xc3\\xa9rcoles\",\"20-01-2021\",NA,593,593\\n\"600\",22504,\"RTP\",\"Expreso Directo\",\"Mi\\xc3\\xa9rcoles\",\"20-01-2021\",102,809,911\\n\"601\",22505,\"RTP\",\"Temporal Pe\\xc3\\xb1\\xc3\\xb3n-Pante\\xc3\\xb3n San Isidro-Metro Camarones\",\"Mi\\xc3\\xa9rcoles\",\"20-01-2021\",62,890,952\\n\"602\",26275,\"RTP\",\"SEFI Metro\",\"Mi\\xc3\\xa9rcoles\",\"20-01-2021\",3400,97377,100777\\n\"603\",22506,\"RTP\",\"Ordinario\",\"Jueves\",\"21-01-2021\",1716,55647,57363\\n\"604\",22507,\"RTP\",\"Expreso\",\"Jueves\",\"21-01-2021\",1675,23091,24766\\n\"605\",22508,\"RTP\",\"Atenea\",\"Jueves\",\"21-01-2021\",NA,13440,13440\\n\"606\",22509,\"RTP\",\"Ecob\\xc3\\xbas\",\"Jueves\",\"21-01-2021\",1483,16435,17918\\n\"607\",22510,\"RTP\",\"Nocturno\",\"Jueves\",\"21-01-2021\",10,353,363\\n\"608\",22511,\"RTP\",\"Eco Atenea\",\"Jueves\",\"21-01-2021\",NA,448,448\\n\"609\",22512,\"RTP\",\"Expreso Directo\",\"Jueves\",\"21-01-2021\",98,767,865\\n\"610\",22513,\"RTP\",\"Temporal Pe\\xc3\\xb1\\xc3\\xb3n-Pante\\xc3\\xb3n San Isidro-Metro Camarones\",\"Jueves\",\"21-01-2021\",22,393,415\\n\"611\",26276,\"RTP\",\"SEFI Metro\",\"Jueves\",\"21-01-2021\",4023,100608,104631\\n\"612\",22514,\"RTP\",\"Ordinario\",\"Viernes\",\"22-01-2021\",1460,56203,57663\\n\"613\",22515,\"RTP\",\"Expreso\",\"Viernes\",\"22-01-2021\",1609,26995,28604\\n\"614\",22516,\"RTP\",\"Atenea\",\"Viernes\",\"22-01-2021\",NA,14260,14260\\n\"615\",22517,\"RTP\",\"Ecob\\xc3\\xbas\",\"Viernes\",\"22-01-2021\",1302,17146,18448\\n\"616\",22518,\"RTP\",\"Nocturno\",\"Viernes\",\"22-01-2021\",9,295,304\\n\"617\",22519,\"RTP\",\"Eco Atenea\",\"Viernes\",\"22-01-2021\",NA,98,98\\n\"618\",22520,\"RTP\",\"Expreso Directo\",\"Viernes\",\"22-01-2021\",83,768,851\\n\"619\",22521,\"RTP\",\"Temporal Pe\\xc3\\xb1\\xc3\\xb3n-Pante\\xc3\\xb3n San Isidro-Metro Camarones\",\"Viernes\",\"22-01-2021\",71,826,897\\n\"620\",26277,\"RTP\",\"SEFI Metro\",\"Viernes\",\"22-01-2021\",4124,102787,106911\\n\"621\",22522,\"RTP\",\"Ordinario\",\"S\\xc3\\xa1bado\",\"23-01-2021\",898,37307,38205\\n\"622\",22523,\"RTP\",\"Expreso\",\"S\\xc3\\xa1bado\",\"23-01-2021\",915,17622,18537\\n\"623\",22524,\"RTP\",\"Atenea\",\"S\\xc3\\xa1bado\",\"23-01-2021\",NA,2034,2034\\n\"624\",22525,\"RTP\",\"Ecob\\xc3\\xbas\",\"S\\xc3\\xa1bado\",\"23-01-2021\",699,11960,12659\\n\"625\",22526,\"RTP\",\"Nocturno\",\"S\\xc3\\xa1bado\",\"23-01-2021\",4,315,319\\n\"626\",22527,\"RTP\",\"Eco Atenea\",\"S\\xc3\\xa1bado\",\"23-01-2021\",NA,0,0\\n\"627\",22528,\"RTP\",\"Expreso Directo\",\"S\\xc3\\xa1bado\",\"23-01-2021\",16,231,247\\n\"628\",22529,\"RTP\",\"Temporal Pe\\xc3\\xb1\\xc3\\xb3n-Pante\\xc3\\xb3n San Isidro-Metro Camarones\",\"S\\xc3\\xa1bado\",\"23-01-2021\",22,454,476\\n\"629\",26278,\"RTP\",\"SEFI Metro\",\"S\\xc3\\xa1bado\",\"23-01-2021\",2739,77078,79817\\n\"630\",22530,\"RTP\",\"Ordinario\",\"Domingo\",\"24-01-2021\",576,27713,28289\\n\"631\",22531,\"RTP\",\"Expreso\",\"Domingo\",\"24-01-2021\",518,13101,13619\\n\"632\",22532,\"RTP\",\"Atenea\",\"Domingo\",\"24-01-2021\",NA,955,955\\n\"633\",22533,\"RTP\",\"Ecob\\xc3\\xbas\",\"Domingo\",\"24-01-2021\",682,6284,6966\\n\"634\",22534,\"RTP\",\"Nocturno\",\"Domingo\",\"24-01-2021\",4,289,293\\n\"635\",22535,\"RTP\",\"Eco Atenea\",\"Domingo\",\"24-01-2021\",NA,0,0\\n\"636\",22536,\"RTP\",\"Expreso Directo\",\"Domingo\",\"24-01-2021\",0,0,0\\n\"637\",22537,\"RTP\",\"Temporal Pe\\xc3\\xb1\\xc3\\xb3n-Pante\\xc3\\xb3n San Isidro-Metro Camarones\",\"Domingo\",\"24-01-2021\",38,638,676\\n\"638\",26279,\"RTP\",\"SEFI Metro\",\"Domingo\",\"24-01-2021\",2025,59217,61242\\n\"639\",22538,\"RTP\",\"Ordinario\",\"Lunes\",\"25-01-2021\",1449,54426,55875\\n\"640\",22539,\"RTP\",\"Expreso\",\"Lunes\",\"25-01-2021\",1688,26991,28679\\n\"641\",22540,\"RTP\",\"Atenea\",\"Lunes\",\"25-01-2021\",NA,14565,14565\\n\"642\",22541,\"RTP\",\"Ecob\\xc3\\xbas\",\"Lunes\",\"25-01-2021\",1320,15004,16324\\n\"643\",22542,\"RTP\",\"Nocturno\",\"Lunes\",\"25-01-2021\",1,248,249\\n\"644\",22543,\"RTP\",\"Eco Atenea\",\"Lunes\",\"25-01-2021\",NA,249,249\\n\"645\",22544,\"RTP\",\"Expreso Directo\",\"Lunes\",\"25-01-2021\",86,836,922\\n\"646\",22545,\"RTP\",\"Temporal Pe\\xc3\\xb1\\xc3\\xb3n-Pante\\xc3\\xb3n San Isidro-Metro Camarones\",\"Lunes\",\"25-01-2021\",31,457,488\\n\"647\",26280,\"RTP\",\"SEFI Metro\",\"Lunes\",\"25-01-2021\",3770,84094,87864\\n\"648\",22546,\"RTP\",\"Ordinario\",\"Martes\",\"26-01-2021\",1760,59336,61096\\n\"649\",22547,\"RTP\",\"Expreso\",\"Martes\",\"26-01-2021\",2437,30173,32610\\n\"650\",22548,\"RTP\",\"Atenea\",\"Martes\",\"26-01-2021\",NA,13429,13429\\n\"651\",22549,\"RTP\",\"Ecob\\xc3\\xbas\",\"Martes\",\"26-01-2021\",1543,15808,17351\\n\"652\",22550,\"RTP\",\"Nocturno\",\"Martes\",\"26-01-2021\",6,393,399\\n\"653\",22551,\"RTP\",\"Eco Atenea\",\"Martes\",\"26-01-2021\",NA,451,451\\n\"654\",22552,\"RTP\",\"Expreso Directo\",\"Martes\",\"26-01-2021\",110,783,893\\n\"655\",22553,\"RTP\",\"Temporal Pe\\xc3\\xb1\\xc3\\xb3n-Pante\\xc3\\xb3n San Isidro-Metro Camarones\",\"Martes\",\"26-01-2021\",42,870,912\\n\"656\",26281,\"RTP\",\"SEFI Metro\",\"Martes\",\"26-01-2021\",3745,77504,81249\\n\"657\",22554,\"RTP\",\"Ordinario\",\"Mi\\xc3\\xa9rcoles\",\"27-01-2021\",1903,59424,61327\\n\"658\",22555,\"RTP\",\"Expreso\",\"Mi\\xc3\\xa9rcoles\",\"27-01-2021\",2381,29820,32201\\n\"659\",22556,\"RTP\",\"Atenea\",\"Mi\\xc3\\xa9rcoles\",\"27-01-2021\",NA,13801,13801\\n\"660\",22557,\"RTP\",\"Ecob\\xc3\\xbas\",\"Mi\\xc3\\xa9rcoles\",\"27-01-2021\",1679,16564,18243\\n\"661\",22558,\"RTP\",\"Nocturno\",\"Mi\\xc3\\xa9rcoles\",\"27-01-2021\",8,296,304\\n\"662\",22559,\"RTP\",\"Eco Atenea\",\"Mi\\xc3\\xa9rcoles\",\"27-01-2021\",NA,389,389\\n\"663\",22560,\"RTP\",\"Expreso Directo\",\"Mi\\xc3\\xa9rcoles\",\"27-01-2021\",124,783,907\\n\"664\",22561,\"RTP\",\"Temporal Pe\\xc3\\xb1\\xc3\\xb3n-Pante\\xc3\\xb3n San Isidro-Metro Camarones\",\"Mi\\xc3\\xa9rcoles\",\"27-01-2021\",53,880,933\\n\"665\",26282,\"RTP\",\"SEFI Metro\",\"Mi\\xc3\\xa9rcoles\",\"27-01-2021\",3836,75562,79398\\n\"666\",22562,\"RTP\",\"Ordinario\",\"Jueves\",\"28-01-2021\",1923,63527,65450\\n\"667\",22563,\"RTP\",\"Expreso\",\"Jueves\",\"28-01-2021\",2198,30153,32351\\n\"668\",22564,\"RTP\",\"Atenea\",\"Jueves\",\"28-01-2021\",NA,13909,13909\\n\"669\",22565,\"RTP\",\"Ecob\\xc3\\xbas\",\"Jueves\",\"28-01-2021\",1616,16693,18309\\n\"670\",22566,\"RTP\",\"Nocturno\",\"Jueves\",\"28-01-2021\",6,295,301\\n\"671\",22567,\"RTP\",\"Eco Atenea\",\"Jueves\",\"28-01-2021\",NA,503,503\\n\"672\",22568,\"RTP\",\"Expreso Directo\",\"Jueves\",\"28-01-2021\",96,789,885\\n\"673\",22569,\"RTP\",\"Temporal Pe\\xc3\\xb1\\xc3\\xb3n-Pante\\xc3\\xb3n San Isidro-Metro Camarones\",\"Jueves\",\"28-01-2021\",52,837,889\\n\"674\",26283,\"RTP\",\"SEFI Metro\",\"Jueves\",\"28-01-2021\",3935,76011,79946\\n\"675\",22570,\"RTP\",\"Ordinario\",\"Viernes\",\"29-01-2021\",1894,66697,68591\\n\"676\",22571,\"RTP\",\"Expreso\",\"Viernes\",\"29-01-2021\",2222,30727,32949\\n\"677\",22572,\"RTP\",\"Atenea\",\"Viernes\",\"29-01-2021\",NA,12598,12598\\n\"678\",22573,\"RTP\",\"Ecob\\xc3\\xbas\",\"Viernes\",\"29-01-2021\",1519,15936,17455\\n\"679\",22574,\"RTP\",\"Nocturno\",\"Viernes\",\"29-01-2021\",8,291,299\\n\"680\",22575,\"RTP\",\"Eco Atenea\",\"Viernes\",\"29-01-2021\",NA,605,605\\n\"681\",22576,\"RTP\",\"Expreso Directo\",\"Viernes\",\"29-01-2021\",74,815,889\\n\"682\",22577,\"RTP\",\"Temporal Pe\\xc3\\xb1\\xc3\\xb3n-Pante\\xc3\\xb3n San Isidro-Metro Camarones\",\"Viernes\",\"29-01-2021\",60,939,999\\n\"683\",26284,\"RTP\",\"SEFI Metro\",\"Viernes\",\"29-01-2021\",3930,84161,88091\\n\"684\",22578,\"RTP\",\"Ordinario\",\"S\\xc3\\xa1bado\",\"30-01-2021\",1325,42298,43623\\n\"685\",22579,\"RTP\",\"Expreso\",\"S\\xc3\\xa1bado\",\"30-01-2021\",868,20301,21169\\n\"686\",22580,\"RTP\",\"Atenea\",\"S\\xc3\\xa1bado\",\"30-01-2021\",NA,2384,2384\\n\"687\",22581,\"RTP\",\"Ecob\\xc3\\xbas\",\"S\\xc3\\xa1bado\",\"30-01-2021\",789,11947,12736\\n\"688\",22582,\"RTP\",\"Nocturno\",\"S\\xc3\\xa1bado\",\"30-01-2021\",6,314,320\\n\"689\",22583,\"RTP\",\"Eco Atenea\",\"S\\xc3\\xa1bado\",\"30-01-2021\",NA,0,0\\n\"690\",22584,\"RTP\",\"Expreso Directo\",\"S\\xc3\\xa1bado\",\"30-01-2021\",9,246,255\\n\"691\",22585,\"RTP\",\"Temporal Pe\\xc3\\xb1\\xc3\\xb3n-Pante\\xc3\\xb3n San Isidro-Metro Camarones\",\"S\\xc3\\xa1bado\",\"30-01-2021\",20,396,416\\n\"692\",26285,\"RTP\",\"SEFI Metro\",\"S\\xc3\\xa1bado\",\"30-01-2021\",2907,68243,71150\\n\"693\",22586,\"RTP\",\"Ordinario\",\"Domingo\",\"31-01-2021\",829,31820,32649\\n\"694\",22587,\"RTP\",\"Expreso\",\"Domingo\",\"31-01-2021\",716,16030,16746\\n\"695\",22588,\"RTP\",\"Atenea\",\"Domingo\",\"31-01-2021\",NA,919,919\\n\"696\",22589,\"RTP\",\"Ecob\\xc3\\xbas\",\"Domingo\",\"31-01-2021\",660,7658,8318\\n\"697\",22590,\"RTP\",\"Nocturno\",\"Domingo\",\"31-01-2021\",11,360,371\\n\"698\",22591,\"RTP\",\"Eco Atenea\",\"Domingo\",\"31-01-2021\",NA,0,0\\n\"699\",22592,\"RTP\",\"Expreso Directo\",\"Domingo\",\"31-01-2021\",0,0,0\\n\"700\",22593,\"RTP\",\"Temporal Pe\\xc3\\xb1\\xc3\\xb3n-Pante\\xc3\\xb3n San Isidro-Metro Camarones\",\"Domingo\",\"31-01-2021\",11,334,345\\n\"701\",26286,\"RTP\",\"SEFI Metro\",\"Domingo\",\"31-01-2021\",2090,47943,50033\\n\"702\",22594,\"RTP\",\"Ordinario\",\"Lunes\",\"01-02-2021\",1325,51871,53196\\n\"703\",22595,\"RTP\",\"Expreso\",\"Lunes\",\"01-02-2021\",1273,22635,23908\\n\"704\",22596,\"RTP\",\"Atenea\",\"Lunes\",\"01-02-2021\",NA,3551,3551\\n\"705\",22597,\"RTP\",\"Ecob\\xc3\\xbas\",\"Lunes\",\"01-02-2021\",653,9999,10652\\n\"706\",22598,\"RTP\",\"Nocturno\",\"Lunes\",\"01-02-2021\",5,221,226\\n\"707\",22599,\"RTP\",\"Eco Atenea\",\"Lunes\",\"01-02-2021\",NA,0,0\\n\"708\",22600,\"RTP\",\"Expreso Directo\",\"Lunes\",\"01-02-2021\",7,166,173\\n\"709\",22601,\"RTP\",\"Temporal Pe\\xc3\\xb1\\xc3\\xb3n-Pante\\xc3\\xb3n San Isidro-Metro Camarones\",\"Lunes\",\"01-02-2021\",40,897,937\\n\"710\",26287,\"RTP\",\"SEFI Metro\",\"Lunes\",\"01-02-2021\",1597,39853,41450\\n\"711\",22602,\"RTP\",\"Ordinario\",\"Martes\",\"02-02-2021\",2070,70679,72749\\n\"712\",22603,\"RTP\",\"Expreso\",\"Martes\",\"02-02-2021\",2799,35432,38231\\n\"713\",22604,\"RTP\",\"Atenea\",\"Martes\",\"02-02-2021\",NA,12100,12100\\n\"714\",22605,\"RTP\",\"Ecob\\xc3\\xbas\",\"Martes\",\"02-02-2021\",1265,17796,19061\\n\"715\",22606,\"RTP\",\"Nocturno\",\"Martes\",\"02-02-2021\",8,355,363\\n\"716\",22607,\"RTP\",\"Eco Atenea\",\"Martes\",\"02-02-2021\",NA,407,407\\n\"717\",22608,\"RTP\",\"Expreso Directo\",\"Martes\",\"02-02-2021\",103,842,945\\n\"718\",22609,\"RTP\",\"Temporal Pe\\xc3\\xb1\\xc3\\xb3n-Pante\\xc3\\xb3n San Isidro-Metro Camarones\",\"Martes\",\"02-02-2021\",53,802,855\\n\"719\",26288,\"RTP\",\"SEFI Metro\",\"Martes\",\"02-02-2021\",2204,57595,59799\\n\"720\",22610,\"RTP\",\"Ordinario\",\"Mi\\xc3\\xa9rcoles\",\"03-02-2021\",2220,73646,75866\\n\"721\",22611,\"RTP\",\"Expreso\",\"Mi\\xc3\\xa9rcoles\",\"03-02-2021\",3007,33811,36818\\n\"722\",22612,\"RTP\",\"Atenea\",\"Mi\\xc3\\xa9rcoles\",\"03-02-2021\",NA,10747,10747\\n\"723\",22613,\"RTP\",\"Ecob\\xc3\\xbas\",\"Mi\\xc3\\xa9rcoles\",\"03-02-2021\",1554,17360,18914\\n\"724\",22614,\"RTP\",\"Nocturno\",\"Mi\\xc3\\xa9rcoles\",\"03-02-2021\",10,316,326\\n\"725\",22615,\"RTP\",\"Eco Atenea\",\"Mi\\xc3\\xa9rcoles\",\"03-02-2021\",NA,362,362\\n\"726\",22616,\"RTP\",\"Expreso Directo\",\"Mi\\xc3\\xa9rcoles\",\"03-02-2021\",90,835,925\\n\"727\",22617,\"RTP\",\"Temporal Pe\\xc3\\xb1\\xc3\\xb3n-Pante\\xc3\\xb3n San Isidro-Metro Camarones\",\"Mi\\xc3\\xa9rcoles\",\"03-02-2021\",52,1100,1152\\n\"728\",26289,\"RTP\",\"SEFI Metro\",\"Mi\\xc3\\xa9rcoles\",\"03-02-2021\",2384,52635,55019\\n\"729\",22618,\"RTP\",\"Ordinario\",\"Jueves\",\"04-02-2021\",2321,70384,72705\\n\"730\",22619,\"RTP\",\"Expreso\",\"Jueves\",\"04-02-2021\",3033,33593,36626\\n\"731\",22620,\"RTP\",\"Atenea\",\"Jueves\",\"04-02-2021\",NA,12031,12031\\n\"732\",22621,\"RTP\",\"Ecob\\xc3\\xbas\",\"Jueves\",\"04-02-2021\",1663,16559,18222\\n\"733\",22622,\"RTP\",\"Nocturno\",\"Jueves\",\"04-02-2021\",16,336,352\\n\"734\",22623,\"RTP\",\"Eco Atenea\",\"Jueves\",\"04-02-2021\",NA,312,312\\n\"735\",22624,\"RTP\",\"Expreso Directo\",\"Jueves\",\"04-02-2021\",90,848,938\\n\"736\",22625,\"RTP\",\"Temporal Pe\\xc3\\xb1\\xc3\\xb3n-Pante\\xc3\\xb3n San Isidro-Metro Camarones\",\"Jueves\",\"04-02-2021\",28,948,976\\n\"737\",26290,\"RTP\",\"SEFI Metro\",\"Jueves\",\"04-02-2021\",2813,55100,57913\\n\"738\",22626,\"RTP\",\"Ordinario\",\"Viernes\",\"05-02-2021\",2017,63906,65923\\n\"739\",22627,\"RTP\",\"Expreso\",\"Viernes\",\"05-02-2021\",3046,32314,35360\\n\"740\",22628,\"RTP\",\"Atenea\",\"Viernes\",\"05-02-2021\",NA,9128,9128\\n\"741\",22629,\"RTP\",\"Ecob\\xc3\\xbas\",\"Viernes\",\"05-02-2021\",1505,19057,20562\\n\"742\",22630,\"RTP\",\"Nocturno\",\"Viernes\",\"05-02-2021\",15,381,396\\n\"743\",22631,\"RTP\",\"Eco Atenea\",\"Viernes\",\"05-02-2021\",NA,170,170\\n\"744\",22632,\"RTP\",\"Expreso Directo\",\"Viernes\",\"05-02-2021\",118,800,918\\n\"745\",22633,\"RTP\",\"Temporal Pe\\xc3\\xb1\\xc3\\xb3n-Pante\\xc3\\xb3n San Isidro-Metro Camarones\",\"Viernes\",\"05-02-2021\",64,1036,1100\\n\"746\",26291,\"RTP\",\"SEFI Metro\",\"Viernes\",\"05-02-2021\",2574,49032,51606\\n\"747\",22634,\"RTP\",\"Ordinario\",\"S\\xc3\\xa1bado\",\"06-02-2021\",1269,42037,43306\\n\"748\",22635,\"RTP\",\"Expreso\",\"S\\xc3\\xa1bado\",\"06-02-2021\",1581,21514,23095\\n\"749\",22636,\"RTP\",\"Atenea\",\"S\\xc3\\xa1bado\",\"06-02-2021\",NA,3995,3995\\n\"750\",22637,\"RTP\",\"Ecob\\xc3\\xbas\",\"S\\xc3\\xa1bado\",\"06-02-2021\",670,12017,12687\\n\"751\",22638,\"RTP\",\"Nocturno\",\"S\\xc3\\xa1bado\",\"06-02-2021\",17,370,387\\n\"752\",22639,\"RTP\",\"Eco Atenea\",\"S\\xc3\\xa1bado\",\"06-02-2021\",NA,0,0\\n\"753\",22640,\"RTP\",\"Expreso Directo\",\"S\\xc3\\xa1bado\",\"06-02-2021\",19,243,262\\n\"754\",22641,\"RTP\",\"Temporal Pe\\xc3\\xb1\\xc3\\xb3n-Pante\\xc3\\xb3n San Isidro-Metro Camarones\",\"S\\xc3\\xa1bado\",\"06-02-2021\",28,699,727\\n\"755\",26292,\"RTP\",\"SEFI Metro\",\"S\\xc3\\xa1bado\",\"06-02-2021\",1344,38319,39663\\n\"756\",22642,\"RTP\",\"Ordinario\",\"Domingo\",\"07-02-2021\",883,33753,34636\\n\"757\",22643,\"RTP\",\"Expreso\",\"Domingo\",\"07-02-2021\",953,16983,17936\\n\"758\",22644,\"RTP\",\"Atenea\",\"Domingo\",\"07-02-2021\",0,2336,2336\\n\"759\",22645,\"RTP\",\"Ecob\\xc3\\xbas\",\"Domingo\",\"07-02-2021\",423,10119,10542\\n\"760\",22646,\"RTP\",\"Nocturno\",\"Domingo\",\"07-02-2021\",8,322,330\\n\"761\",22647,\"RTP\",\"Eco Atenea\",\"Domingo\",\"07-02-2021\",0,0,0\\n\"762\",22648,\"RTP\",\"Expreso Directo\",\"Domingo\",\"07-02-2021\",0,0,0\\n\"763\",22649,\"RTP\",\"Temporal Pe\\xc3\\xb1\\xc3\\xb3n-Pante\\xc3\\xb3n San Isidro-Metro Camarones\",\"Domingo\",\"07-02-2021\",15,493,508\\n\"764\",26293,\"RTP\",\"SEFI Metro\",\"Domingo\",\"07-02-2021\",869,22172,23041\\n\"765\",22650,\"RTP\",\"Ordinario\",\"Lunes\",\"08-02-2021\",1996,82598,84594\\n\"766\",22651,\"RTP\",\"Expreso\",\"Lunes\",\"08-02-2021\",2987,36183,39170\\n\"767\",22652,\"RTP\",\"Atenea\",\"Lunes\",\"08-02-2021\",NA,15450,15450\\n\"768\",22653,\"RTP\",\"Ecob\\xc3\\xbas\",\"Lunes\",\"08-02-2021\",1565,17779,19344\\n\"769\",22654,\"RTP\",\"Nocturno\",\"Lunes\",\"08-02-2021\",7,254,261\\n\"770\",22655,\"RTP\",\"Eco Atenea\",\"Lunes\",\"08-02-2021\",NA,1121,1121\\n\"771\",22656,\"RTP\",\"Expreso Directo\",\"Lunes\",\"08-02-2021\",79,832,911\\n\"772\",22657,\"RTP\",\"Temporal Pe\\xc3\\xb1\\xc3\\xb3n-Pante\\xc3\\xb3n San Isidro-Metro Camarones\",\"Lunes\",\"08-02-2021\",59,830,889\\n\"773\",26294,\"RTP\",\"SEFI Metro\",\"Lunes\",\"08-02-2021\",480,12803,13283\\n\"774\",22658,\"RTP\",\"Ordinario\",\"Martes\",\"09-02-2021\",2196,80961,83157\\n\"775\",22659,\"RTP\",\"Expreso\",\"Martes\",\"09-02-2021\",3470,40813,44283\\n\"776\",22660,\"RTP\",\"Atenea\",\"Martes\",\"09-02-2021\",NA,13688,13688\\n\"777\",22661,\"RTP\",\"Ecob\\xc3\\xbas\",\"Martes\",\"09-02-2021\",1940,17832,19772\\n\"778\",22662,\"RTP\",\"Nocturno\",\"Martes\",\"09-02-2021\",16,357,373\\n\"779\",22663,\"RTP\",\"Eco Atenea\",\"Martes\",\"09-02-2021\",NA,863,863\\n\"780\",22664,\"RTP\",\"Expreso Directo\",\"Martes\",\"09-02-2021\",124,812,936\\n\"781\",22665,\"RTP\",\"Temporal Pe\\xc3\\xb1\\xc3\\xb3n-Pante\\xc3\\xb3n San Isidro-Metro Camarones\",\"Martes\",\"09-02-2021\",45,881,926\\n\"782\",26295,\"RTP\",\"SEFI Metro\",\"Martes\",\"09-02-2021\",358,7275,7633\\n\"783\",22666,\"RTP\",\"Ordinario\",\"Mi\\xc3\\xa9rcoles\",\"10-02-2021\",2172,84325,86497\\n\"784\",22667,\"RTP\",\"Expreso\",\"Mi\\xc3\\xa9rcoles\",\"10-02-2021\",4076,47467,51543\\n\"785\",22668,\"RTP\",\"Atenea\",\"Mi\\xc3\\xa9rcoles\",\"10-02-2021\",NA,13563,13563\\n\"786\",22669,\"RTP\",\"Ecob\\xc3\\xbas\",\"Mi\\xc3\\xa9rcoles\",\"10-02-2021\",2124,18529,20653\\n\"787\",22670,\"RTP\",\"Nocturno\",\"Mi\\xc3\\xa9rcoles\",\"10-02-2021\",7,372,379\\n\"788\",22671,\"RTP\",\"Eco Atenea\",\"Mi\\xc3\\xa9rcoles\",\"10-02-2021\",NA,151,151\\n\"789\",22672,\"RTP\",\"Expreso Directo\",\"Mi\\xc3\\xa9rcoles\",\"10-02-2021\",107,835,942\\n\"790\",22673,\"RTP\",\"Temporal Pe\\xc3\\xb1\\xc3\\xb3n-Pante\\xc3\\xb3n San Isidro-Metro Camarones\",\"Mi\\xc3\\xa9rcoles\",\"10-02-2021\",38,1394,1432\\n\"791\",26296,\"RTP\",\"SEFI Metro\",\"Mi\\xc3\\xa9rcoles\",\"10-02-2021\",225,5119,5344\\n\"792\",22674,\"RTP\",\"Ordinario\",\"Jueves\",\"11-02-2021\",2417,86782,89199\\n\"793\",22675,\"RTP\",\"Expreso\",\"Jueves\",\"11-02-2021\",4187,48365,52552\\n\"794\",22676,\"RTP\",\"Atenea\",\"Jueves\",\"11-02-2021\",NA,11745,11745\\n\"795\",22677,\"RTP\",\"Ecob\\xc3\\xbas\",\"Jueves\",\"11-02-2021\",2030,18828,20858\\n\"796\",22678,\"RTP\",\"Nocturno\",\"Jueves\",\"11-02-2021\",14,368,382\\n\"797\",22679,\"RTP\",\"Eco Atenea\",\"Jueves\",\"11-02-2021\",NA,108,108\\n\"798\",22680,\"RTP\",\"Expreso Directo\",\"Jueves\",\"11-02-2021\",115,810,925\\n\"799\",22681,\"RTP\",\"Temporal Pe\\xc3\\xb1\\xc3\\xb3n-Pante\\xc3\\xb3n San Isidro-Metro Camarones\",\"Jueves\",\"11-02-2021\",69,1271,1340\\n\"800\",26297,\"RTP\",\"SEFI Metro\",\"Jueves\",\"11-02-2021\",206,3525,3731\\n\"801\",22682,\"RTP\",\"Ordinario\",\"Viernes\",\"12-02-2021\",2480,93301,95781\\n\"802\",22683,\"RTP\",\"Expreso\",\"Viernes\",\"12-02-2021\",4164,48674,52838\\n\"803\",22684,\"RTP\",\"Atenea\",\"Viernes\",\"12-02-2021\",NA,12592,12592\\n\"804\",22685,\"RTP\",\"Ecob\\xc3\\xbas\",\"Viernes\",\"12-02-2021\",1953,19558,21511\\n\"805\",22686,\"RTP\",\"Nocturno\",\"Viernes\",\"12-02-2021\",13,345,358\\n\"806\",22687,\"RTP\",\"Eco Atenea\",\"Viernes\",\"12-02-2021\",NA,215,215\\n\"807\",22688,\"RTP\",\"Expreso Directo\",\"Viernes\",\"12-02-2021\",97,806,903\\n\"808\",22689,\"RTP\",\"Temporal Pe\\xc3\\xb1\\xc3\\xb3n-Pante\\xc3\\xb3n San Isidro-Metro Camarones\",\"Viernes\",\"12-02-2021\",93,2180,2273\\n\"809\",26298,\"RTP\",\"SEFI Metro\",\"Viernes\",\"12-02-2021\",1,1699,1700\\n\"810\",22690,\"RTP\",\"Ordinario\",\"S\\xc3\\xa1bado\",\"13-02-2021\",1628,67044,68672\\n\"811\",22691,\"RTP\",\"Expreso\",\"S\\xc3\\xa1bado\",\"13-02-2021\",2326,34481,36807\\n\"812\",22692,\"RTP\",\"Atenea\",\"S\\xc3\\xa1bado\",\"13-02-2021\",NA,1386,1386\\n\"813\",22693,\"RTP\",\"Ecob\\xc3\\xbas\",\"S\\xc3\\xa1bado\",\"13-02-2021\",1171,13634,14805\\n\"814\",22694,\"RTP\",\"Nocturno\",\"S\\xc3\\xa1bado\",\"13-02-2021\",4,371,375\\n\"815\",22695,\"RTP\",\"Eco Atenea\",\"S\\xc3\\xa1bado\",\"13-02-2021\",NA,NA,NA\\n\"816\",22696,\"RTP\",\"Expreso Directo\",\"S\\xc3\\xa1bado\",\"13-02-2021\",11,256,267\\n\"817\",22697,\"RTP\",\"Temporal Pe\\xc3\\xb1\\xc3\\xb3n-Pante\\xc3\\xb3n San Isidro-Metro Camarones\",\"S\\xc3\\xa1bado\",\"13-02-2021\",58,1032,1090\\n\"818\",22698,\"RTP\",\"Ordinario\",\"Domingo\",\"14-02-2021\",934,44019,44953\\n\"819\",22699,\"RTP\",\"Expreso\",\"Domingo\",\"14-02-2021\",1370,24393,25763\\n\"820\",22700,\"RTP\",\"Atenea\",\"Domingo\",\"14-02-2021\",NA,NA,NA\\n\"821\",22701,\"RTP\",\"Ecob\\xc3\\xbas\",\"Domingo\",\"14-02-2021\",840,8469,9309\\n\"822\",22702,\"RTP\",\"Nocturno\",\"Domingo\",\"14-02-2021\",7,312,319\\n\"823\",22703,\"RTP\",\"Eco Atenea\",\"Domingo\",\"14-02-2021\",NA,0,0\\n\"824\",22704,\"RTP\",\"Expreso Directo\",\"Domingo\",\"14-02-2021\",0,0,0\\n\"825\",22705,\"RTP\",\"Temporal Pe\\xc3\\xb1\\xc3\\xb3n-Pante\\xc3\\xb3n San Isidro-Metro Camarones\",\"Domingo\",\"14-02-2021\",34,1011,1045\\n\"826\",22706,\"RTP\",\"Ordinario\",\"Lunes\",\"15-02-2021\",2184,92026,94210\\n\"827\",22707,\"RTP\",\"Expreso\",\"Lunes\",\"15-02-2021\",4002,49600,53602\\n\"828\",22708,\"RTP\",\"Atenea\",\"Lunes\",\"15-02-2021\",NA,9232,9232\\n\"829\",22709,\"RTP\",\"Ecob\\xc3\\xbas\",\"Lunes\",\"15-02-2021\",1783,19237,21020\\n\"830\",22710,\"RTP\",\"Nocturno\",\"Lunes\",\"15-02-2021\",11,298,309\\n\"831\",22711,\"RTP\",\"Eco Atenea\",\"Lunes\",\"15-02-2021\",NA,296,296\\n\"832\",22712,\"RTP\",\"Expreso Directo\",\"Lunes\",\"15-02-2021\",100,837,937\\n\"833\",22713,\"RTP\",\"Temporal Pe\\xc3\\xb1\\xc3\\xb3n-Pante\\xc3\\xb3n San Isidro-Metro Camarones\",\"Lunes\",\"15-02-2021\",68,1194,1262\\n\"834\",27011,\"RTP\",\"Temporal Zaragoza-Tacuba\",\"Lunes\",\"15-02-2021\",26,1642,1668\\n\"835\",22714,\"RTP\",\"Ordinario\",\"Martes\",\"16-02-2021\",2379,91961,94340\\n\"836\",22715,\"RTP\",\"Expreso\",\"Martes\",\"16-02-2021\",4611,51286,55897\\n\"837\",22716,\"RTP\",\"Atenea\",\"Martes\",\"16-02-2021\",NA,12588,12588\\n\"838\",22717,\"RTP\",\"Ecob\\xc3\\xbas\",\"Martes\",\"16-02-2021\",1956,19238,21194\\n\"839\",22718,\"RTP\",\"Nocturno\",\"Martes\",\"16-02-2021\",21,381,402\\n\"840\",22719,\"RTP\",\"Eco Atenea\",\"Martes\",\"16-02-2021\",NA,287,287\\n\"841\",22720,\"RTP\",\"Expreso Directo\",\"Martes\",\"16-02-2021\",136,862,998\\n\"842\",22721,\"RTP\",\"Temporal Pe\\xc3\\xb1\\xc3\\xb3n-Pante\\xc3\\xb3n San Isidro-Metro Camarones\",\"Martes\",\"16-02-2021\",117,1824,1941\\n\"843\",27012,\"RTP\",\"Temporal Zaragoza-Tacuba\",\"Martes\",\"16-02-2021\",16,1889,1905\\n\"844\",22722,\"RTP\",\"Ordinario\",\"Mi\\xc3\\xa9rcoles\",\"17-02-2021\",2497,95508,98005\\n\"845\",22723,\"RTP\",\"Expreso\",\"Mi\\xc3\\xa9rcoles\",\"17-02-2021\",4740,51144,55884\\n\"846\",22724,\"RTP\",\"Atenea\",\"Mi\\xc3\\xa9rcoles\",\"17-02-2021\",NA,12355,12355\\n\"847\",22725,\"RTP\",\"Ecob\\xc3\\xbas\",\"Mi\\xc3\\xa9rcoles\",\"17-02-2021\",1687,16429,18116\\n\"848\",22726,\"RTP\",\"Nocturno\",\"Mi\\xc3\\xa9rcoles\",\"17-02-2021\",23,356,379\\n\"849\",22727,\"RTP\",\"Eco Atenea\",\"Mi\\xc3\\xa9rcoles\",\"17-02-2021\",NA,300,300\\n\"850\",22728,\"RTP\",\"Expreso Directo\",\"Mi\\xc3\\xa9rcoles\",\"17-02-2021\",113,883,996\\n\"851\",22729,\"RTP\",\"Temporal Pe\\xc3\\xb1\\xc3\\xb3n-Pante\\xc3\\xb3n San Isidro-Metro Camarones\",\"Mi\\xc3\\xa9rcoles\",\"17-02-2021\",85,1628,1713\\n\"852\",27013,\"RTP\",\"Temporal Zaragoza-Tacuba\",\"Mi\\xc3\\xa9rcoles\",\"17-02-2021\",20,2464,2484\\n\"853\",22730,\"RTP\",\"Ordinario\",\"Jueves\",\"18-02-2021\",2452,88526,90978\\n\"854\",22731,\"RTP\",\"Expreso\",\"Jueves\",\"18-02-2021\",4866,51587,56453\\n\"855\",22732,\"RTP\",\"Atenea\",\"Jueves\",\"18-02-2021\",NA,13717,13717\\n\"856\",22733,\"RTP\",\"Ecob\\xc3\\xbas\",\"Jueves\",\"18-02-2021\",1896,18814,20710\\n\"857\",22734,\"RTP\",\"Nocturno\",\"Jueves\",\"18-02-2021\",23,359,382\\n\"858\",22735,\"RTP\",\"Eco Atenea\",\"Jueves\",\"18-02-2021\",NA,190,190\\n\"859\",22736,\"RTP\",\"Expreso Directo\",\"Jueves\",\"18-02-2021\",125,860,985\\n\"860\",22737,\"RTP\",\"Temporal Pe\\xc3\\xb1\\xc3\\xb3n-Pante\\xc3\\xb3n San Isidro-Metro Camarones\",\"Jueves\",\"18-02-2021\",89,1504,1593\\n\"861\",27014,\"RTP\",\"Temporal Zaragoza-Tacuba\",\"Jueves\",\"18-02-2021\",12,2564,2576\\n\"862\",22738,\"RTP\",\"Ordinario\",\"Viernes\",\"19-02-2021\",2594,87872,90466\\n\"863\",22739,\"RTP\",\"Expreso\",\"Viernes\",\"19-02-2021\",4813,51678,56491\\n\"864\",22740,\"RTP\",\"Atenea\",\"Viernes\",\"19-02-2021\",NA,14089,14089\\n\"865\",22741,\"RTP\",\"Ecob\\xc3\\xbas\",\"Viernes\",\"19-02-2021\",1819,18476,20295\\n\"866\",22742,\"RTP\",\"Nocturno\",\"Viernes\",\"19-02-2021\",18,415,433\\n\"867\",22743,\"RTP\",\"Eco Atenea\",\"Viernes\",\"19-02-2021\",NA,469,469\\n\"868\",22744,\"RTP\",\"Expreso Directo\",\"Viernes\",\"19-02-2021\",110,785,895\\n\"869\",22745,\"RTP\",\"Temporal Tlalpan-Xochimilco\",\"Viernes\",\"19-02-2021\",56,3932,3988\\n\"870\",27015,\"RTP\",\"Temporal Zaragoza-Tacuba\",\"Viernes\",\"19-02-2021\",15,2064,2079\\n\"871\",22746,\"RTP\",\"Ordinario\",\"S\\xc3\\xa1bado\",\"20-02-2021\",1598,59020,60618\\n\"872\",22747,\"RTP\",\"Expreso\",\"S\\xc3\\xa1bado\",\"20-02-2021\",2702,37428,40130\\n\"873\",22748,\"RTP\",\"Atenea\",\"S\\xc3\\xa1bado\",\"20-02-2021\",NA,3373,3373\\n\"874\",22749,\"RTP\",\"Ecob\\xc3\\xbas\",\"S\\xc3\\xa1bado\",\"20-02-2021\",1043,13849,14892\\n\"875\",22750,\"RTP\",\"Nocturno\",\"S\\xc3\\xa1bado\",\"20-02-2021\",22,511,533\\n\"876\",22751,\"RTP\",\"Eco Atenea\",\"S\\xc3\\xa1bado\",\"20-02-2021\",NA,NA,NA\\n\"877\",22752,\"RTP\",\"Expreso Directo\",\"S\\xc3\\xa1bado\",\"20-02-2021\",9,239,248\\n\"878\",22753,\"RTP\",\"Temporal Tlalpan-Xochimilco\",\"S\\xc3\\xa1bado\",\"20-02-2021\",66,2872,2938\\n\"879\",27016,\"RTP\",\"Temporal Zaragoza-Tacuba\",\"S\\xc3\\xa1bado\",\"20-02-2021\",23,1607,1630\\n\"880\",22754,\"RTP\",\"Ordinario\",\"Domingo\",\"21-02-2021\",1055,41757,42812\\n\"881\",22755,\"RTP\",\"Expreso\",\"Domingo\",\"21-02-2021\",1527,25996,27523\\n\"882\",22756,\"RTP\",\"Atenea\",\"Domingo\",\"21-02-2021\",NA,1010,1010\\n\"883\",22757,\"RTP\",\"Ecob\\xc3\\xbas\",\"Domingo\",\"21-02-2021\",652,9109,9761\\n\"884\",22758,\"RTP\",\"Nocturno\",\"Domingo\",\"21-02-2021\",11,466,477\\n\"885\",22759,\"RTP\",\"Eco Atenea\",\"Domingo\",\"21-02-2021\",NA,0,0\\n\"886\",22760,\"RTP\",\"Expreso Directo\",\"Domingo\",\"21-02-2021\",0,0,0\\n\"887\",22761,\"RTP\",\"Temporal Tlalpan-Xochimilco\",\"Domingo\",\"21-02-2021\",37,1352,1389\\n\"888\",27017,\"RTP\",\"Temporal Zaragoza-Tacuba\",\"Domingo\",\"21-02-2021\",7,1353,1360\\n\"889\",22762,\"RTP\",\"Ordinario\",\"Lunes\",\"22-02-2021\",2400,90223,92623\\n\"890\",22763,\"RTP\",\"Expreso\",\"Lunes\",\"22-02-2021\",4859,55446,60305\\n\"891\",22764,\"RTP\",\"Atenea\",\"Lunes\",\"22-02-2021\",NA,10426,10426\\n\"892\",22765,\"RTP\",\"Ecob\\xc3\\xbas\",\"Lunes\",\"22-02-2021\",1863,19074,20937\\n\"893\",22766,\"RTP\",\"Nocturno\",\"Lunes\",\"22-02-2021\",18,339,357\\n\"894\",22767,\"RTP\",\"Eco Atenea\",\"Lunes\",\"22-02-2021\",NA,0,0\\n\"895\",22768,\"RTP\",\"Expreso Directo\",\"Lunes\",\"22-02-2021\",96,791,887\\n\"896\",22769,\"RTP\",\"Temporal Tlalpan-Xochimilco\",\"Lunes\",\"22-02-2021\",55,2622,2677\\n\"897\",27018,\"RTP\",\"Temporal Zaragoza-Tacuba\",\"Lunes\",\"22-02-2021\",27,2524,2551\\n\"898\",22770,\"RTP\",\"Ordinario\",\"Martes\",\"23-02-2021\",NA,NA,NA\\n\"899\",22771,\"RTP\",\"Expreso\",\"Martes\",\"23-02-2021\",NA,NA,NA\\n\"900\",22772,\"RTP\",\"Atenea\",\"Martes\",\"23-02-2021\",NA,NA,NA\\n\"901\",22773,\"RTP\",\"Ecob\\xc3\\xbas\",\"Martes\",\"23-02-2021\",NA,NA,NA\\n\"902\",22774,\"RTP\",\"Nocturno\",\"Martes\",\"23-02-2021\",NA,NA,NA\\n\"903\",22775,\"RTP\",\"Eco Atenea\",\"Martes\",\"23-02-2021\",NA,NA,NA\\n\"904\",22776,\"RTP\",\"Expreso Directo\",\"Martes\",\"23-02-2021\",NA,NA,NA\\n\"905\",22777,\"RTP\",\"Temporal Tlalpan-Xochimilco\",\"Martes\",\"23-02-2021\",NA,NA,NA\\n\"906\",27019,\"RTP\",\"Temporal Zaragoza-Tacuba\",\"Martes\",\"23-02-2021\",NA,NA,NA\\n\"907\",11370,\"STC\",\"L1\",\"Viernes\",\"01-01-2021\",NA,NA,127104\\n\"908\",11371,\"STC\",\"L2\",\"Viernes\",\"01-01-2021\",NA,NA,93035\\n\"909\",11372,\"STC\",\"L3\",\"Viernes\",\"01-01-2021\",NA,NA,88731\\n\"910\",11373,\"STC\",\"L4\",\"Viernes\",\"01-01-2021\",NA,NA,13716\\n\"911\",11374,\"STC\",\"L5\",\"Viernes\",\"01-01-2021\",NA,NA,53935\\n\"912\",11375,\"STC\",\"L6\",\"Viernes\",\"01-01-2021\",NA,NA,17077\\n\"913\",11376,\"STC\",\"L7\",\"Viernes\",\"01-01-2021\",NA,NA,30823\\n\"914\",11377,\"STC\",\"L8\",\"Viernes\",\"01-01-2021\",NA,NA,52027\\n\"915\",11378,\"STC\",\"L9\",\"Viernes\",\"01-01-2021\",NA,NA,45019\\n\"916\",11379,\"STC\",\"LA\",\"Viernes\",\"01-01-2021\",NA,NA,52495\\n\"917\",11380,\"STC\",\"LB\",\"Viernes\",\"01-01-2021\",NA,NA,84271\\n\"918\",11381,\"STC\",\"L12\",\"Viernes\",\"01-01-2021\",NA,NA,47636\\n\"919\",11382,\"STC\",\"L1\",\"S\\xc3\\xa1bado\",\"02-01-2021\",NA,NA,241384\\n\"920\",11383,\"STC\",\"L2\",\"S\\xc3\\xa1bado\",\"02-01-2021\",NA,NA,186900\\n\"921\",11384,\"STC\",\"L3\",\"S\\xc3\\xa1bado\",\"02-01-2021\",NA,NA,144990\\n\"922\",11385,\"STC\",\"L4\",\"S\\xc3\\xa1bado\",\"02-01-2021\",NA,NA,30788\\n\"923\",11386,\"STC\",\"L5\",\"S\\xc3\\xa1bado\",\"02-01-2021\",NA,NA,99721\\n\"924\",11387,\"STC\",\"L6\",\"S\\xc3\\xa1bado\",\"02-01-2021\",NA,NA,28901\\n\"925\",11388,\"STC\",\"L7\",\"S\\xc3\\xa1bado\",\"02-01-2021\",NA,NA,53855\\n\"926\",11389,\"STC\",\"L8\",\"S\\xc3\\xa1bado\",\"02-01-2021\",NA,NA,115955\\n\"927\",11390,\"STC\",\"L9\",\"S\\xc3\\xa1bado\",\"02-01-2021\",NA,NA,94394\\n\"928\",11391,\"STC\",\"LA\",\"S\\xc3\\xa1bado\",\"02-01-2021\",NA,NA,158056\\n\"929\",11392,\"STC\",\"LB\",\"S\\xc3\\xa1bado\",\"02-01-2021\",NA,NA,181641\\n\"930\",11393,\"STC\",\"L12\",\"S\\xc3\\xa1bado\",\"02-01-2021\",NA,NA,118085\\n\"931\",11394,\"STC\",\"L1\",\"Domingo\",\"03-01-2021\",NA,NA,207809\\n\"932\",11395,\"STC\",\"L2\",\"Domingo\",\"03-01-2021\",NA,NA,179032\\n\"933\",11396,\"STC\",\"L3\",\"Domingo\",\"03-01-2021\",NA,NA,148175\\n\"934\",11397,\"STC\",\"L4\",\"Domingo\",\"03-01-2021\",NA,NA,22963\\n\"935\",11398,\"STC\",\"L5\",\"Domingo\",\"03-01-2021\",NA,NA,74509\\n\"936\",11399,\"STC\",\"L6\",\"Domingo\",\"03-01-2021\",NA,NA,26609\\n\"937\",11400,\"STC\",\"L7\",\"Domingo\",\"03-01-2021\",NA,NA,53479\\n\"938\",11401,\"STC\",\"L8\",\"Domingo\",\"03-01-2021\",NA,NA,88162\\n\"939\",11402,\"STC\",\"L9\",\"Domingo\",\"03-01-2021\",NA,NA,84040\\n\"940\",11403,\"STC\",\"LA\",\"Domingo\",\"03-01-2021\",NA,NA,91549\\n\"941\",11404,\"STC\",\"LB\",\"Domingo\",\"03-01-2021\",NA,NA,155990\\n\"942\",11405,\"STC\",\"L12\",\"Domingo\",\"03-01-2021\",NA,NA,89291\\n\"943\",11406,\"STC\",\"L1\",\"Lunes\",\"04-01-2021\",NA,NA,390591\\n\"944\",11407,\"STC\",\"L2\",\"Lunes\",\"04-01-2021\",NA,NA,292027\\n\"945\",11408,\"STC\",\"L3\",\"Lunes\",\"04-01-2021\",NA,NA,278789\\n\"946\",11409,\"STC\",\"L4\",\"Lunes\",\"04-01-2021\",NA,NA,33231\\n\"947\",11410,\"STC\",\"L5\",\"Lunes\",\"04-01-2021\",NA,NA,132150\\n\"948\",11411,\"STC\",\"L6\",\"Lunes\",\"04-01-2021\",NA,NA,52454\\n\"949\",11412,\"STC\",\"L7\",\"Lunes\",\"04-01-2021\",NA,NA,109613\\n\"950\",11413,\"STC\",\"L8\",\"Lunes\",\"04-01-2021\",NA,NA,186292\\n\"951\",11414,\"STC\",\"L9\",\"Lunes\",\"04-01-2021\",NA,NA,155710\\n\"952\",11415,\"STC\",\"LA\",\"Lunes\",\"04-01-2021\",NA,NA,197216\\n\"953\",11416,\"STC\",\"LB\",\"Lunes\",\"04-01-2021\",NA,NA,251991\\n\"954\",11417,\"STC\",\"L12\",\"Lunes\",\"04-01-2021\",NA,NA,197134\\n\"955\",11418,\"STC\",\"L1\",\"Martes\",\"05-01-2021\",NA,NA,364471\\n\"956\",11419,\"STC\",\"L2\",\"Martes\",\"05-01-2021\",NA,NA,316802\\n\"957\",11420,\"STC\",\"L3\",\"Martes\",\"05-01-2021\",NA,NA,279540\\n\"958\",11421,\"STC\",\"L4\",\"Martes\",\"05-01-2021\",NA,NA,51711\\n\"959\",11422,\"STC\",\"L5\",\"Martes\",\"05-01-2021\",NA,NA,125549\\n\"960\",11423,\"STC\",\"L6\",\"Martes\",\"05-01-2021\",NA,NA,57856\\n\"961\",11424,\"STC\",\"L7\",\"Martes\",\"05-01-2021\",NA,NA,137611\\n\"962\",11425,\"STC\",\"L8\",\"Martes\",\"05-01-2021\",NA,NA,192486\\n\"963\",11426,\"STC\",\"L9\",\"Martes\",\"05-01-2021\",NA,NA,165147\\n\"964\",11427,\"STC\",\"LA\",\"Martes\",\"05-01-2021\",NA,NA,208037\\n\"965\",11428,\"STC\",\"LB\",\"Martes\",\"05-01-2021\",NA,NA,240277\\n\"966\",11429,\"STC\",\"L12\",\"Martes\",\"05-01-2021\",NA,NA,166396\\n\"967\",11430,\"STC\",\"L1\",\"Mi\\xc3\\xa9rcoles\",\"06-01-2021\",NA,NA,316752\\n\"968\",11431,\"STC\",\"L2\",\"Mi\\xc3\\xa9rcoles\",\"06-01-2021\",NA,NA,281845\\n\"969\",11432,\"STC\",\"L3\",\"Mi\\xc3\\xa9rcoles\",\"06-01-2021\",NA,NA,266089\\n\"970\",11433,\"STC\",\"L4\",\"Mi\\xc3\\xa9rcoles\",\"06-01-2021\",NA,NA,34647\\n\"971\",11434,\"STC\",\"L5\",\"Mi\\xc3\\xa9rcoles\",\"06-01-2021\",NA,NA,149994\\n\"972\",11435,\"STC\",\"L6\",\"Mi\\xc3\\xa9rcoles\",\"06-01-2021\",NA,NA,55716\\n\"973\",11436,\"STC\",\"L7\",\"Mi\\xc3\\xa9rcoles\",\"06-01-2021\",NA,NA,114124\\n\"974\",11437,\"STC\",\"L8\",\"Mi\\xc3\\xa9rcoles\",\"06-01-2021\",NA,NA,169070\\n\"975\",11438,\"STC\",\"L9\",\"Mi\\xc3\\xa9rcoles\",\"06-01-2021\",NA,NA,153772\\n\"976\",11439,\"STC\",\"LA\",\"Mi\\xc3\\xa9rcoles\",\"06-01-2021\",NA,NA,165478\\n\"977\",11440,\"STC\",\"LB\",\"Mi\\xc3\\xa9rcoles\",\"06-01-2021\",NA,NA,195077\\n\"978\",11441,\"STC\",\"L12\",\"Mi\\xc3\\xa9rcoles\",\"06-01-2021\",NA,NA,145079\\n\"979\",11442,\"STC\",\"L1\",\"Jueves\",\"07-01-2021\",NA,NA,316043\\n\"980\",11443,\"STC\",\"L2\",\"Jueves\",\"07-01-2021\",NA,NA,268765\\n\"981\",11444,\"STC\",\"L3\",\"Jueves\",\"07-01-2021\",NA,NA,263430\\n\"982\",11445,\"STC\",\"L4\",\"Jueves\",\"07-01-2021\",NA,NA,39878\\n\"983\",11446,\"STC\",\"L5\",\"Jueves\",\"07-01-2021\",NA,NA,119608\\n\"984\",11447,\"STC\",\"L6\",\"Jueves\",\"07-01-2021\",NA,NA,56435\\n\"985\",11448,\"STC\",\"L7\",\"Jueves\",\"07-01-2021\",NA,NA,117570\\n\"986\",11449,\"STC\",\"L8\",\"Jueves\",\"07-01-2021\",NA,NA,162329\\n\"987\",11450,\"STC\",\"L9\",\"Jueves\",\"07-01-2021\",NA,NA,162731\\n\"988\",11451,\"STC\",\"LA\",\"Jueves\",\"07-01-2021\",NA,NA,200278\\n\"989\",11452,\"STC\",\"LB\",\"Jueves\",\"07-01-2021\",NA,NA,195724\\n\"990\",11453,\"STC\",\"L12\",\"Jueves\",\"07-01-2021\",NA,NA,172612\\n\"991\",11454,\"STC\",\"L1\",\"Viernes\",\"08-01-2021\",NA,NA,334010\\n\"992\",11455,\"STC\",\"L2\",\"Viernes\",\"08-01-2021\",NA,NA,295217\\n\"993\",11456,\"STC\",\"L3\",\"Viernes\",\"08-01-2021\",NA,NA,294798\\n\"994\",11457,\"STC\",\"L4\",\"Viernes\",\"08-01-2021\",NA,NA,41620\\n\"995\",11458,\"STC\",\"L5\",\"Viernes\",\"08-01-2021\",NA,NA,111869\\n\"996\",11459,\"STC\",\"L6\",\"Viernes\",\"08-01-2021\",NA,NA,55703\\n\"997\",11460,\"STC\",\"L7\",\"Viernes\",\"08-01-2021\",NA,NA,118681\\n\"998\",11461,\"STC\",\"L8\",\"Viernes\",\"08-01-2021\",NA,NA,160854\\n\"999\",11462,\"STC\",\"L9\",\"Viernes\",\"08-01-2021\",NA,NA,161161\\n\"1000\",11463,\"STC\",\"LA\",\"Viernes\",\"08-01-2021\",NA,NA,157357\\n\"1001\",11464,\"STC\",\"LB\",\"Viernes\",\"08-01-2021\",NA,NA,170716\\n\"1002\",11465,\"STC\",\"L12\",\"Viernes\",\"08-01-2021\",NA,NA,145356\\n\"1003\",11466,\"STC\",\"L1\",\"S\\xc3\\xa1bado\",\"09-01-2021\",NA,NA,0\\n\"1004\",11467,\"STC\",\"L2\",\"S\\xc3\\xa1bado\",\"09-01-2021\",NA,NA,0\\n\"1005\",11468,\"STC\",\"L3\",\"S\\xc3\\xa1bado\",\"09-01-2021\",NA,NA,0\\n\"1006\",11469,\"STC\",\"L4\",\"S\\xc3\\xa1bado\",\"09-01-2021\",NA,NA,0\\n\"1007\",11470,\"STC\",\"L5\",\"S\\xc3\\xa1bado\",\"09-01-2021\",NA,NA,0\\n\"1008\",11471,\"STC\",\"L6\",\"S\\xc3\\xa1bado\",\"09-01-2021\",NA,NA,0\\n\"1009\",11472,\"STC\",\"L7\",\"S\\xc3\\xa1bado\",\"09-01-2021\",NA,NA,136746\\n\"1010\",11473,\"STC\",\"L8\",\"S\\xc3\\xa1bado\",\"09-01-2021\",NA,NA,204752\\n\"1011\",11474,\"STC\",\"L9\",\"S\\xc3\\xa1bado\",\"09-01-2021\",NA,NA,177107\\n\"1012\",11475,\"STC\",\"LA\",\"S\\xc3\\xa1bado\",\"09-01-2021\",NA,NA,204629\\n\"1013\",11476,\"STC\",\"LB\",\"S\\xc3\\xa1bado\",\"09-01-2021\",NA,NA,265294\\n\"1014\",11477,\"STC\",\"L12\",\"S\\xc3\\xa1bado\",\"09-01-2021\",NA,NA,199871\\n\"1015\",11478,\"STC\",\"L1\",\"Domingo\",\"10-01-2021\",NA,NA,0\\n\"1016\",11479,\"STC\",\"L2\",\"Domingo\",\"10-01-2021\",NA,NA,0\\n\"1017\",11480,\"STC\",\"L3\",\"Domingo\",\"10-01-2021\",NA,NA,0\\n\"1018\",11481,\"STC\",\"L4\",\"Domingo\",\"10-01-2021\",NA,NA,0\\n\"1019\",11482,\"STC\",\"L5\",\"Domingo\",\"10-01-2021\",NA,NA,0\\n\"1020\",11483,\"STC\",\"L6\",\"Domingo\",\"10-01-2021\",NA,NA,0\\n\"1021\",11484,\"STC\",\"L7\",\"Domingo\",\"10-01-2021\",NA,NA,65324\\n\"1022\",11485,\"STC\",\"L8\",\"Domingo\",\"10-01-2021\",NA,NA,98310\\n\"1023\",11486,\"STC\",\"L9\",\"Domingo\",\"10-01-2021\",NA,NA,104523\\n\"1024\",11487,\"STC\",\"LA\",\"Domingo\",\"10-01-2021\",NA,NA,126656\\n\"1025\",11488,\"STC\",\"LB\",\"Domingo\",\"10-01-2021\",NA,NA,176342\\n\"1026\",11489,\"STC\",\"L12\",\"Domingo\",\"10-01-2021\",NA,NA,106716\\n\"1027\",11490,\"STC\",\"L1\",\"Lunes\",\"11-01-2021\",NA,NA,0\\n\"1028\",11491,\"STC\",\"L2\",\"Lunes\",\"11-01-2021\",NA,NA,0\\n\"1029\",11492,\"STC\",\"L3\",\"Lunes\",\"11-01-2021\",NA,NA,0\\n\"1030\",11493,\"STC\",\"L4\",\"Lunes\",\"11-01-2021\",NA,NA,0\\n\"1031\",11494,\"STC\",\"L5\",\"Lunes\",\"11-01-2021\",NA,NA,0\\n\"1032\",11495,\"STC\",\"L6\",\"Lunes\",\"11-01-2021\",NA,NA,0\\n\"1033\",11496,\"STC\",\"L7\",\"Lunes\",\"11-01-2021\",NA,NA,124258\\n\"1034\",11497,\"STC\",\"L8\",\"Lunes\",\"11-01-2021\",NA,NA,190750\\n\"1035\",11498,\"STC\",\"L9\",\"Lunes\",\"11-01-2021\",NA,NA,232624\\n\"1036\",11499,\"STC\",\"LA\",\"Lunes\",\"11-01-2021\",NA,NA,182296\\n\"1037\",11500,\"STC\",\"LB\",\"Lunes\",\"11-01-2021\",NA,NA,205949\\n\"1038\",11501,\"STC\",\"L12\",\"Lunes\",\"11-01-2021\",NA,NA,179448\\n\"1039\",11502,\"STC\",\"L1\",\"Martes\",\"12-01-2021\",NA,NA,0\\n\"1040\",11503,\"STC\",\"L2\",\"Martes\",\"12-01-2021\",NA,NA,0\\n\"1041\",11504,\"STC\",\"L3\",\"Martes\",\"12-01-2021\",NA,NA,0\\n\"1042\",11505,\"STC\",\"L4\",\"Martes\",\"12-01-2021\",NA,NA,36710\\n\"1043\",11506,\"STC\",\"L5\",\"Martes\",\"12-01-2021\",NA,NA,106139\\n\"1044\",11507,\"STC\",\"L6\",\"Martes\",\"12-01-2021\",NA,NA,50926\\n\"1045\",11508,\"STC\",\"L7\",\"Martes\",\"12-01-2021\",NA,NA,148858\\n\"1046\",11509,\"STC\",\"L8\",\"Martes\",\"12-01-2021\",NA,NA,188818\\n\"1047\",11510,\"STC\",\"L9\",\"Martes\",\"12-01-2021\",NA,NA,239710\\n\"1048\",11511,\"STC\",\"LA\",\"Martes\",\"12-01-2021\",NA,NA,181153\\n\"1049\",11512,\"STC\",\"LB\",\"Martes\",\"12-01-2021\",NA,NA,204127\\n\"1050\",11513,\"STC\",\"L12\",\"Martes\",\"12-01-2021\",NA,NA,177667\\n\"1051\",11514,\"STC\",\"L1\",\"Mi\\xc3\\xa9rcoles\",\"13-01-2021\",NA,NA,0\\n\"1052\",11515,\"STC\",\"L2\",\"Mi\\xc3\\xa9rcoles\",\"13-01-2021\",NA,NA,0\\n\"1053\",11516,\"STC\",\"L3\",\"Mi\\xc3\\xa9rcoles\",\"13-01-2021\",NA,NA,0\\n\"1054\",11517,\"STC\",\"L4\",\"Mi\\xc3\\xa9rcoles\",\"13-01-2021\",NA,NA,33051\\n\"1055\",11518,\"STC\",\"L5\",\"Mi\\xc3\\xa9rcoles\",\"13-01-2021\",NA,NA,95567\\n\"1056\",11519,\"STC\",\"L6\",\"Mi\\xc3\\xa9rcoles\",\"13-01-2021\",NA,NA,47699\\n\"1057\",11520,\"STC\",\"L7\",\"Mi\\xc3\\xa9rcoles\",\"13-01-2021\",NA,NA,141735\\n\"1058\",11521,\"STC\",\"L8\",\"Mi\\xc3\\xa9rcoles\",\"13-01-2021\",NA,NA,198611\\n\"1059\",11522,\"STC\",\"L9\",\"Mi\\xc3\\xa9rcoles\",\"13-01-2021\",NA,NA,235161\\n\"1060\",11523,\"STC\",\"LA\",\"Mi\\xc3\\xa9rcoles\",\"13-01-2021\",NA,NA,198026\\n\"1061\",11524,\"STC\",\"LB\",\"Mi\\xc3\\xa9rcoles\",\"13-01-2021\",NA,NA,216219\\n\"1062\",11525,\"STC\",\"L12\",\"Mi\\xc3\\xa9rcoles\",\"13-01-2021\",NA,NA,179624\\n\"1063\",11526,\"STC\",\"L1\",\"Jueves\",\"14-01-2021\",NA,NA,0\\n\"1064\",11527,\"STC\",\"L2\",\"Jueves\",\"14-01-2021\",NA,NA,0\\n\"1065\",11528,\"STC\",\"L3\",\"Jueves\",\"14-01-2021\",NA,NA,0\\n\"1066\",11529,\"STC\",\"L4\",\"Jueves\",\"14-01-2021\",NA,NA,35149\\n\"1067\",11530,\"STC\",\"L5\",\"Jueves\",\"14-01-2021\",NA,NA,107368\\n\"1068\",11531,\"STC\",\"L6\",\"Jueves\",\"14-01-2021\",NA,NA,48261\\n\"1069\",11532,\"STC\",\"L7\",\"Jueves\",\"14-01-2021\",NA,NA,134811\\n\"1070\",11533,\"STC\",\"L8\",\"Jueves\",\"14-01-2021\",NA,NA,197954\\n\"1071\",11534,\"STC\",\"L9\",\"Jueves\",\"14-01-2021\",NA,NA,247123\\n\"1072\",11535,\"STC\",\"LA\",\"Jueves\",\"14-01-2021\",NA,NA,182800\\n\"1073\",11536,\"STC\",\"LB\",\"Jueves\",\"14-01-2021\",NA,NA,212345\\n\"1074\",11537,\"STC\",\"L12\",\"Jueves\",\"14-01-2021\",NA,NA,167763\\n\"1075\",11538,\"STC\",\"L1\",\"Viernes\",\"15-01-2021\",NA,NA,0\\n\"1076\",11539,\"STC\",\"L2\",\"Viernes\",\"15-01-2021\",NA,NA,0\\n\"1077\",11540,\"STC\",\"L3\",\"Viernes\",\"15-01-2021\",NA,NA,0\\n\"1078\",11541,\"STC\",\"L4\",\"Viernes\",\"15-01-2021\",NA,NA,32615\\n\"1079\",11542,\"STC\",\"L5\",\"Viernes\",\"15-01-2021\",NA,NA,124760\\n\"1080\",11543,\"STC\",\"L6\",\"Viernes\",\"15-01-2021\",NA,NA,50363\\n\"1081\",11544,\"STC\",\"L7\",\"Viernes\",\"15-01-2021\",NA,NA,130931\\n\"1082\",11545,\"STC\",\"L8\",\"Viernes\",\"15-01-2021\",NA,NA,202503\\n\"1083\",11546,\"STC\",\"L9\",\"Viernes\",\"15-01-2021\",NA,NA,231185\\n\"1084\",11547,\"STC\",\"LA\",\"Viernes\",\"15-01-2021\",NA,NA,178299\\n\"1085\",11548,\"STC\",\"LB\",\"Viernes\",\"15-01-2021\",NA,NA,234615\\n\"1086\",11549,\"STC\",\"L12\",\"Viernes\",\"15-01-2021\",NA,NA,166232\\n\"1087\",11550,\"STC\",\"L1\",\"S\\xc3\\xa1bado\",\"16-01-2021\",NA,NA,0\\n\"1088\",11551,\"STC\",\"L2\",\"S\\xc3\\xa1bado\",\"16-01-2021\",NA,NA,0\\n\"1089\",11552,\"STC\",\"L3\",\"S\\xc3\\xa1bado\",\"16-01-2021\",NA,NA,0\\n\"1090\",11553,\"STC\",\"L4\",\"S\\xc3\\xa1bado\",\"16-01-2021\",NA,NA,40530\\n\"1091\",11554,\"STC\",\"L5\",\"S\\xc3\\xa1bado\",\"16-01-2021\",NA,NA,89891\\n\"1092\",11555,\"STC\",\"L6\",\"S\\xc3\\xa1bado\",\"16-01-2021\",NA,NA,45272\\n\"1093\",11556,\"STC\",\"L7\",\"S\\xc3\\xa1bado\",\"16-01-2021\",NA,NA,113492\\n\"1094\",11557,\"STC\",\"L8\",\"S\\xc3\\xa1bado\",\"16-01-2021\",NA,NA,183823\\n\"1095\",11558,\"STC\",\"L9\",\"S\\xc3\\xa1bado\",\"16-01-2021\",NA,NA,208478\\n\"1096\",11559,\"STC\",\"LA\",\"S\\xc3\\xa1bado\",\"16-01-2021\",NA,NA,148267\\n\"1097\",11560,\"STC\",\"LB\",\"S\\xc3\\xa1bado\",\"16-01-2021\",NA,NA,221372\\n\"1098\",11561,\"STC\",\"L12\",\"S\\xc3\\xa1bado\",\"16-01-2021\",NA,NA,157164\\n\"1099\",11562,\"STC\",\"L1\",\"Domingo\",\"17-01-2021\",NA,NA,0\\n\"1100\",11563,\"STC\",\"L2\",\"Domingo\",\"17-01-2021\",NA,NA,0\\n\"1101\",11564,\"STC\",\"L3\",\"Domingo\",\"17-01-2021\",NA,NA,0\\n\"1102\",11565,\"STC\",\"L4\",\"Domingo\",\"17-01-2021\",NA,NA,24852\\n\"1103\",11566,\"STC\",\"L5\",\"Domingo\",\"17-01-2021\",NA,NA,53959\\n\"1104\",11567,\"STC\",\"L6\",\"Domingo\",\"17-01-2021\",NA,NA,19107\\n\"1105\",11568,\"STC\",\"L7\",\"Domingo\",\"17-01-2021\",NA,NA,56438\\n\"1106\",11569,\"STC\",\"L8\",\"Domingo\",\"17-01-2021\",NA,NA,91235\\n\"1107\",11570,\"STC\",\"L9\",\"Domingo\",\"17-01-2021\",NA,NA,100709\\n\"1108\",11571,\"STC\",\"LA\",\"Domingo\",\"17-01-2021\",NA,NA,97222\\n\"1109\",11572,\"STC\",\"LB\",\"Domingo\",\"17-01-2021\",NA,NA,122288\\n\"1110\",11573,\"STC\",\"L12\",\"Domingo\",\"17-01-2021\",NA,NA,80161\\n\"1111\",11574,\"STC\",\"L1\",\"Lunes\",\"18-01-2021\",NA,NA,0\\n\"1112\",11575,\"STC\",\"L2\",\"Lunes\",\"18-01-2021\",NA,NA,0\\n\"1113\",11576,\"STC\",\"L3\",\"Lunes\",\"18-01-2021\",NA,NA,0\\n\"1114\",11577,\"STC\",\"L4\",\"Lunes\",\"18-01-2021\",NA,NA,36779\\n\"1115\",11578,\"STC\",\"L5\",\"Lunes\",\"18-01-2021\",NA,NA,114712\\n\"1116\",11579,\"STC\",\"L6\",\"Lunes\",\"18-01-2021\",NA,NA,47281\\n\"1117\",11580,\"STC\",\"L7\",\"Lunes\",\"18-01-2021\",NA,NA,130129\\n\"1118\",11581,\"STC\",\"L8\",\"Lunes\",\"18-01-2021\",NA,NA,201568\\n\"1119\",11582,\"STC\",\"L9\",\"Lunes\",\"18-01-2021\",NA,NA,194255\\n\"1120\",11583,\"STC\",\"LA\",\"Lunes\",\"18-01-2021\",NA,NA,189857\\n\"1121\",11584,\"STC\",\"LB\",\"Lunes\",\"18-01-2021\",NA,NA,223554\\n\"1122\",11585,\"STC\",\"L12\",\"Lunes\",\"18-01-2021\",NA,NA,170320\\n\"1123\",11586,\"STC\",\"L1\",\"Martes\",\"19-01-2021\",NA,NA,0\\n\"1124\",11587,\"STC\",\"L2\",\"Martes\",\"19-01-2021\",NA,NA,0\\n\"1125\",11588,\"STC\",\"L3\",\"Martes\",\"19-01-2021\",NA,NA,0\\n\"1126\",11589,\"STC\",\"L4\",\"Martes\",\"19-01-2021\",NA,NA,36566\\n\"1127\",11590,\"STC\",\"L5\",\"Martes\",\"19-01-2021\",NA,NA,104771\\n\"1128\",11591,\"STC\",\"L6\",\"Martes\",\"19-01-2021\",NA,NA,54864\\n\"1129\",11592,\"STC\",\"L7\",\"Martes\",\"19-01-2021\",NA,NA,155144\\n\"1130\",11593,\"STC\",\"L8\",\"Martes\",\"19-01-2021\",NA,NA,194573\\n\"1131\",11594,\"STC\",\"L9\",\"Martes\",\"19-01-2021\",NA,NA,251924\\n\"1132\",11595,\"STC\",\"LA\",\"Martes\",\"19-01-2021\",NA,NA,211442\\n\"1133\",11596,\"STC\",\"LB\",\"Martes\",\"19-01-2021\",NA,NA,207453\\n\"1134\",11597,\"STC\",\"L12\",\"Martes\",\"19-01-2021\",NA,NA,204162\\n\"1135\",11598,\"STC\",\"L1\",\"Mi\\xc3\\xa9rcoles\",\"20-01-2021\",NA,NA,0\\n\"1136\",11599,\"STC\",\"L2\",\"Mi\\xc3\\xa9rcoles\",\"20-01-2021\",NA,NA,0\\n\"1137\",11600,\"STC\",\"L3\",\"Mi\\xc3\\xa9rcoles\",\"20-01-2021\",NA,NA,0\\n\"1138\",11601,\"STC\",\"L4\",\"Mi\\xc3\\xa9rcoles\",\"20-01-2021\",NA,NA,40412\\n\"1139\",11602,\"STC\",\"L5\",\"Mi\\xc3\\xa9rcoles\",\"20-01-2021\",NA,NA,105862\\n\"1140\",11603,\"STC\",\"L6\",\"Mi\\xc3\\xa9rcoles\",\"20-01-2021\",NA,NA,53814\\n\"1141\",11604,\"STC\",\"L7\",\"Mi\\xc3\\xa9rcoles\",\"20-01-2021\",NA,NA,168638\\n\"1142\",11605,\"STC\",\"L8\",\"Mi\\xc3\\xa9rcoles\",\"20-01-2021\",NA,NA,210319\\n\"1143\",11606,\"STC\",\"L9\",\"Mi\\xc3\\xa9rcoles\",\"20-01-2021\",NA,NA,248064\\n\"1144\",11607,\"STC\",\"LA\",\"Mi\\xc3\\xa9rcoles\",\"20-01-2021\",NA,NA,214901\\n\"1145\",11608,\"STC\",\"LB\",\"Mi\\xc3\\xa9rcoles\",\"20-01-2021\",NA,NA,214888\\n\"1146\",11609,\"STC\",\"L12\",\"Mi\\xc3\\xa9rcoles\",\"20-01-2021\",NA,NA,199253\\n\"1147\",11610,\"STC\",\"L1\",\"Jueves\",\"21-01-2021\",NA,NA,0\\n\"1148\",11611,\"STC\",\"L2\",\"Jueves\",\"21-01-2021\",NA,NA,0\\n\"1149\",11612,\"STC\",\"L3\",\"Jueves\",\"21-01-2021\",NA,NA,0\\n\"1150\",11613,\"STC\",\"L4\",\"Jueves\",\"21-01-2021\",NA,NA,42462\\n\"1151\",11614,\"STC\",\"L5\",\"Jueves\",\"21-01-2021\",NA,NA,99718\\n\"1152\",11615,\"STC\",\"L6\",\"Jueves\",\"21-01-2021\",NA,NA,56587\\n\"1153\",11616,\"STC\",\"L7\",\"Jueves\",\"21-01-2021\",NA,NA,151373\\n\"1154\",11617,\"STC\",\"L8\",\"Jueves\",\"21-01-2021\",NA,NA,197118\\n\"1155\",11618,\"STC\",\"L9\",\"Jueves\",\"21-01-2021\",NA,NA,239384\\n\"1156\",11619,\"STC\",\"LA\",\"Jueves\",\"21-01-2021\",NA,NA,189978\\n\"1157\",11620,\"STC\",\"LB\",\"Jueves\",\"21-01-2021\",NA,NA,218451\\n\"1158\",11621,\"STC\",\"L12\",\"Jueves\",\"21-01-2021\",NA,NA,183675\\n\"1159\",11622,\"STC\",\"L1\",\"Viernes\",\"22-01-2021\",NA,NA,0\\n\"1160\",11623,\"STC\",\"L2\",\"Viernes\",\"22-01-2021\",NA,NA,0\\n\"1161\",11624,\"STC\",\"L3\",\"Viernes\",\"22-01-2021\",NA,NA,0\\n\"1162\",11625,\"STC\",\"L4\",\"Viernes\",\"22-01-2021\",NA,NA,45489\\n\"1163\",11626,\"STC\",\"L5\",\"Viernes\",\"22-01-2021\",NA,NA,107809\\n\"1164\",11627,\"STC\",\"L6\",\"Viernes\",\"22-01-2021\",NA,NA,56298\\n\"1165\",11628,\"STC\",\"L7\",\"Viernes\",\"22-01-2021\",NA,NA,148224\\n\"1166\",11629,\"STC\",\"L8\",\"Viernes\",\"22-01-2021\",NA,NA,220370\\n\"1167\",11630,\"STC\",\"L9\",\"Viernes\",\"22-01-2021\",NA,NA,256510\\n\"1168\",11631,\"STC\",\"LA\",\"Viernes\",\"22-01-2021\",NA,NA,168697\\n\"1169\",11632,\"STC\",\"LB\",\"Viernes\",\"22-01-2021\",NA,NA,226665\\n\"1170\",11633,\"STC\",\"L12\",\"Viernes\",\"22-01-2021\",NA,NA,158308\\n\"1171\",11634,\"STC\",\"L1\",\"S\\xc3\\xa1bado\",\"23-01-2021\",NA,NA,0\\n\"1172\",11635,\"STC\",\"L2\",\"S\\xc3\\xa1bado\",\"23-01-2021\",NA,NA,0\\n\"1173\",11636,\"STC\",\"L3\",\"S\\xc3\\xa1bado\",\"23-01-2021\",NA,NA,0\\n\"1174\",11637,\"STC\",\"L4\",\"S\\xc3\\xa1bado\",\"23-01-2021\",NA,NA,35712\\n\"1175\",11638,\"STC\",\"L5\",\"S\\xc3\\xa1bado\",\"23-01-2021\",NA,NA,98442\\n\"1176\",11639,\"STC\",\"L6\",\"S\\xc3\\xa1bado\",\"23-01-2021\",NA,NA,41637\\n\"1177\",11640,\"STC\",\"L7\",\"S\\xc3\\xa1bado\",\"23-01-2021\",NA,NA,105149\\n\"1178\",11641,\"STC\",\"L8\",\"S\\xc3\\xa1bado\",\"23-01-2021\",NA,NA,184025\\n\"1179\",11642,\"STC\",\"L9\",\"S\\xc3\\xa1bado\",\"23-01-2021\",NA,NA,211208\\n\"1180\",11643,\"STC\",\"LA\",\"S\\xc3\\xa1bado\",\"23-01-2021\",NA,NA,169173\\n\"1181\",11644,\"STC\",\"LB\",\"S\\xc3\\xa1bado\",\"23-01-2021\",NA,NA,204345\\n\"1182\",11645,\"STC\",\"L12\",\"S\\xc3\\xa1bado\",\"23-01-2021\",NA,NA,156727\\n\"1183\",11646,\"STC\",\"L1\",\"Domingo\",\"24-01-2021\",NA,NA,0\\n\"1184\",11647,\"STC\",\"L2\",\"Domingo\",\"24-01-2021\",NA,NA,0\\n\"1185\",11648,\"STC\",\"L3\",\"Domingo\",\"24-01-2021\",NA,NA,0\\n\"1186\",11649,\"STC\",\"L4\",\"Domingo\",\"24-01-2021\",NA,NA,23716\\n\"1187\",11650,\"STC\",\"L5\",\"Domingo\",\"24-01-2021\",NA,NA,61625\\n\"1188\",11651,\"STC\",\"L6\",\"Domingo\",\"24-01-2021\",NA,NA,21323\\n\"1189\",11652,\"STC\",\"L7\",\"Domingo\",\"24-01-2021\",NA,NA,57554\\n\"1190\",11653,\"STC\",\"L8\",\"Domingo\",\"24-01-2021\",NA,NA,136189\\n\"1191\",11654,\"STC\",\"L9\",\"Domingo\",\"24-01-2021\",NA,NA,133952\\n\"1192\",11655,\"STC\",\"LA\",\"Domingo\",\"24-01-2021\",NA,NA,137618\\n\"1193\",11656,\"STC\",\"LB\",\"Domingo\",\"24-01-2021\",NA,NA,112262\\n\"1194\",11657,\"STC\",\"L12\",\"Domingo\",\"24-01-2021\",NA,NA,117843\\n\"1195\",11658,\"STC\",\"L1\",\"Lunes\",\"25-01-2021\",NA,NA,249365\\n\"1196\",11659,\"STC\",\"L2\",\"Lunes\",\"25-01-2021\",NA,NA,0\\n\"1197\",11660,\"STC\",\"L3\",\"Lunes\",\"25-01-2021\",NA,NA,0\\n\"1198\",11661,\"STC\",\"L4\",\"Lunes\",\"25-01-2021\",NA,NA,36008\\n\"1199\",11662,\"STC\",\"L5\",\"Lunes\",\"25-01-2021\",NA,NA,113472\\n\"1200\",11663,\"STC\",\"L6\",\"Lunes\",\"25-01-2021\",NA,NA,50494\\n\"1201\",11664,\"STC\",\"L7\",\"Lunes\",\"25-01-2021\",NA,NA,126166\\n\"1202\",11665,\"STC\",\"L8\",\"Lunes\",\"25-01-2021\",NA,NA,193088\\n\"1203\",11666,\"STC\",\"L9\",\"Lunes\",\"25-01-2021\",NA,NA,214823\\n\"1204\",11667,\"STC\",\"LA\",\"Lunes\",\"25-01-2021\",NA,NA,207978\\n\"1205\",11668,\"STC\",\"LB\",\"Lunes\",\"25-01-2021\",NA,NA,216543\\n\"1206\",11669,\"STC\",\"L12\",\"Lunes\",\"25-01-2021\",NA,NA,206784\\n\"1207\",11670,\"STC\",\"L1\",\"Martes\",\"26-01-2021\",NA,NA,265537\\n\"1208\",11671,\"STC\",\"L2\",\"Martes\",\"26-01-2021\",NA,NA,0\\n\"1209\",11672,\"STC\",\"L3\",\"Martes\",\"26-01-2021\",NA,NA,0\\n\"1210\",11673,\"STC\",\"L4\",\"Martes\",\"26-01-2021\",NA,NA,40029\\n\"1211\",11674,\"STC\",\"L5\",\"Martes\",\"26-01-2021\",NA,NA,113903\\n\"1212\",11675,\"STC\",\"L6\",\"Martes\",\"26-01-2021\",NA,NA,58693\\n\"1213\",11676,\"STC\",\"L7\",\"Martes\",\"26-01-2021\",NA,NA,144972\\n\"1214\",11677,\"STC\",\"L8\",\"Martes\",\"26-01-2021\",NA,NA,180055\\n\"1215\",11678,\"STC\",\"L9\",\"Martes\",\"26-01-2021\",NA,NA,218307\\n\"1216\",11679,\"STC\",\"LA\",\"Martes\",\"26-01-2021\",NA,NA,217052\\n\"1217\",11680,\"STC\",\"LB\",\"Martes\",\"26-01-2021\",NA,NA,200142\\n\"1218\",11681,\"STC\",\"L12\",\"Martes\",\"26-01-2021\",NA,NA,202705\\n\"1219\",11682,\"STC\",\"L1\",\"Mi\\xc3\\xa9rcoles\",\"27-01-2021\",NA,NA,251542\\n\"1220\",11683,\"STC\",\"L2\",\"Mi\\xc3\\xa9rcoles\",\"27-01-2021\",NA,NA,0\\n\"1221\",11684,\"STC\",\"L3\",\"Mi\\xc3\\xa9rcoles\",\"27-01-2021\",NA,NA,0\\n\"1222\",11685,\"STC\",\"L4\",\"Mi\\xc3\\xa9rcoles\",\"27-01-2021\",NA,NA,36678\\n\"1223\",11686,\"STC\",\"L5\",\"Mi\\xc3\\xa9rcoles\",\"27-01-2021\",NA,NA,113620\\n\"1224\",11687,\"STC\",\"L6\",\"Mi\\xc3\\xa9rcoles\",\"27-01-2021\",NA,NA,51297\\n\"1225\",11688,\"STC\",\"L7\",\"Mi\\xc3\\xa9rcoles\",\"27-01-2021\",NA,NA,131122\\n\"1226\",11689,\"STC\",\"L8\",\"Mi\\xc3\\xa9rcoles\",\"27-01-2021\",NA,NA,203389\\n\"1227\",11690,\"STC\",\"L9\",\"Mi\\xc3\\xa9rcoles\",\"27-01-2021\",NA,NA,212851\\n\"1228\",11691,\"STC\",\"LA\",\"Mi\\xc3\\xa9rcoles\",\"27-01-2021\",NA,NA,209260\\n\"1229\",11692,\"STC\",\"LB\",\"Mi\\xc3\\xa9rcoles\",\"27-01-2021\",NA,NA,200848\\n\"1230\",11693,\"STC\",\"L12\",\"Mi\\xc3\\xa9rcoles\",\"27-01-2021\",NA,NA,212730\\n\"1231\",11694,\"STC\",\"L1\",\"Jueves\",\"28-01-2021\",NA,NA,283383\\n\"1232\",11695,\"STC\",\"L2\",\"Jueves\",\"28-01-2021\",NA,NA,0\\n\"1233\",11696,\"STC\",\"L3\",\"Jueves\",\"28-01-2021\",NA,NA,0\\n\"1234\",11697,\"STC\",\"L4\",\"Jueves\",\"28-01-2021\",NA,NA,36018\\n\"1235\",11698,\"STC\",\"L5\",\"Jueves\",\"28-01-2021\",NA,NA,104985\\n\"1236\",11699,\"STC\",\"L6\",\"Jueves\",\"28-01-2021\",NA,NA,49510\\n\"1237\",11700,\"STC\",\"L7\",\"Jueves\",\"28-01-2021\",NA,NA,133925\\n\"1238\",11701,\"STC\",\"L8\",\"Jueves\",\"28-01-2021\",NA,NA,201200\\n\"1239\",11702,\"STC\",\"L9\",\"Jueves\",\"28-01-2021\",NA,NA,211045\\n\"1240\",11703,\"STC\",\"LA\",\"Jueves\",\"28-01-2021\",NA,NA,179880\\n\"1241\",11704,\"STC\",\"LB\",\"Jueves\",\"28-01-2021\",NA,NA,202737\\n\"1242\",11705,\"STC\",\"L12\",\"Jueves\",\"28-01-2021\",NA,NA,200534\\n\"1243\",11706,\"STC\",\"L1\",\"Viernes\",\"29-01-2021\",NA,NA,285599\\n\"1244\",11707,\"STC\",\"L2\",\"Viernes\",\"29-01-2021\",NA,NA,0\\n\"1245\",11708,\"STC\",\"L3\",\"Viernes\",\"29-01-2021\",NA,NA,0\\n\"1246\",11709,\"STC\",\"L4\",\"Viernes\",\"29-01-2021\",NA,NA,38437\\n\"1247\",11710,\"STC\",\"L5\",\"Viernes\",\"29-01-2021\",NA,NA,129236\\n\"1248\",11711,\"STC\",\"L6\",\"Viernes\",\"29-01-2021\",NA,NA,58997\\n\"1249\",11712,\"STC\",\"L7\",\"Viernes\",\"29-01-2021\",NA,NA,142513\\n\"1250\",11713,\"STC\",\"L8\",\"Viernes\",\"29-01-2021\",NA,NA,202347\\n\"1251\",11714,\"STC\",\"L9\",\"Viernes\",\"29-01-2021\",NA,NA,205390\\n\"1252\",11715,\"STC\",\"LA\",\"Viernes\",\"29-01-2021\",NA,NA,191087\\n\"1253\",11716,\"STC\",\"LB\",\"Viernes\",\"29-01-2021\",NA,NA,216335\\n\"1254\",11717,\"STC\",\"L12\",\"Viernes\",\"29-01-2021\",NA,NA,163245\\n\"1255\",11718,\"STC\",\"L1\",\"S\\xc3\\xa1bado\",\"30-01-2021\",NA,NA,262330\\n\"1256\",11719,\"STC\",\"L2\",\"S\\xc3\\xa1bado\",\"30-01-2021\",NA,NA,0\\n\"1257\",11720,\"STC\",\"L3\",\"S\\xc3\\xa1bado\",\"30-01-2021\",NA,NA,0\\n\"1258\",11721,\"STC\",\"L4\",\"S\\xc3\\xa1bado\",\"30-01-2021\",NA,NA,34389\\n\"1259\",11722,\"STC\",\"L5\",\"S\\xc3\\xa1bado\",\"30-01-2021\",NA,NA,92767\\n\"1260\",11723,\"STC\",\"L6\",\"S\\xc3\\xa1bado\",\"30-01-2021\",NA,NA,42049\\n\"1261\",11724,\"STC\",\"L7\",\"S\\xc3\\xa1bado\",\"30-01-2021\",NA,NA,117387\\n\"1262\",11725,\"STC\",\"L8\",\"S\\xc3\\xa1bado\",\"30-01-2021\",NA,NA,177172\\n\"1263\",11726,\"STC\",\"L9\",\"S\\xc3\\xa1bado\",\"30-01-2021\",NA,NA,180756\\n\"1264\",11727,\"STC\",\"LA\",\"S\\xc3\\xa1bado\",\"30-01-2021\",NA,NA,178792\\n\"1265\",11728,\"STC\",\"LB\",\"S\\xc3\\xa1bado\",\"30-01-2021\",NA,NA,203854\\n\"1266\",11729,\"STC\",\"L12\",\"S\\xc3\\xa1bado\",\"30-01-2021\",NA,NA,175469\\n\"1267\",11730,\"STC\",\"L1\",\"Domingo\",\"31-01-2021\",NA,NA,165610\\n\"1268\",11731,\"STC\",\"L2\",\"Domingo\",\"31-01-2021\",NA,NA,0\\n\"1269\",11732,\"STC\",\"L3\",\"Domingo\",\"31-01-2021\",NA,NA,0\\n\"1270\",11733,\"STC\",\"L4\",\"Domingo\",\"31-01-2021\",NA,NA,23926\\n\"1271\",11734,\"STC\",\"L5\",\"Domingo\",\"31-01-2021\",NA,NA,68916\\n\"1272\",11735,\"STC\",\"L6\",\"Domingo\",\"31-01-2021\",NA,NA,20819\\n\"1273\",11736,\"STC\",\"L7\",\"Domingo\",\"31-01-2021\",NA,NA,58446\\n\"1274\",11737,\"STC\",\"L8\",\"Domingo\",\"31-01-2021\",NA,NA,104928\\n\"1275\",11738,\"STC\",\"L9\",\"Domingo\",\"31-01-2021\",NA,NA,87502\\n\"1276\",11739,\"STC\",\"LA\",\"Domingo\",\"31-01-2021\",NA,NA,137222\\n\"1277\",11740,\"STC\",\"LB\",\"Domingo\",\"31-01-2021\",NA,NA,119215\\n\"1278\",11741,\"STC\",\"L12\",\"Domingo\",\"31-01-2021\",NA,NA,123320\\n\"1279\",11742,\"STC\",\"L1\",\"Lunes\",\"01-02-2021\",NA,NA,249032\\n\"1280\",11743,\"STC\",\"L2\",\"Lunes\",\"01-02-2021\",NA,NA,0\\n\"1281\",11744,\"STC\",\"L3\",\"Lunes\",\"01-02-2021\",NA,NA,116035\\n\"1282\",11745,\"STC\",\"L4\",\"Lunes\",\"01-02-2021\",NA,NA,27694\\n\"1283\",11746,\"STC\",\"L5\",\"Lunes\",\"01-02-2021\",NA,NA,74319\\n\"1284\",11747,\"STC\",\"L6\",\"Lunes\",\"01-02-2021\",NA,NA,24086\\n\"1285\",11748,\"STC\",\"L7\",\"Lunes\",\"01-02-2021\",NA,NA,72393\\n\"1286\",11749,\"STC\",\"L8\",\"Lunes\",\"01-02-2021\",NA,NA,119655\\n\"1287\",11750,\"STC\",\"L9\",\"Lunes\",\"01-02-2021\",NA,NA,121329\\n\"1288\",11751,\"STC\",\"LA\",\"Lunes\",\"01-02-2021\",NA,NA,181696\\n\"1289\",11752,\"STC\",\"LB\",\"Lunes\",\"01-02-2021\",NA,NA,147684\\n\"1290\",11753,\"STC\",\"L12\",\"Lunes\",\"01-02-2021\",NA,NA,156775\\n\"1291\",11754,\"STC\",\"L1\",\"Martes\",\"02-02-2021\",NA,NA,283958\\n\"1292\",11755,\"STC\",\"L2\",\"Martes\",\"02-02-2021\",NA,NA,0\\n\"1293\",11756,\"STC\",\"L3\",\"Martes\",\"02-02-2021\",NA,NA,172230\\n\"1294\",11757,\"STC\",\"L4\",\"Martes\",\"02-02-2021\",NA,NA,38897\\n\"1295\",11758,\"STC\",\"L5\",\"Martes\",\"02-02-2021\",NA,NA,114138\\n\"1296\",11759,\"STC\",\"L6\",\"Martes\",\"02-02-2021\",NA,NA,50593\\n\"1297\",11760,\"STC\",\"L7\",\"Martes\",\"02-02-2021\",NA,NA,133822\\n\"1298\",11761,\"STC\",\"L8\",\"Martes\",\"02-02-2021\",NA,NA,189660\\n\"1299\",11762,\"STC\",\"L9\",\"Martes\",\"02-02-2021\",NA,NA,175289\\n\"1300\",11763,\"STC\",\"LA\",\"Martes\",\"02-02-2021\",NA,NA,205587\\n\"1301\",11764,\"STC\",\"LB\",\"Martes\",\"02-02-2021\",NA,NA,192264\\n\"1302\",11765,\"STC\",\"L12\",\"Martes\",\"02-02-2021\",NA,NA,208868\\n\"1303\",11766,\"STC\",\"L1\",\"Mi\\xc3\\xa9rcoles\",\"03-02-2021\",NA,NA,302971\\n\"1304\",11767,\"STC\",\"L2\",\"Mi\\xc3\\xa9rcoles\",\"03-02-2021\",NA,NA,0\\n\"1305\",11768,\"STC\",\"L3\",\"Mi\\xc3\\xa9rcoles\",\"03-02-2021\",NA,NA,184513\\n\"1306\",11769,\"STC\",\"L4\",\"Mi\\xc3\\xa9rcoles\",\"03-02-2021\",NA,NA,39750\\n\"1307\",11770,\"STC\",\"L5\",\"Mi\\xc3\\xa9rcoles\",\"03-02-2021\",NA,NA,114921\\n\"1308\",11771,\"STC\",\"L6\",\"Mi\\xc3\\xa9rcoles\",\"03-02-2021\",NA,NA,52482\\n\"1309\",11772,\"STC\",\"L7\",\"Mi\\xc3\\xa9rcoles\",\"03-02-2021\",NA,NA,142135\\n\"1310\",11773,\"STC\",\"L8\",\"Mi\\xc3\\xa9rcoles\",\"03-02-2021\",NA,NA,203037\\n\"1311\",11774,\"STC\",\"L9\",\"Mi\\xc3\\xa9rcoles\",\"03-02-2021\",NA,NA,186863\\n\"1312\",11775,\"STC\",\"LA\",\"Mi\\xc3\\xa9rcoles\",\"03-02-2021\",NA,NA,201943\\n\"1313\",11776,\"STC\",\"LB\",\"Mi\\xc3\\xa9rcoles\",\"03-02-2021\",NA,NA,211575\\n\"1314\",11777,\"STC\",\"L12\",\"Mi\\xc3\\xa9rcoles\",\"03-02-2021\",NA,NA,209772\\n\"1315\",11778,\"STC\",\"L1\",\"Jueves\",\"04-02-2021\",NA,NA,261722\\n\"1316\",11779,\"STC\",\"L2\",\"Jueves\",\"04-02-2021\",NA,NA,0\\n\"1317\",11780,\"STC\",\"L3\",\"Jueves\",\"04-02-2021\",NA,NA,201415\\n\"1318\",11781,\"STC\",\"L4\",\"Jueves\",\"04-02-2021\",NA,NA,36414\\n\"1319\",11782,\"STC\",\"L5\",\"Jueves\",\"04-02-2021\",NA,NA,112484\\n\"1320\",11783,\"STC\",\"L6\",\"Jueves\",\"04-02-2021\",NA,NA,52745\\n\"1321\",11784,\"STC\",\"L7\",\"Jueves\",\"04-02-2021\",NA,NA,136062\\n\"1322\",11785,\"STC\",\"L8\",\"Jueves\",\"04-02-2021\",NA,NA,197670\\n\"1323\",11786,\"STC\",\"L9\",\"Jueves\",\"04-02-2021\",NA,NA,223937\\n\"1324\",11787,\"STC\",\"LA\",\"Jueves\",\"04-02-2021\",NA,NA,188487\\n\"1325\",11788,\"STC\",\"LB\",\"Jueves\",\"04-02-2021\",NA,NA,195312\\n\"1326\",11789,\"STC\",\"L12\",\"Jueves\",\"04-02-2021\",NA,NA,211632\\n\"1327\",11790,\"STC\",\"L1\",\"Viernes\",\"05-02-2021\",NA,NA,308163\\n\"1328\",11791,\"STC\",\"L2\",\"Viernes\",\"05-02-2021\",NA,NA,0\\n\"1329\",11792,\"STC\",\"L3\",\"Viernes\",\"05-02-2021\",NA,NA,209454\\n\"1330\",11793,\"STC\",\"L4\",\"Viernes\",\"05-02-2021\",NA,NA,39056\\n\"1331\",11794,\"STC\",\"L5\",\"Viernes\",\"05-02-2021\",NA,NA,123524\\n\"1332\",11795,\"STC\",\"L6\",\"Viernes\",\"05-02-2021\",NA,NA,55201\\n\"1333\",11796,\"STC\",\"L7\",\"Viernes\",\"05-02-2021\",NA,NA,135950\\n\"1334\",11797,\"STC\",\"L8\",\"Viernes\",\"05-02-2021\",NA,NA,199183\\n\"1335\",11798,\"STC\",\"L9\",\"Viernes\",\"05-02-2021\",NA,NA,194537\\n\"1336\",11799,\"STC\",\"LA\",\"Viernes\",\"05-02-2021\",NA,NA,189627\\n\"1337\",11800,\"STC\",\"LB\",\"Viernes\",\"05-02-2021\",NA,NA,218419\\n\"1338\",11801,\"STC\",\"L12\",\"Viernes\",\"05-02-2021\",NA,NA,203447\\n\"1339\",11802,\"STC\",\"L1\",\"S\\xc3\\xa1bado\",\"06-02-2021\",NA,NA,271850\\n\"1340\",11803,\"STC\",\"L2\",\"S\\xc3\\xa1bado\",\"06-02-2021\",NA,NA,0\\n\"1341\",11804,\"STC\",\"L3\",\"S\\xc3\\xa1bado\",\"06-02-2021\",NA,NA,180894\\n\"1342\",11805,\"STC\",\"L4\",\"S\\xc3\\xa1bado\",\"06-02-2021\",NA,NA,40930\\n\"1343\",11806,\"STC\",\"L5\",\"S\\xc3\\xa1bado\",\"06-02-2021\",NA,NA,117426\\n\"1344\",11807,\"STC\",\"L6\",\"S\\xc3\\xa1bado\",\"06-02-2021\",NA,NA,41765\\n\"1345\",11808,\"STC\",\"L7\",\"S\\xc3\\xa1bado\",\"06-02-2021\",NA,NA,121830\\n\"1346\",11809,\"STC\",\"L8\",\"S\\xc3\\xa1bado\",\"06-02-2021\",NA,NA,187309\\n\"1347\",11810,\"STC\",\"L9\",\"S\\xc3\\xa1bado\",\"06-02-2021\",NA,NA,175779\\n\"1348\",11811,\"STC\",\"LA\",\"S\\xc3\\xa1bado\",\"06-02-2021\",NA,NA,179551\\n\"1349\",11812,\"STC\",\"LB\",\"S\\xc3\\xa1bado\",\"06-02-2021\",NA,NA,208889\\n\"1350\",11813,\"STC\",\"L12\",\"S\\xc3\\xa1bado\",\"06-02-2021\",NA,NA,182962\\n\"1351\",11814,\"STC\",\"L1\",\"Domingo\",\"07-02-2021\",NA,NA,166662\\n\"1352\",11815,\"STC\",\"L2\",\"Domingo\",\"07-02-2021\",NA,NA,0\\n\"1353\",11816,\"STC\",\"L3\",\"Domingo\",\"07-02-2021\",NA,NA,126850\\n\"1354\",11817,\"STC\",\"L4\",\"Domingo\",\"07-02-2021\",NA,NA,20658\\n\"1355\",11818,\"STC\",\"L5\",\"Domingo\",\"07-02-2021\",NA,NA,73295\\n\"1356\",11819,\"STC\",\"L6\",\"Domingo\",\"07-02-2021\",NA,NA,21214\\n\"1357\",11820,\"STC\",\"L7\",\"Domingo\",\"07-02-2021\",NA,NA,49182\\n\"1358\",11821,\"STC\",\"L8\",\"Domingo\",\"07-02-2021\",NA,NA,105749\\n\"1359\",11822,\"STC\",\"L9\",\"Domingo\",\"07-02-2021\",NA,NA,86965\\n\"1360\",11823,\"STC\",\"LA\",\"Domingo\",\"07-02-2021\",NA,NA,139227\\n\"1361\",11824,\"STC\",\"LB\",\"Domingo\",\"07-02-2021\",NA,NA,113035\\n\"1362\",11825,\"STC\",\"L12\",\"Domingo\",\"07-02-2021\",NA,NA,119703\\n\"1363\",11826,\"STC\",\"L1\",\"Lunes\",\"08-02-2021\",NA,NA,291639\\n\"1364\",11827,\"STC\",\"L2\",\"Lunes\",\"08-02-2021\",NA,NA,211468\\n\"1365\",11828,\"STC\",\"L3\",\"Lunes\",\"08-02-2021\",NA,NA,208651\\n\"1366\",11829,\"STC\",\"L4\",\"Lunes\",\"08-02-2021\",NA,NA,28811\\n\"1367\",11830,\"STC\",\"L5\",\"Lunes\",\"08-02-2021\",NA,NA,120171\\n\"1368\",11831,\"STC\",\"L6\",\"Lunes\",\"08-02-2021\",NA,NA,49553\\n\"1369\",11832,\"STC\",\"L7\",\"Lunes\",\"08-02-2021\",NA,NA,121276\\n\"1370\",11833,\"STC\",\"L8\",\"Lunes\",\"08-02-2021\",NA,NA,177154\\n\"1371\",11834,\"STC\",\"L9\",\"Lunes\",\"08-02-2021\",NA,NA,165499\\n\"1372\",11835,\"STC\",\"LA\",\"Lunes\",\"08-02-2021\",NA,NA,185006\\n\"1373\",11836,\"STC\",\"LB\",\"Lunes\",\"08-02-2021\",NA,NA,188489\\n\"1374\",11837,\"STC\",\"L12\",\"Lunes\",\"08-02-2021\",NA,NA,213118\\n\"1375\",11838,\"STC\",\"L1\",\"Martes\",\"09-02-2021\",NA,NA,276934\\n\"1376\",11839,\"STC\",\"L2\",\"Martes\",\"09-02-2021\",NA,NA,226465\\n\"1377\",11840,\"STC\",\"L3\",\"Martes\",\"09-02-2021\",NA,NA,221194\\n\"1378\",11841,\"STC\",\"L4\",\"Martes\",\"09-02-2021\",NA,NA,35639\\n\"1379\",11842,\"STC\",\"L5\",\"Martes\",\"09-02-2021\",NA,NA,117264\\n\"1380\",11843,\"STC\",\"L6\",\"Martes\",\"09-02-2021\",NA,NA,55127\\n\"1381\",11844,\"STC\",\"L7\",\"Martes\",\"09-02-2021\",NA,NA,120707\\n\"1382\",11845,\"STC\",\"L8\",\"Martes\",\"09-02-2021\",NA,NA,192296\\n\"1383\",11846,\"STC\",\"L9\",\"Martes\",\"09-02-2021\",NA,NA,184902\\n\"1384\",11847,\"STC\",\"LA\",\"Martes\",\"09-02-2021\",NA,NA,194441\\n\"1385\",11848,\"STC\",\"LB\",\"Martes\",\"09-02-2021\",NA,NA,207766\\n\"1386\",11849,\"STC\",\"L12\",\"Martes\",\"09-02-2021\",NA,NA,184397\\n\"1387\",11850,\"STC\",\"L1\",\"Mi\\xc3\\xa9rcoles\",\"10-02-2021\",NA,NA,302216\\n\"1388\",11851,\"STC\",\"L2\",\"Mi\\xc3\\xa9rcoles\",\"10-02-2021\",NA,NA,248623\\n\"1389\",11852,\"STC\",\"L3\",\"Mi\\xc3\\xa9rcoles\",\"10-02-2021\",NA,NA,223390\\n\"1390\",11853,\"STC\",\"L4\",\"Mi\\xc3\\xa9rcoles\",\"10-02-2021\",NA,NA,36745\\n\"1391\",11854,\"STC\",\"L5\",\"Mi\\xc3\\xa9rcoles\",\"10-02-2021\",NA,NA,120821\\n\"1392\",11855,\"STC\",\"L6\",\"Mi\\xc3\\xa9rcoles\",\"10-02-2021\",NA,NA,53065\\n\"1393\",11856,\"STC\",\"L7\",\"Mi\\xc3\\xa9rcoles\",\"10-02-2021\",NA,NA,133269\\n\"1394\",11857,\"STC\",\"L8\",\"Mi\\xc3\\xa9rcoles\",\"10-02-2021\",NA,NA,193757\\n\"1395\",11858,\"STC\",\"L9\",\"Mi\\xc3\\xa9rcoles\",\"10-02-2021\",NA,NA,192745\\n\"1396\",11859,\"STC\",\"LA\",\"Mi\\xc3\\xa9rcoles\",\"10-02-2021\",NA,NA,188828\\n\"1397\",11860,\"STC\",\"LB\",\"Mi\\xc3\\xa9rcoles\",\"10-02-2021\",NA,NA,215921\\n\"1398\",11861,\"STC\",\"L12\",\"Mi\\xc3\\xa9rcoles\",\"10-02-2021\",NA,NA,185537\\n\"1399\",11862,\"STC\",\"L1\",\"Jueves\",\"11-02-2021\",NA,NA,292159\\n\"1400\",11863,\"STC\",\"L2\",\"Jueves\",\"11-02-2021\",NA,NA,240958\\n\"1401\",11864,\"STC\",\"L3\",\"Jueves\",\"11-02-2021\",NA,NA,225126\\n\"1402\",11865,\"STC\",\"L4\",\"Jueves\",\"11-02-2021\",NA,NA,36537\\n\"1403\",11866,\"STC\",\"L5\",\"Jueves\",\"11-02-2021\",NA,NA,126064\\n\"1404\",11867,\"STC\",\"L6\",\"Jueves\",\"11-02-2021\",NA,NA,52625\\n\"1405\",11868,\"STC\",\"L7\",\"Jueves\",\"11-02-2021\",NA,NA,126291\\n\"1406\",11869,\"STC\",\"L8\",\"Jueves\",\"11-02-2021\",NA,NA,180286\\n\"1407\",11870,\"STC\",\"L9\",\"Jueves\",\"11-02-2021\",NA,NA,191784\\n\"1408\",11871,\"STC\",\"LA\",\"Jueves\",\"11-02-2021\",NA,NA,199419\\n\"1409\",11872,\"STC\",\"LB\",\"Jueves\",\"11-02-2021\",NA,NA,218150\\n\"1410\",11873,\"STC\",\"L12\",\"Jueves\",\"11-02-2021\",NA,NA,190742\\n\"1411\",11874,\"STC\",\"L1\",\"Viernes\",\"12-02-2021\",NA,NA,321776\\n\"1412\",11875,\"STC\",\"L2\",\"Viernes\",\"12-02-2021\",NA,NA,270000\\n\"1413\",11876,\"STC\",\"L3\",\"Viernes\",\"12-02-2021\",NA,NA,226474\\n\"1414\",11877,\"STC\",\"L4\",\"Viernes\",\"12-02-2021\",NA,NA,35146\\n\"1415\",11878,\"STC\",\"L5\",\"Viernes\",\"12-02-2021\",NA,NA,135559\\n\"1416\",11879,\"STC\",\"L6\",\"Viernes\",\"12-02-2021\",NA,NA,55626\\n\"1417\",11880,\"STC\",\"L7\",\"Viernes\",\"12-02-2021\",NA,NA,130415\\n\"1418\",11881,\"STC\",\"L8\",\"Viernes\",\"12-02-2021\",NA,NA,194332\\n\"1419\",11882,\"STC\",\"L9\",\"Viernes\",\"12-02-2021\",NA,NA,201883\\n\"1420\",11883,\"STC\",\"LA\",\"Viernes\",\"12-02-2021\",NA,NA,194122\\n\"1421\",11884,\"STC\",\"LB\",\"Viernes\",\"12-02-2021\",NA,NA,214898\\n\"1422\",11885,\"STC\",\"L12\",\"Viernes\",\"12-02-2021\",NA,NA,193887\\n\"1423\",11886,\"STC\",\"L1\",\"S\\xc3\\xa1bado\",\"13-02-2021\",NA,NA,299367\\n\"1424\",11887,\"STC\",\"L2\",\"S\\xc3\\xa1bado\",\"13-02-2021\",NA,NA,251143\\n\"1425\",11888,\"STC\",\"L3\",\"S\\xc3\\xa1bado\",\"13-02-2021\",NA,NA,205812\\n\"1426\",11889,\"STC\",\"L4\",\"S\\xc3\\xa1bado\",\"13-02-2021\",NA,NA,36138\\n\"1427\",11890,\"STC\",\"L5\",\"S\\xc3\\xa1bado\",\"13-02-2021\",NA,NA,122430\\n\"1428\",11891,\"STC\",\"L6\",\"S\\xc3\\xa1bado\",\"13-02-2021\",NA,NA,47357\\n\"1429\",11892,\"STC\",\"L7\",\"S\\xc3\\xa1bado\",\"13-02-2021\",NA,NA,120888\\n\"1430\",11893,\"STC\",\"L8\",\"S\\xc3\\xa1bado\",\"13-02-2021\",NA,NA,167639\\n\"1431\",11894,\"STC\",\"L9\",\"S\\xc3\\xa1bado\",\"13-02-2021\",NA,NA,133907\\n\"1432\",11895,\"STC\",\"LA\",\"S\\xc3\\xa1bado\",\"13-02-2021\",NA,NA,174337\\n\"1433\",11896,\"STC\",\"LB\",\"S\\xc3\\xa1bado\",\"13-02-2021\",NA,NA,212408\\n\"1434\",11897,\"STC\",\"L12\",\"S\\xc3\\xa1bado\",\"13-02-2021\",NA,NA,159918\\n\"1435\",11898,\"STC\",\"L1\",\"Domingo\",\"14-02-2021\",NA,NA,181689\\n\"1436\",11899,\"STC\",\"L2\",\"Domingo\",\"14-02-2021\",NA,NA,146472\\n\"1437\",11900,\"STC\",\"L3\",\"Domingo\",\"14-02-2021\",NA,NA,122461\\n\"1438\",11901,\"STC\",\"L4\",\"Domingo\",\"14-02-2021\",NA,NA,24307\\n\"1439\",11902,\"STC\",\"L5\",\"Domingo\",\"14-02-2021\",NA,NA,76446\\n\"1440\",11903,\"STC\",\"L6\",\"Domingo\",\"14-02-2021\",NA,NA,23921\\n\"1441\",11904,\"STC\",\"L7\",\"Domingo\",\"14-02-2021\",NA,NA,49893\\n\"1442\",11905,\"STC\",\"L8\",\"Domingo\",\"14-02-2021\",NA,NA,100323\\n\"1443\",11906,\"STC\",\"L9\",\"Domingo\",\"14-02-2021\",NA,NA,108645\\n\"1444\",11907,\"STC\",\"LA\",\"Domingo\",\"14-02-2021\",NA,NA,137270\\n\"1445\",11908,\"STC\",\"LB\",\"Domingo\",\"14-02-2021\",NA,NA,138166\\n\"1446\",11909,\"STC\",\"L12\",\"Domingo\",\"14-02-2021\",NA,NA,92066\\n\"1447\",11910,\"STC\",\"L1\",\"Lunes\",\"15-02-2021\",NA,NA,309742\\n\"1448\",11911,\"STC\",\"L2\",\"Lunes\",\"15-02-2021\",NA,NA,247410\\n\"1449\",11912,\"STC\",\"L3\",\"Lunes\",\"15-02-2021\",NA,NA,223730\\n\"1450\",11913,\"STC\",\"L4\",\"Lunes\",\"15-02-2021\",NA,NA,34151\\n\"1451\",11914,\"STC\",\"L5\",\"Lunes\",\"15-02-2021\",NA,NA,128014\\n\"1452\",11915,\"STC\",\"L6\",\"Lunes\",\"15-02-2021\",NA,NA,57392\\n\"1453\",11916,\"STC\",\"L7\",\"Lunes\",\"15-02-2021\",NA,NA,127425\\n\"1454\",11917,\"STC\",\"L8\",\"Lunes\",\"15-02-2021\",NA,NA,186210\\n\"1455\",11918,\"STC\",\"L9\",\"Lunes\",\"15-02-2021\",NA,NA,172443\\n\"1456\",11919,\"STC\",\"LA\",\"Lunes\",\"15-02-2021\",NA,NA,180758\\n\"1457\",11920,\"STC\",\"LB\",\"Lunes\",\"15-02-2021\",NA,NA,205112\\n\"1458\",11921,\"STC\",\"L12\",\"Lunes\",\"15-02-2021\",NA,NA,183408\\n\"1459\",11922,\"STC\",\"L1\",\"Martes\",\"16-02-2021\",NA,NA,318479\\n\"1460\",11923,\"STC\",\"L2\",\"Martes\",\"16-02-2021\",NA,NA,272730\\n\"1461\",11924,\"STC\",\"L3\",\"Martes\",\"16-02-2021\",NA,NA,245081\\n\"1462\",11925,\"STC\",\"L4\",\"Martes\",\"16-02-2021\",NA,NA,38532\\n\"1463\",11926,\"STC\",\"L5\",\"Martes\",\"16-02-2021\",NA,NA,125599\\n\"1464\",11927,\"STC\",\"L6\",\"Martes\",\"16-02-2021\",NA,NA,50801\\n\"1465\",11928,\"STC\",\"L7\",\"Martes\",\"16-02-2021\",NA,NA,138320\\n\"1466\",11929,\"STC\",\"L8\",\"Martes\",\"16-02-2021\",NA,NA,185425\\n\"1467\",11930,\"STC\",\"L9\",\"Martes\",\"16-02-2021\",NA,NA,192790\\n\"1468\",11931,\"STC\",\"LA\",\"Martes\",\"16-02-2021\",NA,NA,194156\\n\"1469\",11932,\"STC\",\"LB\",\"Martes\",\"16-02-2021\",NA,NA,221976\\n\"1470\",11933,\"STC\",\"L12\",\"Martes\",\"16-02-2021\",NA,NA,194584\\n\"1471\",11934,\"STC\",\"L1\",\"Mi\\xc3\\xa9rcoles\",\"17-02-2021\",NA,NA,323446\\n\"1472\",11935,\"STC\",\"L2\",\"Mi\\xc3\\xa9rcoles\",\"17-02-2021\",NA,NA,266791\\n\"1473\",11936,\"STC\",\"L3\",\"Mi\\xc3\\xa9rcoles\",\"17-02-2021\",NA,NA,246099\\n\"1474\",11937,\"STC\",\"L4\",\"Mi\\xc3\\xa9rcoles\",\"17-02-2021\",NA,NA,34730\\n\"1475\",11938,\"STC\",\"L5\",\"Mi\\xc3\\xa9rcoles\",\"17-02-2021\",NA,NA,119060\\n\"1476\",11939,\"STC\",\"L6\",\"Mi\\xc3\\xa9rcoles\",\"17-02-2021\",NA,NA,65862\\n\"1477\",11940,\"STC\",\"L7\",\"Mi\\xc3\\xa9rcoles\",\"17-02-2021\",NA,NA,136529\\n\"1478\",11941,\"STC\",\"L8\",\"Mi\\xc3\\xa9rcoles\",\"17-02-2021\",NA,NA,193237\\n\"1479\",11942,\"STC\",\"L9\",\"Mi\\xc3\\xa9rcoles\",\"17-02-2021\",NA,NA,179525\\n\"1480\",11943,\"STC\",\"LA\",\"Mi\\xc3\\xa9rcoles\",\"17-02-2021\",NA,NA,189632\\n\"1481\",11944,\"STC\",\"LB\",\"Mi\\xc3\\xa9rcoles\",\"17-02-2021\",NA,NA,216864\\n\"1482\",11945,\"STC\",\"L12\",\"Mi\\xc3\\xa9rcoles\",\"17-02-2021\",NA,NA,198303\\n\"1483\",11946,\"STC\",\"L1\",\"Jueves\",\"18-02-2021\",NA,NA,318557\\n\"1484\",11947,\"STC\",\"L2\",\"Jueves\",\"18-02-2021\",NA,NA,261253\\n\"1485\",11948,\"STC\",\"L3\",\"Jueves\",\"18-02-2021\",NA,NA,244791\\n\"1486\",11949,\"STC\",\"L4\",\"Jueves\",\"18-02-2021\",NA,NA,38240\\n\"1487\",11950,\"STC\",\"L5\",\"Jueves\",\"18-02-2021\",NA,NA,122682\\n\"1488\",11951,\"STC\",\"L6\",\"Jueves\",\"18-02-2021\",NA,NA,58973\\n\"1489\",11952,\"STC\",\"L7\",\"Jueves\",\"18-02-2021\",NA,NA,113335\\n\"1490\",11953,\"STC\",\"L8\",\"Jueves\",\"18-02-2021\",NA,NA,190647\\n\"1491\",11954,\"STC\",\"L9\",\"Jueves\",\"18-02-2021\",NA,NA,186721\\n\"1492\",11955,\"STC\",\"LA\",\"Jueves\",\"18-02-2021\",NA,NA,198189\\n\"1493\",11956,\"STC\",\"LB\",\"Jueves\",\"18-02-2021\",NA,NA,217358\\n\"1494\",11957,\"STC\",\"L12\",\"Jueves\",\"18-02-2021\",NA,NA,199296\\n\"1495\",11958,\"STC\",\"L1\",\"Viernes\",\"19-02-2021\",NA,NA,327705\\n\"1496\",11959,\"STC\",\"L2\",\"Viernes\",\"19-02-2021\",NA,NA,284134\\n\"1497\",11960,\"STC\",\"L3\",\"Viernes\",\"19-02-2021\",NA,NA,265658\\n\"1498\",11961,\"STC\",\"L4\",\"Viernes\",\"19-02-2021\",NA,NA,37462\\n\"1499\",11962,\"STC\",\"L5\",\"Viernes\",\"19-02-2021\",NA,NA,129085\\n\"1500\",11963,\"STC\",\"L6\",\"Viernes\",\"19-02-2021\",NA,NA,52651\\n\"1501\",11964,\"STC\",\"L7\",\"Viernes\",\"19-02-2021\",NA,NA,150470\\n\"1502\",11965,\"STC\",\"L8\",\"Viernes\",\"19-02-2021\",NA,NA,197803\\n\"1503\",11966,\"STC\",\"L9\",\"Viernes\",\"19-02-2021\",NA,NA,200541\\n\"1504\",11967,\"STC\",\"LA\",\"Viernes\",\"19-02-2021\",NA,NA,195527\\n\"1505\",11968,\"STC\",\"LB\",\"Viernes\",\"19-02-2021\",NA,NA,228879\\n\"1506\",11969,\"STC\",\"L12\",\"Viernes\",\"19-02-2021\",NA,NA,213655\\n\"1507\",11970,\"STC\",\"L1\",\"S\\xc3\\xa1bado\",\"20-02-2021\",NA,NA,296477\\n\"1508\",11971,\"STC\",\"L2\",\"S\\xc3\\xa1bado\",\"20-02-2021\",NA,NA,271126\\n\"1509\",11972,\"STC\",\"L3\",\"S\\xc3\\xa1bado\",\"20-02-2021\",NA,NA,220969\\n\"1510\",11973,\"STC\",\"L4\",\"S\\xc3\\xa1bado\",\"20-02-2021\",NA,NA,34361\\n\"1511\",11974,\"STC\",\"L5\",\"S\\xc3\\xa1bado\",\"20-02-2021\",NA,NA,111370\\n\"1512\",11975,\"STC\",\"L6\",\"S\\xc3\\xa1bado\",\"20-02-2021\",NA,NA,48672\\n\"1513\",11976,\"STC\",\"L7\",\"S\\xc3\\xa1bado\",\"20-02-2021\",NA,NA,109131\\n\"1514\",11977,\"STC\",\"L8\",\"S\\xc3\\xa1bado\",\"20-02-2021\",NA,NA,181131\\n\"1515\",11978,\"STC\",\"L9\",\"S\\xc3\\xa1bado\",\"20-02-2021\",NA,NA,151593\\n\"1516\",11979,\"STC\",\"LA\",\"S\\xc3\\xa1bado\",\"20-02-2021\",NA,NA,177200\\n\"1517\",11980,\"STC\",\"LB\",\"S\\xc3\\xa1bado\",\"20-02-2021\",NA,NA,225994\\n\"1518\",11981,\"STC\",\"L12\",\"S\\xc3\\xa1bado\",\"20-02-2021\",NA,NA,172081\\n\"1519\",11982,\"STC\",\"L1\",\"Domingo\",\"21-02-2021\",NA,NA,193715\\n\"1520\",11983,\"STC\",\"L2\",\"Domingo\",\"21-02-2021\",NA,NA,165020\\n\"1521\",11984,\"STC\",\"L3\",\"Domingo\",\"21-02-2021\",NA,NA,141651\\n\"1522\",11985,\"STC\",\"L4\",\"Domingo\",\"21-02-2021\",NA,NA,24123\\n\"1523\",11986,\"STC\",\"L5\",\"Domingo\",\"21-02-2021\",NA,NA,74096\\n\"1524\",11987,\"STC\",\"L6\",\"Domingo\",\"21-02-2021\",NA,NA,23745\\n\"1525\",11988,\"STC\",\"L7\",\"Domingo\",\"21-02-2021\",NA,NA,58537\\n\"1526\",11989,\"STC\",\"L8\",\"Domingo\",\"21-02-2021\",NA,NA,95721\\n\"1527\",11990,\"STC\",\"L9\",\"Domingo\",\"21-02-2021\",NA,NA,89891\\n\"1528\",11991,\"STC\",\"LA\",\"Domingo\",\"21-02-2021\",NA,NA,138873\\n\"1529\",11992,\"STC\",\"LB\",\"Domingo\",\"21-02-2021\",NA,NA,157401\\n\"1530\",11993,\"STC\",\"L12\",\"Domingo\",\"21-02-2021\",NA,NA,104100\\n\"1531\",11994,\"STC\",\"L1\",\"Lunes\",\"22-02-2021\",NA,NA,330858\\n\"1532\",11995,\"STC\",\"L2\",\"Lunes\",\"22-02-2021\",NA,NA,273012\\n\"1533\",11996,\"STC\",\"L3\",\"Lunes\",\"22-02-2021\",NA,NA,255765\\n\"1534\",11997,\"STC\",\"L4\",\"Lunes\",\"22-02-2021\",NA,NA,34991\\n\"1535\",11998,\"STC\",\"L5\",\"Lunes\",\"22-02-2021\",NA,NA,122993\\n\"1536\",11999,\"STC\",\"L6\",\"Lunes\",\"22-02-2021\",NA,NA,47359\\n\"1537\",12000,\"STC\",\"L7\",\"Lunes\",\"22-02-2021\",NA,NA,125581\\n\"1538\",12001,\"STC\",\"L8\",\"Lunes\",\"22-02-2021\",NA,NA,169448\\n\"1539\",12002,\"STC\",\"L9\",\"Lunes\",\"22-02-2021\",NA,NA,192733\\n\"1540\",12003,\"STC\",\"LA\",\"Lunes\",\"22-02-2021\",NA,NA,173412\\n\"1541\",12004,\"STC\",\"LB\",\"Lunes\",\"22-02-2021\",NA,NA,252472\\n\"1542\",12005,\"STC\",\"L12\",\"Lunes\",\"22-02-2021\",NA,NA,179565\\n\"1543\",12006,\"STC\",\"L1\",\"Martes\",\"23-02-2021\",NA,NA,NA\\n\"1544\",12007,\"STC\",\"L2\",\"Martes\",\"23-02-2021\",NA,NA,NA\\n\"1545\",12008,\"STC\",\"L3\",\"Martes\",\"23-02-2021\",NA,NA,NA\\n\"1546\",12009,\"STC\",\"L4\",\"Martes\",\"23-02-2021\",NA,NA,NA\\n\"1547\",12010,\"STC\",\"L5\",\"Martes\",\"23-02-2021\",NA,NA,NA\\n\"1548\",12011,\"STC\",\"L6\",\"Martes\",\"23-02-2021\",NA,NA,NA\\n\"1549\",12012,\"STC\",\"L7\",\"Martes\",\"23-02-2021\",NA,NA,NA\\n\"1550\",12013,\"STC\",\"L8\",\"Martes\",\"23-02-2021\",NA,NA,NA\\n\"1551\",12014,\"STC\",\"L9\",\"Martes\",\"23-02-2021\",NA,NA,NA\\n\"1552\",12015,\"STC\",\"LA\",\"Martes\",\"23-02-2021\",NA,NA,NA\\n\"1553\",12016,\"STC\",\"LB\",\"Martes\",\"23-02-2021\",NA,NA,NA\\n\"1554\",12017,\"STC\",\"L12\",\"Martes\",\"23-02-2021\",NA,NA,NA\\n\"1555\",18818,\"STE-Tren Ligero\",\"Xochimilco-Tasque\\xc3\\xb1a\",\"Viernes\",\"01-01-2021\",NA,NA,3142\\n\"1556\",18819,\"STE-Tren Ligero\",\"Xochimilco-Tasque\\xc3\\xb1a\",\"S\\xc3\\xa1bado\",\"02-01-2021\",NA,NA,7009\\n\"1557\",18820,\"STE-Tren Ligero\",\"Xochimilco-Tasque\\xc3\\xb1a\",\"Domingo\",\"03-01-2021\",NA,NA,5632\\n\"1558\",18821,\"STE-Tren Ligero\",\"Xochimilco-Tasque\\xc3\\xb1a\",\"Lunes\",\"04-01-2021\",NA,NA,13565\\n\"1559\",18822,\"STE-Tren Ligero\",\"Xochimilco-Tasque\\xc3\\xb1a\",\"Martes\",\"05-01-2021\",NA,NA,13358\\n\"1560\",18823,\"STE-Tren Ligero\",\"Xochimilco-Tasque\\xc3\\xb1a\",\"Mi\\xc3\\xa9rcoles\",\"06-01-2021\",NA,NA,11399\\n\"1561\",18824,\"STE-Tren Ligero\",\"Xochimilco-Tasque\\xc3\\xb1a\",\"Jueves\",\"07-01-2021\",NA,NA,13128\\n\"1562\",18825,\"STE-Tren Ligero\",\"Xochimilco-Tasque\\xc3\\xb1a\",\"Viernes\",\"08-01-2021\",NA,NA,14265\\n\"1563\",18826,\"STE-Tren Ligero\",\"Xochimilco-Tasque\\xc3\\xb1a\",\"S\\xc3\\xa1bado\",\"09-01-2021\",NA,NA,4655\\n\"1564\",18827,\"STE-Tren Ligero\",\"Xochimilco-Tasque\\xc3\\xb1a\",\"Domingo\",\"10-01-2021\",NA,NA,2420\\n\"1565\",18828,\"STE-Tren Ligero\",\"Xochimilco-Tasque\\xc3\\xb1a\",\"Lunes\",\"11-01-2021\",NA,NA,24321\\n\"1566\",18829,\"STE-Tren Ligero\",\"Xochimilco-Tasque\\xc3\\xb1a\",\"Martes\",\"12-01-2021\",NA,NA,24565\\n\"1567\",18830,\"STE-Tren Ligero\",\"Xochimilco-Tasque\\xc3\\xb1a\",\"Mi\\xc3\\xa9rcoles\",\"13-01-2021\",NA,NA,24375\\n\"1568\",18831,\"STE-Tren Ligero\",\"Xochimilco-Tasque\\xc3\\xb1a\",\"Jueves\",\"14-01-2021\",NA,NA,24430\\n\"1569\",18832,\"STE-Tren Ligero\",\"Xochimilco-Tasque\\xc3\\xb1a\",\"Viernes\",\"15-01-2021\",NA,NA,25426\\n\"1570\",18833,\"STE-Tren Ligero\",\"Xochimilco-Tasque\\xc3\\xb1a\",\"S\\xc3\\xa1bado\",\"16-01-2021\",NA,NA,19314\\n\"1571\",18834,\"STE-Tren Ligero\",\"Xochimilco-Tasque\\xc3\\xb1a\",\"Domingo\",\"17-01-2021\",NA,NA,11402\\n\"1572\",18835,\"STE-Tren Ligero\",\"Xochimilco-Tasque\\xc3\\xb1a\",\"Lunes\",\"18-01-2021\",NA,NA,25652\\n\"1573\",18836,\"STE-Tren Ligero\",\"Xochimilco-Tasque\\xc3\\xb1a\",\"Martes\",\"19-01-2021\",NA,NA,25467\\n\"1574\",18837,\"STE-Tren Ligero\",\"Xochimilco-Tasque\\xc3\\xb1a\",\"Mi\\xc3\\xa9rcoles\",\"20-01-2021\",NA,NA,25471\\n\"1575\",18838,\"STE-Tren Ligero\",\"Xochimilco-Tasque\\xc3\\xb1a\",\"Jueves\",\"21-01-2021\",NA,NA,25195\\n\"1576\",18839,\"STE-Tren Ligero\",\"Xochimilco-Tasque\\xc3\\xb1a\",\"Viernes\",\"22-01-2021\",NA,NA,25841\\n\"1577\",18840,\"STE-Tren Ligero\",\"Xochimilco-Tasque\\xc3\\xb1a\",\"S\\xc3\\xa1bado\",\"23-01-2021\",NA,NA,19902\\n\"1578\",18841,\"STE-Tren Ligero\",\"Xochimilco-Tasque\\xc3\\xb1a\",\"Domingo\",\"24-01-2021\",NA,NA,11869\\n\"1579\",18842,\"STE-Tren Ligero\",\"Xochimilco-Tasque\\xc3\\xb1a\",\"Lunes\",\"25-01-2021\",NA,NA,26250\\n\"1580\",18843,\"STE-Tren Ligero\",\"Xochimilco-Tasque\\xc3\\xb1a\",\"Martes\",\"26-01-2021\",NA,NA,25524\\n\"1581\",18844,\"STE-Tren Ligero\",\"Xochimilco-Tasque\\xc3\\xb1a\",\"Mi\\xc3\\xa9rcoles\",\"27-01-2021\",NA,NA,26080\\n\"1582\",18845,\"STE-Tren Ligero\",\"Xochimilco-Tasque\\xc3\\xb1a\",\"Jueves\",\"28-01-2021\",NA,NA,25624\\n\"1583\",18846,\"STE-Tren Ligero\",\"Xochimilco-Tasque\\xc3\\xb1a\",\"Viernes\",\"29-01-2021\",NA,NA,26673\\n\"1584\",18847,\"STE-Tren Ligero\",\"Xochimilco-Tasque\\xc3\\xb1a\",\"S\\xc3\\xa1bado\",\"30-01-2021\",NA,NA,20664\\n\"1585\",18848,\"STE-Tren Ligero\",\"Xochimilco-Tasque\\xc3\\xb1a\",\"Domingo\",\"31-01-2021\",NA,NA,12281\\n\"1586\",18849,\"STE-Tren Ligero\",\"Xochimilco-Tasque\\xc3\\xb1a\",\"Lunes\",\"01-02-2021\",NA,NA,16309\\n\"1587\",18850,\"STE-Tren Ligero\",\"Xochimilco-Tasque\\xc3\\xb1a\",\"Martes\",\"02-02-2021\",NA,NA,26997\\n\"1588\",18851,\"STE-Tren Ligero\",\"Xochimilco-Tasque\\xc3\\xb1a\",\"Mi\\xc3\\xa9rcoles\",\"03-02-2021\",NA,NA,26826\\n\"1589\",18852,\"STE-Tren Ligero\",\"Xochimilco-Tasque\\xc3\\xb1a\",\"Jueves\",\"04-02-2021\",NA,NA,26983\\n\"1590\",18853,\"STE-Tren Ligero\",\"Xochimilco-Tasque\\xc3\\xb1a\",\"Viernes\",\"05-02-2021\",NA,NA,26541\\n\"1591\",18854,\"STE-Tren Ligero\",\"Xochimilco-Tasque\\xc3\\xb1a\",\"S\\xc3\\xa1bado\",\"06-02-2021\",NA,NA,20493\\n\"1592\",18855,\"STE-Tren Ligero\",\"Xochimilco-Tasque\\xc3\\xb1a\",\"Domingo\",\"07-02-2021\",NA,NA,12137\\n\"1593\",18856,\"STE-Tren Ligero\",\"Xochimilco-Tasque\\xc3\\xb1a\",\"Lunes\",\"08-02-2021\",NA,NA,32722\\n\"1594\",18857,\"STE-Tren Ligero\",\"Xochimilco-Tasque\\xc3\\xb1a\",\"Martes\",\"09-02-2021\",NA,NA,32424\\n\"1595\",18858,\"STE-Tren Ligero\",\"Xochimilco-Tasque\\xc3\\xb1a\",\"Mi\\xc3\\xa9rcoles\",\"10-02-2021\",NA,NA,34165\\n\"1596\",18859,\"STE-Tren Ligero\",\"Xochimilco-Tasque\\xc3\\xb1a\",\"Jueves\",\"11-02-2021\",NA,NA,33334\\n\"1597\",18860,\"STE-Tren Ligero\",\"Xochimilco-Tasque\\xc3\\xb1a\",\"Viernes\",\"12-02-2021\",NA,NA,36429\\n\"1598\",18861,\"STE-Tren Ligero\",\"Xochimilco-Tasque\\xc3\\xb1a\",\"S\\xc3\\xa1bado\",\"13-02-2021\",NA,NA,28054\\n\"1599\",18862,\"STE-Tren Ligero\",\"Xochimilco-Tasque\\xc3\\xb1a\",\"Domingo\",\"14-02-2021\",NA,NA,17779\\n\"1600\",18863,\"STE-Tren Ligero\",\"Xochimilco-Tasque\\xc3\\xb1a\",\"Lunes\",\"15-02-2021\",NA,NA,35588\\n\"1601\",18864,\"STE-Tren Ligero\",\"Xochimilco-Tasque\\xc3\\xb1a\",\"Martes\",\"16-02-2021\",NA,NA,36447\\n\"1602\",18865,\"STE-Tren Ligero\",\"Xochimilco-Tasque\\xc3\\xb1a\",\"Mi\\xc3\\xa9rcoles\",\"17-02-2021\",NA,NA,36902\\n\"1603\",18866,\"STE-Tren Ligero\",\"Xochimilco-Tasque\\xc3\\xb1a\",\"Jueves\",\"18-02-2021\",NA,NA,37405\\n\"1604\",18867,\"STE-Tren Ligero\",\"Xochimilco-Tasque\\xc3\\xb1a\",\"Viernes\",\"19-02-2021\",NA,NA,38181\\n\"1605\",18868,\"STE-Tren Ligero\",\"Xochimilco-Tasque\\xc3\\xb1a\",\"S\\xc3\\xa1bado\",\"20-02-2021\",NA,NA,29692\\n\"1606\",18869,\"STE-Tren Ligero\",\"Xochimilco-Tasque\\xc3\\xb1a\",\"Domingo\",\"21-02-2021\",NA,NA,18279\\n\"1607\",18870,\"STE-Tren Ligero\",\"Xochimilco-Tasque\\xc3\\xb1a\",\"Lunes\",\"22-02-2021\",NA,NA,38684\\n\"1608\",18871,\"STE-Tren Ligero\",\"Xochimilco-Tasque\\xc3\\xb1a\",\"Martes\",\"23-02-2021\",NA,NA,NA\\n\"1609\",19210,\"STE-Troleb\\xc3\\xbas\",\"L1 Eje Central\",\"Viernes\",\"01-01-2021\",NA,NA,12915\\n\"1610\",19211,\"STE-Troleb\\xc3\\xbas\",\"L2 Eje 2 sur\",\"Viernes\",\"01-01-2021\",NA,NA,1199\\n\"1611\",19212,\"STE-Troleb\\xc3\\xbas\",\"L3 Eje 7 Sur\",\"Viernes\",\"01-01-2021\",NA,NA,1454\\n\"1612\",19213,\"STE-Troleb\\xc3\\xbas\",\"L4 Pto A\\xc3\\xa9reo-Rosario\",\"Viernes\",\"01-01-2021\",NA,NA,1308\\n\"1613\",19214,\"STE-Troleb\\xc3\\xbas\",\"L5 Sn Felipe-Hidalgo\",\"Viernes\",\"01-01-2021\",NA,NA,3027\\n\"1614\",19215,\"STE-Troleb\\xc3\\xbas\",\"L6 Rosario-Chapultepec\",\"Viernes\",\"01-01-2021\",NA,NA,1314\\n\"1615\",19216,\"STE-Troleb\\xc3\\xbas\",\"L7 Lomas Estrella-CU\",\"Viernes\",\"01-01-2021\",NA,NA,3541\\n\"1616\",19217,\"STE-Troleb\\xc3\\xbas\",\"L8 Circuito IPN\",\"Viernes\",\"01-01-2021\",NA,NA,0\\n\"1617\",19218,\"STE-Troleb\\xc3\\xbas\",\"L1 Eje Central\",\"S\\xc3\\xa1bado\",\"02-01-2021\",NA,NA,32105\\n\"1618\",19219,\"STE-Troleb\\xc3\\xbas\",\"L2 Eje 2 sur\",\"S\\xc3\\xa1bado\",\"02-01-2021\",NA,NA,3165\\n\"1619\",19220,\"STE-Troleb\\xc3\\xbas\",\"L3 Eje 7 Sur\",\"S\\xc3\\xa1bado\",\"02-01-2021\",NA,NA,3907\\n\"1620\",19221,\"STE-Troleb\\xc3\\xbas\",\"L4 Pto A\\xc3\\xa9reo-Rosario\",\"S\\xc3\\xa1bado\",\"02-01-2021\",NA,NA,4516\\n\"1621\",19222,\"STE-Troleb\\xc3\\xbas\",\"L5 Sn Felipe-Hidalgo\",\"S\\xc3\\xa1bado\",\"02-01-2021\",NA,NA,4990\\n\"1622\",19223,\"STE-Troleb\\xc3\\xbas\",\"L6 Rosario-Chapultepec\",\"S\\xc3\\xa1bado\",\"02-01-2021\",NA,NA,5019\\n\"1623\",19224,\"STE-Troleb\\xc3\\xbas\",\"L7 Lomas Estrella-CU\",\"S\\xc3\\xa1bado\",\"02-01-2021\",NA,NA,6243\\n\"1624\",19225,\"STE-Troleb\\xc3\\xbas\",\"L8 Circuito IPN\",\"S\\xc3\\xa1bado\",\"02-01-2021\",NA,NA,0\\n\"1625\",19226,\"STE-Troleb\\xc3\\xbas\",\"L1 Eje Central\",\"Domingo\",\"03-01-2021\",NA,NA,27430\\n\"1626\",19227,\"STE-Troleb\\xc3\\xbas\",\"L2 Eje 2 sur\",\"Domingo\",\"03-01-2021\",NA,NA,2196\\n\"1627\",19228,\"STE-Troleb\\xc3\\xbas\",\"L3 Eje 7 Sur\",\"Domingo\",\"03-01-2021\",NA,NA,2791\\n\"1628\",19229,\"STE-Troleb\\xc3\\xbas\",\"L4 Pto A\\xc3\\xa9reo-Rosario\",\"Domingo\",\"03-01-2021\",NA,NA,4645\\n\"1629\",19230,\"STE-Troleb\\xc3\\xbas\",\"L5 Sn Felipe-Hidalgo\",\"Domingo\",\"03-01-2021\",NA,NA,3763\\n\"1630\",19231,\"STE-Troleb\\xc3\\xbas\",\"L6 Rosario-Chapultepec\",\"Domingo\",\"03-01-2021\",NA,NA,4011\\n\"1631\",19232,\"STE-Troleb\\xc3\\xbas\",\"L7 Lomas Estrella-CU\",\"Domingo\",\"03-01-2021\",NA,NA,5600\\n\"1632\",19233,\"STE-Troleb\\xc3\\xbas\",\"L8 Circuito IPN\",\"Domingo\",\"03-01-2021\",NA,NA,0\\n\"1633\",19234,\"STE-Troleb\\xc3\\xbas\",\"L1 Eje Central\",\"Lunes\",\"04-01-2021\",NA,NA,47414\\n\"1634\",19235,\"STE-Troleb\\xc3\\xbas\",\"L2 Eje 2 sur\",\"Lunes\",\"04-01-2021\",NA,NA,4314\\n\"1635\",19236,\"STE-Troleb\\xc3\\xbas\",\"L3 Eje 7 Sur\",\"Lunes\",\"04-01-2021\",NA,NA,4854\\n\"1636\",19237,\"STE-Troleb\\xc3\\xbas\",\"L4 Pto A\\xc3\\xa9reo-Rosario\",\"Lunes\",\"04-01-2021\",NA,NA,9818\\n\"1637\",19238,\"STE-Troleb\\xc3\\xbas\",\"L5 Sn Felipe-Hidalgo\",\"Lunes\",\"04-01-2021\",NA,NA,6470\\n\"1638\",19239,\"STE-Troleb\\xc3\\xbas\",\"L6 Rosario-Chapultepec\",\"Lunes\",\"04-01-2021\",NA,NA,5763\\n\"1639\",19240,\"STE-Troleb\\xc3\\xbas\",\"L7 Lomas Estrella-CU\",\"Lunes\",\"04-01-2021\",NA,NA,10126\\n\"1640\",19241,\"STE-Troleb\\xc3\\xbas\",\"L8 Circuito IPN\",\"Lunes\",\"04-01-2021\",NA,NA,0\\n\"1641\",19242,\"STE-Troleb\\xc3\\xbas\",\"L1 Eje Central\",\"Martes\",\"05-01-2021\",NA,NA,48405\\n\"1642\",19243,\"STE-Troleb\\xc3\\xbas\",\"L2 Eje 2 sur\",\"Martes\",\"05-01-2021\",NA,NA,4706\\n\"1643\",19244,\"STE-Troleb\\xc3\\xbas\",\"L3 Eje 7 Sur\",\"Martes\",\"05-01-2021\",NA,NA,5534\\n\"1644\",19245,\"STE-Troleb\\xc3\\xbas\",\"L4 Pto A\\xc3\\xa9reo-Rosario\",\"Martes\",\"05-01-2021\",NA,NA,11780\\n\"1645\",19246,\"STE-Troleb\\xc3\\xbas\",\"L5 Sn Felipe-Hidalgo\",\"Martes\",\"05-01-2021\",NA,NA,6444\\n\"1646\",19247,\"STE-Troleb\\xc3\\xbas\",\"L6 Rosario-Chapultepec\",\"Martes\",\"05-01-2021\",NA,NA,4590\\n\"1647\",19248,\"STE-Troleb\\xc3\\xbas\",\"L7 Lomas Estrella-CU\",\"Martes\",\"05-01-2021\",NA,NA,10013\\n\"1648\",19249,\"STE-Troleb\\xc3\\xbas\",\"L8 Circuito IPN\",\"Martes\",\"05-01-2021\",NA,NA,0\\n\"1649\",19250,\"STE-Troleb\\xc3\\xbas\",\"L1 Eje Central\",\"Mi\\xc3\\xa9rcoles\",\"06-01-2021\",NA,NA,39663\\n\"1650\",19251,\"STE-Troleb\\xc3\\xbas\",\"L2 Eje 2 sur\",\"Mi\\xc3\\xa9rcoles\",\"06-01-2021\",NA,NA,4751\\n\"1651\",19252,\"STE-Troleb\\xc3\\xbas\",\"L3 Eje 7 Sur\",\"Mi\\xc3\\xa9rcoles\",\"06-01-2021\",NA,NA,4576\\n\"1652\",19253,\"STE-Troleb\\xc3\\xbas\",\"L4 Pto A\\xc3\\xa9reo-Rosario\",\"Mi\\xc3\\xa9rcoles\",\"06-01-2021\",NA,NA,10574\\n\"1653\",19254,\"STE-Troleb\\xc3\\xbas\",\"L5 Sn Felipe-Hidalgo\",\"Mi\\xc3\\xa9rcoles\",\"06-01-2021\",NA,NA,4905\\n\"1654\",19255,\"STE-Troleb\\xc3\\xbas\",\"L6 Rosario-Chapultepec\",\"Mi\\xc3\\xa9rcoles\",\"06-01-2021\",NA,NA,5580\\n\"1655\",19256,\"STE-Troleb\\xc3\\xbas\",\"L7 Lomas Estrella-CU\",\"Mi\\xc3\\xa9rcoles\",\"06-01-2021\",NA,NA,9169\\n\"1656\",19257,\"STE-Troleb\\xc3\\xbas\",\"L8 Circuito IPN\",\"Mi\\xc3\\xa9rcoles\",\"06-01-2021\",NA,NA,0\\n\"1657\",19258,\"STE-Troleb\\xc3\\xbas\",\"L1 Eje Central\",\"Jueves\",\"07-01-2021\",NA,NA,41880\\n\"1658\",19259,\"STE-Troleb\\xc3\\xbas\",\"L2 Eje 2 sur\",\"Jueves\",\"07-01-2021\",NA,NA,3674\\n\"1659\",19260,\"STE-Troleb\\xc3\\xbas\",\"L3 Eje 7 Sur\",\"Jueves\",\"07-01-2021\",NA,NA,4799\\n\"1660\",19261,\"STE-Troleb\\xc3\\xbas\",\"L4 Pto A\\xc3\\xa9reo-Rosario\",\"Jueves\",\"07-01-2021\",NA,NA,10047\\n\"1661\",19262,\"STE-Troleb\\xc3\\xbas\",\"L5 Sn Felipe-Hidalgo\",\"Jueves\",\"07-01-2021\",NA,NA,5753\\n\"1662\",19263,\"STE-Troleb\\xc3\\xbas\",\"L6 Rosario-Chapultepec\",\"Jueves\",\"07-01-2021\",NA,NA,5991\\n\"1663\",19264,\"STE-Troleb\\xc3\\xbas\",\"L7 Lomas Estrella-CU\",\"Jueves\",\"07-01-2021\",NA,NA,9594\\n\"1664\",19265,\"STE-Troleb\\xc3\\xbas\",\"L8 Circuito IPN\",\"Jueves\",\"07-01-2021\",NA,NA,0\\n\"1665\",19266,\"STE-Troleb\\xc3\\xbas\",\"L1 Eje Central\",\"Viernes\",\"08-01-2021\",NA,NA,42049\\n\"1666\",19267,\"STE-Troleb\\xc3\\xbas\",\"L2 Eje 2 sur\",\"Viernes\",\"08-01-2021\",NA,NA,3844\\n\"1667\",19268,\"STE-Troleb\\xc3\\xbas\",\"L3 Eje 7 Sur\",\"Viernes\",\"08-01-2021\",NA,NA,5243\\n\"1668\",19269,\"STE-Troleb\\xc3\\xbas\",\"L4 Pto A\\xc3\\xa9reo-Rosario\",\"Viernes\",\"08-01-2021\",NA,NA,10945\\n\"1669\",19270,\"STE-Troleb\\xc3\\xbas\",\"L5 Sn Felipe-Hidalgo\",\"Viernes\",\"08-01-2021\",NA,NA,6262\\n\"1670\",19271,\"STE-Troleb\\xc3\\xbas\",\"L6 Rosario-Chapultepec\",\"Viernes\",\"08-01-2021\",NA,NA,6340\\n\"1671\",19272,\"STE-Troleb\\xc3\\xbas\",\"L7 Lomas Estrella-CU\",\"Viernes\",\"08-01-2021\",NA,NA,9999\\n\"1672\",19273,\"STE-Troleb\\xc3\\xbas\",\"L8 Circuito IPN\",\"Viernes\",\"08-01-2021\",NA,NA,0\\n\"1673\",19274,\"STE-Troleb\\xc3\\xbas\",\"L1 Eje Central\",\"S\\xc3\\xa1bado\",\"09-01-2021\",NA,NA,63054\\n\"1674\",19275,\"STE-Troleb\\xc3\\xbas\",\"L2 Eje 2 sur\",\"S\\xc3\\xa1bado\",\"09-01-2021\",NA,NA,6084\\n\"1675\",19276,\"STE-Troleb\\xc3\\xbas\",\"L3 Eje 7 Sur\",\"S\\xc3\\xa1bado\",\"09-01-2021\",NA,NA,1072\\n\"1676\",19277,\"STE-Troleb\\xc3\\xbas\",\"L4 Pto A\\xc3\\xa9reo-Rosario\",\"S\\xc3\\xa1bado\",\"09-01-2021\",NA,NA,12177\\n\"1677\",19278,\"STE-Troleb\\xc3\\xbas\",\"L5 Sn Felipe-Hidalgo\",\"S\\xc3\\xa1bado\",\"09-01-2021\",NA,NA,6065\\n\"1678\",19279,\"STE-Troleb\\xc3\\xbas\",\"L6 Rosario-Chapultepec\",\"S\\xc3\\xa1bado\",\"09-01-2021\",NA,NA,5524\\n\"1679\",19280,\"STE-Troleb\\xc3\\xbas\",\"L7 Lomas Estrella-CU\",\"S\\xc3\\xa1bado\",\"09-01-2021\",NA,NA,7519\\n\"1680\",19281,\"STE-Troleb\\xc3\\xbas\",\"L8 Circuito IPN\",\"S\\xc3\\xa1bado\",\"09-01-2021\",NA,NA,0\\n\"1681\",19282,\"STE-Troleb\\xc3\\xbas\",\"L1 Eje Central\",\"Domingo\",\"10-01-2021\",NA,NA,44623\\n\"1682\",19283,\"STE-Troleb\\xc3\\xbas\",\"L2 Eje 2 sur\",\"Domingo\",\"10-01-2021\",NA,NA,3428\\n\"1683\",19284,\"STE-Troleb\\xc3\\xbas\",\"L3 Eje 7 Sur\",\"Domingo\",\"10-01-2021\",NA,NA,4586\\n\"1684\",19285,\"STE-Troleb\\xc3\\xbas\",\"L4 Pto A\\xc3\\xa9reo-Rosario\",\"Domingo\",\"10-01-2021\",NA,NA,8207\\n\"1685\",19286,\"STE-Troleb\\xc3\\xbas\",\"L5 Sn Felipe-Hidalgo\",\"Domingo\",\"10-01-2021\",NA,NA,2458\\n\"1686\",19287,\"STE-Troleb\\xc3\\xbas\",\"L6 Rosario-Chapultepec\",\"Domingo\",\"10-01-2021\",NA,NA,3437\\n\"1687\",19288,\"STE-Troleb\\xc3\\xbas\",\"L7 Lomas Estrella-CU\",\"Domingo\",\"10-01-2021\",NA,NA,5511\\n\"1688\",19289,\"STE-Troleb\\xc3\\xbas\",\"L8 Circuito IPN\",\"Domingo\",\"10-01-2021\",NA,NA,0\\n\"1689\",19290,\"STE-Troleb\\xc3\\xbas\",\"L1 Eje Central\",\"Lunes\",\"11-01-2021\",NA,NA,80769\\n\"1690\",19291,\"STE-Troleb\\xc3\\xbas\",\"L2 Eje 2 sur\",\"Lunes\",\"11-01-2021\",NA,NA,12673\\n\"1691\",19292,\"STE-Troleb\\xc3\\xbas\",\"L3 Eje 7 Sur\",\"Lunes\",\"11-01-2021\",NA,NA,8916\\n\"1692\",19293,\"STE-Troleb\\xc3\\xbas\",\"L4 Pto A\\xc3\\xa9reo-Rosario\",\"Lunes\",\"11-01-2021\",NA,NA,14860\\n\"1693\",19294,\"STE-Troleb\\xc3\\xbas\",\"L5 Sn Felipe-Hidalgo\",\"Lunes\",\"11-01-2021\",NA,NA,4939\\n\"1694\",19295,\"STE-Troleb\\xc3\\xbas\",\"L6 Rosario-Chapultepec\",\"Lunes\",\"11-01-2021\",NA,NA,8668\\n\"1695\",19296,\"STE-Troleb\\xc3\\xbas\",\"L7 Lomas Estrella-CU\",\"Lunes\",\"11-01-2021\",NA,NA,9372\\n\"1696\",19297,\"STE-Troleb\\xc3\\xbas\",\"L8 Circuito IPN\",\"Lunes\",\"11-01-2021\",NA,NA,0\\n\"1697\",19298,\"STE-Troleb\\xc3\\xbas\",\"L1 Eje Central\",\"Martes\",\"12-01-2021\",NA,NA,70164\\n\"1698\",19299,\"STE-Troleb\\xc3\\xbas\",\"L2 Eje 2 sur\",\"Martes\",\"12-01-2021\",NA,NA,11527\\n\"1699\",19300,\"STE-Troleb\\xc3\\xbas\",\"L3 Eje 7 Sur\",\"Martes\",\"12-01-2021\",NA,NA,11433\\n\"1700\",19301,\"STE-Troleb\\xc3\\xbas\",\"L4 Pto A\\xc3\\xa9reo-Rosario\",\"Martes\",\"12-01-2021\",NA,NA,13670\\n\"1701\",19302,\"STE-Troleb\\xc3\\xbas\",\"L5 Sn Felipe-Hidalgo\",\"Martes\",\"12-01-2021\",NA,NA,4095\\n\"1702\",19303,\"STE-Troleb\\xc3\\xbas\",\"L6 Rosario-Chapultepec\",\"Martes\",\"12-01-2021\",NA,NA,5699\\n\"1703\",19304,\"STE-Troleb\\xc3\\xbas\",\"L7 Lomas Estrella-CU\",\"Martes\",\"12-01-2021\",NA,NA,7627\\n\"1704\",19305,\"STE-Troleb\\xc3\\xbas\",\"L8 Circuito IPN\",\"Martes\",\"12-01-2021\",NA,NA,0\\n\"1705\",19306,\"STE-Troleb\\xc3\\xbas\",\"L1 Eje Central\",\"Mi\\xc3\\xa9rcoles\",\"13-01-2021\",NA,NA,71373\\n\"1706\",19307,\"STE-Troleb\\xc3\\xbas\",\"L2 Eje 2 sur\",\"Mi\\xc3\\xa9rcoles\",\"13-01-2021\",NA,NA,11296\\n\"1707\",19308,\"STE-Troleb\\xc3\\xbas\",\"L3 Eje 7 Sur\",\"Mi\\xc3\\xa9rcoles\",\"13-01-2021\",NA,NA,9406\\n\"1708\",19309,\"STE-Troleb\\xc3\\xbas\",\"L4 Pto A\\xc3\\xa9reo-Rosario\",\"Mi\\xc3\\xa9rcoles\",\"13-01-2021\",NA,NA,11704\\n\"1709\",19310,\"STE-Troleb\\xc3\\xbas\",\"L5 Sn Felipe-Hidalgo\",\"Mi\\xc3\\xa9rcoles\",\"13-01-2021\",NA,NA,5256\\n\"1710\",19311,\"STE-Troleb\\xc3\\xbas\",\"L6 Rosario-Chapultepec\",\"Mi\\xc3\\xa9rcoles\",\"13-01-2021\",NA,NA,5307\\n\"1711\",19312,\"STE-Troleb\\xc3\\xbas\",\"L7 Lomas Estrella-CU\",\"Mi\\xc3\\xa9rcoles\",\"13-01-2021\",NA,NA,8348\\n\"1712\",19313,\"STE-Troleb\\xc3\\xbas\",\"L8 Circuito IPN\",\"Mi\\xc3\\xa9rcoles\",\"13-01-2021\",NA,NA,0\\n\"1713\",19314,\"STE-Troleb\\xc3\\xbas\",\"L1 Eje Central\",\"Jueves\",\"14-01-2021\",NA,NA,67462\\n\"1714\",19315,\"STE-Troleb\\xc3\\xbas\",\"L2 Eje 2 sur\",\"Jueves\",\"14-01-2021\",NA,NA,9902\\n\"1715\",19316,\"STE-Troleb\\xc3\\xbas\",\"L3 Eje 7 Sur\",\"Jueves\",\"14-01-2021\",NA,NA,11539\\n\"1716\",19317,\"STE-Troleb\\xc3\\xbas\",\"L4 Pto A\\xc3\\xa9reo-Rosario\",\"Jueves\",\"14-01-2021\",NA,NA,12237\\n\"1717\",19318,\"STE-Troleb\\xc3\\xbas\",\"L5 Sn Felipe-Hidalgo\",\"Jueves\",\"14-01-2021\",NA,NA,5829\\n\"1718\",19319,\"STE-Troleb\\xc3\\xbas\",\"L6 Rosario-Chapultepec\",\"Jueves\",\"14-01-2021\",NA,NA,4852\\n\"1719\",19320,\"STE-Troleb\\xc3\\xbas\",\"L7 Lomas Estrella-CU\",\"Jueves\",\"14-01-2021\",NA,NA,9166\\n\"1720\",19321,\"STE-Troleb\\xc3\\xbas\",\"L8 Circuito IPN\",\"Jueves\",\"14-01-2021\",NA,NA,0\\n\"1721\",19322,\"STE-Troleb\\xc3\\xbas\",\"L1 Eje Central\",\"Viernes\",\"15-01-2021\",NA,NA,73839\\n\"1722\",19323,\"STE-Troleb\\xc3\\xbas\",\"L2 Eje 2 sur\",\"Viernes\",\"15-01-2021\",NA,NA,13766\\n\"1723\",19324,\"STE-Troleb\\xc3\\xbas\",\"L3 Eje 7 Sur\",\"Viernes\",\"15-01-2021\",NA,NA,8666\\n\"1724\",19325,\"STE-Troleb\\xc3\\xbas\",\"L4 Pto A\\xc3\\xa9reo-Rosario\",\"Viernes\",\"15-01-2021\",NA,NA,10604\\n\"1725\",19326,\"STE-Troleb\\xc3\\xbas\",\"L5 Sn Felipe-Hidalgo\",\"Viernes\",\"15-01-2021\",NA,NA,6364\\n\"1726\",19327,\"STE-Troleb\\xc3\\xbas\",\"L6 Rosario-Chapultepec\",\"Viernes\",\"15-01-2021\",NA,NA,6125\\n\"1727\",19328,\"STE-Troleb\\xc3\\xbas\",\"L7 Lomas Estrella-CU\",\"Viernes\",\"15-01-2021\",NA,NA,9825\\n\"1728\",19329,\"STE-Troleb\\xc3\\xbas\",\"L8 Circuito IPN\",\"Viernes\",\"15-01-2021\",NA,NA,0\\n\"1729\",19330,\"STE-Troleb\\xc3\\xbas\",\"L1 Eje Central\",\"S\\xc3\\xa1bado\",\"16-01-2021\",NA,NA,57972\\n\"1730\",19331,\"STE-Troleb\\xc3\\xbas\",\"L2 Eje 2 sur\",\"S\\xc3\\xa1bado\",\"16-01-2021\",NA,NA,9979\\n\"1731\",19332,\"STE-Troleb\\xc3\\xbas\",\"L3 Eje 7 Sur\",\"S\\xc3\\xa1bado\",\"16-01-2021\",NA,NA,8737\\n\"1732\",19333,\"STE-Troleb\\xc3\\xbas\",\"L4 Pto A\\xc3\\xa9reo-Rosario\",\"S\\xc3\\xa1bado\",\"16-01-2021\",NA,NA,9802\\n\"1733\",19334,\"STE-Troleb\\xc3\\xbas\",\"L5 Sn Felipe-Hidalgo\",\"S\\xc3\\xa1bado\",\"16-01-2021\",NA,NA,4520\\n\"1734\",19335,\"STE-Troleb\\xc3\\xbas\",\"L6 Rosario-Chapultepec\",\"S\\xc3\\xa1bado\",\"16-01-2021\",NA,NA,4433\\n\"1735\",19336,\"STE-Troleb\\xc3\\xbas\",\"L7 Lomas Estrella-CU\",\"S\\xc3\\xa1bado\",\"16-01-2021\",NA,NA,7704\\n\"1736\",19337,\"STE-Troleb\\xc3\\xbas\",\"L8 Circuito IPN\",\"S\\xc3\\xa1bado\",\"16-01-2021\",NA,NA,0\\n\"1737\",19338,\"STE-Troleb\\xc3\\xbas\",\"L1 Eje Central\",\"Domingo\",\"17-01-2021\",NA,NA,32430\\n\"1738\",19339,\"STE-Troleb\\xc3\\xbas\",\"L2 Eje 2 sur\",\"Domingo\",\"17-01-2021\",NA,NA,6280\\n\"1739\",19340,\"STE-Troleb\\xc3\\xbas\",\"L3 Eje 7 Sur\",\"Domingo\",\"17-01-2021\",NA,NA,5783\\n\"1740\",19341,\"STE-Troleb\\xc3\\xbas\",\"L4 Pto A\\xc3\\xa9reo-Rosario\",\"Domingo\",\"17-01-2021\",NA,NA,5556\\n\"1741\",19342,\"STE-Troleb\\xc3\\xbas\",\"L5 Sn Felipe-Hidalgo\",\"Domingo\",\"17-01-2021\",NA,NA,3808\\n\"1742\",19343,\"STE-Troleb\\xc3\\xbas\",\"L6 Rosario-Chapultepec\",\"Domingo\",\"17-01-2021\",NA,NA,3830\\n\"1743\",19344,\"STE-Troleb\\xc3\\xbas\",\"L7 Lomas Estrella-CU\",\"Domingo\",\"17-01-2021\",NA,NA,4637\\n\"1744\",19345,\"STE-Troleb\\xc3\\xbas\",\"L8 Circuito IPN\",\"Domingo\",\"17-01-2021\",NA,NA,0\\n\"1745\",19346,\"STE-Troleb\\xc3\\xbas\",\"L1 Eje Central\",\"Lunes\",\"18-01-2021\",NA,NA,66947\\n\"1746\",19347,\"STE-Troleb\\xc3\\xbas\",\"L2 Eje 2 sur\",\"Lunes\",\"18-01-2021\",NA,NA,11851\\n\"1747\",19348,\"STE-Troleb\\xc3\\xbas\",\"L3 Eje 7 Sur\",\"Lunes\",\"18-01-2021\",NA,NA,11250\\n\"1748\",19349,\"STE-Troleb\\xc3\\xbas\",\"L4 Pto A\\xc3\\xa9reo-Rosario\",\"Lunes\",\"18-01-2021\",NA,NA,9944\\n\"1749\",19350,\"STE-Troleb\\xc3\\xbas\",\"L5 Sn Felipe-Hidalgo\",\"Lunes\",\"18-01-2021\",NA,NA,6687\\n\"1750\",19351,\"STE-Troleb\\xc3\\xbas\",\"L6 Rosario-Chapultepec\",\"Lunes\",\"18-01-2021\",NA,NA,4800\\n\"1751\",19352,\"STE-Troleb\\xc3\\xbas\",\"L7 Lomas Estrella-CU\",\"Lunes\",\"18-01-2021\",NA,NA,8525\\n\"1752\",19353,\"STE-Troleb\\xc3\\xbas\",\"L8 Circuito IPN\",\"Lunes\",\"18-01-2021\",NA,NA,0\\n\"1753\",19354,\"STE-Troleb\\xc3\\xbas\",\"L1 Eje Central\",\"Martes\",\"19-01-2021\",NA,NA,65217\\n\"1754\",19355,\"STE-Troleb\\xc3\\xbas\",\"L2 Eje 2 sur\",\"Martes\",\"19-01-2021\",NA,NA,11540\\n\"1755\",19356,\"STE-Troleb\\xc3\\xbas\",\"L3 Eje 7 Sur\",\"Martes\",\"19-01-2021\",NA,NA,10789\\n\"1756\",19357,\"STE-Troleb\\xc3\\xbas\",\"L4 Pto A\\xc3\\xa9reo-Rosario\",\"Martes\",\"19-01-2021\",NA,NA,11033\\n\"1757\",19358,\"STE-Troleb\\xc3\\xbas\",\"L5 Sn Felipe-Hidalgo\",\"Martes\",\"19-01-2021\",NA,NA,6111\\n\"1758\",19359,\"STE-Troleb\\xc3\\xbas\",\"L6 Rosario-Chapultepec\",\"Martes\",\"19-01-2021\",NA,NA,5404\\n\"1759\",19360,\"STE-Troleb\\xc3\\xbas\",\"L7 Lomas Estrella-CU\",\"Martes\",\"19-01-2021\",NA,NA,8820\\n\"1760\",19361,\"STE-Troleb\\xc3\\xbas\",\"L8 Circuito IPN\",\"Martes\",\"19-01-2021\",NA,NA,0\\n\"1761\",19362,\"STE-Troleb\\xc3\\xbas\",\"L1 Eje Central\",\"Mi\\xc3\\xa9rcoles\",\"20-01-2021\",NA,NA,63314\\n\"1762\",19363,\"STE-Troleb\\xc3\\xbas\",\"L2 Eje 2 sur\",\"Mi\\xc3\\xa9rcoles\",\"20-01-2021\",NA,NA,13121\\n\"1763\",19364,\"STE-Troleb\\xc3\\xbas\",\"L3 Eje 7 Sur\",\"Mi\\xc3\\xa9rcoles\",\"20-01-2021\",NA,NA,10094\\n\"1764\",19365,\"STE-Troleb\\xc3\\xbas\",\"L4 Pto A\\xc3\\xa9reo-Rosario\",\"Mi\\xc3\\xa9rcoles\",\"20-01-2021\",NA,NA,12026\\n\"1765\",19366,\"STE-Troleb\\xc3\\xbas\",\"L5 Sn Felipe-Hidalgo\",\"Mi\\xc3\\xa9rcoles\",\"20-01-2021\",NA,NA,5276\\n\"1766\",19367,\"STE-Troleb\\xc3\\xbas\",\"L6 Rosario-Chapultepec\",\"Mi\\xc3\\xa9rcoles\",\"20-01-2021\",NA,NA,4851\\n\"1767\",19368,\"STE-Troleb\\xc3\\xbas\",\"L7 Lomas Estrella-CU\",\"Mi\\xc3\\xa9rcoles\",\"20-01-2021\",NA,NA,7749\\n\"1768\",19369,\"STE-Troleb\\xc3\\xbas\",\"L8 Circuito IPN\",\"Mi\\xc3\\xa9rcoles\",\"20-01-2021\",NA,NA,0\\n\"1769\",19370,\"STE-Troleb\\xc3\\xbas\",\"L1 Eje Central\",\"Jueves\",\"21-01-2021\",NA,NA,60835\\n\"1770\",19371,\"STE-Troleb\\xc3\\xbas\",\"L2 Eje 2 sur\",\"Jueves\",\"21-01-2021\",NA,NA,11907\\n\"1771\",19372,\"STE-Troleb\\xc3\\xbas\",\"L3 Eje 7 Sur\",\"Jueves\",\"21-01-2021\",NA,NA,10689\\n\"1772\",19373,\"STE-Troleb\\xc3\\xbas\",\"L4 Pto A\\xc3\\xa9reo-Rosario\",\"Jueves\",\"21-01-2021\",NA,NA,9749\\n\"1773\",19374,\"STE-Troleb\\xc3\\xbas\",\"L5 Sn Felipe-Hidalgo\",\"Jueves\",\"21-01-2021\",NA,NA,5946\\n\"1774\",19375,\"STE-Troleb\\xc3\\xbas\",\"L6 Rosario-Chapultepec\",\"Jueves\",\"21-01-2021\",NA,NA,4785\\n\"1775\",19376,\"STE-Troleb\\xc3\\xbas\",\"L7 Lomas Estrella-CU\",\"Jueves\",\"21-01-2021\",NA,NA,9149\\n\"1776\",19377,\"STE-Troleb\\xc3\\xbas\",\"L8 Circuito IPN\",\"Jueves\",\"21-01-2021\",NA,NA,0\\n\"1777\",19378,\"STE-Troleb\\xc3\\xbas\",\"L1 Eje Central\",\"Viernes\",\"22-01-2021\",NA,NA,54755\\n\"1778\",19379,\"STE-Troleb\\xc3\\xbas\",\"L2 Eje 2 sur\",\"Viernes\",\"22-01-2021\",NA,NA,11515\\n\"1779\",19380,\"STE-Troleb\\xc3\\xbas\",\"L3 Eje 7 Sur\",\"Viernes\",\"22-01-2021\",NA,NA,10876\\n\"1780\",19381,\"STE-Troleb\\xc3\\xbas\",\"L4 Pto A\\xc3\\xa9reo-Rosario\",\"Viernes\",\"22-01-2021\",NA,NA,10769\\n\"1781\",19382,\"STE-Troleb\\xc3\\xbas\",\"L5 Sn Felipe-Hidalgo\",\"Viernes\",\"22-01-2021\",NA,NA,6314\\n\"1782\",19383,\"STE-Troleb\\xc3\\xbas\",\"L6 Rosario-Chapultepec\",\"Viernes\",\"22-01-2021\",NA,NA,4896\\n\"1783\",19384,\"STE-Troleb\\xc3\\xbas\",\"L7 Lomas Estrella-CU\",\"Viernes\",\"22-01-2021\",NA,NA,9618\\n\"1784\",19385,\"STE-Troleb\\xc3\\xbas\",\"L8 Circuito IPN\",\"Viernes\",\"22-01-2021\",NA,NA,0\\n\"1785\",19386,\"STE-Troleb\\xc3\\xbas\",\"L1 Eje Central\",\"S\\xc3\\xa1bado\",\"23-01-2021\",NA,NA,47825\\n\"1786\",19387,\"STE-Troleb\\xc3\\xbas\",\"L2 Eje 2 sur\",\"S\\xc3\\xa1bado\",\"23-01-2021\",NA,NA,10825\\n\"1787\",19388,\"STE-Troleb\\xc3\\xbas\",\"L3 Eje 7 Sur\",\"S\\xc3\\xa1bado\",\"23-01-2021\",NA,NA,9285\\n\"1788\",19389,\"STE-Troleb\\xc3\\xbas\",\"L4 Pto A\\xc3\\xa9reo-Rosario\",\"S\\xc3\\xa1bado\",\"23-01-2021\",NA,NA,8419\\n\"1789\",19390,\"STE-Troleb\\xc3\\xbas\",\"L5 Sn Felipe-Hidalgo\",\"S\\xc3\\xa1bado\",\"23-01-2021\",NA,NA,5729\\n\"1790\",19391,\"STE-Troleb\\xc3\\xbas\",\"L6 Rosario-Chapultepec\",\"S\\xc3\\xa1bado\",\"23-01-2021\",NA,NA,3621\\n\"1791\",19392,\"STE-Troleb\\xc3\\xbas\",\"L7 Lomas Estrella-CU\",\"S\\xc3\\xa1bado\",\"23-01-2021\",NA,NA,6387\\n\"1792\",19393,\"STE-Troleb\\xc3\\xbas\",\"L8 Circuito IPN\",\"S\\xc3\\xa1bado\",\"23-01-2021\",NA,NA,0\\n\"1793\",19394,\"STE-Troleb\\xc3\\xbas\",\"L1 Eje Central\",\"Domingo\",\"24-01-2021\",NA,NA,33996\\n\"1794\",19395,\"STE-Troleb\\xc3\\xbas\",\"L2 Eje 2 sur\",\"Domingo\",\"24-01-2021\",NA,NA,6414\\n\"1795\",19396,\"STE-Troleb\\xc3\\xbas\",\"L3 Eje 7 Sur\",\"Domingo\",\"24-01-2021\",NA,NA,4643\\n\"1796\",19397,\"STE-Troleb\\xc3\\xbas\",\"L4 Pto A\\xc3\\xa9reo-Rosario\",\"Domingo\",\"24-01-2021\",NA,NA,5729\\n\"1797\",19398,\"STE-Troleb\\xc3\\xbas\",\"L5 Sn Felipe-Hidalgo\",\"Domingo\",\"24-01-2021\",NA,NA,3969\\n\"1798\",19399,\"STE-Troleb\\xc3\\xbas\",\"L6 Rosario-Chapultepec\",\"Domingo\",\"24-01-2021\",NA,NA,3536\\n\"1799\",19400,\"STE-Troleb\\xc3\\xbas\",\"L7 Lomas Estrella-CU\",\"Domingo\",\"24-01-2021\",NA,NA,5293\\n\"1800\",19401,\"STE-Troleb\\xc3\\xbas\",\"L8 Circuito IPN\",\"Domingo\",\"24-01-2021\",NA,NA,0\\n\"1801\",19402,\"STE-Troleb\\xc3\\xbas\",\"L1 Eje Central\",\"Lunes\",\"25-01-2021\",NA,NA,59012\\n\"1802\",19403,\"STE-Troleb\\xc3\\xbas\",\"L2 Eje 2 sur\",\"Lunes\",\"25-01-2021\",NA,NA,9326\\n\"1803\",19404,\"STE-Troleb\\xc3\\xbas\",\"L3 Eje 7 Sur\",\"Lunes\",\"25-01-2021\",NA,NA,10353\\n\"1804\",19405,\"STE-Troleb\\xc3\\xbas\",\"L4 Pto A\\xc3\\xa9reo-Rosario\",\"Lunes\",\"25-01-2021\",NA,NA,9101\\n\"1805\",19406,\"STE-Troleb\\xc3\\xbas\",\"L5 Sn Felipe-Hidalgo\",\"Lunes\",\"25-01-2021\",NA,NA,5611\\n\"1806\",19407,\"STE-Troleb\\xc3\\xbas\",\"L6 Rosario-Chapultepec\",\"Lunes\",\"25-01-2021\",NA,NA,5229\\n\"1807\",19408,\"STE-Troleb\\xc3\\xbas\",\"L7 Lomas Estrella-CU\",\"Lunes\",\"25-01-2021\",NA,NA,7437\\n\"1808\",19409,\"STE-Troleb\\xc3\\xbas\",\"L8 Circuito IPN\",\"Lunes\",\"25-01-2021\",NA,NA,0\\n\"1809\",19410,\"STE-Troleb\\xc3\\xbas\",\"L1 Eje Central\",\"Martes\",\"26-01-2021\",NA,NA,60450\\n\"1810\",19411,\"STE-Troleb\\xc3\\xbas\",\"L2 Eje 2 sur\",\"Martes\",\"26-01-2021\",NA,NA,9892\\n\"1811\",19412,\"STE-Troleb\\xc3\\xbas\",\"L3 Eje 7 Sur\",\"Martes\",\"26-01-2021\",NA,NA,6485\\n\"1812\",19413,\"STE-Troleb\\xc3\\xbas\",\"L4 Pto A\\xc3\\xa9reo-Rosario\",\"Martes\",\"26-01-2021\",NA,NA,8500\\n\"1813\",19414,\"STE-Troleb\\xc3\\xbas\",\"L5 Sn Felipe-Hidalgo\",\"Martes\",\"26-01-2021\",NA,NA,5360\\n\"1814\",19415,\"STE-Troleb\\xc3\\xbas\",\"L6 Rosario-Chapultepec\",\"Martes\",\"26-01-2021\",NA,NA,3824\\n\"1815\",19416,\"STE-Troleb\\xc3\\xbas\",\"L7 Lomas Estrella-CU\",\"Martes\",\"26-01-2021\",NA,NA,8032\\n\"1816\",19417,\"STE-Troleb\\xc3\\xbas\",\"L8 Circuito IPN\",\"Martes\",\"26-01-2021\",NA,NA,0\\n\"1817\",19418,\"STE-Troleb\\xc3\\xbas\",\"L1 Eje Central\",\"Mi\\xc3\\xa9rcoles\",\"27-01-2021\",NA,NA,61456\\n\"1818\",19419,\"STE-Troleb\\xc3\\xbas\",\"L2 Eje 2 sur\",\"Mi\\xc3\\xa9rcoles\",\"27-01-2021\",NA,NA,9371\\n\"1819\",19420,\"STE-Troleb\\xc3\\xbas\",\"L3 Eje 7 Sur\",\"Mi\\xc3\\xa9rcoles\",\"27-01-2021\",NA,NA,6401\\n\"1820\",19421,\"STE-Troleb\\xc3\\xbas\",\"L4 Pto A\\xc3\\xa9reo-Rosario\",\"Mi\\xc3\\xa9rcoles\",\"27-01-2021\",NA,NA,9521\\n\"1821\",19422,\"STE-Troleb\\xc3\\xbas\",\"L5 Sn Felipe-Hidalgo\",\"Mi\\xc3\\xa9rcoles\",\"27-01-2021\",NA,NA,6011\\n\"1822\",19423,\"STE-Troleb\\xc3\\xbas\",\"L6 Rosario-Chapultepec\",\"Mi\\xc3\\xa9rcoles\",\"27-01-2021\",NA,NA,4109\\n\"1823\",19424,\"STE-Troleb\\xc3\\xbas\",\"L7 Lomas Estrella-CU\",\"Mi\\xc3\\xa9rcoles\",\"27-01-2021\",NA,NA,8408\\n\"1824\",19425,\"STE-Troleb\\xc3\\xbas\",\"L8 Circuito IPN\",\"Mi\\xc3\\xa9rcoles\",\"27-01-2021\",NA,NA,0\\n\"1825\",19426,\"STE-Troleb\\xc3\\xbas\",\"L1 Eje Central\",\"Jueves\",\"28-01-2021\",NA,NA,76110\\n\"1826\",19427,\"STE-Troleb\\xc3\\xbas\",\"L2 Eje 2 sur\",\"Jueves\",\"28-01-2021\",NA,NA,8553\\n\"1827\",19428,\"STE-Troleb\\xc3\\xbas\",\"L3 Eje 7 Sur\",\"Jueves\",\"28-01-2021\",NA,NA,8918\\n\"1828\",19429,\"STE-Troleb\\xc3\\xbas\",\"L4 Pto A\\xc3\\xa9reo-Rosario\",\"Jueves\",\"28-01-2021\",NA,NA,8847\\n\"1829\",19430,\"STE-Troleb\\xc3\\xbas\",\"L5 Sn Felipe-Hidalgo\",\"Jueves\",\"28-01-2021\",NA,NA,6979\\n\"1830\",19431,\"STE-Troleb\\xc3\\xbas\",\"L6 Rosario-Chapultepec\",\"Jueves\",\"28-01-2021\",NA,NA,4373\\n\"1831\",19432,\"STE-Troleb\\xc3\\xbas\",\"L7 Lomas Estrella-CU\",\"Jueves\",\"28-01-2021\",NA,NA,8549\\n\"1832\",19433,\"STE-Troleb\\xc3\\xbas\",\"L8 Circuito IPN\",\"Jueves\",\"28-01-2021\",NA,NA,0\\n\"1833\",19434,\"STE-Troleb\\xc3\\xbas\",\"L1 Eje Central\",\"Viernes\",\"29-01-2021\",NA,NA,74712\\n\"1834\",19435,\"STE-Troleb\\xc3\\xbas\",\"L2 Eje 2 sur\",\"Viernes\",\"29-01-2021\",NA,NA,9043\\n\"1835\",19436,\"STE-Troleb\\xc3\\xbas\",\"L3 Eje 7 Sur\",\"Viernes\",\"29-01-2021\",NA,NA,11572\\n\"1836\",19437,\"STE-Troleb\\xc3\\xbas\",\"L4 Pto A\\xc3\\xa9reo-Rosario\",\"Viernes\",\"29-01-2021\",NA,NA,9297\\n\"1837\",19438,\"STE-Troleb\\xc3\\xbas\",\"L5 Sn Felipe-Hidalgo\",\"Viernes\",\"29-01-2021\",NA,NA,5865\\n\"1838\",19439,\"STE-Troleb\\xc3\\xbas\",\"L6 Rosario-Chapultepec\",\"Viernes\",\"29-01-2021\",NA,NA,6220\\n\"1839\",19440,\"STE-Troleb\\xc3\\xbas\",\"L7 Lomas Estrella-CU\",\"Viernes\",\"29-01-2021\",NA,NA,8665\\n\"1840\",19441,\"STE-Troleb\\xc3\\xbas\",\"L8 Circuito IPN\",\"Viernes\",\"29-01-2021\",NA,NA,0\\n\"1841\",19442,\"STE-Troleb\\xc3\\xbas\",\"L1 Eje Central\",\"S\\xc3\\xa1bado\",\"30-01-2021\",NA,NA,63058\\n\"1842\",19443,\"STE-Troleb\\xc3\\xbas\",\"L2 Eje 2 sur\",\"S\\xc3\\xa1bado\",\"30-01-2021\",NA,NA,9653\\n\"1843\",19444,\"STE-Troleb\\xc3\\xbas\",\"L3 Eje 7 Sur\",\"S\\xc3\\xa1bado\",\"30-01-2021\",NA,NA,8232\\n\"1844\",19445,\"STE-Troleb\\xc3\\xbas\",\"L4 Pto A\\xc3\\xa9reo-Rosario\",\"S\\xc3\\xa1bado\",\"30-01-2021\",NA,NA,7174\\n\"1845\",19446,\"STE-Troleb\\xc3\\xbas\",\"L5 Sn Felipe-Hidalgo\",\"S\\xc3\\xa1bado\",\"30-01-2021\",NA,NA,4650\\n\"1846\",19447,\"STE-Troleb\\xc3\\xbas\",\"L6 Rosario-Chapultepec\",\"S\\xc3\\xa1bado\",\"30-01-2021\",NA,NA,6105\\n\"1847\",19448,\"STE-Troleb\\xc3\\xbas\",\"L7 Lomas Estrella-CU\",\"S\\xc3\\xa1bado\",\"30-01-2021\",NA,NA,6640\\n\"1848\",19449,\"STE-Troleb\\xc3\\xbas\",\"L8 Circuito IPN\",\"S\\xc3\\xa1bado\",\"30-01-2021\",NA,NA,0\\n\"1849\",26648,\"STE-Troleb\\xc3\\xbas\",\"L9 Iztacalco-Villa de Cort\\xc3\\xa9s\",\"S\\xc3\\xa1bado\",\"30-01-2021\",NA,NA,1695\\n\"1850\",19450,\"STE-Troleb\\xc3\\xbas\",\"L1 Eje Central\",\"Domingo\",\"31-01-2021\",NA,NA,43421\\n\"1851\",19451,\"STE-Troleb\\xc3\\xbas\",\"L2 Eje 2 sur\",\"Domingo\",\"31-01-2021\",NA,NA,2917\\n\"1852\",19452,\"STE-Troleb\\xc3\\xbas\",\"L3 Eje 7 Sur\",\"Domingo\",\"31-01-2021\",NA,NA,3638\\n\"1853\",19453,\"STE-Troleb\\xc3\\xbas\",\"L4 Pto A\\xc3\\xa9reo-Rosario\",\"Domingo\",\"31-01-2021\",NA,NA,3987\\n\"1854\",19454,\"STE-Troleb\\xc3\\xbas\",\"L5 Sn Felipe-Hidalgo\",\"Domingo\",\"31-01-2021\",NA,NA,3517\\n\"1855\",19455,\"STE-Troleb\\xc3\\xbas\",\"L6 Rosario-Chapultepec\",\"Domingo\",\"31-01-2021\",NA,NA,3184\\n\"1856\",19456,\"STE-Troleb\\xc3\\xbas\",\"L7 Lomas Estrella-CU\",\"Domingo\",\"31-01-2021\",NA,NA,3635\\n\"1857\",19457,\"STE-Troleb\\xc3\\xbas\",\"L8 Circuito IPN\",\"Domingo\",\"31-01-2021\",NA,NA,0\\n\"1858\",26649,\"STE-Troleb\\xc3\\xbas\",\"L9 Iztacalco-Villa de Cort\\xc3\\xa9s\",\"Domingo\",\"31-01-2021\",NA,NA,1011\\n\"1859\",19458,\"STE-Troleb\\xc3\\xbas\",\"L1 Eje Central\",\"Lunes\",\"01-02-2021\",NA,NA,48353\\n\"1860\",19459,\"STE-Troleb\\xc3\\xbas\",\"L2 Eje 2 sur\",\"Lunes\",\"01-02-2021\",NA,NA,5096\\n\"1861\",19460,\"STE-Troleb\\xc3\\xbas\",\"L3 Eje 7 Sur\",\"Lunes\",\"01-02-2021\",NA,NA,5993\\n\"1862\",19461,\"STE-Troleb\\xc3\\xbas\",\"L4 Pto A\\xc3\\xa9reo-Rosario\",\"Lunes\",\"01-02-2021\",NA,NA,7913\\n\"1863\",19462,\"STE-Troleb\\xc3\\xbas\",\"L5 Sn Felipe-Hidalgo\",\"Lunes\",\"01-02-2021\",NA,NA,4099\\n\"1864\",19463,\"STE-Troleb\\xc3\\xbas\",\"L6 Rosario-Chapultepec\",\"Lunes\",\"01-02-2021\",NA,NA,3613\\n\"1865\",19464,\"STE-Troleb\\xc3\\xbas\",\"L7 Lomas Estrella-CU\",\"Lunes\",\"01-02-2021\",NA,NA,5579\\n\"1866\",19465,\"STE-Troleb\\xc3\\xbas\",\"L8 Circuito IPN\",\"Lunes\",\"01-02-2021\",NA,NA,0\\n\"1867\",26650,\"STE-Troleb\\xc3\\xbas\",\"L9 Iztacalco-Villa de Cort\\xc3\\xa9s\",\"Lunes\",\"01-02-2021\",NA,NA,1983\\n\"1868\",19466,\"STE-Troleb\\xc3\\xbas\",\"L1 Eje Central\",\"Martes\",\"02-02-2021\",NA,NA,67923\\n\"1869\",19467,\"STE-Troleb\\xc3\\xbas\",\"L2 Eje 2 sur\",\"Martes\",\"02-02-2021\",NA,NA,9817\\n\"1870\",19468,\"STE-Troleb\\xc3\\xbas\",\"L3 Eje 7 Sur\",\"Martes\",\"02-02-2021\",NA,NA,8463\\n\"1871\",19469,\"STE-Troleb\\xc3\\xbas\",\"L4 Pto A\\xc3\\xa9reo-Rosario\",\"Martes\",\"02-02-2021\",NA,NA,7837\\n\"1872\",19470,\"STE-Troleb\\xc3\\xbas\",\"L5 Sn Felipe-Hidalgo\",\"Martes\",\"02-02-2021\",NA,NA,6694\\n\"1873\",19471,\"STE-Troleb\\xc3\\xbas\",\"L6 Rosario-Chapultepec\",\"Martes\",\"02-02-2021\",NA,NA,5428\\n\"1874\",19472,\"STE-Troleb\\xc3\\xbas\",\"L7 Lomas Estrella-CU\",\"Martes\",\"02-02-2021\",NA,NA,8913\\n\"1875\",19473,\"STE-Troleb\\xc3\\xbas\",\"L8 Circuito IPN\",\"Martes\",\"02-02-2021\",NA,NA,0\\n\"1876\",26651,\"STE-Troleb\\xc3\\xbas\",\"L9 Iztacalco-Villa de Cort\\xc3\\xa9s\",\"Martes\",\"02-02-2021\",NA,NA,2064\\n\"1877\",19474,\"STE-Troleb\\xc3\\xbas\",\"L1 Eje Central\",\"Mi\\xc3\\xa9rcoles\",\"03-02-2021\",NA,NA,60920\\n\"1878\",19475,\"STE-Troleb\\xc3\\xbas\",\"L2 Eje 2 sur\",\"Mi\\xc3\\xa9rcoles\",\"03-02-2021\",NA,NA,10060\\n\"1879\",19476,\"STE-Troleb\\xc3\\xbas\",\"L3 Eje 7 Sur\",\"Mi\\xc3\\xa9rcoles\",\"03-02-2021\",NA,NA,7979\\n\"1880\",19477,\"STE-Troleb\\xc3\\xbas\",\"L4 Pto A\\xc3\\xa9reo-Rosario\",\"Mi\\xc3\\xa9rcoles\",\"03-02-2021\",NA,NA,8009\\n\"1881\",19478,\"STE-Troleb\\xc3\\xbas\",\"L5 Sn Felipe-Hidalgo\",\"Mi\\xc3\\xa9rcoles\",\"03-02-2021\",NA,NA,6232\\n\"1882\",19479,\"STE-Troleb\\xc3\\xbas\",\"L6 Rosario-Chapultepec\",\"Mi\\xc3\\xa9rcoles\",\"03-02-2021\",NA,NA,4432\\n\"1883\",19480,\"STE-Troleb\\xc3\\xbas\",\"L7 Lomas Estrella-CU\",\"Mi\\xc3\\xa9rcoles\",\"03-02-2021\",NA,NA,8744\\n\"1884\",19481,\"STE-Troleb\\xc3\\xbas\",\"L8 Circuito IPN\",\"Mi\\xc3\\xa9rcoles\",\"03-02-2021\",NA,NA,0\\n\"1885\",26652,\"STE-Troleb\\xc3\\xbas\",\"L9 Iztacalco-Villa de Cort\\xc3\\xa9s\",\"Mi\\xc3\\xa9rcoles\",\"03-02-2021\",NA,NA,2758\\n\"1886\",19482,\"STE-Troleb\\xc3\\xbas\",\"L1 Eje Central\",\"Jueves\",\"04-02-2021\",NA,NA,66615\\n\"1887\",19483,\"STE-Troleb\\xc3\\xbas\",\"L2 Eje 2 sur\",\"Jueves\",\"04-02-2021\",NA,NA,9922\\n\"1888\",19484,\"STE-Troleb\\xc3\\xbas\",\"L3 Eje 7 Sur\",\"Jueves\",\"04-02-2021\",NA,NA,9429\\n\"1889\",19485,\"STE-Troleb\\xc3\\xbas\",\"L4 Pto A\\xc3\\xa9reo-Rosario\",\"Jueves\",\"04-02-2021\",NA,NA,8651\\n\"1890\",19486,\"STE-Troleb\\xc3\\xbas\",\"L5 Sn Felipe-Hidalgo\",\"Jueves\",\"04-02-2021\",NA,NA,6933\\n\"1891\",19487,\"STE-Troleb\\xc3\\xbas\",\"L6 Rosario-Chapultepec\",\"Jueves\",\"04-02-2021\",NA,NA,5431\\n\"1892\",19488,\"STE-Troleb\\xc3\\xbas\",\"L7 Lomas Estrella-CU\",\"Jueves\",\"04-02-2021\",NA,NA,7856\\n\"1893\",19489,\"STE-Troleb\\xc3\\xbas\",\"L8 Circuito IPN\",\"Jueves\",\"04-02-2021\",NA,NA,0\\n\"1894\",26653,\"STE-Troleb\\xc3\\xbas\",\"L9 Iztacalco-Villa de Cort\\xc3\\xa9s\",\"Jueves\",\"04-02-2021\",NA,NA,1980\\n\"1895\",19490,\"STE-Troleb\\xc3\\xbas\",\"L1 Eje Central\",\"Viernes\",\"05-02-2021\",NA,NA,62640\\n\"1896\",19491,\"STE-Troleb\\xc3\\xbas\",\"L2 Eje 2 sur\",\"Viernes\",\"05-02-2021\",NA,NA,9918\\n\"1897\",19492,\"STE-Troleb\\xc3\\xbas\",\"L3 Eje 7 Sur\",\"Viernes\",\"05-02-2021\",NA,NA,9440\\n\"1898\",19493,\"STE-Troleb\\xc3\\xbas\",\"L4 Pto A\\xc3\\xa9reo-Rosario\",\"Viernes\",\"05-02-2021\",NA,NA,9901\\n\"1899\",19494,\"STE-Troleb\\xc3\\xbas\",\"L5 Sn Felipe-Hidalgo\",\"Viernes\",\"05-02-2021\",NA,NA,7286\\n\"1900\",19495,\"STE-Troleb\\xc3\\xbas\",\"L6 Rosario-Chapultepec\",\"Viernes\",\"05-02-2021\",NA,NA,5504\\n\"1901\",19496,\"STE-Troleb\\xc3\\xbas\",\"L7 Lomas Estrella-CU\",\"Viernes\",\"05-02-2021\",NA,NA,7203\\n\"1902\",19497,\"STE-Troleb\\xc3\\xbas\",\"L8 Circuito IPN\",\"Viernes\",\"05-02-2021\",NA,NA,0\\n\"1903\",26654,\"STE-Troleb\\xc3\\xbas\",\"L9 Iztacalco-Villa de Cort\\xc3\\xa9s\",\"Viernes\",\"05-02-2021\",NA,NA,2446\\n\"1904\",19498,\"STE-Troleb\\xc3\\xbas\",\"L1 Eje Central\",\"S\\xc3\\xa1bado\",\"06-02-2021\",NA,NA,49885\\n\"1905\",19499,\"STE-Troleb\\xc3\\xbas\",\"L2 Eje 2 sur\",\"S\\xc3\\xa1bado\",\"06-02-2021\",NA,NA,10342\\n\"1906\",19500,\"STE-Troleb\\xc3\\xbas\",\"L3 Eje 7 Sur\",\"S\\xc3\\xa1bado\",\"06-02-2021\",NA,NA,7669\\n\"1907\",19501,\"STE-Troleb\\xc3\\xbas\",\"L4 Pto A\\xc3\\xa9reo-Rosario\",\"S\\xc3\\xa1bado\",\"06-02-2021\",NA,NA,9719\\n\"1908\",19502,\"STE-Troleb\\xc3\\xbas\",\"L5 Sn Felipe-Hidalgo\",\"S\\xc3\\xa1bado\",\"06-02-2021\",NA,NA,4217\\n\"1909\",19503,\"STE-Troleb\\xc3\\xbas\",\"L6 Rosario-Chapultepec\",\"S\\xc3\\xa1bado\",\"06-02-2021\",NA,NA,5053\\n\"1910\",19504,\"STE-Troleb\\xc3\\xbas\",\"L7 Lomas Estrella-CU\",\"S\\xc3\\xa1bado\",\"06-02-2021\",NA,NA,5535\\n\"1911\",19505,\"STE-Troleb\\xc3\\xbas\",\"L8 Circuito IPN\",\"S\\xc3\\xa1bado\",\"06-02-2021\",NA,NA,0\\n\"1912\",26655,\"STE-Troleb\\xc3\\xbas\",\"L9 Iztacalco-Villa de Cort\\xc3\\xa9s\",\"S\\xc3\\xa1bado\",\"06-02-2021\",NA,NA,1316\\n\"1913\",19506,\"STE-Troleb\\xc3\\xbas\",\"L1 Eje Central\",\"Domingo\",\"07-02-2021\",NA,NA,32450\\n\"1914\",19507,\"STE-Troleb\\xc3\\xbas\",\"L2 Eje 2 sur\",\"Domingo\",\"07-02-2021\",NA,NA,4800\\n\"1915\",19508,\"STE-Troleb\\xc3\\xbas\",\"L3 Eje 7 Sur\",\"Domingo\",\"07-02-2021\",NA,NA,5410\\n\"1916\",19509,\"STE-Troleb\\xc3\\xbas\",\"L4 Pto A\\xc3\\xa9reo-Rosario\",\"Domingo\",\"07-02-2021\",NA,NA,5041\\n\"1917\",19510,\"STE-Troleb\\xc3\\xbas\",\"L5 Sn Felipe-Hidalgo\",\"Domingo\",\"07-02-2021\",NA,NA,3844\\n\"1918\",19511,\"STE-Troleb\\xc3\\xbas\",\"L6 Rosario-Chapultepec\",\"Domingo\",\"07-02-2021\",NA,NA,3135\\n\"1919\",19512,\"STE-Troleb\\xc3\\xbas\",\"L7 Lomas Estrella-CU\",\"Domingo\",\"07-02-2021\",NA,NA,4749\\n\"1920\",19513,\"STE-Troleb\\xc3\\xbas\",\"L8 Circuito IPN\",\"Domingo\",\"07-02-2021\",NA,NA,0\\n\"1921\",26656,\"STE-Troleb\\xc3\\xbas\",\"L9 Iztacalco-Villa de Cort\\xc3\\xa9s\",\"Domingo\",\"07-02-2021\",NA,NA,882\\n\"1922\",19514,\"STE-Troleb\\xc3\\xbas\",\"L1 Eje Central\",\"Lunes\",\"08-02-2021\",NA,NA,52830\\n\"1923\",19515,\"STE-Troleb\\xc3\\xbas\",\"L2 Eje 2 sur\",\"Lunes\",\"08-02-2021\",NA,NA,9276\\n\"1924\",19516,\"STE-Troleb\\xc3\\xbas\",\"L3 Eje 7 Sur\",\"Lunes\",\"08-02-2021\",NA,NA,8692\\n\"1925\",19517,\"STE-Troleb\\xc3\\xbas\",\"L4 Pto A\\xc3\\xa9reo-Rosario\",\"Lunes\",\"08-02-2021\",NA,NA,8257\\n\"1926\",19518,\"STE-Troleb\\xc3\\xbas\",\"L5 Sn Felipe-Hidalgo\",\"Lunes\",\"08-02-2021\",NA,NA,6211\\n\"1927\",19519,\"STE-Troleb\\xc3\\xbas\",\"L6 Rosario-Chapultepec\",\"Lunes\",\"08-02-2021\",NA,NA,5977\\n\"1928\",19520,\"STE-Troleb\\xc3\\xbas\",\"L7 Lomas Estrella-CU\",\"Lunes\",\"08-02-2021\",NA,NA,7407\\n\"1929\",19521,\"STE-Troleb\\xc3\\xbas\",\"L8 Circuito IPN\",\"Lunes\",\"08-02-2021\",NA,NA,0\\n\"1930\",26657,\"STE-Troleb\\xc3\\xbas\",\"L9 Iztacalco-Villa de Cort\\xc3\\xa9s\",\"Lunes\",\"08-02-2021\",NA,NA,2527\\n\"1931\",19522,\"STE-Troleb\\xc3\\xbas\",\"L1 Eje Central\",\"Martes\",\"09-02-2021\",NA,NA,54019\\n\"1932\",19523,\"STE-Troleb\\xc3\\xbas\",\"L2 Eje 2 sur\",\"Martes\",\"09-02-2021\",NA,NA,8478\\n\"1933\",19524,\"STE-Troleb\\xc3\\xbas\",\"L3 Eje 7 Sur\",\"Martes\",\"09-02-2021\",NA,NA,7072\\n\"1934\",19525,\"STE-Troleb\\xc3\\xbas\",\"L4 Pto A\\xc3\\xa9reo-Rosario\",\"Martes\",\"09-02-2021\",NA,NA,7973\\n\"1935\",19526,\"STE-Troleb\\xc3\\xbas\",\"L5 Sn Felipe-Hidalgo\",\"Martes\",\"09-02-2021\",NA,NA,6247\\n\"1936\",19527,\"STE-Troleb\\xc3\\xbas\",\"L6 Rosario-Chapultepec\",\"Martes\",\"09-02-2021\",NA,NA,4739\\n\"1937\",19528,\"STE-Troleb\\xc3\\xbas\",\"L7 Lomas Estrella-CU\",\"Martes\",\"09-02-2021\",NA,NA,8856\\n\"1938\",19529,\"STE-Troleb\\xc3\\xbas\",\"L8 Circuito IPN\",\"Martes\",\"09-02-2021\",NA,NA,0\\n\"1939\",26658,\"STE-Troleb\\xc3\\xbas\",\"L9 Iztacalco-Villa de Cort\\xc3\\xa9s\",\"Martes\",\"09-02-2021\",NA,NA,2716\\n\"1940\",19530,\"STE-Troleb\\xc3\\xbas\",\"L1 Eje Central\",\"Mi\\xc3\\xa9rcoles\",\"10-02-2021\",NA,NA,53018\\n\"1941\",19531,\"STE-Troleb\\xc3\\xbas\",\"L2 Eje 2 sur\",\"Mi\\xc3\\xa9rcoles\",\"10-02-2021\",NA,NA,8260\\n\"1942\",19532,\"STE-Troleb\\xc3\\xbas\",\"L3 Eje 7 Sur\",\"Mi\\xc3\\xa9rcoles\",\"10-02-2021\",NA,NA,8996\\n\"1943\",19533,\"STE-Troleb\\xc3\\xbas\",\"L4 Pto A\\xc3\\xa9reo-Rosario\",\"Mi\\xc3\\xa9rcoles\",\"10-02-2021\",NA,NA,7627\\n\"1944\",19534,\"STE-Troleb\\xc3\\xbas\",\"L5 Sn Felipe-Hidalgo\",\"Mi\\xc3\\xa9rcoles\",\"10-02-2021\",NA,NA,5254\\n\"1945\",19535,\"STE-Troleb\\xc3\\xbas\",\"L6 Rosario-Chapultepec\",\"Mi\\xc3\\xa9rcoles\",\"10-02-2021\",NA,NA,5743\\n\"1946\",19536,\"STE-Troleb\\xc3\\xbas\",\"L7 Lomas Estrella-CU\",\"Mi\\xc3\\xa9rcoles\",\"10-02-2021\",NA,NA,9145\\n\"1947\",19537,\"STE-Troleb\\xc3\\xbas\",\"L8 Circuito IPN\",\"Mi\\xc3\\xa9rcoles\",\"10-02-2021\",NA,NA,0\\n\"1948\",26659,\"STE-Troleb\\xc3\\xbas\",\"L9 Iztacalco-Villa de Cort\\xc3\\xa9s\",\"Mi\\xc3\\xa9rcoles\",\"10-02-2021\",NA,NA,2758\\n\"1949\",19538,\"STE-Troleb\\xc3\\xbas\",\"L1 Eje Central\",\"Jueves\",\"11-02-2021\",NA,NA,52346\\n\"1950\",19539,\"STE-Troleb\\xc3\\xbas\",\"L2 Eje 2 sur\",\"Jueves\",\"11-02-2021\",NA,NA,9032\\n\"1951\",19540,\"STE-Troleb\\xc3\\xbas\",\"L3 Eje 7 Sur\",\"Jueves\",\"11-02-2021\",NA,NA,8311\\n\"1952\",19541,\"STE-Troleb\\xc3\\xbas\",\"L4 Pto A\\xc3\\xa9reo-Rosario\",\"Jueves\",\"11-02-2021\",NA,NA,8900\\n\"1953\",19542,\"STE-Troleb\\xc3\\xbas\",\"L5 Sn Felipe-Hidalgo\",\"Jueves\",\"11-02-2021\",NA,NA,6701\\n\"1954\",19543,\"STE-Troleb\\xc3\\xbas\",\"L6 Rosario-Chapultepec\",\"Jueves\",\"11-02-2021\",NA,NA,4815\\n\"1955\",19544,\"STE-Troleb\\xc3\\xbas\",\"L7 Lomas Estrella-CU\",\"Jueves\",\"11-02-2021\",NA,NA,8084\\n\"1956\",19545,\"STE-Troleb\\xc3\\xbas\",\"L8 Circuito IPN\",\"Jueves\",\"11-02-2021\",NA,NA,0\\n\"1957\",26660,\"STE-Troleb\\xc3\\xbas\",\"L9 Iztacalco-Villa de Cort\\xc3\\xa9s\",\"Jueves\",\"11-02-2021\",NA,NA,2735\\n\"1958\",19546,\"STE-Troleb\\xc3\\xbas\",\"L1 Eje Central\",\"Viernes\",\"12-02-2021\",NA,NA,54708\\n\"1959\",19547,\"STE-Troleb\\xc3\\xbas\",\"L2 Eje 2 sur\",\"Viernes\",\"12-02-2021\",NA,NA,9639\\n\"1960\",19548,\"STE-Troleb\\xc3\\xbas\",\"L3 Eje 7 Sur\",\"Viernes\",\"12-02-2021\",NA,NA,9231\\n\"1961\",19549,\"STE-Troleb\\xc3\\xbas\",\"L4 Pto A\\xc3\\xa9reo-Rosario\",\"Viernes\",\"12-02-2021\",NA,NA,9511\\n\"1962\",19550,\"STE-Troleb\\xc3\\xbas\",\"L5 Sn Felipe-Hidalgo\",\"Viernes\",\"12-02-2021\",NA,NA,7096\\n\"1963\",19551,\"STE-Troleb\\xc3\\xbas\",\"L6 Rosario-Chapultepec\",\"Viernes\",\"12-02-2021\",NA,NA,5493\\n\"1964\",19552,\"STE-Troleb\\xc3\\xbas\",\"L7 Lomas Estrella-CU\",\"Viernes\",\"12-02-2021\",NA,NA,7712\\n\"1965\",19553,\"STE-Troleb\\xc3\\xbas\",\"L8 Circuito IPN\",\"Viernes\",\"12-02-2021\",NA,NA,0\\n\"1966\",26661,\"STE-Troleb\\xc3\\xbas\",\"L9 Iztacalco-Villa de Cort\\xc3\\xa9s\",\"Viernes\",\"12-02-2021\",NA,NA,2682\\n\"1967\",19554,\"STE-Troleb\\xc3\\xbas\",\"L1 Eje Central\",\"S\\xc3\\xa1bado\",\"13-02-2021\",NA,NA,46931\\n\"1968\",19555,\"STE-Troleb\\xc3\\xbas\",\"L2 Eje 2 sur\",\"S\\xc3\\xa1bado\",\"13-02-2021\",NA,NA,8210\\n\"1969\",19556,\"STE-Troleb\\xc3\\xbas\",\"L3 Eje 7 Sur\",\"S\\xc3\\xa1bado\",\"13-02-2021\",NA,NA,7674\\n\"1970\",19557,\"STE-Troleb\\xc3\\xbas\",\"L4 Pto A\\xc3\\xa9reo-Rosario\",\"S\\xc3\\xa1bado\",\"13-02-2021\",NA,NA,8141\\n\"1971\",19558,\"STE-Troleb\\xc3\\xbas\",\"L5 Sn Felipe-Hidalgo\",\"S\\xc3\\xa1bado\",\"13-02-2021\",NA,NA,4765\\n\"1972\",19559,\"STE-Troleb\\xc3\\xbas\",\"L6 Rosario-Chapultepec\",\"S\\xc3\\xa1bado\",\"13-02-2021\",NA,NA,6152\\n\"1973\",19560,\"STE-Troleb\\xc3\\xbas\",\"L7 Lomas Estrella-CU\",\"S\\xc3\\xa1bado\",\"13-02-2021\",NA,NA,6449\\n\"1974\",19561,\"STE-Troleb\\xc3\\xbas\",\"L8 Circuito IPN\",\"S\\xc3\\xa1bado\",\"13-02-2021\",NA,NA,0\\n\"1975\",26662,\"STE-Troleb\\xc3\\xbas\",\"L9 Iztacalco-Villa de Cort\\xc3\\xa9s\",\"S\\xc3\\xa1bado\",\"13-02-2021\",NA,NA,1711\\n\"1976\",19562,\"STE-Troleb\\xc3\\xbas\",\"L1 Eje Central\",\"Domingo\",\"14-02-2021\",NA,NA,32749\\n\"1977\",19563,\"STE-Troleb\\xc3\\xbas\",\"L2 Eje 2 sur\",\"Domingo\",\"14-02-2021\",NA,NA,5246\\n\"1978\",19564,\"STE-Troleb\\xc3\\xbas\",\"L3 Eje 7 Sur\",\"Domingo\",\"14-02-2021\",NA,NA,5465\\n\"1979\",19565,\"STE-Troleb\\xc3\\xbas\",\"L4 Pto A\\xc3\\xa9reo-Rosario\",\"Domingo\",\"14-02-2021\",NA,NA,9103\\n\"1980\",19566,\"STE-Troleb\\xc3\\xbas\",\"L5 Sn Felipe-Hidalgo\",\"Domingo\",\"14-02-2021\",NA,NA,4699\\n\"1981\",19567,\"STE-Troleb\\xc3\\xbas\",\"L6 Rosario-Chapultepec\",\"Domingo\",\"14-02-2021\",NA,NA,4067\\n\"1982\",19568,\"STE-Troleb\\xc3\\xbas\",\"L7 Lomas Estrella-CU\",\"Domingo\",\"14-02-2021\",NA,NA,6665\\n\"1983\",19569,\"STE-Troleb\\xc3\\xbas\",\"L8 Circuito IPN\",\"Domingo\",\"14-02-2021\",NA,NA,0\\n\"1984\",26663,\"STE-Troleb\\xc3\\xbas\",\"L9 Iztacalco-Villa de Cort\\xc3\\xa9s\",\"Domingo\",\"14-02-2021\",NA,NA,1370\\n\"1985\",19570,\"STE-Troleb\\xc3\\xbas\",\"L1 Eje Central\",\"Lunes\",\"15-02-2021\",NA,NA,51482\\n\"1986\",19571,\"STE-Troleb\\xc3\\xbas\",\"L2 Eje 2 sur\",\"Lunes\",\"15-02-2021\",NA,NA,9004\\n\"1987\",19572,\"STE-Troleb\\xc3\\xbas\",\"L3 Eje 7 Sur\",\"Lunes\",\"15-02-2021\",NA,NA,8658\\n\"1988\",19573,\"STE-Troleb\\xc3\\xbas\",\"L4 Pto A\\xc3\\xa9reo-Rosario\",\"Lunes\",\"15-02-2021\",NA,NA,10544\\n\"1989\",19574,\"STE-Troleb\\xc3\\xbas\",\"L5 Sn Felipe-Hidalgo\",\"Lunes\",\"15-02-2021\",NA,NA,6803\\n\"1990\",19575,\"STE-Troleb\\xc3\\xbas\",\"L6 Rosario-Chapultepec\",\"Lunes\",\"15-02-2021\",NA,NA,5805\\n\"1991\",19576,\"STE-Troleb\\xc3\\xbas\",\"L7 Lomas Estrella-CU\",\"Lunes\",\"15-02-2021\",NA,NA,9284\\n\"1992\",19577,\"STE-Troleb\\xc3\\xbas\",\"L8 Circuito IPN\",\"Lunes\",\"15-02-2021\",NA,NA,0\\n\"1993\",26664,\"STE-Troleb\\xc3\\xbas\",\"L9 Iztacalco-Villa de Cort\\xc3\\xa9s\",\"Lunes\",\"15-02-2021\",NA,NA,3485\\n\"1994\",19578,\"STE-Troleb\\xc3\\xbas\",\"L1 Eje Central\",\"Martes\",\"16-02-2021\",NA,NA,54816\\n\"1995\",19579,\"STE-Troleb\\xc3\\xbas\",\"L2 Eje 2 sur\",\"Martes\",\"16-02-2021\",NA,NA,8551\\n\"1996\",19580,\"STE-Troleb\\xc3\\xbas\",\"L3 Eje 7 Sur\",\"Martes\",\"16-02-2021\",NA,NA,6660\\n\"1997\",19581,\"STE-Troleb\\xc3\\xbas\",\"L4 Pto A\\xc3\\xa9reo-Rosario\",\"Martes\",\"16-02-2021\",NA,NA,9911\\n\"1998\",19582,\"STE-Troleb\\xc3\\xbas\",\"L5 Sn Felipe-Hidalgo\",\"Martes\",\"16-02-2021\",NA,NA,6158\\n\"1999\",19583,\"STE-Troleb\\xc3\\xbas\",\"L6 Rosario-Chapultepec\",\"Martes\",\"16-02-2021\",NA,NA,5775\\n\"2000\",19584,\"STE-Troleb\\xc3\\xbas\",\"L7 Lomas Estrella-CU\",\"Martes\",\"16-02-2021\",NA,NA,9724\\n\"2001\",19585,\"STE-Troleb\\xc3\\xbas\",\"L8 Circuito IPN\",\"Martes\",\"16-02-2021\",NA,NA,0\\n\"2002\",26665,\"STE-Troleb\\xc3\\xbas\",\"L9 Iztacalco-Villa de Cort\\xc3\\xa9s\",\"Martes\",\"16-02-2021\",NA,NA,3937\\n\"2003\",19586,\"STE-Troleb\\xc3\\xbas\",\"L1 Eje Central\",\"Mi\\xc3\\xa9rcoles\",\"17-02-2021\",NA,NA,48935\\n\"2004\",19587,\"STE-Troleb\\xc3\\xbas\",\"L2 Eje 2 sur\",\"Mi\\xc3\\xa9rcoles\",\"17-02-2021\",NA,NA,8160\\n\"2005\",19588,\"STE-Troleb\\xc3\\xbas\",\"L3 Eje 7 Sur\",\"Mi\\xc3\\xa9rcoles\",\"17-02-2021\",NA,NA,9732\\n\"2006\",19589,\"STE-Troleb\\xc3\\xbas\",\"L4 Pto A\\xc3\\xa9reo-Rosario\",\"Mi\\xc3\\xa9rcoles\",\"17-02-2021\",NA,NA,8221\\n\"2007\",19590,\"STE-Troleb\\xc3\\xbas\",\"L5 Sn Felipe-Hidalgo\",\"Mi\\xc3\\xa9rcoles\",\"17-02-2021\",NA,NA,7189\\n\"2008\",19591,\"STE-Troleb\\xc3\\xbas\",\"L6 Rosario-Chapultepec\",\"Mi\\xc3\\xa9rcoles\",\"17-02-2021\",NA,NA,4945\\n\"2009\",19592,\"STE-Troleb\\xc3\\xbas\",\"L7 Lomas Estrella-CU\",\"Mi\\xc3\\xa9rcoles\",\"17-02-2021\",NA,NA,9785\\n\"2010\",19593,\"STE-Troleb\\xc3\\xbas\",\"L8 Circuito IPN\",\"Mi\\xc3\\xa9rcoles\",\"17-02-2021\",NA,NA,0\\n\"2011\",26666,\"STE-Troleb\\xc3\\xbas\",\"L9 Iztacalco-Villa de Cort\\xc3\\xa9s\",\"Mi\\xc3\\xa9rcoles\",\"17-02-2021\",NA,NA,3639\\n\"2012\",19594,\"STE-Troleb\\xc3\\xbas\",\"L1 Eje Central\",\"Jueves\",\"18-02-2021\",NA,NA,54414\\n\"2013\",19595,\"STE-Troleb\\xc3\\xbas\",\"L2 Eje 2 sur\",\"Jueves\",\"18-02-2021\",NA,NA,8644\\n\"2014\",19596,\"STE-Troleb\\xc3\\xbas\",\"L3 Eje 7 Sur\",\"Jueves\",\"18-02-2021\",NA,NA,8478\\n\"2015\",19597,\"STE-Troleb\\xc3\\xbas\",\"L4 Pto A\\xc3\\xa9reo-Rosario\",\"Jueves\",\"18-02-2021\",NA,NA,11611\\n\"2016\",19598,\"STE-Troleb\\xc3\\xbas\",\"L5 Sn Felipe-Hidalgo\",\"Jueves\",\"18-02-2021\",NA,NA,5349\\n\"2017\",19599,\"STE-Troleb\\xc3\\xbas\",\"L6 Rosario-Chapultepec\",\"Jueves\",\"18-02-2021\",NA,NA,5980\\n\"2018\",19600,\"STE-Troleb\\xc3\\xbas\",\"L7 Lomas Estrella-CU\",\"Jueves\",\"18-02-2021\",NA,NA,10077\\n\"2019\",19601,\"STE-Troleb\\xc3\\xbas\",\"L8 Circuito IPN\",\"Jueves\",\"18-02-2021\",NA,NA,0\\n\"2020\",26667,\"STE-Troleb\\xc3\\xbas\",\"L9 Iztacalco-Villa de Cort\\xc3\\xa9s\",\"Jueves\",\"18-02-2021\",NA,NA,3636\\n\"2021\",19602,\"STE-Troleb\\xc3\\xbas\",\"L1 Eje Central\",\"Viernes\",\"19-02-2021\",NA,NA,49986\\n\"2022\",19603,\"STE-Troleb\\xc3\\xbas\",\"L2 Eje 2 sur\",\"Viernes\",\"19-02-2021\",NA,NA,9226\\n\"2023\",19604,\"STE-Troleb\\xc3\\xbas\",\"L3 Eje 7 Sur\",\"Viernes\",\"19-02-2021\",NA,NA,10125\\n\"2024\",19605,\"STE-Troleb\\xc3\\xbas\",\"L4 Pto A\\xc3\\xa9reo-Rosario\",\"Viernes\",\"19-02-2021\",NA,NA,6023\\n\"2025\",19606,\"STE-Troleb\\xc3\\xbas\",\"L5 Sn Felipe-Hidalgo\",\"Viernes\",\"19-02-2021\",NA,NA,6379\\n\"2026\",19607,\"STE-Troleb\\xc3\\xbas\",\"L6 Rosario-Chapultepec\",\"Viernes\",\"19-02-2021\",NA,NA,4313\\n\"2027\",19608,\"STE-Troleb\\xc3\\xbas\",\"L7 Lomas Estrella-CU\",\"Viernes\",\"19-02-2021\",NA,NA,11175\\n\"2028\",19609,\"STE-Troleb\\xc3\\xbas\",\"L8 Circuito IPN\",\"Viernes\",\"19-02-2021\",NA,NA,0\\n\"2029\",26668,\"STE-Troleb\\xc3\\xbas\",\"L9 Iztacalco-Villa de Cort\\xc3\\xa9s\",\"Viernes\",\"19-02-2021\",NA,NA,3997\\n\"2030\",19610,\"STE-Troleb\\xc3\\xbas\",\"L1 Eje Central\",\"S\\xc3\\xa1bado\",\"20-02-2021\",NA,NA,46936\\n\"2031\",19611,\"STE-Troleb\\xc3\\xbas\",\"L2 Eje 2 sur\",\"S\\xc3\\xa1bado\",\"20-02-2021\",NA,NA,7761\\n\"2032\",19612,\"STE-Troleb\\xc3\\xbas\",\"L3 Eje 7 Sur\",\"S\\xc3\\xa1bado\",\"20-02-2021\",NA,NA,9793\\n\"2033\",19613,\"STE-Troleb\\xc3\\xbas\",\"L4 Pto A\\xc3\\xa9reo-Rosario\",\"S\\xc3\\xa1bado\",\"20-02-2021\",NA,NA,10547\\n\"2034\",19614,\"STE-Troleb\\xc3\\xbas\",\"L5 Sn Felipe-Hidalgo\",\"S\\xc3\\xa1bado\",\"20-02-2021\",NA,NA,5156\\n\"2035\",19615,\"STE-Troleb\\xc3\\xbas\",\"L6 Rosario-Chapultepec\",\"S\\xc3\\xa1bado\",\"20-02-2021\",NA,NA,5127\\n\"2036\",19616,\"STE-Troleb\\xc3\\xbas\",\"L7 Lomas Estrella-CU\",\"S\\xc3\\xa1bado\",\"20-02-2021\",NA,NA,8300\\n\"2037\",19617,\"STE-Troleb\\xc3\\xbas\",\"L8 Circuito IPN\",\"S\\xc3\\xa1bado\",\"20-02-2021\",NA,NA,0\\n\"2038\",26669,\"STE-Troleb\\xc3\\xbas\",\"L9 Iztacalco-Villa de Cort\\xc3\\xa9s\",\"S\\xc3\\xa1bado\",\"20-02-2021\",NA,NA,1771\\n\"2039\",19618,\"STE-Troleb\\xc3\\xbas\",\"L1 Eje Central\",\"Domingo\",\"21-02-2021\",NA,NA,33034\\n\"2040\",19619,\"STE-Troleb\\xc3\\xbas\",\"L2 Eje 2 sur\",\"Domingo\",\"21-02-2021\",NA,NA,4885\\n\"2041\",19620,\"STE-Troleb\\xc3\\xbas\",\"L3 Eje 7 Sur\",\"Domingo\",\"21-02-2021\",NA,NA,5619\\n\"2042\",19621,\"STE-Troleb\\xc3\\xbas\",\"L4 Pto A\\xc3\\xa9reo-Rosario\",\"Domingo\",\"21-02-2021\",NA,NA,9436\\n\"2043\",19622,\"STE-Troleb\\xc3\\xbas\",\"L5 Sn Felipe-Hidalgo\",\"Domingo\",\"21-02-2021\",NA,NA,3793\\n\"2044\",19623,\"STE-Troleb\\xc3\\xbas\",\"L6 Rosario-Chapultepec\",\"Domingo\",\"21-02-2021\",NA,NA,2888\\n\"2045\",19624,\"STE-Troleb\\xc3\\xbas\",\"L7 Lomas Estrella-CU\",\"Domingo\",\"21-02-2021\",NA,NA,6920\\n\"2046\",19625,\"STE-Troleb\\xc3\\xbas\",\"L8 Circuito IPN\",\"Domingo\",\"21-02-2021\",NA,NA,0\\n\"2047\",26670,\"STE-Troleb\\xc3\\xbas\",\"L9 Iztacalco-Villa de Cort\\xc3\\xa9s\",\"Domingo\",\"21-02-2021\",NA,NA,1652\\n\"2048\",19626,\"STE-Troleb\\xc3\\xbas\",\"L1 Eje Central\",\"Lunes\",\"22-02-2021\",NA,NA,48693\\n\"2049\",19627,\"STE-Troleb\\xc3\\xbas\",\"L2 Eje 2 sur\",\"Lunes\",\"22-02-2021\",NA,NA,9996\\n\"2050\",19628,\"STE-Troleb\\xc3\\xbas\",\"L3 Eje 7 Sur\",\"Lunes\",\"22-02-2021\",NA,NA,10743\\n\"2051\",19629,\"STE-Troleb\\xc3\\xbas\",\"L4 Pto A\\xc3\\xa9reo-Rosario\",\"Lunes\",\"22-02-2021\",NA,NA,12314\\n\"2052\",19630,\"STE-Troleb\\xc3\\xbas\",\"L5 Sn Felipe-Hidalgo\",\"Lunes\",\"22-02-2021\",NA,NA,6474\\n\"2053\",19631,\"STE-Troleb\\xc3\\xbas\",\"L6 Rosario-Chapultepec\",\"Lunes\",\"22-02-2021\",NA,NA,5228\\n\"2054\",19632,\"STE-Troleb\\xc3\\xbas\",\"L7 Lomas Estrella-CU\",\"Lunes\",\"22-02-2021\",NA,NA,10269\\n\"2055\",19633,\"STE-Troleb\\xc3\\xbas\",\"L8 Circuito IPN\",\"Lunes\",\"22-02-2021\",NA,NA,0\\n\"2056\",26671,\"STE-Troleb\\xc3\\xbas\",\"L9 Iztacalco-Villa de Cort\\xc3\\xa9s\",\"Lunes\",\"22-02-2021\",NA,NA,4204\\n\"2057\",19634,\"STE-Troleb\\xc3\\xbas\",\"L1 Eje Central\",\"Martes\",\"23-02-2021\",NA,NA,NA\\n\"2058\",19635,\"STE-Troleb\\xc3\\xbas\",\"L2 Eje 2 sur\",\"Martes\",\"23-02-2021\",NA,NA,NA\\n\"2059\",19636,\"STE-Troleb\\xc3\\xbas\",\"L3 Eje 7 Sur\",\"Martes\",\"23-02-2021\",NA,NA,NA\\n\"2060\",19637,\"STE-Troleb\\xc3\\xbas\",\"L4 Pto A\\xc3\\xa9reo-Rosario\",\"Martes\",\"23-02-2021\",NA,NA,NA\\n\"2061\",19638,\"STE-Troleb\\xc3\\xbas\",\"L5 Sn Felipe-Hidalgo\",\"Martes\",\"23-02-2021\",NA,NA,NA\\n\"2062\",19639,\"STE-Troleb\\xc3\\xbas\",\"L6 Rosario-Chapultepec\",\"Martes\",\"23-02-2021\",NA,NA,NA\\n\"2063\",19640,\"STE-Troleb\\xc3\\xbas\",\"L7 Lomas Estrella-CU\",\"Martes\",\"23-02-2021\",NA,NA,NA\\n\"2064\",19641,\"STE-Troleb\\xc3\\xbas\",\"L8 Circuito IPN\",\"Martes\",\"23-02-2021\",NA,NA,0\\n\"2065\",26672,\"STE-Troleb\\xc3\\xbas\",\"L9 Iztacalco-Villa de Cort\\xc3\\xa9s\",\"Martes\",\"23-02-2021\",NA,NA,NA\\n\"2066\",25874,\"Suburbano\",\"L1\",\"Viernes\",\"01-01-2021\",NA,NA,17334\\n\"2067\",25875,\"Suburbano\",\"L1\",\"S\\xc3\\xa1bado\",\"02-01-2021\",NA,NA,45205\\n\"2068\",25876,\"Suburbano\",\"L1\",\"Domingo\",\"03-01-2021\",NA,NA,31789\\n\"2069\",25877,\"Suburbano\",\"L1\",\"Lunes\",\"04-01-2021\",NA,NA,75433\\n\"2070\",25878,\"Suburbano\",\"L1\",\"Martes\",\"05-01-2021\",NA,NA,71363\\n\"2071\",25879,\"Suburbano\",\"L1\",\"Mi\\xc3\\xa9rcoles\",\"06-01-2021\",NA,NA,60702\\n\"2072\",25880,\"Suburbano\",\"L1\",\"Jueves\",\"07-01-2021\",NA,NA,64184\\n\"2073\",25881,\"Suburbano\",\"L1\",\"Viernes\",\"08-01-2021\",NA,NA,67291\\n\"2074\",25882,\"Suburbano\",\"L1\",\"S\\xc3\\xa1bado\",\"09-01-2021\",NA,NA,51105\\n\"2075\",25883,\"Suburbano\",\"L1\",\"Domingo\",\"10-01-2021\",NA,NA,27193\\n\"2076\",25884,\"Suburbano\",\"L1\",\"Lunes\",\"11-01-2021\",NA,NA,68056\\n\"2077\",25885,\"Suburbano\",\"L1\",\"Martes\",\"12-01-2021\",NA,NA,64302\\n\"2078\",25886,\"Suburbano\",\"L1\",\"Mi\\xc3\\xa9rcoles\",\"13-01-2021\",NA,NA,65979\\n\"2079\",25887,\"Suburbano\",\"L1\",\"Jueves\",\"14-01-2021\",NA,NA,65089\\n\"2080\",25888,\"Suburbano\",\"L1\",\"Viernes\",\"15-01-2021\",NA,NA,69169\\n\"2081\",25889,\"Suburbano\",\"L1\",\"S\\xc3\\xa1bado\",\"16-01-2021\",NA,NA,53540\\n\"2082\",25890,\"Suburbano\",\"L1\",\"Domingo\",\"17-01-2021\",NA,NA,26954\\n\"2083\",25891,\"Suburbano\",\"L1\",\"Lunes\",\"18-01-2021\",NA,NA,69259\\n\"2084\",25892,\"Suburbano\",\"L1\",\"Martes\",\"19-01-2021\",NA,NA,65673\\n\"2085\",25893,\"Suburbano\",\"L1\",\"Mi\\xc3\\xa9rcoles\",\"20-01-2021\",NA,NA,67392\\n\"2086\",25894,\"Suburbano\",\"L1\",\"Jueves\",\"21-01-2021\",NA,NA,65819\\n\"2087\",25895,\"Suburbano\",\"L1\",\"Viernes\",\"22-01-2021\",NA,NA,69230\\n\"2088\",25896,\"Suburbano\",\"L1\",\"S\\xc3\\xa1bado\",\"23-01-2021\",NA,NA,53453\\n\"2089\",25897,\"Suburbano\",\"L1\",\"Domingo\",\"24-01-2021\",NA,NA,26548\\n\"2090\",25898,\"Suburbano\",\"L1\",\"Lunes\",\"25-01-2021\",NA,NA,67911\\n\"2091\",25899,\"Suburbano\",\"L1\",\"Martes\",\"26-01-2021\",NA,NA,65622\\n\"2092\",25900,\"Suburbano\",\"L1\",\"Mi\\xc3\\xa9rcoles\",\"27-01-2021\",NA,NA,67118\\n\"2093\",25901,\"Suburbano\",\"L1\",\"Jueves\",\"28-01-2021\",NA,NA,66408\\n\"2094\",25902,\"Suburbano\",\"L1\",\"Viernes\",\"29-01-2021\",NA,NA,71151\\n\"2095\",25903,\"Suburbano\",\"L1\",\"S\\xc3\\xa1bado\",\"30-01-2021\",NA,NA,55847\\n\"2096\",25904,\"Suburbano\",\"L1\",\"Domingo\",\"31-01-2021\",NA,NA,27890\\n\"2097\",25905,\"Suburbano\",\"L1\",\"Lunes\",\"01-02-2021\",NA,NA,37603\\n\"2098\",25906,\"Suburbano\",\"L1\",\"Martes\",\"02-02-2021\",NA,NA,70629\\n\"2099\",25907,\"Suburbano\",\"L1\",\"Mi\\xc3\\xa9rcoles\",\"03-02-2021\",NA,NA,71457\\n\"2100\",25908,\"Suburbano\",\"L1\",\"Jueves\",\"04-02-2021\",NA,NA,70419\\n\"2101\",25909,\"Suburbano\",\"L1\",\"Viernes\",\"05-02-2021\",NA,NA,73462\\n\"2102\",25910,\"Suburbano\",\"L1\",\"S\\xc3\\xa1bado\",\"06-02-2021\",NA,NA,57341\\n\"2103\",25911,\"Suburbano\",\"L1\",\"Domingo\",\"07-02-2021\",NA,NA,28491\\n\"2104\",25912,\"Suburbano\",\"L1\",\"Lunes\",\"08-02-2021\",NA,NA,71711\\n\"2105\",25913,\"Suburbano\",\"L1\",\"Martes\",\"09-02-2021\",NA,NA,70416\\n\"2106\",25914,\"Suburbano\",\"L1\",\"Mi\\xc3\\xa9rcoles\",\"10-02-2021\",NA,NA,73314\\n\"2107\",25915,\"Suburbano\",\"L1\",\"Jueves\",\"11-02-2021\",NA,NA,72702\\n\"2108\",25916,\"Suburbano\",\"L1\",\"Viernes\",\"12-02-2021\",NA,NA,77141\\n\"2109\",25917,\"Suburbano\",\"L1\",\"S\\xc3\\xa1bado\",\"13-02-2021\",NA,NA,62584\\n\"2110\",25918,\"Suburbano\",\"L1\",\"Domingo\",\"14-02-2021\",NA,NA,33689\\n\"2111\",25919,\"Suburbano\",\"L1\",\"Lunes\",\"15-02-2021\",NA,NA,74160\\n\"2112\",25920,\"Suburbano\",\"L1\",\"Martes\",\"16-02-2021\",NA,NA,73097\\n\"2113\",25921,\"Suburbano\",\"L1\",\"Mi\\xc3\\xa9rcoles\",\"17-02-2021\",NA,NA,74688\\n\"2114\",25922,\"Suburbano\",\"L1\",\"Jueves\",\"18-02-2021\",NA,NA,NA\\n\"2115\",25923,\"Suburbano\",\"L1\",\"Viernes\",\"19-02-2021\",NA,NA,NA\\n\"2116\",25924,\"Suburbano\",\"L1\",\"S\\xc3\\xa1bado\",\"20-02-2021\",NA,NA,NA\\n\"2117\",25925,\"Suburbano\",\"L1\",\"Domingo\",\"21-02-2021\",NA,NA,NA\\n\"2118\",25926,\"Suburbano\",\"L1\",\"Lunes\",\"22-02-2021\",NA,NA,NA\\n\"2119\",25927,\"Suburbano\",\"L1\",\"Martes\",\"23-02-2021\",NA,NA,NA\\n'"
            ]
          },
          "metadata": {},
          "execution_count": 15
        }
      ]
    },
    {
      "cell_type": "code",
      "source": [
        "file.decode('utf-8')"
      ],
      "metadata": {
        "colab": {
          "base_uri": "https://localhost:8080/",
          "height": 122
        },
        "id": "QbQ8RjPts13v",
        "outputId": "b78a4c11-4aa1-4ea2-c4e5-d66669f86bff"
      },
      "execution_count": null,
      "outputs": [
        {
          "output_type": "execute_result",
          "data": {
            "text/plain": [
              "'\"\",\"id\",\"organismo\",\"linea_servicio\",\"dia\",\"fecha\",\"afluencia_tarjeta\",\"afluencia_boleto\",\"afluencia_total\"\\n\"1\",25482,\"Ecobici\",\"N/A\",\"Viernes\",\"01-01-2021\",NA,NA,2755\\n\"2\",25483,\"Ecobici\",\"N/A\",\"Sábado\",\"02-01-2021\",NA,NA,4607\\n\"3\",25484,\"Ecobici\",\"N/A\",\"Domingo\",\"03-01-2021\",NA,NA,4492\\n\"4\",25485,\"Ecobici\",\"N/A\",\"Lunes\",\"04-01-2021\",NA,NA,7269\\n\"5\",25486,\"Ecobici\",\"N/A\",\"Martes\",\"05-01-2021\",NA,NA,7959\\n\"6\",25487,\"Ecobici\",\"N/A\",\"Miércoles\",\"06-01-2021\",NA,NA,7401\\n\"7\",25488,\"Ecobici\",\"N/A\",\"Jueves\",\"07-01-2021\",NA,NA,7722\\n\"8\",25489,\"Ecobici\",\"N/A\",\"Viernes\",\"08-01-2021\",NA,NA,7976\\n\"9\",25490,\"Ecobici\",\"N/A\",\"Sábado\",\"09-01-2021\",NA,NA,6369\\n\"10\",25491,\"Ecobici\",\"N/A\",\"Domingo\",\"10-01-2021\",NA,NA,5347\\n\"11\",25492,\"Ecobici\",\"N/A\",\"Lunes\",\"11-01-2021\",NA,NA,8190\\n\"12\",25493,\"Ecobici\",\"N/A\",\"Martes\",\"12-01-2021\",NA,NA,8805\\n\"13\",25494,\"Ecobici\",\"N/A\",\"Miércoles\",\"13-01-2021\",NA,NA,8898\\n\"14\",25495,\"Ecobici\",\"N/A\",\"Jueves\",\"14-01-2021\",NA,NA,9171\\n\"15\",25496,\"Ecobici\",\"N/A\",\"Viernes\",\"15-01-2021\",NA,NA,9582\\n\"16\",25497,\"Ecobici\",\"N/A\",\"Sábado\",\"16-01-2021\",NA,NA,6692\\n\"17\",25498,\"Ecobici\",\"N/A\",\"Domingo\",\"17-01-2021\",NA,NA,5209\\n\"18\",25499,\"Ecobici\",\"N/A\",\"Lunes\",\"18-01-2021\",NA,NA,9889\\n\"19\",25500,\"Ecobici\",\"N/A\",\"Martes\",\"19-01-2021\",NA,NA,10079\\n\"20\",25501,\"Ecobici\",\"N/A\",\"Miércoles\",\"20-01-2021\",NA,NA,10209\\n\"21\",25502,\"Ecobici\",\"N/A\",\"Jueves\",\"21-01-2021\",NA,NA,10398\\n\"22\",25503,\"Ecobici\",\"N/A\",\"Viernes\",\"22-01-2021\",NA,NA,10723\\n\"23\",25504,\"Ecobici\",\"N/A\",\"Sábado\",\"23-01-2021\",NA,NA,8376\\n\"24\",25505,\"Ecobici\",\"N/A\",\"Domingo\",\"24-01-2021\",NA,NA,6844\\n\"25\",25506,\"Ecobici\",\"N/A\",\"Lunes\",\"25-01-2021\",NA,NA,10267\\n\"26\",25507,\"Ecobici\",\"N/A\",\"Martes\",\"26-01-2021\",NA,NA,11042\\n\"27\",25508,\"Ecobici\",\"N/A\",\"Miércoles\",\"27-01-2021\",NA,NA,10893\\n\"28\",25509,\"Ecobici\",\"N/A\",\"Jueves\",\"28-01-2021\",NA,NA,10961\\n\"29\",25510,\"Ecobici\",\"N/A\",\"Viernes\",\"29-01-2021\",NA,NA,11581\\n\"30\",25511,\"Ecobici\",\"N/A\",\"Sábado\",\"30-01-2021\",NA,NA,8948\\n\"31\",25512,\"Ecobici\",\"N/A\",\"Domingo\",\"31-01-2021\",NA,NA,7151\\n\"32\",25513,\"Ecobici\",\"N/A\",\"Lunes\",\"01-02-2021\",NA,NA,7519\\n\"33\",25514,\"Ecobici\",\"N/A\",\"Martes\",\"02-02-2021\",NA,NA,10884\\n\"34\",25515,\"Ecobici\",\"N/A\",\"Miércoles\",\"03-02-2021\",NA,NA,11331\\n\"35\",25516,\"Ecobici\",\"N/A\",\"Jueves\",\"04-02-2021\",NA,NA,11184\\n\"36\",25517,\"Ecobici\",\"N/A\",\"Viernes\",\"05-02-2021\",NA,NA,11682\\n\"37\",25518,\"Ecobici\",\"N/A\",\"Sábado\",\"06-02-2021\",NA,NA,9123\\n\"38\",25519,\"Ecobici\",\"N/A\",\"Domingo\",\"07-02-2021\",NA,NA,7180\\n\"39\",25520,\"Ecobici\",\"N/A\",\"Lunes\",\"08-02-2021\",NA,NA,10535\\n\"40\",25521,\"Ecobici\",\"N/A\",\"Martes\",\"09-02-2021\",NA,NA,11418\\n\"41\",25522,\"Ecobici\",\"N/A\",\"Miércoles\",\"10-02-2021\",NA,NA,10233\\n\"42\",25523,\"Ecobici\",\"N/A\",\"Jueves\",\"11-02-2021\",NA,NA,10089\\n\"43\",25524,\"Ecobici\",\"N/A\",\"Viernes\",\"12-02-2021\",NA,NA,11422\\n\"44\",25525,\"Ecobici\",\"N/A\",\"Sábado\",\"13-02-2021\",NA,NA,9045\\n\"45\",25526,\"Ecobici\",\"N/A\",\"Domingo\",\"14-02-2021\",NA,NA,7363\\n\"46\",25527,\"Ecobici\",\"N/A\",\"Lunes\",\"15-02-2021\",NA,NA,10456\\n\"47\",25528,\"Ecobici\",\"N/A\",\"Martes\",\"16-02-2021\",NA,NA,11862\\n\"48\",25529,\"Ecobici\",\"N/A\",\"Miércoles\",\"17-02-2021\",NA,NA,11888\\n\"49\",25530,\"Ecobici\",\"N/A\",\"Jueves\",\"18-02-2021\",NA,NA,11841\\n\"50\",25531,\"Ecobici\",\"N/A\",\"Viernes\",\"19-02-2021\",NA,NA,11728\\n\"51\",25532,\"Ecobici\",\"N/A\",\"Sábado\",\"20-02-2021\",NA,NA,9015\\n\"52\",25533,\"Ecobici\",\"N/A\",\"Domingo\",\"21-02-2021\",NA,NA,7481\\n\"53\",25534,\"Ecobici\",\"N/A\",\"Lunes\",\"22-02-2021\",NA,NA,11055\\n\"54\",25535,\"Ecobici\",\"N/A\",\"Martes\",\"23-02-2021\",NA,NA,NA\\n\"55\",16074,\"Metrobús\",\"L1\",\"Viernes\",\"01-01-2021\",NA,NA,42650\\n\"56\",16075,\"Metrobús\",\"L2\",\"Viernes\",\"01-01-2021\",NA,NA,26201\\n\"57\",16076,\"Metrobús\",\"L3\",\"Viernes\",\"01-01-2021\",NA,NA,20964\\n\"58\",16077,\"Metrobús\",\"L4\",\"Viernes\",\"01-01-2021\",NA,NA,9819\\n\"59\",16078,\"Metrobús\",\"L5\",\"Viernes\",\"01-01-2021\",NA,NA,35599\\n\"60\",16079,\"Metrobús\",\"L6\",\"Viernes\",\"01-01-2021\",NA,NA,29342\\n\"61\",16080,\"Metrobús\",\"L7\",\"Viernes\",\"01-01-2021\",NA,NA,17704\\n\"62\",16081,\"Metrobús\",\"L1\",\"Sábado\",\"02-01-2021\",NA,NA,92590\\n\"63\",16082,\"Metrobús\",\"L2\",\"Sábado\",\"02-01-2021\",NA,NA,51463\\n\"64\",16083,\"Metrobús\",\"L3\",\"Sábado\",\"02-01-2021\",NA,NA,43300\\n\"65\",16084,\"Metrobús\",\"L4\",\"Sábado\",\"02-01-2021\",NA,NA,30124\\n\"66\",16085,\"Metrobús\",\"L5\",\"Sábado\",\"02-01-2021\",NA,NA,66471\\n\"67\",16086,\"Metrobús\",\"L6\",\"Sábado\",\"02-01-2021\",NA,NA,54372\\n\"68\",16087,\"Metrobús\",\"L7\",\"Sábado\",\"02-01-2021\",NA,NA,35910\\n\"69\",16088,\"Metrobús\",\"L1\",\"Domingo\",\"03-01-2021\",NA,NA,70939\\n\"70\",16089,\"Metrobús\",\"L2\",\"Domingo\",\"03-01-2021\",NA,NA,41892\\n\"71\",16090,\"Metrobús\",\"L3\",\"Domingo\",\"03-01-2021\",NA,NA,34583\\n\"72\",16091,\"Metrobús\",\"L4\",\"Domingo\",\"03-01-2021\",NA,NA,19515\\n\"73\",16092,\"Metrobús\",\"L5\",\"Domingo\",\"03-01-2021\",NA,NA,56826\\n\"74\",16093,\"Metrobús\",\"L6\",\"Domingo\",\"03-01-2021\",NA,NA,45062\\n\"75\",16094,\"Metrobús\",\"L7\",\"Domingo\",\"03-01-2021\",NA,NA,25967\\n\"76\",16095,\"Metrobús\",\"L1\",\"Lunes\",\"04-01-2021\",NA,NA,176830\\n\"77\",16096,\"Metrobús\",\"L2\",\"Lunes\",\"04-01-2021\",NA,NA,84719\\n\"78\",16097,\"Metrobús\",\"L3\",\"Lunes\",\"04-01-2021\",NA,NA,72821\\n\"79\",16098,\"Metrobús\",\"L4\",\"Lunes\",\"04-01-2021\",NA,NA,44110\\n\"80\",16099,\"Metrobús\",\"L5\",\"Lunes\",\"04-01-2021\",NA,NA,99623\\n\"81\",16100,\"Metrobús\",\"L6\",\"Lunes\",\"04-01-2021\",NA,NA,91824\\n\"82\",16101,\"Metrobús\",\"L7\",\"Lunes\",\"04-01-2021\",NA,NA,46697\\n\"83\",16102,\"Metrobús\",\"L1\",\"Martes\",\"05-01-2021\",NA,NA,180348\\n\"84\",16103,\"Metrobús\",\"L2\",\"Martes\",\"05-01-2021\",NA,NA,88446\\n\"85\",16104,\"Metrobús\",\"L3\",\"Martes\",\"05-01-2021\",NA,NA,74389\\n\"86\",16105,\"Metrobús\",\"L4\",\"Martes\",\"05-01-2021\",NA,NA,40663\\n\"87\",16106,\"Metrobús\",\"L5\",\"Martes\",\"05-01-2021\",NA,NA,102802\\n\"88\",16107,\"Metrobús\",\"L6\",\"Martes\",\"05-01-2021\",NA,NA,93143\\n\"89\",16108,\"Metrobús\",\"L7\",\"Martes\",\"05-01-2021\",NA,NA,54275\\n\"90\",16109,\"Metrobús\",\"L1\",\"Míercoles\",\"06-01-2021\",NA,NA,166229\\n\"91\",16110,\"Metrobús\",\"L2\",\"Míercoles\",\"06-01-2021\",NA,NA,79523\\n\"92\",16111,\"Metrobús\",\"L3\",\"Míercoles\",\"06-01-2021\",NA,NA,64958\\n\"93\",16112,\"Metrobús\",\"L4\",\"Míercoles\",\"06-01-2021\",NA,NA,30695\\n\"94\",16113,\"Metrobús\",\"L5\",\"Míercoles\",\"06-01-2021\",NA,NA,88710\\n\"95\",16114,\"Metrobús\",\"L6\",\"Míercoles\",\"06-01-2021\",NA,NA,82670\\n\"96\",16115,\"Metrobús\",\"L7\",\"Míercoles\",\"06-01-2021\",NA,NA,46264\\n\"97\",16116,\"Metrobús\",\"L1\",\"Jueves\",\"07-01-2021\",NA,NA,170489\\n\"98\",16117,\"Metrobús\",\"L2\",\"Jueves\",\"07-01-2021\",NA,NA,82448\\n\"99\",16118,\"Metrobús\",\"L3\",\"Jueves\",\"07-01-2021\",NA,NA,65723\\n\"100\",16119,\"Metrobús\",\"L4\",\"Jueves\",\"07-01-2021\",NA,NA,28058\\n\"101\",16120,\"Metrobús\",\"L5\",\"Jueves\",\"07-01-2021\",NA,NA,91971\\n\"102\",16121,\"Metrobús\",\"L6\",\"Jueves\",\"07-01-2021\",NA,NA,85445\\n\"103\",16122,\"Metrobús\",\"L7\",\"Jueves\",\"07-01-2021\",NA,NA,48231\\n\"104\",16123,\"Metrobús\",\"L1\",\"Viernes\",\"08-01-2021\",NA,NA,188533\\n\"105\",16124,\"Metrobús\",\"L2\",\"Viernes\",\"08-01-2021\",NA,NA,86501\\n\"106\",16125,\"Metrobús\",\"L3\",\"Viernes\",\"08-01-2021\",NA,NA,71038\\n\"107\",16126,\"Metrobús\",\"L4\",\"Viernes\",\"08-01-2021\",NA,NA,30139\\n\"108\",16127,\"Metrobús\",\"L5\",\"Viernes\",\"08-01-2021\",NA,NA,96264\\n\"109\",16128,\"Metrobús\",\"L6\",\"Viernes\",\"08-01-2021\",NA,NA,90539\\n\"110\",16129,\"Metrobús\",\"L7\",\"Viernes\",\"08-01-2021\",NA,NA,51809\\n\"111\",16130,\"Metrobús\",\"L1\",\"Sábado\",\"09-01-2021\",NA,NA,215201\\n\"112\",16131,\"Metrobús\",\"L2\",\"Sábado\",\"09-01-2021\",NA,NA,90413\\n\"113\",16132,\"Metrobús\",\"L3\",\"Sábado\",\"09-01-2021\",NA,NA,90515\\n\"114\",16133,\"Metrobús\",\"L4\",\"Sábado\",\"09-01-2021\",NA,NA,50118\\n\"115\",16134,\"Metrobús\",\"L5\",\"Sábado\",\"09-01-2021\",NA,NA,89692\\n\"116\",16135,\"Metrobús\",\"L6\",\"Sábado\",\"09-01-2021\",NA,NA,94860\\n\"117\",16136,\"Metrobús\",\"L7\",\"Sábado\",\"09-01-2021\",NA,NA,63746\\n\"118\",16137,\"Metrobús\",\"L1\",\"Domingo\",\"10-01-2021\",NA,NA,132867\\n\"119\",16138,\"Metrobús\",\"L2\",\"Domingo\",\"10-01-2021\",NA,NA,60405\\n\"120\",16139,\"Metrobús\",\"L3\",\"Domingo\",\"10-01-2021\",NA,NA,55996\\n\"121\",16140,\"Metrobús\",\"L4\",\"Domingo\",\"10-01-2021\",NA,NA,23962\\n\"122\",16141,\"Metrobús\",\"L5\",\"Domingo\",\"10-01-2021\",NA,NA,66571\\n\"123\",16142,\"Metrobús\",\"L6\",\"Domingo\",\"10-01-2021\",NA,NA,62175\\n\"124\",16143,\"Metrobús\",\"L7\",\"Domingo\",\"10-01-2021\",NA,NA,45397\\n\"125\",16144,\"Metrobús\",\"L1\",\"Lunes\",\"11-01-2021\",NA,NA,315267\\n\"126\",16145,\"Metrobús\",\"L2\",\"Lunes\",\"11-01-2021\",NA,NA,114761\\n\"127\",16146,\"Metrobús\",\"L3\",\"Lunes\",\"11-01-2021\",NA,NA,116712\\n\"128\",16147,\"Metrobús\",\"L4\",\"Lunes\",\"11-01-2021\",NA,NA,51632\\n\"129\",16148,\"Metrobús\",\"L5\",\"Lunes\",\"11-01-2021\",NA,NA,114353\\n\"130\",16149,\"Metrobús\",\"L6\",\"Lunes\",\"11-01-2021\",NA,NA,137151\\n\"131\",16150,\"Metrobús\",\"L7\",\"Lunes\",\"11-01-2021\",NA,NA,89713\\n\"132\",16151,\"Metrobús\",\"L1\",\"Martes\",\"12-01-2021\",NA,NA,291631\\n\"133\",16152,\"Metrobús\",\"L2\",\"Martes\",\"12-01-2021\",NA,NA,110024\\n\"134\",16153,\"Metrobús\",\"L3\",\"Martes\",\"12-01-2021\",NA,NA,103421\\n\"135\",16154,\"Metrobús\",\"L4\",\"Martes\",\"12-01-2021\",NA,NA,50091\\n\"136\",16155,\"Metrobús\",\"L5\",\"Martes\",\"12-01-2021\",NA,NA,109353\\n\"137\",16156,\"Metrobús\",\"L6\",\"Martes\",\"12-01-2021\",NA,NA,102804\\n\"138\",16157,\"Metrobús\",\"L7\",\"Martes\",\"12-01-2021\",NA,NA,90940\\n\"139\",16158,\"Metrobús\",\"L1\",\"Míercoles\",\"13-01-2021\",NA,NA,292941\\n\"140\",16159,\"Metrobús\",\"L2\",\"Míercoles\",\"13-01-2021\",NA,NA,106917\\n\"141\",16160,\"Metrobús\",\"L3\",\"Míercoles\",\"13-01-2021\",NA,NA,104296\\n\"142\",16161,\"Metrobús\",\"L4\",\"Míercoles\",\"13-01-2021\",NA,NA,54048\\n\"143\",16162,\"Metrobús\",\"L5\",\"Míercoles\",\"13-01-2021\",NA,NA,99498\\n\"144\",16163,\"Metrobús\",\"L6\",\"Míercoles\",\"13-01-2021\",NA,NA,100295\\n\"145\",16164,\"Metrobús\",\"L7\",\"Míercoles\",\"13-01-2021\",NA,NA,92280\\n\"146\",16165,\"Metrobús\",\"L1\",\"Jueves\",\"14-01-2021\",NA,NA,294488\\n\"147\",16166,\"Metrobús\",\"L2\",\"Jueves\",\"14-01-2021\",NA,NA,106796\\n\"148\",16167,\"Metrobús\",\"L3\",\"Jueves\",\"14-01-2021\",NA,NA,106209\\n\"149\",16168,\"Metrobús\",\"L4\",\"Jueves\",\"14-01-2021\",NA,NA,52297\\n\"150\",16169,\"Metrobús\",\"L5\",\"Jueves\",\"14-01-2021\",NA,NA,102600\\n\"151\",16170,\"Metrobús\",\"L6\",\"Jueves\",\"14-01-2021\",NA,NA,102692\\n\"152\",16171,\"Metrobús\",\"L7\",\"Jueves\",\"14-01-2021\",NA,NA,91146\\n\"153\",16172,\"Metrobús\",\"L1\",\"Viernes\",\"15-01-2021\",NA,NA,316154\\n\"154\",16173,\"Metrobús\",\"L2\",\"Viernes\",\"15-01-2021\",NA,NA,115320\\n\"155\",16174,\"Metrobús\",\"L3\",\"Viernes\",\"15-01-2021\",NA,NA,113706\\n\"156\",16175,\"Metrobús\",\"L4\",\"Viernes\",\"15-01-2021\",NA,NA,52017\\n\"157\",16176,\"Metrobús\",\"L5\",\"Viernes\",\"15-01-2021\",NA,NA,111038\\n\"158\",16177,\"Metrobús\",\"L6\",\"Viernes\",\"15-01-2021\",NA,NA,104723\\n\"159\",16178,\"Metrobús\",\"L7\",\"Viernes\",\"15-01-2021\",NA,NA,91020\\n\"160\",16179,\"Metrobús\",\"L1\",\"Sábado\",\"16-01-2021\",NA,NA,210654\\n\"161\",16180,\"Metrobús\",\"L2\",\"Sábado\",\"16-01-2021\",NA,NA,86506\\n\"162\",16181,\"Metrobús\",\"L3\",\"Sábado\",\"16-01-2021\",NA,NA,91025\\n\"163\",16182,\"Metrobús\",\"L4\",\"Sábado\",\"16-01-2021\",NA,NA,54648\\n\"164\",16183,\"Metrobús\",\"L5\",\"Sábado\",\"16-01-2021\",NA,NA,86138\\n\"165\",16184,\"Metrobús\",\"L6\",\"Sábado\",\"16-01-2021\",NA,NA,78366\\n\"166\",16185,\"Metrobús\",\"L7\",\"Sábado\",\"16-01-2021\",NA,NA,88980\\n\"167\",16186,\"Metrobús\",\"L1\",\"Domingo\",\"17-01-2021\",NA,NA,123820\\n\"168\",16187,\"Metrobús\",\"L2\",\"Domingo\",\"17-01-2021\",NA,NA,51753\\n\"169\",16188,\"Metrobús\",\"L3\",\"Domingo\",\"17-01-2021\",NA,NA,61081\\n\"170\",16189,\"Metrobús\",\"L4\",\"Domingo\",\"17-01-2021\",NA,NA,23175\\n\"171\",16190,\"Metrobús\",\"L5\",\"Domingo\",\"17-01-2021\",NA,NA,66461\\n\"172\",16191,\"Metrobús\",\"L6\",\"Domingo\",\"17-01-2021\",NA,NA,53820\\n\"173\",16192,\"Metrobús\",\"L7\",\"Domingo\",\"17-01-2021\",NA,NA,36206\\n\"174\",16193,\"Metrobús\",\"L1\",\"Lunes\",\"18-01-2021\",NA,NA,310995\\n\"175\",16194,\"Metrobús\",\"L2\",\"Lunes\",\"18-01-2021\",NA,NA,112401\\n\"176\",16195,\"Metrobús\",\"L3\",\"Lunes\",\"18-01-2021\",NA,NA,120676\\n\"177\",16196,\"Metrobús\",\"L4\",\"Lunes\",\"18-01-2021\",NA,NA,57161\\n\"178\",16197,\"Metrobús\",\"L5\",\"Lunes\",\"18-01-2021\",NA,NA,101910\\n\"179\",16198,\"Metrobús\",\"L6\",\"Lunes\",\"18-01-2021\",NA,NA,104240\\n\"180\",16199,\"Metrobús\",\"L7\",\"Lunes\",\"18-01-2021\",NA,NA,100770\\n\"181\",16200,\"Metrobús\",\"L1\",\"Martes\",\"19-01-2021\",NA,NA,300735\\n\"182\",16201,\"Metrobús\",\"L2\",\"Martes\",\"19-01-2021\",NA,NA,112179\\n\"183\",16202,\"Metrobús\",\"L3\",\"Martes\",\"19-01-2021\",NA,NA,121512\\n\"184\",16203,\"Metrobús\",\"L4\",\"Martes\",\"19-01-2021\",NA,NA,56475\\n\"185\",16204,\"Metrobús\",\"L5\",\"Martes\",\"19-01-2021\",NA,NA,106106\\n\"186\",16205,\"Metrobús\",\"L6\",\"Martes\",\"19-01-2021\",NA,NA,100657\\n\"187\",16206,\"Metrobús\",\"L7\",\"Martes\",\"19-01-2021\",NA,NA,91306\\n\"188\",16207,\"Metrobús\",\"L1\",\"Míercoles\",\"20-01-2021\",NA,NA,303257\\n\"189\",16208,\"Metrobús\",\"L2\",\"Míercoles\",\"20-01-2021\",NA,NA,111786\\n\"190\",16209,\"Metrobús\",\"L3\",\"Míercoles\",\"20-01-2021\",NA,NA,123067\\n\"191\",16210,\"Metrobús\",\"L4\",\"Míercoles\",\"20-01-2021\",NA,NA,53768\\n\"192\",16211,\"Metrobús\",\"L5\",\"Míercoles\",\"20-01-2021\",NA,NA,107764\\n\"193\",16212,\"Metrobús\",\"L6\",\"Míercoles\",\"20-01-2021\",NA,NA,102740\\n\"194\",16213,\"Metrobús\",\"L7\",\"Míercoles\",\"20-01-2021\",NA,NA,94688\\n\"195\",16214,\"Metrobús\",\"L1\",\"Jueves\",\"21-01-2021\",NA,NA,296957\\n\"196\",16215,\"Metrobús\",\"L2\",\"Jueves\",\"21-01-2021\",NA,NA,111095\\n\"197\",16216,\"Metrobús\",\"L3\",\"Jueves\",\"21-01-2021\",NA,NA,110125\\n\"198\",16217,\"Metrobús\",\"L4\",\"Jueves\",\"21-01-2021\",NA,NA,55318\\n\"199\",16218,\"Metrobús\",\"L5\",\"Jueves\",\"21-01-2021\",NA,NA,97821\\n\"200\",16219,\"Metrobús\",\"L6\",\"Jueves\",\"21-01-2021\",NA,NA,103980\\n\"201\",16220,\"Metrobús\",\"L7\",\"Jueves\",\"21-01-2021\",NA,NA,88597\\n\"202\",16221,\"Metrobús\",\"L1\",\"Viernes\",\"22-01-2021\",NA,NA,321241\\n\"203\",16222,\"Metrobús\",\"L2\",\"Viernes\",\"22-01-2021\",NA,NA,112261\\n\"204\",16223,\"Metrobús\",\"L3\",\"Viernes\",\"22-01-2021\",NA,NA,112124\\n\"205\",16224,\"Metrobús\",\"L4\",\"Viernes\",\"22-01-2021\",NA,NA,55681\\n\"206\",16225,\"Metrobús\",\"L5\",\"Viernes\",\"22-01-2021\",NA,NA,110089\\n\"207\",16226,\"Metrobús\",\"L6\",\"Viernes\",\"22-01-2021\",NA,NA,96795\\n\"208\",16227,\"Metrobús\",\"L7\",\"Viernes\",\"22-01-2021\",NA,NA,92824\\n\"209\",16228,\"Metrobús\",\"L1\",\"Sábado\",\"23-01-2021\",NA,NA,204295\\n\"210\",16229,\"Metrobús\",\"L2\",\"Sábado\",\"23-01-2021\",NA,NA,85678\\n\"211\",16230,\"Metrobús\",\"L3\",\"Sábado\",\"23-01-2021\",NA,NA,85846\\n\"212\",16231,\"Metrobús\",\"L4\",\"Sábado\",\"23-01-2021\",NA,NA,53700\\n\"213\",16232,\"Metrobús\",\"L5\",\"Sábado\",\"23-01-2021\",NA,NA,86132\\n\"214\",16233,\"Metrobús\",\"L6\",\"Sábado\",\"23-01-2021\",NA,NA,79074\\n\"215\",16234,\"Metrobús\",\"L7\",\"Sábado\",\"23-01-2021\",NA,NA,80541\\n\"216\",16235,\"Metrobús\",\"L1\",\"Domingo\",\"24-01-2021\",NA,NA,129109\\n\"217\",16236,\"Metrobús\",\"L2\",\"Domingo\",\"24-01-2021\",NA,NA,51886\\n\"218\",16237,\"Metrobús\",\"L3\",\"Domingo\",\"24-01-2021\",NA,NA,51963\\n\"219\",16238,\"Metrobús\",\"L4\",\"Domingo\",\"24-01-2021\",NA,NA,24361\\n\"220\",16239,\"Metrobús\",\"L5\",\"Domingo\",\"24-01-2021\",NA,NA,61990\\n\"221\",16240,\"Metrobús\",\"L6\",\"Domingo\",\"24-01-2021\",NA,NA,50549\\n\"222\",16241,\"Metrobús\",\"L7\",\"Domingo\",\"24-01-2021\",NA,NA,42111\\n\"223\",16242,\"Metrobús\",\"L1\",\"Lunes\",\"25-01-2021\",NA,NA,297900\\n\"224\",16243,\"Metrobús\",\"L2\",\"Lunes\",\"25-01-2021\",NA,NA,106618\\n\"225\",16244,\"Metrobús\",\"L3\",\"Lunes\",\"25-01-2021\",NA,NA,108120\\n\"226\",16245,\"Metrobús\",\"L4\",\"Lunes\",\"25-01-2021\",NA,NA,47005\\n\"227\",16246,\"Metrobús\",\"L5\",\"Lunes\",\"25-01-2021\",NA,NA,100716\\n\"228\",16247,\"Metrobús\",\"L6\",\"Lunes\",\"25-01-2021\",NA,NA,102669\\n\"229\",16248,\"Metrobús\",\"L7\",\"Lunes\",\"25-01-2021\",NA,NA,74440\\n\"230\",16249,\"Metrobús\",\"L1\",\"Martes\",\"26-01-2021\",NA,NA,286006\\n\"231\",16250,\"Metrobús\",\"L2\",\"Martes\",\"26-01-2021\",NA,NA,107517\\n\"232\",16251,\"Metrobús\",\"L3\",\"Martes\",\"26-01-2021\",NA,NA,107220\\n\"233\",16252,\"Metrobús\",\"L4\",\"Martes\",\"26-01-2021\",NA,NA,45494\\n\"234\",16253,\"Metrobús\",\"L5\",\"Martes\",\"26-01-2021\",NA,NA,103522\\n\"235\",16254,\"Metrobús\",\"L6\",\"Martes\",\"26-01-2021\",NA,NA,99682\\n\"236\",16255,\"Metrobús\",\"L7\",\"Martes\",\"26-01-2021\",NA,NA,78714\\n\"237\",16256,\"Metrobús\",\"L1\",\"Míercoles\",\"27-01-2021\",NA,NA,288228\\n\"238\",16257,\"Metrobús\",\"L2\",\"Míercoles\",\"27-01-2021\",NA,NA,105009\\n\"239\",16258,\"Metrobús\",\"L3\",\"Míercoles\",\"27-01-2021\",NA,NA,110115\\n\"240\",16259,\"Metrobús\",\"L4\",\"Míercoles\",\"27-01-2021\",NA,NA,44962\\n\"241\",16260,\"Metrobús\",\"L5\",\"Míercoles\",\"27-01-2021\",NA,NA,104893\\n\"242\",16261,\"Metrobús\",\"L6\",\"Míercoles\",\"27-01-2021\",NA,NA,99344\\n\"243\",16262,\"Metrobús\",\"L7\",\"Míercoles\",\"27-01-2021\",NA,NA,83726\\n\"244\",16263,\"Metrobús\",\"L1\",\"Jueves\",\"28-01-2021\",NA,NA,291065\\n\"245\",16264,\"Metrobús\",\"L2\",\"Jueves\",\"28-01-2021\",NA,NA,107104\\n\"246\",16265,\"Metrobús\",\"L3\",\"Jueves\",\"28-01-2021\",NA,NA,108894\\n\"247\",16266,\"Metrobús\",\"L4\",\"Jueves\",\"28-01-2021\",NA,NA,42359\\n\"248\",16267,\"Metrobús\",\"L5\",\"Jueves\",\"28-01-2021\",NA,NA,103453\\n\"249\",16268,\"Metrobús\",\"L6\",\"Jueves\",\"28-01-2021\",NA,NA,99566\\n\"250\",16269,\"Metrobús\",\"L7\",\"Jueves\",\"28-01-2021\",NA,NA,83535\\n\"251\",16270,\"Metrobús\",\"L1\",\"Viernes\",\"29-01-2021\",NA,NA,306636\\n\"252\",16271,\"Metrobús\",\"L2\",\"Viernes\",\"29-01-2021\",NA,NA,106673\\n\"253\",16272,\"Metrobús\",\"L3\",\"Viernes\",\"29-01-2021\",NA,NA,114668\\n\"254\",16273,\"Metrobús\",\"L4\",\"Viernes\",\"29-01-2021\",NA,NA,48955\\n\"255\",16274,\"Metrobús\",\"L5\",\"Viernes\",\"29-01-2021\",NA,NA,104488\\n\"256\",16275,\"Metrobús\",\"L6\",\"Viernes\",\"29-01-2021\",NA,NA,101944\\n\"257\",16276,\"Metrobús\",\"L7\",\"Viernes\",\"29-01-2021\",NA,NA,84104\\n\"258\",16277,\"Metrobús\",\"L1\",\"Sábado\",\"30-01-2021\",NA,NA,213393\\n\"259\",16278,\"Metrobús\",\"L2\",\"Sábado\",\"30-01-2021\",NA,NA,80809\\n\"260\",16279,\"Metrobús\",\"L3\",\"Sábado\",\"30-01-2021\",NA,NA,88966\\n\"261\",16280,\"Metrobús\",\"L4\",\"Sábado\",\"30-01-2021\",NA,NA,47755\\n\"262\",16281,\"Metrobús\",\"L5\",\"Sábado\",\"30-01-2021\",NA,NA,87867\\n\"263\",16282,\"Metrobús\",\"L6\",\"Sábado\",\"30-01-2021\",NA,NA,81228\\n\"264\",16283,\"Metrobús\",\"L7\",\"Sábado\",\"30-01-2021\",NA,NA,73904\\n\"265\",16284,\"Metrobús\",\"L1\",\"Domingo\",\"31-01-2021\",NA,NA,129932\\n\"266\",16285,\"Metrobús\",\"L2\",\"Domingo\",\"31-01-2021\",NA,NA,50802\\n\"267\",16286,\"Metrobús\",\"L3\",\"Domingo\",\"31-01-2021\",NA,NA,52098\\n\"268\",16287,\"Metrobús\",\"L4\",\"Domingo\",\"31-01-2021\",NA,NA,21090\\n\"269\",16288,\"Metrobús\",\"L5\",\"Domingo\",\"31-01-2021\",NA,NA,61365\\n\"270\",16289,\"Metrobús\",\"L6\",\"Domingo\",\"31-01-2021\",NA,NA,46948\\n\"271\",16290,\"Metrobús\",\"L7\",\"Domingo\",\"31-01-2021\",NA,NA,38361\\n\"272\",16291,\"Metrobús\",\"L1\",\"Lunes\",\"01-02-2021\",NA,NA,133784\\n\"273\",16292,\"Metrobús\",\"L2\",\"Lunes\",\"01-02-2021\",NA,NA,64027\\n\"274\",16293,\"Metrobús\",\"L3\",\"Lunes\",\"01-02-2021\",NA,NA,55995\\n\"275\",16294,\"Metrobús\",\"L4\",\"Lunes\",\"01-02-2021\",NA,NA,35809\\n\"276\",16295,\"Metrobús\",\"L5\",\"Lunes\",\"01-02-2021\",NA,NA,77019\\n\"277\",16296,\"Metrobús\",\"L6\",\"Lunes\",\"01-02-2021\",NA,NA,64250\\n\"278\",16297,\"Metrobús\",\"L7\",\"Lunes\",\"01-02-2021\",NA,NA,39891\\n\"279\",16298,\"Metrobús\",\"L1\",\"Martes\",\"02-02-2021\",NA,NA,248422\\n\"280\",16299,\"Metrobús\",\"L2\",\"Martes\",\"02-02-2021\",NA,NA,105611\\n\"281\",16300,\"Metrobús\",\"L3\",\"Martes\",\"02-02-2021\",NA,NA,91220\\n\"282\",16301,\"Metrobús\",\"L4\",\"Martes\",\"02-02-2021\",NA,NA,44681\\n\"283\",16302,\"Metrobús\",\"L5\",\"Martes\",\"02-02-2021\",NA,NA,106028\\n\"284\",16303,\"Metrobús\",\"L6\",\"Martes\",\"02-02-2021\",NA,NA,100312\\n\"285\",16304,\"Metrobús\",\"L7\",\"Martes\",\"02-02-2021\",NA,NA,73934\\n\"286\",16305,\"Metrobús\",\"L1\",\"Míercoles\",\"03-02-2021\",NA,NA,237261\\n\"287\",16306,\"Metrobús\",\"L2\",\"Míercoles\",\"03-02-2021\",NA,NA,103805\\n\"288\",16307,\"Metrobús\",\"L3\",\"Míercoles\",\"03-02-2021\",NA,NA,90224\\n\"289\",16308,\"Metrobús\",\"L4\",\"Míercoles\",\"03-02-2021\",NA,NA,42285\\n\"290\",16309,\"Metrobús\",\"L5\",\"Míercoles\",\"03-02-2021\",NA,NA,104997\\n\"291\",16310,\"Metrobús\",\"L6\",\"Míercoles\",\"03-02-2021\",NA,NA,99647\\n\"292\",16311,\"Metrobús\",\"L7\",\"Míercoles\",\"03-02-2021\",NA,NA,67486\\n\"293\",16312,\"Metrobús\",\"L1\",\"Jueves\",\"04-02-2021\",NA,NA,242377\\n\"294\",16313,\"Metrobús\",\"L2\",\"Jueves\",\"04-02-2021\",NA,NA,102488\\n\"295\",16314,\"Metrobús\",\"L3\",\"Jueves\",\"04-02-2021\",NA,NA,93800\\n\"296\",16315,\"Metrobús\",\"L4\",\"Jueves\",\"04-02-2021\",NA,NA,38150\\n\"297\",16316,\"Metrobús\",\"L5\",\"Jueves\",\"04-02-2021\",NA,NA,99818\\n\"298\",16317,\"Metrobús\",\"L6\",\"Jueves\",\"04-02-2021\",NA,NA,98325\\n\"299\",16318,\"Metrobús\",\"L7\",\"Jueves\",\"04-02-2021\",NA,NA,70492\\n\"300\",16319,\"Metrobús\",\"L1\",\"Viernes\",\"05-02-2021\",NA,NA,237577\\n\"301\",16320,\"Metrobús\",\"L2\",\"Viernes\",\"05-02-2021\",NA,NA,101969\\n\"302\",16321,\"Metrobús\",\"L3\",\"Viernes\",\"05-02-2021\",NA,NA,90821\\n\"303\",16322,\"Metrobús\",\"L4\",\"Viernes\",\"05-02-2021\",NA,NA,49985\\n\"304\",16323,\"Metrobús\",\"L5\",\"Viernes\",\"05-02-2021\",NA,NA,104538\\n\"305\",16324,\"Metrobús\",\"L6\",\"Viernes\",\"05-02-2021\",NA,NA,98736\\n\"306\",16325,\"Metrobús\",\"L7\",\"Viernes\",\"05-02-2021\",NA,NA,64760\\n\"307\",16326,\"Metrobús\",\"L1\",\"Sábado\",\"06-02-2021\",NA,NA,163656\\n\"308\",16327,\"Metrobús\",\"L2\",\"Sábado\",\"06-02-2021\",NA,NA,78672\\n\"309\",16328,\"Metrobús\",\"L3\",\"Sábado\",\"06-02-2021\",NA,NA,70673\\n\"310\",16329,\"Metrobús\",\"L4\",\"Sábado\",\"06-02-2021\",NA,NA,45497\\n\"311\",16330,\"Metrobús\",\"L5\",\"Sábado\",\"06-02-2021\",NA,NA,87488\\n\"312\",16331,\"Metrobús\",\"L6\",\"Sábado\",\"06-02-2021\",NA,NA,76822\\n\"313\",16332,\"Metrobús\",\"L7\",\"Sábado\",\"06-02-2021\",NA,NA,56679\\n\"314\",16333,\"Metrobús\",\"L1\",\"Domingo\",\"07-02-2021\",NA,NA,95075\\n\"315\",16334,\"Metrobús\",\"L2\",\"Domingo\",\"07-02-2021\",NA,NA,49380\\n\"316\",16335,\"Metrobús\",\"L3\",\"Domingo\",\"07-02-2021\",NA,NA,42373\\n\"317\",16336,\"Metrobús\",\"L4\",\"Domingo\",\"07-02-2021\",NA,NA,18418\\n\"318\",16337,\"Metrobús\",\"L5\",\"Domingo\",\"07-02-2021\",NA,NA,64632\\n\"319\",16338,\"Metrobús\",\"L6\",\"Domingo\",\"07-02-2021\",NA,NA,50376\\n\"320\",16339,\"Metrobús\",\"L7\",\"Domingo\",\"07-02-2021\",NA,NA,30631\\n\"321\",16340,\"Metrobús\",\"L1\",\"Lunes\",\"08-02-2021\",NA,NA,219090\\n\"322\",16341,\"Metrobús\",\"L2\",\"Lunes\",\"08-02-2021\",NA,NA,98442\\n\"323\",16342,\"Metrobús\",\"L3\",\"Lunes\",\"08-02-2021\",NA,NA,84811\\n\"324\",16343,\"Metrobús\",\"L4\",\"Lunes\",\"08-02-2021\",NA,NA,41412\\n\"325\",16344,\"Metrobús\",\"L5\",\"Lunes\",\"08-02-2021\",NA,NA,100744\\n\"326\",16345,\"Metrobús\",\"L6\",\"Lunes\",\"08-02-2021\",NA,NA,95666\\n\"327\",16346,\"Metrobús\",\"L7\",\"Lunes\",\"08-02-2021\",NA,NA,68265\\n\"328\",16347,\"Metrobús\",\"L1\",\"Martes\",\"09-02-2021\",NA,NA,219693\\n\"329\",16348,\"Metrobús\",\"L2\",\"Martes\",\"09-02-2021\",NA,NA,98093\\n\"330\",16349,\"Metrobús\",\"L3\",\"Martes\",\"09-02-2021\",NA,NA,88605\\n\"331\",16350,\"Metrobús\",\"L4\",\"Martes\",\"09-02-2021\",NA,NA,41712\\n\"332\",16351,\"Metrobús\",\"L5\",\"Martes\",\"09-02-2021\",NA,NA,101903\\n\"333\",16352,\"Metrobús\",\"L6\",\"Martes\",\"09-02-2021\",NA,NA,98748\\n\"334\",16353,\"Metrobús\",\"L7\",\"Martes\",\"09-02-2021\",NA,NA,68621\\n\"335\",16354,\"Metrobús\",\"L1\",\"Míercoles\",\"10-02-2021\",NA,NA,234856\\n\"336\",16355,\"Metrobús\",\"L2\",\"Míercoles\",\"10-02-2021\",NA,NA,100261\\n\"337\",16356,\"Metrobús\",\"L3\",\"Míercoles\",\"10-02-2021\",NA,NA,90238\\n\"338\",16357,\"Metrobús\",\"L4\",\"Míercoles\",\"10-02-2021\",NA,NA,43978\\n\"339\",16358,\"Metrobús\",\"L5\",\"Míercoles\",\"10-02-2021\",NA,NA,104955\\n\"340\",16359,\"Metrobús\",\"L6\",\"Míercoles\",\"10-02-2021\",NA,NA,99695\\n\"341\",16360,\"Metrobús\",\"L7\",\"Míercoles\",\"10-02-2021\",NA,NA,73775\\n\"342\",16361,\"Metrobús\",\"L1\",\"Jueves\",\"11-02-2021\",NA,NA,222935\\n\"343\",16362,\"Metrobús\",\"L2\",\"Jueves\",\"11-02-2021\",NA,NA,98588\\n\"344\",16363,\"Metrobús\",\"L3\",\"Jueves\",\"11-02-2021\",NA,NA,87601\\n\"345\",16364,\"Metrobús\",\"L4\",\"Jueves\",\"11-02-2021\",NA,NA,41556\\n\"346\",16365,\"Metrobús\",\"L5\",\"Jueves\",\"11-02-2021\",NA,NA,103515\\n\"347\",16366,\"Metrobús\",\"L6\",\"Jueves\",\"11-02-2021\",NA,NA,98481\\n\"348\",16367,\"Metrobús\",\"L7\",\"Jueves\",\"11-02-2021\",NA,NA,66861\\n\"349\",16368,\"Metrobús\",\"L1\",\"Viernes\",\"12-02-2021\",NA,NA,228853\\n\"350\",16369,\"Metrobús\",\"L2\",\"Viernes\",\"12-02-2021\",NA,NA,102371\\n\"351\",16370,\"Metrobús\",\"L3\",\"Viernes\",\"12-02-2021\",NA,NA,91491\\n\"352\",16371,\"Metrobús\",\"L4\",\"Viernes\",\"12-02-2021\",NA,NA,50706\\n\"353\",16372,\"Metrobús\",\"L5\",\"Viernes\",\"12-02-2021\",NA,NA,108186\\n\"354\",16373,\"Metrobús\",\"L6\",\"Viernes\",\"12-02-2021\",NA,NA,105404\\n\"355\",16374,\"Metrobús\",\"L7\",\"Viernes\",\"12-02-2021\",NA,NA,80995\\n\"356\",16375,\"Metrobús\",\"L1\",\"Sábado\",\"13-02-2021\",NA,NA,161164\\n\"357\",16376,\"Metrobús\",\"L2\",\"Sábado\",\"13-02-2021\",NA,NA,82098\\n\"358\",16377,\"Metrobús\",\"L3\",\"Sábado\",\"13-02-2021\",NA,NA,73100\\n\"359\",16378,\"Metrobús\",\"L4\",\"Sábado\",\"13-02-2021\",NA,NA,41000\\n\"360\",16379,\"Metrobús\",\"L5\",\"Sábado\",\"13-02-2021\",NA,NA,91143\\n\"361\",16380,\"Metrobús\",\"L6\",\"Sábado\",\"13-02-2021\",NA,NA,79973\\n\"362\",16381,\"Metrobús\",\"L7\",\"Sábado\",\"13-02-2021\",NA,NA,61327\\n\"363\",16382,\"Metrobús\",\"L1\",\"Domingo\",\"14-02-2021\",NA,NA,97280\\n\"364\",16383,\"Metrobús\",\"L2\",\"Domingo\",\"14-02-2021\",NA,NA,50951\\n\"365\",16384,\"Metrobús\",\"L3\",\"Domingo\",\"14-02-2021\",NA,NA,48849\\n\"366\",16385,\"Metrobús\",\"L4\",\"Domingo\",\"14-02-2021\",NA,NA,15049\\n\"367\",16386,\"Metrobús\",\"L5\",\"Domingo\",\"14-02-2021\",NA,NA,64350\\n\"368\",16387,\"Metrobús\",\"L6\",\"Domingo\",\"14-02-2021\",NA,NA,57020\\n\"369\",16388,\"Metrobús\",\"L7\",\"Domingo\",\"14-02-2021\",NA,NA,34489\\n\"370\",16389,\"Metrobús\",\"L1\",\"Lunes\",\"15-02-2021\",NA,NA,225622\\n\"371\",16390,\"Metrobús\",\"L2\",\"Lunes\",\"15-02-2021\",NA,NA,98576\\n\"372\",16391,\"Metrobús\",\"L3\",\"Lunes\",\"15-02-2021\",NA,NA,85484\\n\"373\",16392,\"Metrobús\",\"L4\",\"Lunes\",\"15-02-2021\",NA,NA,42854\\n\"374\",16393,\"Metrobús\",\"L5\",\"Lunes\",\"15-02-2021\",NA,NA,101997\\n\"375\",16394,\"Metrobús\",\"L6\",\"Lunes\",\"15-02-2021\",NA,NA,101330\\n\"376\",16395,\"Metrobús\",\"L7\",\"Lunes\",\"15-02-2021\",NA,NA,68876\\n\"377\",16396,\"Metrobús\",\"L1\",\"Martes\",\"16-02-2021\",NA,NA,231010\\n\"378\",16397,\"Metrobús\",\"L2\",\"Martes\",\"16-02-2021\",NA,NA,102008\\n\"379\",16398,\"Metrobús\",\"L3\",\"Martes\",\"16-02-2021\",NA,NA,88123\\n\"380\",16399,\"Metrobús\",\"L4\",\"Martes\",\"16-02-2021\",NA,NA,42935\\n\"381\",16400,\"Metrobús\",\"L5\",\"Martes\",\"16-02-2021\",NA,NA,106205\\n\"382\",16401,\"Metrobús\",\"L6\",\"Martes\",\"16-02-2021\",NA,NA,100192\\n\"383\",16402,\"Metrobús\",\"L7\",\"Martes\",\"16-02-2021\",NA,NA,63799\\n\"384\",16403,\"Metrobús\",\"L1\",\"Míercoles\",\"17-02-2021\",NA,NA,224763\\n\"385\",16404,\"Metrobús\",\"L2\",\"Míercoles\",\"17-02-2021\",NA,NA,100624\\n\"386\",16405,\"Metrobús\",\"L3\",\"Míercoles\",\"17-02-2021\",NA,NA,89520\\n\"387\",16406,\"Metrobús\",\"L4\",\"Míercoles\",\"17-02-2021\",NA,NA,39773\\n\"388\",16407,\"Metrobús\",\"L5\",\"Míercoles\",\"17-02-2021\",NA,NA,107579\\n\"389\",16408,\"Metrobús\",\"L6\",\"Míercoles\",\"17-02-2021\",NA,NA,100865\\n\"390\",16409,\"Metrobús\",\"L7\",\"Míercoles\",\"17-02-2021\",NA,NA,71470\\n\"391\",16410,\"Metrobús\",\"L1\",\"Jueves\",\"18-02-2021\",NA,NA,224627\\n\"392\",16411,\"Metrobús\",\"L2\",\"Jueves\",\"18-02-2021\",NA,NA,100080\\n\"393\",16412,\"Metrobús\",\"L3\",\"Jueves\",\"18-02-2021\",NA,NA,88797\\n\"394\",16413,\"Metrobús\",\"L4\",\"Jueves\",\"18-02-2021\",NA,NA,42423\\n\"395\",16414,\"Metrobús\",\"L5\",\"Jueves\",\"18-02-2021\",NA,NA,103616\\n\"396\",16415,\"Metrobús\",\"L6\",\"Jueves\",\"18-02-2021\",NA,NA,98643\\n\"397\",16416,\"Metrobús\",\"L7\",\"Jueves\",\"18-02-2021\",NA,NA,70498\\n\"398\",16417,\"Metrobús\",\"L1\",\"Viernes\",\"19-02-2021\",NA,NA,243236\\n\"399\",16418,\"Metrobús\",\"L2\",\"Viernes\",\"19-02-2021\",NA,NA,105147\\n\"400\",16419,\"Metrobús\",\"L3\",\"Viernes\",\"19-02-2021\",NA,NA,95956\\n\"401\",16420,\"Metrobús\",\"L4\",\"Viernes\",\"19-02-2021\",NA,NA,45197\\n\"402\",16421,\"Metrobús\",\"L5\",\"Viernes\",\"19-02-2021\",NA,NA,114562\\n\"403\",16422,\"Metrobús\",\"L6\",\"Viernes\",\"19-02-2021\",NA,NA,102748\\n\"404\",16423,\"Metrobús\",\"L7\",\"Viernes\",\"19-02-2021\",NA,NA,80081\\n\"405\",16424,\"Metrobús\",\"L1\",\"Sábado\",\"20-02-2021\",NA,NA,158866\\n\"406\",16425,\"Metrobús\",\"L2\",\"Sábado\",\"20-02-2021\",NA,NA,81110\\n\"407\",16426,\"Metrobús\",\"L3\",\"Sábado\",\"20-02-2021\",NA,NA,73884\\n\"408\",16427,\"Metrobús\",\"L4\",\"Sábado\",\"20-02-2021\",NA,NA,41441\\n\"409\",16428,\"Metrobús\",\"L5\",\"Sábado\",\"20-02-2021\",NA,NA,84606\\n\"410\",16429,\"Metrobús\",\"L6\",\"Sábado\",\"20-02-2021\",NA,NA,81461\\n\"411\",16430,\"Metrobús\",\"L7\",\"Sábado\",\"20-02-2021\",NA,NA,65630\\n\"412\",16431,\"Metrobús\",\"L1\",\"Domingo\",\"21-02-2021\",NA,NA,95428\\n\"413\",16432,\"Metrobús\",\"L2\",\"Domingo\",\"21-02-2021\",NA,NA,49968\\n\"414\",16433,\"Metrobús\",\"L3\",\"Domingo\",\"21-02-2021\",NA,NA,46486\\n\"415\",16434,\"Metrobús\",\"L4\",\"Domingo\",\"21-02-2021\",NA,NA,18931\\n\"416\",16435,\"Metrobús\",\"L5\",\"Domingo\",\"21-02-2021\",NA,NA,67766\\n\"417\",16436,\"Metrobús\",\"L6\",\"Domingo\",\"21-02-2021\",NA,NA,56554\\n\"418\",16437,\"Metrobús\",\"L7\",\"Domingo\",\"21-02-2021\",NA,NA,30012\\n\"419\",16438,\"Metrobús\",\"L1\",\"Lunes\",\"22-02-2021\",NA,NA,225754\\n\"420\",16439,\"Metrobús\",\"L2\",\"Lunes\",\"22-02-2021\",NA,NA,100257\\n\"421\",16440,\"Metrobús\",\"L3\",\"Lunes\",\"22-02-2021\",NA,NA,87924\\n\"422\",16441,\"Metrobús\",\"L4\",\"Lunes\",\"22-02-2021\",NA,NA,41840\\n\"423\",16442,\"Metrobús\",\"L5\",\"Lunes\",\"22-02-2021\",NA,NA,101633\\n\"424\",16443,\"Metrobús\",\"L6\",\"Lunes\",\"22-02-2021\",NA,NA,98252\\n\"425\",16444,\"Metrobús\",\"L7\",\"Lunes\",\"22-02-2021\",NA,NA,74099\\n\"426\",16445,\"Metrobús\",\"L1\",\"Martes\",\"23-02-2021\",NA,NA,NA\\n\"427\",16446,\"Metrobús\",\"L2\",\"Martes\",\"23-02-2021\",NA,NA,NA\\n\"428\",16447,\"Metrobús\",\"L3\",\"Martes\",\"23-02-2021\",NA,NA,NA\\n\"429\",16448,\"Metrobús\",\"L4\",\"Martes\",\"23-02-2021\",NA,NA,NA\\n\"430\",16449,\"Metrobús\",\"L5\",\"Martes\",\"23-02-2021\",NA,NA,NA\\n\"431\",16450,\"Metrobús\",\"L6\",\"Martes\",\"23-02-2021\",NA,NA,NA\\n\"432\",16451,\"Metrobús\",\"L7\",\"Martes\",\"23-02-2021\",NA,NA,NA\\n\"433\",22346,\"RTP\",\"Ordinario\",\"Viernes\",\"01-01-2021\",636,29483,30119\\n\"434\",22347,\"RTP\",\"Expreso\",\"Viernes\",\"01-01-2021\",778,13727,14505\\n\"435\",22348,\"RTP\",\"Atenea\",\"Viernes\",\"01-01-2021\",NA,1011,1011\\n\"436\",22349,\"RTP\",\"Ecobús\",\"Viernes\",\"01-01-2021\",348,3921,4269\\n\"437\",22350,\"RTP\",\"Nocturno\",\"Viernes\",\"01-01-2021\",4,72,76\\n\"438\",22351,\"RTP\",\"Eco Atenea\",\"Viernes\",\"01-01-2021\",NA,0,0\\n\"439\",22352,\"RTP\",\"Expreso Directo\",\"Viernes\",\"01-01-2021\",3,34,37\\n\"440\",22353,\"RTP\",\"Temporal Peñón-Panteón San Isidro-Metro Camarones\",\"Viernes\",\"01-01-2021\",53,1047,1100\\n\"441\",22354,\"RTP\",\"Ordinario\",\"Sábado\",\"02-01-2021\",1045,42879,43924\\n\"442\",22355,\"RTP\",\"Expreso\",\"Sábado\",\"02-01-2021\",1617,24030,25647\\n\"443\",22356,\"RTP\",\"Atenea\",\"Sábado\",\"02-01-2021\",NA,930,930\\n\"444\",22357,\"RTP\",\"Ecobús\",\"Sábado\",\"02-01-2021\",487,6165,6652\\n\"445\",22358,\"RTP\",\"Nocturno\",\"Sábado\",\"02-01-2021\",5,108,113\\n\"446\",22359,\"RTP\",\"Eco Atenea\",\"Sábado\",\"02-01-2021\",NA,0,0\\n\"447\",22360,\"RTP\",\"Expreso Directo\",\"Sábado\",\"02-01-2021\",4,93,97\\n\"448\",22361,\"RTP\",\"Temporal Peñón-Panteón San Isidro-Metro Camarones\",\"Sábado\",\"02-01-2021\",116,1962,2078\\n\"449\",22362,\"RTP\",\"Ordinario\",\"Domingo\",\"03-01-2021\",792,36347,37139\\n\"450\",22363,\"RTP\",\"Expreso\",\"Domingo\",\"03-01-2021\",1187,21193,22380\\n\"451\",22364,\"RTP\",\"Atenea\",\"Domingo\",\"03-01-2021\",NA,785,785\\n\"452\",22365,\"RTP\",\"Ecobús\",\"Domingo\",\"03-01-2021\",569,6146,6715\\n\"453\",22366,\"RTP\",\"Nocturno\",\"Domingo\",\"03-01-2021\",13,196,209\\n\"454\",22367,\"RTP\",\"Eco Atenea\",\"Domingo\",\"03-01-2021\",NA,0,0\\n\"455\",22368,\"RTP\",\"Expreso Directo\",\"Domingo\",\"03-01-2021\",NA,0,0\\n\"456\",22369,\"RTP\",\"Temporal Peñón-Panteón San Isidro-Metro Camarones\",\"Domingo\",\"03-01-2021\",82,2351,2433\\n\"457\",22370,\"RTP\",\"Ordinario\",\"Lunes\",\"04-01-2021\",2291,88401,90692\\n\"458\",22371,\"RTP\",\"Expreso\",\"Lunes\",\"04-01-2021\",3600,42105,45705\\n\"459\",22372,\"RTP\",\"Atenea\",\"Lunes\",\"04-01-2021\",NA,9583,9583\\n\"460\",22373,\"RTP\",\"Ecobús\",\"Lunes\",\"04-01-2021\",1609,15292,16901\\n\"461\",22374,\"RTP\",\"Nocturno\",\"Lunes\",\"04-01-2021\",4,135,139\\n\"462\",22375,\"RTP\",\"Eco Atenea\",\"Lunes\",\"04-01-2021\",NA,427,427\\n\"463\",22376,\"RTP\",\"Expreso Directo\",\"Lunes\",\"04-01-2021\",56,580,636\\n\"464\",22377,\"RTP\",\"Temporal Peñón-Panteón San Isidro-Metro Camarones\",\"Lunes\",\"04-01-2021\",194,3303,3497\\n\"465\",22378,\"RTP\",\"Ordinario\",\"Martes\",\"05-01-2021\",2251,88005,90256\\n\"466\",22379,\"RTP\",\"Expreso\",\"Martes\",\"05-01-2021\",3895,42598,46493\\n\"467\",22380,\"RTP\",\"Atenea\",\"Martes\",\"05-01-2021\",NA,11753,11753\\n\"468\",22381,\"RTP\",\"Ecobús\",\"Martes\",\"05-01-2021\",1628,17474,19102\\n\"469\",22382,\"RTP\",\"Nocturno\",\"Martes\",\"05-01-2021\",6,254,260\\n\"470\",22383,\"RTP\",\"Eco Atenea\",\"Martes\",\"05-01-2021\",NA,250,250\\n\"471\",22384,\"RTP\",\"Expreso Directo\",\"Martes\",\"05-01-2021\",183,3350,3533\\n\"472\",22385,\"RTP\",\"Temporal Peñón-Panteón San Isidro-Metro Camarones\",\"Martes\",\"05-01-2021\",69,821,890\\n\"473\",22386,\"RTP\",\"Ordinario\",\"Miércoles\",\"06-01-2021\",2174,72474,74648\\n\"474\",22387,\"RTP\",\"Expreso\",\"Miércoles\",\"06-01-2021\",3719,37869,41588\\n\"475\",22388,\"RTP\",\"Atenea\",\"Miércoles\",\"06-01-2021\",0,10522,10522\\n\"476\",22389,\"RTP\",\"Ecobús\",\"Miércoles\",\"06-01-2021\",1422,12028,13450\\n\"477\",22390,\"RTP\",\"Nocturno\",\"Miércoles\",\"06-01-2021\",13,290,303\\n\"478\",22391,\"RTP\",\"Eco Atenea\",\"Miércoles\",\"06-01-2021\",0,181,181\\n\"479\",22392,\"RTP\",\"Expreso Directo\",\"Miércoles\",\"06-01-2021\",75,504,579\\n\"480\",22393,\"RTP\",\"Temporal Peñón-Panteón San Isidro-Metro Camarones\",\"Miércoles\",\"06-01-2021\",164,2945,3109\\n\"481\",22394,\"RTP\",\"Ordinario\",\"Jueves\",\"07-01-2021\",2234,89802,92036\\n\"482\",22395,\"RTP\",\"Expreso\",\"Jueves\",\"07-01-2021\",3542,37873,41415\\n\"483\",22396,\"RTP\",\"Atenea\",\"Jueves\",\"07-01-2021\",NA,10366,10366\\n\"484\",22397,\"RTP\",\"Ecobús\",\"Jueves\",\"07-01-2021\",1792,16468,18260\\n\"485\",22398,\"RTP\",\"Nocturno\",\"Jueves\",\"07-01-2021\",15,240,255\\n\"486\",22399,\"RTP\",\"Eco Atenea\",\"Jueves\",\"07-01-2021\",NA,285,285\\n\"487\",22400,\"RTP\",\"Expreso Directo\",\"Jueves\",\"07-01-2021\",73,660,733\\n\"488\",22401,\"RTP\",\"Temporal Peñón-Panteón San Isidro-Metro Camarones\",\"Jueves\",\"07-01-2021\",64,1019,1083\\n\"489\",22402,\"RTP\",\"Ordinario\",\"Viernes\",\"08-01-2021\",2560,93806,96366\\n\"490\",22403,\"RTP\",\"Expreso\",\"Viernes\",\"08-01-2021\",3108,36479,39587\\n\"491\",22404,\"RTP\",\"Atenea\",\"Viernes\",\"08-01-2021\",NA,8897,8897\\n\"492\",22405,\"RTP\",\"Ecobús\",\"Viernes\",\"08-01-2021\",1752,15483,17235\\n\"493\",22406,\"RTP\",\"Nocturno\",\"Viernes\",\"08-01-2021\",13,230,243\\n\"494\",22407,\"RTP\",\"Eco Atenea\",\"Viernes\",\"08-01-2021\",NA,459,459\\n\"495\",22408,\"RTP\",\"Expreso Directo\",\"Viernes\",\"08-01-2021\",60,644,704\\n\"496\",22409,\"RTP\",\"Temporal Peñón-Panteón San Isidro-Metro Camarones\",\"Viernes\",\"08-01-2021\",66,1189,1255\\n\"497\",22410,\"RTP\",\"Ordinario\",\"Sábado\",\"09-01-2021\",885,37367,38252\\n\"498\",22411,\"RTP\",\"Expreso\",\"Sábado\",\"09-01-2021\",1453,15967,17420\\n\"499\",22412,\"RTP\",\"Atenea\",\"Sábado\",\"09-01-2021\",NA,1180,1180\\n\"500\",22413,\"RTP\",\"Ecobús\",\"Sábado\",\"09-01-2021\",887,11317,12204\\n\"501\",22414,\"RTP\",\"Nocturno\",\"Sábado\",\"09-01-2021\",6,262,268\\n\"502\",22415,\"RTP\",\"Eco Atenea\",\"Sábado\",\"09-01-2021\",NA,0,0\\n\"503\",22416,\"RTP\",\"Expreso Directo\",\"Sábado\",\"09-01-2021\",13,171,184\\n\"504\",22417,\"RTP\",\"Temporal Peñón-Panteón San Isidro-Metro Camarones\",\"Sábado\",\"09-01-2021\",9,106,115\\n\"505\",22418,\"RTP\",\"Ordinario\",\"Domingo\",\"10-01-2021\",479,18582,19061\\n\"506\",22419,\"RTP\",\"Expreso\",\"Domingo\",\"10-01-2021\",610,8833,9443\\n\"507\",22420,\"RTP\",\"Atenea\",\"Domingo\",\"10-01-2021\",NA,96,96\\n\"508\",22421,\"RTP\",\"Ecobús\",\"Domingo\",\"10-01-2021\",360,6109,6469\\n\"509\",22422,\"RTP\",\"Nocturno\",\"Domingo\",\"10-01-2021\",4,298,302\\n\"510\",22423,\"RTP\",\"Eco Atenea\",\"Domingo\",\"10-01-2021\",NA,0,0\\n\"511\",22424,\"RTP\",\"Expreso Directo\",\"Domingo\",\"10-01-2021\",0,0,0\\n\"512\",22425,\"RTP\",\"Temporal Peñón-Panteón San Isidro-Metro Camarones\",\"Domingo\",\"10-01-2021\",37,608,645\\n\"513\",22426,\"RTP\",\"Ordinario\",\"Lunes\",\"11-01-2021\",1046,41334,42380\\n\"514\",22427,\"RTP\",\"Expreso\",\"Lunes\",\"11-01-2021\",1792,21741,23533\\n\"515\",22428,\"RTP\",\"Atenea\",\"Lunes\",\"11-01-2021\",NA,9837,9837\\n\"516\",22429,\"RTP\",\"Ecobús\",\"Lunes\",\"11-01-2021\",1188,14017,15205\\n\"517\",22430,\"RTP\",\"Nocturno\",\"Lunes\",\"11-01-2021\",1,195,196\\n\"518\",22431,\"RTP\",\"Eco Atenea\",\"Lunes\",\"11-01-2021\",NA,403,403\\n\"519\",22432,\"RTP\",\"Expreso Directo\",\"Lunes\",\"11-01-2021\",87,846,933\\n\"520\",22433,\"RTP\",\"Temporal Peñón-Panteón San Isidro-Metro Camarones\",\"Lunes\",\"11-01-2021\",22,741,763\\n\"521\",26266,\"RTP\",\"SEFI Metro\",\"Lunes\",\"11-01-2021\",2575,103894,106469\\n\"522\",22434,\"RTP\",\"Ordinario\",\"Martes\",\"12-01-2021\",1146,41452,42598\\n\"523\",22435,\"RTP\",\"Expreso\",\"Martes\",\"12-01-2021\",2157,22040,24197\\n\"524\",22436,\"RTP\",\"Atenea\",\"Martes\",\"12-01-2021\",NA,8093,8093\\n\"525\",22437,\"RTP\",\"Ecobús\",\"Martes\",\"12-01-2021\",1567,12963,14530\\n\"526\",22438,\"RTP\",\"Nocturno\",\"Martes\",\"12-01-2021\",4,265,269\\n\"527\",22439,\"RTP\",\"Eco Atenea\",\"Martes\",\"12-01-2021\",NA,2441,2441\\n\"528\",22440,\"RTP\",\"Expreso Directo\",\"Martes\",\"12-01-2021\",102,801,903\\n\"529\",22441,\"RTP\",\"Temporal Peñón-Panteón San Isidro-Metro Camarones\",\"Martes\",\"12-01-2021\",57,498,555\\n\"530\",26267,\"RTP\",\"SEFI Metro\",\"Martes\",\"12-01-2021\",2714,96061,98775\\n\"531\",22442,\"RTP\",\"Ordinario\",\"Miércoles\",\"13-01-2021\",1383,51506,52889\\n\"532\",22443,\"RTP\",\"Expreso\",\"Miércoles\",\"13-01-2021\",1746,26333,28079\\n\"533\",22444,\"RTP\",\"Atenea\",\"Miércoles\",\"13-01-2021\",NA,8177,8177\\n\"534\",22445,\"RTP\",\"Ecobús\",\"Miércoles\",\"13-01-2021\",1694,15260,16954\\n\"535\",22446,\"RTP\",\"Nocturno\",\"Miércoles\",\"13-01-2021\",3,241,244\\n\"536\",22447,\"RTP\",\"Eco Atenea\",\"Miércoles\",\"13-01-2021\",NA,2510,2510\\n\"537\",22448,\"RTP\",\"Expreso Directo\",\"Miércoles\",\"13-01-2021\",93,757,850\\n\"538\",22449,\"RTP\",\"Temporal Peñón-Panteón San Isidro-Metro Camarones\",\"Miércoles\",\"13-01-2021\",61,611,672\\n\"539\",26268,\"RTP\",\"SEFI Metro\",\"Miércoles\",\"13-01-2021\",3508,91110,94618\\n\"540\",22450,\"RTP\",\"Ordinario\",\"Jueves\",\"14-01-2021\",1571,56016,57587\\n\"541\",22451,\"RTP\",\"Expreso\",\"Jueves\",\"14-01-2021\",2525,31959,34484\\n\"542\",22452,\"RTP\",\"Atenea\",\"Jueves\",\"14-01-2021\",NA,7841,7841\\n\"543\",22453,\"RTP\",\"Ecobús\",\"Jueves\",\"14-01-2021\",1553,15754,17307\\n\"544\",22454,\"RTP\",\"Nocturno\",\"Jueves\",\"14-01-2021\",11,298,309\\n\"545\",22455,\"RTP\",\"Eco Atenea\",\"Jueves\",\"14-01-2021\",NA,272,272\\n\"546\",22456,\"RTP\",\"Expreso Directo\",\"Jueves\",\"14-01-2021\",94,769,863\\n\"547\",22457,\"RTP\",\"Temporal Peñón-Panteón San Isidro-Metro Camarones\",\"Jueves\",\"14-01-2021\",55,739,794\\n\"548\",26269,\"RTP\",\"SEFI Metro\",\"Jueves\",\"14-01-2021\",3075,86490,89565\\n\"549\",22458,\"RTP\",\"Ordinario\",\"Viernes\",\"15-01-2021\",1526,55503,57029\\n\"550\",22459,\"RTP\",\"Expreso\",\"Viernes\",\"15-01-2021\",2403,31467,33870\\n\"551\",22460,\"RTP\",\"Atenea\",\"Viernes\",\"15-01-2021\",NA,8204,8204\\n\"552\",22461,\"RTP\",\"Ecobús\",\"Viernes\",\"15-01-2021\",1316,15927,17243\\n\"553\",22462,\"RTP\",\"Nocturno\",\"Viernes\",\"15-01-2021\",11,422,433\\n\"554\",22463,\"RTP\",\"Eco Atenea\",\"Viernes\",\"15-01-2021\",NA,1442,1442\\n\"555\",22464,\"RTP\",\"Expreso Directo\",\"Viernes\",\"15-01-2021\",65,774,839\\n\"556\",22465,\"RTP\",\"Temporal Peñón-Panteón San Isidro-Metro Camarones\",\"Viernes\",\"15-01-2021\",41,731,772\\n\"557\",26270,\"RTP\",\"SEFI Metro\",\"Viernes\",\"15-01-2021\",2919,92719,95638\\n\"558\",22466,\"RTP\",\"Ordinario\",\"Sábado\",\"16-01-2021\",581,31243,31824\\n\"559\",22467,\"RTP\",\"Expreso\",\"Sábado\",\"16-01-2021\",779,18372,19151\\n\"560\",22468,\"RTP\",\"Atenea\",\"Sábado\",\"16-01-2021\",NA,3421,3421\\n\"561\",22469,\"RTP\",\"Ecobús\",\"Sábado\",\"16-01-2021\",671,12819,13490\\n\"562\",22470,\"RTP\",\"Nocturno\",\"Sábado\",\"16-01-2021\",7,296,303\\n\"563\",22471,\"RTP\",\"Eco Atenea\",\"Sábado\",\"16-01-2021\",NA,0,0\\n\"564\",22472,\"RTP\",\"Expreso Directo\",\"Sábado\",\"16-01-2021\",8,247,255\\n\"565\",22473,\"RTP\",\"Temporal Peñón-Panteón San Isidro-Metro Camarones\",\"Sábado\",\"16-01-2021\",2,303,305\\n\"566\",26271,\"RTP\",\"SEFI Metro\",\"Sábado\",\"16-01-2021\",1452,65289,66741\\n\"567\",22474,\"RTP\",\"Ordinario\",\"Domingo\",\"17-01-2021\",553,25444,25997\\n\"568\",22475,\"RTP\",\"Expreso\",\"Domingo\",\"17-01-2021\",523,12582,13105\\n\"569\",22476,\"RTP\",\"Atenea\",\"Domingo\",\"17-01-2021\",NA,711,711\\n\"570\",22477,\"RTP\",\"Ecobús\",\"Domingo\",\"17-01-2021\",339,4724,5063\\n\"571\",22478,\"RTP\",\"Nocturno\",\"Domingo\",\"17-01-2021\",4,320,324\\n\"572\",22479,\"RTP\",\"Eco Atenea\",\"Domingo\",\"17-01-2021\",NA,0,0\\n\"573\",22480,\"RTP\",\"Expreso Directo\",\"Domingo\",\"17-01-2021\",0,0,0\\n\"574\",22481,\"RTP\",\"Temporal Peñón-Panteón San Isidro-Metro Camarones\",\"Domingo\",\"17-01-2021\",9,155,164\\n\"575\",26272,\"RTP\",\"SEFI Metro\",\"Domingo\",\"17-01-2021\",1464,52714,54178\\n\"576\",22482,\"RTP\",\"Ordinario\",\"Lunes\",\"18-01-2021\",1309,53290,54599\\n\"577\",22483,\"RTP\",\"Expreso\",\"Lunes\",\"18-01-2021\",1121,20248,21369\\n\"578\",22484,\"RTP\",\"Atenea\",\"Lunes\",\"18-01-2021\",NA,10525,10525\\n\"579\",22485,\"RTP\",\"Ecobús\",\"Lunes\",\"18-01-2021\",1432,16384,17816\\n\"580\",22486,\"RTP\",\"Nocturno\",\"Lunes\",\"18-01-2021\",3,245,248\\n\"581\",22487,\"RTP\",\"Eco Atenea\",\"Lunes\",\"18-01-2021\",NA,51,51\\n\"582\",22488,\"RTP\",\"Expreso Directo\",\"Lunes\",\"18-01-2021\",89,698,787\\n\"583\",22489,\"RTP\",\"Temporal Peñón-Panteón San Isidro-Metro Camarones\",\"Lunes\",\"18-01-2021\",37,500,537\\n\"584\",26273,\"RTP\",\"SEFI Metro\",\"Lunes\",\"18-01-2021\",2451,97880,100331\\n\"585\",22490,\"RTP\",\"Ordinario\",\"Martes\",\"19-01-2021\",1361,49074,50435\\n\"586\",22491,\"RTP\",\"Expreso\",\"Martes\",\"19-01-2021\",1636,24480,26116\\n\"587\",22492,\"RTP\",\"Atenea\",\"Martes\",\"19-01-2021\",NA,11894,11894\\n\"588\",22493,\"RTP\",\"Ecobús\",\"Martes\",\"19-01-2021\",1369,16041,17410\\n\"589\",22494,\"RTP\",\"Nocturno\",\"Martes\",\"19-01-2021\",13,341,354\\n\"590\",22495,\"RTP\",\"Eco Atenea\",\"Martes\",\"19-01-2021\",NA,225,225\\n\"591\",22496,\"RTP\",\"Expreso Directo\",\"Martes\",\"19-01-2021\",97,830,927\\n\"592\",22497,\"RTP\",\"Temporal Peñón-Panteón San Isidro-Metro Camarones\",\"Martes\",\"19-01-2021\",37,1176,1213\\n\"593\",26274,\"RTP\",\"SEFI Metro\",\"Martes\",\"19-01-2021\",3157,99089,102246\\n\"594\",22498,\"RTP\",\"Ordinario\",\"Miércoles\",\"20-01-2021\",1571,52038,53609\\n\"595\",22499,\"RTP\",\"Expreso\",\"Miércoles\",\"20-01-2021\",1597,22905,24502\\n\"596\",22500,\"RTP\",\"Atenea\",\"Miércoles\",\"20-01-2021\",NA,11732,11732\\n\"597\",22501,\"RTP\",\"Ecobús\",\"Miércoles\",\"20-01-2021\",1307,15215,16522\\n\"598\",22502,\"RTP\",\"Nocturno\",\"Miércoles\",\"20-01-2021\",4,326,330\\n\"599\",22503,\"RTP\",\"Eco Atenea\",\"Miércoles\",\"20-01-2021\",NA,593,593\\n\"600\",22504,\"RTP\",\"Expreso Directo\",\"Miércoles\",\"20-01-2021\",102,809,911\\n\"601\",22505,\"RTP\",\"Temporal Peñón-Panteón San Isidro-Metro Camarones\",\"Miércoles\",\"20-01-2021\",62,890,952\\n\"602\",26275,\"RTP\",\"SEFI Metro\",\"Miércoles\",\"20-01-2021\",3400,97377,100777\\n\"603\",22506,\"RTP\",\"Ordinario\",\"Jueves\",\"21-01-2021\",1716,55647,57363\\n\"604\",22507,\"RTP\",\"Expreso\",\"Jueves\",\"21-01-2021\",1675,23091,24766\\n\"605\",22508,\"RTP\",\"Atenea\",\"Jueves\",\"21-01-2021\",NA,13440,13440\\n\"606\",22509,\"RTP\",\"Ecobús\",\"Jueves\",\"21-01-2021\",1483,16435,17918\\n\"607\",22510,\"RTP\",\"Nocturno\",\"Jueves\",\"21-01-2021\",10,353,363\\n\"608\",22511,\"RTP\",\"Eco Atenea\",\"Jueves\",\"21-01-2021\",NA,448,448\\n\"609\",22512,\"RTP\",\"Expreso Directo\",\"Jueves\",\"21-01-2021\",98,767,865\\n\"610\",22513,\"RTP\",\"Temporal Peñón-Panteón San Isidro-Metro Camarones\",\"Jueves\",\"21-01-2021\",22,393,415\\n\"611\",26276,\"RTP\",\"SEFI Metro\",\"Jueves\",\"21-01-2021\",4023,100608,104631\\n\"612\",22514,\"RTP\",\"Ordinario\",\"Viernes\",\"22-01-2021\",1460,56203,57663\\n\"613\",22515,\"RTP\",\"Expreso\",\"Viernes\",\"22-01-2021\",1609,26995,28604\\n\"614\",22516,\"RTP\",\"Atenea\",\"Viernes\",\"22-01-2021\",NA,14260,14260\\n\"615\",22517,\"RTP\",\"Ecobús\",\"Viernes\",\"22-01-2021\",1302,17146,18448\\n\"616\",22518,\"RTP\",\"Nocturno\",\"Viernes\",\"22-01-2021\",9,295,304\\n\"617\",22519,\"RTP\",\"Eco Atenea\",\"Viernes\",\"22-01-2021\",NA,98,98\\n\"618\",22520,\"RTP\",\"Expreso Directo\",\"Viernes\",\"22-01-2021\",83,768,851\\n\"619\",22521,\"RTP\",\"Temporal Peñón-Panteón San Isidro-Metro Camarones\",\"Viernes\",\"22-01-2021\",71,826,897\\n\"620\",26277,\"RTP\",\"SEFI Metro\",\"Viernes\",\"22-01-2021\",4124,102787,106911\\n\"621\",22522,\"RTP\",\"Ordinario\",\"Sábado\",\"23-01-2021\",898,37307,38205\\n\"622\",22523,\"RTP\",\"Expreso\",\"Sábado\",\"23-01-2021\",915,17622,18537\\n\"623\",22524,\"RTP\",\"Atenea\",\"Sábado\",\"23-01-2021\",NA,2034,2034\\n\"624\",22525,\"RTP\",\"Ecobús\",\"Sábado\",\"23-01-2021\",699,11960,12659\\n\"625\",22526,\"RTP\",\"Nocturno\",\"Sábado\",\"23-01-2021\",4,315,319\\n\"626\",22527,\"RTP\",\"Eco Atenea\",\"Sábado\",\"23-01-2021\",NA,0,0\\n\"627\",22528,\"RTP\",\"Expreso Directo\",\"Sábado\",\"23-01-2021\",16,231,247\\n\"628\",22529,\"RTP\",\"Temporal Peñón-Panteón San Isidro-Metro Camarones\",\"Sábado\",\"23-01-2021\",22,454,476\\n\"629\",26278,\"RTP\",\"SEFI Metro\",\"Sábado\",\"23-01-2021\",2739,77078,79817\\n\"630\",22530,\"RTP\",\"Ordinario\",\"Domingo\",\"24-01-2021\",576,27713,28289\\n\"631\",22531,\"RTP\",\"Expreso\",\"Domingo\",\"24-01-2021\",518,13101,13619\\n\"632\",22532,\"RTP\",\"Atenea\",\"Domingo\",\"24-01-2021\",NA,955,955\\n\"633\",22533,\"RTP\",\"Ecobús\",\"Domingo\",\"24-01-2021\",682,6284,6966\\n\"634\",22534,\"RTP\",\"Nocturno\",\"Domingo\",\"24-01-2021\",4,289,293\\n\"635\",22535,\"RTP\",\"Eco Atenea\",\"Domingo\",\"24-01-2021\",NA,0,0\\n\"636\",22536,\"RTP\",\"Expreso Directo\",\"Domingo\",\"24-01-2021\",0,0,0\\n\"637\",22537,\"RTP\",\"Temporal Peñón-Panteón San Isidro-Metro Camarones\",\"Domingo\",\"24-01-2021\",38,638,676\\n\"638\",26279,\"RTP\",\"SEFI Metro\",\"Domingo\",\"24-01-2021\",2025,59217,61242\\n\"639\",22538,\"RTP\",\"Ordinario\",\"Lunes\",\"25-01-2021\",1449,54426,55875\\n\"640\",22539,\"RTP\",\"Expreso\",\"Lunes\",\"25-01-2021\",1688,26991,28679\\n\"641\",22540,\"RTP\",\"Atenea\",\"Lunes\",\"25-01-2021\",NA,14565,14565\\n\"642\",22541,\"RTP\",\"Ecobús\",\"Lunes\",\"25-01-2021\",1320,15004,16324\\n\"643\",22542,\"RTP\",\"Nocturno\",\"Lunes\",\"25-01-2021\",1,248,249\\n\"644\",22543,\"RTP\",\"Eco Atenea\",\"Lunes\",\"25-01-2021\",NA,249,249\\n\"645\",22544,\"RTP\",\"Expreso Directo\",\"Lunes\",\"25-01-2021\",86,836,922\\n\"646\",22545,\"RTP\",\"Temporal Peñón-Panteón San Isidro-Metro Camarones\",\"Lunes\",\"25-01-2021\",31,457,488\\n\"647\",26280,\"RTP\",\"SEFI Metro\",\"Lunes\",\"25-01-2021\",3770,84094,87864\\n\"648\",22546,\"RTP\",\"Ordinario\",\"Martes\",\"26-01-2021\",1760,59336,61096\\n\"649\",22547,\"RTP\",\"Expreso\",\"Martes\",\"26-01-2021\",2437,30173,32610\\n\"650\",22548,\"RTP\",\"Atenea\",\"Martes\",\"26-01-2021\",NA,13429,13429\\n\"651\",22549,\"RTP\",\"Ecobús\",\"Martes\",\"26-01-2021\",1543,15808,17351\\n\"652\",22550,\"RTP\",\"Nocturno\",\"Martes\",\"26-01-2021\",6,393,399\\n\"653\",22551,\"RTP\",\"Eco Atenea\",\"Martes\",\"26-01-2021\",NA,451,451\\n\"654\",22552,\"RTP\",\"Expreso Directo\",\"Martes\",\"26-01-2021\",110,783,893\\n\"655\",22553,\"RTP\",\"Temporal Peñón-Panteón San Isidro-Metro Camarones\",\"Martes\",\"26-01-2021\",42,870,912\\n\"656\",26281,\"RTP\",\"SEFI Metro\",\"Martes\",\"26-01-2021\",3745,77504,81249\\n\"657\",22554,\"RTP\",\"Ordinario\",\"Miércoles\",\"27-01-2021\",1903,59424,61327\\n\"658\",22555,\"RTP\",\"Expreso\",\"Miércoles\",\"27-01-2021\",2381,29820,32201\\n\"659\",22556,\"RTP\",\"Atenea\",\"Miércoles\",\"27-01-2021\",NA,13801,13801\\n\"660\",22557,\"RTP\",\"Ecobús\",\"Miércoles\",\"27-01-2021\",1679,16564,18243\\n\"661\",22558,\"RTP\",\"Nocturno\",\"Miércoles\",\"27-01-2021\",8,296,304\\n\"662\",22559,\"RTP\",\"Eco Atenea\",\"Miércoles\",\"27-01-2021\",NA,389,389\\n\"663\",22560,\"RTP\",\"Expreso Directo\",\"Miércoles\",\"27-01-2021\",124,783,907\\n\"664\",22561,\"RTP\",\"Temporal Peñón-Panteón San Isidro-Metro Camarones\",\"Miércoles\",\"27-01-2021\",53,880,933\\n\"665\",26282,\"RTP\",\"SEFI Metro\",\"Miércoles\",\"27-01-2021\",3836,75562,79398\\n\"666\",22562,\"RTP\",\"Ordinario\",\"Jueves\",\"28-01-2021\",1923,63527,65450\\n\"667\",22563,\"RTP\",\"Expreso\",\"Jueves\",\"28-01-2021\",2198,30153,32351\\n\"668\",22564,\"RTP\",\"Atenea\",\"Jueves\",\"28-01-2021\",NA,13909,13909\\n\"669\",22565,\"RTP\",\"Ecobús\",\"Jueves\",\"28-01-2021\",1616,16693,18309\\n\"670\",22566,\"RTP\",\"Nocturno\",\"Jueves\",\"28-01-2021\",6,295,301\\n\"671\",22567,\"RTP\",\"Eco Atenea\",\"Jueves\",\"28-01-2021\",NA,503,503\\n\"672\",22568,\"RTP\",\"Expreso Directo\",\"Jueves\",\"28-01-2021\",96,789,885\\n\"673\",22569,\"RTP\",\"Temporal Peñón-Panteón San Isidro-Metro Camarones\",\"Jueves\",\"28-01-2021\",52,837,889\\n\"674\",26283,\"RTP\",\"SEFI Metro\",\"Jueves\",\"28-01-2021\",3935,76011,79946\\n\"675\",22570,\"RTP\",\"Ordinario\",\"Viernes\",\"29-01-2021\",1894,66697,68591\\n\"676\",22571,\"RTP\",\"Expreso\",\"Viernes\",\"29-01-2021\",2222,30727,32949\\n\"677\",22572,\"RTP\",\"Atenea\",\"Viernes\",\"29-01-2021\",NA,12598,12598\\n\"678\",22573,\"RTP\",\"Ecobús\",\"Viernes\",\"29-01-2021\",1519,15936,17455\\n\"679\",22574,\"RTP\",\"Nocturno\",\"Viernes\",\"29-01-2021\",8,291,299\\n\"680\",22575,\"RTP\",\"Eco Atenea\",\"Viernes\",\"29-01-2021\",NA,605,605\\n\"681\",22576,\"RTP\",\"Expreso Directo\",\"Viernes\",\"29-01-2021\",74,815,889\\n\"682\",22577,\"RTP\",\"Temporal Peñón-Panteón San Isidro-Metro Camarones\",\"Viernes\",\"29-01-2021\",60,939,999\\n\"683\",26284,\"RTP\",\"SEFI Metro\",\"Viernes\",\"29-01-2021\",3930,84161,88091\\n\"684\",22578,\"RTP\",\"Ordinario\",\"Sábado\",\"30-01-2021\",1325,42298,43623\\n\"685\",22579,\"RTP\",\"Expreso\",\"Sábado\",\"30-01-2021\",868,20301,21169\\n\"686\",22580,\"RTP\",\"Atenea\",\"Sábado\",\"30-01-2021\",NA,2384,2384\\n\"687\",22581,\"RTP\",\"Ecobús\",\"Sábado\",\"30-01-2021\",789,11947,12736\\n\"688\",22582,\"RTP\",\"Nocturno\",\"Sábado\",\"30-01-2021\",6,314,320\\n\"689\",22583,\"RTP\",\"Eco Atenea\",\"Sábado\",\"30-01-2021\",NA,0,0\\n\"690\",22584,\"RTP\",\"Expreso Directo\",\"Sábado\",\"30-01-2021\",9,246,255\\n\"691\",22585,\"RTP\",\"Temporal Peñón-Panteón San Isidro-Metro Camarones\",\"Sábado\",\"30-01-2021\",20,396,416\\n\"692\",26285,\"RTP\",\"SEFI Metro\",\"Sábado\",\"30-01-2021\",2907,68243,71150\\n\"693\",22586,\"RTP\",\"Ordinario\",\"Domingo\",\"31-01-2021\",829,31820,32649\\n\"694\",22587,\"RTP\",\"Expreso\",\"Domingo\",\"31-01-2021\",716,16030,16746\\n\"695\",22588,\"RTP\",\"Atenea\",\"Domingo\",\"31-01-2021\",NA,919,919\\n\"696\",22589,\"RTP\",\"Ecobús\",\"Domingo\",\"31-01-2021\",660,7658,8318\\n\"697\",22590,\"RTP\",\"Nocturno\",\"Domingo\",\"31-01-2021\",11,360,371\\n\"698\",22591,\"RTP\",\"Eco Atenea\",\"Domingo\",\"31-01-2021\",NA,0,0\\n\"699\",22592,\"RTP\",\"Expreso Directo\",\"Domingo\",\"31-01-2021\",0,0,0\\n\"700\",22593,\"RTP\",\"Temporal Peñón-Panteón San Isidro-Metro Camarones\",\"Domingo\",\"31-01-2021\",11,334,345\\n\"701\",26286,\"RTP\",\"SEFI Metro\",\"Domingo\",\"31-01-2021\",2090,47943,50033\\n\"702\",22594,\"RTP\",\"Ordinario\",\"Lunes\",\"01-02-2021\",1325,51871,53196\\n\"703\",22595,\"RTP\",\"Expreso\",\"Lunes\",\"01-02-2021\",1273,22635,23908\\n\"704\",22596,\"RTP\",\"Atenea\",\"Lunes\",\"01-02-2021\",NA,3551,3551\\n\"705\",22597,\"RTP\",\"Ecobús\",\"Lunes\",\"01-02-2021\",653,9999,10652\\n\"706\",22598,\"RTP\",\"Nocturno\",\"Lunes\",\"01-02-2021\",5,221,226\\n\"707\",22599,\"RTP\",\"Eco Atenea\",\"Lunes\",\"01-02-2021\",NA,0,0\\n\"708\",22600,\"RTP\",\"Expreso Directo\",\"Lunes\",\"01-02-2021\",7,166,173\\n\"709\",22601,\"RTP\",\"Temporal Peñón-Panteón San Isidro-Metro Camarones\",\"Lunes\",\"01-02-2021\",40,897,937\\n\"710\",26287,\"RTP\",\"SEFI Metro\",\"Lunes\",\"01-02-2021\",1597,39853,41450\\n\"711\",22602,\"RTP\",\"Ordinario\",\"Martes\",\"02-02-2021\",2070,70679,72749\\n\"712\",22603,\"RTP\",\"Expreso\",\"Martes\",\"02-02-2021\",2799,35432,38231\\n\"713\",22604,\"RTP\",\"Atenea\",\"Martes\",\"02-02-2021\",NA,12100,12100\\n\"714\",22605,\"RTP\",\"Ecobús\",\"Martes\",\"02-02-2021\",1265,17796,19061\\n\"715\",22606,\"RTP\",\"Nocturno\",\"Martes\",\"02-02-2021\",8,355,363\\n\"716\",22607,\"RTP\",\"Eco Atenea\",\"Martes\",\"02-02-2021\",NA,407,407\\n\"717\",22608,\"RTP\",\"Expreso Directo\",\"Martes\",\"02-02-2021\",103,842,945\\n\"718\",22609,\"RTP\",\"Temporal Peñón-Panteón San Isidro-Metro Camarones\",\"Martes\",\"02-02-2021\",53,802,855\\n\"719\",26288,\"RTP\",\"SEFI Metro\",\"Martes\",\"02-02-2021\",2204,57595,59799\\n\"720\",22610,\"RTP\",\"Ordinario\",\"Miércoles\",\"03-02-2021\",2220,73646,75866\\n\"721\",22611,\"RTP\",\"Expreso\",\"Miércoles\",\"03-02-2021\",3007,33811,36818\\n\"722\",22612,\"RTP\",\"Atenea\",\"Miércoles\",\"03-02-2021\",NA,10747,10747\\n\"723\",22613,\"RTP\",\"Ecobús\",\"Miércoles\",\"03-02-2021\",1554,17360,18914\\n\"724\",22614,\"RTP\",\"Nocturno\",\"Miércoles\",\"03-02-2021\",10,316,326\\n\"725\",22615,\"RTP\",\"Eco Atenea\",\"Miércoles\",\"03-02-2021\",NA,362,362\\n\"726\",22616,\"RTP\",\"Expreso Directo\",\"Miércoles\",\"03-02-2021\",90,835,925\\n\"727\",22617,\"RTP\",\"Temporal Peñón-Panteón San Isidro-Metro Camarones\",\"Miércoles\",\"03-02-2021\",52,1100,1152\\n\"728\",26289,\"RTP\",\"SEFI Metro\",\"Miércoles\",\"03-02-2021\",2384,52635,55019\\n\"729\",22618,\"RTP\",\"Ordinario\",\"Jueves\",\"04-02-2021\",2321,70384,72705\\n\"730\",22619,\"RTP\",\"Expreso\",\"Jueves\",\"04-02-2021\",3033,33593,36626\\n\"731\",22620,\"RTP\",\"Atenea\",\"Jueves\",\"04-02-2021\",NA,12031,12031\\n\"732\",22621,\"RTP\",\"Ecobús\",\"Jueves\",\"04-02-2021\",1663,16559,18222\\n\"733\",22622,\"RTP\",\"Nocturno\",\"Jueves\",\"04-02-2021\",16,336,352\\n\"734\",22623,\"RTP\",\"Eco Atenea\",\"Jueves\",\"04-02-2021\",NA,312,312\\n\"735\",22624,\"RTP\",\"Expreso Directo\",\"Jueves\",\"04-02-2021\",90,848,938\\n\"736\",22625,\"RTP\",\"Temporal Peñón-Panteón San Isidro-Metro Camarones\",\"Jueves\",\"04-02-2021\",28,948,976\\n\"737\",26290,\"RTP\",\"SEFI Metro\",\"Jueves\",\"04-02-2021\",2813,55100,57913\\n\"738\",22626,\"RTP\",\"Ordinario\",\"Viernes\",\"05-02-2021\",2017,63906,65923\\n\"739\",22627,\"RTP\",\"Expreso\",\"Viernes\",\"05-02-2021\",3046,32314,35360\\n\"740\",22628,\"RTP\",\"Atenea\",\"Viernes\",\"05-02-2021\",NA,9128,9128\\n\"741\",22629,\"RTP\",\"Ecobús\",\"Viernes\",\"05-02-2021\",1505,19057,20562\\n\"742\",22630,\"RTP\",\"Nocturno\",\"Viernes\",\"05-02-2021\",15,381,396\\n\"743\",22631,\"RTP\",\"Eco Atenea\",\"Viernes\",\"05-02-2021\",NA,170,170\\n\"744\",22632,\"RTP\",\"Expreso Directo\",\"Viernes\",\"05-02-2021\",118,800,918\\n\"745\",22633,\"RTP\",\"Temporal Peñón-Panteón San Isidro-Metro Camarones\",\"Viernes\",\"05-02-2021\",64,1036,1100\\n\"746\",26291,\"RTP\",\"SEFI Metro\",\"Viernes\",\"05-02-2021\",2574,49032,51606\\n\"747\",22634,\"RTP\",\"Ordinario\",\"Sábado\",\"06-02-2021\",1269,42037,43306\\n\"748\",22635,\"RTP\",\"Expreso\",\"Sábado\",\"06-02-2021\",1581,21514,23095\\n\"749\",22636,\"RTP\",\"Atenea\",\"Sábado\",\"06-02-2021\",NA,3995,3995\\n\"750\",22637,\"RTP\",\"Ecobús\",\"Sábado\",\"06-02-2021\",670,12017,12687\\n\"751\",22638,\"RTP\",\"Nocturno\",\"Sábado\",\"06-02-2021\",17,370,387\\n\"752\",22639,\"RTP\",\"Eco Atenea\",\"Sábado\",\"06-02-2021\",NA,0,0\\n\"753\",22640,\"RTP\",\"Expreso Directo\",\"Sábado\",\"06-02-2021\",19,243,262\\n\"754\",22641,\"RTP\",\"Temporal Peñón-Panteón San Isidro-Metro Camarones\",\"Sábado\",\"06-02-2021\",28,699,727\\n\"755\",26292,\"RTP\",\"SEFI Metro\",\"Sábado\",\"06-02-2021\",1344,38319,39663\\n\"756\",22642,\"RTP\",\"Ordinario\",\"Domingo\",\"07-02-2021\",883,33753,34636\\n\"757\",22643,\"RTP\",\"Expreso\",\"Domingo\",\"07-02-2021\",953,16983,17936\\n\"758\",22644,\"RTP\",\"Atenea\",\"Domingo\",\"07-02-2021\",0,2336,2336\\n\"759\",22645,\"RTP\",\"Ecobús\",\"Domingo\",\"07-02-2021\",423,10119,10542\\n\"760\",22646,\"RTP\",\"Nocturno\",\"Domingo\",\"07-02-2021\",8,322,330\\n\"761\",22647,\"RTP\",\"Eco Atenea\",\"Domingo\",\"07-02-2021\",0,0,0\\n\"762\",22648,\"RTP\",\"Expreso Directo\",\"Domingo\",\"07-02-2021\",0,0,0\\n\"763\",22649,\"RTP\",\"Temporal Peñón-Panteón San Isidro-Metro Camarones\",\"Domingo\",\"07-02-2021\",15,493,508\\n\"764\",26293,\"RTP\",\"SEFI Metro\",\"Domingo\",\"07-02-2021\",869,22172,23041\\n\"765\",22650,\"RTP\",\"Ordinario\",\"Lunes\",\"08-02-2021\",1996,82598,84594\\n\"766\",22651,\"RTP\",\"Expreso\",\"Lunes\",\"08-02-2021\",2987,36183,39170\\n\"767\",22652,\"RTP\",\"Atenea\",\"Lunes\",\"08-02-2021\",NA,15450,15450\\n\"768\",22653,\"RTP\",\"Ecobús\",\"Lunes\",\"08-02-2021\",1565,17779,19344\\n\"769\",22654,\"RTP\",\"Nocturno\",\"Lunes\",\"08-02-2021\",7,254,261\\n\"770\",22655,\"RTP\",\"Eco Atenea\",\"Lunes\",\"08-02-2021\",NA,1121,1121\\n\"771\",22656,\"RTP\",\"Expreso Directo\",\"Lunes\",\"08-02-2021\",79,832,911\\n\"772\",22657,\"RTP\",\"Temporal Peñón-Panteón San Isidro-Metro Camarones\",\"Lunes\",\"08-02-2021\",59,830,889\\n\"773\",26294,\"RTP\",\"SEFI Metro\",\"Lunes\",\"08-02-2021\",480,12803,13283\\n\"774\",22658,\"RTP\",\"Ordinario\",\"Martes\",\"09-02-2021\",2196,80961,83157\\n\"775\",22659,\"RTP\",\"Expreso\",\"Martes\",\"09-02-2021\",3470,40813,44283\\n\"776\",22660,\"RTP\",\"Atenea\",\"Martes\",\"09-02-2021\",NA,13688,13688\\n\"777\",22661,\"RTP\",\"Ecobús\",\"Martes\",\"09-02-2021\",1940,17832,19772\\n\"778\",22662,\"RTP\",\"Nocturno\",\"Martes\",\"09-02-2021\",16,357,373\\n\"779\",22663,\"RTP\",\"Eco Atenea\",\"Martes\",\"09-02-2021\",NA,863,863\\n\"780\",22664,\"RTP\",\"Expreso Directo\",\"Martes\",\"09-02-2021\",124,812,936\\n\"781\",22665,\"RTP\",\"Temporal Peñón-Panteón San Isidro-Metro Camarones\",\"Martes\",\"09-02-2021\",45,881,926\\n\"782\",26295,\"RTP\",\"SEFI Metro\",\"Martes\",\"09-02-2021\",358,7275,7633\\n\"783\",22666,\"RTP\",\"Ordinario\",\"Miércoles\",\"10-02-2021\",2172,84325,86497\\n\"784\",22667,\"RTP\",\"Expreso\",\"Miércoles\",\"10-02-2021\",4076,47467,51543\\n\"785\",22668,\"RTP\",\"Atenea\",\"Miércoles\",\"10-02-2021\",NA,13563,13563\\n\"786\",22669,\"RTP\",\"Ecobús\",\"Miércoles\",\"10-02-2021\",2124,18529,20653\\n\"787\",22670,\"RTP\",\"Nocturno\",\"Miércoles\",\"10-02-2021\",7,372,379\\n\"788\",22671,\"RTP\",\"Eco Atenea\",\"Miércoles\",\"10-02-2021\",NA,151,151\\n\"789\",22672,\"RTP\",\"Expreso Directo\",\"Miércoles\",\"10-02-2021\",107,835,942\\n\"790\",22673,\"RTP\",\"Temporal Peñón-Panteón San Isidro-Metro Camarones\",\"Miércoles\",\"10-02-2021\",38,1394,1432\\n\"791\",26296,\"RTP\",\"SEFI Metro\",\"Miércoles\",\"10-02-2021\",225,5119,5344\\n\"792\",22674,\"RTP\",\"Ordinario\",\"Jueves\",\"11-02-2021\",2417,86782,89199\\n\"793\",22675,\"RTP\",\"Expreso\",\"Jueves\",\"11-02-2021\",4187,48365,52552\\n\"794\",22676,\"RTP\",\"Atenea\",\"Jueves\",\"11-02-2021\",NA,11745,11745\\n\"795\",22677,\"RTP\",\"Ecobús\",\"Jueves\",\"11-02-2021\",2030,18828,20858\\n\"796\",22678,\"RTP\",\"Nocturno\",\"Jueves\",\"11-02-2021\",14,368,382\\n\"797\",22679,\"RTP\",\"Eco Atenea\",\"Jueves\",\"11-02-2021\",NA,108,108\\n\"798\",22680,\"RTP\",\"Expreso Directo\",\"Jueves\",\"11-02-2021\",115,810,925\\n\"799\",22681,\"RTP\",\"Temporal Peñón-Panteón San Isidro-Metro Camarones\",\"Jueves\",\"11-02-2021\",69,1271,1340\\n\"800\",26297,\"RTP\",\"SEFI Metro\",\"Jueves\",\"11-02-2021\",206,3525,3731\\n\"801\",22682,\"RTP\",\"Ordinario\",\"Viernes\",\"12-02-2021\",2480,93301,95781\\n\"802\",22683,\"RTP\",\"Expreso\",\"Viernes\",\"12-02-2021\",4164,48674,52838\\n\"803\",22684,\"RTP\",\"Atenea\",\"Viernes\",\"12-02-2021\",NA,12592,12592\\n\"804\",22685,\"RTP\",\"Ecobús\",\"Viernes\",\"12-02-2021\",1953,19558,21511\\n\"805\",22686,\"RTP\",\"Nocturno\",\"Viernes\",\"12-02-2021\",13,345,358\\n\"806\",22687,\"RTP\",\"Eco Atenea\",\"Viernes\",\"12-02-2021\",NA,215,215\\n\"807\",22688,\"RTP\",\"Expreso Directo\",\"Viernes\",\"12-02-2021\",97,806,903\\n\"808\",22689,\"RTP\",\"Temporal Peñón-Panteón San Isidro-Metro Camarones\",\"Viernes\",\"12-02-2021\",93,2180,2273\\n\"809\",26298,\"RTP\",\"SEFI Metro\",\"Viernes\",\"12-02-2021\",1,1699,1700\\n\"810\",22690,\"RTP\",\"Ordinario\",\"Sábado\",\"13-02-2021\",1628,67044,68672\\n\"811\",22691,\"RTP\",\"Expreso\",\"Sábado\",\"13-02-2021\",2326,34481,36807\\n\"812\",22692,\"RTP\",\"Atenea\",\"Sábado\",\"13-02-2021\",NA,1386,1386\\n\"813\",22693,\"RTP\",\"Ecobús\",\"Sábado\",\"13-02-2021\",1171,13634,14805\\n\"814\",22694,\"RTP\",\"Nocturno\",\"Sábado\",\"13-02-2021\",4,371,375\\n\"815\",22695,\"RTP\",\"Eco Atenea\",\"Sábado\",\"13-02-2021\",NA,NA,NA\\n\"816\",22696,\"RTP\",\"Expreso Directo\",\"Sábado\",\"13-02-2021\",11,256,267\\n\"817\",22697,\"RTP\",\"Temporal Peñón-Panteón San Isidro-Metro Camarones\",\"Sábado\",\"13-02-2021\",58,1032,1090\\n\"818\",22698,\"RTP\",\"Ordinario\",\"Domingo\",\"14-02-2021\",934,44019,44953\\n\"819\",22699,\"RTP\",\"Expreso\",\"Domingo\",\"14-02-2021\",1370,24393,25763\\n\"820\",22700,\"RTP\",\"Atenea\",\"Domingo\",\"14-02-2021\",NA,NA,NA\\n\"821\",22701,\"RTP\",\"Ecobús\",\"Domingo\",\"14-02-2021\",840,8469,9309\\n\"822\",22702,\"RTP\",\"Nocturno\",\"Domingo\",\"14-02-2021\",7,312,319\\n\"823\",22703,\"RTP\",\"Eco Atenea\",\"Domingo\",\"14-02-2021\",NA,0,0\\n\"824\",22704,\"RTP\",\"Expreso Directo\",\"Domingo\",\"14-02-2021\",0,0,0\\n\"825\",22705,\"RTP\",\"Temporal Peñón-Panteón San Isidro-Metro Camarones\",\"Domingo\",\"14-02-2021\",34,1011,1045\\n\"826\",22706,\"RTP\",\"Ordinario\",\"Lunes\",\"15-02-2021\",2184,92026,94210\\n\"827\",22707,\"RTP\",\"Expreso\",\"Lunes\",\"15-02-2021\",4002,49600,53602\\n\"828\",22708,\"RTP\",\"Atenea\",\"Lunes\",\"15-02-2021\",NA,9232,9232\\n\"829\",22709,\"RTP\",\"Ecobús\",\"Lunes\",\"15-02-2021\",1783,19237,21020\\n\"830\",22710,\"RTP\",\"Nocturno\",\"Lunes\",\"15-02-2021\",11,298,309\\n\"831\",22711,\"RTP\",\"Eco Atenea\",\"Lunes\",\"15-02-2021\",NA,296,296\\n\"832\",22712,\"RTP\",\"Expreso Directo\",\"Lunes\",\"15-02-2021\",100,837,937\\n\"833\",22713,\"RTP\",\"Temporal Peñón-Panteón San Isidro-Metro Camarones\",\"Lunes\",\"15-02-2021\",68,1194,1262\\n\"834\",27011,\"RTP\",\"Temporal Zaragoza-Tacuba\",\"Lunes\",\"15-02-2021\",26,1642,1668\\n\"835\",22714,\"RTP\",\"Ordinario\",\"Martes\",\"16-02-2021\",2379,91961,94340\\n\"836\",22715,\"RTP\",\"Expreso\",\"Martes\",\"16-02-2021\",4611,51286,55897\\n\"837\",22716,\"RTP\",\"Atenea\",\"Martes\",\"16-02-2021\",NA,12588,12588\\n\"838\",22717,\"RTP\",\"Ecobús\",\"Martes\",\"16-02-2021\",1956,19238,21194\\n\"839\",22718,\"RTP\",\"Nocturno\",\"Martes\",\"16-02-2021\",21,381,402\\n\"840\",22719,\"RTP\",\"Eco Atenea\",\"Martes\",\"16-02-2021\",NA,287,287\\n\"841\",22720,\"RTP\",\"Expreso Directo\",\"Martes\",\"16-02-2021\",136,862,998\\n\"842\",22721,\"RTP\",\"Temporal Peñón-Panteón San Isidro-Metro Camarones\",\"Martes\",\"16-02-2021\",117,1824,1941\\n\"843\",27012,\"RTP\",\"Temporal Zaragoza-Tacuba\",\"Martes\",\"16-02-2021\",16,1889,1905\\n\"844\",22722,\"RTP\",\"Ordinario\",\"Miércoles\",\"17-02-2021\",2497,95508,98005\\n\"845\",22723,\"RTP\",\"Expreso\",\"Miércoles\",\"17-02-2021\",4740,51144,55884\\n\"846\",22724,\"RTP\",\"Atenea\",\"Miércoles\",\"17-02-2021\",NA,12355,12355\\n\"847\",22725,\"RTP\",\"Ecobús\",\"Miércoles\",\"17-02-2021\",1687,16429,18116\\n\"848\",22726,\"RTP\",\"Nocturno\",\"Miércoles\",\"17-02-2021\",23,356,379\\n\"849\",22727,\"RTP\",\"Eco Atenea\",\"Miércoles\",\"17-02-2021\",NA,300,300\\n\"850\",22728,\"RTP\",\"Expreso Directo\",\"Miércoles\",\"17-02-2021\",113,883,996\\n\"851\",22729,\"RTP\",\"Temporal Peñón-Panteón San Isidro-Metro Camarones\",\"Miércoles\",\"17-02-2021\",85,1628,1713\\n\"852\",27013,\"RTP\",\"Temporal Zaragoza-Tacuba\",\"Miércoles\",\"17-02-2021\",20,2464,2484\\n\"853\",22730,\"RTP\",\"Ordinario\",\"Jueves\",\"18-02-2021\",2452,88526,90978\\n\"854\",22731,\"RTP\",\"Expreso\",\"Jueves\",\"18-02-2021\",4866,51587,56453\\n\"855\",22732,\"RTP\",\"Atenea\",\"Jueves\",\"18-02-2021\",NA,13717,13717\\n\"856\",22733,\"RTP\",\"Ecobús\",\"Jueves\",\"18-02-2021\",1896,18814,20710\\n\"857\",22734,\"RTP\",\"Nocturno\",\"Jueves\",\"18-02-2021\",23,359,382\\n\"858\",22735,\"RTP\",\"Eco Atenea\",\"Jueves\",\"18-02-2021\",NA,190,190\\n\"859\",22736,\"RTP\",\"Expreso Directo\",\"Jueves\",\"18-02-2021\",125,860,985\\n\"860\",22737,\"RTP\",\"Temporal Peñón-Panteón San Isidro-Metro Camarones\",\"Jueves\",\"18-02-2021\",89,1504,1593\\n\"861\",27014,\"RTP\",\"Temporal Zaragoza-Tacuba\",\"Jueves\",\"18-02-2021\",12,2564,2576\\n\"862\",22738,\"RTP\",\"Ordinario\",\"Viernes\",\"19-02-2021\",2594,87872,90466\\n\"863\",22739,\"RTP\",\"Expreso\",\"Viernes\",\"19-02-2021\",4813,51678,56491\\n\"864\",22740,\"RTP\",\"Atenea\",\"Viernes\",\"19-02-2021\",NA,14089,14089\\n\"865\",22741,\"RTP\",\"Ecobús\",\"Viernes\",\"19-02-2021\",1819,18476,20295\\n\"866\",22742,\"RTP\",\"Nocturno\",\"Viernes\",\"19-02-2021\",18,415,433\\n\"867\",22743,\"RTP\",\"Eco Atenea\",\"Viernes\",\"19-02-2021\",NA,469,469\\n\"868\",22744,\"RTP\",\"Expreso Directo\",\"Viernes\",\"19-02-2021\",110,785,895\\n\"869\",22745,\"RTP\",\"Temporal Tlalpan-Xochimilco\",\"Viernes\",\"19-02-2021\",56,3932,3988\\n\"870\",27015,\"RTP\",\"Temporal Zaragoza-Tacuba\",\"Viernes\",\"19-02-2021\",15,2064,2079\\n\"871\",22746,\"RTP\",\"Ordinario\",\"Sábado\",\"20-02-2021\",1598,59020,60618\\n\"872\",22747,\"RTP\",\"Expreso\",\"Sábado\",\"20-02-2021\",2702,37428,40130\\n\"873\",22748,\"RTP\",\"Atenea\",\"Sábado\",\"20-02-2021\",NA,3373,3373\\n\"874\",22749,\"RTP\",\"Ecobús\",\"Sábado\",\"20-02-2021\",1043,13849,14892\\n\"875\",22750,\"RTP\",\"Nocturno\",\"Sábado\",\"20-02-2021\",22,511,533\\n\"876\",22751,\"RTP\",\"Eco Atenea\",\"Sábado\",\"20-02-2021\",NA,NA,NA\\n\"877\",22752,\"RTP\",\"Expreso Directo\",\"Sábado\",\"20-02-2021\",9,239,248\\n\"878\",22753,\"RTP\",\"Temporal Tlalpan-Xochimilco\",\"Sábado\",\"20-02-2021\",66,2872,2938\\n\"879\",27016,\"RTP\",\"Temporal Zaragoza-Tacuba\",\"Sábado\",\"20-02-2021\",23,1607,1630\\n\"880\",22754,\"RTP\",\"Ordinario\",\"Domingo\",\"21-02-2021\",1055,41757,42812\\n\"881\",22755,\"RTP\",\"Expreso\",\"Domingo\",\"21-02-2021\",1527,25996,27523\\n\"882\",22756,\"RTP\",\"Atenea\",\"Domingo\",\"21-02-2021\",NA,1010,1010\\n\"883\",22757,\"RTP\",\"Ecobús\",\"Domingo\",\"21-02-2021\",652,9109,9761\\n\"884\",22758,\"RTP\",\"Nocturno\",\"Domingo\",\"21-02-2021\",11,466,477\\n\"885\",22759,\"RTP\",\"Eco Atenea\",\"Domingo\",\"21-02-2021\",NA,0,0\\n\"886\",22760,\"RTP\",\"Expreso Directo\",\"Domingo\",\"21-02-2021\",0,0,0\\n\"887\",22761,\"RTP\",\"Temporal Tlalpan-Xochimilco\",\"Domingo\",\"21-02-2021\",37,1352,1389\\n\"888\",27017,\"RTP\",\"Temporal Zaragoza-Tacuba\",\"Domingo\",\"21-02-2021\",7,1353,1360\\n\"889\",22762,\"RTP\",\"Ordinario\",\"Lunes\",\"22-02-2021\",2400,90223,92623\\n\"890\",22763,\"RTP\",\"Expreso\",\"Lunes\",\"22-02-2021\",4859,55446,60305\\n\"891\",22764,\"RTP\",\"Atenea\",\"Lunes\",\"22-02-2021\",NA,10426,10426\\n\"892\",22765,\"RTP\",\"Ecobús\",\"Lunes\",\"22-02-2021\",1863,19074,20937\\n\"893\",22766,\"RTP\",\"Nocturno\",\"Lunes\",\"22-02-2021\",18,339,357\\n\"894\",22767,\"RTP\",\"Eco Atenea\",\"Lunes\",\"22-02-2021\",NA,0,0\\n\"895\",22768,\"RTP\",\"Expreso Directo\",\"Lunes\",\"22-02-2021\",96,791,887\\n\"896\",22769,\"RTP\",\"Temporal Tlalpan-Xochimilco\",\"Lunes\",\"22-02-2021\",55,2622,2677\\n\"897\",27018,\"RTP\",\"Temporal Zaragoza-Tacuba\",\"Lunes\",\"22-02-2021\",27,2524,2551\\n\"898\",22770,\"RTP\",\"Ordinario\",\"Martes\",\"23-02-2021\",NA,NA,NA\\n\"899\",22771,\"RTP\",\"Expreso\",\"Martes\",\"23-02-2021\",NA,NA,NA\\n\"900\",22772,\"RTP\",\"Atenea\",\"Martes\",\"23-02-2021\",NA,NA,NA\\n\"901\",22773,\"RTP\",\"Ecobús\",\"Martes\",\"23-02-2021\",NA,NA,NA\\n\"902\",22774,\"RTP\",\"Nocturno\",\"Martes\",\"23-02-2021\",NA,NA,NA\\n\"903\",22775,\"RTP\",\"Eco Atenea\",\"Martes\",\"23-02-2021\",NA,NA,NA\\n\"904\",22776,\"RTP\",\"Expreso Directo\",\"Martes\",\"23-02-2021\",NA,NA,NA\\n\"905\",22777,\"RTP\",\"Temporal Tlalpan-Xochimilco\",\"Martes\",\"23-02-2021\",NA,NA,NA\\n\"906\",27019,\"RTP\",\"Temporal Zaragoza-Tacuba\",\"Martes\",\"23-02-2021\",NA,NA,NA\\n\"907\",11370,\"STC\",\"L1\",\"Viernes\",\"01-01-2021\",NA,NA,127104\\n\"908\",11371,\"STC\",\"L2\",\"Viernes\",\"01-01-2021\",NA,NA,93035\\n\"909\",11372,\"STC\",\"L3\",\"Viernes\",\"01-01-2021\",NA,NA,88731\\n\"910\",11373,\"STC\",\"L4\",\"Viernes\",\"01-01-2021\",NA,NA,13716\\n\"911\",11374,\"STC\",\"L5\",\"Viernes\",\"01-01-2021\",NA,NA,53935\\n\"912\",11375,\"STC\",\"L6\",\"Viernes\",\"01-01-2021\",NA,NA,17077\\n\"913\",11376,\"STC\",\"L7\",\"Viernes\",\"01-01-2021\",NA,NA,30823\\n\"914\",11377,\"STC\",\"L8\",\"Viernes\",\"01-01-2021\",NA,NA,52027\\n\"915\",11378,\"STC\",\"L9\",\"Viernes\",\"01-01-2021\",NA,NA,45019\\n\"916\",11379,\"STC\",\"LA\",\"Viernes\",\"01-01-2021\",NA,NA,52495\\n\"917\",11380,\"STC\",\"LB\",\"Viernes\",\"01-01-2021\",NA,NA,84271\\n\"918\",11381,\"STC\",\"L12\",\"Viernes\",\"01-01-2021\",NA,NA,47636\\n\"919\",11382,\"STC\",\"L1\",\"Sábado\",\"02-01-2021\",NA,NA,241384\\n\"920\",11383,\"STC\",\"L2\",\"Sábado\",\"02-01-2021\",NA,NA,186900\\n\"921\",11384,\"STC\",\"L3\",\"Sábado\",\"02-01-2021\",NA,NA,144990\\n\"922\",11385,\"STC\",\"L4\",\"Sábado\",\"02-01-2021\",NA,NA,30788\\n\"923\",11386,\"STC\",\"L5\",\"Sábado\",\"02-01-2021\",NA,NA,99721\\n\"924\",11387,\"STC\",\"L6\",\"Sábado\",\"02-01-2021\",NA,NA,28901\\n\"925\",11388,\"STC\",\"L7\",\"Sábado\",\"02-01-2021\",NA,NA,53855\\n\"926\",11389,\"STC\",\"L8\",\"Sábado\",\"02-01-2021\",NA,NA,115955\\n\"927\",11390,\"STC\",\"L9\",\"Sábado\",\"02-01-2021\",NA,NA,94394\\n\"928\",11391,\"STC\",\"LA\",\"Sábado\",\"02-01-2021\",NA,NA,158056\\n\"929\",11392,\"STC\",\"LB\",\"Sábado\",\"02-01-2021\",NA,NA,181641\\n\"930\",11393,\"STC\",\"L12\",\"Sábado\",\"02-01-2021\",NA,NA,118085\\n\"931\",11394,\"STC\",\"L1\",\"Domingo\",\"03-01-2021\",NA,NA,207809\\n\"932\",11395,\"STC\",\"L2\",\"Domingo\",\"03-01-2021\",NA,NA,179032\\n\"933\",11396,\"STC\",\"L3\",\"Domingo\",\"03-01-2021\",NA,NA,148175\\n\"934\",11397,\"STC\",\"L4\",\"Domingo\",\"03-01-2021\",NA,NA,22963\\n\"935\",11398,\"STC\",\"L5\",\"Domingo\",\"03-01-2021\",NA,NA,74509\\n\"936\",11399,\"STC\",\"L6\",\"Domingo\",\"03-01-2021\",NA,NA,26609\\n\"937\",11400,\"STC\",\"L7\",\"Domingo\",\"03-01-2021\",NA,NA,53479\\n\"938\",11401,\"STC\",\"L8\",\"Domingo\",\"03-01-2021\",NA,NA,88162\\n\"939\",11402,\"STC\",\"L9\",\"Domingo\",\"03-01-2021\",NA,NA,84040\\n\"940\",11403,\"STC\",\"LA\",\"Domingo\",\"03-01-2021\",NA,NA,91549\\n\"941\",11404,\"STC\",\"LB\",\"Domingo\",\"03-01-2021\",NA,NA,155990\\n\"942\",11405,\"STC\",\"L12\",\"Domingo\",\"03-01-2021\",NA,NA,89291\\n\"943\",11406,\"STC\",\"L1\",\"Lunes\",\"04-01-2021\",NA,NA,390591\\n\"944\",11407,\"STC\",\"L2\",\"Lunes\",\"04-01-2021\",NA,NA,292027\\n\"945\",11408,\"STC\",\"L3\",\"Lunes\",\"04-01-2021\",NA,NA,278789\\n\"946\",11409,\"STC\",\"L4\",\"Lunes\",\"04-01-2021\",NA,NA,33231\\n\"947\",11410,\"STC\",\"L5\",\"Lunes\",\"04-01-2021\",NA,NA,132150\\n\"948\",11411,\"STC\",\"L6\",\"Lunes\",\"04-01-2021\",NA,NA,52454\\n\"949\",11412,\"STC\",\"L7\",\"Lunes\",\"04-01-2021\",NA,NA,109613\\n\"950\",11413,\"STC\",\"L8\",\"Lunes\",\"04-01-2021\",NA,NA,186292\\n\"951\",11414,\"STC\",\"L9\",\"Lunes\",\"04-01-2021\",NA,NA,155710\\n\"952\",11415,\"STC\",\"LA\",\"Lunes\",\"04-01-2021\",NA,NA,197216\\n\"953\",11416,\"STC\",\"LB\",\"Lunes\",\"04-01-2021\",NA,NA,251991\\n\"954\",11417,\"STC\",\"L12\",\"Lunes\",\"04-01-2021\",NA,NA,197134\\n\"955\",11418,\"STC\",\"L1\",\"Martes\",\"05-01-2021\",NA,NA,364471\\n\"956\",11419,\"STC\",\"L2\",\"Martes\",\"05-01-2021\",NA,NA,316802\\n\"957\",11420,\"STC\",\"L3\",\"Martes\",\"05-01-2021\",NA,NA,279540\\n\"958\",11421,\"STC\",\"L4\",\"Martes\",\"05-01-2021\",NA,NA,51711\\n\"959\",11422,\"STC\",\"L5\",\"Martes\",\"05-01-2021\",NA,NA,125549\\n\"960\",11423,\"STC\",\"L6\",\"Martes\",\"05-01-2021\",NA,NA,57856\\n\"961\",11424,\"STC\",\"L7\",\"Martes\",\"05-01-2021\",NA,NA,137611\\n\"962\",11425,\"STC\",\"L8\",\"Martes\",\"05-01-2021\",NA,NA,192486\\n\"963\",11426,\"STC\",\"L9\",\"Martes\",\"05-01-2021\",NA,NA,165147\\n\"964\",11427,\"STC\",\"LA\",\"Martes\",\"05-01-2021\",NA,NA,208037\\n\"965\",11428,\"STC\",\"LB\",\"Martes\",\"05-01-2021\",NA,NA,240277\\n\"966\",11429,\"STC\",\"L12\",\"Martes\",\"05-01-2021\",NA,NA,166396\\n\"967\",11430,\"STC\",\"L1\",\"Miércoles\",\"06-01-2021\",NA,NA,316752\\n\"968\",11431,\"STC\",\"L2\",\"Miércoles\",\"06-01-2021\",NA,NA,281845\\n\"969\",11432,\"STC\",\"L3\",\"Miércoles\",\"06-01-2021\",NA,NA,266089\\n\"970\",11433,\"STC\",\"L4\",\"Miércoles\",\"06-01-2021\",NA,NA,34647\\n\"971\",11434,\"STC\",\"L5\",\"Miércoles\",\"06-01-2021\",NA,NA,149994\\n\"972\",11435,\"STC\",\"L6\",\"Miércoles\",\"06-01-2021\",NA,NA,55716\\n\"973\",11436,\"STC\",\"L7\",\"Miércoles\",\"06-01-2021\",NA,NA,114124\\n\"974\",11437,\"STC\",\"L8\",\"Miércoles\",\"06-01-2021\",NA,NA,169070\\n\"975\",11438,\"STC\",\"L9\",\"Miércoles\",\"06-01-2021\",NA,NA,153772\\n\"976\",11439,\"STC\",\"LA\",\"Miércoles\",\"06-01-2021\",NA,NA,165478\\n\"977\",11440,\"STC\",\"LB\",\"Miércoles\",\"06-01-2021\",NA,NA,195077\\n\"978\",11441,\"STC\",\"L12\",\"Miércoles\",\"06-01-2021\",NA,NA,145079\\n\"979\",11442,\"STC\",\"L1\",\"Jueves\",\"07-01-2021\",NA,NA,316043\\n\"980\",11443,\"STC\",\"L2\",\"Jueves\",\"07-01-2021\",NA,NA,268765\\n\"981\",11444,\"STC\",\"L3\",\"Jueves\",\"07-01-2021\",NA,NA,263430\\n\"982\",11445,\"STC\",\"L4\",\"Jueves\",\"07-01-2021\",NA,NA,39878\\n\"983\",11446,\"STC\",\"L5\",\"Jueves\",\"07-01-2021\",NA,NA,119608\\n\"984\",11447,\"STC\",\"L6\",\"Jueves\",\"07-01-2021\",NA,NA,56435\\n\"985\",11448,\"STC\",\"L7\",\"Jueves\",\"07-01-2021\",NA,NA,117570\\n\"986\",11449,\"STC\",\"L8\",\"Jueves\",\"07-01-2021\",NA,NA,162329\\n\"987\",11450,\"STC\",\"L9\",\"Jueves\",\"07-01-2021\",NA,NA,162731\\n\"988\",11451,\"STC\",\"LA\",\"Jueves\",\"07-01-2021\",NA,NA,200278\\n\"989\",11452,\"STC\",\"LB\",\"Jueves\",\"07-01-2021\",NA,NA,195724\\n\"990\",11453,\"STC\",\"L12\",\"Jueves\",\"07-01-2021\",NA,NA,172612\\n\"991\",11454,\"STC\",\"L1\",\"Viernes\",\"08-01-2021\",NA,NA,334010\\n\"992\",11455,\"STC\",\"L2\",\"Viernes\",\"08-01-2021\",NA,NA,295217\\n\"993\",11456,\"STC\",\"L3\",\"Viernes\",\"08-01-2021\",NA,NA,294798\\n\"994\",11457,\"STC\",\"L4\",\"Viernes\",\"08-01-2021\",NA,NA,41620\\n\"995\",11458,\"STC\",\"L5\",\"Viernes\",\"08-01-2021\",NA,NA,111869\\n\"996\",11459,\"STC\",\"L6\",\"Viernes\",\"08-01-2021\",NA,NA,55703\\n\"997\",11460,\"STC\",\"L7\",\"Viernes\",\"08-01-2021\",NA,NA,118681\\n\"998\",11461,\"STC\",\"L8\",\"Viernes\",\"08-01-2021\",NA,NA,160854\\n\"999\",11462,\"STC\",\"L9\",\"Viernes\",\"08-01-2021\",NA,NA,161161\\n\"1000\",11463,\"STC\",\"LA\",\"Viernes\",\"08-01-2021\",NA,NA,157357\\n\"1001\",11464,\"STC\",\"LB\",\"Viernes\",\"08-01-2021\",NA,NA,170716\\n\"1002\",11465,\"STC\",\"L12\",\"Viernes\",\"08-01-2021\",NA,NA,145356\\n\"1003\",11466,\"STC\",\"L1\",\"Sábado\",\"09-01-2021\",NA,NA,0\\n\"1004\",11467,\"STC\",\"L2\",\"Sábado\",\"09-01-2021\",NA,NA,0\\n\"1005\",11468,\"STC\",\"L3\",\"Sábado\",\"09-01-2021\",NA,NA,0\\n\"1006\",11469,\"STC\",\"L4\",\"Sábado\",\"09-01-2021\",NA,NA,0\\n\"1007\",11470,\"STC\",\"L5\",\"Sábado\",\"09-01-2021\",NA,NA,0\\n\"1008\",11471,\"STC\",\"L6\",\"Sábado\",\"09-01-2021\",NA,NA,0\\n\"1009\",11472,\"STC\",\"L7\",\"Sábado\",\"09-01-2021\",NA,NA,136746\\n\"1010\",11473,\"STC\",\"L8\",\"Sábado\",\"09-01-2021\",NA,NA,204752\\n\"1011\",11474,\"STC\",\"L9\",\"Sábado\",\"09-01-2021\",NA,NA,177107\\n\"1012\",11475,\"STC\",\"LA\",\"Sábado\",\"09-01-2021\",NA,NA,204629\\n\"1013\",11476,\"STC\",\"LB\",\"Sábado\",\"09-01-2021\",NA,NA,265294\\n\"1014\",11477,\"STC\",\"L12\",\"Sábado\",\"09-01-2021\",NA,NA,199871\\n\"1015\",11478,\"STC\",\"L1\",\"Domingo\",\"10-01-2021\",NA,NA,0\\n\"1016\",11479,\"STC\",\"L2\",\"Domingo\",\"10-01-2021\",NA,NA,0\\n\"1017\",11480,\"STC\",\"L3\",\"Domingo\",\"10-01-2021\",NA,NA,0\\n\"1018\",11481,\"STC\",\"L4\",\"Domingo\",\"10-01-2021\",NA,NA,0\\n\"1019\",11482,\"STC\",\"L5\",\"Domingo\",\"10-01-2021\",NA,NA,0\\n\"1020\",11483,\"STC\",\"L6\",\"Domingo\",\"10-01-2021\",NA,NA,0\\n\"1021\",11484,\"STC\",\"L7\",\"Domingo\",\"10-01-2021\",NA,NA,65324\\n\"1022\",11485,\"STC\",\"L8\",\"Domingo\",\"10-01-2021\",NA,NA,98310\\n\"1023\",11486,\"STC\",\"L9\",\"Domingo\",\"10-01-2021\",NA,NA,104523\\n\"1024\",11487,\"STC\",\"LA\",\"Domingo\",\"10-01-2021\",NA,NA,126656\\n\"1025\",11488,\"STC\",\"LB\",\"Domingo\",\"10-01-2021\",NA,NA,176342\\n\"1026\",11489,\"STC\",\"L12\",\"Domingo\",\"10-01-2021\",NA,NA,106716\\n\"1027\",11490,\"STC\",\"L1\",\"Lunes\",\"11-01-2021\",NA,NA,0\\n\"1028\",11491,\"STC\",\"L2\",\"Lunes\",\"11-01-2021\",NA,NA,0\\n\"1029\",11492,\"STC\",\"L3\",\"Lunes\",\"11-01-2021\",NA,NA,0\\n\"1030\",11493,\"STC\",\"L4\",\"Lunes\",\"11-01-2021\",NA,NA,0\\n\"1031\",11494,\"STC\",\"L5\",\"Lunes\",\"11-01-2021\",NA,NA,0\\n\"1032\",11495,\"STC\",\"L6\",\"Lunes\",\"11-01-2021\",NA,NA,0\\n\"1033\",11496,\"STC\",\"L7\",\"Lunes\",\"11-01-2021\",NA,NA,124258\\n\"1034\",11497,\"STC\",\"L8\",\"Lunes\",\"11-01-2021\",NA,NA,190750\\n\"1035\",11498,\"STC\",\"L9\",\"Lunes\",\"11-01-2021\",NA,NA,232624\\n\"1036\",11499,\"STC\",\"LA\",\"Lunes\",\"11-01-2021\",NA,NA,182296\\n\"1037\",11500,\"STC\",\"LB\",\"Lunes\",\"11-01-2021\",NA,NA,205949\\n\"1038\",11501,\"STC\",\"L12\",\"Lunes\",\"11-01-2021\",NA,NA,179448\\n\"1039\",11502,\"STC\",\"L1\",\"Martes\",\"12-01-2021\",NA,NA,0\\n\"1040\",11503,\"STC\",\"L2\",\"Martes\",\"12-01-2021\",NA,NA,0\\n\"1041\",11504,\"STC\",\"L3\",\"Martes\",\"12-01-2021\",NA,NA,0\\n\"1042\",11505,\"STC\",\"L4\",\"Martes\",\"12-01-2021\",NA,NA,36710\\n\"1043\",11506,\"STC\",\"L5\",\"Martes\",\"12-01-2021\",NA,NA,106139\\n\"1044\",11507,\"STC\",\"L6\",\"Martes\",\"12-01-2021\",NA,NA,50926\\n\"1045\",11508,\"STC\",\"L7\",\"Martes\",\"12-01-2021\",NA,NA,148858\\n\"1046\",11509,\"STC\",\"L8\",\"Martes\",\"12-01-2021\",NA,NA,188818\\n\"1047\",11510,\"STC\",\"L9\",\"Martes\",\"12-01-2021\",NA,NA,239710\\n\"1048\",11511,\"STC\",\"LA\",\"Martes\",\"12-01-2021\",NA,NA,181153\\n\"1049\",11512,\"STC\",\"LB\",\"Martes\",\"12-01-2021\",NA,NA,204127\\n\"1050\",11513,\"STC\",\"L12\",\"Martes\",\"12-01-2021\",NA,NA,177667\\n\"1051\",11514,\"STC\",\"L1\",\"Miércoles\",\"13-01-2021\",NA,NA,0\\n\"1052\",11515,\"STC\",\"L2\",\"Miércoles\",\"13-01-2021\",NA,NA,0\\n\"1053\",11516,\"STC\",\"L3\",\"Miércoles\",\"13-01-2021\",NA,NA,0\\n\"1054\",11517,\"STC\",\"L4\",\"Miércoles\",\"13-01-2021\",NA,NA,33051\\n\"1055\",11518,\"STC\",\"L5\",\"Miércoles\",\"13-01-2021\",NA,NA,95567\\n\"1056\",11519,\"STC\",\"L6\",\"Miércoles\",\"13-01-2021\",NA,NA,47699\\n\"1057\",11520,\"STC\",\"L7\",\"Miércoles\",\"13-01-2021\",NA,NA,141735\\n\"1058\",11521,\"STC\",\"L8\",\"Miércoles\",\"13-01-2021\",NA,NA,198611\\n\"1059\",11522,\"STC\",\"L9\",\"Miércoles\",\"13-01-2021\",NA,NA,235161\\n\"1060\",11523,\"STC\",\"LA\",\"Miércoles\",\"13-01-2021\",NA,NA,198026\\n\"1061\",11524,\"STC\",\"LB\",\"Miércoles\",\"13-01-2021\",NA,NA,216219\\n\"1062\",11525,\"STC\",\"L12\",\"Miércoles\",\"13-01-2021\",NA,NA,179624\\n\"1063\",11526,\"STC\",\"L1\",\"Jueves\",\"14-01-2021\",NA,NA,0\\n\"1064\",11527,\"STC\",\"L2\",\"Jueves\",\"14-01-2021\",NA,NA,0\\n\"1065\",11528,\"STC\",\"L3\",\"Jueves\",\"14-01-2021\",NA,NA,0\\n\"1066\",11529,\"STC\",\"L4\",\"Jueves\",\"14-01-2021\",NA,NA,35149\\n\"1067\",11530,\"STC\",\"L5\",\"Jueves\",\"14-01-2021\",NA,NA,107368\\n\"1068\",11531,\"STC\",\"L6\",\"Jueves\",\"14-01-2021\",NA,NA,48261\\n\"1069\",11532,\"STC\",\"L7\",\"Jueves\",\"14-01-2021\",NA,NA,134811\\n\"1070\",11533,\"STC\",\"L8\",\"Jueves\",\"14-01-2021\",NA,NA,197954\\n\"1071\",11534,\"STC\",\"L9\",\"Jueves\",\"14-01-2021\",NA,NA,247123\\n\"1072\",11535,\"STC\",\"LA\",\"Jueves\",\"14-01-2021\",NA,NA,182800\\n\"1073\",11536,\"STC\",\"LB\",\"Jueves\",\"14-01-2021\",NA,NA,212345\\n\"1074\",11537,\"STC\",\"L12\",\"Jueves\",\"14-01-2021\",NA,NA,167763\\n\"1075\",11538,\"STC\",\"L1\",\"Viernes\",\"15-01-2021\",NA,NA,0\\n\"1076\",11539,\"STC\",\"L2\",\"Viernes\",\"15-01-2021\",NA,NA,0\\n\"1077\",11540,\"STC\",\"L3\",\"Viernes\",\"15-01-2021\",NA,NA,0\\n\"1078\",11541,\"STC\",\"L4\",\"Viernes\",\"15-01-2021\",NA,NA,32615\\n\"1079\",11542,\"STC\",\"L5\",\"Viernes\",\"15-01-2021\",NA,NA,124760\\n\"1080\",11543,\"STC\",\"L6\",\"Viernes\",\"15-01-2021\",NA,NA,50363\\n\"1081\",11544,\"STC\",\"L7\",\"Viernes\",\"15-01-2021\",NA,NA,130931\\n\"1082\",11545,\"STC\",\"L8\",\"Viernes\",\"15-01-2021\",NA,NA,202503\\n\"1083\",11546,\"STC\",\"L9\",\"Viernes\",\"15-01-2021\",NA,NA,231185\\n\"1084\",11547,\"STC\",\"LA\",\"Viernes\",\"15-01-2021\",NA,NA,178299\\n\"1085\",11548,\"STC\",\"LB\",\"Viernes\",\"15-01-2021\",NA,NA,234615\\n\"1086\",11549,\"STC\",\"L12\",\"Viernes\",\"15-01-2021\",NA,NA,166232\\n\"1087\",11550,\"STC\",\"L1\",\"Sábado\",\"16-01-2021\",NA,NA,0\\n\"1088\",11551,\"STC\",\"L2\",\"Sábado\",\"16-01-2021\",NA,NA,0\\n\"1089\",11552,\"STC\",\"L3\",\"Sábado\",\"16-01-2021\",NA,NA,0\\n\"1090\",11553,\"STC\",\"L4\",\"Sábado\",\"16-01-2021\",NA,NA,40530\\n\"1091\",11554,\"STC\",\"L5\",\"Sábado\",\"16-01-2021\",NA,NA,89891\\n\"1092\",11555,\"STC\",\"L6\",\"Sábado\",\"16-01-2021\",NA,NA,45272\\n\"1093\",11556,\"STC\",\"L7\",\"Sábado\",\"16-01-2021\",NA,NA,113492\\n\"1094\",11557,\"STC\",\"L8\",\"Sábado\",\"16-01-2021\",NA,NA,183823\\n\"1095\",11558,\"STC\",\"L9\",\"Sábado\",\"16-01-2021\",NA,NA,208478\\n\"1096\",11559,\"STC\",\"LA\",\"Sábado\",\"16-01-2021\",NA,NA,148267\\n\"1097\",11560,\"STC\",\"LB\",\"Sábado\",\"16-01-2021\",NA,NA,221372\\n\"1098\",11561,\"STC\",\"L12\",\"Sábado\",\"16-01-2021\",NA,NA,157164\\n\"1099\",11562,\"STC\",\"L1\",\"Domingo\",\"17-01-2021\",NA,NA,0\\n\"1100\",11563,\"STC\",\"L2\",\"Domingo\",\"17-01-2021\",NA,NA,0\\n\"1101\",11564,\"STC\",\"L3\",\"Domingo\",\"17-01-2021\",NA,NA,0\\n\"1102\",11565,\"STC\",\"L4\",\"Domingo\",\"17-01-2021\",NA,NA,24852\\n\"1103\",11566,\"STC\",\"L5\",\"Domingo\",\"17-01-2021\",NA,NA,53959\\n\"1104\",11567,\"STC\",\"L6\",\"Domingo\",\"17-01-2021\",NA,NA,19107\\n\"1105\",11568,\"STC\",\"L7\",\"Domingo\",\"17-01-2021\",NA,NA,56438\\n\"1106\",11569,\"STC\",\"L8\",\"Domingo\",\"17-01-2021\",NA,NA,91235\\n\"1107\",11570,\"STC\",\"L9\",\"Domingo\",\"17-01-2021\",NA,NA,100709\\n\"1108\",11571,\"STC\",\"LA\",\"Domingo\",\"17-01-2021\",NA,NA,97222\\n\"1109\",11572,\"STC\",\"LB\",\"Domingo\",\"17-01-2021\",NA,NA,122288\\n\"1110\",11573,\"STC\",\"L12\",\"Domingo\",\"17-01-2021\",NA,NA,80161\\n\"1111\",11574,\"STC\",\"L1\",\"Lunes\",\"18-01-2021\",NA,NA,0\\n\"1112\",11575,\"STC\",\"L2\",\"Lunes\",\"18-01-2021\",NA,NA,0\\n\"1113\",11576,\"STC\",\"L3\",\"Lunes\",\"18-01-2021\",NA,NA,0\\n\"1114\",11577,\"STC\",\"L4\",\"Lunes\",\"18-01-2021\",NA,NA,36779\\n\"1115\",11578,\"STC\",\"L5\",\"Lunes\",\"18-01-2021\",NA,NA,114712\\n\"1116\",11579,\"STC\",\"L6\",\"Lunes\",\"18-01-2021\",NA,NA,47281\\n\"1117\",11580,\"STC\",\"L7\",\"Lunes\",\"18-01-2021\",NA,NA,130129\\n\"1118\",11581,\"STC\",\"L8\",\"Lunes\",\"18-01-2021\",NA,NA,201568\\n\"1119\",11582,\"STC\",\"L9\",\"Lunes\",\"18-01-2021\",NA,NA,194255\\n\"1120\",11583,\"STC\",\"LA\",\"Lunes\",\"18-01-2021\",NA,NA,189857\\n\"1121\",11584,\"STC\",\"LB\",\"Lunes\",\"18-01-2021\",NA,NA,223554\\n\"1122\",11585,\"STC\",\"L12\",\"Lunes\",\"18-01-2021\",NA,NA,170320\\n\"1123\",11586,\"STC\",\"L1\",\"Martes\",\"19-01-2021\",NA,NA,0\\n\"1124\",11587,\"STC\",\"L2\",\"Martes\",\"19-01-2021\",NA,NA,0\\n\"1125\",11588,\"STC\",\"L3\",\"Martes\",\"19-01-2021\",NA,NA,0\\n\"1126\",11589,\"STC\",\"L4\",\"Martes\",\"19-01-2021\",NA,NA,36566\\n\"1127\",11590,\"STC\",\"L5\",\"Martes\",\"19-01-2021\",NA,NA,104771\\n\"1128\",11591,\"STC\",\"L6\",\"Martes\",\"19-01-2021\",NA,NA,54864\\n\"1129\",11592,\"STC\",\"L7\",\"Martes\",\"19-01-2021\",NA,NA,155144\\n\"1130\",11593,\"STC\",\"L8\",\"Martes\",\"19-01-2021\",NA,NA,194573\\n\"1131\",11594,\"STC\",\"L9\",\"Martes\",\"19-01-2021\",NA,NA,251924\\n\"1132\",11595,\"STC\",\"LA\",\"Martes\",\"19-01-2021\",NA,NA,211442\\n\"1133\",11596,\"STC\",\"LB\",\"Martes\",\"19-01-2021\",NA,NA,207453\\n\"1134\",11597,\"STC\",\"L12\",\"Martes\",\"19-01-2021\",NA,NA,204162\\n\"1135\",11598,\"STC\",\"L1\",\"Miércoles\",\"20-01-2021\",NA,NA,0\\n\"1136\",11599,\"STC\",\"L2\",\"Miércoles\",\"20-01-2021\",NA,NA,0\\n\"1137\",11600,\"STC\",\"L3\",\"Miércoles\",\"20-01-2021\",NA,NA,0\\n\"1138\",11601,\"STC\",\"L4\",\"Miércoles\",\"20-01-2021\",NA,NA,40412\\n\"1139\",11602,\"STC\",\"L5\",\"Miércoles\",\"20-01-2021\",NA,NA,105862\\n\"1140\",11603,\"STC\",\"L6\",\"Miércoles\",\"20-01-2021\",NA,NA,53814\\n\"1141\",11604,\"STC\",\"L7\",\"Miércoles\",\"20-01-2021\",NA,NA,168638\\n\"1142\",11605,\"STC\",\"L8\",\"Miércoles\",\"20-01-2021\",NA,NA,210319\\n\"1143\",11606,\"STC\",\"L9\",\"Miércoles\",\"20-01-2021\",NA,NA,248064\\n\"1144\",11607,\"STC\",\"LA\",\"Miércoles\",\"20-01-2021\",NA,NA,214901\\n\"1145\",11608,\"STC\",\"LB\",\"Miércoles\",\"20-01-2021\",NA,NA,214888\\n\"1146\",11609,\"STC\",\"L12\",\"Miércoles\",\"20-01-2021\",NA,NA,199253\\n\"1147\",11610,\"STC\",\"L1\",\"Jueves\",\"21-01-2021\",NA,NA,0\\n\"1148\",11611,\"STC\",\"L2\",\"Jueves\",\"21-01-2021\",NA,NA,0\\n\"1149\",11612,\"STC\",\"L3\",\"Jueves\",\"21-01-2021\",NA,NA,0\\n\"1150\",11613,\"STC\",\"L4\",\"Jueves\",\"21-01-2021\",NA,NA,42462\\n\"1151\",11614,\"STC\",\"L5\",\"Jueves\",\"21-01-2021\",NA,NA,99718\\n\"1152\",11615,\"STC\",\"L6\",\"Jueves\",\"21-01-2021\",NA,NA,56587\\n\"1153\",11616,\"STC\",\"L7\",\"Jueves\",\"21-01-2021\",NA,NA,151373\\n\"1154\",11617,\"STC\",\"L8\",\"Jueves\",\"21-01-2021\",NA,NA,197118\\n\"1155\",11618,\"STC\",\"L9\",\"Jueves\",\"21-01-2021\",NA,NA,239384\\n\"1156\",11619,\"STC\",\"LA\",\"Jueves\",\"21-01-2021\",NA,NA,189978\\n\"1157\",11620,\"STC\",\"LB\",\"Jueves\",\"21-01-2021\",NA,NA,218451\\n\"1158\",11621,\"STC\",\"L12\",\"Jueves\",\"21-01-2021\",NA,NA,183675\\n\"1159\",11622,\"STC\",\"L1\",\"Viernes\",\"22-01-2021\",NA,NA,0\\n\"1160\",11623,\"STC\",\"L2\",\"Viernes\",\"22-01-2021\",NA,NA,0\\n\"1161\",11624,\"STC\",\"L3\",\"Viernes\",\"22-01-2021\",NA,NA,0\\n\"1162\",11625,\"STC\",\"L4\",\"Viernes\",\"22-01-2021\",NA,NA,45489\\n\"1163\",11626,\"STC\",\"L5\",\"Viernes\",\"22-01-2021\",NA,NA,107809\\n\"1164\",11627,\"STC\",\"L6\",\"Viernes\",\"22-01-2021\",NA,NA,56298\\n\"1165\",11628,\"STC\",\"L7\",\"Viernes\",\"22-01-2021\",NA,NA,148224\\n\"1166\",11629,\"STC\",\"L8\",\"Viernes\",\"22-01-2021\",NA,NA,220370\\n\"1167\",11630,\"STC\",\"L9\",\"Viernes\",\"22-01-2021\",NA,NA,256510\\n\"1168\",11631,\"STC\",\"LA\",\"Viernes\",\"22-01-2021\",NA,NA,168697\\n\"1169\",11632,\"STC\",\"LB\",\"Viernes\",\"22-01-2021\",NA,NA,226665\\n\"1170\",11633,\"STC\",\"L12\",\"Viernes\",\"22-01-2021\",NA,NA,158308\\n\"1171\",11634,\"STC\",\"L1\",\"Sábado\",\"23-01-2021\",NA,NA,0\\n\"1172\",11635,\"STC\",\"L2\",\"Sábado\",\"23-01-2021\",NA,NA,0\\n\"1173\",11636,\"STC\",\"L3\",\"Sábado\",\"23-01-2021\",NA,NA,0\\n\"1174\",11637,\"STC\",\"L4\",\"Sábado\",\"23-01-2021\",NA,NA,35712\\n\"1175\",11638,\"STC\",\"L5\",\"Sábado\",\"23-01-2021\",NA,NA,98442\\n\"1176\",11639,\"STC\",\"L6\",\"Sábado\",\"23-01-2021\",NA,NA,41637\\n\"1177\",11640,\"STC\",\"L7\",\"Sábado\",\"23-01-2021\",NA,NA,105149\\n\"1178\",11641,\"STC\",\"L8\",\"Sábado\",\"23-01-2021\",NA,NA,184025\\n\"1179\",11642,\"STC\",\"L9\",\"Sábado\",\"23-01-2021\",NA,NA,211208\\n\"1180\",11643,\"STC\",\"LA\",\"Sábado\",\"23-01-2021\",NA,NA,169173\\n\"1181\",11644,\"STC\",\"LB\",\"Sábado\",\"23-01-2021\",NA,NA,204345\\n\"1182\",11645,\"STC\",\"L12\",\"Sábado\",\"23-01-2021\",NA,NA,156727\\n\"1183\",11646,\"STC\",\"L1\",\"Domingo\",\"24-01-2021\",NA,NA,0\\n\"1184\",11647,\"STC\",\"L2\",\"Domingo\",\"24-01-2021\",NA,NA,0\\n\"1185\",11648,\"STC\",\"L3\",\"Domingo\",\"24-01-2021\",NA,NA,0\\n\"1186\",11649,\"STC\",\"L4\",\"Domingo\",\"24-01-2021\",NA,NA,23716\\n\"1187\",11650,\"STC\",\"L5\",\"Domingo\",\"24-01-2021\",NA,NA,61625\\n\"1188\",11651,\"STC\",\"L6\",\"Domingo\",\"24-01-2021\",NA,NA,21323\\n\"1189\",11652,\"STC\",\"L7\",\"Domingo\",\"24-01-2021\",NA,NA,57554\\n\"1190\",11653,\"STC\",\"L8\",\"Domingo\",\"24-01-2021\",NA,NA,136189\\n\"1191\",11654,\"STC\",\"L9\",\"Domingo\",\"24-01-2021\",NA,NA,133952\\n\"1192\",11655,\"STC\",\"LA\",\"Domingo\",\"24-01-2021\",NA,NA,137618\\n\"1193\",11656,\"STC\",\"LB\",\"Domingo\",\"24-01-2021\",NA,NA,112262\\n\"1194\",11657,\"STC\",\"L12\",\"Domingo\",\"24-01-2021\",NA,NA,117843\\n\"1195\",11658,\"STC\",\"L1\",\"Lunes\",\"25-01-2021\",NA,NA,249365\\n\"1196\",11659,\"STC\",\"L2\",\"Lunes\",\"25-01-2021\",NA,NA,0\\n\"1197\",11660,\"STC\",\"L3\",\"Lunes\",\"25-01-2021\",NA,NA,0\\n\"1198\",11661,\"STC\",\"L4\",\"Lunes\",\"25-01-2021\",NA,NA,36008\\n\"1199\",11662,\"STC\",\"L5\",\"Lunes\",\"25-01-2021\",NA,NA,113472\\n\"1200\",11663,\"STC\",\"L6\",\"Lunes\",\"25-01-2021\",NA,NA,50494\\n\"1201\",11664,\"STC\",\"L7\",\"Lunes\",\"25-01-2021\",NA,NA,126166\\n\"1202\",11665,\"STC\",\"L8\",\"Lunes\",\"25-01-2021\",NA,NA,193088\\n\"1203\",11666,\"STC\",\"L9\",\"Lunes\",\"25-01-2021\",NA,NA,214823\\n\"1204\",11667,\"STC\",\"LA\",\"Lunes\",\"25-01-2021\",NA,NA,207978\\n\"1205\",11668,\"STC\",\"LB\",\"Lunes\",\"25-01-2021\",NA,NA,216543\\n\"1206\",11669,\"STC\",\"L12\",\"Lunes\",\"25-01-2021\",NA,NA,206784\\n\"1207\",11670,\"STC\",\"L1\",\"Martes\",\"26-01-2021\",NA,NA,265537\\n\"1208\",11671,\"STC\",\"L2\",\"Martes\",\"26-01-2021\",NA,NA,0\\n\"1209\",11672,\"STC\",\"L3\",\"Martes\",\"26-01-2021\",NA,NA,0\\n\"1210\",11673,\"STC\",\"L4\",\"Martes\",\"26-01-2021\",NA,NA,40029\\n\"1211\",11674,\"STC\",\"L5\",\"Martes\",\"26-01-2021\",NA,NA,113903\\n\"1212\",11675,\"STC\",\"L6\",\"Martes\",\"26-01-2021\",NA,NA,58693\\n\"1213\",11676,\"STC\",\"L7\",\"Martes\",\"26-01-2021\",NA,NA,144972\\n\"1214\",11677,\"STC\",\"L8\",\"Martes\",\"26-01-2021\",NA,NA,180055\\n\"1215\",11678,\"STC\",\"L9\",\"Martes\",\"26-01-2021\",NA,NA,218307\\n\"1216\",11679,\"STC\",\"LA\",\"Martes\",\"26-01-2021\",NA,NA,217052\\n\"1217\",11680,\"STC\",\"LB\",\"Martes\",\"26-01-2021\",NA,NA,200142\\n\"1218\",11681,\"STC\",\"L12\",\"Martes\",\"26-01-2021\",NA,NA,202705\\n\"1219\",11682,\"STC\",\"L1\",\"Miércoles\",\"27-01-2021\",NA,NA,251542\\n\"1220\",11683,\"STC\",\"L2\",\"Miércoles\",\"27-01-2021\",NA,NA,0\\n\"1221\",11684,\"STC\",\"L3\",\"Miércoles\",\"27-01-2021\",NA,NA,0\\n\"1222\",11685,\"STC\",\"L4\",\"Miércoles\",\"27-01-2021\",NA,NA,36678\\n\"1223\",11686,\"STC\",\"L5\",\"Miércoles\",\"27-01-2021\",NA,NA,113620\\n\"1224\",11687,\"STC\",\"L6\",\"Miércoles\",\"27-01-2021\",NA,NA,51297\\n\"1225\",11688,\"STC\",\"L7\",\"Miércoles\",\"27-01-2021\",NA,NA,131122\\n\"1226\",11689,\"STC\",\"L8\",\"Miércoles\",\"27-01-2021\",NA,NA,203389\\n\"1227\",11690,\"STC\",\"L9\",\"Miércoles\",\"27-01-2021\",NA,NA,212851\\n\"1228\",11691,\"STC\",\"LA\",\"Miércoles\",\"27-01-2021\",NA,NA,209260\\n\"1229\",11692,\"STC\",\"LB\",\"Miércoles\",\"27-01-2021\",NA,NA,200848\\n\"1230\",11693,\"STC\",\"L12\",\"Miércoles\",\"27-01-2021\",NA,NA,212730\\n\"1231\",11694,\"STC\",\"L1\",\"Jueves\",\"28-01-2021\",NA,NA,283383\\n\"1232\",11695,\"STC\",\"L2\",\"Jueves\",\"28-01-2021\",NA,NA,0\\n\"1233\",11696,\"STC\",\"L3\",\"Jueves\",\"28-01-2021\",NA,NA,0\\n\"1234\",11697,\"STC\",\"L4\",\"Jueves\",\"28-01-2021\",NA,NA,36018\\n\"1235\",11698,\"STC\",\"L5\",\"Jueves\",\"28-01-2021\",NA,NA,104985\\n\"1236\",11699,\"STC\",\"L6\",\"Jueves\",\"28-01-2021\",NA,NA,49510\\n\"1237\",11700,\"STC\",\"L7\",\"Jueves\",\"28-01-2021\",NA,NA,133925\\n\"1238\",11701,\"STC\",\"L8\",\"Jueves\",\"28-01-2021\",NA,NA,201200\\n\"1239\",11702,\"STC\",\"L9\",\"Jueves\",\"28-01-2021\",NA,NA,211045\\n\"1240\",11703,\"STC\",\"LA\",\"Jueves\",\"28-01-2021\",NA,NA,179880\\n\"1241\",11704,\"STC\",\"LB\",\"Jueves\",\"28-01-2021\",NA,NA,202737\\n\"1242\",11705,\"STC\",\"L12\",\"Jueves\",\"28-01-2021\",NA,NA,200534\\n\"1243\",11706,\"STC\",\"L1\",\"Viernes\",\"29-01-2021\",NA,NA,285599\\n\"1244\",11707,\"STC\",\"L2\",\"Viernes\",\"29-01-2021\",NA,NA,0\\n\"1245\",11708,\"STC\",\"L3\",\"Viernes\",\"29-01-2021\",NA,NA,0\\n\"1246\",11709,\"STC\",\"L4\",\"Viernes\",\"29-01-2021\",NA,NA,38437\\n\"1247\",11710,\"STC\",\"L5\",\"Viernes\",\"29-01-2021\",NA,NA,129236\\n\"1248\",11711,\"STC\",\"L6\",\"Viernes\",\"29-01-2021\",NA,NA,58997\\n\"1249\",11712,\"STC\",\"L7\",\"Viernes\",\"29-01-2021\",NA,NA,142513\\n\"1250\",11713,\"STC\",\"L8\",\"Viernes\",\"29-01-2021\",NA,NA,202347\\n\"1251\",11714,\"STC\",\"L9\",\"Viernes\",\"29-01-2021\",NA,NA,205390\\n\"1252\",11715,\"STC\",\"LA\",\"Viernes\",\"29-01-2021\",NA,NA,191087\\n\"1253\",11716,\"STC\",\"LB\",\"Viernes\",\"29-01-2021\",NA,NA,216335\\n\"1254\",11717,\"STC\",\"L12\",\"Viernes\",\"29-01-2021\",NA,NA,163245\\n\"1255\",11718,\"STC\",\"L1\",\"Sábado\",\"30-01-2021\",NA,NA,262330\\n\"1256\",11719,\"STC\",\"L2\",\"Sábado\",\"30-01-2021\",NA,NA,0\\n\"1257\",11720,\"STC\",\"L3\",\"Sábado\",\"30-01-2021\",NA,NA,0\\n\"1258\",11721,\"STC\",\"L4\",\"Sábado\",\"30-01-2021\",NA,NA,34389\\n\"1259\",11722,\"STC\",\"L5\",\"Sábado\",\"30-01-2021\",NA,NA,92767\\n\"1260\",11723,\"STC\",\"L6\",\"Sábado\",\"30-01-2021\",NA,NA,42049\\n\"1261\",11724,\"STC\",\"L7\",\"Sábado\",\"30-01-2021\",NA,NA,117387\\n\"1262\",11725,\"STC\",\"L8\",\"Sábado\",\"30-01-2021\",NA,NA,177172\\n\"1263\",11726,\"STC\",\"L9\",\"Sábado\",\"30-01-2021\",NA,NA,180756\\n\"1264\",11727,\"STC\",\"LA\",\"Sábado\",\"30-01-2021\",NA,NA,178792\\n\"1265\",11728,\"STC\",\"LB\",\"Sábado\",\"30-01-2021\",NA,NA,203854\\n\"1266\",11729,\"STC\",\"L12\",\"Sábado\",\"30-01-2021\",NA,NA,175469\\n\"1267\",11730,\"STC\",\"L1\",\"Domingo\",\"31-01-2021\",NA,NA,165610\\n\"1268\",11731,\"STC\",\"L2\",\"Domingo\",\"31-01-2021\",NA,NA,0\\n\"1269\",11732,\"STC\",\"L3\",\"Domingo\",\"31-01-2021\",NA,NA,0\\n\"1270\",11733,\"STC\",\"L4\",\"Domingo\",\"31-01-2021\",NA,NA,23926\\n\"1271\",11734,\"STC\",\"L5\",\"Domingo\",\"31-01-2021\",NA,NA,68916\\n\"1272\",11735,\"STC\",\"L6\",\"Domingo\",\"31-01-2021\",NA,NA,20819\\n\"1273\",11736,\"STC\",\"L7\",\"Domingo\",\"31-01-2021\",NA,NA,58446\\n\"1274\",11737,\"STC\",\"L8\",\"Domingo\",\"31-01-2021\",NA,NA,104928\\n\"1275\",11738,\"STC\",\"L9\",\"Domingo\",\"31-01-2021\",NA,NA,87502\\n\"1276\",11739,\"STC\",\"LA\",\"Domingo\",\"31-01-2021\",NA,NA,137222\\n\"1277\",11740,\"STC\",\"LB\",\"Domingo\",\"31-01-2021\",NA,NA,119215\\n\"1278\",11741,\"STC\",\"L12\",\"Domingo\",\"31-01-2021\",NA,NA,123320\\n\"1279\",11742,\"STC\",\"L1\",\"Lunes\",\"01-02-2021\",NA,NA,249032\\n\"1280\",11743,\"STC\",\"L2\",\"Lunes\",\"01-02-2021\",NA,NA,0\\n\"1281\",11744,\"STC\",\"L3\",\"Lunes\",\"01-02-2021\",NA,NA,116035\\n\"1282\",11745,\"STC\",\"L4\",\"Lunes\",\"01-02-2021\",NA,NA,27694\\n\"1283\",11746,\"STC\",\"L5\",\"Lunes\",\"01-02-2021\",NA,NA,74319\\n\"1284\",11747,\"STC\",\"L6\",\"Lunes\",\"01-02-2021\",NA,NA,24086\\n\"1285\",11748,\"STC\",\"L7\",\"Lunes\",\"01-02-2021\",NA,NA,72393\\n\"1286\",11749,\"STC\",\"L8\",\"Lunes\",\"01-02-2021\",NA,NA,119655\\n\"1287\",11750,\"STC\",\"L9\",\"Lunes\",\"01-02-2021\",NA,NA,121329\\n\"1288\",11751,\"STC\",\"LA\",\"Lunes\",\"01-02-2021\",NA,NA,181696\\n\"1289\",11752,\"STC\",\"LB\",\"Lunes\",\"01-02-2021\",NA,NA,147684\\n\"1290\",11753,\"STC\",\"L12\",\"Lunes\",\"01-02-2021\",NA,NA,156775\\n\"1291\",11754,\"STC\",\"L1\",\"Martes\",\"02-02-2021\",NA,NA,283958\\n\"1292\",11755,\"STC\",\"L2\",\"Martes\",\"02-02-2021\",NA,NA,0\\n\"1293\",11756,\"STC\",\"L3\",\"Martes\",\"02-02-2021\",NA,NA,172230\\n\"1294\",11757,\"STC\",\"L4\",\"Martes\",\"02-02-2021\",NA,NA,38897\\n\"1295\",11758,\"STC\",\"L5\",\"Martes\",\"02-02-2021\",NA,NA,114138\\n\"1296\",11759,\"STC\",\"L6\",\"Martes\",\"02-02-2021\",NA,NA,50593\\n\"1297\",11760,\"STC\",\"L7\",\"Martes\",\"02-02-2021\",NA,NA,133822\\n\"1298\",11761,\"STC\",\"L8\",\"Martes\",\"02-02-2021\",NA,NA,189660\\n\"1299\",11762,\"STC\",\"L9\",\"Martes\",\"02-02-2021\",NA,NA,175289\\n\"1300\",11763,\"STC\",\"LA\",\"Martes\",\"02-02-2021\",NA,NA,205587\\n\"1301\",11764,\"STC\",\"LB\",\"Martes\",\"02-02-2021\",NA,NA,192264\\n\"1302\",11765,\"STC\",\"L12\",\"Martes\",\"02-02-2021\",NA,NA,208868\\n\"1303\",11766,\"STC\",\"L1\",\"Miércoles\",\"03-02-2021\",NA,NA,302971\\n\"1304\",11767,\"STC\",\"L2\",\"Miércoles\",\"03-02-2021\",NA,NA,0\\n\"1305\",11768,\"STC\",\"L3\",\"Miércoles\",\"03-02-2021\",NA,NA,184513\\n\"1306\",11769,\"STC\",\"L4\",\"Miércoles\",\"03-02-2021\",NA,NA,39750\\n\"1307\",11770,\"STC\",\"L5\",\"Miércoles\",\"03-02-2021\",NA,NA,114921\\n\"1308\",11771,\"STC\",\"L6\",\"Miércoles\",\"03-02-2021\",NA,NA,52482\\n\"1309\",11772,\"STC\",\"L7\",\"Miércoles\",\"03-02-2021\",NA,NA,142135\\n\"1310\",11773,\"STC\",\"L8\",\"Miércoles\",\"03-02-2021\",NA,NA,203037\\n\"1311\",11774,\"STC\",\"L9\",\"Miércoles\",\"03-02-2021\",NA,NA,186863\\n\"1312\",11775,\"STC\",\"LA\",\"Miércoles\",\"03-02-2021\",NA,NA,201943\\n\"1313\",11776,\"STC\",\"LB\",\"Miércoles\",\"03-02-2021\",NA,NA,211575\\n\"1314\",11777,\"STC\",\"L12\",\"Miércoles\",\"03-02-2021\",NA,NA,209772\\n\"1315\",11778,\"STC\",\"L1\",\"Jueves\",\"04-02-2021\",NA,NA,261722\\n\"1316\",11779,\"STC\",\"L2\",\"Jueves\",\"04-02-2021\",NA,NA,0\\n\"1317\",11780,\"STC\",\"L3\",\"Jueves\",\"04-02-2021\",NA,NA,201415\\n\"1318\",11781,\"STC\",\"L4\",\"Jueves\",\"04-02-2021\",NA,NA,36414\\n\"1319\",11782,\"STC\",\"L5\",\"Jueves\",\"04-02-2021\",NA,NA,112484\\n\"1320\",11783,\"STC\",\"L6\",\"Jueves\",\"04-02-2021\",NA,NA,52745\\n\"1321\",11784,\"STC\",\"L7\",\"Jueves\",\"04-02-2021\",NA,NA,136062\\n\"1322\",11785,\"STC\",\"L8\",\"Jueves\",\"04-02-2021\",NA,NA,197670\\n\"1323\",11786,\"STC\",\"L9\",\"Jueves\",\"04-02-2021\",NA,NA,223937\\n\"1324\",11787,\"STC\",\"LA\",\"Jueves\",\"04-02-2021\",NA,NA,188487\\n\"1325\",11788,\"STC\",\"LB\",\"Jueves\",\"04-02-2021\",NA,NA,195312\\n\"1326\",11789,\"STC\",\"L12\",\"Jueves\",\"04-02-2021\",NA,NA,211632\\n\"1327\",11790,\"STC\",\"L1\",\"Viernes\",\"05-02-2021\",NA,NA,308163\\n\"1328\",11791,\"STC\",\"L2\",\"Viernes\",\"05-02-2021\",NA,NA,0\\n\"1329\",11792,\"STC\",\"L3\",\"Viernes\",\"05-02-2021\",NA,NA,209454\\n\"1330\",11793,\"STC\",\"L4\",\"Viernes\",\"05-02-2021\",NA,NA,39056\\n\"1331\",11794,\"STC\",\"L5\",\"Viernes\",\"05-02-2021\",NA,NA,123524\\n\"1332\",11795,\"STC\",\"L6\",\"Viernes\",\"05-02-2021\",NA,NA,55201\\n\"1333\",11796,\"STC\",\"L7\",\"Viernes\",\"05-02-2021\",NA,NA,135950\\n\"1334\",11797,\"STC\",\"L8\",\"Viernes\",\"05-02-2021\",NA,NA,199183\\n\"1335\",11798,\"STC\",\"L9\",\"Viernes\",\"05-02-2021\",NA,NA,194537\\n\"1336\",11799,\"STC\",\"LA\",\"Viernes\",\"05-02-2021\",NA,NA,189627\\n\"1337\",11800,\"STC\",\"LB\",\"Viernes\",\"05-02-2021\",NA,NA,218419\\n\"1338\",11801,\"STC\",\"L12\",\"Viernes\",\"05-02-2021\",NA,NA,203447\\n\"1339\",11802,\"STC\",\"L1\",\"Sábado\",\"06-02-2021\",NA,NA,271850\\n\"1340\",11803,\"STC\",\"L2\",\"Sábado\",\"06-02-2021\",NA,NA,0\\n\"1341\",11804,\"STC\",\"L3\",\"Sábado\",\"06-02-2021\",NA,NA,180894\\n\"1342\",11805,\"STC\",\"L4\",\"Sábado\",\"06-02-2021\",NA,NA,40930\\n\"1343\",11806,\"STC\",\"L5\",\"Sábado\",\"06-02-2021\",NA,NA,117426\\n\"1344\",11807,\"STC\",\"L6\",\"Sábado\",\"06-02-2021\",NA,NA,41765\\n\"1345\",11808,\"STC\",\"L7\",\"Sábado\",\"06-02-2021\",NA,NA,121830\\n\"1346\",11809,\"STC\",\"L8\",\"Sábado\",\"06-02-2021\",NA,NA,187309\\n\"1347\",11810,\"STC\",\"L9\",\"Sábado\",\"06-02-2021\",NA,NA,175779\\n\"1348\",11811,\"STC\",\"LA\",\"Sábado\",\"06-02-2021\",NA,NA,179551\\n\"1349\",11812,\"STC\",\"LB\",\"Sábado\",\"06-02-2021\",NA,NA,208889\\n\"1350\",11813,\"STC\",\"L12\",\"Sábado\",\"06-02-2021\",NA,NA,182962\\n\"1351\",11814,\"STC\",\"L1\",\"Domingo\",\"07-02-2021\",NA,NA,166662\\n\"1352\",11815,\"STC\",\"L2\",\"Domingo\",\"07-02-2021\",NA,NA,0\\n\"1353\",11816,\"STC\",\"L3\",\"Domingo\",\"07-02-2021\",NA,NA,126850\\n\"1354\",11817,\"STC\",\"L4\",\"Domingo\",\"07-02-2021\",NA,NA,20658\\n\"1355\",11818,\"STC\",\"L5\",\"Domingo\",\"07-02-2021\",NA,NA,73295\\n\"1356\",11819,\"STC\",\"L6\",\"Domingo\",\"07-02-2021\",NA,NA,21214\\n\"1357\",11820,\"STC\",\"L7\",\"Domingo\",\"07-02-2021\",NA,NA,49182\\n\"1358\",11821,\"STC\",\"L8\",\"Domingo\",\"07-02-2021\",NA,NA,105749\\n\"1359\",11822,\"STC\",\"L9\",\"Domingo\",\"07-02-2021\",NA,NA,86965\\n\"1360\",11823,\"STC\",\"LA\",\"Domingo\",\"07-02-2021\",NA,NA,139227\\n\"1361\",11824,\"STC\",\"LB\",\"Domingo\",\"07-02-2021\",NA,NA,113035\\n\"1362\",11825,\"STC\",\"L12\",\"Domingo\",\"07-02-2021\",NA,NA,119703\\n\"1363\",11826,\"STC\",\"L1\",\"Lunes\",\"08-02-2021\",NA,NA,291639\\n\"1364\",11827,\"STC\",\"L2\",\"Lunes\",\"08-02-2021\",NA,NA,211468\\n\"1365\",11828,\"STC\",\"L3\",\"Lunes\",\"08-02-2021\",NA,NA,208651\\n\"1366\",11829,\"STC\",\"L4\",\"Lunes\",\"08-02-2021\",NA,NA,28811\\n\"1367\",11830,\"STC\",\"L5\",\"Lunes\",\"08-02-2021\",NA,NA,120171\\n\"1368\",11831,\"STC\",\"L6\",\"Lunes\",\"08-02-2021\",NA,NA,49553\\n\"1369\",11832,\"STC\",\"L7\",\"Lunes\",\"08-02-2021\",NA,NA,121276\\n\"1370\",11833,\"STC\",\"L8\",\"Lunes\",\"08-02-2021\",NA,NA,177154\\n\"1371\",11834,\"STC\",\"L9\",\"Lunes\",\"08-02-2021\",NA,NA,165499\\n\"1372\",11835,\"STC\",\"LA\",\"Lunes\",\"08-02-2021\",NA,NA,185006\\n\"1373\",11836,\"STC\",\"LB\",\"Lunes\",\"08-02-2021\",NA,NA,188489\\n\"1374\",11837,\"STC\",\"L12\",\"Lunes\",\"08-02-2021\",NA,NA,213118\\n\"1375\",11838,\"STC\",\"L1\",\"Martes\",\"09-02-2021\",NA,NA,276934\\n\"1376\",11839,\"STC\",\"L2\",\"Martes\",\"09-02-2021\",NA,NA,226465\\n\"1377\",11840,\"STC\",\"L3\",\"Martes\",\"09-02-2021\",NA,NA,221194\\n\"1378\",11841,\"STC\",\"L4\",\"Martes\",\"09-02-2021\",NA,NA,35639\\n\"1379\",11842,\"STC\",\"L5\",\"Martes\",\"09-02-2021\",NA,NA,117264\\n\"1380\",11843,\"STC\",\"L6\",\"Martes\",\"09-02-2021\",NA,NA,55127\\n\"1381\",11844,\"STC\",\"L7\",\"Martes\",\"09-02-2021\",NA,NA,120707\\n\"1382\",11845,\"STC\",\"L8\",\"Martes\",\"09-02-2021\",NA,NA,192296\\n\"1383\",11846,\"STC\",\"L9\",\"Martes\",\"09-02-2021\",NA,NA,184902\\n\"1384\",11847,\"STC\",\"LA\",\"Martes\",\"09-02-2021\",NA,NA,194441\\n\"1385\",11848,\"STC\",\"LB\",\"Martes\",\"09-02-2021\",NA,NA,207766\\n\"1386\",11849,\"STC\",\"L12\",\"Martes\",\"09-02-2021\",NA,NA,184397\\n\"1387\",11850,\"STC\",\"L1\",\"Miércoles\",\"10-02-2021\",NA,NA,302216\\n\"1388\",11851,\"STC\",\"L2\",\"Miércoles\",\"10-02-2021\",NA,NA,248623\\n\"1389\",11852,\"STC\",\"L3\",\"Miércoles\",\"10-02-2021\",NA,NA,223390\\n\"1390\",11853,\"STC\",\"L4\",\"Miércoles\",\"10-02-2021\",NA,NA,36745\\n\"1391\",11854,\"STC\",\"L5\",\"Miércoles\",\"10-02-2021\",NA,NA,120821\\n\"1392\",11855,\"STC\",\"L6\",\"Miércoles\",\"10-02-2021\",NA,NA,53065\\n\"1393\",11856,\"STC\",\"L7\",\"Miércoles\",\"10-02-2021\",NA,NA,133269\\n\"1394\",11857,\"STC\",\"L8\",\"Miércoles\",\"10-02-2021\",NA,NA,193757\\n\"1395\",11858,\"STC\",\"L9\",\"Miércoles\",\"10-02-2021\",NA,NA,192745\\n\"1396\",11859,\"STC\",\"LA\",\"Miércoles\",\"10-02-2021\",NA,NA,188828\\n\"1397\",11860,\"STC\",\"LB\",\"Miércoles\",\"10-02-2021\",NA,NA,215921\\n\"1398\",11861,\"STC\",\"L12\",\"Miércoles\",\"10-02-2021\",NA,NA,185537\\n\"1399\",11862,\"STC\",\"L1\",\"Jueves\",\"11-02-2021\",NA,NA,292159\\n\"1400\",11863,\"STC\",\"L2\",\"Jueves\",\"11-02-2021\",NA,NA,240958\\n\"1401\",11864,\"STC\",\"L3\",\"Jueves\",\"11-02-2021\",NA,NA,225126\\n\"1402\",11865,\"STC\",\"L4\",\"Jueves\",\"11-02-2021\",NA,NA,36537\\n\"1403\",11866,\"STC\",\"L5\",\"Jueves\",\"11-02-2021\",NA,NA,126064\\n\"1404\",11867,\"STC\",\"L6\",\"Jueves\",\"11-02-2021\",NA,NA,52625\\n\"1405\",11868,\"STC\",\"L7\",\"Jueves\",\"11-02-2021\",NA,NA,126291\\n\"1406\",11869,\"STC\",\"L8\",\"Jueves\",\"11-02-2021\",NA,NA,180286\\n\"1407\",11870,\"STC\",\"L9\",\"Jueves\",\"11-02-2021\",NA,NA,191784\\n\"1408\",11871,\"STC\",\"LA\",\"Jueves\",\"11-02-2021\",NA,NA,199419\\n\"1409\",11872,\"STC\",\"LB\",\"Jueves\",\"11-02-2021\",NA,NA,218150\\n\"1410\",11873,\"STC\",\"L12\",\"Jueves\",\"11-02-2021\",NA,NA,190742\\n\"1411\",11874,\"STC\",\"L1\",\"Viernes\",\"12-02-2021\",NA,NA,321776\\n\"1412\",11875,\"STC\",\"L2\",\"Viernes\",\"12-02-2021\",NA,NA,270000\\n\"1413\",11876,\"STC\",\"L3\",\"Viernes\",\"12-02-2021\",NA,NA,226474\\n\"1414\",11877,\"STC\",\"L4\",\"Viernes\",\"12-02-2021\",NA,NA,35146\\n\"1415\",11878,\"STC\",\"L5\",\"Viernes\",\"12-02-2021\",NA,NA,135559\\n\"1416\",11879,\"STC\",\"L6\",\"Viernes\",\"12-02-2021\",NA,NA,55626\\n\"1417\",11880,\"STC\",\"L7\",\"Viernes\",\"12-02-2021\",NA,NA,130415\\n\"1418\",11881,\"STC\",\"L8\",\"Viernes\",\"12-02-2021\",NA,NA,194332\\n\"1419\",11882,\"STC\",\"L9\",\"Viernes\",\"12-02-2021\",NA,NA,201883\\n\"1420\",11883,\"STC\",\"LA\",\"Viernes\",\"12-02-2021\",NA,NA,194122\\n\"1421\",11884,\"STC\",\"LB\",\"Viernes\",\"12-02-2021\",NA,NA,214898\\n\"1422\",11885,\"STC\",\"L12\",\"Viernes\",\"12-02-2021\",NA,NA,193887\\n\"1423\",11886,\"STC\",\"L1\",\"Sábado\",\"13-02-2021\",NA,NA,299367\\n\"1424\",11887,\"STC\",\"L2\",\"Sábado\",\"13-02-2021\",NA,NA,251143\\n\"1425\",11888,\"STC\",\"L3\",\"Sábado\",\"13-02-2021\",NA,NA,205812\\n\"1426\",11889,\"STC\",\"L4\",\"Sábado\",\"13-02-2021\",NA,NA,36138\\n\"1427\",11890,\"STC\",\"L5\",\"Sábado\",\"13-02-2021\",NA,NA,122430\\n\"1428\",11891,\"STC\",\"L6\",\"Sábado\",\"13-02-2021\",NA,NA,47357\\n\"1429\",11892,\"STC\",\"L7\",\"Sábado\",\"13-02-2021\",NA,NA,120888\\n\"1430\",11893,\"STC\",\"L8\",\"Sábado\",\"13-02-2021\",NA,NA,167639\\n\"1431\",11894,\"STC\",\"L9\",\"Sábado\",\"13-02-2021\",NA,NA,133907\\n\"1432\",11895,\"STC\",\"LA\",\"Sábado\",\"13-02-2021\",NA,NA,174337\\n\"1433\",11896,\"STC\",\"LB\",\"Sábado\",\"13-02-2021\",NA,NA,212408\\n\"1434\",11897,\"STC\",\"L12\",\"Sábado\",\"13-02-2021\",NA,NA,159918\\n\"1435\",11898,\"STC\",\"L1\",\"Domingo\",\"14-02-2021\",NA,NA,181689\\n\"1436\",11899,\"STC\",\"L2\",\"Domingo\",\"14-02-2021\",NA,NA,146472\\n\"1437\",11900,\"STC\",\"L3\",\"Domingo\",\"14-02-2021\",NA,NA,122461\\n\"1438\",11901,\"STC\",\"L4\",\"Domingo\",\"14-02-2021\",NA,NA,24307\\n\"1439\",11902,\"STC\",\"L5\",\"Domingo\",\"14-02-2021\",NA,NA,76446\\n\"1440\",11903,\"STC\",\"L6\",\"Domingo\",\"14-02-2021\",NA,NA,23921\\n\"1441\",11904,\"STC\",\"L7\",\"Domingo\",\"14-02-2021\",NA,NA,49893\\n\"1442\",11905,\"STC\",\"L8\",\"Domingo\",\"14-02-2021\",NA,NA,100323\\n\"1443\",11906,\"STC\",\"L9\",\"Domingo\",\"14-02-2021\",NA,NA,108645\\n\"1444\",11907,\"STC\",\"LA\",\"Domingo\",\"14-02-2021\",NA,NA,137270\\n\"1445\",11908,\"STC\",\"LB\",\"Domingo\",\"14-02-2021\",NA,NA,138166\\n\"1446\",11909,\"STC\",\"L12\",\"Domingo\",\"14-02-2021\",NA,NA,92066\\n\"1447\",11910,\"STC\",\"L1\",\"Lunes\",\"15-02-2021\",NA,NA,309742\\n\"1448\",11911,\"STC\",\"L2\",\"Lunes\",\"15-02-2021\",NA,NA,247410\\n\"1449\",11912,\"STC\",\"L3\",\"Lunes\",\"15-02-2021\",NA,NA,223730\\n\"1450\",11913,\"STC\",\"L4\",\"Lunes\",\"15-02-2021\",NA,NA,34151\\n\"1451\",11914,\"STC\",\"L5\",\"Lunes\",\"15-02-2021\",NA,NA,128014\\n\"1452\",11915,\"STC\",\"L6\",\"Lunes\",\"15-02-2021\",NA,NA,57392\\n\"1453\",11916,\"STC\",\"L7\",\"Lunes\",\"15-02-2021\",NA,NA,127425\\n\"1454\",11917,\"STC\",\"L8\",\"Lunes\",\"15-02-2021\",NA,NA,186210\\n\"1455\",11918,\"STC\",\"L9\",\"Lunes\",\"15-02-2021\",NA,NA,172443\\n\"1456\",11919,\"STC\",\"LA\",\"Lunes\",\"15-02-2021\",NA,NA,180758\\n\"1457\",11920,\"STC\",\"LB\",\"Lunes\",\"15-02-2021\",NA,NA,205112\\n\"1458\",11921,\"STC\",\"L12\",\"Lunes\",\"15-02-2021\",NA,NA,183408\\n\"1459\",11922,\"STC\",\"L1\",\"Martes\",\"16-02-2021\",NA,NA,318479\\n\"1460\",11923,\"STC\",\"L2\",\"Martes\",\"16-02-2021\",NA,NA,272730\\n\"1461\",11924,\"STC\",\"L3\",\"Martes\",\"16-02-2021\",NA,NA,245081\\n\"1462\",11925,\"STC\",\"L4\",\"Martes\",\"16-02-2021\",NA,NA,38532\\n\"1463\",11926,\"STC\",\"L5\",\"Martes\",\"16-02-2021\",NA,NA,125599\\n\"1464\",11927,\"STC\",\"L6\",\"Martes\",\"16-02-2021\",NA,NA,50801\\n\"1465\",11928,\"STC\",\"L7\",\"Martes\",\"16-02-2021\",NA,NA,138320\\n\"1466\",11929,\"STC\",\"L8\",\"Martes\",\"16-02-2021\",NA,NA,185425\\n\"1467\",11930,\"STC\",\"L9\",\"Martes\",\"16-02-2021\",NA,NA,192790\\n\"1468\",11931,\"STC\",\"LA\",\"Martes\",\"16-02-2021\",NA,NA,194156\\n\"1469\",11932,\"STC\",\"LB\",\"Martes\",\"16-02-2021\",NA,NA,221976\\n\"1470\",11933,\"STC\",\"L12\",\"Martes\",\"16-02-2021\",NA,NA,194584\\n\"1471\",11934,\"STC\",\"L1\",\"Miércoles\",\"17-02-2021\",NA,NA,323446\\n\"1472\",11935,\"STC\",\"L2\",\"Miércoles\",\"17-02-2021\",NA,NA,266791\\n\"1473\",11936,\"STC\",\"L3\",\"Miércoles\",\"17-02-2021\",NA,NA,246099\\n\"1474\",11937,\"STC\",\"L4\",\"Miércoles\",\"17-02-2021\",NA,NA,34730\\n\"1475\",11938,\"STC\",\"L5\",\"Miércoles\",\"17-02-2021\",NA,NA,119060\\n\"1476\",11939,\"STC\",\"L6\",\"Miércoles\",\"17-02-2021\",NA,NA,65862\\n\"1477\",11940,\"STC\",\"L7\",\"Miércoles\",\"17-02-2021\",NA,NA,136529\\n\"1478\",11941,\"STC\",\"L8\",\"Miércoles\",\"17-02-2021\",NA,NA,193237\\n\"1479\",11942,\"STC\",\"L9\",\"Miércoles\",\"17-02-2021\",NA,NA,179525\\n\"1480\",11943,\"STC\",\"LA\",\"Miércoles\",\"17-02-2021\",NA,NA,189632\\n\"1481\",11944,\"STC\",\"LB\",\"Miércoles\",\"17-02-2021\",NA,NA,216864\\n\"1482\",11945,\"STC\",\"L12\",\"Miércoles\",\"17-02-2021\",NA,NA,198303\\n\"1483\",11946,\"STC\",\"L1\",\"Jueves\",\"18-02-2021\",NA,NA,318557\\n\"1484\",11947,\"STC\",\"L2\",\"Jueves\",\"18-02-2021\",NA,NA,261253\\n\"1485\",11948,\"STC\",\"L3\",\"Jueves\",\"18-02-2021\",NA,NA,244791\\n\"1486\",11949,\"STC\",\"L4\",\"Jueves\",\"18-02-2021\",NA,NA,38240\\n\"1487\",11950,\"STC\",\"L5\",\"Jueves\",\"18-02-2021\",NA,NA,122682\\n\"1488\",11951,\"STC\",\"L6\",\"Jueves\",\"18-02-2021\",NA,NA,58973\\n\"1489\",11952,\"STC\",\"L7\",\"Jueves\",\"18-02-2021\",NA,NA,113335\\n\"1490\",11953,\"STC\",\"L8\",\"Jueves\",\"18-02-2021\",NA,NA,190647\\n\"1491\",11954,\"STC\",\"L9\",\"Jueves\",\"18-02-2021\",NA,NA,186721\\n\"1492\",11955,\"STC\",\"LA\",\"Jueves\",\"18-02-2021\",NA,NA,198189\\n\"1493\",11956,\"STC\",\"LB\",\"Jueves\",\"18-02-2021\",NA,NA,217358\\n\"1494\",11957,\"STC\",\"L12\",\"Jueves\",\"18-02-2021\",NA,NA,199296\\n\"1495\",11958,\"STC\",\"L1\",\"Viernes\",\"19-02-2021\",NA,NA,327705\\n\"1496\",11959,\"STC\",\"L2\",\"Viernes\",\"19-02-2021\",NA,NA,284134\\n\"1497\",11960,\"STC\",\"L3\",\"Viernes\",\"19-02-2021\",NA,NA,265658\\n\"1498\",11961,\"STC\",\"L4\",\"Viernes\",\"19-02-2021\",NA,NA,37462\\n\"1499\",11962,\"STC\",\"L5\",\"Viernes\",\"19-02-2021\",NA,NA,129085\\n\"1500\",11963,\"STC\",\"L6\",\"Viernes\",\"19-02-2021\",NA,NA,52651\\n\"1501\",11964,\"STC\",\"L7\",\"Viernes\",\"19-02-2021\",NA,NA,150470\\n\"1502\",11965,\"STC\",\"L8\",\"Viernes\",\"19-02-2021\",NA,NA,197803\\n\"1503\",11966,\"STC\",\"L9\",\"Viernes\",\"19-02-2021\",NA,NA,200541\\n\"1504\",11967,\"STC\",\"LA\",\"Viernes\",\"19-02-2021\",NA,NA,195527\\n\"1505\",11968,\"STC\",\"LB\",\"Viernes\",\"19-02-2021\",NA,NA,228879\\n\"1506\",11969,\"STC\",\"L12\",\"Viernes\",\"19-02-2021\",NA,NA,213655\\n\"1507\",11970,\"STC\",\"L1\",\"Sábado\",\"20-02-2021\",NA,NA,296477\\n\"1508\",11971,\"STC\",\"L2\",\"Sábado\",\"20-02-2021\",NA,NA,271126\\n\"1509\",11972,\"STC\",\"L3\",\"Sábado\",\"20-02-2021\",NA,NA,220969\\n\"1510\",11973,\"STC\",\"L4\",\"Sábado\",\"20-02-2021\",NA,NA,34361\\n\"1511\",11974,\"STC\",\"L5\",\"Sábado\",\"20-02-2021\",NA,NA,111370\\n\"1512\",11975,\"STC\",\"L6\",\"Sábado\",\"20-02-2021\",NA,NA,48672\\n\"1513\",11976,\"STC\",\"L7\",\"Sábado\",\"20-02-2021\",NA,NA,109131\\n\"1514\",11977,\"STC\",\"L8\",\"Sábado\",\"20-02-2021\",NA,NA,181131\\n\"1515\",11978,\"STC\",\"L9\",\"Sábado\",\"20-02-2021\",NA,NA,151593\\n\"1516\",11979,\"STC\",\"LA\",\"Sábado\",\"20-02-2021\",NA,NA,177200\\n\"1517\",11980,\"STC\",\"LB\",\"Sábado\",\"20-02-2021\",NA,NA,225994\\n\"1518\",11981,\"STC\",\"L12\",\"Sábado\",\"20-02-2021\",NA,NA,172081\\n\"1519\",11982,\"STC\",\"L1\",\"Domingo\",\"21-02-2021\",NA,NA,193715\\n\"1520\",11983,\"STC\",\"L2\",\"Domingo\",\"21-02-2021\",NA,NA,165020\\n\"1521\",11984,\"STC\",\"L3\",\"Domingo\",\"21-02-2021\",NA,NA,141651\\n\"1522\",11985,\"STC\",\"L4\",\"Domingo\",\"21-02-2021\",NA,NA,24123\\n\"1523\",11986,\"STC\",\"L5\",\"Domingo\",\"21-02-2021\",NA,NA,74096\\n\"1524\",11987,\"STC\",\"L6\",\"Domingo\",\"21-02-2021\",NA,NA,23745\\n\"1525\",11988,\"STC\",\"L7\",\"Domingo\",\"21-02-2021\",NA,NA,58537\\n\"1526\",11989,\"STC\",\"L8\",\"Domingo\",\"21-02-2021\",NA,NA,95721\\n\"1527\",11990,\"STC\",\"L9\",\"Domingo\",\"21-02-2021\",NA,NA,89891\\n\"1528\",11991,\"STC\",\"LA\",\"Domingo\",\"21-02-2021\",NA,NA,138873\\n\"1529\",11992,\"STC\",\"LB\",\"Domingo\",\"21-02-2021\",NA,NA,157401\\n\"1530\",11993,\"STC\",\"L12\",\"Domingo\",\"21-02-2021\",NA,NA,104100\\n\"1531\",11994,\"STC\",\"L1\",\"Lunes\",\"22-02-2021\",NA,NA,330858\\n\"1532\",11995,\"STC\",\"L2\",\"Lunes\",\"22-02-2021\",NA,NA,273012\\n\"1533\",11996,\"STC\",\"L3\",\"Lunes\",\"22-02-2021\",NA,NA,255765\\n\"1534\",11997,\"STC\",\"L4\",\"Lunes\",\"22-02-2021\",NA,NA,34991\\n\"1535\",11998,\"STC\",\"L5\",\"Lunes\",\"22-02-2021\",NA,NA,122993\\n\"1536\",11999,\"STC\",\"L6\",\"Lunes\",\"22-02-2021\",NA,NA,47359\\n\"1537\",12000,\"STC\",\"L7\",\"Lunes\",\"22-02-2021\",NA,NA,125581\\n\"1538\",12001,\"STC\",\"L8\",\"Lunes\",\"22-02-2021\",NA,NA,169448\\n\"1539\",12002,\"STC\",\"L9\",\"Lunes\",\"22-02-2021\",NA,NA,192733\\n\"1540\",12003,\"STC\",\"LA\",\"Lunes\",\"22-02-2021\",NA,NA,173412\\n\"1541\",12004,\"STC\",\"LB\",\"Lunes\",\"22-02-2021\",NA,NA,252472\\n\"1542\",12005,\"STC\",\"L12\",\"Lunes\",\"22-02-2021\",NA,NA,179565\\n\"1543\",12006,\"STC\",\"L1\",\"Martes\",\"23-02-2021\",NA,NA,NA\\n\"1544\",12007,\"STC\",\"L2\",\"Martes\",\"23-02-2021\",NA,NA,NA\\n\"1545\",12008,\"STC\",\"L3\",\"Martes\",\"23-02-2021\",NA,NA,NA\\n\"1546\",12009,\"STC\",\"L4\",\"Martes\",\"23-02-2021\",NA,NA,NA\\n\"1547\",12010,\"STC\",\"L5\",\"Martes\",\"23-02-2021\",NA,NA,NA\\n\"1548\",12011,\"STC\",\"L6\",\"Martes\",\"23-02-2021\",NA,NA,NA\\n\"1549\",12012,\"STC\",\"L7\",\"Martes\",\"23-02-2021\",NA,NA,NA\\n\"1550\",12013,\"STC\",\"L8\",\"Martes\",\"23-02-2021\",NA,NA,NA\\n\"1551\",12014,\"STC\",\"L9\",\"Martes\",\"23-02-2021\",NA,NA,NA\\n\"1552\",12015,\"STC\",\"LA\",\"Martes\",\"23-02-2021\",NA,NA,NA\\n\"1553\",12016,\"STC\",\"LB\",\"Martes\",\"23-02-2021\",NA,NA,NA\\n\"1554\",12017,\"STC\",\"L12\",\"Martes\",\"23-02-2021\",NA,NA,NA\\n\"1555\",18818,\"STE-Tren Ligero\",\"Xochimilco-Tasqueña\",\"Viernes\",\"01-01-2021\",NA,NA,3142\\n\"1556\",18819,\"STE-Tren Ligero\",\"Xochimilco-Tasqueña\",\"Sábado\",\"02-01-2021\",NA,NA,7009\\n\"1557\",18820,\"STE-Tren Ligero\",\"Xochimilco-Tasqueña\",\"Domingo\",\"03-01-2021\",NA,NA,5632\\n\"1558\",18821,\"STE-Tren Ligero\",\"Xochimilco-Tasqueña\",\"Lunes\",\"04-01-2021\",NA,NA,13565\\n\"1559\",18822,\"STE-Tren Ligero\",\"Xochimilco-Tasqueña\",\"Martes\",\"05-01-2021\",NA,NA,13358\\n\"1560\",18823,\"STE-Tren Ligero\",\"Xochimilco-Tasqueña\",\"Miércoles\",\"06-01-2021\",NA,NA,11399\\n\"1561\",18824,\"STE-Tren Ligero\",\"Xochimilco-Tasqueña\",\"Jueves\",\"07-01-2021\",NA,NA,13128\\n\"1562\",18825,\"STE-Tren Ligero\",\"Xochimilco-Tasqueña\",\"Viernes\",\"08-01-2021\",NA,NA,14265\\n\"1563\",18826,\"STE-Tren Ligero\",\"Xochimilco-Tasqueña\",\"Sábado\",\"09-01-2021\",NA,NA,4655\\n\"1564\",18827,\"STE-Tren Ligero\",\"Xochimilco-Tasqueña\",\"Domingo\",\"10-01-2021\",NA,NA,2420\\n\"1565\",18828,\"STE-Tren Ligero\",\"Xochimilco-Tasqueña\",\"Lunes\",\"11-01-2021\",NA,NA,24321\\n\"1566\",18829,\"STE-Tren Ligero\",\"Xochimilco-Tasqueña\",\"Martes\",\"12-01-2021\",NA,NA,24565\\n\"1567\",18830,\"STE-Tren Ligero\",\"Xochimilco-Tasqueña\",\"Miércoles\",\"13-01-2021\",NA,NA,24375\\n\"1568\",18831,\"STE-Tren Ligero\",\"Xochimilco-Tasqueña\",\"Jueves\",\"14-01-2021\",NA,NA,24430\\n\"1569\",18832,\"STE-Tren Ligero\",\"Xochimilco-Tasqueña\",\"Viernes\",\"15-01-2021\",NA,NA,25426\\n\"1570\",18833,\"STE-Tren Ligero\",\"Xochimilco-Tasqueña\",\"Sábado\",\"16-01-2021\",NA,NA,19314\\n\"1571\",18834,\"STE-Tren Ligero\",\"Xochimilco-Tasqueña\",\"Domingo\",\"17-01-2021\",NA,NA,11402\\n\"1572\",18835,\"STE-Tren Ligero\",\"Xochimilco-Tasqueña\",\"Lunes\",\"18-01-2021\",NA,NA,25652\\n\"1573\",18836,\"STE-Tren Ligero\",\"Xochimilco-Tasqueña\",\"Martes\",\"19-01-2021\",NA,NA,25467\\n\"1574\",18837,\"STE-Tren Ligero\",\"Xochimilco-Tasqueña\",\"Miércoles\",\"20-01-2021\",NA,NA,25471\\n\"1575\",18838,\"STE-Tren Ligero\",\"Xochimilco-Tasqueña\",\"Jueves\",\"21-01-2021\",NA,NA,25195\\n\"1576\",18839,\"STE-Tren Ligero\",\"Xochimilco-Tasqueña\",\"Viernes\",\"22-01-2021\",NA,NA,25841\\n\"1577\",18840,\"STE-Tren Ligero\",\"Xochimilco-Tasqueña\",\"Sábado\",\"23-01-2021\",NA,NA,19902\\n\"1578\",18841,\"STE-Tren Ligero\",\"Xochimilco-Tasqueña\",\"Domingo\",\"24-01-2021\",NA,NA,11869\\n\"1579\",18842,\"STE-Tren Ligero\",\"Xochimilco-Tasqueña\",\"Lunes\",\"25-01-2021\",NA,NA,26250\\n\"1580\",18843,\"STE-Tren Ligero\",\"Xochimilco-Tasqueña\",\"Martes\",\"26-01-2021\",NA,NA,25524\\n\"1581\",18844,\"STE-Tren Ligero\",\"Xochimilco-Tasqueña\",\"Miércoles\",\"27-01-2021\",NA,NA,26080\\n\"1582\",18845,\"STE-Tren Ligero\",\"Xochimilco-Tasqueña\",\"Jueves\",\"28-01-2021\",NA,NA,25624\\n\"1583\",18846,\"STE-Tren Ligero\",\"Xochimilco-Tasqueña\",\"Viernes\",\"29-01-2021\",NA,NA,26673\\n\"1584\",18847,\"STE-Tren Ligero\",\"Xochimilco-Tasqueña\",\"Sábado\",\"30-01-2021\",NA,NA,20664\\n\"1585\",18848,\"STE-Tren Ligero\",\"Xochimilco-Tasqueña\",\"Domingo\",\"31-01-2021\",NA,NA,12281\\n\"1586\",18849,\"STE-Tren Ligero\",\"Xochimilco-Tasqueña\",\"Lunes\",\"01-02-2021\",NA,NA,16309\\n\"1587\",18850,\"STE-Tren Ligero\",\"Xochimilco-Tasqueña\",\"Martes\",\"02-02-2021\",NA,NA,26997\\n\"1588\",18851,\"STE-Tren Ligero\",\"Xochimilco-Tasqueña\",\"Miércoles\",\"03-02-2021\",NA,NA,26826\\n\"1589\",18852,\"STE-Tren Ligero\",\"Xochimilco-Tasqueña\",\"Jueves\",\"04-02-2021\",NA,NA,26983\\n\"1590\",18853,\"STE-Tren Ligero\",\"Xochimilco-Tasqueña\",\"Viernes\",\"05-02-2021\",NA,NA,26541\\n\"1591\",18854,\"STE-Tren Ligero\",\"Xochimilco-Tasqueña\",\"Sábado\",\"06-02-2021\",NA,NA,20493\\n\"1592\",18855,\"STE-Tren Ligero\",\"Xochimilco-Tasqueña\",\"Domingo\",\"07-02-2021\",NA,NA,12137\\n\"1593\",18856,\"STE-Tren Ligero\",\"Xochimilco-Tasqueña\",\"Lunes\",\"08-02-2021\",NA,NA,32722\\n\"1594\",18857,\"STE-Tren Ligero\",\"Xochimilco-Tasqueña\",\"Martes\",\"09-02-2021\",NA,NA,32424\\n\"1595\",18858,\"STE-Tren Ligero\",\"Xochimilco-Tasqueña\",\"Miércoles\",\"10-02-2021\",NA,NA,34165\\n\"1596\",18859,\"STE-Tren Ligero\",\"Xochimilco-Tasqueña\",\"Jueves\",\"11-02-2021\",NA,NA,33334\\n\"1597\",18860,\"STE-Tren Ligero\",\"Xochimilco-Tasqueña\",\"Viernes\",\"12-02-2021\",NA,NA,36429\\n\"1598\",18861,\"STE-Tren Ligero\",\"Xochimilco-Tasqueña\",\"Sábado\",\"13-02-2021\",NA,NA,28054\\n\"1599\",18862,\"STE-Tren Ligero\",\"Xochimilco-Tasqueña\",\"Domingo\",\"14-02-2021\",NA,NA,17779\\n\"1600\",18863,\"STE-Tren Ligero\",\"Xochimilco-Tasqueña\",\"Lunes\",\"15-02-2021\",NA,NA,35588\\n\"1601\",18864,\"STE-Tren Ligero\",\"Xochimilco-Tasqueña\",\"Martes\",\"16-02-2021\",NA,NA,36447\\n\"1602\",18865,\"STE-Tren Ligero\",\"Xochimilco-Tasqueña\",\"Miércoles\",\"17-02-2021\",NA,NA,36902\\n\"1603\",18866,\"STE-Tren Ligero\",\"Xochimilco-Tasqueña\",\"Jueves\",\"18-02-2021\",NA,NA,37405\\n\"1604\",18867,\"STE-Tren Ligero\",\"Xochimilco-Tasqueña\",\"Viernes\",\"19-02-2021\",NA,NA,38181\\n\"1605\",18868,\"STE-Tren Ligero\",\"Xochimilco-Tasqueña\",\"Sábado\",\"20-02-2021\",NA,NA,29692\\n\"1606\",18869,\"STE-Tren Ligero\",\"Xochimilco-Tasqueña\",\"Domingo\",\"21-02-2021\",NA,NA,18279\\n\"1607\",18870,\"STE-Tren Ligero\",\"Xochimilco-Tasqueña\",\"Lunes\",\"22-02-2021\",NA,NA,38684\\n\"1608\",18871,\"STE-Tren Ligero\",\"Xochimilco-Tasqueña\",\"Martes\",\"23-02-2021\",NA,NA,NA\\n\"1609\",19210,\"STE-Trolebús\",\"L1 Eje Central\",\"Viernes\",\"01-01-2021\",NA,NA,12915\\n\"1610\",19211,\"STE-Trolebús\",\"L2 Eje 2 sur\",\"Viernes\",\"01-01-2021\",NA,NA,1199\\n\"1611\",19212,\"STE-Trolebús\",\"L3 Eje 7 Sur\",\"Viernes\",\"01-01-2021\",NA,NA,1454\\n\"1612\",19213,\"STE-Trolebús\",\"L4 Pto Aéreo-Rosario\",\"Viernes\",\"01-01-2021\",NA,NA,1308\\n\"1613\",19214,\"STE-Trolebús\",\"L5 Sn Felipe-Hidalgo\",\"Viernes\",\"01-01-2021\",NA,NA,3027\\n\"1614\",19215,\"STE-Trolebús\",\"L6 Rosario-Chapultepec\",\"Viernes\",\"01-01-2021\",NA,NA,1314\\n\"1615\",19216,\"STE-Trolebús\",\"L7 Lomas Estrella-CU\",\"Viernes\",\"01-01-2021\",NA,NA,3541\\n\"1616\",19217,\"STE-Trolebús\",\"L8 Circuito IPN\",\"Viernes\",\"01-01-2021\",NA,NA,0\\n\"1617\",19218,\"STE-Trolebús\",\"L1 Eje Central\",\"Sábado\",\"02-01-2021\",NA,NA,32105\\n\"1618\",19219,\"STE-Trolebús\",\"L2 Eje 2 sur\",\"Sábado\",\"02-01-2021\",NA,NA,3165\\n\"1619\",19220,\"STE-Trolebús\",\"L3 Eje 7 Sur\",\"Sábado\",\"02-01-2021\",NA,NA,3907\\n\"1620\",19221,\"STE-Trolebús\",\"L4 Pto Aéreo-Rosario\",\"Sábado\",\"02-01-2021\",NA,NA,4516\\n\"1621\",19222,\"STE-Trolebús\",\"L5 Sn Felipe-Hidalgo\",\"Sábado\",\"02-01-2021\",NA,NA,4990\\n\"1622\",19223,\"STE-Trolebús\",\"L6 Rosario-Chapultepec\",\"Sábado\",\"02-01-2021\",NA,NA,5019\\n\"1623\",19224,\"STE-Trolebús\",\"L7 Lomas Estrella-CU\",\"Sábado\",\"02-01-2021\",NA,NA,6243\\n\"1624\",19225,\"STE-Trolebús\",\"L8 Circuito IPN\",\"Sábado\",\"02-01-2021\",NA,NA,0\\n\"1625\",19226,\"STE-Trolebús\",\"L1 Eje Central\",\"Domingo\",\"03-01-2021\",NA,NA,27430\\n\"1626\",19227,\"STE-Trolebús\",\"L2 Eje 2 sur\",\"Domingo\",\"03-01-2021\",NA,NA,2196\\n\"1627\",19228,\"STE-Trolebús\",\"L3 Eje 7 Sur\",\"Domingo\",\"03-01-2021\",NA,NA,2791\\n\"1628\",19229,\"STE-Trolebús\",\"L4 Pto Aéreo-Rosario\",\"Domingo\",\"03-01-2021\",NA,NA,4645\\n\"1629\",19230,\"STE-Trolebús\",\"L5 Sn Felipe-Hidalgo\",\"Domingo\",\"03-01-2021\",NA,NA,3763\\n\"1630\",19231,\"STE-Trolebús\",\"L6 Rosario-Chapultepec\",\"Domingo\",\"03-01-2021\",NA,NA,4011\\n\"1631\",19232,\"STE-Trolebús\",\"L7 Lomas Estrella-CU\",\"Domingo\",\"03-01-2021\",NA,NA,5600\\n\"1632\",19233,\"STE-Trolebús\",\"L8 Circuito IPN\",\"Domingo\",\"03-01-2021\",NA,NA,0\\n\"1633\",19234,\"STE-Trolebús\",\"L1 Eje Central\",\"Lunes\",\"04-01-2021\",NA,NA,47414\\n\"1634\",19235,\"STE-Trolebús\",\"L2 Eje 2 sur\",\"Lunes\",\"04-01-2021\",NA,NA,4314\\n\"1635\",19236,\"STE-Trolebús\",\"L3 Eje 7 Sur\",\"Lunes\",\"04-01-2021\",NA,NA,4854\\n\"1636\",19237,\"STE-Trolebús\",\"L4 Pto Aéreo-Rosario\",\"Lunes\",\"04-01-2021\",NA,NA,9818\\n\"1637\",19238,\"STE-Trolebús\",\"L5 Sn Felipe-Hidalgo\",\"Lunes\",\"04-01-2021\",NA,NA,6470\\n\"1638\",19239,\"STE-Trolebús\",\"L6 Rosario-Chapultepec\",\"Lunes\",\"04-01-2021\",NA,NA,5763\\n\"1639\",19240,\"STE-Trolebús\",\"L7 Lomas Estrella-CU\",\"Lunes\",\"04-01-2021\",NA,NA,10126\\n\"1640\",19241,\"STE-Trolebús\",\"L8 Circuito IPN\",\"Lunes\",\"04-01-2021\",NA,NA,0\\n\"1641\",19242,\"STE-Trolebús\",\"L1 Eje Central\",\"Martes\",\"05-01-2021\",NA,NA,48405\\n\"1642\",19243,\"STE-Trolebús\",\"L2 Eje 2 sur\",\"Martes\",\"05-01-2021\",NA,NA,4706\\n\"1643\",19244,\"STE-Trolebús\",\"L3 Eje 7 Sur\",\"Martes\",\"05-01-2021\",NA,NA,5534\\n\"1644\",19245,\"STE-Trolebús\",\"L4 Pto Aéreo-Rosario\",\"Martes\",\"05-01-2021\",NA,NA,11780\\n\"1645\",19246,\"STE-Trolebús\",\"L5 Sn Felipe-Hidalgo\",\"Martes\",\"05-01-2021\",NA,NA,6444\\n\"1646\",19247,\"STE-Trolebús\",\"L6 Rosario-Chapultepec\",\"Martes\",\"05-01-2021\",NA,NA,4590\\n\"1647\",19248,\"STE-Trolebús\",\"L7 Lomas Estrella-CU\",\"Martes\",\"05-01-2021\",NA,NA,10013\\n\"1648\",19249,\"STE-Trolebús\",\"L8 Circuito IPN\",\"Martes\",\"05-01-2021\",NA,NA,0\\n\"1649\",19250,\"STE-Trolebús\",\"L1 Eje Central\",\"Miércoles\",\"06-01-2021\",NA,NA,39663\\n\"1650\",19251,\"STE-Trolebús\",\"L2 Eje 2 sur\",\"Miércoles\",\"06-01-2021\",NA,NA,4751\\n\"1651\",19252,\"STE-Trolebús\",\"L3 Eje 7 Sur\",\"Miércoles\",\"06-01-2021\",NA,NA,4576\\n\"1652\",19253,\"STE-Trolebús\",\"L4 Pto Aéreo-Rosario\",\"Miércoles\",\"06-01-2021\",NA,NA,10574\\n\"1653\",19254,\"STE-Trolebús\",\"L5 Sn Felipe-Hidalgo\",\"Miércoles\",\"06-01-2021\",NA,NA,4905\\n\"1654\",19255,\"STE-Trolebús\",\"L6 Rosario-Chapultepec\",\"Miércoles\",\"06-01-2021\",NA,NA,5580\\n\"1655\",19256,\"STE-Trolebús\",\"L7 Lomas Estrella-CU\",\"Miércoles\",\"06-01-2021\",NA,NA,9169\\n\"1656\",19257,\"STE-Trolebús\",\"L8 Circuito IPN\",\"Miércoles\",\"06-01-2021\",NA,NA,0\\n\"1657\",19258,\"STE-Trolebús\",\"L1 Eje Central\",\"Jueves\",\"07-01-2021\",NA,NA,41880\\n\"1658\",19259,\"STE-Trolebús\",\"L2 Eje 2 sur\",\"Jueves\",\"07-01-2021\",NA,NA,3674\\n\"1659\",19260,\"STE-Trolebús\",\"L3 Eje 7 Sur\",\"Jueves\",\"07-01-2021\",NA,NA,4799\\n\"1660\",19261,\"STE-Trolebús\",\"L4 Pto Aéreo-Rosario\",\"Jueves\",\"07-01-2021\",NA,NA,10047\\n\"1661\",19262,\"STE-Trolebús\",\"L5 Sn Felipe-Hidalgo\",\"Jueves\",\"07-01-2021\",NA,NA,5753\\n\"1662\",19263,\"STE-Trolebús\",\"L6 Rosario-Chapultepec\",\"Jueves\",\"07-01-2021\",NA,NA,5991\\n\"1663\",19264,\"STE-Trolebús\",\"L7 Lomas Estrella-CU\",\"Jueves\",\"07-01-2021\",NA,NA,9594\\n\"1664\",19265,\"STE-Trolebús\",\"L8 Circuito IPN\",\"Jueves\",\"07-01-2021\",NA,NA,0\\n\"1665\",19266,\"STE-Trolebús\",\"L1 Eje Central\",\"Viernes\",\"08-01-2021\",NA,NA,42049\\n\"1666\",19267,\"STE-Trolebús\",\"L2 Eje 2 sur\",\"Viernes\",\"08-01-2021\",NA,NA,3844\\n\"1667\",19268,\"STE-Trolebús\",\"L3 Eje 7 Sur\",\"Viernes\",\"08-01-2021\",NA,NA,5243\\n\"1668\",19269,\"STE-Trolebús\",\"L4 Pto Aéreo-Rosario\",\"Viernes\",\"08-01-2021\",NA,NA,10945\\n\"1669\",19270,\"STE-Trolebús\",\"L5 Sn Felipe-Hidalgo\",\"Viernes\",\"08-01-2021\",NA,NA,6262\\n\"1670\",19271,\"STE-Trolebús\",\"L6 Rosario-Chapultepec\",\"Viernes\",\"08-01-2021\",NA,NA,6340\\n\"1671\",19272,\"STE-Trolebús\",\"L7 Lomas Estrella-CU\",\"Viernes\",\"08-01-2021\",NA,NA,9999\\n\"1672\",19273,\"STE-Trolebús\",\"L8 Circuito IPN\",\"Viernes\",\"08-01-2021\",NA,NA,0\\n\"1673\",19274,\"STE-Trolebús\",\"L1 Eje Central\",\"Sábado\",\"09-01-2021\",NA,NA,63054\\n\"1674\",19275,\"STE-Trolebús\",\"L2 Eje 2 sur\",\"Sábado\",\"09-01-2021\",NA,NA,6084\\n\"1675\",19276,\"STE-Trolebús\",\"L3 Eje 7 Sur\",\"Sábado\",\"09-01-2021\",NA,NA,1072\\n\"1676\",19277,\"STE-Trolebús\",\"L4 Pto Aéreo-Rosario\",\"Sábado\",\"09-01-2021\",NA,NA,12177\\n\"1677\",19278,\"STE-Trolebús\",\"L5 Sn Felipe-Hidalgo\",\"Sábado\",\"09-01-2021\",NA,NA,6065\\n\"1678\",19279,\"STE-Trolebús\",\"L6 Rosario-Chapultepec\",\"Sábado\",\"09-01-2021\",NA,NA,5524\\n\"1679\",19280,\"STE-Trolebús\",\"L7 Lomas Estrella-CU\",\"Sábado\",\"09-01-2021\",NA,NA,7519\\n\"1680\",19281,\"STE-Trolebús\",\"L8 Circuito IPN\",\"Sábado\",\"09-01-2021\",NA,NA,0\\n\"1681\",19282,\"STE-Trolebús\",\"L1 Eje Central\",\"Domingo\",\"10-01-2021\",NA,NA,44623\\n\"1682\",19283,\"STE-Trolebús\",\"L2 Eje 2 sur\",\"Domingo\",\"10-01-2021\",NA,NA,3428\\n\"1683\",19284,\"STE-Trolebús\",\"L3 Eje 7 Sur\",\"Domingo\",\"10-01-2021\",NA,NA,4586\\n\"1684\",19285,\"STE-Trolebús\",\"L4 Pto Aéreo-Rosario\",\"Domingo\",\"10-01-2021\",NA,NA,8207\\n\"1685\",19286,\"STE-Trolebús\",\"L5 Sn Felipe-Hidalgo\",\"Domingo\",\"10-01-2021\",NA,NA,2458\\n\"1686\",19287,\"STE-Trolebús\",\"L6 Rosario-Chapultepec\",\"Domingo\",\"10-01-2021\",NA,NA,3437\\n\"1687\",19288,\"STE-Trolebús\",\"L7 Lomas Estrella-CU\",\"Domingo\",\"10-01-2021\",NA,NA,5511\\n\"1688\",19289,\"STE-Trolebús\",\"L8 Circuito IPN\",\"Domingo\",\"10-01-2021\",NA,NA,0\\n\"1689\",19290,\"STE-Trolebús\",\"L1 Eje Central\",\"Lunes\",\"11-01-2021\",NA,NA,80769\\n\"1690\",19291,\"STE-Trolebús\",\"L2 Eje 2 sur\",\"Lunes\",\"11-01-2021\",NA,NA,12673\\n\"1691\",19292,\"STE-Trolebús\",\"L3 Eje 7 Sur\",\"Lunes\",\"11-01-2021\",NA,NA,8916\\n\"1692\",19293,\"STE-Trolebús\",\"L4 Pto Aéreo-Rosario\",\"Lunes\",\"11-01-2021\",NA,NA,14860\\n\"1693\",19294,\"STE-Trolebús\",\"L5 Sn Felipe-Hidalgo\",\"Lunes\",\"11-01-2021\",NA,NA,4939\\n\"1694\",19295,\"STE-Trolebús\",\"L6 Rosario-Chapultepec\",\"Lunes\",\"11-01-2021\",NA,NA,8668\\n\"1695\",19296,\"STE-Trolebús\",\"L7 Lomas Estrella-CU\",\"Lunes\",\"11-01-2021\",NA,NA,9372\\n\"1696\",19297,\"STE-Trolebús\",\"L8 Circuito IPN\",\"Lunes\",\"11-01-2021\",NA,NA,0\\n\"1697\",19298,\"STE-Trolebús\",\"L1 Eje Central\",\"Martes\",\"12-01-2021\",NA,NA,70164\\n\"1698\",19299,\"STE-Trolebús\",\"L2 Eje 2 sur\",\"Martes\",\"12-01-2021\",NA,NA,11527\\n\"1699\",19300,\"STE-Trolebús\",\"L3 Eje 7 Sur\",\"Martes\",\"12-01-2021\",NA,NA,11433\\n\"1700\",19301,\"STE-Trolebús\",\"L4 Pto Aéreo-Rosario\",\"Martes\",\"12-01-2021\",NA,NA,13670\\n\"1701\",19302,\"STE-Trolebús\",\"L5 Sn Felipe-Hidalgo\",\"Martes\",\"12-01-2021\",NA,NA,4095\\n\"1702\",19303,\"STE-Trolebús\",\"L6 Rosario-Chapultepec\",\"Martes\",\"12-01-2021\",NA,NA,5699\\n\"1703\",19304,\"STE-Trolebús\",\"L7 Lomas Estrella-CU\",\"Martes\",\"12-01-2021\",NA,NA,7627\\n\"1704\",19305,\"STE-Trolebús\",\"L8 Circuito IPN\",\"Martes\",\"12-01-2021\",NA,NA,0\\n\"1705\",19306,\"STE-Trolebús\",\"L1 Eje Central\",\"Miércoles\",\"13-01-2021\",NA,NA,71373\\n\"1706\",19307,\"STE-Trolebús\",\"L2 Eje 2 sur\",\"Miércoles\",\"13-01-2021\",NA,NA,11296\\n\"1707\",19308,\"STE-Trolebús\",\"L3 Eje 7 Sur\",\"Miércoles\",\"13-01-2021\",NA,NA,9406\\n\"1708\",19309,\"STE-Trolebús\",\"L4 Pto Aéreo-Rosario\",\"Miércoles\",\"13-01-2021\",NA,NA,11704\\n\"1709\",19310,\"STE-Trolebús\",\"L5 Sn Felipe-Hidalgo\",\"Miércoles\",\"13-01-2021\",NA,NA,5256\\n\"1710\",19311,\"STE-Trolebús\",\"L6 Rosario-Chapultepec\",\"Miércoles\",\"13-01-2021\",NA,NA,5307\\n\"1711\",19312,\"STE-Trolebús\",\"L7 Lomas Estrella-CU\",\"Miércoles\",\"13-01-2021\",NA,NA,8348\\n\"1712\",19313,\"STE-Trolebús\",\"L8 Circuito IPN\",\"Miércoles\",\"13-01-2021\",NA,NA,0\\n\"1713\",19314,\"STE-Trolebús\",\"L1 Eje Central\",\"Jueves\",\"14-01-2021\",NA,NA,67462\\n\"1714\",19315,\"STE-Trolebús\",\"L2 Eje 2 sur\",\"Jueves\",\"14-01-2021\",NA,NA,9902\\n\"1715\",19316,\"STE-Trolebús\",\"L3 Eje 7 Sur\",\"Jueves\",\"14-01-2021\",NA,NA,11539\\n\"1716\",19317,\"STE-Trolebús\",\"L4 Pto Aéreo-Rosario\",\"Jueves\",\"14-01-2021\",NA,NA,12237\\n\"1717\",19318,\"STE-Trolebús\",\"L5 Sn Felipe-Hidalgo\",\"Jueves\",\"14-01-2021\",NA,NA,5829\\n\"1718\",19319,\"STE-Trolebús\",\"L6 Rosario-Chapultepec\",\"Jueves\",\"14-01-2021\",NA,NA,4852\\n\"1719\",19320,\"STE-Trolebús\",\"L7 Lomas Estrella-CU\",\"Jueves\",\"14-01-2021\",NA,NA,9166\\n\"1720\",19321,\"STE-Trolebús\",\"L8 Circuito IPN\",\"Jueves\",\"14-01-2021\",NA,NA,0\\n\"1721\",19322,\"STE-Trolebús\",\"L1 Eje Central\",\"Viernes\",\"15-01-2021\",NA,NA,73839\\n\"1722\",19323,\"STE-Trolebús\",\"L2 Eje 2 sur\",\"Viernes\",\"15-01-2021\",NA,NA,13766\\n\"1723\",19324,\"STE-Trolebús\",\"L3 Eje 7 Sur\",\"Viernes\",\"15-01-2021\",NA,NA,8666\\n\"1724\",19325,\"STE-Trolebús\",\"L4 Pto Aéreo-Rosario\",\"Viernes\",\"15-01-2021\",NA,NA,10604\\n\"1725\",19326,\"STE-Trolebús\",\"L5 Sn Felipe-Hidalgo\",\"Viernes\",\"15-01-2021\",NA,NA,6364\\n\"1726\",19327,\"STE-Trolebús\",\"L6 Rosario-Chapultepec\",\"Viernes\",\"15-01-2021\",NA,NA,6125\\n\"1727\",19328,\"STE-Trolebús\",\"L7 Lomas Estrella-CU\",\"Viernes\",\"15-01-2021\",NA,NA,9825\\n\"1728\",19329,\"STE-Trolebús\",\"L8 Circuito IPN\",\"Viernes\",\"15-01-2021\",NA,NA,0\\n\"1729\",19330,\"STE-Trolebús\",\"L1 Eje Central\",\"Sábado\",\"16-01-2021\",NA,NA,57972\\n\"1730\",19331,\"STE-Trolebús\",\"L2 Eje 2 sur\",\"Sábado\",\"16-01-2021\",NA,NA,9979\\n\"1731\",19332,\"STE-Trolebús\",\"L3 Eje 7 Sur\",\"Sábado\",\"16-01-2021\",NA,NA,8737\\n\"1732\",19333,\"STE-Trolebús\",\"L4 Pto Aéreo-Rosario\",\"Sábado\",\"16-01-2021\",NA,NA,9802\\n\"1733\",19334,\"STE-Trolebús\",\"L5 Sn Felipe-Hidalgo\",\"Sábado\",\"16-01-2021\",NA,NA,4520\\n\"1734\",19335,\"STE-Trolebús\",\"L6 Rosario-Chapultepec\",\"Sábado\",\"16-01-2021\",NA,NA,4433\\n\"1735\",19336,\"STE-Trolebús\",\"L7 Lomas Estrella-CU\",\"Sábado\",\"16-01-2021\",NA,NA,7704\\n\"1736\",19337,\"STE-Trolebús\",\"L8 Circuito IPN\",\"Sábado\",\"16-01-2021\",NA,NA,0\\n\"1737\",19338,\"STE-Trolebús\",\"L1 Eje Central\",\"Domingo\",\"17-01-2021\",NA,NA,32430\\n\"1738\",19339,\"STE-Trolebús\",\"L2 Eje 2 sur\",\"Domingo\",\"17-01-2021\",NA,NA,6280\\n\"1739\",19340,\"STE-Trolebús\",\"L3 Eje 7 Sur\",\"Domingo\",\"17-01-2021\",NA,NA,5783\\n\"1740\",19341,\"STE-Trolebús\",\"L4 Pto Aéreo-Rosario\",\"Domingo\",\"17-01-2021\",NA,NA,5556\\n\"1741\",19342,\"STE-Trolebús\",\"L5 Sn Felipe-Hidalgo\",\"Domingo\",\"17-01-2021\",NA,NA,3808\\n\"1742\",19343,\"STE-Trolebús\",\"L6 Rosario-Chapultepec\",\"Domingo\",\"17-01-2021\",NA,NA,3830\\n\"1743\",19344,\"STE-Trolebús\",\"L7 Lomas Estrella-CU\",\"Domingo\",\"17-01-2021\",NA,NA,4637\\n\"1744\",19345,\"STE-Trolebús\",\"L8 Circuito IPN\",\"Domingo\",\"17-01-2021\",NA,NA,0\\n\"1745\",19346,\"STE-Trolebús\",\"L1 Eje Central\",\"Lunes\",\"18-01-2021\",NA,NA,66947\\n\"1746\",19347,\"STE-Trolebús\",\"L2 Eje 2 sur\",\"Lunes\",\"18-01-2021\",NA,NA,11851\\n\"1747\",19348,\"STE-Trolebús\",\"L3 Eje 7 Sur\",\"Lunes\",\"18-01-2021\",NA,NA,11250\\n\"1748\",19349,\"STE-Trolebús\",\"L4 Pto Aéreo-Rosario\",\"Lunes\",\"18-01-2021\",NA,NA,9944\\n\"1749\",19350,\"STE-Trolebús\",\"L5 Sn Felipe-Hidalgo\",\"Lunes\",\"18-01-2021\",NA,NA,6687\\n\"1750\",19351,\"STE-Trolebús\",\"L6 Rosario-Chapultepec\",\"Lunes\",\"18-01-2021\",NA,NA,4800\\n\"1751\",19352,\"STE-Trolebús\",\"L7 Lomas Estrella-CU\",\"Lunes\",\"18-01-2021\",NA,NA,8525\\n\"1752\",19353,\"STE-Trolebús\",\"L8 Circuito IPN\",\"Lunes\",\"18-01-2021\",NA,NA,0\\n\"1753\",19354,\"STE-Trolebús\",\"L1 Eje Central\",\"Martes\",\"19-01-2021\",NA,NA,65217\\n\"1754\",19355,\"STE-Trolebús\",\"L2 Eje 2 sur\",\"Martes\",\"19-01-2021\",NA,NA,11540\\n\"1755\",19356,\"STE-Trolebús\",\"L3 Eje 7 Sur\",\"Martes\",\"19-01-2021\",NA,NA,10789\\n\"1756\",19357,\"STE-Trolebús\",\"L4 Pto Aéreo-Rosario\",\"Martes\",\"19-01-2021\",NA,NA,11033\\n\"1757\",19358,\"STE-Trolebús\",\"L5 Sn Felipe-Hidalgo\",\"Martes\",\"19-01-2021\",NA,NA,6111\\n\"1758\",19359,\"STE-Trolebús\",\"L6 Rosario-Chapultepec\",\"Martes\",\"19-01-2021\",NA,NA,5404\\n\"1759\",19360,\"STE-Trolebús\",\"L7 Lomas Estrella-CU\",\"Martes\",\"19-01-2021\",NA,NA,8820\\n\"1760\",19361,\"STE-Trolebús\",\"L8 Circuito IPN\",\"Martes\",\"19-01-2021\",NA,NA,0\\n\"1761\",19362,\"STE-Trolebús\",\"L1 Eje Central\",\"Miércoles\",\"20-01-2021\",NA,NA,63314\\n\"1762\",19363,\"STE-Trolebús\",\"L2 Eje 2 sur\",\"Miércoles\",\"20-01-2021\",NA,NA,13121\\n\"1763\",19364,\"STE-Trolebús\",\"L3 Eje 7 Sur\",\"Miércoles\",\"20-01-2021\",NA,NA,10094\\n\"1764\",19365,\"STE-Trolebús\",\"L4 Pto Aéreo-Rosario\",\"Miércoles\",\"20-01-2021\",NA,NA,12026\\n\"1765\",19366,\"STE-Trolebús\",\"L5 Sn Felipe-Hidalgo\",\"Miércoles\",\"20-01-2021\",NA,NA,5276\\n\"1766\",19367,\"STE-Trolebús\",\"L6 Rosario-Chapultepec\",\"Miércoles\",\"20-01-2021\",NA,NA,4851\\n\"1767\",19368,\"STE-Trolebús\",\"L7 Lomas Estrella-CU\",\"Miércoles\",\"20-01-2021\",NA,NA,7749\\n\"1768\",19369,\"STE-Trolebús\",\"L8 Circuito IPN\",\"Miércoles\",\"20-01-2021\",NA,NA,0\\n\"1769\",19370,\"STE-Trolebús\",\"L1 Eje Central\",\"Jueves\",\"21-01-2021\",NA,NA,60835\\n\"1770\",19371,\"STE-Trolebús\",\"L2 Eje 2 sur\",\"Jueves\",\"21-01-2021\",NA,NA,11907\\n\"1771\",19372,\"STE-Trolebús\",\"L3 Eje 7 Sur\",\"Jueves\",\"21-01-2021\",NA,NA,10689\\n\"1772\",19373,\"STE-Trolebús\",\"L4 Pto Aéreo-Rosario\",\"Jueves\",\"21-01-2021\",NA,NA,9749\\n\"1773\",19374,\"STE-Trolebús\",\"L5 Sn Felipe-Hidalgo\",\"Jueves\",\"21-01-2021\",NA,NA,5946\\n\"1774\",19375,\"STE-Trolebús\",\"L6 Rosario-Chapultepec\",\"Jueves\",\"21-01-2021\",NA,NA,4785\\n\"1775\",19376,\"STE-Trolebús\",\"L7 Lomas Estrella-CU\",\"Jueves\",\"21-01-2021\",NA,NA,9149\\n\"1776\",19377,\"STE-Trolebús\",\"L8 Circuito IPN\",\"Jueves\",\"21-01-2021\",NA,NA,0\\n\"1777\",19378,\"STE-Trolebús\",\"L1 Eje Central\",\"Viernes\",\"22-01-2021\",NA,NA,54755\\n\"1778\",19379,\"STE-Trolebús\",\"L2 Eje 2 sur\",\"Viernes\",\"22-01-2021\",NA,NA,11515\\n\"1779\",19380,\"STE-Trolebús\",\"L3 Eje 7 Sur\",\"Viernes\",\"22-01-2021\",NA,NA,10876\\n\"1780\",19381,\"STE-Trolebús\",\"L4 Pto Aéreo-Rosario\",\"Viernes\",\"22-01-2021\",NA,NA,10769\\n\"1781\",19382,\"STE-Trolebús\",\"L5 Sn Felipe-Hidalgo\",\"Viernes\",\"22-01-2021\",NA,NA,6314\\n\"1782\",19383,\"STE-Trolebús\",\"L6 Rosario-Chapultepec\",\"Viernes\",\"22-01-2021\",NA,NA,4896\\n\"1783\",19384,\"STE-Trolebús\",\"L7 Lomas Estrella-CU\",\"Viernes\",\"22-01-2021\",NA,NA,9618\\n\"1784\",19385,\"STE-Trolebús\",\"L8 Circuito IPN\",\"Viernes\",\"22-01-2021\",NA,NA,0\\n\"1785\",19386,\"STE-Trolebús\",\"L1 Eje Central\",\"Sábado\",\"23-01-2021\",NA,NA,47825\\n\"1786\",19387,\"STE-Trolebús\",\"L2 Eje 2 sur\",\"Sábado\",\"23-01-2021\",NA,NA,10825\\n\"1787\",19388,\"STE-Trolebús\",\"L3 Eje 7 Sur\",\"Sábado\",\"23-01-2021\",NA,NA,9285\\n\"1788\",19389,\"STE-Trolebús\",\"L4 Pto Aéreo-Rosario\",\"Sábado\",\"23-01-2021\",NA,NA,8419\\n\"1789\",19390,\"STE-Trolebús\",\"L5 Sn Felipe-Hidalgo\",\"Sábado\",\"23-01-2021\",NA,NA,5729\\n\"1790\",19391,\"STE-Trolebús\",\"L6 Rosario-Chapultepec\",\"Sábado\",\"23-01-2021\",NA,NA,3621\\n\"1791\",19392,\"STE-Trolebús\",\"L7 Lomas Estrella-CU\",\"Sábado\",\"23-01-2021\",NA,NA,6387\\n\"1792\",19393,\"STE-Trolebús\",\"L8 Circuito IPN\",\"Sábado\",\"23-01-2021\",NA,NA,0\\n\"1793\",19394,\"STE-Trolebús\",\"L1 Eje Central\",\"Domingo\",\"24-01-2021\",NA,NA,33996\\n\"1794\",19395,\"STE-Trolebús\",\"L2 Eje 2 sur\",\"Domingo\",\"24-01-2021\",NA,NA,6414\\n\"1795\",19396,\"STE-Trolebús\",\"L3 Eje 7 Sur\",\"Domingo\",\"24-01-2021\",NA,NA,4643\\n\"1796\",19397,\"STE-Trolebús\",\"L4 Pto Aéreo-Rosario\",\"Domingo\",\"24-01-2021\",NA,NA,5729\\n\"1797\",19398,\"STE-Trolebús\",\"L5 Sn Felipe-Hidalgo\",\"Domingo\",\"24-01-2021\",NA,NA,3969\\n\"1798\",19399,\"STE-Trolebús\",\"L6 Rosario-Chapultepec\",\"Domingo\",\"24-01-2021\",NA,NA,3536\\n\"1799\",19400,\"STE-Trolebús\",\"L7 Lomas Estrella-CU\",\"Domingo\",\"24-01-2021\",NA,NA,5293\\n\"1800\",19401,\"STE-Trolebús\",\"L8 Circuito IPN\",\"Domingo\",\"24-01-2021\",NA,NA,0\\n\"1801\",19402,\"STE-Trolebús\",\"L1 Eje Central\",\"Lunes\",\"25-01-2021\",NA,NA,59012\\n\"1802\",19403,\"STE-Trolebús\",\"L2 Eje 2 sur\",\"Lunes\",\"25-01-2021\",NA,NA,9326\\n\"1803\",19404,\"STE-Trolebús\",\"L3 Eje 7 Sur\",\"Lunes\",\"25-01-2021\",NA,NA,10353\\n\"1804\",19405,\"STE-Trolebús\",\"L4 Pto Aéreo-Rosario\",\"Lunes\",\"25-01-2021\",NA,NA,9101\\n\"1805\",19406,\"STE-Trolebús\",\"L5 Sn Felipe-Hidalgo\",\"Lunes\",\"25-01-2021\",NA,NA,5611\\n\"1806\",19407,\"STE-Trolebús\",\"L6 Rosario-Chapultepec\",\"Lunes\",\"25-01-2021\",NA,NA,5229\\n\"1807\",19408,\"STE-Trolebús\",\"L7 Lomas Estrella-CU\",\"Lunes\",\"25-01-2021\",NA,NA,7437\\n\"1808\",19409,\"STE-Trolebús\",\"L8 Circuito IPN\",\"Lunes\",\"25-01-2021\",NA,NA,0\\n\"1809\",19410,\"STE-Trolebús\",\"L1 Eje Central\",\"Martes\",\"26-01-2021\",NA,NA,60450\\n\"1810\",19411,\"STE-Trolebús\",\"L2 Eje 2 sur\",\"Martes\",\"26-01-2021\",NA,NA,9892\\n\"1811\",19412,\"STE-Trolebús\",\"L3 Eje 7 Sur\",\"Martes\",\"26-01-2021\",NA,NA,6485\\n\"1812\",19413,\"STE-Trolebús\",\"L4 Pto Aéreo-Rosario\",\"Martes\",\"26-01-2021\",NA,NA,8500\\n\"1813\",19414,\"STE-Trolebús\",\"L5 Sn Felipe-Hidalgo\",\"Martes\",\"26-01-2021\",NA,NA,5360\\n\"1814\",19415,\"STE-Trolebús\",\"L6 Rosario-Chapultepec\",\"Martes\",\"26-01-2021\",NA,NA,3824\\n\"1815\",19416,\"STE-Trolebús\",\"L7 Lomas Estrella-CU\",\"Martes\",\"26-01-2021\",NA,NA,8032\\n\"1816\",19417,\"STE-Trolebús\",\"L8 Circuito IPN\",\"Martes\",\"26-01-2021\",NA,NA,0\\n\"1817\",19418,\"STE-Trolebús\",\"L1 Eje Central\",\"Miércoles\",\"27-01-2021\",NA,NA,61456\\n\"1818\",19419,\"STE-Trolebús\",\"L2 Eje 2 sur\",\"Miércoles\",\"27-01-2021\",NA,NA,9371\\n\"1819\",19420,\"STE-Trolebús\",\"L3 Eje 7 Sur\",\"Miércoles\",\"27-01-2021\",NA,NA,6401\\n\"1820\",19421,\"STE-Trolebús\",\"L4 Pto Aéreo-Rosario\",\"Miércoles\",\"27-01-2021\",NA,NA,9521\\n\"1821\",19422,\"STE-Trolebús\",\"L5 Sn Felipe-Hidalgo\",\"Miércoles\",\"27-01-2021\",NA,NA,6011\\n\"1822\",19423,\"STE-Trolebús\",\"L6 Rosario-Chapultepec\",\"Miércoles\",\"27-01-2021\",NA,NA,4109\\n\"1823\",19424,\"STE-Trolebús\",\"L7 Lomas Estrella-CU\",\"Miércoles\",\"27-01-2021\",NA,NA,8408\\n\"1824\",19425,\"STE-Trolebús\",\"L8 Circuito IPN\",\"Miércoles\",\"27-01-2021\",NA,NA,0\\n\"1825\",19426,\"STE-Trolebús\",\"L1 Eje Central\",\"Jueves\",\"28-01-2021\",NA,NA,76110\\n\"1826\",19427,\"STE-Trolebús\",\"L2 Eje 2 sur\",\"Jueves\",\"28-01-2021\",NA,NA,8553\\n\"1827\",19428,\"STE-Trolebús\",\"L3 Eje 7 Sur\",\"Jueves\",\"28-01-2021\",NA,NA,8918\\n\"1828\",19429,\"STE-Trolebús\",\"L4 Pto Aéreo-Rosario\",\"Jueves\",\"28-01-2021\",NA,NA,8847\\n\"1829\",19430,\"STE-Trolebús\",\"L5 Sn Felipe-Hidalgo\",\"Jueves\",\"28-01-2021\",NA,NA,6979\\n\"1830\",19431,\"STE-Trolebús\",\"L6 Rosario-Chapultepec\",\"Jueves\",\"28-01-2021\",NA,NA,4373\\n\"1831\",19432,\"STE-Trolebús\",\"L7 Lomas Estrella-CU\",\"Jueves\",\"28-01-2021\",NA,NA,8549\\n\"1832\",19433,\"STE-Trolebús\",\"L8 Circuito IPN\",\"Jueves\",\"28-01-2021\",NA,NA,0\\n\"1833\",19434,\"STE-Trolebús\",\"L1 Eje Central\",\"Viernes\",\"29-01-2021\",NA,NA,74712\\n\"1834\",19435,\"STE-Trolebús\",\"L2 Eje 2 sur\",\"Viernes\",\"29-01-2021\",NA,NA,9043\\n\"1835\",19436,\"STE-Trolebús\",\"L3 Eje 7 Sur\",\"Viernes\",\"29-01-2021\",NA,NA,11572\\n\"1836\",19437,\"STE-Trolebús\",\"L4 Pto Aéreo-Rosario\",\"Viernes\",\"29-01-2021\",NA,NA,9297\\n\"1837\",19438,\"STE-Trolebús\",\"L5 Sn Felipe-Hidalgo\",\"Viernes\",\"29-01-2021\",NA,NA,5865\\n\"1838\",19439,\"STE-Trolebús\",\"L6 Rosario-Chapultepec\",\"Viernes\",\"29-01-2021\",NA,NA,6220\\n\"1839\",19440,\"STE-Trolebús\",\"L7 Lomas Estrella-CU\",\"Viernes\",\"29-01-2021\",NA,NA,8665\\n\"1840\",19441,\"STE-Trolebús\",\"L8 Circuito IPN\",\"Viernes\",\"29-01-2021\",NA,NA,0\\n\"1841\",19442,\"STE-Trolebús\",\"L1 Eje Central\",\"Sábado\",\"30-01-2021\",NA,NA,63058\\n\"1842\",19443,\"STE-Trolebús\",\"L2 Eje 2 sur\",\"Sábado\",\"30-01-2021\",NA,NA,9653\\n\"1843\",19444,\"STE-Trolebús\",\"L3 Eje 7 Sur\",\"Sábado\",\"30-01-2021\",NA,NA,8232\\n\"1844\",19445,\"STE-Trolebús\",\"L4 Pto Aéreo-Rosario\",\"Sábado\",\"30-01-2021\",NA,NA,7174\\n\"1845\",19446,\"STE-Trolebús\",\"L5 Sn Felipe-Hidalgo\",\"Sábado\",\"30-01-2021\",NA,NA,4650\\n\"1846\",19447,\"STE-Trolebús\",\"L6 Rosario-Chapultepec\",\"Sábado\",\"30-01-2021\",NA,NA,6105\\n\"1847\",19448,\"STE-Trolebús\",\"L7 Lomas Estrella-CU\",\"Sábado\",\"30-01-2021\",NA,NA,6640\\n\"1848\",19449,\"STE-Trolebús\",\"L8 Circuito IPN\",\"Sábado\",\"30-01-2021\",NA,NA,0\\n\"1849\",26648,\"STE-Trolebús\",\"L9 Iztacalco-Villa de Cortés\",\"Sábado\",\"30-01-2021\",NA,NA,1695\\n\"1850\",19450,\"STE-Trolebús\",\"L1 Eje Central\",\"Domingo\",\"31-01-2021\",NA,NA,43421\\n\"1851\",19451,\"STE-Trolebús\",\"L2 Eje 2 sur\",\"Domingo\",\"31-01-2021\",NA,NA,2917\\n\"1852\",19452,\"STE-Trolebús\",\"L3 Eje 7 Sur\",\"Domingo\",\"31-01-2021\",NA,NA,3638\\n\"1853\",19453,\"STE-Trolebús\",\"L4 Pto Aéreo-Rosario\",\"Domingo\",\"31-01-2021\",NA,NA,3987\\n\"1854\",19454,\"STE-Trolebús\",\"L5 Sn Felipe-Hidalgo\",\"Domingo\",\"31-01-2021\",NA,NA,3517\\n\"1855\",19455,\"STE-Trolebús\",\"L6 Rosario-Chapultepec\",\"Domingo\",\"31-01-2021\",NA,NA,3184\\n\"1856\",19456,\"STE-Trolebús\",\"L7 Lomas Estrella-CU\",\"Domingo\",\"31-01-2021\",NA,NA,3635\\n\"1857\",19457,\"STE-Trolebús\",\"L8 Circuito IPN\",\"Domingo\",\"31-01-2021\",NA,NA,0\\n\"1858\",26649,\"STE-Trolebús\",\"L9 Iztacalco-Villa de Cortés\",\"Domingo\",\"31-01-2021\",NA,NA,1011\\n\"1859\",19458,\"STE-Trolebús\",\"L1 Eje Central\",\"Lunes\",\"01-02-2021\",NA,NA,48353\\n\"1860\",19459,\"STE-Trolebús\",\"L2 Eje 2 sur\",\"Lunes\",\"01-02-2021\",NA,NA,5096\\n\"1861\",19460,\"STE-Trolebús\",\"L3 Eje 7 Sur\",\"Lunes\",\"01-02-2021\",NA,NA,5993\\n\"1862\",19461,\"STE-Trolebús\",\"L4 Pto Aéreo-Rosario\",\"Lunes\",\"01-02-2021\",NA,NA,7913\\n\"1863\",19462,\"STE-Trolebús\",\"L5 Sn Felipe-Hidalgo\",\"Lunes\",\"01-02-2021\",NA,NA,4099\\n\"1864\",19463,\"STE-Trolebús\",\"L6 Rosario-Chapultepec\",\"Lunes\",\"01-02-2021\",NA,NA,3613\\n\"1865\",19464,\"STE-Trolebús\",\"L7 Lomas Estrella-CU\",\"Lunes\",\"01-02-2021\",NA,NA,5579\\n\"1866\",19465,\"STE-Trolebús\",\"L8 Circuito IPN\",\"Lunes\",\"01-02-2021\",NA,NA,0\\n\"1867\",26650,\"STE-Trolebús\",\"L9 Iztacalco-Villa de Cortés\",\"Lunes\",\"01-02-2021\",NA,NA,1983\\n\"1868\",19466,\"STE-Trolebús\",\"L1 Eje Central\",\"Martes\",\"02-02-2021\",NA,NA,67923\\n\"1869\",19467,\"STE-Trolebús\",\"L2 Eje 2 sur\",\"Martes\",\"02-02-2021\",NA,NA,9817\\n\"1870\",19468,\"STE-Trolebús\",\"L3 Eje 7 Sur\",\"Martes\",\"02-02-2021\",NA,NA,8463\\n\"1871\",19469,\"STE-Trolebús\",\"L4 Pto Aéreo-Rosario\",\"Martes\",\"02-02-2021\",NA,NA,7837\\n\"1872\",19470,\"STE-Trolebús\",\"L5 Sn Felipe-Hidalgo\",\"Martes\",\"02-02-2021\",NA,NA,6694\\n\"1873\",19471,\"STE-Trolebús\",\"L6 Rosario-Chapultepec\",\"Martes\",\"02-02-2021\",NA,NA,5428\\n\"1874\",19472,\"STE-Trolebús\",\"L7 Lomas Estrella-CU\",\"Martes\",\"02-02-2021\",NA,NA,8913\\n\"1875\",19473,\"STE-Trolebús\",\"L8 Circuito IPN\",\"Martes\",\"02-02-2021\",NA,NA,0\\n\"1876\",26651,\"STE-Trolebús\",\"L9 Iztacalco-Villa de Cortés\",\"Martes\",\"02-02-2021\",NA,NA,2064\\n\"1877\",19474,\"STE-Trolebús\",\"L1 Eje Central\",\"Miércoles\",\"03-02-2021\",NA,NA,60920\\n\"1878\",19475,\"STE-Trolebús\",\"L2 Eje 2 sur\",\"Miércoles\",\"03-02-2021\",NA,NA,10060\\n\"1879\",19476,\"STE-Trolebús\",\"L3 Eje 7 Sur\",\"Miércoles\",\"03-02-2021\",NA,NA,7979\\n\"1880\",19477,\"STE-Trolebús\",\"L4 Pto Aéreo-Rosario\",\"Miércoles\",\"03-02-2021\",NA,NA,8009\\n\"1881\",19478,\"STE-Trolebús\",\"L5 Sn Felipe-Hidalgo\",\"Miércoles\",\"03-02-2021\",NA,NA,6232\\n\"1882\",19479,\"STE-Trolebús\",\"L6 Rosario-Chapultepec\",\"Miércoles\",\"03-02-2021\",NA,NA,4432\\n\"1883\",19480,\"STE-Trolebús\",\"L7 Lomas Estrella-CU\",\"Miércoles\",\"03-02-2021\",NA,NA,8744\\n\"1884\",19481,\"STE-Trolebús\",\"L8 Circuito IPN\",\"Miércoles\",\"03-02-2021\",NA,NA,0\\n\"1885\",26652,\"STE-Trolebús\",\"L9 Iztacalco-Villa de Cortés\",\"Miércoles\",\"03-02-2021\",NA,NA,2758\\n\"1886\",19482,\"STE-Trolebús\",\"L1 Eje Central\",\"Jueves\",\"04-02-2021\",NA,NA,66615\\n\"1887\",19483,\"STE-Trolebús\",\"L2 Eje 2 sur\",\"Jueves\",\"04-02-2021\",NA,NA,9922\\n\"1888\",19484,\"STE-Trolebús\",\"L3 Eje 7 Sur\",\"Jueves\",\"04-02-2021\",NA,NA,9429\\n\"1889\",19485,\"STE-Trolebús\",\"L4 Pto Aéreo-Rosario\",\"Jueves\",\"04-02-2021\",NA,NA,8651\\n\"1890\",19486,\"STE-Trolebús\",\"L5 Sn Felipe-Hidalgo\",\"Jueves\",\"04-02-2021\",NA,NA,6933\\n\"1891\",19487,\"STE-Trolebús\",\"L6 Rosario-Chapultepec\",\"Jueves\",\"04-02-2021\",NA,NA,5431\\n\"1892\",19488,\"STE-Trolebús\",\"L7 Lomas Estrella-CU\",\"Jueves\",\"04-02-2021\",NA,NA,7856\\n\"1893\",19489,\"STE-Trolebús\",\"L8 Circuito IPN\",\"Jueves\",\"04-02-2021\",NA,NA,0\\n\"1894\",26653,\"STE-Trolebús\",\"L9 Iztacalco-Villa de Cortés\",\"Jueves\",\"04-02-2021\",NA,NA,1980\\n\"1895\",19490,\"STE-Trolebús\",\"L1 Eje Central\",\"Viernes\",\"05-02-2021\",NA,NA,62640\\n\"1896\",19491,\"STE-Trolebús\",\"L2 Eje 2 sur\",\"Viernes\",\"05-02-2021\",NA,NA,9918\\n\"1897\",19492,\"STE-Trolebús\",\"L3 Eje 7 Sur\",\"Viernes\",\"05-02-2021\",NA,NA,9440\\n\"1898\",19493,\"STE-Trolebús\",\"L4 Pto Aéreo-Rosario\",\"Viernes\",\"05-02-2021\",NA,NA,9901\\n\"1899\",19494,\"STE-Trolebús\",\"L5 Sn Felipe-Hidalgo\",\"Viernes\",\"05-02-2021\",NA,NA,7286\\n\"1900\",19495,\"STE-Trolebús\",\"L6 Rosario-Chapultepec\",\"Viernes\",\"05-02-2021\",NA,NA,5504\\n\"1901\",19496,\"STE-Trolebús\",\"L7 Lomas Estrella-CU\",\"Viernes\",\"05-02-2021\",NA,NA,7203\\n\"1902\",19497,\"STE-Trolebús\",\"L8 Circuito IPN\",\"Viernes\",\"05-02-2021\",NA,NA,0\\n\"1903\",26654,\"STE-Trolebús\",\"L9 Iztacalco-Villa de Cortés\",\"Viernes\",\"05-02-2021\",NA,NA,2446\\n\"1904\",19498,\"STE-Trolebús\",\"L1 Eje Central\",\"Sábado\",\"06-02-2021\",NA,NA,49885\\n\"1905\",19499,\"STE-Trolebús\",\"L2 Eje 2 sur\",\"Sábado\",\"06-02-2021\",NA,NA,10342\\n\"1906\",19500,\"STE-Trolebús\",\"L3 Eje 7 Sur\",\"Sábado\",\"06-02-2021\",NA,NA,7669\\n\"1907\",19501,\"STE-Trolebús\",\"L4 Pto Aéreo-Rosario\",\"Sábado\",\"06-02-2021\",NA,NA,9719\\n\"1908\",19502,\"STE-Trolebús\",\"L5 Sn Felipe-Hidalgo\",\"Sábado\",\"06-02-2021\",NA,NA,4217\\n\"1909\",19503,\"STE-Trolebús\",\"L6 Rosario-Chapultepec\",\"Sábado\",\"06-02-2021\",NA,NA,5053\\n\"1910\",19504,\"STE-Trolebús\",\"L7 Lomas Estrella-CU\",\"Sábado\",\"06-02-2021\",NA,NA,5535\\n\"1911\",19505,\"STE-Trolebús\",\"L8 Circuito IPN\",\"Sábado\",\"06-02-2021\",NA,NA,0\\n\"1912\",26655,\"STE-Trolebús\",\"L9 Iztacalco-Villa de Cortés\",\"Sábado\",\"06-02-2021\",NA,NA,1316\\n\"1913\",19506,\"STE-Trolebús\",\"L1 Eje Central\",\"Domingo\",\"07-02-2021\",NA,NA,32450\\n\"1914\",19507,\"STE-Trolebús\",\"L2 Eje 2 sur\",\"Domingo\",\"07-02-2021\",NA,NA,4800\\n\"1915\",19508,\"STE-Trolebús\",\"L3 Eje 7 Sur\",\"Domingo\",\"07-02-2021\",NA,NA,5410\\n\"1916\",19509,\"STE-Trolebús\",\"L4 Pto Aéreo-Rosario\",\"Domingo\",\"07-02-2021\",NA,NA,5041\\n\"1917\",19510,\"STE-Trolebús\",\"L5 Sn Felipe-Hidalgo\",\"Domingo\",\"07-02-2021\",NA,NA,3844\\n\"1918\",19511,\"STE-Trolebús\",\"L6 Rosario-Chapultepec\",\"Domingo\",\"07-02-2021\",NA,NA,3135\\n\"1919\",19512,\"STE-Trolebús\",\"L7 Lomas Estrella-CU\",\"Domingo\",\"07-02-2021\",NA,NA,4749\\n\"1920\",19513,\"STE-Trolebús\",\"L8 Circuito IPN\",\"Domingo\",\"07-02-2021\",NA,NA,0\\n\"1921\",26656,\"STE-Trolebús\",\"L9 Iztacalco-Villa de Cortés\",\"Domingo\",\"07-02-2021\",NA,NA,882\\n\"1922\",19514,\"STE-Trolebús\",\"L1 Eje Central\",\"Lunes\",\"08-02-2021\",NA,NA,52830\\n\"1923\",19515,\"STE-Trolebús\",\"L2 Eje 2 sur\",\"Lunes\",\"08-02-2021\",NA,NA,9276\\n\"1924\",19516,\"STE-Trolebús\",\"L3 Eje 7 Sur\",\"Lunes\",\"08-02-2021\",NA,NA,8692\\n\"1925\",19517,\"STE-Trolebús\",\"L4 Pto Aéreo-Rosario\",\"Lunes\",\"08-02-2021\",NA,NA,8257\\n\"1926\",19518,\"STE-Trolebús\",\"L5 Sn Felipe-Hidalgo\",\"Lunes\",\"08-02-2021\",NA,NA,6211\\n\"1927\",19519,\"STE-Trolebús\",\"L6 Rosario-Chapultepec\",\"Lunes\",\"08-02-2021\",NA,NA,5977\\n\"1928\",19520,\"STE-Trolebús\",\"L7 Lomas Estrella-CU\",\"Lunes\",\"08-02-2021\",NA,NA,7407\\n\"1929\",19521,\"STE-Trolebús\",\"L8 Circuito IPN\",\"Lunes\",\"08-02-2021\",NA,NA,0\\n\"1930\",26657,\"STE-Trolebús\",\"L9 Iztacalco-Villa de Cortés\",\"Lunes\",\"08-02-2021\",NA,NA,2527\\n\"1931\",19522,\"STE-Trolebús\",\"L1 Eje Central\",\"Martes\",\"09-02-2021\",NA,NA,54019\\n\"1932\",19523,\"STE-Trolebús\",\"L2 Eje 2 sur\",\"Martes\",\"09-02-2021\",NA,NA,8478\\n\"1933\",19524,\"STE-Trolebús\",\"L3 Eje 7 Sur\",\"Martes\",\"09-02-2021\",NA,NA,7072\\n\"1934\",19525,\"STE-Trolebús\",\"L4 Pto Aéreo-Rosario\",\"Martes\",\"09-02-2021\",NA,NA,7973\\n\"1935\",19526,\"STE-Trolebús\",\"L5 Sn Felipe-Hidalgo\",\"Martes\",\"09-02-2021\",NA,NA,6247\\n\"1936\",19527,\"STE-Trolebús\",\"L6 Rosario-Chapultepec\",\"Martes\",\"09-02-2021\",NA,NA,4739\\n\"1937\",19528,\"STE-Trolebús\",\"L7 Lomas Estrella-CU\",\"Martes\",\"09-02-2021\",NA,NA,8856\\n\"1938\",19529,\"STE-Trolebús\",\"L8 Circuito IPN\",\"Martes\",\"09-02-2021\",NA,NA,0\\n\"1939\",26658,\"STE-Trolebús\",\"L9 Iztacalco-Villa de Cortés\",\"Martes\",\"09-02-2021\",NA,NA,2716\\n\"1940\",19530,\"STE-Trolebús\",\"L1 Eje Central\",\"Miércoles\",\"10-02-2021\",NA,NA,53018\\n\"1941\",19531,\"STE-Trolebús\",\"L2 Eje 2 sur\",\"Miércoles\",\"10-02-2021\",NA,NA,8260\\n\"1942\",19532,\"STE-Trolebús\",\"L3 Eje 7 Sur\",\"Miércoles\",\"10-02-2021\",NA,NA,8996\\n\"1943\",19533,\"STE-Trolebús\",\"L4 Pto Aéreo-Rosario\",\"Miércoles\",\"10-02-2021\",NA,NA,7627\\n\"1944\",19534,\"STE-Trolebús\",\"L5 Sn Felipe-Hidalgo\",\"Miércoles\",\"10-02-2021\",NA,NA,5254\\n\"1945\",19535,\"STE-Trolebús\",\"L6 Rosario-Chapultepec\",\"Miércoles\",\"10-02-2021\",NA,NA,5743\\n\"1946\",19536,\"STE-Trolebús\",\"L7 Lomas Estrella-CU\",\"Miércoles\",\"10-02-2021\",NA,NA,9145\\n\"1947\",19537,\"STE-Trolebús\",\"L8 Circuito IPN\",\"Miércoles\",\"10-02-2021\",NA,NA,0\\n\"1948\",26659,\"STE-Trolebús\",\"L9 Iztacalco-Villa de Cortés\",\"Miércoles\",\"10-02-2021\",NA,NA,2758\\n\"1949\",19538,\"STE-Trolebús\",\"L1 Eje Central\",\"Jueves\",\"11-02-2021\",NA,NA,52346\\n\"1950\",19539,\"STE-Trolebús\",\"L2 Eje 2 sur\",\"Jueves\",\"11-02-2021\",NA,NA,9032\\n\"1951\",19540,\"STE-Trolebús\",\"L3 Eje 7 Sur\",\"Jueves\",\"11-02-2021\",NA,NA,8311\\n\"1952\",19541,\"STE-Trolebús\",\"L4 Pto Aéreo-Rosario\",\"Jueves\",\"11-02-2021\",NA,NA,8900\\n\"1953\",19542,\"STE-Trolebús\",\"L5 Sn Felipe-Hidalgo\",\"Jueves\",\"11-02-2021\",NA,NA,6701\\n\"1954\",19543,\"STE-Trolebús\",\"L6 Rosario-Chapultepec\",\"Jueves\",\"11-02-2021\",NA,NA,4815\\n\"1955\",19544,\"STE-Trolebús\",\"L7 Lomas Estrella-CU\",\"Jueves\",\"11-02-2021\",NA,NA,8084\\n\"1956\",19545,\"STE-Trolebús\",\"L8 Circuito IPN\",\"Jueves\",\"11-02-2021\",NA,NA,0\\n\"1957\",26660,\"STE-Trolebús\",\"L9 Iztacalco-Villa de Cortés\",\"Jueves\",\"11-02-2021\",NA,NA,2735\\n\"1958\",19546,\"STE-Trolebús\",\"L1 Eje Central\",\"Viernes\",\"12-02-2021\",NA,NA,54708\\n\"1959\",19547,\"STE-Trolebús\",\"L2 Eje 2 sur\",\"Viernes\",\"12-02-2021\",NA,NA,9639\\n\"1960\",19548,\"STE-Trolebús\",\"L3 Eje 7 Sur\",\"Viernes\",\"12-02-2021\",NA,NA,9231\\n\"1961\",19549,\"STE-Trolebús\",\"L4 Pto Aéreo-Rosario\",\"Viernes\",\"12-02-2021\",NA,NA,9511\\n\"1962\",19550,\"STE-Trolebús\",\"L5 Sn Felipe-Hidalgo\",\"Viernes\",\"12-02-2021\",NA,NA,7096\\n\"1963\",19551,\"STE-Trolebús\",\"L6 Rosario-Chapultepec\",\"Viernes\",\"12-02-2021\",NA,NA,5493\\n\"1964\",19552,\"STE-Trolebús\",\"L7 Lomas Estrella-CU\",\"Viernes\",\"12-02-2021\",NA,NA,7712\\n\"1965\",19553,\"STE-Trolebús\",\"L8 Circuito IPN\",\"Viernes\",\"12-02-2021\",NA,NA,0\\n\"1966\",26661,\"STE-Trolebús\",\"L9 Iztacalco-Villa de Cortés\",\"Viernes\",\"12-02-2021\",NA,NA,2682\\n\"1967\",19554,\"STE-Trolebús\",\"L1 Eje Central\",\"Sábado\",\"13-02-2021\",NA,NA,46931\\n\"1968\",19555,\"STE-Trolebús\",\"L2 Eje 2 sur\",\"Sábado\",\"13-02-2021\",NA,NA,8210\\n\"1969\",19556,\"STE-Trolebús\",\"L3 Eje 7 Sur\",\"Sábado\",\"13-02-2021\",NA,NA,7674\\n\"1970\",19557,\"STE-Trolebús\",\"L4 Pto Aéreo-Rosario\",\"Sábado\",\"13-02-2021\",NA,NA,8141\\n\"1971\",19558,\"STE-Trolebús\",\"L5 Sn Felipe-Hidalgo\",\"Sábado\",\"13-02-2021\",NA,NA,4765\\n\"1972\",19559,\"STE-Trolebús\",\"L6 Rosario-Chapultepec\",\"Sábado\",\"13-02-2021\",NA,NA,6152\\n\"1973\",19560,\"STE-Trolebús\",\"L7 Lomas Estrella-CU\",\"Sábado\",\"13-02-2021\",NA,NA,6449\\n\"1974\",19561,\"STE-Trolebús\",\"L8 Circuito IPN\",\"Sábado\",\"13-02-2021\",NA,NA,0\\n\"1975\",26662,\"STE-Trolebús\",\"L9 Iztacalco-Villa de Cortés\",\"Sábado\",\"13-02-2021\",NA,NA,1711\\n\"1976\",19562,\"STE-Trolebús\",\"L1 Eje Central\",\"Domingo\",\"14-02-2021\",NA,NA,32749\\n\"1977\",19563,\"STE-Trolebús\",\"L2 Eje 2 sur\",\"Domingo\",\"14-02-2021\",NA,NA,5246\\n\"1978\",19564,\"STE-Trolebús\",\"L3 Eje 7 Sur\",\"Domingo\",\"14-02-2021\",NA,NA,5465\\n\"1979\",19565,\"STE-Trolebús\",\"L4 Pto Aéreo-Rosario\",\"Domingo\",\"14-02-2021\",NA,NA,9103\\n\"1980\",19566,\"STE-Trolebús\",\"L5 Sn Felipe-Hidalgo\",\"Domingo\",\"14-02-2021\",NA,NA,4699\\n\"1981\",19567,\"STE-Trolebús\",\"L6 Rosario-Chapultepec\",\"Domingo\",\"14-02-2021\",NA,NA,4067\\n\"1982\",19568,\"STE-Trolebús\",\"L7 Lomas Estrella-CU\",\"Domingo\",\"14-02-2021\",NA,NA,6665\\n\"1983\",19569,\"STE-Trolebús\",\"L8 Circuito IPN\",\"Domingo\",\"14-02-2021\",NA,NA,0\\n\"1984\",26663,\"STE-Trolebús\",\"L9 Iztacalco-Villa de Cortés\",\"Domingo\",\"14-02-2021\",NA,NA,1370\\n\"1985\",19570,\"STE-Trolebús\",\"L1 Eje Central\",\"Lunes\",\"15-02-2021\",NA,NA,51482\\n\"1986\",19571,\"STE-Trolebús\",\"L2 Eje 2 sur\",\"Lunes\",\"15-02-2021\",NA,NA,9004\\n\"1987\",19572,\"STE-Trolebús\",\"L3 Eje 7 Sur\",\"Lunes\",\"15-02-2021\",NA,NA,8658\\n\"1988\",19573,\"STE-Trolebús\",\"L4 Pto Aéreo-Rosario\",\"Lunes\",\"15-02-2021\",NA,NA,10544\\n\"1989\",19574,\"STE-Trolebús\",\"L5 Sn Felipe-Hidalgo\",\"Lunes\",\"15-02-2021\",NA,NA,6803\\n\"1990\",19575,\"STE-Trolebús\",\"L6 Rosario-Chapultepec\",\"Lunes\",\"15-02-2021\",NA,NA,5805\\n\"1991\",19576,\"STE-Trolebús\",\"L7 Lomas Estrella-CU\",\"Lunes\",\"15-02-2021\",NA,NA,9284\\n\"1992\",19577,\"STE-Trolebús\",\"L8 Circuito IPN\",\"Lunes\",\"15-02-2021\",NA,NA,0\\n\"1993\",26664,\"STE-Trolebús\",\"L9 Iztacalco-Villa de Cortés\",\"Lunes\",\"15-02-2021\",NA,NA,3485\\n\"1994\",19578,\"STE-Trolebús\",\"L1 Eje Central\",\"Martes\",\"16-02-2021\",NA,NA,54816\\n\"1995\",19579,\"STE-Trolebús\",\"L2 Eje 2 sur\",\"Martes\",\"16-02-2021\",NA,NA,8551\\n\"1996\",19580,\"STE-Trolebús\",\"L3 Eje 7 Sur\",\"Martes\",\"16-02-2021\",NA,NA,6660\\n\"1997\",19581,\"STE-Trolebús\",\"L4 Pto Aéreo-Rosario\",\"Martes\",\"16-02-2021\",NA,NA,9911\\n\"1998\",19582,\"STE-Trolebús\",\"L5 Sn Felipe-Hidalgo\",\"Martes\",\"16-02-2021\",NA,NA,6158\\n\"1999\",19583,\"STE-Trolebús\",\"L6 Rosario-Chapultepec\",\"Martes\",\"16-02-2021\",NA,NA,5775\\n\"2000\",19584,\"STE-Trolebús\",\"L7 Lomas Estrella-CU\",\"Martes\",\"16-02-2021\",NA,NA,9724\\n\"2001\",19585,\"STE-Trolebús\",\"L8 Circuito IPN\",\"Martes\",\"16-02-2021\",NA,NA,0\\n\"2002\",26665,\"STE-Trolebús\",\"L9 Iztacalco-Villa de Cortés\",\"Martes\",\"16-02-2021\",NA,NA,3937\\n\"2003\",19586,\"STE-Trolebús\",\"L1 Eje Central\",\"Miércoles\",\"17-02-2021\",NA,NA,48935\\n\"2004\",19587,\"STE-Trolebús\",\"L2 Eje 2 sur\",\"Miércoles\",\"17-02-2021\",NA,NA,8160\\n\"2005\",19588,\"STE-Trolebús\",\"L3 Eje 7 Sur\",\"Miércoles\",\"17-02-2021\",NA,NA,9732\\n\"2006\",19589,\"STE-Trolebús\",\"L4 Pto Aéreo-Rosario\",\"Miércoles\",\"17-02-2021\",NA,NA,8221\\n\"2007\",19590,\"STE-Trolebús\",\"L5 Sn Felipe-Hidalgo\",\"Miércoles\",\"17-02-2021\",NA,NA,7189\\n\"2008\",19591,\"STE-Trolebús\",\"L6 Rosario-Chapultepec\",\"Miércoles\",\"17-02-2021\",NA,NA,4945\\n\"2009\",19592,\"STE-Trolebús\",\"L7 Lomas Estrella-CU\",\"Miércoles\",\"17-02-2021\",NA,NA,9785\\n\"2010\",19593,\"STE-Trolebús\",\"L8 Circuito IPN\",\"Miércoles\",\"17-02-2021\",NA,NA,0\\n\"2011\",26666,\"STE-Trolebús\",\"L9 Iztacalco-Villa de Cortés\",\"Miércoles\",\"17-02-2021\",NA,NA,3639\\n\"2012\",19594,\"STE-Trolebús\",\"L1 Eje Central\",\"Jueves\",\"18-02-2021\",NA,NA,54414\\n\"2013\",19595,\"STE-Trolebús\",\"L2 Eje 2 sur\",\"Jueves\",\"18-02-2021\",NA,NA,8644\\n\"2014\",19596,\"STE-Trolebús\",\"L3 Eje 7 Sur\",\"Jueves\",\"18-02-2021\",NA,NA,8478\\n\"2015\",19597,\"STE-Trolebús\",\"L4 Pto Aéreo-Rosario\",\"Jueves\",\"18-02-2021\",NA,NA,11611\\n\"2016\",19598,\"STE-Trolebús\",\"L5 Sn Felipe-Hidalgo\",\"Jueves\",\"18-02-2021\",NA,NA,5349\\n\"2017\",19599,\"STE-Trolebús\",\"L6 Rosario-Chapultepec\",\"Jueves\",\"18-02-2021\",NA,NA,5980\\n\"2018\",19600,\"STE-Trolebús\",\"L7 Lomas Estrella-CU\",\"Jueves\",\"18-02-2021\",NA,NA,10077\\n\"2019\",19601,\"STE-Trolebús\",\"L8 Circuito IPN\",\"Jueves\",\"18-02-2021\",NA,NA,0\\n\"2020\",26667,\"STE-Trolebús\",\"L9 Iztacalco-Villa de Cortés\",\"Jueves\",\"18-02-2021\",NA,NA,3636\\n\"2021\",19602,\"STE-Trolebús\",\"L1 Eje Central\",\"Viernes\",\"19-02-2021\",NA,NA,49986\\n\"2022\",19603,\"STE-Trolebús\",\"L2 Eje 2 sur\",\"Viernes\",\"19-02-2021\",NA,NA,9226\\n\"2023\",19604,\"STE-Trolebús\",\"L3 Eje 7 Sur\",\"Viernes\",\"19-02-2021\",NA,NA,10125\\n\"2024\",19605,\"STE-Trolebús\",\"L4 Pto Aéreo-Rosario\",\"Viernes\",\"19-02-2021\",NA,NA,6023\\n\"2025\",19606,\"STE-Trolebús\",\"L5 Sn Felipe-Hidalgo\",\"Viernes\",\"19-02-2021\",NA,NA,6379\\n\"2026\",19607,\"STE-Trolebús\",\"L6 Rosario-Chapultepec\",\"Viernes\",\"19-02-2021\",NA,NA,4313\\n\"2027\",19608,\"STE-Trolebús\",\"L7 Lomas Estrella-CU\",\"Viernes\",\"19-02-2021\",NA,NA,11175\\n\"2028\",19609,\"STE-Trolebús\",\"L8 Circuito IPN\",\"Viernes\",\"19-02-2021\",NA,NA,0\\n\"2029\",26668,\"STE-Trolebús\",\"L9 Iztacalco-Villa de Cortés\",\"Viernes\",\"19-02-2021\",NA,NA,3997\\n\"2030\",19610,\"STE-Trolebús\",\"L1 Eje Central\",\"Sábado\",\"20-02-2021\",NA,NA,46936\\n\"2031\",19611,\"STE-Trolebús\",\"L2 Eje 2 sur\",\"Sábado\",\"20-02-2021\",NA,NA,7761\\n\"2032\",19612,\"STE-Trolebús\",\"L3 Eje 7 Sur\",\"Sábado\",\"20-02-2021\",NA,NA,9793\\n\"2033\",19613,\"STE-Trolebús\",\"L4 Pto Aéreo-Rosario\",\"Sábado\",\"20-02-2021\",NA,NA,10547\\n\"2034\",19614,\"STE-Trolebús\",\"L5 Sn Felipe-Hidalgo\",\"Sábado\",\"20-02-2021\",NA,NA,5156\\n\"2035\",19615,\"STE-Trolebús\",\"L6 Rosario-Chapultepec\",\"Sábado\",\"20-02-2021\",NA,NA,5127\\n\"2036\",19616,\"STE-Trolebús\",\"L7 Lomas Estrella-CU\",\"Sábado\",\"20-02-2021\",NA,NA,8300\\n\"2037\",19617,\"STE-Trolebús\",\"L8 Circuito IPN\",\"Sábado\",\"20-02-2021\",NA,NA,0\\n\"2038\",26669,\"STE-Trolebús\",\"L9 Iztacalco-Villa de Cortés\",\"Sábado\",\"20-02-2021\",NA,NA,1771\\n\"2039\",19618,\"STE-Trolebús\",\"L1 Eje Central\",\"Domingo\",\"21-02-2021\",NA,NA,33034\\n\"2040\",19619,\"STE-Trolebús\",\"L2 Eje 2 sur\",\"Domingo\",\"21-02-2021\",NA,NA,4885\\n\"2041\",19620,\"STE-Trolebús\",\"L3 Eje 7 Sur\",\"Domingo\",\"21-02-2021\",NA,NA,5619\\n\"2042\",19621,\"STE-Trolebús\",\"L4 Pto Aéreo-Rosario\",\"Domingo\",\"21-02-2021\",NA,NA,9436\\n\"2043\",19622,\"STE-Trolebús\",\"L5 Sn Felipe-Hidalgo\",\"Domingo\",\"21-02-2021\",NA,NA,3793\\n\"2044\",19623,\"STE-Trolebús\",\"L6 Rosario-Chapultepec\",\"Domingo\",\"21-02-2021\",NA,NA,2888\\n\"2045\",19624,\"STE-Trolebús\",\"L7 Lomas Estrella-CU\",\"Domingo\",\"21-02-2021\",NA,NA,6920\\n\"2046\",19625,\"STE-Trolebús\",\"L8 Circuito IPN\",\"Domingo\",\"21-02-2021\",NA,NA,0\\n\"2047\",26670,\"STE-Trolebús\",\"L9 Iztacalco-Villa de Cortés\",\"Domingo\",\"21-02-2021\",NA,NA,1652\\n\"2048\",19626,\"STE-Trolebús\",\"L1 Eje Central\",\"Lunes\",\"22-02-2021\",NA,NA,48693\\n\"2049\",19627,\"STE-Trolebús\",\"L2 Eje 2 sur\",\"Lunes\",\"22-02-2021\",NA,NA,9996\\n\"2050\",19628,\"STE-Trolebús\",\"L3 Eje 7 Sur\",\"Lunes\",\"22-02-2021\",NA,NA,10743\\n\"2051\",19629,\"STE-Trolebús\",\"L4 Pto Aéreo-Rosario\",\"Lunes\",\"22-02-2021\",NA,NA,12314\\n\"2052\",19630,\"STE-Trolebús\",\"L5 Sn Felipe-Hidalgo\",\"Lunes\",\"22-02-2021\",NA,NA,6474\\n\"2053\",19631,\"STE-Trolebús\",\"L6 Rosario-Chapultepec\",\"Lunes\",\"22-02-2021\",NA,NA,5228\\n\"2054\",19632,\"STE-Trolebús\",\"L7 Lomas Estrella-CU\",\"Lunes\",\"22-02-2021\",NA,NA,10269\\n\"2055\",19633,\"STE-Trolebús\",\"L8 Circuito IPN\",\"Lunes\",\"22-02-2021\",NA,NA,0\\n\"2056\",26671,\"STE-Trolebús\",\"L9 Iztacalco-Villa de Cortés\",\"Lunes\",\"22-02-2021\",NA,NA,4204\\n\"2057\",19634,\"STE-Trolebús\",\"L1 Eje Central\",\"Martes\",\"23-02-2021\",NA,NA,NA\\n\"2058\",19635,\"STE-Trolebús\",\"L2 Eje 2 sur\",\"Martes\",\"23-02-2021\",NA,NA,NA\\n\"2059\",19636,\"STE-Trolebús\",\"L3 Eje 7 Sur\",\"Martes\",\"23-02-2021\",NA,NA,NA\\n\"2060\",19637,\"STE-Trolebús\",\"L4 Pto Aéreo-Rosario\",\"Martes\",\"23-02-2021\",NA,NA,NA\\n\"2061\",19638,\"STE-Trolebús\",\"L5 Sn Felipe-Hidalgo\",\"Martes\",\"23-02-2021\",NA,NA,NA\\n\"2062\",19639,\"STE-Trolebús\",\"L6 Rosario-Chapultepec\",\"Martes\",\"23-02-2021\",NA,NA,NA\\n\"2063\",19640,\"STE-Trolebús\",\"L7 Lomas Estrella-CU\",\"Martes\",\"23-02-2021\",NA,NA,NA\\n\"2064\",19641,\"STE-Trolebús\",\"L8 Circuito IPN\",\"Martes\",\"23-02-2021\",NA,NA,0\\n\"2065\",26672,\"STE-Trolebús\",\"L9 Iztacalco-Villa de Cortés\",\"Martes\",\"23-02-2021\",NA,NA,NA\\n\"2066\",25874,\"Suburbano\",\"L1\",\"Viernes\",\"01-01-2021\",NA,NA,17334\\n\"2067\",25875,\"Suburbano\",\"L1\",\"Sábado\",\"02-01-2021\",NA,NA,45205\\n\"2068\",25876,\"Suburbano\",\"L1\",\"Domingo\",\"03-01-2021\",NA,NA,31789\\n\"2069\",25877,\"Suburbano\",\"L1\",\"Lunes\",\"04-01-2021\",NA,NA,75433\\n\"2070\",25878,\"Suburbano\",\"L1\",\"Martes\",\"05-01-2021\",NA,NA,71363\\n\"2071\",25879,\"Suburbano\",\"L1\",\"Miércoles\",\"06-01-2021\",NA,NA,60702\\n\"2072\",25880,\"Suburbano\",\"L1\",\"Jueves\",\"07-01-2021\",NA,NA,64184\\n\"2073\",25881,\"Suburbano\",\"L1\",\"Viernes\",\"08-01-2021\",NA,NA,67291\\n\"2074\",25882,\"Suburbano\",\"L1\",\"Sábado\",\"09-01-2021\",NA,NA,51105\\n\"2075\",25883,\"Suburbano\",\"L1\",\"Domingo\",\"10-01-2021\",NA,NA,27193\\n\"2076\",25884,\"Suburbano\",\"L1\",\"Lunes\",\"11-01-2021\",NA,NA,68056\\n\"2077\",25885,\"Suburbano\",\"L1\",\"Martes\",\"12-01-2021\",NA,NA,64302\\n\"2078\",25886,\"Suburbano\",\"L1\",\"Miércoles\",\"13-01-2021\",NA,NA,65979\\n\"2079\",25887,\"Suburbano\",\"L1\",\"Jueves\",\"14-01-2021\",NA,NA,65089\\n\"2080\",25888,\"Suburbano\",\"L1\",\"Viernes\",\"15-01-2021\",NA,NA,69169\\n\"2081\",25889,\"Suburbano\",\"L1\",\"Sábado\",\"16-01-2021\",NA,NA,53540\\n\"2082\",25890,\"Suburbano\",\"L1\",\"Domingo\",\"17-01-2021\",NA,NA,26954\\n\"2083\",25891,\"Suburbano\",\"L1\",\"Lunes\",\"18-01-2021\",NA,NA,69259\\n\"2084\",25892,\"Suburbano\",\"L1\",\"Martes\",\"19-01-2021\",NA,NA,65673\\n\"2085\",25893,\"Suburbano\",\"L1\",\"Miércoles\",\"20-01-2021\",NA,NA,67392\\n\"2086\",25894,\"Suburbano\",\"L1\",\"Jueves\",\"21-01-2021\",NA,NA,65819\\n\"2087\",25895,\"Suburbano\",\"L1\",\"Viernes\",\"22-01-2021\",NA,NA,69230\\n\"2088\",25896,\"Suburbano\",\"L1\",\"Sábado\",\"23-01-2021\",NA,NA,53453\\n\"2089\",25897,\"Suburbano\",\"L1\",\"Domingo\",\"24-01-2021\",NA,NA,26548\\n\"2090\",25898,\"Suburbano\",\"L1\",\"Lunes\",\"25-01-2021\",NA,NA,67911\\n\"2091\",25899,\"Suburbano\",\"L1\",\"Martes\",\"26-01-2021\",NA,NA,65622\\n\"2092\",25900,\"Suburbano\",\"L1\",\"Miércoles\",\"27-01-2021\",NA,NA,67118\\n\"2093\",25901,\"Suburbano\",\"L1\",\"Jueves\",\"28-01-2021\",NA,NA,66408\\n\"2094\",25902,\"Suburbano\",\"L1\",\"Viernes\",\"29-01-2021\",NA,NA,71151\\n\"2095\",25903,\"Suburbano\",\"L1\",\"Sábado\",\"30-01-2021\",NA,NA,55847\\n\"2096\",25904,\"Suburbano\",\"L1\",\"Domingo\",\"31-01-2021\",NA,NA,27890\\n\"2097\",25905,\"Suburbano\",\"L1\",\"Lunes\",\"01-02-2021\",NA,NA,37603\\n\"2098\",25906,\"Suburbano\",\"L1\",\"Martes\",\"02-02-2021\",NA,NA,70629\\n\"2099\",25907,\"Suburbano\",\"L1\",\"Miércoles\",\"03-02-2021\",NA,NA,71457\\n\"2100\",25908,\"Suburbano\",\"L1\",\"Jueves\",\"04-02-2021\",NA,NA,70419\\n\"2101\",25909,\"Suburbano\",\"L1\",\"Viernes\",\"05-02-2021\",NA,NA,73462\\n\"2102\",25910,\"Suburbano\",\"L1\",\"Sábado\",\"06-02-2021\",NA,NA,57341\\n\"2103\",25911,\"Suburbano\",\"L1\",\"Domingo\",\"07-02-2021\",NA,NA,28491\\n\"2104\",25912,\"Suburbano\",\"L1\",\"Lunes\",\"08-02-2021\",NA,NA,71711\\n\"2105\",25913,\"Suburbano\",\"L1\",\"Martes\",\"09-02-2021\",NA,NA,70416\\n\"2106\",25914,\"Suburbano\",\"L1\",\"Miércoles\",\"10-02-2021\",NA,NA,73314\\n\"2107\",25915,\"Suburbano\",\"L1\",\"Jueves\",\"11-02-2021\",NA,NA,72702\\n\"2108\",25916,\"Suburbano\",\"L1\",\"Viernes\",\"12-02-2021\",NA,NA,77141\\n\"2109\",25917,\"Suburbano\",\"L1\",\"Sábado\",\"13-02-2021\",NA,NA,62584\\n\"2110\",25918,\"Suburbano\",\"L1\",\"Domingo\",\"14-02-2021\",NA,NA,33689\\n\"2111\",25919,\"Suburbano\",\"L1\",\"Lunes\",\"15-02-2021\",NA,NA,74160\\n\"2112\",25920,\"Suburbano\",\"L1\",\"Martes\",\"16-02-2021\",NA,NA,73097\\n\"2113\",25921,\"Suburbano\",\"L1\",\"Miércoles\",\"17-02-2021\",NA,NA,74688\\n\"2114\",25922,\"Suburbano\",\"L1\",\"Jueves\",\"18-02-2021\",NA,NA,NA\\n\"2115\",25923,\"Suburbano\",\"L1\",\"Viernes\",\"19-02-2021\",NA,NA,NA\\n\"2116\",25924,\"Suburbano\",\"L1\",\"Sábado\",\"20-02-2021\",NA,NA,NA\\n\"2117\",25925,\"Suburbano\",\"L1\",\"Domingo\",\"21-02-2021\",NA,NA,NA\\n\"2118\",25926,\"Suburbano\",\"L1\",\"Lunes\",\"22-02-2021\",NA,NA,NA\\n\"2119\",25927,\"Suburbano\",\"L1\",\"Martes\",\"23-02-2021\",NA,NA,NA\\n'"
            ],
            "application/vnd.google.colaboratory.intrinsic+json": {
              "type": "string"
            }
          },
          "metadata": {},
          "execution_count": 16
        }
      ]
    },
    {
      "cell_type": "code",
      "metadata": {
        "id": "NvgINITO6Qlo"
      },
      "source": [
        "url=\"https://datos.cdmx.gob.mx/dataset/da3fcf80-f15f-4478-9795-26eddaa6fe86/resource/c2a29b87-0809-4448-90a2-158d8fc5d180/download/___\"\n",
        "file=requests.get(url).content\n",
        "df=pd.read_csv(io.StringIO(file.decode('utf-8')))\n",
        "\n",
        "%matplotlib inline"
      ],
      "execution_count": null,
      "outputs": []
    },
    {
      "cell_type": "code",
      "metadata": {
        "id": "0_qH4U0DItIZ",
        "colab": {
          "base_uri": "https://localhost:8080/",
          "height": 363
        },
        "outputId": "9906e3c0-01a5-4b7b-edb9-2f99119a3e2e"
      },
      "source": [
        "df.sample(10)"
      ],
      "execution_count": null,
      "outputs": [
        {
          "output_type": "execute_result",
          "data": {
            "text/plain": [
              "      Unnamed: 0     id        organismo  \\\n",
              "1766        1767  19368     STE-Trolebús   \n",
              "1725        1726  19327     STE-Trolebús   \n",
              "652          653  22551              RTP   \n",
              "637          638  26279              RTP   \n",
              "824          825  22705              RTP   \n",
              "506          507  22420              RTP   \n",
              "1084        1085  11548              STC   \n",
              "1554        1555  18818  STE-Tren Ligero   \n",
              "488          489  22402              RTP   \n",
              "779          780  22664              RTP   \n",
              "\n",
              "                                         linea_servicio        dia  \\\n",
              "1766                               L7 Lomas Estrella-CU  Miércoles   \n",
              "1725                             L6 Rosario-Chapultepec    Viernes   \n",
              "652                                          Eco Atenea     Martes   \n",
              "637                                          SEFI Metro    Domingo   \n",
              "824   Temporal Peñón-Panteón San Isidro-Metro Camarones    Domingo   \n",
              "506                                              Atenea    Domingo   \n",
              "1084                                                 LB    Viernes   \n",
              "1554                                Xochimilco-Tasqueña    Viernes   \n",
              "488                                           Ordinario    Viernes   \n",
              "779                                     Expreso Directo     Martes   \n",
              "\n",
              "           fecha  afluencia_tarjeta  afluencia_boleto  afluencia_total  \n",
              "1766  20-01-2021                NaN               NaN           7749.0  \n",
              "1725  15-01-2021                NaN               NaN           6125.0  \n",
              "652   26-01-2021                NaN             451.0            451.0  \n",
              "637   24-01-2021             2025.0           59217.0          61242.0  \n",
              "824   14-02-2021               34.0            1011.0           1045.0  \n",
              "506   10-01-2021                NaN              96.0             96.0  \n",
              "1084  15-01-2021                NaN               NaN         234615.0  \n",
              "1554  01-01-2021                NaN               NaN           3142.0  \n",
              "488   08-01-2021             2560.0           93806.0          96366.0  \n",
              "779   09-02-2021              124.0             812.0            936.0  "
            ],
            "text/html": [
              "\n",
              "  <div id=\"df-5e0919ff-3d52-4250-855d-98ab86c8d7c6\">\n",
              "    <div class=\"colab-df-container\">\n",
              "      <div>\n",
              "<style scoped>\n",
              "    .dataframe tbody tr th:only-of-type {\n",
              "        vertical-align: middle;\n",
              "    }\n",
              "\n",
              "    .dataframe tbody tr th {\n",
              "        vertical-align: top;\n",
              "    }\n",
              "\n",
              "    .dataframe thead th {\n",
              "        text-align: right;\n",
              "    }\n",
              "</style>\n",
              "<table border=\"1\" class=\"dataframe\">\n",
              "  <thead>\n",
              "    <tr style=\"text-align: right;\">\n",
              "      <th></th>\n",
              "      <th>Unnamed: 0</th>\n",
              "      <th>id</th>\n",
              "      <th>organismo</th>\n",
              "      <th>linea_servicio</th>\n",
              "      <th>dia</th>\n",
              "      <th>fecha</th>\n",
              "      <th>afluencia_tarjeta</th>\n",
              "      <th>afluencia_boleto</th>\n",
              "      <th>afluencia_total</th>\n",
              "    </tr>\n",
              "  </thead>\n",
              "  <tbody>\n",
              "    <tr>\n",
              "      <th>1766</th>\n",
              "      <td>1767</td>\n",
              "      <td>19368</td>\n",
              "      <td>STE-Trolebús</td>\n",
              "      <td>L7 Lomas Estrella-CU</td>\n",
              "      <td>Miércoles</td>\n",
              "      <td>20-01-2021</td>\n",
              "      <td>NaN</td>\n",
              "      <td>NaN</td>\n",
              "      <td>7749.0</td>\n",
              "    </tr>\n",
              "    <tr>\n",
              "      <th>1725</th>\n",
              "      <td>1726</td>\n",
              "      <td>19327</td>\n",
              "      <td>STE-Trolebús</td>\n",
              "      <td>L6 Rosario-Chapultepec</td>\n",
              "      <td>Viernes</td>\n",
              "      <td>15-01-2021</td>\n",
              "      <td>NaN</td>\n",
              "      <td>NaN</td>\n",
              "      <td>6125.0</td>\n",
              "    </tr>\n",
              "    <tr>\n",
              "      <th>652</th>\n",
              "      <td>653</td>\n",
              "      <td>22551</td>\n",
              "      <td>RTP</td>\n",
              "      <td>Eco Atenea</td>\n",
              "      <td>Martes</td>\n",
              "      <td>26-01-2021</td>\n",
              "      <td>NaN</td>\n",
              "      <td>451.0</td>\n",
              "      <td>451.0</td>\n",
              "    </tr>\n",
              "    <tr>\n",
              "      <th>637</th>\n",
              "      <td>638</td>\n",
              "      <td>26279</td>\n",
              "      <td>RTP</td>\n",
              "      <td>SEFI Metro</td>\n",
              "      <td>Domingo</td>\n",
              "      <td>24-01-2021</td>\n",
              "      <td>2025.0</td>\n",
              "      <td>59217.0</td>\n",
              "      <td>61242.0</td>\n",
              "    </tr>\n",
              "    <tr>\n",
              "      <th>824</th>\n",
              "      <td>825</td>\n",
              "      <td>22705</td>\n",
              "      <td>RTP</td>\n",
              "      <td>Temporal Peñón-Panteón San Isidro-Metro Camarones</td>\n",
              "      <td>Domingo</td>\n",
              "      <td>14-02-2021</td>\n",
              "      <td>34.0</td>\n",
              "      <td>1011.0</td>\n",
              "      <td>1045.0</td>\n",
              "    </tr>\n",
              "    <tr>\n",
              "      <th>506</th>\n",
              "      <td>507</td>\n",
              "      <td>22420</td>\n",
              "      <td>RTP</td>\n",
              "      <td>Atenea</td>\n",
              "      <td>Domingo</td>\n",
              "      <td>10-01-2021</td>\n",
              "      <td>NaN</td>\n",
              "      <td>96.0</td>\n",
              "      <td>96.0</td>\n",
              "    </tr>\n",
              "    <tr>\n",
              "      <th>1084</th>\n",
              "      <td>1085</td>\n",
              "      <td>11548</td>\n",
              "      <td>STC</td>\n",
              "      <td>LB</td>\n",
              "      <td>Viernes</td>\n",
              "      <td>15-01-2021</td>\n",
              "      <td>NaN</td>\n",
              "      <td>NaN</td>\n",
              "      <td>234615.0</td>\n",
              "    </tr>\n",
              "    <tr>\n",
              "      <th>1554</th>\n",
              "      <td>1555</td>\n",
              "      <td>18818</td>\n",
              "      <td>STE-Tren Ligero</td>\n",
              "      <td>Xochimilco-Tasqueña</td>\n",
              "      <td>Viernes</td>\n",
              "      <td>01-01-2021</td>\n",
              "      <td>NaN</td>\n",
              "      <td>NaN</td>\n",
              "      <td>3142.0</td>\n",
              "    </tr>\n",
              "    <tr>\n",
              "      <th>488</th>\n",
              "      <td>489</td>\n",
              "      <td>22402</td>\n",
              "      <td>RTP</td>\n",
              "      <td>Ordinario</td>\n",
              "      <td>Viernes</td>\n",
              "      <td>08-01-2021</td>\n",
              "      <td>2560.0</td>\n",
              "      <td>93806.0</td>\n",
              "      <td>96366.0</td>\n",
              "    </tr>\n",
              "    <tr>\n",
              "      <th>779</th>\n",
              "      <td>780</td>\n",
              "      <td>22664</td>\n",
              "      <td>RTP</td>\n",
              "      <td>Expreso Directo</td>\n",
              "      <td>Martes</td>\n",
              "      <td>09-02-2021</td>\n",
              "      <td>124.0</td>\n",
              "      <td>812.0</td>\n",
              "      <td>936.0</td>\n",
              "    </tr>\n",
              "  </tbody>\n",
              "</table>\n",
              "</div>\n",
              "      <button class=\"colab-df-convert\" onclick=\"convertToInteractive('df-5e0919ff-3d52-4250-855d-98ab86c8d7c6')\"\n",
              "              title=\"Convert this dataframe to an interactive table.\"\n",
              "              style=\"display:none;\">\n",
              "        \n",
              "  <svg xmlns=\"http://www.w3.org/2000/svg\" height=\"24px\"viewBox=\"0 0 24 24\"\n",
              "       width=\"24px\">\n",
              "    <path d=\"M0 0h24v24H0V0z\" fill=\"none\"/>\n",
              "    <path d=\"M18.56 5.44l.94 2.06.94-2.06 2.06-.94-2.06-.94-.94-2.06-.94 2.06-2.06.94zm-11 1L8.5 8.5l.94-2.06 2.06-.94-2.06-.94L8.5 2.5l-.94 2.06-2.06.94zm10 10l.94 2.06.94-2.06 2.06-.94-2.06-.94-.94-2.06-.94 2.06-2.06.94z\"/><path d=\"M17.41 7.96l-1.37-1.37c-.4-.4-.92-.59-1.43-.59-.52 0-1.04.2-1.43.59L10.3 9.45l-7.72 7.72c-.78.78-.78 2.05 0 2.83L4 21.41c.39.39.9.59 1.41.59.51 0 1.02-.2 1.41-.59l7.78-7.78 2.81-2.81c.8-.78.8-2.07 0-2.86zM5.41 20L4 18.59l7.72-7.72 1.47 1.35L5.41 20z\"/>\n",
              "  </svg>\n",
              "      </button>\n",
              "      \n",
              "  <style>\n",
              "    .colab-df-container {\n",
              "      display:flex;\n",
              "      flex-wrap:wrap;\n",
              "      gap: 12px;\n",
              "    }\n",
              "\n",
              "    .colab-df-convert {\n",
              "      background-color: #E8F0FE;\n",
              "      border: none;\n",
              "      border-radius: 50%;\n",
              "      cursor: pointer;\n",
              "      display: none;\n",
              "      fill: #1967D2;\n",
              "      height: 32px;\n",
              "      padding: 0 0 0 0;\n",
              "      width: 32px;\n",
              "    }\n",
              "\n",
              "    .colab-df-convert:hover {\n",
              "      background-color: #E2EBFA;\n",
              "      box-shadow: 0px 1px 2px rgba(60, 64, 67, 0.3), 0px 1px 3px 1px rgba(60, 64, 67, 0.15);\n",
              "      fill: #174EA6;\n",
              "    }\n",
              "\n",
              "    [theme=dark] .colab-df-convert {\n",
              "      background-color: #3B4455;\n",
              "      fill: #D2E3FC;\n",
              "    }\n",
              "\n",
              "    [theme=dark] .colab-df-convert:hover {\n",
              "      background-color: #434B5C;\n",
              "      box-shadow: 0px 1px 3px 1px rgba(0, 0, 0, 0.15);\n",
              "      filter: drop-shadow(0px 1px 2px rgba(0, 0, 0, 0.3));\n",
              "      fill: #FFFFFF;\n",
              "    }\n",
              "  </style>\n",
              "\n",
              "      <script>\n",
              "        const buttonEl =\n",
              "          document.querySelector('#df-5e0919ff-3d52-4250-855d-98ab86c8d7c6 button.colab-df-convert');\n",
              "        buttonEl.style.display =\n",
              "          google.colab.kernel.accessAllowed ? 'block' : 'none';\n",
              "\n",
              "        async function convertToInteractive(key) {\n",
              "          const element = document.querySelector('#df-5e0919ff-3d52-4250-855d-98ab86c8d7c6');\n",
              "          const dataTable =\n",
              "            await google.colab.kernel.invokeFunction('convertToInteractive',\n",
              "                                                     [key], {});\n",
              "          if (!dataTable) return;\n",
              "\n",
              "          const docLinkHtml = 'Like what you see? Visit the ' +\n",
              "            '<a target=\"_blank\" href=https://colab.research.google.com/notebooks/data_table.ipynb>data table notebook</a>'\n",
              "            + ' to learn more about interactive tables.';\n",
              "          element.innerHTML = '';\n",
              "          dataTable['output_type'] = 'display_data';\n",
              "          await google.colab.output.renderOutput(dataTable, element);\n",
              "          const docLink = document.createElement('div');\n",
              "          docLink.innerHTML = docLinkHtml;\n",
              "          element.appendChild(docLink);\n",
              "        }\n",
              "      </script>\n",
              "    </div>\n",
              "  </div>\n",
              "  "
            ]
          },
          "metadata": {},
          "execution_count": 19
        }
      ]
    },
    {
      "cell_type": "code",
      "metadata": {
        "colab": {
          "base_uri": "https://localhost:8080/",
          "height": 1000
        },
        "id": "BNqa7Lc7-1iH",
        "outputId": "63178f20-05d2-4bd6-fdc1-2eee4c8d6457"
      },
      "source": [
        "df.sample(50)"
      ],
      "execution_count": null,
      "outputs": [
        {
          "output_type": "execute_result",
          "data": {
            "text/html": [
              "<div>\n",
              "<style scoped>\n",
              "    .dataframe tbody tr th:only-of-type {\n",
              "        vertical-align: middle;\n",
              "    }\n",
              "\n",
              "    .dataframe tbody tr th {\n",
              "        vertical-align: top;\n",
              "    }\n",
              "\n",
              "    .dataframe thead th {\n",
              "        text-align: right;\n",
              "    }\n",
              "</style>\n",
              "<table border=\"1\" class=\"dataframe\">\n",
              "  <thead>\n",
              "    <tr style=\"text-align: right;\">\n",
              "      <th></th>\n",
              "      <th>Unnamed: 0</th>\n",
              "      <th>id</th>\n",
              "      <th>organismo</th>\n",
              "      <th>linea_servicio</th>\n",
              "      <th>dia</th>\n",
              "      <th>fecha</th>\n",
              "      <th>afluencia_tarjeta</th>\n",
              "      <th>afluencia_boleto</th>\n",
              "      <th>afluencia_total</th>\n",
              "    </tr>\n",
              "  </thead>\n",
              "  <tbody>\n",
              "    <tr>\n",
              "      <th>1499</th>\n",
              "      <td>1500</td>\n",
              "      <td>11963</td>\n",
              "      <td>STC</td>\n",
              "      <td>L6</td>\n",
              "      <td>Viernes</td>\n",
              "      <td>19-02-2021</td>\n",
              "      <td>NaN</td>\n",
              "      <td>NaN</td>\n",
              "      <td>52651.0</td>\n",
              "    </tr>\n",
              "    <tr>\n",
              "      <th>744</th>\n",
              "      <td>745</td>\n",
              "      <td>22633</td>\n",
              "      <td>RTP</td>\n",
              "      <td>Temporal Peñón-Panteón San Isidro-Metro Camarones</td>\n",
              "      <td>Viernes</td>\n",
              "      <td>05-02-2021</td>\n",
              "      <td>64.0</td>\n",
              "      <td>1036.0</td>\n",
              "      <td>1100.0</td>\n",
              "    </tr>\n",
              "    <tr>\n",
              "      <th>125</th>\n",
              "      <td>126</td>\n",
              "      <td>16145</td>\n",
              "      <td>Metrobús</td>\n",
              "      <td>L2</td>\n",
              "      <td>Lunes</td>\n",
              "      <td>11-01-2021</td>\n",
              "      <td>NaN</td>\n",
              "      <td>NaN</td>\n",
              "      <td>114761.0</td>\n",
              "    </tr>\n",
              "    <tr>\n",
              "      <th>1356</th>\n",
              "      <td>1357</td>\n",
              "      <td>11820</td>\n",
              "      <td>STC</td>\n",
              "      <td>L7</td>\n",
              "      <td>Domingo</td>\n",
              "      <td>07-02-2021</td>\n",
              "      <td>NaN</td>\n",
              "      <td>NaN</td>\n",
              "      <td>49182.0</td>\n",
              "    </tr>\n",
              "    <tr>\n",
              "      <th>473</th>\n",
              "      <td>474</td>\n",
              "      <td>22387</td>\n",
              "      <td>RTP</td>\n",
              "      <td>Expreso</td>\n",
              "      <td>Miércoles</td>\n",
              "      <td>06-01-2021</td>\n",
              "      <td>3719.0</td>\n",
              "      <td>37869.0</td>\n",
              "      <td>41588.0</td>\n",
              "    </tr>\n",
              "    <tr>\n",
              "      <th>693</th>\n",
              "      <td>694</td>\n",
              "      <td>22587</td>\n",
              "      <td>RTP</td>\n",
              "      <td>Expreso</td>\n",
              "      <td>Domingo</td>\n",
              "      <td>31-01-2021</td>\n",
              "      <td>716.0</td>\n",
              "      <td>16030.0</td>\n",
              "      <td>16746.0</td>\n",
              "    </tr>\n",
              "    <tr>\n",
              "      <th>715</th>\n",
              "      <td>716</td>\n",
              "      <td>22607</td>\n",
              "      <td>RTP</td>\n",
              "      <td>Eco Atenea</td>\n",
              "      <td>Martes</td>\n",
              "      <td>02-02-2021</td>\n",
              "      <td>NaN</td>\n",
              "      <td>407.0</td>\n",
              "      <td>407.0</td>\n",
              "    </tr>\n",
              "    <tr>\n",
              "      <th>1156</th>\n",
              "      <td>1157</td>\n",
              "      <td>11620</td>\n",
              "      <td>STC</td>\n",
              "      <td>LB</td>\n",
              "      <td>Jueves</td>\n",
              "      <td>21-01-2021</td>\n",
              "      <td>NaN</td>\n",
              "      <td>NaN</td>\n",
              "      <td>218451.0</td>\n",
              "    </tr>\n",
              "    <tr>\n",
              "      <th>1539</th>\n",
              "      <td>1540</td>\n",
              "      <td>12003</td>\n",
              "      <td>STC</td>\n",
              "      <td>LA</td>\n",
              "      <td>Lunes</td>\n",
              "      <td>22-02-2021</td>\n",
              "      <td>NaN</td>\n",
              "      <td>NaN</td>\n",
              "      <td>173412.0</td>\n",
              "    </tr>\n",
              "    <tr>\n",
              "      <th>1342</th>\n",
              "      <td>1343</td>\n",
              "      <td>11806</td>\n",
              "      <td>STC</td>\n",
              "      <td>L5</td>\n",
              "      <td>Sábado</td>\n",
              "      <td>06-02-2021</td>\n",
              "      <td>NaN</td>\n",
              "      <td>NaN</td>\n",
              "      <td>117426.0</td>\n",
              "    </tr>\n",
              "    <tr>\n",
              "      <th>118</th>\n",
              "      <td>119</td>\n",
              "      <td>16138</td>\n",
              "      <td>Metrobús</td>\n",
              "      <td>L2</td>\n",
              "      <td>Domingo</td>\n",
              "      <td>10-01-2021</td>\n",
              "      <td>NaN</td>\n",
              "      <td>NaN</td>\n",
              "      <td>60405.0</td>\n",
              "    </tr>\n",
              "    <tr>\n",
              "      <th>2076</th>\n",
              "      <td>2077</td>\n",
              "      <td>25885</td>\n",
              "      <td>Suburbano</td>\n",
              "      <td>L1</td>\n",
              "      <td>Martes</td>\n",
              "      <td>12-01-2021</td>\n",
              "      <td>NaN</td>\n",
              "      <td>NaN</td>\n",
              "      <td>64302.0</td>\n",
              "    </tr>\n",
              "    <tr>\n",
              "      <th>2026</th>\n",
              "      <td>2027</td>\n",
              "      <td>19608</td>\n",
              "      <td>STE-Trolebús</td>\n",
              "      <td>L7 Lomas Estrella-CU</td>\n",
              "      <td>Viernes</td>\n",
              "      <td>19-02-2021</td>\n",
              "      <td>NaN</td>\n",
              "      <td>NaN</td>\n",
              "      <td>11175.0</td>\n",
              "    </tr>\n",
              "    <tr>\n",
              "      <th>1959</th>\n",
              "      <td>1960</td>\n",
              "      <td>19548</td>\n",
              "      <td>STE-Trolebús</td>\n",
              "      <td>L3 Eje 7 Sur</td>\n",
              "      <td>Viernes</td>\n",
              "      <td>12-02-2021</td>\n",
              "      <td>NaN</td>\n",
              "      <td>NaN</td>\n",
              "      <td>9231.0</td>\n",
              "    </tr>\n",
              "    <tr>\n",
              "      <th>1526</th>\n",
              "      <td>1527</td>\n",
              "      <td>11990</td>\n",
              "      <td>STC</td>\n",
              "      <td>L9</td>\n",
              "      <td>Domingo</td>\n",
              "      <td>21-02-2021</td>\n",
              "      <td>NaN</td>\n",
              "      <td>NaN</td>\n",
              "      <td>89891.0</td>\n",
              "    </tr>\n",
              "    <tr>\n",
              "      <th>1615</th>\n",
              "      <td>1616</td>\n",
              "      <td>19217</td>\n",
              "      <td>STE-Trolebús</td>\n",
              "      <td>L8 Circuito IPN</td>\n",
              "      <td>Viernes</td>\n",
              "      <td>01-01-2021</td>\n",
              "      <td>NaN</td>\n",
              "      <td>NaN</td>\n",
              "      <td>0.0</td>\n",
              "    </tr>\n",
              "    <tr>\n",
              "      <th>187</th>\n",
              "      <td>188</td>\n",
              "      <td>16207</td>\n",
              "      <td>Metrobús</td>\n",
              "      <td>L1</td>\n",
              "      <td>Míercoles</td>\n",
              "      <td>20-01-2021</td>\n",
              "      <td>NaN</td>\n",
              "      <td>NaN</td>\n",
              "      <td>303257.0</td>\n",
              "    </tr>\n",
              "    <tr>\n",
              "      <th>608</th>\n",
              "      <td>609</td>\n",
              "      <td>22512</td>\n",
              "      <td>RTP</td>\n",
              "      <td>Expreso Directo</td>\n",
              "      <td>Jueves</td>\n",
              "      <td>21-01-2021</td>\n",
              "      <td>98.0</td>\n",
              "      <td>767.0</td>\n",
              "      <td>865.0</td>\n",
              "    </tr>\n",
              "    <tr>\n",
              "      <th>2050</th>\n",
              "      <td>2051</td>\n",
              "      <td>19629</td>\n",
              "      <td>STE-Trolebús</td>\n",
              "      <td>L4 Pto Aéreo-Rosario</td>\n",
              "      <td>Lunes</td>\n",
              "      <td>22-02-2021</td>\n",
              "      <td>NaN</td>\n",
              "      <td>NaN</td>\n",
              "      <td>12314.0</td>\n",
              "    </tr>\n",
              "    <tr>\n",
              "      <th>1130</th>\n",
              "      <td>1131</td>\n",
              "      <td>11594</td>\n",
              "      <td>STC</td>\n",
              "      <td>L9</td>\n",
              "      <td>Martes</td>\n",
              "      <td>19-01-2021</td>\n",
              "      <td>NaN</td>\n",
              "      <td>NaN</td>\n",
              "      <td>251924.0</td>\n",
              "    </tr>\n",
              "    <tr>\n",
              "      <th>1909</th>\n",
              "      <td>1910</td>\n",
              "      <td>19504</td>\n",
              "      <td>STE-Trolebús</td>\n",
              "      <td>L7 Lomas Estrella-CU</td>\n",
              "      <td>Sábado</td>\n",
              "      <td>06-02-2021</td>\n",
              "      <td>NaN</td>\n",
              "      <td>NaN</td>\n",
              "      <td>5535.0</td>\n",
              "    </tr>\n",
              "    <tr>\n",
              "      <th>1808</th>\n",
              "      <td>1809</td>\n",
              "      <td>19410</td>\n",
              "      <td>STE-Trolebús</td>\n",
              "      <td>L1 Eje Central</td>\n",
              "      <td>Martes</td>\n",
              "      <td>26-01-2021</td>\n",
              "      <td>NaN</td>\n",
              "      <td>NaN</td>\n",
              "      <td>60450.0</td>\n",
              "    </tr>\n",
              "    <tr>\n",
              "      <th>497</th>\n",
              "      <td>498</td>\n",
              "      <td>22411</td>\n",
              "      <td>RTP</td>\n",
              "      <td>Expreso</td>\n",
              "      <td>Sábado</td>\n",
              "      <td>09-01-2021</td>\n",
              "      <td>1453.0</td>\n",
              "      <td>15967.0</td>\n",
              "      <td>17420.0</td>\n",
              "    </tr>\n",
              "    <tr>\n",
              "      <th>635</th>\n",
              "      <td>636</td>\n",
              "      <td>22536</td>\n",
              "      <td>RTP</td>\n",
              "      <td>Expreso Directo</td>\n",
              "      <td>Domingo</td>\n",
              "      <td>24-01-2021</td>\n",
              "      <td>0.0</td>\n",
              "      <td>0.0</td>\n",
              "      <td>0.0</td>\n",
              "    </tr>\n",
              "    <tr>\n",
              "      <th>494</th>\n",
              "      <td>495</td>\n",
              "      <td>22408</td>\n",
              "      <td>RTP</td>\n",
              "      <td>Expreso Directo</td>\n",
              "      <td>Viernes</td>\n",
              "      <td>08-01-2021</td>\n",
              "      <td>60.0</td>\n",
              "      <td>644.0</td>\n",
              "      <td>704.0</td>\n",
              "    </tr>\n",
              "    <tr>\n",
              "      <th>1790</th>\n",
              "      <td>1791</td>\n",
              "      <td>19392</td>\n",
              "      <td>STE-Trolebús</td>\n",
              "      <td>L7 Lomas Estrella-CU</td>\n",
              "      <td>Sábado</td>\n",
              "      <td>23-01-2021</td>\n",
              "      <td>NaN</td>\n",
              "      <td>NaN</td>\n",
              "      <td>6387.0</td>\n",
              "    </tr>\n",
              "    <tr>\n",
              "      <th>258</th>\n",
              "      <td>259</td>\n",
              "      <td>16278</td>\n",
              "      <td>Metrobús</td>\n",
              "      <td>L2</td>\n",
              "      <td>Sábado</td>\n",
              "      <td>30-01-2021</td>\n",
              "      <td>NaN</td>\n",
              "      <td>NaN</td>\n",
              "      <td>80809.0</td>\n",
              "    </tr>\n",
              "    <tr>\n",
              "      <th>590</th>\n",
              "      <td>591</td>\n",
              "      <td>22496</td>\n",
              "      <td>RTP</td>\n",
              "      <td>Expreso Directo</td>\n",
              "      <td>Martes</td>\n",
              "      <td>19-01-2021</td>\n",
              "      <td>97.0</td>\n",
              "      <td>830.0</td>\n",
              "      <td>927.0</td>\n",
              "    </tr>\n",
              "    <tr>\n",
              "      <th>829</th>\n",
              "      <td>830</td>\n",
              "      <td>22710</td>\n",
              "      <td>RTP</td>\n",
              "      <td>Nocturno</td>\n",
              "      <td>Lunes</td>\n",
              "      <td>15-02-2021</td>\n",
              "      <td>11.0</td>\n",
              "      <td>298.0</td>\n",
              "      <td>309.0</td>\n",
              "    </tr>\n",
              "    <tr>\n",
              "      <th>1569</th>\n",
              "      <td>1570</td>\n",
              "      <td>18833</td>\n",
              "      <td>STE-Tren Ligero</td>\n",
              "      <td>Xochimilco-Tasqueña</td>\n",
              "      <td>Sábado</td>\n",
              "      <td>16-01-2021</td>\n",
              "      <td>NaN</td>\n",
              "      <td>NaN</td>\n",
              "      <td>19314.0</td>\n",
              "    </tr>\n",
              "    <tr>\n",
              "      <th>2031</th>\n",
              "      <td>2032</td>\n",
              "      <td>19612</td>\n",
              "      <td>STE-Trolebús</td>\n",
              "      <td>L3 Eje 7 Sur</td>\n",
              "      <td>Sábado</td>\n",
              "      <td>20-02-2021</td>\n",
              "      <td>NaN</td>\n",
              "      <td>NaN</td>\n",
              "      <td>9793.0</td>\n",
              "    </tr>\n",
              "    <tr>\n",
              "      <th>1776</th>\n",
              "      <td>1777</td>\n",
              "      <td>19378</td>\n",
              "      <td>STE-Trolebús</td>\n",
              "      <td>L1 Eje Central</td>\n",
              "      <td>Viernes</td>\n",
              "      <td>22-01-2021</td>\n",
              "      <td>NaN</td>\n",
              "      <td>NaN</td>\n",
              "      <td>54755.0</td>\n",
              "    </tr>\n",
              "    <tr>\n",
              "      <th>5</th>\n",
              "      <td>6</td>\n",
              "      <td>25487</td>\n",
              "      <td>Ecobici</td>\n",
              "      <td>NaN</td>\n",
              "      <td>Miércoles</td>\n",
              "      <td>06-01-2021</td>\n",
              "      <td>NaN</td>\n",
              "      <td>NaN</td>\n",
              "      <td>7401.0</td>\n",
              "    </tr>\n",
              "    <tr>\n",
              "      <th>1746</th>\n",
              "      <td>1747</td>\n",
              "      <td>19348</td>\n",
              "      <td>STE-Trolebús</td>\n",
              "      <td>L3 Eje 7 Sur</td>\n",
              "      <td>Lunes</td>\n",
              "      <td>18-01-2021</td>\n",
              "      <td>NaN</td>\n",
              "      <td>NaN</td>\n",
              "      <td>11250.0</td>\n",
              "    </tr>\n",
              "    <tr>\n",
              "      <th>319</th>\n",
              "      <td>320</td>\n",
              "      <td>16339</td>\n",
              "      <td>Metrobús</td>\n",
              "      <td>L7</td>\n",
              "      <td>Domingo</td>\n",
              "      <td>07-02-2021</td>\n",
              "      <td>NaN</td>\n",
              "      <td>NaN</td>\n",
              "      <td>30631.0</td>\n",
              "    </tr>\n",
              "    <tr>\n",
              "      <th>1867</th>\n",
              "      <td>1868</td>\n",
              "      <td>19466</td>\n",
              "      <td>STE-Trolebús</td>\n",
              "      <td>L1 Eje Central</td>\n",
              "      <td>Martes</td>\n",
              "      <td>02-02-2021</td>\n",
              "      <td>NaN</td>\n",
              "      <td>NaN</td>\n",
              "      <td>67923.0</td>\n",
              "    </tr>\n",
              "    <tr>\n",
              "      <th>718</th>\n",
              "      <td>719</td>\n",
              "      <td>26288</td>\n",
              "      <td>RTP</td>\n",
              "      <td>SEFI Metro</td>\n",
              "      <td>Martes</td>\n",
              "      <td>02-02-2021</td>\n",
              "      <td>2204.0</td>\n",
              "      <td>57595.0</td>\n",
              "      <td>59799.0</td>\n",
              "    </tr>\n",
              "    <tr>\n",
              "      <th>1322</th>\n",
              "      <td>1323</td>\n",
              "      <td>11786</td>\n",
              "      <td>STC</td>\n",
              "      <td>L9</td>\n",
              "      <td>Jueves</td>\n",
              "      <td>04-02-2021</td>\n",
              "      <td>NaN</td>\n",
              "      <td>NaN</td>\n",
              "      <td>223937.0</td>\n",
              "    </tr>\n",
              "    <tr>\n",
              "      <th>1383</th>\n",
              "      <td>1384</td>\n",
              "      <td>11847</td>\n",
              "      <td>STC</td>\n",
              "      <td>LA</td>\n",
              "      <td>Martes</td>\n",
              "      <td>09-02-2021</td>\n",
              "      <td>NaN</td>\n",
              "      <td>NaN</td>\n",
              "      <td>194441.0</td>\n",
              "    </tr>\n",
              "    <tr>\n",
              "      <th>333</th>\n",
              "      <td>334</td>\n",
              "      <td>16353</td>\n",
              "      <td>Metrobús</td>\n",
              "      <td>L7</td>\n",
              "      <td>Martes</td>\n",
              "      <td>09-02-2021</td>\n",
              "      <td>NaN</td>\n",
              "      <td>NaN</td>\n",
              "      <td>68621.0</td>\n",
              "    </tr>\n",
              "    <tr>\n",
              "      <th>1474</th>\n",
              "      <td>1475</td>\n",
              "      <td>11938</td>\n",
              "      <td>STC</td>\n",
              "      <td>L5</td>\n",
              "      <td>Miércoles</td>\n",
              "      <td>17-02-2021</td>\n",
              "      <td>NaN</td>\n",
              "      <td>NaN</td>\n",
              "      <td>119060.0</td>\n",
              "    </tr>\n",
              "    <tr>\n",
              "      <th>1225</th>\n",
              "      <td>1226</td>\n",
              "      <td>11689</td>\n",
              "      <td>STC</td>\n",
              "      <td>L8</td>\n",
              "      <td>Miércoles</td>\n",
              "      <td>27-01-2021</td>\n",
              "      <td>NaN</td>\n",
              "      <td>NaN</td>\n",
              "      <td>203389.0</td>\n",
              "    </tr>\n",
              "    <tr>\n",
              "      <th>1523</th>\n",
              "      <td>1524</td>\n",
              "      <td>11987</td>\n",
              "      <td>STC</td>\n",
              "      <td>L6</td>\n",
              "      <td>Domingo</td>\n",
              "      <td>21-02-2021</td>\n",
              "      <td>NaN</td>\n",
              "      <td>NaN</td>\n",
              "      <td>23745.0</td>\n",
              "    </tr>\n",
              "    <tr>\n",
              "      <th>489</th>\n",
              "      <td>490</td>\n",
              "      <td>22403</td>\n",
              "      <td>RTP</td>\n",
              "      <td>Expreso</td>\n",
              "      <td>Viernes</td>\n",
              "      <td>08-01-2021</td>\n",
              "      <td>3108.0</td>\n",
              "      <td>36479.0</td>\n",
              "      <td>39587.0</td>\n",
              "    </tr>\n",
              "    <tr>\n",
              "      <th>949</th>\n",
              "      <td>950</td>\n",
              "      <td>11413</td>\n",
              "      <td>STC</td>\n",
              "      <td>L8</td>\n",
              "      <td>Lunes</td>\n",
              "      <td>04-01-2021</td>\n",
              "      <td>NaN</td>\n",
              "      <td>NaN</td>\n",
              "      <td>186292.0</td>\n",
              "    </tr>\n",
              "    <tr>\n",
              "      <th>1003</th>\n",
              "      <td>1004</td>\n",
              "      <td>11467</td>\n",
              "      <td>STC</td>\n",
              "      <td>L2</td>\n",
              "      <td>Sábado</td>\n",
              "      <td>09-01-2021</td>\n",
              "      <td>NaN</td>\n",
              "      <td>NaN</td>\n",
              "      <td>0.0</td>\n",
              "    </tr>\n",
              "    <tr>\n",
              "      <th>974</th>\n",
              "      <td>975</td>\n",
              "      <td>11438</td>\n",
              "      <td>STC</td>\n",
              "      <td>L9</td>\n",
              "      <td>Miércoles</td>\n",
              "      <td>06-01-2021</td>\n",
              "      <td>NaN</td>\n",
              "      <td>NaN</td>\n",
              "      <td>153772.0</td>\n",
              "    </tr>\n",
              "    <tr>\n",
              "      <th>1235</th>\n",
              "      <td>1236</td>\n",
              "      <td>11699</td>\n",
              "      <td>STC</td>\n",
              "      <td>L6</td>\n",
              "      <td>Jueves</td>\n",
              "      <td>28-01-2021</td>\n",
              "      <td>NaN</td>\n",
              "      <td>NaN</td>\n",
              "      <td>49510.0</td>\n",
              "    </tr>\n",
              "    <tr>\n",
              "      <th>146</th>\n",
              "      <td>147</td>\n",
              "      <td>16166</td>\n",
              "      <td>Metrobús</td>\n",
              "      <td>L2</td>\n",
              "      <td>Jueves</td>\n",
              "      <td>14-01-2021</td>\n",
              "      <td>NaN</td>\n",
              "      <td>NaN</td>\n",
              "      <td>106796.0</td>\n",
              "    </tr>\n",
              "    <tr>\n",
              "      <th>1799</th>\n",
              "      <td>1800</td>\n",
              "      <td>19401</td>\n",
              "      <td>STE-Trolebús</td>\n",
              "      <td>L8 Circuito IPN</td>\n",
              "      <td>Domingo</td>\n",
              "      <td>24-01-2021</td>\n",
              "      <td>NaN</td>\n",
              "      <td>NaN</td>\n",
              "      <td>0.0</td>\n",
              "    </tr>\n",
              "  </tbody>\n",
              "</table>\n",
              "</div>"
            ],
            "text/plain": [
              "      Unnamed: 0     id  ... afluencia_boleto afluencia_total\n",
              "1499        1500  11963  ...              NaN         52651.0\n",
              "744          745  22633  ...           1036.0          1100.0\n",
              "125          126  16145  ...              NaN        114761.0\n",
              "1356        1357  11820  ...              NaN         49182.0\n",
              "473          474  22387  ...          37869.0         41588.0\n",
              "693          694  22587  ...          16030.0         16746.0\n",
              "715          716  22607  ...            407.0           407.0\n",
              "1156        1157  11620  ...              NaN        218451.0\n",
              "1539        1540  12003  ...              NaN        173412.0\n",
              "1342        1343  11806  ...              NaN        117426.0\n",
              "118          119  16138  ...              NaN         60405.0\n",
              "2076        2077  25885  ...              NaN         64302.0\n",
              "2026        2027  19608  ...              NaN         11175.0\n",
              "1959        1960  19548  ...              NaN          9231.0\n",
              "1526        1527  11990  ...              NaN         89891.0\n",
              "1615        1616  19217  ...              NaN             0.0\n",
              "187          188  16207  ...              NaN        303257.0\n",
              "608          609  22512  ...            767.0           865.0\n",
              "2050        2051  19629  ...              NaN         12314.0\n",
              "1130        1131  11594  ...              NaN        251924.0\n",
              "1909        1910  19504  ...              NaN          5535.0\n",
              "1808        1809  19410  ...              NaN         60450.0\n",
              "497          498  22411  ...          15967.0         17420.0\n",
              "635          636  22536  ...              0.0             0.0\n",
              "494          495  22408  ...            644.0           704.0\n",
              "1790        1791  19392  ...              NaN          6387.0\n",
              "258          259  16278  ...              NaN         80809.0\n",
              "590          591  22496  ...            830.0           927.0\n",
              "829          830  22710  ...            298.0           309.0\n",
              "1569        1570  18833  ...              NaN         19314.0\n",
              "2031        2032  19612  ...              NaN          9793.0\n",
              "1776        1777  19378  ...              NaN         54755.0\n",
              "5              6  25487  ...              NaN          7401.0\n",
              "1746        1747  19348  ...              NaN         11250.0\n",
              "319          320  16339  ...              NaN         30631.0\n",
              "1867        1868  19466  ...              NaN         67923.0\n",
              "718          719  26288  ...          57595.0         59799.0\n",
              "1322        1323  11786  ...              NaN        223937.0\n",
              "1383        1384  11847  ...              NaN        194441.0\n",
              "333          334  16353  ...              NaN         68621.0\n",
              "1474        1475  11938  ...              NaN        119060.0\n",
              "1225        1226  11689  ...              NaN        203389.0\n",
              "1523        1524  11987  ...              NaN         23745.0\n",
              "489          490  22403  ...          36479.0         39587.0\n",
              "949          950  11413  ...              NaN        186292.0\n",
              "1003        1004  11467  ...              NaN             0.0\n",
              "974          975  11438  ...              NaN        153772.0\n",
              "1235        1236  11699  ...              NaN         49510.0\n",
              "146          147  16166  ...              NaN        106796.0\n",
              "1799        1800  19401  ...              NaN             0.0\n",
              "\n",
              "[50 rows x 9 columns]"
            ]
          },
          "metadata": {},
          "execution_count": 9
        }
      ]
    },
    {
      "cell_type": "code",
      "metadata": {
        "id": "Z5p4sZJxBbWB",
        "colab": {
          "base_uri": "https://localhost:8080/"
        },
        "outputId": "c2e7230a-2545-40ed-a33c-695097ad3119"
      },
      "source": [
        "df.info()"
      ],
      "execution_count": null,
      "outputs": [
        {
          "output_type": "stream",
          "name": "stdout",
          "text": [
            "<class 'pandas.core.frame.DataFrame'>\n",
            "RangeIndex: 2119 entries, 0 to 2118\n",
            "Data columns (total 9 columns):\n",
            " #   Column             Non-Null Count  Dtype  \n",
            "---  ------             --------------  -----  \n",
            " 0   Unnamed: 0         2119 non-null   int64  \n",
            " 1   id                 2119 non-null   int64  \n",
            " 2   organismo          2119 non-null   object \n",
            " 3   linea_servicio     2065 non-null   object \n",
            " 4   dia                2119 non-null   object \n",
            " 5   fecha              2119 non-null   object \n",
            " 6   afluencia_tarjeta  362 non-null    float64\n",
            " 7   afluencia_boleto   462 non-null    float64\n",
            " 8   afluencia_total    2072 non-null   float64\n",
            "dtypes: float64(3), int64(2), object(4)\n",
            "memory usage: 149.1+ KB\n"
          ]
        }
      ]
    },
    {
      "cell_type": "code",
      "metadata": {
        "colab": {
          "base_uri": "https://localhost:8080/",
          "height": 331
        },
        "id": "6fqaARtL0aI5",
        "outputId": "d4978480-d588-469f-f843-67b9b622442b"
      },
      "source": [
        "df.sample(df.shape[0], random_state = 20).iloc[1:10,6:9]"
      ],
      "execution_count": null,
      "outputs": [
        {
          "output_type": "execute_result",
          "data": {
            "text/plain": [
              "      afluencia_tarjeta  afluencia_boleto  afluencia_total\n",
              "1771                NaN               NaN           9749.0\n",
              "1860                NaN               NaN           5993.0\n",
              "2105                NaN               NaN          73314.0\n",
              "479               164.0            2945.0           3109.0\n",
              "700              2090.0           47943.0          50033.0\n",
              "1366                NaN               NaN         120171.0\n",
              "1792                NaN               NaN          33996.0\n",
              "65                  NaN               NaN          66471.0\n",
              "1461                NaN               NaN          38532.0"
            ],
            "text/html": [
              "\n",
              "  <div id=\"df-2d30aa51-e6f6-452e-81e6-b26c6321b3bf\">\n",
              "    <div class=\"colab-df-container\">\n",
              "      <div>\n",
              "<style scoped>\n",
              "    .dataframe tbody tr th:only-of-type {\n",
              "        vertical-align: middle;\n",
              "    }\n",
              "\n",
              "    .dataframe tbody tr th {\n",
              "        vertical-align: top;\n",
              "    }\n",
              "\n",
              "    .dataframe thead th {\n",
              "        text-align: right;\n",
              "    }\n",
              "</style>\n",
              "<table border=\"1\" class=\"dataframe\">\n",
              "  <thead>\n",
              "    <tr style=\"text-align: right;\">\n",
              "      <th></th>\n",
              "      <th>afluencia_tarjeta</th>\n",
              "      <th>afluencia_boleto</th>\n",
              "      <th>afluencia_total</th>\n",
              "    </tr>\n",
              "  </thead>\n",
              "  <tbody>\n",
              "    <tr>\n",
              "      <th>1771</th>\n",
              "      <td>NaN</td>\n",
              "      <td>NaN</td>\n",
              "      <td>9749.0</td>\n",
              "    </tr>\n",
              "    <tr>\n",
              "      <th>1860</th>\n",
              "      <td>NaN</td>\n",
              "      <td>NaN</td>\n",
              "      <td>5993.0</td>\n",
              "    </tr>\n",
              "    <tr>\n",
              "      <th>2105</th>\n",
              "      <td>NaN</td>\n",
              "      <td>NaN</td>\n",
              "      <td>73314.0</td>\n",
              "    </tr>\n",
              "    <tr>\n",
              "      <th>479</th>\n",
              "      <td>164.0</td>\n",
              "      <td>2945.0</td>\n",
              "      <td>3109.0</td>\n",
              "    </tr>\n",
              "    <tr>\n",
              "      <th>700</th>\n",
              "      <td>2090.0</td>\n",
              "      <td>47943.0</td>\n",
              "      <td>50033.0</td>\n",
              "    </tr>\n",
              "    <tr>\n",
              "      <th>1366</th>\n",
              "      <td>NaN</td>\n",
              "      <td>NaN</td>\n",
              "      <td>120171.0</td>\n",
              "    </tr>\n",
              "    <tr>\n",
              "      <th>1792</th>\n",
              "      <td>NaN</td>\n",
              "      <td>NaN</td>\n",
              "      <td>33996.0</td>\n",
              "    </tr>\n",
              "    <tr>\n",
              "      <th>65</th>\n",
              "      <td>NaN</td>\n",
              "      <td>NaN</td>\n",
              "      <td>66471.0</td>\n",
              "    </tr>\n",
              "    <tr>\n",
              "      <th>1461</th>\n",
              "      <td>NaN</td>\n",
              "      <td>NaN</td>\n",
              "      <td>38532.0</td>\n",
              "    </tr>\n",
              "  </tbody>\n",
              "</table>\n",
              "</div>\n",
              "      <button class=\"colab-df-convert\" onclick=\"convertToInteractive('df-2d30aa51-e6f6-452e-81e6-b26c6321b3bf')\"\n",
              "              title=\"Convert this dataframe to an interactive table.\"\n",
              "              style=\"display:none;\">\n",
              "        \n",
              "  <svg xmlns=\"http://www.w3.org/2000/svg\" height=\"24px\"viewBox=\"0 0 24 24\"\n",
              "       width=\"24px\">\n",
              "    <path d=\"M0 0h24v24H0V0z\" fill=\"none\"/>\n",
              "    <path d=\"M18.56 5.44l.94 2.06.94-2.06 2.06-.94-2.06-.94-.94-2.06-.94 2.06-2.06.94zm-11 1L8.5 8.5l.94-2.06 2.06-.94-2.06-.94L8.5 2.5l-.94 2.06-2.06.94zm10 10l.94 2.06.94-2.06 2.06-.94-2.06-.94-.94-2.06-.94 2.06-2.06.94z\"/><path d=\"M17.41 7.96l-1.37-1.37c-.4-.4-.92-.59-1.43-.59-.52 0-1.04.2-1.43.59L10.3 9.45l-7.72 7.72c-.78.78-.78 2.05 0 2.83L4 21.41c.39.39.9.59 1.41.59.51 0 1.02-.2 1.41-.59l7.78-7.78 2.81-2.81c.8-.78.8-2.07 0-2.86zM5.41 20L4 18.59l7.72-7.72 1.47 1.35L5.41 20z\"/>\n",
              "  </svg>\n",
              "      </button>\n",
              "      \n",
              "  <style>\n",
              "    .colab-df-container {\n",
              "      display:flex;\n",
              "      flex-wrap:wrap;\n",
              "      gap: 12px;\n",
              "    }\n",
              "\n",
              "    .colab-df-convert {\n",
              "      background-color: #E8F0FE;\n",
              "      border: none;\n",
              "      border-radius: 50%;\n",
              "      cursor: pointer;\n",
              "      display: none;\n",
              "      fill: #1967D2;\n",
              "      height: 32px;\n",
              "      padding: 0 0 0 0;\n",
              "      width: 32px;\n",
              "    }\n",
              "\n",
              "    .colab-df-convert:hover {\n",
              "      background-color: #E2EBFA;\n",
              "      box-shadow: 0px 1px 2px rgba(60, 64, 67, 0.3), 0px 1px 3px 1px rgba(60, 64, 67, 0.15);\n",
              "      fill: #174EA6;\n",
              "    }\n",
              "\n",
              "    [theme=dark] .colab-df-convert {\n",
              "      background-color: #3B4455;\n",
              "      fill: #D2E3FC;\n",
              "    }\n",
              "\n",
              "    [theme=dark] .colab-df-convert:hover {\n",
              "      background-color: #434B5C;\n",
              "      box-shadow: 0px 1px 3px 1px rgba(0, 0, 0, 0.15);\n",
              "      filter: drop-shadow(0px 1px 2px rgba(0, 0, 0, 0.3));\n",
              "      fill: #FFFFFF;\n",
              "    }\n",
              "  </style>\n",
              "\n",
              "      <script>\n",
              "        const buttonEl =\n",
              "          document.querySelector('#df-2d30aa51-e6f6-452e-81e6-b26c6321b3bf button.colab-df-convert');\n",
              "        buttonEl.style.display =\n",
              "          google.colab.kernel.accessAllowed ? 'block' : 'none';\n",
              "\n",
              "        async function convertToInteractive(key) {\n",
              "          const element = document.querySelector('#df-2d30aa51-e6f6-452e-81e6-b26c6321b3bf');\n",
              "          const dataTable =\n",
              "            await google.colab.kernel.invokeFunction('convertToInteractive',\n",
              "                                                     [key], {});\n",
              "          if (!dataTable) return;\n",
              "\n",
              "          const docLinkHtml = 'Like what you see? Visit the ' +\n",
              "            '<a target=\"_blank\" href=https://colab.research.google.com/notebooks/data_table.ipynb>data table notebook</a>'\n",
              "            + ' to learn more about interactive tables.';\n",
              "          element.innerHTML = '';\n",
              "          dataTable['output_type'] = 'display_data';\n",
              "          await google.colab.output.renderOutput(dataTable, element);\n",
              "          const docLink = document.createElement('div');\n",
              "          docLink.innerHTML = docLinkHtml;\n",
              "          element.appendChild(docLink);\n",
              "        }\n",
              "      </script>\n",
              "    </div>\n",
              "  </div>\n",
              "  "
            ]
          },
          "metadata": {},
          "execution_count": 29
        }
      ]
    },
    {
      "cell_type": "code",
      "metadata": {
        "id": "v20ShywzBiWf",
        "colab": {
          "base_uri": "https://localhost:8080/",
          "height": 1000
        },
        "outputId": "2498c1ee-8ab9-4f6c-dee4-c719bf303f34"
      },
      "source": [
        "df[[\"afluencia_tarjeta\", \"afluencia_total\", \"afluencia_boleto\", \"organismo\"]].hist(figsize=(20, 10));\n",
        "df.loc[:1000,[\"afluencia_tarjeta\", \"afluencia_total\", \"afluencia_boleto\"]].hist(figsize=(20, 10));\n",
        "df.iloc[:1000,6:9].hist(figsize=(20, 10));\n"
      ],
      "execution_count": null,
      "outputs": [
        {
          "output_type": "display_data",
          "data": {
            "text/plain": [
              "<Figure size 1440x720 with 4 Axes>"
            ],
            "image/png": "[encoded data removed]"
          },
          "metadata": {
            "needs_background": "light"
          }
        },
        {
          "output_type": "display_data",
          "data": {
            "text/plain": [
              "<Figure size 1440x720 with 4 Axes>"
            ],
            "image/png": "[encoded data removed]"
          },
          "metadata": {
            "needs_background": "light"
          }
        },
        {
          "output_type": "display_data",
          "data": {
            "text/plain": [
              "<Figure size 1440x720 with 4 Axes>"
            ],
            "image/png": "[encoded data removed]"
          },
          "metadata": {
            "needs_background": "light"
          }
        }
      ]
    },
    {
      "cell_type": "code",
      "metadata": {
        "colab": {
          "base_uri": "https://localhost:8080/"
        },
        "id": "RaIluTc_ELtI",
        "outputId": "1b3eaaaf-cfc2-4d33-8f9c-2429d9036025"
      },
      "source": [
        "df.columns"
      ],
      "execution_count": null,
      "outputs": [
        {
          "output_type": "execute_result",
          "data": {
            "text/plain": [
              "Index(['Unnamed: 0', 'id', 'organismo', 'linea_servicio', 'dia', 'fecha',\n",
              "       'afluencia_tarjeta', 'afluencia_boleto', 'afluencia_total'],\n",
              "      dtype='object')"
            ]
          },
          "metadata": {},
          "execution_count": 32
        }
      ]
    },
    {
      "cell_type": "code",
      "metadata": {
        "colab": {
          "base_uri": "https://localhost:8080/"
        },
        "id": "jYMWVzmREQBg",
        "outputId": "5ce3aba7-291d-4f53-c607-63da29bea803"
      },
      "source": [
        "df.dtypes"
      ],
      "execution_count": null,
      "outputs": [
        {
          "output_type": "execute_result",
          "data": {
            "text/plain": [
              "Unnamed: 0             int64\n",
              "id                     int64\n",
              "organismo             object\n",
              "linea_servicio        object\n",
              "dia                   object\n",
              "fecha                 object\n",
              "afluencia_tarjeta    float64\n",
              "afluencia_boleto     float64\n",
              "afluencia_total      float64\n",
              "dtype: object"
            ]
          },
          "metadata": {},
          "execution_count": 33
        }
      ]
    },
    {
      "cell_type": "code",
      "metadata": {
        "colab": {
          "base_uri": "https://localhost:8080/"
        },
        "id": "giSV4VUxEgKQ",
        "outputId": "db27cca5-4046-44ca-c760-fe48103fb5eb"
      },
      "source": [
        "variables_string = [variable for variable, tipo in zip(df.columns, df.dtypes) if tipo == object]\n",
        "variables_string"
      ],
      "execution_count": null,
      "outputs": [
        {
          "output_type": "execute_result",
          "data": {
            "text/plain": [
              "['organismo', 'linea_servicio', 'dia', 'fecha']"
            ]
          },
          "metadata": {},
          "execution_count": 39
        }
      ]
    },
    {
      "cell_type": "code",
      "metadata": {
        "colab": {
          "base_uri": "https://localhost:8080/"
        },
        "id": "AssAGAcWFVUR",
        "outputId": "13419943-90a3-4ef5-a9e0-9d1277e38242"
      },
      "source": [
        "df['organismo'].nunique()"
      ],
      "execution_count": null,
      "outputs": [
        {
          "output_type": "execute_result",
          "data": {
            "text/plain": [
              "7"
            ]
          },
          "metadata": {},
          "execution_count": 40
        }
      ]
    },
    {
      "cell_type": "code",
      "metadata": {
        "colab": {
          "base_uri": "https://localhost:8080/"
        },
        "id": "y4Mizo4xEsWW",
        "outputId": "39f4996b-577b-4b68-d566-8764ff713090"
      },
      "source": [
        "df['organismo'].unique()"
      ],
      "execution_count": null,
      "outputs": [
        {
          "output_type": "execute_result",
          "data": {
            "text/plain": [
              "array(['Ecobici', 'Metrobús', 'RTP', 'STC', 'STE-Tren Ligero',\n",
              "       'STE-Trolebús', 'Suburbano'], dtype=object)"
            ]
          },
          "metadata": {},
          "execution_count": 42
        }
      ]
    },
    {
      "cell_type": "code",
      "metadata": {
        "colab": {
          "base_uri": "https://localhost:8080/",
          "height": 348
        },
        "id": "qqXnGrEKF2GC",
        "outputId": "8d2232b0-c4e3-4230-8756-b2da3bb24460"
      },
      "source": [
        "df['organismo'].value_counts().plot.bar()"
      ],
      "execution_count": null,
      "outputs": [
        {
          "output_type": "execute_result",
          "data": {
            "text/plain": [
              "<matplotlib.axes._subplots.AxesSubplot at 0x7f706b7fb050>"
            ]
          },
          "metadata": {},
          "execution_count": 19
        },
        {
          "output_type": "display_data",
          "data": {
            "image/png": "[encoded data removed]",
            "text/plain": [
              "<Figure size 432x288 with 1 Axes>"
            ]
          },
          "metadata": {
            "needs_background": "light"
          }
        }
      ]
    },
    {
      "cell_type": "code",
      "metadata": {
        "colab": {
          "base_uri": "https://localhost:8080/"
        },
        "id": "44fyCLXv4MEH",
        "outputId": "1b6b2e55-b927-4600-c368-bffa9a9a68d7"
      },
      "source": [
        "df['organismo'].value_counts().index"
      ],
      "execution_count": null,
      "outputs": [
        {
          "output_type": "execute_result",
          "data": {
            "text/plain": [
              "Index(['STC', 'RTP', 'STE-Trolebús', 'Metrobús', 'Suburbano', 'Ecobici',\n",
              "       'STE-Tren Ligero'],\n",
              "      dtype='object')"
            ]
          },
          "metadata": {},
          "execution_count": 20
        }
      ]
    },
    {
      "cell_type": "code",
      "metadata": {
        "colab": {
          "base_uri": "https://localhost:8080/"
        },
        "id": "MlTE_UOX4O5y",
        "outputId": "1ad1fc9b-2944-453d-b29d-162ac238a34a"
      },
      "source": [
        " df['organismo'].value_counts().values"
      ],
      "execution_count": null,
      "outputs": [
        {
          "output_type": "execute_result",
          "data": {
            "text/plain": [
              "array([648, 474, 457, 378,  54,  54,  54])"
            ]
          },
          "metadata": {},
          "execution_count": 21
        }
      ]
    },
    {
      "cell_type": "code",
      "metadata": {
        "colab": {
          "base_uri": "https://localhost:8080/",
          "height": 282
        },
        "id": "WkcrKw8d3FC4",
        "outputId": "5d0ffd55-9f04-4e28-afc6-115c0cc03669"
      },
      "source": [
        "plt.bar(['STC', 'RTP', 'STE-Trolebús', 'Metrobús', 'Suburbano',\n",
        "       'STE-Tren Ligero', 'Ecobici'],[648, 474, 457, 378,  54,  54,  54])"
      ],
      "execution_count": null,
      "outputs": [
        {
          "output_type": "execute_result",
          "data": {
            "text/plain": [
              "<BarContainer object of 7 artists>"
            ]
          },
          "metadata": {},
          "execution_count": 43
        },
        {
          "output_type": "display_data",
          "data": {
            "text/plain": [
              "<Figure size 432x288 with 1 Axes>"
            ],
            "image/png": "[encoded data removed]"
          },
          "metadata": {
            "needs_background": "light"
          }
        }
      ]
    },
    {
      "cell_type": "code",
      "metadata": {
        "colab": {
          "base_uri": "https://localhost:8080/",
          "height": 248
        },
        "id": "O3OiezZm2lsS",
        "outputId": "6522412a-b799-468d-bc3a-170624687c60"
      },
      "source": [
        "df['organismo'].value_counts().plot.pie();\n"
      ],
      "execution_count": null,
      "outputs": [
        {
          "output_type": "display_data",
          "data": {
            "text/plain": [
              "<Figure size 432x288 with 1 Axes>"
            ],
            "image/png": "[encoded data removed]"
          },
          "metadata": {}
        }
      ]
    },
    {
      "cell_type": "code",
      "metadata": {
        "colab": {
          "base_uri": "https://localhost:8080/"
        },
        "id": "wASj9WAI55be",
        "outputId": "8b5729bb-6233-4bdf-d68e-6ec589c39d0c"
      },
      "source": [
        "df[\"linea_servicio\"].nunique()"
      ],
      "execution_count": null,
      "outputs": [
        {
          "output_type": "execute_result",
          "data": {
            "text/plain": [
              "33"
            ]
          },
          "metadata": {},
          "execution_count": 24
        }
      ]
    },
    {
      "cell_type": "code",
      "metadata": {
        "id": "RdDVzsYcB4wj",
        "colab": {
          "base_uri": "https://localhost:8080/",
          "height": 1000
        },
        "outputId": "1cc6dc87-d649-438e-e75a-26ba2f1b7761"
      },
      "source": [
        "variables_string = [variable for variable, tipo in zip(df.columns, df.dtypes) if tipo == object]\n",
        "for c_variable in variables_string:\n",
        "  print(c_variable)\n",
        "  if df[c_variable].nunique() <34:\n",
        "    print(c_variable)\n",
        "    df[c_variable].value_counts().plot.bar()\n",
        "    plt.show()"
      ],
      "execution_count": null,
      "outputs": [
        {
          "output_type": "stream",
          "name": "stdout",
          "text": [
            "organismo\n",
            "organismo\n"
          ]
        },
        {
          "output_type": "display_data",
          "data": {
            "image/png": "[encoded data removed]",
            "text/plain": [
              "<Figure size 432x288 with 1 Axes>"
            ]
          },
          "metadata": {
            "needs_background": "light"
          }
        },
        {
          "output_type": "stream",
          "name": "stdout",
          "text": [
            "linea_servicio\n",
            "linea_servicio\n"
          ]
        },
        {
          "output_type": "display_data",
          "data": {
            "image/png": "[encoded data removed]",
            "text/plain": [
              "<Figure size 432x288 with 1 Axes>"
            ]
          },
          "metadata": {
            "needs_background": "light"
          }
        },
        {
          "output_type": "stream",
          "name": "stdout",
          "text": [
            "dia\n",
            "dia\n"
          ]
        },
        {
          "output_type": "display_data",
          "data": {
            "image/png": "[encoded data removed]",
            "text/plain": [
              "<Figure size 432x288 with 1 Axes>"
            ]
          },
          "metadata": {
            "needs_background": "light"
          }
        },
        {
          "output_type": "stream",
          "name": "stdout",
          "text": [
            "fecha\n"
          ]
        }
      ]
    },
    {
      "cell_type": "markdown",
      "metadata": {
        "id": "IkJ5lrEYKn-F"
      },
      "source": [
        "### Valores ausentes"
      ]
    },
    {
      "cell_type": "code",
      "metadata": {
        "id": "j-h_zTSKIvKl",
        "colab": {
          "base_uri": "https://localhost:8080/"
        },
        "outputId": "15dd4afc-0693-4277-9025-1b02aedc04e5"
      },
      "source": [
        "df.isnull().sum(axis = 0)"
      ],
      "execution_count": null,
      "outputs": [
        {
          "output_type": "execute_result",
          "data": {
            "text/plain": [
              "Unnamed: 0              0\n",
              "id                      0\n",
              "organismo               0\n",
              "linea_servicio         54\n",
              "dia                     0\n",
              "fecha                   0\n",
              "afluencia_tarjeta    1757\n",
              "afluencia_boleto     1657\n",
              "afluencia_total        47\n",
              "dtype: int64"
            ]
          },
          "metadata": {},
          "execution_count": 26
        }
      ]
    },
    {
      "cell_type": "code",
      "metadata": {
        "colab": {
          "base_uri": "https://localhost:8080/"
        },
        "id": "UlKomD77HiaM",
        "outputId": "39d9a83b-01f6-46e6-a515-af15e358a93f"
      },
      "source": [
        "df.shape"
      ],
      "execution_count": null,
      "outputs": [
        {
          "output_type": "execute_result",
          "data": {
            "text/plain": [
              "(2119, 9)"
            ]
          },
          "metadata": {},
          "execution_count": 27
        }
      ]
    },
    {
      "cell_type": "code",
      "metadata": {
        "id": "0IfpLm8gArhQ",
        "colab": {
          "base_uri": "https://localhost:8080/"
        },
        "outputId": "11f641b6-5e55-4a88-f5e1-abfdd5369e41"
      },
      "source": [
        "df.isnull().sum() / df.shape[0]"
      ],
      "execution_count": null,
      "outputs": [
        {
          "output_type": "execute_result",
          "data": {
            "text/plain": [
              "Unnamed: 0           0.000000\n",
              "id                   0.000000\n",
              "organismo            0.000000\n",
              "linea_servicio       0.025484\n",
              "dia                  0.000000\n",
              "fecha                0.000000\n",
              "afluencia_tarjeta    0.829165\n",
              "afluencia_boleto     0.781973\n",
              "afluencia_total      0.022180\n",
              "dtype: float64"
            ]
          },
          "metadata": {},
          "execution_count": 28
        }
      ]
    },
    {
      "cell_type": "code",
      "metadata": {
        "colab": {
          "base_uri": "https://localhost:8080/"
        },
        "id": "_zyJ-kayI18S",
        "outputId": "beee9225-2d3d-45c9-b923-e15b27fb6e4d"
      },
      "source": [
        "df.mean()"
      ],
      "execution_count": null,
      "outputs": [
        {
          "output_type": "execute_result",
          "data": {
            "text/plain": [
              "Unnamed: 0            1060.000000\n",
              "id                   17665.704106\n",
              "afluencia_tarjeta     1017.309392\n",
              "afluencia_boleto     17839.746753\n",
              "afluencia_total      67044.174228\n",
              "dtype: float64"
            ]
          },
          "metadata": {},
          "execution_count": 29
        }
      ]
    },
    {
      "cell_type": "markdown",
      "metadata": {
        "id": "eG-pYvVZA5Qu"
      },
      "source": [
        "¿Por qué hay tantos valores ausentes?"
      ]
    },
    {
      "cell_type": "code",
      "metadata": {
        "id": "Zu3BIPP-58bd",
        "colab": {
          "base_uri": "https://localhost:8080/"
        },
        "outputId": "1afaf9f3-ab4f-40b9-93f9-15d9196b0627"
      },
      "source": [
        "df[df[\"afluencia_tarjeta\"].isnull()].organismo.value_counts()"
      ],
      "execution_count": null,
      "outputs": [
        {
          "output_type": "execute_result",
          "data": {
            "text/plain": [
              "STC                648\n",
              "STE-Trolebús       457\n",
              "Metrobús           378\n",
              "RTP                112\n",
              "Suburbano           54\n",
              "Ecobici             54\n",
              "STE-Tren Ligero     54\n",
              "Name: organismo, dtype: int64"
            ]
          },
          "metadata": {},
          "execution_count": 30
        }
      ]
    },
    {
      "cell_type": "code",
      "metadata": {
        "id": "wzPd6qIlBS_z",
        "colab": {
          "base_uri": "https://localhost:8080/"
        },
        "outputId": "fe7b2b5c-a7c9-42bb-8737-a36a021c7e7c"
      },
      "source": [
        "df[df[\"afluencia_boleto\"].isnull()].organismo.value_counts()\n"
      ],
      "execution_count": null,
      "outputs": [
        {
          "output_type": "execute_result",
          "data": {
            "text/plain": [
              "STC                648\n",
              "STE-Trolebús       457\n",
              "Metrobús           378\n",
              "Suburbano           54\n",
              "Ecobici             54\n",
              "STE-Tren Ligero     54\n",
              "RTP                 12\n",
              "Name: organismo, dtype: int64"
            ]
          },
          "metadata": {},
          "execution_count": 31
        }
      ]
    },
    {
      "cell_type": "code",
      "metadata": {
        "id": "LCbKTgrXYuhc"
      },
      "source": [
        ""
      ],
      "execution_count": null,
      "outputs": []
    },
    {
      "cell_type": "code",
      "metadata": {
        "id": "a5oTRjoFBgRN",
        "colab": {
          "base_uri": "https://localhost:8080/"
        },
        "outputId": "8f40d339-9b17-4d91-8de6-96417b9dd529"
      },
      "source": [
        "df[df[\"linea_servicio\"].isnull()].organismo.value_counts()\n"
      ],
      "execution_count": null,
      "outputs": [
        {
          "output_type": "execute_result",
          "data": {
            "text/plain": [
              "Ecobici    54\n",
              "Name: organismo, dtype: int64"
            ]
          },
          "metadata": {},
          "execution_count": 32
        }
      ]
    },
    {
      "cell_type": "code",
      "metadata": {
        "id": "joBlEpgEFKZC",
        "colab": {
          "base_uri": "https://localhost:8080/"
        },
        "outputId": "9133e50e-e598-4b94-97ac-0675d365aa23"
      },
      "source": [
        "df[df[\"afluencia_total\"].isnull()].organismo.value_counts()\n"
      ],
      "execution_count": null,
      "outputs": [
        {
          "output_type": "execute_result",
          "data": {
            "text/plain": [
              "STC                12\n",
              "RTP                12\n",
              "STE-Trolebús        8\n",
              "Metrobús            7\n",
              "Suburbano           6\n",
              "Ecobici             1\n",
              "STE-Tren Ligero     1\n",
              "Name: organismo, dtype: int64"
            ]
          },
          "metadata": {},
          "execution_count": 33
        }
      ]
    },
    {
      "cell_type": "code",
      "metadata": {
        "id": "dWHvgyHZFPod",
        "colab": {
          "base_uri": "https://localhost:8080/",
          "height": 1000
        },
        "outputId": "18b35d54-ae0c-454f-b6b0-1f343e1e141b"
      },
      "source": [
        "df[df[\"afluencia_total\"].isnull()]"
      ],
      "execution_count": null,
      "outputs": [
        {
          "output_type": "execute_result",
          "data": {
            "text/html": [
              "<div>\n",
              "<style scoped>\n",
              "    .dataframe tbody tr th:only-of-type {\n",
              "        vertical-align: middle;\n",
              "    }\n",
              "\n",
              "    .dataframe tbody tr th {\n",
              "        vertical-align: top;\n",
              "    }\n",
              "\n",
              "    .dataframe thead th {\n",
              "        text-align: right;\n",
              "    }\n",
              "</style>\n",
              "<table border=\"1\" class=\"dataframe\">\n",
              "  <thead>\n",
              "    <tr style=\"text-align: right;\">\n",
              "      <th></th>\n",
              "      <th>Unnamed: 0</th>\n",
              "      <th>id</th>\n",
              "      <th>organismo</th>\n",
              "      <th>linea_servicio</th>\n",
              "      <th>dia</th>\n",
              "      <th>fecha</th>\n",
              "      <th>afluencia_tarjeta</th>\n",
              "      <th>afluencia_boleto</th>\n",
              "      <th>afluencia_total</th>\n",
              "    </tr>\n",
              "  </thead>\n",
              "  <tbody>\n",
              "    <tr>\n",
              "      <th>53</th>\n",
              "      <td>54</td>\n",
              "      <td>25535</td>\n",
              "      <td>Ecobici</td>\n",
              "      <td>NaN</td>\n",
              "      <td>Martes</td>\n",
              "      <td>23-02-2021</td>\n",
              "      <td>NaN</td>\n",
              "      <td>NaN</td>\n",
              "      <td>NaN</td>\n",
              "    </tr>\n",
              "    <tr>\n",
              "      <th>425</th>\n",
              "      <td>426</td>\n",
              "      <td>16445</td>\n",
              "      <td>Metrobús</td>\n",
              "      <td>L1</td>\n",
              "      <td>Martes</td>\n",
              "      <td>23-02-2021</td>\n",
              "      <td>NaN</td>\n",
              "      <td>NaN</td>\n",
              "      <td>NaN</td>\n",
              "    </tr>\n",
              "    <tr>\n",
              "      <th>426</th>\n",
              "      <td>427</td>\n",
              "      <td>16446</td>\n",
              "      <td>Metrobús</td>\n",
              "      <td>L2</td>\n",
              "      <td>Martes</td>\n",
              "      <td>23-02-2021</td>\n",
              "      <td>NaN</td>\n",
              "      <td>NaN</td>\n",
              "      <td>NaN</td>\n",
              "    </tr>\n",
              "    <tr>\n",
              "      <th>427</th>\n",
              "      <td>428</td>\n",
              "      <td>16447</td>\n",
              "      <td>Metrobús</td>\n",
              "      <td>L3</td>\n",
              "      <td>Martes</td>\n",
              "      <td>23-02-2021</td>\n",
              "      <td>NaN</td>\n",
              "      <td>NaN</td>\n",
              "      <td>NaN</td>\n",
              "    </tr>\n",
              "    <tr>\n",
              "      <th>428</th>\n",
              "      <td>429</td>\n",
              "      <td>16448</td>\n",
              "      <td>Metrobús</td>\n",
              "      <td>L4</td>\n",
              "      <td>Martes</td>\n",
              "      <td>23-02-2021</td>\n",
              "      <td>NaN</td>\n",
              "      <td>NaN</td>\n",
              "      <td>NaN</td>\n",
              "    </tr>\n",
              "    <tr>\n",
              "      <th>429</th>\n",
              "      <td>430</td>\n",
              "      <td>16449</td>\n",
              "      <td>Metrobús</td>\n",
              "      <td>L5</td>\n",
              "      <td>Martes</td>\n",
              "      <td>23-02-2021</td>\n",
              "      <td>NaN</td>\n",
              "      <td>NaN</td>\n",
              "      <td>NaN</td>\n",
              "    </tr>\n",
              "    <tr>\n",
              "      <th>430</th>\n",
              "      <td>431</td>\n",
              "      <td>16450</td>\n",
              "      <td>Metrobús</td>\n",
              "      <td>L6</td>\n",
              "      <td>Martes</td>\n",
              "      <td>23-02-2021</td>\n",
              "      <td>NaN</td>\n",
              "      <td>NaN</td>\n",
              "      <td>NaN</td>\n",
              "    </tr>\n",
              "    <tr>\n",
              "      <th>431</th>\n",
              "      <td>432</td>\n",
              "      <td>16451</td>\n",
              "      <td>Metrobús</td>\n",
              "      <td>L7</td>\n",
              "      <td>Martes</td>\n",
              "      <td>23-02-2021</td>\n",
              "      <td>NaN</td>\n",
              "      <td>NaN</td>\n",
              "      <td>NaN</td>\n",
              "    </tr>\n",
              "    <tr>\n",
              "      <th>814</th>\n",
              "      <td>815</td>\n",
              "      <td>22695</td>\n",
              "      <td>RTP</td>\n",
              "      <td>Eco Atenea</td>\n",
              "      <td>Sábado</td>\n",
              "      <td>13-02-2021</td>\n",
              "      <td>NaN</td>\n",
              "      <td>NaN</td>\n",
              "      <td>NaN</td>\n",
              "    </tr>\n",
              "    <tr>\n",
              "      <th>819</th>\n",
              "      <td>820</td>\n",
              "      <td>22700</td>\n",
              "      <td>RTP</td>\n",
              "      <td>Atenea</td>\n",
              "      <td>Domingo</td>\n",
              "      <td>14-02-2021</td>\n",
              "      <td>NaN</td>\n",
              "      <td>NaN</td>\n",
              "      <td>NaN</td>\n",
              "    </tr>\n",
              "    <tr>\n",
              "      <th>875</th>\n",
              "      <td>876</td>\n",
              "      <td>22751</td>\n",
              "      <td>RTP</td>\n",
              "      <td>Eco Atenea</td>\n",
              "      <td>Sábado</td>\n",
              "      <td>20-02-2021</td>\n",
              "      <td>NaN</td>\n",
              "      <td>NaN</td>\n",
              "      <td>NaN</td>\n",
              "    </tr>\n",
              "    <tr>\n",
              "      <th>897</th>\n",
              "      <td>898</td>\n",
              "      <td>22770</td>\n",
              "      <td>RTP</td>\n",
              "      <td>Ordinario</td>\n",
              "      <td>Martes</td>\n",
              "      <td>23-02-2021</td>\n",
              "      <td>NaN</td>\n",
              "      <td>NaN</td>\n",
              "      <td>NaN</td>\n",
              "    </tr>\n",
              "    <tr>\n",
              "      <th>898</th>\n",
              "      <td>899</td>\n",
              "      <td>22771</td>\n",
              "      <td>RTP</td>\n",
              "      <td>Expreso</td>\n",
              "      <td>Martes</td>\n",
              "      <td>23-02-2021</td>\n",
              "      <td>NaN</td>\n",
              "      <td>NaN</td>\n",
              "      <td>NaN</td>\n",
              "    </tr>\n",
              "    <tr>\n",
              "      <th>899</th>\n",
              "      <td>900</td>\n",
              "      <td>22772</td>\n",
              "      <td>RTP</td>\n",
              "      <td>Atenea</td>\n",
              "      <td>Martes</td>\n",
              "      <td>23-02-2021</td>\n",
              "      <td>NaN</td>\n",
              "      <td>NaN</td>\n",
              "      <td>NaN</td>\n",
              "    </tr>\n",
              "    <tr>\n",
              "      <th>900</th>\n",
              "      <td>901</td>\n",
              "      <td>22773</td>\n",
              "      <td>RTP</td>\n",
              "      <td>Ecobús</td>\n",
              "      <td>Martes</td>\n",
              "      <td>23-02-2021</td>\n",
              "      <td>NaN</td>\n",
              "      <td>NaN</td>\n",
              "      <td>NaN</td>\n",
              "    </tr>\n",
              "    <tr>\n",
              "      <th>901</th>\n",
              "      <td>902</td>\n",
              "      <td>22774</td>\n",
              "      <td>RTP</td>\n",
              "      <td>Nocturno</td>\n",
              "      <td>Martes</td>\n",
              "      <td>23-02-2021</td>\n",
              "      <td>NaN</td>\n",
              "      <td>NaN</td>\n",
              "      <td>NaN</td>\n",
              "    </tr>\n",
              "    <tr>\n",
              "      <th>902</th>\n",
              "      <td>903</td>\n",
              "      <td>22775</td>\n",
              "      <td>RTP</td>\n",
              "      <td>Eco Atenea</td>\n",
              "      <td>Martes</td>\n",
              "      <td>23-02-2021</td>\n",
              "      <td>NaN</td>\n",
              "      <td>NaN</td>\n",
              "      <td>NaN</td>\n",
              "    </tr>\n",
              "    <tr>\n",
              "      <th>903</th>\n",
              "      <td>904</td>\n",
              "      <td>22776</td>\n",
              "      <td>RTP</td>\n",
              "      <td>Expreso Directo</td>\n",
              "      <td>Martes</td>\n",
              "      <td>23-02-2021</td>\n",
              "      <td>NaN</td>\n",
              "      <td>NaN</td>\n",
              "      <td>NaN</td>\n",
              "    </tr>\n",
              "    <tr>\n",
              "      <th>904</th>\n",
              "      <td>905</td>\n",
              "      <td>22777</td>\n",
              "      <td>RTP</td>\n",
              "      <td>Temporal Tlalpan-Xochimilco</td>\n",
              "      <td>Martes</td>\n",
              "      <td>23-02-2021</td>\n",
              "      <td>NaN</td>\n",
              "      <td>NaN</td>\n",
              "      <td>NaN</td>\n",
              "    </tr>\n",
              "    <tr>\n",
              "      <th>905</th>\n",
              "      <td>906</td>\n",
              "      <td>27019</td>\n",
              "      <td>RTP</td>\n",
              "      <td>Temporal Zaragoza-Tacuba</td>\n",
              "      <td>Martes</td>\n",
              "      <td>23-02-2021</td>\n",
              "      <td>NaN</td>\n",
              "      <td>NaN</td>\n",
              "      <td>NaN</td>\n",
              "    </tr>\n",
              "    <tr>\n",
              "      <th>1542</th>\n",
              "      <td>1543</td>\n",
              "      <td>12006</td>\n",
              "      <td>STC</td>\n",
              "      <td>L1</td>\n",
              "      <td>Martes</td>\n",
              "      <td>23-02-2021</td>\n",
              "      <td>NaN</td>\n",
              "      <td>NaN</td>\n",
              "      <td>NaN</td>\n",
              "    </tr>\n",
              "    <tr>\n",
              "      <th>1543</th>\n",
              "      <td>1544</td>\n",
              "      <td>12007</td>\n",
              "      <td>STC</td>\n",
              "      <td>L2</td>\n",
              "      <td>Martes</td>\n",
              "      <td>23-02-2021</td>\n",
              "      <td>NaN</td>\n",
              "      <td>NaN</td>\n",
              "      <td>NaN</td>\n",
              "    </tr>\n",
              "    <tr>\n",
              "      <th>1544</th>\n",
              "      <td>1545</td>\n",
              "      <td>12008</td>\n",
              "      <td>STC</td>\n",
              "      <td>L3</td>\n",
              "      <td>Martes</td>\n",
              "      <td>23-02-2021</td>\n",
              "      <td>NaN</td>\n",
              "      <td>NaN</td>\n",
              "      <td>NaN</td>\n",
              "    </tr>\n",
              "    <tr>\n",
              "      <th>1545</th>\n",
              "      <td>1546</td>\n",
              "      <td>12009</td>\n",
              "      <td>STC</td>\n",
              "      <td>L4</td>\n",
              "      <td>Martes</td>\n",
              "      <td>23-02-2021</td>\n",
              "      <td>NaN</td>\n",
              "      <td>NaN</td>\n",
              "      <td>NaN</td>\n",
              "    </tr>\n",
              "    <tr>\n",
              "      <th>1546</th>\n",
              "      <td>1547</td>\n",
              "      <td>12010</td>\n",
              "      <td>STC</td>\n",
              "      <td>L5</td>\n",
              "      <td>Martes</td>\n",
              "      <td>23-02-2021</td>\n",
              "      <td>NaN</td>\n",
              "      <td>NaN</td>\n",
              "      <td>NaN</td>\n",
              "    </tr>\n",
              "    <tr>\n",
              "      <th>1547</th>\n",
              "      <td>1548</td>\n",
              "      <td>12011</td>\n",
              "      <td>STC</td>\n",
              "      <td>L6</td>\n",
              "      <td>Martes</td>\n",
              "      <td>23-02-2021</td>\n",
              "      <td>NaN</td>\n",
              "      <td>NaN</td>\n",
              "      <td>NaN</td>\n",
              "    </tr>\n",
              "    <tr>\n",
              "      <th>1548</th>\n",
              "      <td>1549</td>\n",
              "      <td>12012</td>\n",
              "      <td>STC</td>\n",
              "      <td>L7</td>\n",
              "      <td>Martes</td>\n",
              "      <td>23-02-2021</td>\n",
              "      <td>NaN</td>\n",
              "      <td>NaN</td>\n",
              "      <td>NaN</td>\n",
              "    </tr>\n",
              "    <tr>\n",
              "      <th>1549</th>\n",
              "      <td>1550</td>\n",
              "      <td>12013</td>\n",
              "      <td>STC</td>\n",
              "      <td>L8</td>\n",
              "      <td>Martes</td>\n",
              "      <td>23-02-2021</td>\n",
              "      <td>NaN</td>\n",
              "      <td>NaN</td>\n",
              "      <td>NaN</td>\n",
              "    </tr>\n",
              "    <tr>\n",
              "      <th>1550</th>\n",
              "      <td>1551</td>\n",
              "      <td>12014</td>\n",
              "      <td>STC</td>\n",
              "      <td>L9</td>\n",
              "      <td>Martes</td>\n",
              "      <td>23-02-2021</td>\n",
              "      <td>NaN</td>\n",
              "      <td>NaN</td>\n",
              "      <td>NaN</td>\n",
              "    </tr>\n",
              "    <tr>\n",
              "      <th>1551</th>\n",
              "      <td>1552</td>\n",
              "      <td>12015</td>\n",
              "      <td>STC</td>\n",
              "      <td>LA</td>\n",
              "      <td>Martes</td>\n",
              "      <td>23-02-2021</td>\n",
              "      <td>NaN</td>\n",
              "      <td>NaN</td>\n",
              "      <td>NaN</td>\n",
              "    </tr>\n",
              "    <tr>\n",
              "      <th>1552</th>\n",
              "      <td>1553</td>\n",
              "      <td>12016</td>\n",
              "      <td>STC</td>\n",
              "      <td>LB</td>\n",
              "      <td>Martes</td>\n",
              "      <td>23-02-2021</td>\n",
              "      <td>NaN</td>\n",
              "      <td>NaN</td>\n",
              "      <td>NaN</td>\n",
              "    </tr>\n",
              "    <tr>\n",
              "      <th>1553</th>\n",
              "      <td>1554</td>\n",
              "      <td>12017</td>\n",
              "      <td>STC</td>\n",
              "      <td>L12</td>\n",
              "      <td>Martes</td>\n",
              "      <td>23-02-2021</td>\n",
              "      <td>NaN</td>\n",
              "      <td>NaN</td>\n",
              "      <td>NaN</td>\n",
              "    </tr>\n",
              "    <tr>\n",
              "      <th>1607</th>\n",
              "      <td>1608</td>\n",
              "      <td>18871</td>\n",
              "      <td>STE-Tren Ligero</td>\n",
              "      <td>Xochimilco-Tasqueña</td>\n",
              "      <td>Martes</td>\n",
              "      <td>23-02-2021</td>\n",
              "      <td>NaN</td>\n",
              "      <td>NaN</td>\n",
              "      <td>NaN</td>\n",
              "    </tr>\n",
              "    <tr>\n",
              "      <th>2056</th>\n",
              "      <td>2057</td>\n",
              "      <td>19634</td>\n",
              "      <td>STE-Trolebús</td>\n",
              "      <td>L1 Eje Central</td>\n",
              "      <td>Martes</td>\n",
              "      <td>23-02-2021</td>\n",
              "      <td>NaN</td>\n",
              "      <td>NaN</td>\n",
              "      <td>NaN</td>\n",
              "    </tr>\n",
              "    <tr>\n",
              "      <th>2057</th>\n",
              "      <td>2058</td>\n",
              "      <td>19635</td>\n",
              "      <td>STE-Trolebús</td>\n",
              "      <td>L2 Eje 2 sur</td>\n",
              "      <td>Martes</td>\n",
              "      <td>23-02-2021</td>\n",
              "      <td>NaN</td>\n",
              "      <td>NaN</td>\n",
              "      <td>NaN</td>\n",
              "    </tr>\n",
              "    <tr>\n",
              "      <th>2058</th>\n",
              "      <td>2059</td>\n",
              "      <td>19636</td>\n",
              "      <td>STE-Trolebús</td>\n",
              "      <td>L3 Eje 7 Sur</td>\n",
              "      <td>Martes</td>\n",
              "      <td>23-02-2021</td>\n",
              "      <td>NaN</td>\n",
              "      <td>NaN</td>\n",
              "      <td>NaN</td>\n",
              "    </tr>\n",
              "    <tr>\n",
              "      <th>2059</th>\n",
              "      <td>2060</td>\n",
              "      <td>19637</td>\n",
              "      <td>STE-Trolebús</td>\n",
              "      <td>L4 Pto Aéreo-Rosario</td>\n",
              "      <td>Martes</td>\n",
              "      <td>23-02-2021</td>\n",
              "      <td>NaN</td>\n",
              "      <td>NaN</td>\n",
              "      <td>NaN</td>\n",
              "    </tr>\n",
              "    <tr>\n",
              "      <th>2060</th>\n",
              "      <td>2061</td>\n",
              "      <td>19638</td>\n",
              "      <td>STE-Trolebús</td>\n",
              "      <td>L5 Sn Felipe-Hidalgo</td>\n",
              "      <td>Martes</td>\n",
              "      <td>23-02-2021</td>\n",
              "      <td>NaN</td>\n",
              "      <td>NaN</td>\n",
              "      <td>NaN</td>\n",
              "    </tr>\n",
              "    <tr>\n",
              "      <th>2061</th>\n",
              "      <td>2062</td>\n",
              "      <td>19639</td>\n",
              "      <td>STE-Trolebús</td>\n",
              "      <td>L6 Rosario-Chapultepec</td>\n",
              "      <td>Martes</td>\n",
              "      <td>23-02-2021</td>\n",
              "      <td>NaN</td>\n",
              "      <td>NaN</td>\n",
              "      <td>NaN</td>\n",
              "    </tr>\n",
              "    <tr>\n",
              "      <th>2062</th>\n",
              "      <td>2063</td>\n",
              "      <td>19640</td>\n",
              "      <td>STE-Trolebús</td>\n",
              "      <td>L7 Lomas Estrella-CU</td>\n",
              "      <td>Martes</td>\n",
              "      <td>23-02-2021</td>\n",
              "      <td>NaN</td>\n",
              "      <td>NaN</td>\n",
              "      <td>NaN</td>\n",
              "    </tr>\n",
              "    <tr>\n",
              "      <th>2064</th>\n",
              "      <td>2065</td>\n",
              "      <td>26672</td>\n",
              "      <td>STE-Trolebús</td>\n",
              "      <td>L9 Iztacalco-Villa de Cortés</td>\n",
              "      <td>Martes</td>\n",
              "      <td>23-02-2021</td>\n",
              "      <td>NaN</td>\n",
              "      <td>NaN</td>\n",
              "      <td>NaN</td>\n",
              "    </tr>\n",
              "    <tr>\n",
              "      <th>2113</th>\n",
              "      <td>2114</td>\n",
              "      <td>25922</td>\n",
              "      <td>Suburbano</td>\n",
              "      <td>L1</td>\n",
              "      <td>Jueves</td>\n",
              "      <td>18-02-2021</td>\n",
              "      <td>NaN</td>\n",
              "      <td>NaN</td>\n",
              "      <td>NaN</td>\n",
              "    </tr>\n",
              "    <tr>\n",
              "      <th>2114</th>\n",
              "      <td>2115</td>\n",
              "      <td>25923</td>\n",
              "      <td>Suburbano</td>\n",
              "      <td>L1</td>\n",
              "      <td>Viernes</td>\n",
              "      <td>19-02-2021</td>\n",
              "      <td>NaN</td>\n",
              "      <td>NaN</td>\n",
              "      <td>NaN</td>\n",
              "    </tr>\n",
              "    <tr>\n",
              "      <th>2115</th>\n",
              "      <td>2116</td>\n",
              "      <td>25924</td>\n",
              "      <td>Suburbano</td>\n",
              "      <td>L1</td>\n",
              "      <td>Sábado</td>\n",
              "      <td>20-02-2021</td>\n",
              "      <td>NaN</td>\n",
              "      <td>NaN</td>\n",
              "      <td>NaN</td>\n",
              "    </tr>\n",
              "    <tr>\n",
              "      <th>2116</th>\n",
              "      <td>2117</td>\n",
              "      <td>25925</td>\n",
              "      <td>Suburbano</td>\n",
              "      <td>L1</td>\n",
              "      <td>Domingo</td>\n",
              "      <td>21-02-2021</td>\n",
              "      <td>NaN</td>\n",
              "      <td>NaN</td>\n",
              "      <td>NaN</td>\n",
              "    </tr>\n",
              "    <tr>\n",
              "      <th>2117</th>\n",
              "      <td>2118</td>\n",
              "      <td>25926</td>\n",
              "      <td>Suburbano</td>\n",
              "      <td>L1</td>\n",
              "      <td>Lunes</td>\n",
              "      <td>22-02-2021</td>\n",
              "      <td>NaN</td>\n",
              "      <td>NaN</td>\n",
              "      <td>NaN</td>\n",
              "    </tr>\n",
              "    <tr>\n",
              "      <th>2118</th>\n",
              "      <td>2119</td>\n",
              "      <td>25927</td>\n",
              "      <td>Suburbano</td>\n",
              "      <td>L1</td>\n",
              "      <td>Martes</td>\n",
              "      <td>23-02-2021</td>\n",
              "      <td>NaN</td>\n",
              "      <td>NaN</td>\n",
              "      <td>NaN</td>\n",
              "    </tr>\n",
              "  </tbody>\n",
              "</table>\n",
              "</div>"
            ],
            "text/plain": [
              "      Unnamed: 0     id  ... afluencia_boleto afluencia_total\n",
              "53            54  25535  ...              NaN             NaN\n",
              "425          426  16445  ...              NaN             NaN\n",
              "426          427  16446  ...              NaN             NaN\n",
              "427          428  16447  ...              NaN             NaN\n",
              "428          429  16448  ...              NaN             NaN\n",
              "429          430  16449  ...              NaN             NaN\n",
              "430          431  16450  ...              NaN             NaN\n",
              "431          432  16451  ...              NaN             NaN\n",
              "814          815  22695  ...              NaN             NaN\n",
              "819          820  22700  ...              NaN             NaN\n",
              "875          876  22751  ...              NaN             NaN\n",
              "897          898  22770  ...              NaN             NaN\n",
              "898          899  22771  ...              NaN             NaN\n",
              "899          900  22772  ...              NaN             NaN\n",
              "900          901  22773  ...              NaN             NaN\n",
              "901          902  22774  ...              NaN             NaN\n",
              "902          903  22775  ...              NaN             NaN\n",
              "903          904  22776  ...              NaN             NaN\n",
              "904          905  22777  ...              NaN             NaN\n",
              "905          906  27019  ...              NaN             NaN\n",
              "1542        1543  12006  ...              NaN             NaN\n",
              "1543        1544  12007  ...              NaN             NaN\n",
              "1544        1545  12008  ...              NaN             NaN\n",
              "1545        1546  12009  ...              NaN             NaN\n",
              "1546        1547  12010  ...              NaN             NaN\n",
              "1547        1548  12011  ...              NaN             NaN\n",
              "1548        1549  12012  ...              NaN             NaN\n",
              "1549        1550  12013  ...              NaN             NaN\n",
              "1550        1551  12014  ...              NaN             NaN\n",
              "1551        1552  12015  ...              NaN             NaN\n",
              "1552        1553  12016  ...              NaN             NaN\n",
              "1553        1554  12017  ...              NaN             NaN\n",
              "1607        1608  18871  ...              NaN             NaN\n",
              "2056        2057  19634  ...              NaN             NaN\n",
              "2057        2058  19635  ...              NaN             NaN\n",
              "2058        2059  19636  ...              NaN             NaN\n",
              "2059        2060  19637  ...              NaN             NaN\n",
              "2060        2061  19638  ...              NaN             NaN\n",
              "2061        2062  19639  ...              NaN             NaN\n",
              "2062        2063  19640  ...              NaN             NaN\n",
              "2064        2065  26672  ...              NaN             NaN\n",
              "2113        2114  25922  ...              NaN             NaN\n",
              "2114        2115  25923  ...              NaN             NaN\n",
              "2115        2116  25924  ...              NaN             NaN\n",
              "2116        2117  25925  ...              NaN             NaN\n",
              "2117        2118  25926  ...              NaN             NaN\n",
              "2118        2119  25927  ...              NaN             NaN\n",
              "\n",
              "[47 rows x 9 columns]"
            ]
          },
          "metadata": {},
          "execution_count": 34
        }
      ]
    },
    {
      "cell_type": "code",
      "metadata": {
        "colab": {
          "base_uri": "https://localhost:8080/"
        },
        "id": "n2iFNvDFBCRj",
        "outputId": "b0393fe9-af6f-4ed1-a846-46f2f7d45f45"
      },
      "source": [
        "pd.to_datetime(df.fecha, format=\"%d-%m-%Y\").max()"
      ],
      "execution_count": null,
      "outputs": [
        {
          "output_type": "execute_result",
          "data": {
            "text/plain": [
              "Timestamp('2021-02-23 00:00:00')"
            ]
          },
          "metadata": {},
          "execution_count": 35
        }
      ]
    },
    {
      "cell_type": "code",
      "metadata": {
        "id": "btwj9NPaFS2Q",
        "colab": {
          "base_uri": "https://localhost:8080/"
        },
        "outputId": "f0dff2e0-41d9-4842-a480-38e83641312e"
      },
      "source": [
        "df[df[\"afluencia_total\"].isnull()].fecha.value_counts()\n"
      ],
      "execution_count": null,
      "outputs": [
        {
          "output_type": "execute_result",
          "data": {
            "text/plain": [
              "23-02-2021    39\n",
              "20-02-2021     2\n",
              "18-02-2021     1\n",
              "13-02-2021     1\n",
              "19-02-2021     1\n",
              "22-02-2021     1\n",
              "14-02-2021     1\n",
              "21-02-2021     1\n",
              "Name: fecha, dtype: int64"
            ]
          },
          "metadata": {},
          "execution_count": 36
        }
      ]
    },
    {
      "cell_type": "code",
      "metadata": {
        "id": "q0JNFJMnB_E3"
      },
      "source": [
        ""
      ],
      "execution_count": null,
      "outputs": []
    },
    {
      "cell_type": "code",
      "metadata": {
        "id": "OrmAv4x7RXo9"
      },
      "source": [
        "df[\"BICICLETA\"] = np.where(df.organismo == \"Ecobici\",\"Bicicleta\", \"No Bicicleta\")"
      ],
      "execution_count": null,
      "outputs": []
    },
    {
      "cell_type": "code",
      "metadata": {
        "id": "daHv16O9SKke",
        "colab": {
          "base_uri": "https://localhost:8080/",
          "height": 307
        },
        "outputId": "0d9af6e4-7e1c-4184-8d0f-5b0fe93b542a"
      },
      "source": [
        "df[[\"afluencia_total\", \"fecha\", \"BICICLETA\"]].groupby([\"fecha\", \"BICICLETA\"]).sum().unstack().plot()"
      ],
      "execution_count": null,
      "outputs": [
        {
          "output_type": "execute_result",
          "data": {
            "text/plain": [
              "<matplotlib.axes._subplots.AxesSubplot at 0x7f54bf7cd490>"
            ]
          },
          "metadata": {},
          "execution_count": 46
        },
        {
          "output_type": "display_data",
          "data": {
            "text/plain": [
              "<Figure size 432x288 with 1 Axes>"
            ],
            "image/png": "[encoded data removed]"
          },
          "metadata": {
            "needs_background": "light"
          }
        }
      ]
    },
    {
      "cell_type": "code",
      "metadata": {
        "id": "cAIvCiw--UEQ",
        "colab": {
          "base_uri": "https://localhost:8080/",
          "height": 346
        },
        "outputId": "25049900-0447-4b71-b48b-1856837d99df"
      },
      "source": [
        "temp_df = df[[\"AFLUENCIA TOTAL\\n(cifras preliminares)\", \"FECHA\", \"BICICLETA\"]].groupby([\"FECHA\", \"BICICLETA\"]).sum()\n",
        "temp_df = temp_df.reset_index()\n",
        "temp_df.head()"
      ],
      "execution_count": null,
      "outputs": [
        {
          "output_type": "error",
          "ename": "KeyError",
          "evalue": "ignored",
          "traceback": [
            "\u001b[0;31m---------------------------------------------------------------------------\u001b[0m",
            "\u001b[0;31mKeyError\u001b[0m                                  Traceback (most recent call last)",
            "\u001b[0;32m<ipython-input-47-60e5b79f35da>\u001b[0m in \u001b[0;36m<module>\u001b[0;34m()\u001b[0m\n\u001b[0;32m----> 1\u001b[0;31m \u001b[0mtemp_df\u001b[0m \u001b[0;34m=\u001b[0m \u001b[0mdf\u001b[0m\u001b[0;34m[\u001b[0m\u001b[0;34m[\u001b[0m\u001b[0;34m\"AFLUENCIA TOTAL\\n(cifras preliminares)\"\u001b[0m\u001b[0;34m,\u001b[0m \u001b[0;34m\"FECHA\"\u001b[0m\u001b[0;34m,\u001b[0m \u001b[0;34m\"BICICLETA\"\u001b[0m\u001b[0;34m]\u001b[0m\u001b[0;34m]\u001b[0m\u001b[0;34m.\u001b[0m\u001b[0mgroupby\u001b[0m\u001b[0;34m(\u001b[0m\u001b[0;34m[\u001b[0m\u001b[0;34m\"FECHA\"\u001b[0m\u001b[0;34m,\u001b[0m \u001b[0;34m\"BICICLETA\"\u001b[0m\u001b[0;34m]\u001b[0m\u001b[0;34m)\u001b[0m\u001b[0;34m.\u001b[0m\u001b[0msum\u001b[0m\u001b[0;34m(\u001b[0m\u001b[0;34m)\u001b[0m\u001b[0;34m\u001b[0m\u001b[0;34m\u001b[0m\u001b[0m\n\u001b[0m\u001b[1;32m      2\u001b[0m \u001b[0mtemp_df\u001b[0m \u001b[0;34m=\u001b[0m \u001b[0mtemp_df\u001b[0m\u001b[0;34m.\u001b[0m\u001b[0mreset_index\u001b[0m\u001b[0;34m(\u001b[0m\u001b[0;34m)\u001b[0m\u001b[0;34m\u001b[0m\u001b[0;34m\u001b[0m\u001b[0m\n\u001b[1;32m      3\u001b[0m \u001b[0mtemp_df\u001b[0m\u001b[0;34m.\u001b[0m\u001b[0mhead\u001b[0m\u001b[0;34m(\u001b[0m\u001b[0;34m)\u001b[0m\u001b[0;34m\u001b[0m\u001b[0;34m\u001b[0m\u001b[0m\n",
            "\u001b[0;32m/usr/local/lib/python3.7/dist-packages/pandas/core/frame.py\u001b[0m in \u001b[0;36m__getitem__\u001b[0;34m(self, key)\u001b[0m\n\u001b[1;32m   3462\u001b[0m             \u001b[0;32mif\u001b[0m \u001b[0mis_iterator\u001b[0m\u001b[0;34m(\u001b[0m\u001b[0mkey\u001b[0m\u001b[0;34m)\u001b[0m\u001b[0;34m:\u001b[0m\u001b[0;34m\u001b[0m\u001b[0;34m\u001b[0m\u001b[0m\n\u001b[1;32m   3463\u001b[0m                 \u001b[0mkey\u001b[0m \u001b[0;34m=\u001b[0m \u001b[0mlist\u001b[0m\u001b[0;34m(\u001b[0m\u001b[0mkey\u001b[0m\u001b[0;34m)\u001b[0m\u001b[0;34m\u001b[0m\u001b[0;34m\u001b[0m\u001b[0m\n\u001b[0;32m-> 3464\u001b[0;31m             \u001b[0mindexer\u001b[0m \u001b[0;34m=\u001b[0m \u001b[0mself\u001b[0m\u001b[0;34m.\u001b[0m\u001b[0mloc\u001b[0m\u001b[0;34m.\u001b[0m\u001b[0m_get_listlike_indexer\u001b[0m\u001b[0;34m(\u001b[0m\u001b[0mkey\u001b[0m\u001b[0;34m,\u001b[0m \u001b[0maxis\u001b[0m\u001b[0;34m=\u001b[0m\u001b[0;36m1\u001b[0m\u001b[0;34m)\u001b[0m\u001b[0;34m[\u001b[0m\u001b[0;36m1\u001b[0m\u001b[0;34m]\u001b[0m\u001b[0;34m\u001b[0m\u001b[0;34m\u001b[0m\u001b[0m\n\u001b[0m\u001b[1;32m   3465\u001b[0m \u001b[0;34m\u001b[0m\u001b[0m\n\u001b[1;32m   3466\u001b[0m         \u001b[0;31m# take() does not accept boolean indexers\u001b[0m\u001b[0;34m\u001b[0m\u001b[0;34m\u001b[0m\u001b[0;34m\u001b[0m\u001b[0m\n",
            "\u001b[0;32m/usr/local/lib/python3.7/dist-packages/pandas/core/indexing.py\u001b[0m in \u001b[0;36m_get_listlike_indexer\u001b[0;34m(self, key, axis)\u001b[0m\n\u001b[1;32m   1312\u001b[0m             \u001b[0mkeyarr\u001b[0m\u001b[0;34m,\u001b[0m \u001b[0mindexer\u001b[0m\u001b[0;34m,\u001b[0m \u001b[0mnew_indexer\u001b[0m \u001b[0;34m=\u001b[0m \u001b[0max\u001b[0m\u001b[0;34m.\u001b[0m\u001b[0m_reindex_non_unique\u001b[0m\u001b[0;34m(\u001b[0m\u001b[0mkeyarr\u001b[0m\u001b[0;34m)\u001b[0m\u001b[0;34m\u001b[0m\u001b[0;34m\u001b[0m\u001b[0m\n\u001b[1;32m   1313\u001b[0m \u001b[0;34m\u001b[0m\u001b[0m\n\u001b[0;32m-> 1314\u001b[0;31m         \u001b[0mself\u001b[0m\u001b[0;34m.\u001b[0m\u001b[0m_validate_read_indexer\u001b[0m\u001b[0;34m(\u001b[0m\u001b[0mkeyarr\u001b[0m\u001b[0;34m,\u001b[0m \u001b[0mindexer\u001b[0m\u001b[0;34m,\u001b[0m \u001b[0maxis\u001b[0m\u001b[0;34m)\u001b[0m\u001b[0;34m\u001b[0m\u001b[0;34m\u001b[0m\u001b[0m\n\u001b[0m\u001b[1;32m   1315\u001b[0m \u001b[0;34m\u001b[0m\u001b[0m\n\u001b[1;32m   1316\u001b[0m         if needs_i8_conversion(ax.dtype) or isinstance(\n",
            "\u001b[0;32m/usr/local/lib/python3.7/dist-packages/pandas/core/indexing.py\u001b[0m in \u001b[0;36m_validate_read_indexer\u001b[0;34m(self, key, indexer, axis)\u001b[0m\n\u001b[1;32m   1375\u001b[0m \u001b[0;34m\u001b[0m\u001b[0m\n\u001b[1;32m   1376\u001b[0m             \u001b[0mnot_found\u001b[0m \u001b[0;34m=\u001b[0m \u001b[0mlist\u001b[0m\u001b[0;34m(\u001b[0m\u001b[0mensure_index\u001b[0m\u001b[0;34m(\u001b[0m\u001b[0mkey\u001b[0m\u001b[0;34m)\u001b[0m\u001b[0;34m[\u001b[0m\u001b[0mmissing_mask\u001b[0m\u001b[0;34m.\u001b[0m\u001b[0mnonzero\u001b[0m\u001b[0;34m(\u001b[0m\u001b[0;34m)\u001b[0m\u001b[0;34m[\u001b[0m\u001b[0;36m0\u001b[0m\u001b[0;34m]\u001b[0m\u001b[0;34m]\u001b[0m\u001b[0;34m.\u001b[0m\u001b[0munique\u001b[0m\u001b[0;34m(\u001b[0m\u001b[0;34m)\u001b[0m\u001b[0;34m)\u001b[0m\u001b[0;34m\u001b[0m\u001b[0;34m\u001b[0m\u001b[0m\n\u001b[0;32m-> 1377\u001b[0;31m             \u001b[0;32mraise\u001b[0m \u001b[0mKeyError\u001b[0m\u001b[0;34m(\u001b[0m\u001b[0;34mf\"{not_found} not in index\"\u001b[0m\u001b[0;34m)\u001b[0m\u001b[0;34m\u001b[0m\u001b[0;34m\u001b[0m\u001b[0m\n\u001b[0m\u001b[1;32m   1378\u001b[0m \u001b[0;34m\u001b[0m\u001b[0m\n\u001b[1;32m   1379\u001b[0m \u001b[0;34m\u001b[0m\u001b[0m\n",
            "\u001b[0;31mKeyError\u001b[0m: \"['AFLUENCIA TOTAL\\\\n(cifras preliminares)', 'FECHA'] not in index\""
          ]
        }
      ]
    },
    {
      "cell_type": "code",
      "metadata": {
        "id": "45XoU3F--O3Y",
        "colab": {
          "base_uri": "https://localhost:8080/",
          "height": 218
        },
        "outputId": "5a1f17cd-2990-4162-8eb6-7f4ca06539cd"
      },
      "source": [
        "import plotly.express as px\n",
        "\n",
        "fig = px.line(temp_df, x=\"FECHA\", y=\"AFLUENCIA TOTAL\\n(cifras preliminares)\", color='BICICLETA')\n",
        "fig.show()"
      ],
      "execution_count": null,
      "outputs": [
        {
          "output_type": "error",
          "ename": "NameError",
          "evalue": "ignored",
          "traceback": [
            "\u001b[0;31m---------------------------------------------------------------------------\u001b[0m",
            "\u001b[0;31mNameError\u001b[0m                                 Traceback (most recent call last)",
            "\u001b[0;32m<ipython-input-48-572a19a8cbff>\u001b[0m in \u001b[0;36m<module>\u001b[0;34m()\u001b[0m\n\u001b[1;32m      1\u001b[0m \u001b[0;32mimport\u001b[0m \u001b[0mplotly\u001b[0m\u001b[0;34m.\u001b[0m\u001b[0mexpress\u001b[0m \u001b[0;32mas\u001b[0m \u001b[0mpx\u001b[0m\u001b[0;34m\u001b[0m\u001b[0;34m\u001b[0m\u001b[0m\n\u001b[1;32m      2\u001b[0m \u001b[0;34m\u001b[0m\u001b[0m\n\u001b[0;32m----> 3\u001b[0;31m \u001b[0mfig\u001b[0m \u001b[0;34m=\u001b[0m \u001b[0mpx\u001b[0m\u001b[0;34m.\u001b[0m\u001b[0mline\u001b[0m\u001b[0;34m(\u001b[0m\u001b[0mtemp_df\u001b[0m\u001b[0;34m,\u001b[0m \u001b[0mx\u001b[0m\u001b[0;34m=\u001b[0m\u001b[0;34m\"FECHA\"\u001b[0m\u001b[0;34m,\u001b[0m \u001b[0my\u001b[0m\u001b[0;34m=\u001b[0m\u001b[0;34m\"AFLUENCIA TOTAL\\n(cifras preliminares)\"\u001b[0m\u001b[0;34m,\u001b[0m \u001b[0mcolor\u001b[0m\u001b[0;34m=\u001b[0m\u001b[0;34m'BICICLETA'\u001b[0m\u001b[0;34m)\u001b[0m\u001b[0;34m\u001b[0m\u001b[0;34m\u001b[0m\u001b[0m\n\u001b[0m\u001b[1;32m      4\u001b[0m \u001b[0mfig\u001b[0m\u001b[0;34m.\u001b[0m\u001b[0mshow\u001b[0m\u001b[0;34m(\u001b[0m\u001b[0;34m)\u001b[0m\u001b[0;34m\u001b[0m\u001b[0;34m\u001b[0m\u001b[0m\n",
            "\u001b[0;31mNameError\u001b[0m: name 'temp_df' is not defined"
          ]
        }
      ]
    },
    {
      "cell_type": "code",
      "metadata": {
        "id": "9NaBzfOUWJ74"
      },
      "source": [
        "def leer_historico_ecobici(anio, mes):\n",
        "  import requests\n",
        "  csv_url = f\"https://www.ecobici.cdmx.gob.mx/sites/default/files/data/usages/{anio}-{mes}.csv\"\n",
        "  req = requests.get(csv_url)\n",
        "  url_content = req.content\n",
        "  rawData = pd.read_csv(io.StringIO(url_content.decode('utf-8')))\n",
        "  return rawData"
      ],
      "execution_count": null,
      "outputs": []
    },
    {
      "cell_type": "code",
      "metadata": {
        "id": "DC-RSSojWU0u"
      },
      "source": [
        "consultas = [\n",
        "  (2021, \"05\"),\n",
        "  (2021, \"04\"),\n",
        "  (2021, \"03\"),\n",
        "  (2021, \"02\"),\n",
        "  (2021, \"01\"),\n",
        "  #(2020, \"12\"),\n",
        " (2020, \"11\"),\n",
        "  \n",
        "  (2020, \"10\"),\n",
        "  (2020, \"09\"),\n",
        "  (2020, \"08\"),\n",
        "  (2020, \"07\"),\n",
        "  (2020, \"06\"),\n",
        "  (2020, \"05\"),\n",
        "  (2020, \"04\"),\n",
        "  (2020, \"03\"),\n",
        "  (2020, \"02\"),\n",
        "  (2020, \"01\"),\n",
        "  (2019, \"12\"),\n",
        "  (2019, \"11\"),\n",
        "  (2019, \"10\"),\n",
        "  (2019, \"09\"),\n",
        "  (2019, \"08\"),\n",
        "  (2019, \"07\"),\n",
        "  (2019, \"06\"),\n",
        "  (2019, \"05\"),\n",
        "  (2019, \"04\"),\n",
        "  (2019, \"03\"),\n",
        "  (2019, \"02\"),\n",
        "  (2019, \"01\"),\n",
        "\n",
        "]"
      ],
      "execution_count": null,
      "outputs": []
    },
    {
      "cell_type": "code",
      "metadata": {
        "id": "cLOGdrNpWZi-",
        "colab": {
          "base_uri": "https://localhost:8080/"
        },
        "outputId": "cfbbada1-efb6-4d33-8fda-e12d445833f9"
      },
      "source": [
        "ecobici = []\n",
        "for consulta in consultas:\n",
        "  print(consulta)\n",
        "  ecobici.append(leer_historico_ecobici(*consulta))"
      ],
      "execution_count": null,
      "outputs": [
        {
          "output_type": "stream",
          "name": "stdout",
          "text": [
            "(2021, '05')\n",
            "(2021, '04')\n",
            "(2021, '03')\n",
            "(2021, '02')\n",
            "(2021, '01')\n",
            "(2020, '11')\n",
            "(2020, '10')\n",
            "(2020, '09')\n",
            "(2020, '08')\n",
            "(2020, '07')\n",
            "(2020, '06')\n",
            "(2020, '05')\n",
            "(2020, '04')\n",
            "(2020, '03')\n"
          ]
        },
        {
          "output_type": "stream",
          "name": "stderr",
          "text": [
            "/usr/local/lib/python3.7/dist-packages/ipykernel_launcher.py:4: DtypeWarning: Columns (2) have mixed types.Specify dtype option on import or set low_memory=False.\n",
            "  after removing the cwd from sys.path.\n"
          ]
        },
        {
          "output_type": "stream",
          "name": "stdout",
          "text": [
            "(2020, '02')\n",
            "(2020, '01')\n",
            "(2019, '12')\n",
            "(2019, '11')\n",
            "(2019, '10')\n",
            "(2019, '09')\n",
            "(2019, '08')\n",
            "(2019, '07')\n",
            "(2019, '06')\n",
            "(2019, '05')\n",
            "(2019, '04')\n",
            "(2019, '03')\n"
          ]
        },
        {
          "output_type": "stream",
          "name": "stderr",
          "text": [
            "/usr/local/lib/python3.7/dist-packages/ipykernel_launcher.py:4: DtypeWarning: Columns (2,6,9) have mixed types.Specify dtype option on import or set low_memory=False.\n",
            "  after removing the cwd from sys.path.\n"
          ]
        },
        {
          "output_type": "stream",
          "name": "stdout",
          "text": [
            "(2019, '02')\n",
            "(2019, '01')\n"
          ]
        }
      ]
    },
    {
      "cell_type": "code",
      "metadata": {
        "id": "U54ehav5WfjB",
        "colab": {
          "base_uri": "https://localhost:8080/"
        },
        "outputId": "fca680ef-a945-42f5-9713-1543f0cdbcbb"
      },
      "source": [
        "%%time\n",
        "ecobici_df = pd.DataFrame({})\n",
        "for df_temp in ecobici:\n",
        "  #df_temp[\"Fecha_Retiro\"] = pd.to_datetime(df_temp[\"Fecha_Retiro\"] + \" \" + df_temp[\"Hora_Retiro\"])\n",
        "  #df_temp[\"Fecha_Arribo\"] = pd.to_datetime(df_temp[\"Fecha_Arribo\"] + \" \" + df_temp[\"Hora_Arribo\"])\n",
        "  ecobici_df = ecobici_df.append(df_temp)"
      ],
      "execution_count": null,
      "outputs": [
        {
          "output_type": "stream",
          "name": "stdout",
          "text": [
            "CPU times: user 16 s, sys: 1.94 s, total: 17.9 s\n",
            "Wall time: 17.7 s\n"
          ]
        }
      ]
    },
    {
      "cell_type": "code",
      "metadata": {
        "id": "32LhVN35bkUm",
        "colab": {
          "base_uri": "https://localhost:8080/"
        },
        "outputId": "6994d874-99fe-46e6-f587-68ce3ad365ff"
      },
      "source": [
        "ecobici_df.shape"
      ],
      "execution_count": null,
      "outputs": [
        {
          "output_type": "execute_result",
          "data": {
            "text/plain": [
              "(13815219, 14)"
            ]
          },
          "metadata": {},
          "execution_count": 56
        }
      ]
    },
    {
      "cell_type": "code",
      "metadata": {
        "id": "coUZxy2uW76_",
        "colab": {
          "base_uri": "https://localhost:8080/",
          "height": 505
        },
        "outputId": "f8b9567d-572a-47ba-c9b2-afd7c97a323d"
      },
      "source": [
        "ecobici_df[ecobici_df.Genero_Usuario ==\"M\"]"
      ],
      "execution_count": null,
      "outputs": [
        {
          "output_type": "execute_result",
          "data": {
            "text/plain": [
              "       Genero_Usuario  Edad_Usuario     Bici  Ciclo_Estacion_Retiro  \\\n",
              "0                   M          25.0   9119.0                  256.0   \n",
              "2                   M          35.0  12349.0                  131.0   \n",
              "4                   M          28.0   6801.0                    1.0   \n",
              "5                   M          34.0  11427.0                   43.0   \n",
              "6                   M          26.0  15203.0                  160.0   \n",
              "...               ...           ...      ...                    ...   \n",
              "697282              M          29.0    10582                  226.0   \n",
              "697283              M          60.0     7864                  270.0   \n",
              "697285              M          37.0     2238                  270.0   \n",
              "697286              M          21.0     2591                  182.0   \n",
              "697287              M          25.0     9121                  137.0   \n",
              "\n",
              "       Fecha_Retiro Hora_Retiro  Ciclo_EstacionArribo Fecha Arribo  \\\n",
              "0        30/04/2021    11:34:32                 328.0   01/05/2021   \n",
              "2        30/04/2021    11:55:52                 133.0   01/05/2021   \n",
              "4        30/04/2021    11:56:33                  18.0   01/05/2021   \n",
              "5        30/04/2021    11:48:58                  97.0   01/05/2021   \n",
              "6        30/04/2021    11:36:24                 190.0   01/05/2021   \n",
              "...             ...         ...                   ...          ...   \n",
              "697282   30/01/2019    23:58:02                   NaN          NaN   \n",
              "697283   30/01/2019    23:58:13                   NaN          NaN   \n",
              "697285   30/01/2019    23:58:25                   NaN          NaN   \n",
              "697286   30/01/2019    23:58:25                   NaN          NaN   \n",
              "697287   30/01/2019    23:59:04                   NaN          NaN   \n",
              "\n",
              "       Hora Arribo Ciclo_Estacion_Arribo Fecha_Arribo Hora_Arribo  BikeID  \\\n",
              "0         12:00:05                   NaN          NaN         NaN     NaN   \n",
              "2         12:00:46                   NaN          NaN         NaN     NaN   \n",
              "4         12:01:25                   NaN          NaN         NaN     NaN   \n",
              "5         12:01:29                   NaN          NaN         NaN     NaN   \n",
              "6         12:02:50                   NaN          NaN         NaN     NaN   \n",
              "...            ...                   ...          ...         ...     ...   \n",
              "697282         NaN                   209   31/01/2019     0:17:48     NaN   \n",
              "697283         NaN                     9   31/01/2019     0:18:11     NaN   \n",
              "697285         NaN                   263   31/01/2019     0:08:46     NaN   \n",
              "697286         NaN                   286   31/01/2019     0:44:01     NaN   \n",
              "697287         NaN                   125   31/01/2019     0:01:57     NaN   \n",
              "\n",
              "       Unnamed: 9  \n",
              "0             NaN  \n",
              "2             NaN  \n",
              "4             NaN  \n",
              "5             NaN  \n",
              "6             NaN  \n",
              "...           ...  \n",
              "697282        NaN  \n",
              "697283        NaN  \n",
              "697285        NaN  \n",
              "697286        NaN  \n",
              "697287        NaN  \n",
              "\n",
              "[10037511 rows x 14 columns]"
            ],
            "text/html": [
              "\n",
              "  <div id=\"df-526ad957-66e2-4d7d-a857-f66a83abc740\">\n",
              "    <div class=\"colab-df-container\">\n",
              "      <div>\n",
              "<style scoped>\n",
              "    .dataframe tbody tr th:only-of-type {\n",
              "        vertical-align: middle;\n",
              "    }\n",
              "\n",
              "    .dataframe tbody tr th {\n",
              "        vertical-align: top;\n",
              "    }\n",
              "\n",
              "    .dataframe thead th {\n",
              "        text-align: right;\n",
              "    }\n",
              "</style>\n",
              "<table border=\"1\" class=\"dataframe\">\n",
              "  <thead>\n",
              "    <tr style=\"text-align: right;\">\n",
              "      <th></th>\n",
              "      <th>Genero_Usuario</th>\n",
              "      <th>Edad_Usuario</th>\n",
              "      <th>Bici</th>\n",
              "      <th>Ciclo_Estacion_Retiro</th>\n",
              "      <th>Fecha_Retiro</th>\n",
              "      <th>Hora_Retiro</th>\n",
              "      <th>Ciclo_EstacionArribo</th>\n",
              "      <th>Fecha Arribo</th>\n",
              "      <th>Hora Arribo</th>\n",
              "      <th>Ciclo_Estacion_Arribo</th>\n",
              "      <th>Fecha_Arribo</th>\n",
              "      <th>Hora_Arribo</th>\n",
              "      <th>BikeID</th>\n",
              "      <th>Unnamed: 9</th>\n",
              "    </tr>\n",
              "  </thead>\n",
              "  <tbody>\n",
              "    <tr>\n",
              "      <th>0</th>\n",
              "      <td>M</td>\n",
              "      <td>25.0</td>\n",
              "      <td>9119.0</td>\n",
              "      <td>256.0</td>\n",
              "      <td>30/04/2021</td>\n",
              "      <td>11:34:32</td>\n",
              "      <td>328.0</td>\n",
              "      <td>01/05/2021</td>\n",
              "      <td>12:00:05</td>\n",
              "      <td>NaN</td>\n",
              "      <td>NaN</td>\n",
              "      <td>NaN</td>\n",
              "      <td>NaN</td>\n",
              "      <td>NaN</td>\n",
              "    </tr>\n",
              "    <tr>\n",
              "      <th>2</th>\n",
              "      <td>M</td>\n",
              "      <td>35.0</td>\n",
              "      <td>12349.0</td>\n",
              "      <td>131.0</td>\n",
              "      <td>30/04/2021</td>\n",
              "      <td>11:55:52</td>\n",
              "      <td>133.0</td>\n",
              "      <td>01/05/2021</td>\n",
              "      <td>12:00:46</td>\n",
              "      <td>NaN</td>\n",
              "      <td>NaN</td>\n",
              "      <td>NaN</td>\n",
              "      <td>NaN</td>\n",
              "      <td>NaN</td>\n",
              "    </tr>\n",
              "    <tr>\n",
              "      <th>4</th>\n",
              "      <td>M</td>\n",
              "      <td>28.0</td>\n",
              "      <td>6801.0</td>\n",
              "      <td>1.0</td>\n",
              "      <td>30/04/2021</td>\n",
              "      <td>11:56:33</td>\n",
              "      <td>18.0</td>\n",
              "      <td>01/05/2021</td>\n",
              "      <td>12:01:25</td>\n",
              "      <td>NaN</td>\n",
              "      <td>NaN</td>\n",
              "      <td>NaN</td>\n",
              "      <td>NaN</td>\n",
              "      <td>NaN</td>\n",
              "    </tr>\n",
              "    <tr>\n",
              "      <th>5</th>\n",
              "      <td>M</td>\n",
              "      <td>34.0</td>\n",
              "      <td>11427.0</td>\n",
              "      <td>43.0</td>\n",
              "      <td>30/04/2021</td>\n",
              "      <td>11:48:58</td>\n",
              "      <td>97.0</td>\n",
              "      <td>01/05/2021</td>\n",
              "      <td>12:01:29</td>\n",
              "      <td>NaN</td>\n",
              "      <td>NaN</td>\n",
              "      <td>NaN</td>\n",
              "      <td>NaN</td>\n",
              "      <td>NaN</td>\n",
              "    </tr>\n",
              "    <tr>\n",
              "      <th>6</th>\n",
              "      <td>M</td>\n",
              "      <td>26.0</td>\n",
              "      <td>15203.0</td>\n",
              "      <td>160.0</td>\n",
              "      <td>30/04/2021</td>\n",
              "      <td>11:36:24</td>\n",
              "      <td>190.0</td>\n",
              "      <td>01/05/2021</td>\n",
              "      <td>12:02:50</td>\n",
              "      <td>NaN</td>\n",
              "      <td>NaN</td>\n",
              "      <td>NaN</td>\n",
              "      <td>NaN</td>\n",
              "      <td>NaN</td>\n",
              "    </tr>\n",
              "    <tr>\n",
              "      <th>...</th>\n",
              "      <td>...</td>\n",
              "      <td>...</td>\n",
              "      <td>...</td>\n",
              "      <td>...</td>\n",
              "      <td>...</td>\n",
              "      <td>...</td>\n",
              "      <td>...</td>\n",
              "      <td>...</td>\n",
              "      <td>...</td>\n",
              "      <td>...</td>\n",
              "      <td>...</td>\n",
              "      <td>...</td>\n",
              "      <td>...</td>\n",
              "      <td>...</td>\n",
              "    </tr>\n",
              "    <tr>\n",
              "      <th>697282</th>\n",
              "      <td>M</td>\n",
              "      <td>29.0</td>\n",
              "      <td>10582</td>\n",
              "      <td>226.0</td>\n",
              "      <td>30/01/2019</td>\n",
              "      <td>23:58:02</td>\n",
              "      <td>NaN</td>\n",
              "      <td>NaN</td>\n",
              "      <td>NaN</td>\n",
              "      <td>209</td>\n",
              "      <td>31/01/2019</td>\n",
              "      <td>0:17:48</td>\n",
              "      <td>NaN</td>\n",
              "      <td>NaN</td>\n",
              "    </tr>\n",
              "    <tr>\n",
              "      <th>697283</th>\n",
              "      <td>M</td>\n",
              "      <td>60.0</td>\n",
              "      <td>7864</td>\n",
              "      <td>270.0</td>\n",
              "      <td>30/01/2019</td>\n",
              "      <td>23:58:13</td>\n",
              "      <td>NaN</td>\n",
              "      <td>NaN</td>\n",
              "      <td>NaN</td>\n",
              "      <td>9</td>\n",
              "      <td>31/01/2019</td>\n",
              "      <td>0:18:11</td>\n",
              "      <td>NaN</td>\n",
              "      <td>NaN</td>\n",
              "    </tr>\n",
              "    <tr>\n",
              "      <th>697285</th>\n",
              "      <td>M</td>\n",
              "      <td>37.0</td>\n",
              "      <td>2238</td>\n",
              "      <td>270.0</td>\n",
              "      <td>30/01/2019</td>\n",
              "      <td>23:58:25</td>\n",
              "      <td>NaN</td>\n",
              "      <td>NaN</td>\n",
              "      <td>NaN</td>\n",
              "      <td>263</td>\n",
              "      <td>31/01/2019</td>\n",
              "      <td>0:08:46</td>\n",
              "      <td>NaN</td>\n",
              "      <td>NaN</td>\n",
              "    </tr>\n",
              "    <tr>\n",
              "      <th>697286</th>\n",
              "      <td>M</td>\n",
              "      <td>21.0</td>\n",
              "      <td>2591</td>\n",
              "      <td>182.0</td>\n",
              "      <td>30/01/2019</td>\n",
              "      <td>23:58:25</td>\n",
              "      <td>NaN</td>\n",
              "      <td>NaN</td>\n",
              "      <td>NaN</td>\n",
              "      <td>286</td>\n",
              "      <td>31/01/2019</td>\n",
              "      <td>0:44:01</td>\n",
              "      <td>NaN</td>\n",
              "      <td>NaN</td>\n",
              "    </tr>\n",
              "    <tr>\n",
              "      <th>697287</th>\n",
              "      <td>M</td>\n",
              "      <td>25.0</td>\n",
              "      <td>9121</td>\n",
              "      <td>137.0</td>\n",
              "      <td>30/01/2019</td>\n",
              "      <td>23:59:04</td>\n",
              "      <td>NaN</td>\n",
              "      <td>NaN</td>\n",
              "      <td>NaN</td>\n",
              "      <td>125</td>\n",
              "      <td>31/01/2019</td>\n",
              "      <td>0:01:57</td>\n",
              "      <td>NaN</td>\n",
              "      <td>NaN</td>\n",
              "    </tr>\n",
              "  </tbody>\n",
              "</table>\n",
              "<p>10037511 rows × 14 columns</p>\n",
              "</div>\n",
              "      <button class=\"colab-df-convert\" onclick=\"convertToInteractive('df-526ad957-66e2-4d7d-a857-f66a83abc740')\"\n",
              "              title=\"Convert this dataframe to an interactive table.\"\n",
              "              style=\"display:none;\">\n",
              "        \n",
              "  <svg xmlns=\"http://www.w3.org/2000/svg\" height=\"24px\"viewBox=\"0 0 24 24\"\n",
              "       width=\"24px\">\n",
              "    <path d=\"M0 0h24v24H0V0z\" fill=\"none\"/>\n",
              "    <path d=\"M18.56 5.44l.94 2.06.94-2.06 2.06-.94-2.06-.94-.94-2.06-.94 2.06-2.06.94zm-11 1L8.5 8.5l.94-2.06 2.06-.94-2.06-.94L8.5 2.5l-.94 2.06-2.06.94zm10 10l.94 2.06.94-2.06 2.06-.94-2.06-.94-.94-2.06-.94 2.06-2.06.94z\"/><path d=\"M17.41 7.96l-1.37-1.37c-.4-.4-.92-.59-1.43-.59-.52 0-1.04.2-1.43.59L10.3 9.45l-7.72 7.72c-.78.78-.78 2.05 0 2.83L4 21.41c.39.39.9.59 1.41.59.51 0 1.02-.2 1.41-.59l7.78-7.78 2.81-2.81c.8-.78.8-2.07 0-2.86zM5.41 20L4 18.59l7.72-7.72 1.47 1.35L5.41 20z\"/>\n",
              "  </svg>\n",
              "      </button>\n",
              "      \n",
              "  <style>\n",
              "    .colab-df-container {\n",
              "      display:flex;\n",
              "      flex-wrap:wrap;\n",
              "      gap: 12px;\n",
              "    }\n",
              "\n",
              "    .colab-df-convert {\n",
              "      background-color: #E8F0FE;\n",
              "      border: none;\n",
              "      border-radius: 50%;\n",
              "      cursor: pointer;\n",
              "      display: none;\n",
              "      fill: #1967D2;\n",
              "      height: 32px;\n",
              "      padding: 0 0 0 0;\n",
              "      width: 32px;\n",
              "    }\n",
              "\n",
              "    .colab-df-convert:hover {\n",
              "      background-color: #E2EBFA;\n",
              "      box-shadow: 0px 1px 2px rgba(60, 64, 67, 0.3), 0px 1px 3px 1px rgba(60, 64, 67, 0.15);\n",
              "      fill: #174EA6;\n",
              "    }\n",
              "\n",
              "    [theme=dark] .colab-df-convert {\n",
              "      background-color: #3B4455;\n",
              "      fill: #D2E3FC;\n",
              "    }\n",
              "\n",
              "    [theme=dark] .colab-df-convert:hover {\n",
              "      background-color: #434B5C;\n",
              "      box-shadow: 0px 1px 3px 1px rgba(0, 0, 0, 0.15);\n",
              "      filter: drop-shadow(0px 1px 2px rgba(0, 0, 0, 0.3));\n",
              "      fill: #FFFFFF;\n",
              "    }\n",
              "  </style>\n",
              "\n",
              "      <script>\n",
              "        const buttonEl =\n",
              "          document.querySelector('#df-526ad957-66e2-4d7d-a857-f66a83abc740 button.colab-df-convert');\n",
              "        buttonEl.style.display =\n",
              "          google.colab.kernel.accessAllowed ? 'block' : 'none';\n",
              "\n",
              "        async function convertToInteractive(key) {\n",
              "          const element = document.querySelector('#df-526ad957-66e2-4d7d-a857-f66a83abc740');\n",
              "          const dataTable =\n",
              "            await google.colab.kernel.invokeFunction('convertToInteractive',\n",
              "                                                     [key], {});\n",
              "          if (!dataTable) return;\n",
              "\n",
              "          const docLinkHtml = 'Like what you see? Visit the ' +\n",
              "            '<a target=\"_blank\" href=https://colab.research.google.com/notebooks/data_table.ipynb>data table notebook</a>'\n",
              "            + ' to learn more about interactive tables.';\n",
              "          element.innerHTML = '';\n",
              "          dataTable['output_type'] = 'display_data';\n",
              "          await google.colab.output.renderOutput(dataTable, element);\n",
              "          const docLink = document.createElement('div');\n",
              "          docLink.innerHTML = docLinkHtml;\n",
              "          element.appendChild(docLink);\n",
              "        }\n",
              "      </script>\n",
              "    </div>\n",
              "  </div>\n",
              "  "
            ]
          },
          "metadata": {},
          "execution_count": 57
        }
      ]
    },
    {
      "cell_type": "code",
      "metadata": {
        "id": "wWM6xbcV4o-3",
        "colab": {
          "base_uri": "https://localhost:8080/"
        },
        "outputId": "bdf120a5-4aeb-45ef-a755-6d5df0fe3867"
      },
      "source": [
        "print(ecobici_df.isnull().sum())\n",
        "print(ecobici_df.isnull().sum()/ecobici_df.shape[0])\n"
      ],
      "execution_count": null,
      "outputs": [
        {
          "output_type": "stream",
          "text": [
            "Genero_Usuario             243207\n",
            "Edad_Usuario                   44\n",
            "Bici                           44\n",
            "Id_Usuario               12735996\n",
            "Ciclo_Estacion_Retiro          44\n",
            "Fecha_Retiro                   44\n",
            "Hora_Retiro                    44\n",
            "Ciclo_EstacionArribo     12735996\n",
            "Fecha Arribo             12735996\n",
            "Hora Arribo              12735996\n",
            "Ciclo_Estacion_Arribo     1079223\n",
            "Fecha_Arribo              1079223\n",
            "Hora_Arribo               1079223\n",
            "BikeID                   13548281\n",
            "Unnamed: 9               13815218\n",
            "dtype: int64\n",
            "Genero_Usuario           0.017604\n",
            "Edad_Usuario             0.000003\n",
            "Bici                     0.000003\n",
            "Id_Usuario               0.921882\n",
            "Ciclo_Estacion_Retiro    0.000003\n",
            "Fecha_Retiro             0.000003\n",
            "Hora_Retiro              0.000003\n",
            "Ciclo_EstacionArribo     0.921882\n",
            "Fecha Arribo             0.921882\n",
            "Hora Arribo              0.921882\n",
            "Ciclo_Estacion_Arribo    0.078118\n",
            "Fecha_Arribo             0.078118\n",
            "Hora_Arribo              0.078118\n",
            "BikeID                   0.980678\n",
            "Unnamed: 9               1.000000\n",
            "dtype: float64\n"
          ],
          "name": "stdout"
        }
      ]
    },
    {
      "cell_type": "code",
      "metadata": {
        "id": "lpqF9lFg5Wvi",
        "colab": {
          "base_uri": "https://localhost:8080/"
        },
        "outputId": "6af6380a-783e-4b07-9fc1-598c21750694"
      },
      "source": [
        "ecobici_df.columns"
      ],
      "execution_count": null,
      "outputs": [
        {
          "output_type": "execute_result",
          "data": {
            "text/plain": [
              "Index(['Genero_Usuario', 'Edad_Usuario', 'Bici', 'Id_Usuario',\n",
              "       'Ciclo_Estacion_Retiro', 'Fecha_Retiro', 'Hora_Retiro',\n",
              "       'Ciclo_EstacionArribo', 'Fecha Arribo', 'Hora Arribo',\n",
              "       'Ciclo_Estacion_Arribo', 'Fecha_Arribo', 'Hora_Arribo', 'BikeID',\n",
              "       'Unnamed: 9'],\n",
              "      dtype='object')"
            ]
          },
          "metadata": {
            "tags": []
          },
          "execution_count": 118
        }
      ]
    },
    {
      "cell_type": "code",
      "metadata": {
        "id": "vyxSLdiT5LWP"
      },
      "source": [
        "ecobici_df.drop(columns=[\"BikeID\", \"Unnamed: 9\"], inplace = True)"
      ],
      "execution_count": null,
      "outputs": []
    },
    {
      "cell_type": "code",
      "metadata": {
        "id": "D4r2QVI548tN",
        "colab": {
          "base_uri": "https://localhost:8080/"
        },
        "outputId": "294fa120-e19b-4340-9e16-093fd9051c47"
      },
      "source": [
        "print(ecobici_df.shape)\n",
        "ecobici_df.dropna(inplace=True)\n",
        "ecobici_df.shape"
      ],
      "execution_count": null,
      "outputs": [
        {
          "output_type": "stream",
          "text": [
            "(13815219, 13)\n"
          ],
          "name": "stdout"
        },
        {
          "output_type": "execute_result",
          "data": {
            "text/plain": [
              "(0, 13)"
            ]
          },
          "metadata": {
            "tags": []
          },
          "execution_count": 120
        }
      ]
    },
    {
      "cell_type": "code",
      "metadata": {
        "id": "dj6isqvSaxX2",
        "colab": {
          "base_uri": "https://localhost:8080/"
        },
        "outputId": "8e0aef32-6b5a-409d-96e7-db810b43d482"
      },
      "source": [
        "ecobici_df.info()"
      ],
      "execution_count": null,
      "outputs": [
        {
          "output_type": "stream",
          "text": [
            "<class 'pandas.core.frame.DataFrame'>\n",
            "Int64Index: 0 entries\n",
            "Data columns (total 13 columns):\n",
            " #   Column                 Non-Null Count  Dtype  \n",
            "---  ------                 --------------  -----  \n",
            " 0   Genero_Usuario         0 non-null      object \n",
            " 1   Edad_Usuario           0 non-null      float64\n",
            " 2   Bici                   0 non-null      object \n",
            " 3   Id_Usuario             0 non-null      float64\n",
            " 4   Ciclo_Estacion_Retiro  0 non-null      float64\n",
            " 5   Fecha_Retiro           0 non-null      object \n",
            " 6   Hora_Retiro            0 non-null      object \n",
            " 7   Ciclo_EstacionArribo   0 non-null      float64\n",
            " 8   Fecha Arribo           0 non-null      object \n",
            " 9   Hora Arribo            0 non-null      object \n",
            " 10  Ciclo_Estacion_Arribo  0 non-null      object \n",
            " 11  Fecha_Arribo           0 non-null      object \n",
            " 12  Hora_Arribo            0 non-null      object \n",
            "dtypes: float64(4), object(9)\n",
            "memory usage: 0.0+ bytes\n"
          ],
          "name": "stdout"
        }
      ]
    },
    {
      "cell_type": "markdown",
      "metadata": {
        "id": "FpZqSclAa67G"
      },
      "source": [
        "#### Descargar ubicaciones ECOBICI\n"
      ]
    },
    {
      "cell_type": "code",
      "metadata": {
        "id": "ZLwBUuZia6Bj",
        "colab": {
          "base_uri": "https://localhost:8080/",
          "height": 539
        },
        "outputId": "c9d7d6e9-1c7b-4fa2-9069-6e2361e8befa"
      },
      "source": [
        "url = \"https://datos.cdmx.gob.mx/explore/dataset/estaciones-de-ecobici/download/?format=csv&timezone=America/Mexico_City&lang=es&use_labels_for_header=true&csv_separator=%2C\"\n",
        "estaciones_request = requests.get(url)\n",
        "estaciones_content = estaciones_request.content\n",
        "estaciones_df = pd.read_csv(io.StringIO(estaciones_content.decode(\"utf-8\")))\n",
        "estaciones_df.head()"
      ],
      "execution_count": null,
      "outputs": [
        {
          "output_type": "error",
          "ename": "ParserError",
          "evalue": "ignored",
          "traceback": [
            "\u001b[0;31m---------------------------------------------------------------------------\u001b[0m",
            "\u001b[0;31mParserError\u001b[0m                               Traceback (most recent call last)",
            "\u001b[0;32m<ipython-input-122-2d86c202c00a>\u001b[0m in \u001b[0;36m<module>\u001b[0;34m()\u001b[0m\n\u001b[1;32m      2\u001b[0m \u001b[0mestaciones_request\u001b[0m \u001b[0;34m=\u001b[0m \u001b[0mrequests\u001b[0m\u001b[0;34m.\u001b[0m\u001b[0mget\u001b[0m\u001b[0;34m(\u001b[0m\u001b[0murl\u001b[0m\u001b[0;34m)\u001b[0m\u001b[0;34m\u001b[0m\u001b[0;34m\u001b[0m\u001b[0m\n\u001b[1;32m      3\u001b[0m \u001b[0mestaciones_content\u001b[0m \u001b[0;34m=\u001b[0m \u001b[0mestaciones_request\u001b[0m\u001b[0;34m.\u001b[0m\u001b[0mcontent\u001b[0m\u001b[0;34m\u001b[0m\u001b[0;34m\u001b[0m\u001b[0m\n\u001b[0;32m----> 4\u001b[0;31m \u001b[0mestaciones_df\u001b[0m \u001b[0;34m=\u001b[0m \u001b[0mpd\u001b[0m\u001b[0;34m.\u001b[0m\u001b[0mread_csv\u001b[0m\u001b[0;34m(\u001b[0m\u001b[0mio\u001b[0m\u001b[0;34m.\u001b[0m\u001b[0mStringIO\u001b[0m\u001b[0;34m(\u001b[0m\u001b[0mestaciones_content\u001b[0m\u001b[0;34m.\u001b[0m\u001b[0mdecode\u001b[0m\u001b[0;34m(\u001b[0m\u001b[0;34m\"utf-8\"\u001b[0m\u001b[0;34m)\u001b[0m\u001b[0;34m)\u001b[0m\u001b[0;34m)\u001b[0m\u001b[0;34m\u001b[0m\u001b[0;34m\u001b[0m\u001b[0m\n\u001b[0m\u001b[1;32m      5\u001b[0m \u001b[0mestaciones_df\u001b[0m\u001b[0;34m.\u001b[0m\u001b[0mhead\u001b[0m\u001b[0;34m(\u001b[0m\u001b[0;34m)\u001b[0m\u001b[0;34m\u001b[0m\u001b[0;34m\u001b[0m\u001b[0m\n",
            "\u001b[0;32m/usr/local/lib/python3.7/dist-packages/pandas/io/parsers.py\u001b[0m in \u001b[0;36mread_csv\u001b[0;34m(filepath_or_buffer, sep, delimiter, header, names, index_col, usecols, squeeze, prefix, mangle_dupe_cols, dtype, engine, converters, true_values, false_values, skipinitialspace, skiprows, skipfooter, nrows, na_values, keep_default_na, na_filter, verbose, skip_blank_lines, parse_dates, infer_datetime_format, keep_date_col, date_parser, dayfirst, cache_dates, iterator, chunksize, compression, thousands, decimal, lineterminator, quotechar, quoting, doublequote, escapechar, comment, encoding, dialect, error_bad_lines, warn_bad_lines, delim_whitespace, low_memory, memory_map, float_precision)\u001b[0m\n\u001b[1;32m    686\u001b[0m     )\n\u001b[1;32m    687\u001b[0m \u001b[0;34m\u001b[0m\u001b[0m\n\u001b[0;32m--> 688\u001b[0;31m     \u001b[0;32mreturn\u001b[0m \u001b[0m_read\u001b[0m\u001b[0;34m(\u001b[0m\u001b[0mfilepath_or_buffer\u001b[0m\u001b[0;34m,\u001b[0m \u001b[0mkwds\u001b[0m\u001b[0;34m)\u001b[0m\u001b[0;34m\u001b[0m\u001b[0;34m\u001b[0m\u001b[0m\n\u001b[0m\u001b[1;32m    689\u001b[0m \u001b[0;34m\u001b[0m\u001b[0m\n\u001b[1;32m    690\u001b[0m \u001b[0;34m\u001b[0m\u001b[0m\n",
            "\u001b[0;32m/usr/local/lib/python3.7/dist-packages/pandas/io/parsers.py\u001b[0m in \u001b[0;36m_read\u001b[0;34m(filepath_or_buffer, kwds)\u001b[0m\n\u001b[1;32m    458\u001b[0m \u001b[0;34m\u001b[0m\u001b[0m\n\u001b[1;32m    459\u001b[0m     \u001b[0;32mtry\u001b[0m\u001b[0;34m:\u001b[0m\u001b[0;34m\u001b[0m\u001b[0;34m\u001b[0m\u001b[0m\n\u001b[0;32m--> 460\u001b[0;31m         \u001b[0mdata\u001b[0m \u001b[0;34m=\u001b[0m \u001b[0mparser\u001b[0m\u001b[0;34m.\u001b[0m\u001b[0mread\u001b[0m\u001b[0;34m(\u001b[0m\u001b[0mnrows\u001b[0m\u001b[0;34m)\u001b[0m\u001b[0;34m\u001b[0m\u001b[0;34m\u001b[0m\u001b[0m\n\u001b[0m\u001b[1;32m    461\u001b[0m     \u001b[0;32mfinally\u001b[0m\u001b[0;34m:\u001b[0m\u001b[0;34m\u001b[0m\u001b[0;34m\u001b[0m\u001b[0m\n\u001b[1;32m    462\u001b[0m         \u001b[0mparser\u001b[0m\u001b[0;34m.\u001b[0m\u001b[0mclose\u001b[0m\u001b[0;34m(\u001b[0m\u001b[0;34m)\u001b[0m\u001b[0;34m\u001b[0m\u001b[0;34m\u001b[0m\u001b[0m\n",
            "\u001b[0;32m/usr/local/lib/python3.7/dist-packages/pandas/io/parsers.py\u001b[0m in \u001b[0;36mread\u001b[0;34m(self, nrows)\u001b[0m\n\u001b[1;32m   1196\u001b[0m     \u001b[0;32mdef\u001b[0m \u001b[0mread\u001b[0m\u001b[0;34m(\u001b[0m\u001b[0mself\u001b[0m\u001b[0;34m,\u001b[0m \u001b[0mnrows\u001b[0m\u001b[0;34m=\u001b[0m\u001b[0;32mNone\u001b[0m\u001b[0;34m)\u001b[0m\u001b[0;34m:\u001b[0m\u001b[0;34m\u001b[0m\u001b[0;34m\u001b[0m\u001b[0m\n\u001b[1;32m   1197\u001b[0m         \u001b[0mnrows\u001b[0m \u001b[0;34m=\u001b[0m \u001b[0m_validate_integer\u001b[0m\u001b[0;34m(\u001b[0m\u001b[0;34m\"nrows\"\u001b[0m\u001b[0;34m,\u001b[0m \u001b[0mnrows\u001b[0m\u001b[0;34m)\u001b[0m\u001b[0;34m\u001b[0m\u001b[0;34m\u001b[0m\u001b[0m\n\u001b[0;32m-> 1198\u001b[0;31m         \u001b[0mret\u001b[0m \u001b[0;34m=\u001b[0m \u001b[0mself\u001b[0m\u001b[0;34m.\u001b[0m\u001b[0m_engine\u001b[0m\u001b[0;34m.\u001b[0m\u001b[0mread\u001b[0m\u001b[0;34m(\u001b[0m\u001b[0mnrows\u001b[0m\u001b[0;34m)\u001b[0m\u001b[0;34m\u001b[0m\u001b[0;34m\u001b[0m\u001b[0m\n\u001b[0m\u001b[1;32m   1199\u001b[0m \u001b[0;34m\u001b[0m\u001b[0m\n\u001b[1;32m   1200\u001b[0m         \u001b[0;31m# May alter columns / col_dict\u001b[0m\u001b[0;34m\u001b[0m\u001b[0;34m\u001b[0m\u001b[0;34m\u001b[0m\u001b[0m\n",
            "\u001b[0;32m/usr/local/lib/python3.7/dist-packages/pandas/io/parsers.py\u001b[0m in \u001b[0;36mread\u001b[0;34m(self, nrows)\u001b[0m\n\u001b[1;32m   2155\u001b[0m     \u001b[0;32mdef\u001b[0m \u001b[0mread\u001b[0m\u001b[0;34m(\u001b[0m\u001b[0mself\u001b[0m\u001b[0;34m,\u001b[0m \u001b[0mnrows\u001b[0m\u001b[0;34m=\u001b[0m\u001b[0;32mNone\u001b[0m\u001b[0;34m)\u001b[0m\u001b[0;34m:\u001b[0m\u001b[0;34m\u001b[0m\u001b[0;34m\u001b[0m\u001b[0m\n\u001b[1;32m   2156\u001b[0m         \u001b[0;32mtry\u001b[0m\u001b[0;34m:\u001b[0m\u001b[0;34m\u001b[0m\u001b[0;34m\u001b[0m\u001b[0m\n\u001b[0;32m-> 2157\u001b[0;31m             \u001b[0mdata\u001b[0m \u001b[0;34m=\u001b[0m \u001b[0mself\u001b[0m\u001b[0;34m.\u001b[0m\u001b[0m_reader\u001b[0m\u001b[0;34m.\u001b[0m\u001b[0mread\u001b[0m\u001b[0;34m(\u001b[0m\u001b[0mnrows\u001b[0m\u001b[0;34m)\u001b[0m\u001b[0;34m\u001b[0m\u001b[0;34m\u001b[0m\u001b[0m\n\u001b[0m\u001b[1;32m   2158\u001b[0m         \u001b[0;32mexcept\u001b[0m \u001b[0mStopIteration\u001b[0m\u001b[0;34m:\u001b[0m\u001b[0;34m\u001b[0m\u001b[0;34m\u001b[0m\u001b[0m\n\u001b[1;32m   2159\u001b[0m             \u001b[0;32mif\u001b[0m \u001b[0mself\u001b[0m\u001b[0;34m.\u001b[0m\u001b[0m_first_chunk\u001b[0m\u001b[0;34m:\u001b[0m\u001b[0;34m\u001b[0m\u001b[0;34m\u001b[0m\u001b[0m\n",
            "\u001b[0;32mpandas/_libs/parsers.pyx\u001b[0m in \u001b[0;36mpandas._libs.parsers.TextReader.read\u001b[0;34m()\u001b[0m\n",
            "\u001b[0;32mpandas/_libs/parsers.pyx\u001b[0m in \u001b[0;36mpandas._libs.parsers.TextReader._read_low_memory\u001b[0;34m()\u001b[0m\n",
            "\u001b[0;32mpandas/_libs/parsers.pyx\u001b[0m in \u001b[0;36mpandas._libs.parsers.TextReader._read_rows\u001b[0;34m()\u001b[0m\n",
            "\u001b[0;32mpandas/_libs/parsers.pyx\u001b[0m in \u001b[0;36mpandas._libs.parsers.TextReader._tokenize_rows\u001b[0;34m()\u001b[0m\n",
            "\u001b[0;32mpandas/_libs/parsers.pyx\u001b[0m in \u001b[0;36mpandas._libs.parsers.raise_parser_error\u001b[0;34m()\u001b[0m\n",
            "\u001b[0;31mParserError\u001b[0m: Error tokenizing data. C error: Expected 1 fields in line 7, saw 2\n"
          ]
        }
      ]
    },
    {
      "cell_type": "code",
      "metadata": {
        "id": "RVw7okSaSnHL"
      },
      "source": [
        "import pandas as pd\n",
        "datos_c_estaciones_url = \"https://datos.cdmx.gob.mx/dataset/a9a12b2d-7681-40cb-bf8a-2a665fc4f782/resource/0e5da76b-e551-40ee-9b8c-692167d1fa61/download/estaciones-de-ecobici.csv\"\n",
        "estaciones_df = pd.read_csv(datos_c_estaciones_url)"
      ],
      "execution_count": null,
      "outputs": []
    },
    {
      "cell_type": "code",
      "metadata": {
        "id": "DMXP8dromZct",
        "colab": {
          "base_uri": "https://localhost:8080/"
        },
        "outputId": "6e3b15a9-bdf2-434c-9229-298f6ac5e983"
      },
      "source": [
        "estaciones_df.columns"
      ],
      "execution_count": null,
      "outputs": [
        {
          "output_type": "execute_result",
          "data": {
            "text/plain": [
              "Index(['id', 'name', 'address', 'addressnumber', 'zipcode', 'districtcode',\n",
              "       'districtname', 'altitude', 'nearbystations_0', 'location_lat',\n",
              "       'location_lon', 'stationtype', 'nearbystations_1', 'nearbystations_2',\n",
              "       'nearbystations_3', 'nearbystations_4', 'nearbystations_5',\n",
              "       'punto_geo'],\n",
              "      dtype='object')"
            ]
          },
          "metadata": {
            "tags": []
          },
          "execution_count": 5
        }
      ]
    },
    {
      "cell_type": "code",
      "metadata": {
        "id": "M1mcdv8xkZcU"
      },
      "source": [
        "estaciones_df = estaciones_df[[\"ID\", \"Colonia\", \"location/lat\",\t\"location/lon\"]]"
      ],
      "execution_count": null,
      "outputs": []
    },
    {
      "cell_type": "code",
      "metadata": {
        "id": "MQqM1jTZar3N"
      },
      "source": [
        "### Descargar ubicaciones ECOBICI"
      ],
      "execution_count": null,
      "outputs": []
    },
    {
      "cell_type": "code",
      "metadata": {
        "id": "7dlsO77smshs",
        "colab": {
          "base_uri": "https://localhost:8080/",
          "height": 243
        },
        "outputId": "eeecf8e8-027b-4ac7-8e6c-772f014ad23b"
      },
      "source": [
        "ecobici_df.head()"
      ],
      "execution_count": null,
      "outputs": [
        {
          "output_type": "execute_result",
          "data": {
            "text/html": [
              "<div>\n",
              "<style scoped>\n",
              "    .dataframe tbody tr th:only-of-type {\n",
              "        vertical-align: middle;\n",
              "    }\n",
              "\n",
              "    .dataframe tbody tr th {\n",
              "        vertical-align: top;\n",
              "    }\n",
              "\n",
              "    .dataframe thead th {\n",
              "        text-align: right;\n",
              "    }\n",
              "</style>\n",
              "<table border=\"1\" class=\"dataframe\">\n",
              "  <thead>\n",
              "    <tr style=\"text-align: right;\">\n",
              "      <th></th>\n",
              "      <th>Genero_Usuario</th>\n",
              "      <th>Edad_Usuario</th>\n",
              "      <th>Bici</th>\n",
              "      <th>Ciclo_Estacion_Retiro</th>\n",
              "      <th>Fecha_Retiro</th>\n",
              "      <th>Hora_Retiro</th>\n",
              "      <th>Ciclo_Estacion_Arribo</th>\n",
              "      <th>Fecha_Arribo</th>\n",
              "      <th>Hora_Arribo</th>\n",
              "      <th>BikeID</th>\n",
              "      <th>Unnamed: 9</th>\n",
              "    </tr>\n",
              "  </thead>\n",
              "  <tbody>\n",
              "    <tr>\n",
              "      <th>0</th>\n",
              "      <td>M</td>\n",
              "      <td>37.0</td>\n",
              "      <td>6958</td>\n",
              "      <td>470.0</td>\n",
              "      <td>01/10/2020</td>\n",
              "      <td>5:52:34</td>\n",
              "      <td>271</td>\n",
              "      <td>01/10/2020</td>\n",
              "      <td>6:09:22</td>\n",
              "      <td>NaN</td>\n",
              "      <td>NaN</td>\n",
              "    </tr>\n",
              "    <tr>\n",
              "      <th>1</th>\n",
              "      <td>M</td>\n",
              "      <td>44.0</td>\n",
              "      <td>11618</td>\n",
              "      <td>128.0</td>\n",
              "      <td>01/10/2020</td>\n",
              "      <td>7:02:04</td>\n",
              "      <td>132</td>\n",
              "      <td>01/10/2020</td>\n",
              "      <td>7:05:23</td>\n",
              "      <td>NaN</td>\n",
              "      <td>NaN</td>\n",
              "    </tr>\n",
              "    <tr>\n",
              "      <th>2</th>\n",
              "      <td>M</td>\n",
              "      <td>59.0</td>\n",
              "      <td>10511</td>\n",
              "      <td>390.0</td>\n",
              "      <td>01/10/2020</td>\n",
              "      <td>7:26:31</td>\n",
              "      <td>305</td>\n",
              "      <td>01/10/2020</td>\n",
              "      <td>7:39:34</td>\n",
              "      <td>NaN</td>\n",
              "      <td>NaN</td>\n",
              "    </tr>\n",
              "    <tr>\n",
              "      <th>3</th>\n",
              "      <td>F</td>\n",
              "      <td>30.0</td>\n",
              "      <td>8660</td>\n",
              "      <td>168.0</td>\n",
              "      <td>01/10/2020</td>\n",
              "      <td>7:43:08</td>\n",
              "      <td>60</td>\n",
              "      <td>01/10/2020</td>\n",
              "      <td>7:53:42</td>\n",
              "      <td>NaN</td>\n",
              "      <td>NaN</td>\n",
              "    </tr>\n",
              "    <tr>\n",
              "      <th>4</th>\n",
              "      <td>F</td>\n",
              "      <td>40.0</td>\n",
              "      <td>10041</td>\n",
              "      <td>412.0</td>\n",
              "      <td>01/10/2020</td>\n",
              "      <td>7:50:43</td>\n",
              "      <td>443</td>\n",
              "      <td>01/10/2020</td>\n",
              "      <td>7:55:05</td>\n",
              "      <td>NaN</td>\n",
              "      <td>NaN</td>\n",
              "    </tr>\n",
              "  </tbody>\n",
              "</table>\n",
              "</div>"
            ],
            "text/plain": [
              "  Genero_Usuario  Edad_Usuario   Bici  ...  Hora_Arribo BikeID Unnamed: 9\n",
              "0              M          37.0   6958  ...      6:09:22    NaN        NaN\n",
              "1              M          44.0  11618  ...      7:05:23    NaN        NaN\n",
              "2              M          59.0  10511  ...      7:39:34    NaN        NaN\n",
              "3              F          30.0   8660  ...      7:53:42    NaN        NaN\n",
              "4              F          40.0  10041  ...      7:55:05    NaN        NaN\n",
              "\n",
              "[5 rows x 11 columns]"
            ]
          },
          "metadata": {
            "tags": []
          },
          "execution_count": 101
        }
      ]
    },
    {
      "cell_type": "code",
      "metadata": {
        "id": "MuzNbOgwnIFz",
        "colab": {
          "base_uri": "https://localhost:8080/",
          "height": 437
        },
        "outputId": "12a43190-ed49-42ec-9a7e-e5fccc139068"
      },
      "source": [
        "ecobici_df"
      ],
      "execution_count": null,
      "outputs": [
        {
          "output_type": "execute_result",
          "data": {
            "text/html": [
              "<div>\n",
              "<style scoped>\n",
              "    .dataframe tbody tr th:only-of-type {\n",
              "        vertical-align: middle;\n",
              "    }\n",
              "\n",
              "    .dataframe tbody tr th {\n",
              "        vertical-align: top;\n",
              "    }\n",
              "\n",
              "    .dataframe thead th {\n",
              "        text-align: right;\n",
              "    }\n",
              "</style>\n",
              "<table border=\"1\" class=\"dataframe\">\n",
              "  <thead>\n",
              "    <tr style=\"text-align: right;\">\n",
              "      <th></th>\n",
              "      <th>Genero_Usuario</th>\n",
              "      <th>Edad_Usuario</th>\n",
              "      <th>Bici</th>\n",
              "      <th>Ciclo_Estacion_Retiro</th>\n",
              "      <th>Fecha_Retiro</th>\n",
              "      <th>Hora_Retiro</th>\n",
              "      <th>Ciclo_Estacion_Arribo</th>\n",
              "      <th>Fecha_Arribo</th>\n",
              "      <th>Hora_Arribo</th>\n",
              "    </tr>\n",
              "  </thead>\n",
              "  <tbody>\n",
              "    <tr>\n",
              "      <th>0</th>\n",
              "      <td>M</td>\n",
              "      <td>37.0</td>\n",
              "      <td>6958</td>\n",
              "      <td>470.0</td>\n",
              "      <td>01/10/2020</td>\n",
              "      <td>5:52:34</td>\n",
              "      <td>271</td>\n",
              "      <td>01/10/2020</td>\n",
              "      <td>6:09:22</td>\n",
              "    </tr>\n",
              "    <tr>\n",
              "      <th>1</th>\n",
              "      <td>M</td>\n",
              "      <td>44.0</td>\n",
              "      <td>11618</td>\n",
              "      <td>128.0</td>\n",
              "      <td>01/10/2020</td>\n",
              "      <td>7:02:04</td>\n",
              "      <td>132</td>\n",
              "      <td>01/10/2020</td>\n",
              "      <td>7:05:23</td>\n",
              "    </tr>\n",
              "    <tr>\n",
              "      <th>2</th>\n",
              "      <td>M</td>\n",
              "      <td>59.0</td>\n",
              "      <td>10511</td>\n",
              "      <td>390.0</td>\n",
              "      <td>01/10/2020</td>\n",
              "      <td>7:26:31</td>\n",
              "      <td>305</td>\n",
              "      <td>01/10/2020</td>\n",
              "      <td>7:39:34</td>\n",
              "    </tr>\n",
              "    <tr>\n",
              "      <th>3</th>\n",
              "      <td>F</td>\n",
              "      <td>30.0</td>\n",
              "      <td>8660</td>\n",
              "      <td>168.0</td>\n",
              "      <td>01/10/2020</td>\n",
              "      <td>7:43:08</td>\n",
              "      <td>60</td>\n",
              "      <td>01/10/2020</td>\n",
              "      <td>7:53:42</td>\n",
              "    </tr>\n",
              "    <tr>\n",
              "      <th>4</th>\n",
              "      <td>F</td>\n",
              "      <td>40.0</td>\n",
              "      <td>10041</td>\n",
              "      <td>412.0</td>\n",
              "      <td>01/10/2020</td>\n",
              "      <td>7:50:43</td>\n",
              "      <td>443</td>\n",
              "      <td>01/10/2020</td>\n",
              "      <td>7:55:05</td>\n",
              "    </tr>\n",
              "    <tr>\n",
              "      <th>...</th>\n",
              "      <td>...</td>\n",
              "      <td>...</td>\n",
              "      <td>...</td>\n",
              "      <td>...</td>\n",
              "      <td>...</td>\n",
              "      <td>...</td>\n",
              "      <td>...</td>\n",
              "      <td>...</td>\n",
              "      <td>...</td>\n",
              "    </tr>\n",
              "    <tr>\n",
              "      <th>697284</th>\n",
              "      <td>F</td>\n",
              "      <td>35.0</td>\n",
              "      <td>11497</td>\n",
              "      <td>359.0</td>\n",
              "      <td>30/01/2019</td>\n",
              "      <td>23:58:23</td>\n",
              "      <td>366</td>\n",
              "      <td>31/01/2019</td>\n",
              "      <td>0:07:47</td>\n",
              "    </tr>\n",
              "    <tr>\n",
              "      <th>697285</th>\n",
              "      <td>M</td>\n",
              "      <td>37.0</td>\n",
              "      <td>2238</td>\n",
              "      <td>270.0</td>\n",
              "      <td>30/01/2019</td>\n",
              "      <td>23:58:25</td>\n",
              "      <td>263</td>\n",
              "      <td>31/01/2019</td>\n",
              "      <td>0:08:46</td>\n",
              "    </tr>\n",
              "    <tr>\n",
              "      <th>697286</th>\n",
              "      <td>M</td>\n",
              "      <td>21.0</td>\n",
              "      <td>2591</td>\n",
              "      <td>182.0</td>\n",
              "      <td>30/01/2019</td>\n",
              "      <td>23:58:25</td>\n",
              "      <td>286</td>\n",
              "      <td>31/01/2019</td>\n",
              "      <td>0:44:01</td>\n",
              "    </tr>\n",
              "    <tr>\n",
              "      <th>697287</th>\n",
              "      <td>M</td>\n",
              "      <td>25.0</td>\n",
              "      <td>9121</td>\n",
              "      <td>137.0</td>\n",
              "      <td>30/01/2019</td>\n",
              "      <td>23:59:04</td>\n",
              "      <td>125</td>\n",
              "      <td>31/01/2019</td>\n",
              "      <td>0:01:57</td>\n",
              "    </tr>\n",
              "    <tr>\n",
              "      <th>697288</th>\n",
              "      <td>F</td>\n",
              "      <td>28.0</td>\n",
              "      <td>11718</td>\n",
              "      <td>5.0</td>\n",
              "      <td>30/01/2019</td>\n",
              "      <td>23:59:55</td>\n",
              "      <td>178</td>\n",
              "      <td>31/01/2019</td>\n",
              "      <td>0:16:11</td>\n",
              "    </tr>\n",
              "  </tbody>\n",
              "</table>\n",
              "<p>11838575 rows × 9 columns</p>\n",
              "</div>"
            ],
            "text/plain": [
              "       Genero_Usuario  Edad_Usuario  ... Fecha_Arribo  Hora_Arribo\n",
              "0                   M          37.0  ...   01/10/2020      6:09:22\n",
              "1                   M          44.0  ...   01/10/2020      7:05:23\n",
              "2                   M          59.0  ...   01/10/2020      7:39:34\n",
              "3                   F          30.0  ...   01/10/2020      7:53:42\n",
              "4                   F          40.0  ...   01/10/2020      7:55:05\n",
              "...               ...           ...  ...          ...          ...\n",
              "697284              F          35.0  ...   31/01/2019      0:07:47\n",
              "697285              M          37.0  ...   31/01/2019      0:08:46\n",
              "697286              M          21.0  ...   31/01/2019      0:44:01\n",
              "697287              M          25.0  ...   31/01/2019      0:01:57\n",
              "697288              F          28.0  ...   31/01/2019      0:16:11\n",
              "\n",
              "[11838575 rows x 9 columns]"
            ]
          },
          "metadata": {
            "tags": []
          },
          "execution_count": 56
        }
      ]
    },
    {
      "cell_type": "code",
      "metadata": {
        "id": "Iq3FTQJC-kKd"
      },
      "source": [
        "def calcular_escala(valores, lim = 10):\n",
        "  return (valores / max(valores.max(), lim) *lim)"
      ],
      "execution_count": null,
      "outputs": []
    },
    {
      "cell_type": "code",
      "metadata": {
        "id": "XtVHaAiZ8XMQ"
      },
      "source": [
        "def dibujar_mapa(coordenadas_origen, coordenadas_destino,valores_origen, valores_destino, valores):\n",
        "  \n",
        "  color = list(sns.color_palette(\"flare\", 50).as_hex())[-1::-1]\n",
        "  valores_escala = calcular_escala(valores)\n",
        "  fig = go.Figure(go.Scattermapbox(\n",
        "    mode = \"lines\",\n",
        "    name = \"{}|{}|{}\".format(valores[0], coordenadas_origen[\"location/lat_retiro\"][0], coordenadas_origen[\"location/lon_retiro\"][0]),\n",
        "    lat = [coordenadas_origen[\"location/lat_retiro\"][0], coordenadas_destino[\"location/lat_arribo\"][0]],\n",
        "    lon = [coordenadas_origen[\"location/lon_retiro\"][0], coordenadas_destino[\"location/lon_arribo\"][0]],\n",
        "    text = str(valores[0]),\n",
        "    line = {'width': valores_escala[0], 'color' : color[0]}))\n",
        "  \n",
        "\n",
        "  \n",
        "  for (i, coordenada_origen), (j, coordenada_destino), valor, valor_escala, color in zip(coordenadas_origen.iterrows(), coordenadas_destino.iterrows(), valores, valores_escala, color):\n",
        "    if i > 0:\n",
        "      fig.add_trace(go.Scattermapbox(\n",
        "        mode = \"lines\",\n",
        "        name = \"{}\".format(valor),\n",
        "        lat =  [coordenada_origen[\"location/lat_retiro\"], coordenada_destino[\"location/lat_arribo\"]],\n",
        "        lon = [coordenada_origen[\"location/lon_retiro\"], coordenada_destino[\"location/lon_arribo\"]],\n",
        "        text = str(valor),\n",
        "        hoverinfo = \"text\",\n",
        "        hovertext = str(valor),\n",
        "        line = {'width': valor_escala, \"color\":color}))\n",
        "\n",
        "  fig.add_trace(go.Scattermapbox(\n",
        "        lat=valores_origen[\"location/lat_retiro\"],\n",
        "        lon=valores_origen[\"location/lon_retiro\"],\n",
        "        mode='markers',\n",
        "        name = \"Origen\",\n",
        "        marker=go.scattermapbox.Marker(\n",
        "            size=calcular_escala(valores_origen[\"n\"], 50),\n",
        "            color=\"white\",\n",
        "            opacity=0.7\n",
        "        ),\n",
        "        hovertext = \"ID_estacion:\" + valores_origen[\"Ciclo_Estacion_Retiro\"].astype(\"str\") + \"|\" + \"n:\" + valores_origen[\"n\"].astype(\"str\"),\n",
        "        text='Origen',\n",
        "        \n",
        "    ))\n",
        "  fig.add_trace(go.Scattermapbox(\n",
        "        lat=valores_destino[\"location/lat_arribo\"],\n",
        "        lon=valores_destino[\"location/lon_arribo\"],\n",
        "        mode='markers',\n",
        "        name = \"Destino\",\n",
        "        marker=go.scattermapbox.Marker(\n",
        "            size=calcular_escala(valores_destino[\"n\"], 50),\n",
        "            color='red',\n",
        "            opacity=0.7\n",
        "        ),\n",
        "        text='Destino',\n",
        "        hovertext = \"ID_estacion:\" + valores_destino[\"Ciclo_Estacion_Arribo\"].astype(\"str\") + \"|\" + \"n:\" + valores_origen[\"n\"].astype(\"str\")\n",
        "    ))\n",
        "  fig.update_layout(\n",
        "    margin ={'l':0,'t':0,'b':0,'r':0},\n",
        "    mapbox = {\n",
        "        'accesstoken':token,\n",
        "        'center': {'lat': np.median(coordenada_origen.T[0]), 'lon': np.median(coordenada_origen.T[1])},\n",
        "        'style': \"dark\",\n",
        "        'zoom': 13})\n",
        "  fig.show()\n",
        "  return(fig)\n",
        "\n",
        "\n"
      ],
      "execution_count": null,
      "outputs": []
    },
    {
      "cell_type": "code",
      "metadata": {
        "id": "uXUEbEGy6eFO"
      },
      "source": [
        "ecobici_df[\"ruta\"] = ecobici_df.Ciclo_Estacion_Retiro.astype(str) + \"|\" + ecobici_df.Ciclo_Estacion_Arribo.astype(str)\n",
        "top_50 = ecobici_df.groupby([\"ruta\", \"Ciclo_Estacion_Retiro\", \"Ciclo_Estacion_Arribo\"]).size().sort_values(ascending = False)[:50]\n",
        "top_50.reset_index().head()\n",
        "top_50 = top_50.reset_index().rename(columns = {0:\"n\"}).merge(estaciones_df, how = \"left\", left_on = \"Ciclo_Estacion_Retiro\", right_on =\"ID\")\n",
        "top_50 = top_50.merge(estaciones_df, how = \"left\", left_on = \"Ciclo_Estacion_Arribo\", right_on =\"ID\", suffixes=('_retiro', '_arribo'))\n",
        "valores_origen = top_50[[\"Ciclo_Estacion_Retiro\", \"location/lat_retiro\",\t\"location/lon_retiro\", \"n\"]].groupby([\"Ciclo_Estacion_Retiro\", \"location/lat_retiro\",\t\"location/lon_retiro\"]).sum().reset_index()\n",
        "valores_destino = top_50[[\"Ciclo_Estacion_Arribo\", \"location/lat_arribo\",\t\"location/lon_arribo\", \"n\"]].groupby([\"Ciclo_Estacion_Arribo\", \"location/lat_arribo\",\t\"location/lon_arribo\"]).sum().reset_index()"
      ],
      "execution_count": null,
      "outputs": []
    },
    {
      "cell_type": "code",
      "metadata": {
        "id": "yUug-vYh6hrN",
        "colab": {
          "base_uri": "https://localhost:8080/",
          "height": 1000
        },
        "outputId": "4b6e8e42-7934-4b5c-93d5-b664524c6a52"
      },
      "source": [
        "dibujar_mapa(top_50[[\"location/lat_retiro\", \"location/lon_retiro\"]], top_50[[\"location/lat_arribo\", \"location/lon_arribo\"]],valores_origen,valores_destino, top_50[\"n\"].values )"
      ],
      "execution_count": null,
      "outputs": [
        {
          "output_type": "display_data",
          "data": {
            "text/html": [
              "<html>\n",
              "<head><meta charset=\"utf-8\" /></head>\n",
              "<body>\n",
              "    <div>\n",
              "            <script src=\"https://cdnjs.cloudflare.com/ajax/libs/mathjax/2.7.5/MathJax.js?config=TeX-AMS-MML_SVG\"></script><script type=\"text/javascript\">if (window.MathJax) {MathJax.Hub.Config({SVG: {font: \"STIX-Web\"}});}</script>\n",
              "                <script type=\"text/javascript\">window.PlotlyConfig = {MathJaxConfig: 'local'};</script>\n",
              "        <script src=\"https://cdn.plot.ly/plotly-latest.min.js\"></script>    \n",
              "            <div id=\"6cb1a114-6cfe-497b-9c21-5f5216b5cf48\" class=\"plotly-graph-div\" style=\"height:525px; width:100%;\"></div>\n",
              "            <script type=\"text/javascript\">\n",
              "                \n",
              "                    window.PLOTLYENV=window.PLOTLYENV || {};\n",
              "                    \n",
              "                if (document.getElementById(\"6cb1a114-6cfe-497b-9c21-5f5216b5cf48\")) {\n",
              "                    Plotly.newPlot(\n",
              "                        '6cb1a114-6cfe-497b-9c21-5f5216b5cf48',\n",
              "                        [{\"lat\": [19.42888, 19.433571399999998], \"line\": {\"color\": \"#4f2463\", \"width\": 10.0}, \"lon\": [-99.164176, -99.16780909999999], \"mode\": \"lines\", \"name\": \"6039|19.42888|-99.164176\", \"text\": \"6039\", \"type\": \"scattermapbox\"}, {\"hoverinfo\": \"text\", \"hovertext\": \"5335\", \"lat\": [19.441110000000002, 19.438236899999996], \"line\": {\"color\": \"#542665\", \"width\": 8.83424408014572}, \"lon\": [-99.16164, -99.16594649999999], \"mode\": \"lines\", \"name\": \"5335\", \"text\": \"5335\", \"type\": \"scattermapbox\"}, {\"hoverinfo\": \"text\", \"hovertext\": \"5264\", \"lat\": [19.433607000000002, 19.432888000000002], \"line\": {\"color\": \"#582766\", \"width\": 8.716674946183144}, \"lon\": [-99.188528, -99.183605], \"mode\": \"lines\", \"name\": \"5264\", \"text\": \"5264\", \"type\": \"scattermapbox\"}, {\"hoverinfo\": \"text\", \"hovertext\": \"5217\", \"lat\": [19.441110000000002, 19.43767], \"line\": {\"color\": \"#5d2868\", \"width\": 8.638847491306507}, \"lon\": [-99.16164, -99.16402], \"mode\": \"lines\", \"name\": \"5217\", \"text\": \"5217\", \"type\": \"scattermapbox\"}, {\"hoverinfo\": \"text\", \"hovertext\": \"5118\", \"lat\": [19.424234, 19.424234], \"line\": {\"color\": \"#62296a\", \"width\": 8.474913065077}, \"lon\": [-99.166431, -99.166431], \"mode\": \"lines\", \"name\": \"5118\", \"text\": \"5118\", \"type\": \"scattermapbox\"}, {\"hoverinfo\": \"text\", \"hovertext\": \"4976\", \"lat\": [19.438236899999996, 19.441110000000002], \"line\": {\"color\": \"#662a6b\", \"width\": 8.239774797151846}, \"lon\": [-99.16594649999999, -99.16164], \"mode\": \"lines\", \"name\": \"4976\", \"text\": \"4976\", \"type\": \"scattermapbox\"}, {\"hoverinfo\": \"text\", \"hovertext\": \"4732\", \"lat\": [19.433571399999998, 19.42888], \"line\": {\"color\": \"#6b2b6c\", \"width\": 7.8357343931114425}, \"lon\": [-99.16780909999999, -99.164176], \"mode\": \"lines\", \"name\": \"4732\", \"text\": \"4732\", \"type\": \"scattermapbox\"}, {\"hoverinfo\": \"text\", \"hovertext\": \"4511\", \"lat\": [19.43767, 19.441110000000002], \"line\": {\"color\": \"#702c6e\", \"width\": 7.469779764861732}, \"lon\": [-99.16402, -99.16164], \"mode\": \"lines\", \"name\": \"4511\", \"text\": \"4511\", \"type\": \"scattermapbox\"}, {\"hoverinfo\": \"text\", \"hovertext\": \"4187\", \"lat\": [19.407447, 19.415905], \"line\": {\"color\": \"#752d6f\", \"width\": 6.933267097201523}, \"lon\": [-99.15571700000001, -99.15954], \"mode\": \"lines\", \"name\": \"4187\", \"text\": \"4187\", \"type\": \"scattermapbox\"}, {\"hoverinfo\": \"text\", \"hovertext\": \"4142\", \"lat\": [19.434182, 19.440344], \"line\": {\"color\": \"#792e6f\", \"width\": 6.858751448915383}, \"lon\": [-99.189835, -99.20105], \"mode\": \"lines\", \"name\": \"4142\", \"text\": \"4142\", \"type\": \"scattermapbox\"}, {\"hoverinfo\": \"text\", \"hovertext\": \"4113\", \"lat\": [19.404268, 19.405246], \"line\": {\"color\": \"#7e2f70\", \"width\": 6.810730253353205}, \"lon\": [-99.160503, -99.15643100000001], \"mode\": \"lines\", \"name\": \"4113\", \"text\": \"4113\", \"type\": \"scattermapbox\"}, {\"hoverinfo\": \"text\", \"hovertext\": \"4049\", \"lat\": [19.434182, 19.435798000000002], \"line\": {\"color\": \"#833070\", \"width\": 6.704752442457361}, \"lon\": [-99.189835, -99.201419], \"mode\": \"lines\", \"name\": \"4049\", \"text\": \"4049\", \"type\": \"scattermapbox\"}, {\"hoverinfo\": \"text\", \"hovertext\": \"4009\", \"lat\": [19.429115, 19.429115], \"line\": {\"color\": \"#873171\", \"width\": 6.638516310647459}, \"lon\": [-99.162614, -99.162614], \"mode\": \"lines\", \"name\": \"4009\", \"text\": \"4009\", \"type\": \"scattermapbox\"}, {\"hoverinfo\": \"text\", \"hovertext\": \"3993\", \"lat\": [19.441110000000002, 19.433571399999998], \"line\": {\"color\": \"#8c3271\", \"width\": 6.612021857923497}, \"lon\": [-99.16164, -99.16780909999999], \"mode\": \"lines\", \"name\": \"3993\", \"text\": \"3993\", \"type\": \"scattermapbox\"}, {\"hoverinfo\": \"text\", \"hovertext\": \"3971\", \"lat\": [19.43425, 19.441110000000002], \"line\": {\"color\": \"#913371\", \"width\": 6.575591985428051}, \"lon\": [-99.162508, -99.16164], \"mode\": \"lines\", \"name\": \"3971\", \"text\": \"3971\", \"type\": \"scattermapbox\"}, {\"hoverinfo\": \"text\", \"hovertext\": \"3965\", \"lat\": [19.42018, 19.42018], \"line\": {\"color\": \"#953470\", \"width\": 6.565656565656566}, \"lon\": [-99.17439300000001, -99.17439300000001], \"mode\": \"lines\", \"name\": \"3965\", \"text\": \"3965\", \"type\": \"scattermapbox\"}, {\"hoverinfo\": \"text\", \"hovertext\": \"3819\", \"lat\": [19.425468, 19.425468], \"line\": {\"color\": \"#9a3670\", \"width\": 6.323894684550422}, \"lon\": [-99.175166, -99.175166], \"mode\": \"lines\", \"name\": \"3819\", \"text\": \"3819\", \"type\": \"scattermapbox\"}, {\"hoverinfo\": \"text\", \"hovertext\": \"3765\", \"lat\": [19.433571399999998, 19.424674], \"line\": {\"color\": \"#9f376f\", \"width\": 6.234475906607054}, \"lon\": [-99.16780909999999, -99.163292], \"mode\": \"lines\", \"name\": \"3765\", \"text\": \"3765\", \"type\": \"scattermapbox\"}, {\"hoverinfo\": \"text\", \"hovertext\": \"3756\", \"lat\": [19.43676, 19.444031], \"line\": {\"color\": \"#a3386f\", \"width\": 6.219572776949827}, \"lon\": [-99.15387, -99.152187], \"mode\": \"lines\", \"name\": \"3756\", \"text\": \"3756\", \"type\": \"scattermapbox\"}, {\"hoverinfo\": \"text\", \"hovertext\": \"3712\", \"lat\": [19.435798000000002, 19.434182], \"line\": {\"color\": \"#a8396e\", \"width\": 6.146713031958933}, \"lon\": [-99.201419, -99.189835], \"mode\": \"lines\", \"name\": \"3712\", \"text\": \"3712\", \"type\": \"scattermapbox\"}, {\"hoverinfo\": \"text\", \"hovertext\": \"3589\", \"lat\": [19.433571399999998, 19.433571399999998], \"line\": {\"color\": \"#ad3b6d\", \"width\": 5.943036926643483}, \"lon\": [-99.16780909999999, -99.16780909999999], \"mode\": \"lines\", \"name\": \"3589\", \"text\": \"3589\", \"type\": \"scattermapbox\"}, {\"hoverinfo\": \"text\", \"hovertext\": \"3512\", \"lat\": [19.416128, 19.416128], \"line\": {\"color\": \"#b13c6c\", \"width\": 5.815532372909422}, \"lon\": [-99.162097, -99.162097], \"mode\": \"lines\", \"name\": \"3512\", \"text\": \"3512\", \"type\": \"scattermapbox\"}, {\"hoverinfo\": \"text\", \"hovertext\": \"3496\", \"lat\": [19.407447, 19.412860000000002], \"line\": {\"color\": \"#b63d6b\", \"width\": 5.789037920185462}, \"lon\": [-99.15571700000001, -99.160661], \"mode\": \"lines\", \"name\": \"3496\", \"text\": \"3496\", \"type\": \"scattermapbox\"}, {\"hoverinfo\": \"text\", \"hovertext\": \"3488\", \"lat\": [19.424725, 19.433571399999998], \"line\": {\"color\": \"#bb3f6a\", \"width\": 5.77579069382348}, \"lon\": [-99.163331, -99.16780909999999], \"mode\": \"lines\", \"name\": \"3488\", \"text\": \"3488\", \"type\": \"scattermapbox\"}, {\"hoverinfo\": \"text\", \"hovertext\": \"3436\", \"lat\": [19.443928, 19.432685], \"line\": {\"color\": \"#c04068\", \"width\": 5.689683722470607}, \"lon\": [-99.152525, -99.154726], \"mode\": \"lines\", \"name\": \"3436\", \"text\": \"3436\", \"type\": \"scattermapbox\"}, {\"hoverinfo\": \"text\", \"hovertext\": \"3418\", \"lat\": [19.441110000000002, 19.43425], \"line\": {\"color\": \"#c44267\", \"width\": 5.659877463156152}, \"lon\": [-99.16164, -99.162508], \"mode\": \"lines\", \"name\": \"3418\", \"text\": \"3418\", \"type\": \"scattermapbox\"}, {\"hoverinfo\": \"text\", \"hovertext\": \"3402\", \"lat\": [19.433571399999998, 19.441110000000002], \"line\": {\"color\": \"#c84465\", \"width\": 5.6333830104321905}, \"lon\": [-99.16780909999999, -99.16164], \"mode\": \"lines\", \"name\": \"3402\", \"text\": \"3402\", \"type\": \"scattermapbox\"}, {\"hoverinfo\": \"text\", \"hovertext\": \"3391\", \"lat\": [19.432888000000002, 19.433607000000002], \"line\": {\"color\": \"#cc4663\", \"width\": 5.615168074184468}, \"lon\": [-99.183605, -99.188528], \"mode\": \"lines\", \"name\": \"3391\", \"text\": \"3391\", \"type\": \"scattermapbox\"}, {\"hoverinfo\": \"text\", \"hovertext\": \"3373\", \"lat\": [19.433115, 19.422392000000002], \"line\": {\"color\": \"#d04962\", \"width\": 5.585361814870011}, \"lon\": [-99.143686, -99.150358], \"mode\": \"lines\", \"name\": \"3373\", \"text\": \"3373\", \"type\": \"scattermapbox\"}, {\"hoverinfo\": \"text\", \"hovertext\": \"3358\", \"lat\": [19.419225, 19.417715], \"line\": {\"color\": \"#d44c60\", \"width\": 5.560523265441298}, \"lon\": [-99.15509899999999, -99.162729], \"mode\": \"lines\", \"name\": \"3358\", \"text\": \"3358\", \"type\": \"scattermapbox\"}, {\"hoverinfo\": \"text\", \"hovertext\": \"3345\", \"lat\": [19.424674, 19.433571399999998], \"line\": {\"color\": \"#d7505e\", \"width\": 5.53899652260308}, \"lon\": [-99.163292, -99.16780909999999], \"mode\": \"lines\", \"name\": \"3345\", \"text\": \"3345\", \"type\": \"scattermapbox\"}, {\"hoverinfo\": \"text\", \"hovertext\": \"3338\", \"lat\": [19.429115, 19.444031], \"line\": {\"color\": \"#da545d\", \"width\": 5.527405199536347}, \"lon\": [-99.162614, -99.152187], \"mode\": \"lines\", \"name\": \"3338\", \"text\": \"3338\", \"type\": \"scattermapbox\"}, {\"hoverinfo\": \"text\", \"hovertext\": \"3313\", \"lat\": [19.410529, 19.407447], \"line\": {\"color\": \"#dc585c\", \"width\": 5.486007617155159}, \"lon\": [-99.160873, -99.15571700000001], \"mode\": \"lines\", \"name\": \"3313\", \"text\": \"3313\", \"type\": \"scattermapbox\"}, {\"hoverinfo\": \"text\", \"hovertext\": \"3234\", \"lat\": [19.443928, 19.43676], \"line\": {\"color\": \"#de5d5c\", \"width\": 5.355191256830602}, \"lon\": [-99.152525, -99.15387], \"mode\": \"lines\", \"name\": \"3234\", \"text\": \"3234\", \"type\": \"scattermapbox\"}, {\"hoverinfo\": \"text\", \"hovertext\": \"3140\", \"lat\": [19.363741, 19.363741], \"line\": {\"color\": \"#e0615c\", \"width\": 5.199536347077331}, \"lon\": [-99.17126800000001, -99.17126800000001], \"mode\": \"lines\", \"name\": \"3140\", \"text\": \"3140\", \"type\": \"scattermapbox\"}, {\"hoverinfo\": \"text\", \"hovertext\": \"3111\", \"lat\": [19.430625, 19.430625], \"line\": {\"color\": \"#e2665c\", \"width\": 5.151515151515151}, \"lon\": [-99.14248, -99.14248], \"mode\": \"lines\", \"name\": \"3111\", \"text\": \"3111\", \"type\": \"scattermapbox\"}, {\"hoverinfo\": \"text\", \"hovertext\": \"3097\", \"lat\": [19.435354, 19.435354], \"line\": {\"color\": \"#e36b5d\", \"width\": 5.128332505381685}, \"lon\": [-99.14774200000001, -99.14774200000001], \"mode\": \"lines\", \"name\": \"3097\", \"text\": \"3097\", \"type\": \"scattermapbox\"}, {\"hoverinfo\": \"text\", \"hovertext\": \"3084\", \"lat\": [19.415905, 19.407447], \"line\": {\"color\": \"#e5705e\", \"width\": 5.106805762543467}, \"lon\": [-99.15954, -99.15571700000001], \"mode\": \"lines\", \"name\": \"3084\", \"text\": \"3084\", \"type\": \"scattermapbox\"}, {\"hoverinfo\": \"text\", \"hovertext\": \"3049\", \"lat\": [19.424725, 19.424725], \"line\": {\"color\": \"#e67560\", \"width\": 5.048849147209803}, \"lon\": [-99.163331, -99.163331], \"mode\": \"lines\", \"name\": \"3049\", \"text\": \"3049\", \"type\": \"scattermapbox\"}, {\"hoverinfo\": \"text\", \"hovertext\": \"3011\", \"lat\": [19.429115, 19.433571399999998], \"line\": {\"color\": \"#e77a62\", \"width\": 4.9859248219903956}, \"lon\": [-99.162614, -99.16780909999999], \"mode\": \"lines\", \"name\": \"3011\", \"text\": \"3011\", \"type\": \"scattermapbox\"}, {\"hoverinfo\": \"text\", \"hovertext\": \"2994\", \"lat\": [19.4338, 19.4338], \"line\": {\"color\": \"#e87f64\", \"width\": 4.9577744659711875}, \"lon\": [-99.16622, -99.16622], \"mode\": \"lines\", \"name\": \"2994\", \"text\": \"2994\", \"type\": \"scattermapbox\"}, {\"hoverinfo\": \"text\", \"hovertext\": \"2989\", \"lat\": [19.433571399999998, 19.42995], \"line\": {\"color\": \"#e88466\", \"width\": 4.94949494949495}, \"lon\": [-99.16780909999999, -99.14591], \"mode\": \"lines\", \"name\": \"2989\", \"text\": \"2989\", \"type\": \"scattermapbox\"}, {\"hoverinfo\": \"text\", \"hovertext\": \"2988\", \"lat\": [19.43676, 19.43676], \"line\": {\"color\": \"#e98969\", \"width\": 4.947839046199702}, \"lon\": [-99.15387, -99.15387], \"mode\": \"lines\", \"name\": \"2988\", \"text\": \"2988\", \"type\": \"scattermapbox\"}, {\"hoverinfo\": \"text\", \"hovertext\": \"2985\", \"lat\": [19.429115, 19.435228], \"line\": {\"color\": \"#ea8e6c\", \"width\": 4.942871336313959}, \"lon\": [-99.162614, -99.146063], \"mode\": \"lines\", \"name\": \"2985\", \"text\": \"2985\", \"type\": \"scattermapbox\"}, {\"hoverinfo\": \"text\", \"hovertext\": \"2981\", \"lat\": [19.379269, 19.380598000000003], \"line\": {\"color\": \"#ea936f\", \"width\": 4.9362477231329684}, \"lon\": [-99.161169, -99.1669248], \"mode\": \"lines\", \"name\": \"2981\", \"text\": \"2981\", \"type\": \"scattermapbox\"}, {\"hoverinfo\": \"text\", \"hovertext\": \"2969\", \"lat\": [19.4338, 19.427305], \"line\": {\"color\": \"#eb9872\", \"width\": 4.916376883589998}, \"lon\": [-99.16622, -99.14953299999999], \"mode\": \"lines\", \"name\": \"2969\", \"text\": \"2969\", \"type\": \"scattermapbox\"}, {\"hoverinfo\": \"text\", \"hovertext\": \"2933\", \"lat\": [19.445039, 19.442338], \"line\": {\"color\": \"#eb9c75\", \"width\": 4.856764364961086}, \"lon\": [-99.194078, -99.202492], \"mode\": \"lines\", \"name\": \"2933\", \"text\": \"2933\", \"type\": \"scattermapbox\"}, {\"hoverinfo\": \"text\", \"hovertext\": \"2926\", \"lat\": [19.433607000000002, 19.435031], \"line\": {\"color\": \"#eca178\", \"width\": 4.845173041894354}, \"lon\": [-99.188528, -99.179838], \"mode\": \"lines\", \"name\": \"2926\", \"text\": \"2926\", \"type\": \"scattermapbox\"}, {\"hoverinfo\": \"text\", \"hovertext\": \"2903\", \"lat\": [19.406765, 19.411556], \"line\": {\"color\": \"#eca67b\", \"width\": 4.807087266103659}, \"lon\": [-99.178321, -99.17406], \"mode\": \"lines\", \"name\": \"2903\", \"text\": \"2903\", \"type\": \"scattermapbox\"}, {\"hoverinfo\": \"text\", \"hovertext\": \"2897\", \"lat\": [19.407447, 19.410529], \"line\": {\"color\": \"#edab7e\", \"width\": 4.7971518463321745}, \"lon\": [-99.15571700000001, -99.160873], \"mode\": \"lines\", \"name\": \"2897\", \"text\": \"2897\", \"type\": \"scattermapbox\"}, {\"hovertext\": [\"ID_estacion:1.0|n:18477\", \"ID_estacion:7.0|n:3819\", \"ID_estacion:18.0|n:6039\", \"ID_estacion:27.0|n:13343\", \"ID_estacion:33.0|n:5118\", \"ID_estacion:34.0|n:6537\", \"ID_estacion:35.0|n:3345\", \"ID_estacion:77.0|n:2903\", \"ID_estacion:82.0|n:3373\", \"ID_estacion:85.0|n:3971\", \"ID_estacion:96.0|n:3111\", \"ID_estacion:111.0|n:4976\", \"ID_estacion:135.0|n:3358\", \"ID_estacion:139.0|n:3512\", \"ID_estacion:141.0|n:3084\", \"ID_estacion:151.0|n:3313\", \"ID_estacion:158.0|n:10580\", \"ID_estacion:165.0|n:4113\", \"ID_estacion:174.0|n:17963\", \"ID_estacion:183.0|n:4511\", \"ID_estacion:206.0|n:3712\", \"ID_estacion:208.0|n:8191\", \"ID_estacion:211.0|n:8190\", \"ID_estacion:217.0|n:3391\", \"ID_estacion:257.0|n:5963\", \"ID_estacion:260.0|n:3097\", \"ID_estacion:270.0|n:6744\", \"ID_estacion:271.0|n:6670\", \"ID_estacion:359.0|n:2981\", \"ID_estacion:434.0|n:3140\", \"ID_estacion:449.0|n:3965\", \"ID_estacion:465.0|n:2933\"], \"lat\": [19.433571399999998, 19.425468, 19.42888, 19.429115, 19.424234, 19.424725, 19.424674, 19.406765, 19.433115, 19.43425, 19.430625, 19.438236899999996, 19.419225, 19.416128, 19.415905, 19.410529, 19.407447, 19.404268, 19.441110000000002, 19.43767, 19.435798000000002, 19.434182, 19.433607000000002, 19.432888000000002, 19.4338, 19.435354, 19.43676, 19.443928, 19.379269, 19.363741, 19.42018, 19.445039], \"lon\": [-99.16780909999999, -99.175166, -99.164176, -99.162614, -99.166431, -99.163331, -99.163292, -99.178321, -99.143686, -99.162508, -99.14248, -99.16594649999999, -99.15509899999999, -99.162097, -99.15954, -99.160873, -99.15571700000001, -99.160503, -99.16164, -99.16402, -99.201419, -99.189835, -99.188528, -99.183605, -99.16622, -99.14774200000001, -99.15387, -99.152525, -99.161169, -99.17126800000001, -99.17439300000001, -99.194078], \"marker\": {\"color\": \"white\", \"opacity\": 0.7, \"size\": [50.0, 10.334469881474265, 16.341938626400392, 36.10705201060778, 13.849650917356715, 17.689559993505437, 9.051794122422471, 7.855712507441684, 9.127563998484604, 10.74579206581155, 8.418574443903232, 13.46538940304162, 9.086972993451319, 9.50370731179304, 8.345510634843318, 8.965199978351464, 28.630188883476755, 11.130053580126644, 48.609081560859444, 12.207068247009795, 10.044920712236834, 22.165394815175624, 22.162688748173405, 9.176273204524545, 16.136277534231745, 8.380689505872166, 18.249715862964766, 18.049466904800564, 8.066785733614765, 8.497050386967581, 10.729555663798235, 7.936894517508253]}, \"mode\": \"markers\", \"name\": \"Origen\", \"text\": \"Origen\", \"type\": \"scattermapbox\"}, {\"hovertext\": [\"ID_estacion:1|n:18477\", \"ID_estacion:7|n:3819\", \"ID_estacion:18|n:6039\", \"ID_estacion:26|n:13343\", \"ID_estacion:27|n:5118\", \"ID_estacion:33|n:6537\", \"ID_estacion:34|n:3345\", \"ID_estacion:35|n:2903\", \"ID_estacion:43|n:3373\", \"ID_estacion:68|n:3971\", \"ID_estacion:85|n:3111\", \"ID_estacion:96|n:4976\", \"ID_estacion:99|n:3358\", \"ID_estacion:108|n:3512\", \"ID_estacion:111|n:3084\", \"ID_estacion:124|n:3313\", \"ID_estacion:136|n:10580\", \"ID_estacion:139|n:4113\", \"ID_estacion:141|n:17963\", \"ID_estacion:145|n:4511\", \"ID_estacion:151|n:3712\", \"ID_estacion:158|n:8191\", \"ID_estacion:163|n:8190\", \"ID_estacion:174|n:3391\", \"ID_estacion:183|n:5963\", \"ID_estacion:206|n:3097\", \"ID_estacion:208|n:6744\", \"ID_estacion:211|n:6670\", \"ID_estacion:217|n:2981\", \"ID_estacion:242|n:3140\", \"ID_estacion:257|n:3965\", \"ID_estacion:260|n:2933\", null, null, null, null, null, null, null], \"lat\": [19.433571399999998, 19.425468, 19.42888, 19.432685, 19.429115, 19.424234, 19.424725, 19.424674, 19.435228, 19.411556, 19.43425, 19.430625, 19.42995, 19.427305, 19.438236899999996, 19.422392000000002, 19.417715, 19.416128, 19.415905, 19.412860000000002, 19.410529, 19.407447, 19.405246, 19.441110000000002, 19.43767, 19.435798000000002, 19.434182, 19.433607000000002, 19.432888000000002, 19.440344, 19.4338, 19.435354, 19.444031, 19.43676, 19.380598000000003, 19.363741, 19.42018, 19.435031, 19.442338], \"lon\": [-99.16780909999999, -99.175166, -99.164176, -99.154726, -99.162614, -99.166431, -99.163331, -99.163292, -99.146063, -99.17406, -99.162508, -99.14248, -99.14591, -99.14953299999999, -99.16594649999999, -99.150358, -99.162729, -99.162097, -99.15954, -99.160661, -99.160873, -99.15571700000001, -99.15643100000001, -99.16164, -99.16402, -99.201419, -99.189835, -99.188528, -99.183605, -99.20105, -99.16622, -99.14774200000001, -99.152187, -99.15387, -99.1669248, -99.17126800000001, -99.17439300000001, -99.179838, -99.202492], \"marker\": {\"color\": \"red\", \"opacity\": 0.7, \"size\": [50.0, 8.137651821862347, 10.083102493074794, 7.3215427232047725, 8.54251012145749, 10.90560409119966, 6.496910291924142, 8.022586831451099, 6.360536969955252, 6.1858086511826125, 7.283187726401024, 6.629021947581504, 6.369060302578308, 6.3264436394630295, 11.367994886000426, 7.187300234391647, 7.155337737055188, 7.483486043042829, 8.921798423183464, 7.449392712550608, 6.173023652248029, 13.630939697421693, 8.764116769656937, 35.92584700617942, 11.116556573620286, 8.627743447688047, 7.909652674195611, 7.225655231195398, 11.216705731941188, 8.82591093117409, 6.379714468357128, 6.5991902834008105, 15.116130406989134, 13.258043895163008, 6.352013637332197, 6.690816109098657, 8.448753462603879, 6.234817813765183, 6.24973364585553]}, \"mode\": \"markers\", \"name\": \"Destino\", \"text\": \"Destino\", \"type\": \"scattermapbox\"}],\n",
              "                        {\"mapbox\": {\"accesstoken\": \"pk.eyJ1IjoiYXJ0ZWNrIiwiYSI6ImNqemhiZ2pwMDB1ZGczanFrbHcwdWd1M3kifQ.-25TFMLfltbaFcBKNY7AFQ\", \"center\": {\"lat\": 19.407447, \"lon\": -99.15571700000001}, \"style\": \"dark\", \"zoom\": 13}, \"margin\": {\"b\": 0, \"l\": 0, \"r\": 0, \"t\": 0}, \"template\": {\"data\": {\"bar\": [{\"error_x\": {\"color\": \"#2a3f5f\"}, \"error_y\": {\"color\": \"#2a3f5f\"}, \"marker\": {\"line\": {\"color\": \"#E5ECF6\", \"width\": 0.5}}, \"type\": \"bar\"}], \"barpolar\": [{\"marker\": {\"line\": {\"color\": \"#E5ECF6\", \"width\": 0.5}}, \"type\": \"barpolar\"}], \"carpet\": [{\"aaxis\": {\"endlinecolor\": \"#2a3f5f\", \"gridcolor\": \"white\", \"linecolor\": \"white\", \"minorgridcolor\": \"white\", \"startlinecolor\": \"#2a3f5f\"}, \"baxis\": {\"endlinecolor\": \"#2a3f5f\", \"gridcolor\": \"white\", \"linecolor\": \"white\", \"minorgridcolor\": \"white\", \"startlinecolor\": \"#2a3f5f\"}, \"type\": \"carpet\"}], \"choropleth\": [{\"colorbar\": {\"outlinewidth\": 0, \"ticks\": \"\"}, \"type\": \"choropleth\"}], \"contour\": [{\"colorbar\": {\"outlinewidth\": 0, \"ticks\": \"\"}, \"colorscale\": [[0.0, \"#0d0887\"], [0.1111111111111111, \"#46039f\"], [0.2222222222222222, \"#7201a8\"], [0.3333333333333333, \"#9c179e\"], [0.4444444444444444, \"#bd3786\"], [0.5555555555555556, \"#d8576b\"], [0.6666666666666666, \"#ed7953\"], [0.7777777777777778, \"#fb9f3a\"], [0.8888888888888888, \"#fdca26\"], [1.0, \"#f0f921\"]], \"type\": \"contour\"}], \"contourcarpet\": [{\"colorbar\": {\"outlinewidth\": 0, \"ticks\": \"\"}, \"type\": \"contourcarpet\"}], \"heatmap\": [{\"colorbar\": {\"outlinewidth\": 0, \"ticks\": \"\"}, \"colorscale\": [[0.0, \"#0d0887\"], [0.1111111111111111, \"#46039f\"], [0.2222222222222222, \"#7201a8\"], [0.3333333333333333, \"#9c179e\"], [0.4444444444444444, \"#bd3786\"], [0.5555555555555556, \"#d8576b\"], [0.6666666666666666, \"#ed7953\"], [0.7777777777777778, \"#fb9f3a\"], [0.8888888888888888, \"#fdca26\"], [1.0, \"#f0f921\"]], \"type\": \"heatmap\"}], \"heatmapgl\": [{\"colorbar\": {\"outlinewidth\": 0, \"ticks\": \"\"}, \"colorscale\": [[0.0, \"#0d0887\"], [0.1111111111111111, \"#46039f\"], [0.2222222222222222, \"#7201a8\"], [0.3333333333333333, \"#9c179e\"], [0.4444444444444444, \"#bd3786\"], [0.5555555555555556, \"#d8576b\"], [0.6666666666666666, \"#ed7953\"], [0.7777777777777778, \"#fb9f3a\"], [0.8888888888888888, \"#fdca26\"], [1.0, \"#f0f921\"]], \"type\": \"heatmapgl\"}], \"histogram\": [{\"marker\": {\"colorbar\": {\"outlinewidth\": 0, \"ticks\": \"\"}}, \"type\": \"histogram\"}], \"histogram2d\": [{\"colorbar\": {\"outlinewidth\": 0, \"ticks\": \"\"}, \"colorscale\": [[0.0, \"#0d0887\"], [0.1111111111111111, \"#46039f\"], [0.2222222222222222, \"#7201a8\"], [0.3333333333333333, \"#9c179e\"], [0.4444444444444444, \"#bd3786\"], [0.5555555555555556, \"#d8576b\"], [0.6666666666666666, \"#ed7953\"], [0.7777777777777778, \"#fb9f3a\"], [0.8888888888888888, \"#fdca26\"], [1.0, \"#f0f921\"]], \"type\": \"histogram2d\"}], \"histogram2dcontour\": [{\"colorbar\": {\"outlinewidth\": 0, \"ticks\": \"\"}, \"colorscale\": [[0.0, \"#0d0887\"], [0.1111111111111111, \"#46039f\"], [0.2222222222222222, \"#7201a8\"], [0.3333333333333333, \"#9c179e\"], [0.4444444444444444, \"#bd3786\"], [0.5555555555555556, \"#d8576b\"], [0.6666666666666666, \"#ed7953\"], [0.7777777777777778, \"#fb9f3a\"], [0.8888888888888888, \"#fdca26\"], [1.0, \"#f0f921\"]], \"type\": \"histogram2dcontour\"}], \"mesh3d\": [{\"colorbar\": {\"outlinewidth\": 0, \"ticks\": \"\"}, \"type\": \"mesh3d\"}], \"parcoords\": [{\"line\": {\"colorbar\": {\"outlinewidth\": 0, \"ticks\": \"\"}}, \"type\": \"parcoords\"}], \"pie\": [{\"automargin\": true, \"type\": \"pie\"}], \"scatter\": [{\"marker\": {\"colorbar\": {\"outlinewidth\": 0, \"ticks\": \"\"}}, \"type\": \"scatter\"}], \"scatter3d\": [{\"line\": {\"colorbar\": {\"outlinewidth\": 0, \"ticks\": \"\"}}, \"marker\": {\"colorbar\": {\"outlinewidth\": 0, \"ticks\": \"\"}}, \"type\": \"scatter3d\"}], \"scattercarpet\": [{\"marker\": {\"colorbar\": {\"outlinewidth\": 0, \"ticks\": \"\"}}, \"type\": \"scattercarpet\"}], \"scattergeo\": [{\"marker\": {\"colorbar\": {\"outlinewidth\": 0, \"ticks\": \"\"}}, \"type\": \"scattergeo\"}], \"scattergl\": [{\"marker\": {\"colorbar\": {\"outlinewidth\": 0, \"ticks\": \"\"}}, \"type\": \"scattergl\"}], \"scattermapbox\": [{\"marker\": {\"colorbar\": {\"outlinewidth\": 0, \"ticks\": \"\"}}, \"type\": \"scattermapbox\"}], \"scatterpolar\": [{\"marker\": {\"colorbar\": {\"outlinewidth\": 0, \"ticks\": \"\"}}, \"type\": \"scatterpolar\"}], \"scatterpolargl\": [{\"marker\": {\"colorbar\": {\"outlinewidth\": 0, \"ticks\": \"\"}}, \"type\": \"scatterpolargl\"}], \"scatterternary\": [{\"marker\": {\"colorbar\": {\"outlinewidth\": 0, \"ticks\": \"\"}}, \"type\": \"scatterternary\"}], \"surface\": [{\"colorbar\": {\"outlinewidth\": 0, \"ticks\": \"\"}, \"colorscale\": [[0.0, \"#0d0887\"], [0.1111111111111111, \"#46039f\"], [0.2222222222222222, \"#7201a8\"], [0.3333333333333333, \"#9c179e\"], [0.4444444444444444, \"#bd3786\"], [0.5555555555555556, \"#d8576b\"], [0.6666666666666666, \"#ed7953\"], [0.7777777777777778, \"#fb9f3a\"], [0.8888888888888888, \"#fdca26\"], [1.0, \"#f0f921\"]], \"type\": \"surface\"}], \"table\": [{\"cells\": {\"fill\": {\"color\": \"#EBF0F8\"}, \"line\": {\"color\": \"white\"}}, \"header\": {\"fill\": {\"color\": \"#C8D4E3\"}, \"line\": {\"color\": \"white\"}}, \"type\": \"table\"}]}, \"layout\": {\"annotationdefaults\": {\"arrowcolor\": \"#2a3f5f\", \"arrowhead\": 0, \"arrowwidth\": 1}, \"coloraxis\": {\"colorbar\": {\"outlinewidth\": 0, \"ticks\": \"\"}}, \"colorscale\": {\"diverging\": [[0, \"#8e0152\"], [0.1, \"#c51b7d\"], [0.2, \"#de77ae\"], [0.3, \"#f1b6da\"], [0.4, \"#fde0ef\"], [0.5, \"#f7f7f7\"], [0.6, \"#e6f5d0\"], [0.7, \"#b8e186\"], [0.8, \"#7fbc41\"], [0.9, \"#4d9221\"], [1, \"#276419\"]], \"sequential\": [[0.0, \"#0d0887\"], [0.1111111111111111, \"#46039f\"], [0.2222222222222222, \"#7201a8\"], [0.3333333333333333, \"#9c179e\"], [0.4444444444444444, \"#bd3786\"], [0.5555555555555556, \"#d8576b\"], [0.6666666666666666, \"#ed7953\"], [0.7777777777777778, \"#fb9f3a\"], [0.8888888888888888, \"#fdca26\"], [1.0, \"#f0f921\"]], \"sequentialminus\": [[0.0, \"#0d0887\"], [0.1111111111111111, \"#46039f\"], [0.2222222222222222, \"#7201a8\"], [0.3333333333333333, \"#9c179e\"], [0.4444444444444444, \"#bd3786\"], [0.5555555555555556, \"#d8576b\"], [0.6666666666666666, \"#ed7953\"], [0.7777777777777778, \"#fb9f3a\"], [0.8888888888888888, \"#fdca26\"], [1.0, \"#f0f921\"]]}, \"colorway\": [\"#636efa\", \"#EF553B\", \"#00cc96\", \"#ab63fa\", \"#FFA15A\", \"#19d3f3\", \"#FF6692\", \"#B6E880\", \"#FF97FF\", \"#FECB52\"], \"font\": {\"color\": \"#2a3f5f\"}, \"geo\": {\"bgcolor\": \"white\", \"lakecolor\": \"white\", \"landcolor\": \"#E5ECF6\", \"showlakes\": true, \"showland\": true, \"subunitcolor\": \"white\"}, \"hoverlabel\": {\"align\": \"left\"}, \"hovermode\": \"closest\", \"mapbox\": {\"style\": \"light\"}, \"paper_bgcolor\": \"white\", \"plot_bgcolor\": \"#E5ECF6\", \"polar\": {\"angularaxis\": {\"gridcolor\": \"white\", \"linecolor\": \"white\", \"ticks\": \"\"}, \"bgcolor\": \"#E5ECF6\", \"radialaxis\": {\"gridcolor\": \"white\", \"linecolor\": \"white\", \"ticks\": \"\"}}, \"scene\": {\"xaxis\": {\"backgroundcolor\": \"#E5ECF6\", \"gridcolor\": \"white\", \"gridwidth\": 2, \"linecolor\": \"white\", \"showbackground\": true, \"ticks\": \"\", \"zerolinecolor\": \"white\"}, \"yaxis\": {\"backgroundcolor\": \"#E5ECF6\", \"gridcolor\": \"white\", \"gridwidth\": 2, \"linecolor\": \"white\", \"showbackground\": true, \"ticks\": \"\", \"zerolinecolor\": \"white\"}, \"zaxis\": {\"backgroundcolor\": \"#E5ECF6\", \"gridcolor\": \"white\", \"gridwidth\": 2, \"linecolor\": \"white\", \"showbackground\": true, \"ticks\": \"\", \"zerolinecolor\": \"white\"}}, \"shapedefaults\": {\"line\": {\"color\": \"#2a3f5f\"}}, \"ternary\": {\"aaxis\": {\"gridcolor\": \"white\", \"linecolor\": \"white\", \"ticks\": \"\"}, \"baxis\": {\"gridcolor\": \"white\", \"linecolor\": \"white\", \"ticks\": \"\"}, \"bgcolor\": \"#E5ECF6\", \"caxis\": {\"gridcolor\": \"white\", \"linecolor\": \"white\", \"ticks\": \"\"}}, \"title\": {\"x\": 0.05}, \"xaxis\": {\"automargin\": true, \"gridcolor\": \"white\", \"linecolor\": \"white\", \"ticks\": \"\", \"title\": {\"standoff\": 15}, \"zerolinecolor\": \"white\", \"zerolinewidth\": 2}, \"yaxis\": {\"automargin\": true, \"gridcolor\": \"white\", \"linecolor\": \"white\", \"ticks\": \"\", \"title\": {\"standoff\": 15}, \"zerolinecolor\": \"white\", \"zerolinewidth\": 2}}}},\n",
              "                        {\"responsive\": true}\n",
              "                    ).then(function(){\n",
              "                            \n",
              "var gd = document.getElementById('6cb1a114-6cfe-497b-9c21-5f5216b5cf48');\n",
              "var x = new MutationObserver(function (mutations, observer) {{\n",
              "        var display = window.getComputedStyle(gd).display;\n",
              "        if (!display || display === 'none') {{\n",
              "            console.log([gd, 'removed!']);\n",
              "            Plotly.purge(gd);\n",
              "            observer.disconnect();\n",
              "        }}\n",
              "}});\n",
              "\n",
              "// Listen for the removal of the full notebook cells\n",
              "var notebookContainer = gd.closest('#notebook-container');\n",
              "if (notebookContainer) {{\n",
              "    x.observe(notebookContainer, {childList: true});\n",
              "}}\n",
              "\n",
              "// Listen for the clearing of the current output cell\n",
              "var outputEl = gd.closest('.output');\n",
              "if (outputEl) {{\n",
              "    x.observe(outputEl, {childList: true});\n",
              "}}\n",
              "\n",
              "                        })\n",
              "                };\n",
              "                \n",
              "            </script>\n",
              "        </div>\n",
              "</body>\n",
              "</html>"
            ]
          },
          "metadata": {
            "tags": []
          }
        },
        {
          "output_type": "display_data",
          "data": {
            "text/html": [
              "<html>\n",
              "<head><meta charset=\"utf-8\" /></head>\n",
              "<body>\n",
              "    <div>\n",
              "            <script src=\"https://cdnjs.cloudflare.com/ajax/libs/mathjax/2.7.5/MathJax.js?config=TeX-AMS-MML_SVG\"></script><script type=\"text/javascript\">if (window.MathJax) {MathJax.Hub.Config({SVG: {font: \"STIX-Web\"}});}</script>\n",
              "                <script type=\"text/javascript\">window.PlotlyConfig = {MathJaxConfig: 'local'};</script>\n",
              "        <script src=\"https://cdn.plot.ly/plotly-latest.min.js\"></script>    \n",
              "            <div id=\"e2f55130-0097-44c0-8aac-aef8a9317358\" class=\"plotly-graph-div\" style=\"height:525px; width:100%;\"></div>\n",
              "            <script type=\"text/javascript\">\n",
              "                \n",
              "                    window.PLOTLYENV=window.PLOTLYENV || {};\n",
              "                    \n",
              "                if (document.getElementById(\"e2f55130-0097-44c0-8aac-aef8a9317358\")) {\n",
              "                    Plotly.newPlot(\n",
              "                        'e2f55130-0097-44c0-8aac-aef8a9317358',\n",
              "                        [{\"lat\": [19.42888, 19.433571399999998], \"line\": {\"color\": \"#4f2463\", \"width\": 10.0}, \"lon\": [-99.164176, -99.16780909999999], \"mode\": \"lines\", \"name\": \"6039|19.42888|-99.164176\", \"text\": \"6039\", \"type\": \"scattermapbox\"}, {\"hoverinfo\": \"text\", \"hovertext\": \"5335\", \"lat\": [19.441110000000002, 19.438236899999996], \"line\": {\"color\": \"#542665\", \"width\": 8.83424408014572}, \"lon\": [-99.16164, -99.16594649999999], \"mode\": \"lines\", \"name\": \"5335\", \"text\": \"5335\", \"type\": \"scattermapbox\"}, {\"hoverinfo\": \"text\", \"hovertext\": \"5264\", \"lat\": [19.433607000000002, 19.432888000000002], \"line\": {\"color\": \"#582766\", \"width\": 8.716674946183144}, \"lon\": [-99.188528, -99.183605], \"mode\": \"lines\", \"name\": \"5264\", \"text\": \"5264\", \"type\": \"scattermapbox\"}, {\"hoverinfo\": \"text\", \"hovertext\": \"5217\", \"lat\": [19.441110000000002, 19.43767], \"line\": {\"color\": \"#5d2868\", \"width\": 8.638847491306507}, \"lon\": [-99.16164, -99.16402], \"mode\": \"lines\", \"name\": \"5217\", \"text\": \"5217\", \"type\": \"scattermapbox\"}, {\"hoverinfo\": \"text\", \"hovertext\": \"5118\", \"lat\": [19.424234, 19.424234], \"line\": {\"color\": \"#62296a\", \"width\": 8.474913065077}, \"lon\": [-99.166431, -99.166431], \"mode\": \"lines\", \"name\": \"5118\", \"text\": \"5118\", \"type\": \"scattermapbox\"}, {\"hoverinfo\": \"text\", \"hovertext\": \"4976\", \"lat\": [19.438236899999996, 19.441110000000002], \"line\": {\"color\": \"#662a6b\", \"width\": 8.239774797151846}, \"lon\": [-99.16594649999999, -99.16164], \"mode\": \"lines\", \"name\": \"4976\", \"text\": \"4976\", \"type\": \"scattermapbox\"}, {\"hoverinfo\": \"text\", \"hovertext\": \"4732\", \"lat\": [19.433571399999998, 19.42888], \"line\": {\"color\": \"#6b2b6c\", \"width\": 7.8357343931114425}, \"lon\": [-99.16780909999999, -99.164176], \"mode\": \"lines\", \"name\": \"4732\", \"text\": \"4732\", \"type\": \"scattermapbox\"}, {\"hoverinfo\": \"text\", \"hovertext\": \"4511\", \"lat\": [19.43767, 19.441110000000002], \"line\": {\"color\": \"#702c6e\", \"width\": 7.469779764861732}, \"lon\": [-99.16402, -99.16164], \"mode\": \"lines\", \"name\": \"4511\", \"text\": \"4511\", \"type\": \"scattermapbox\"}, {\"hoverinfo\": \"text\", \"hovertext\": \"4187\", \"lat\": [19.407447, 19.415905], \"line\": {\"color\": \"#752d6f\", \"width\": 6.933267097201523}, \"lon\": [-99.15571700000001, -99.15954], \"mode\": \"lines\", \"name\": \"4187\", \"text\": \"4187\", \"type\": \"scattermapbox\"}, {\"hoverinfo\": \"text\", \"hovertext\": \"4142\", \"lat\": [19.434182, 19.440344], \"line\": {\"color\": \"#792e6f\", \"width\": 6.858751448915383}, \"lon\": [-99.189835, -99.20105], \"mode\": \"lines\", \"name\": \"4142\", \"text\": \"4142\", \"type\": \"scattermapbox\"}, {\"hoverinfo\": \"text\", \"hovertext\": \"4113\", \"lat\": [19.404268, 19.405246], \"line\": {\"color\": \"#7e2f70\", \"width\": 6.810730253353205}, \"lon\": [-99.160503, -99.15643100000001], \"mode\": \"lines\", \"name\": \"4113\", \"text\": \"4113\", \"type\": \"scattermapbox\"}, {\"hoverinfo\": \"text\", \"hovertext\": \"4049\", \"lat\": [19.434182, 19.435798000000002], \"line\": {\"color\": \"#833070\", \"width\": 6.704752442457361}, \"lon\": [-99.189835, -99.201419], \"mode\": \"lines\", \"name\": \"4049\", \"text\": \"4049\", \"type\": \"scattermapbox\"}, {\"hoverinfo\": \"text\", \"hovertext\": \"4009\", \"lat\": [19.429115, 19.429115], \"line\": {\"color\": \"#873171\", \"width\": 6.638516310647459}, \"lon\": [-99.162614, -99.162614], \"mode\": \"lines\", \"name\": \"4009\", \"text\": \"4009\", \"type\": \"scattermapbox\"}, {\"hoverinfo\": \"text\", \"hovertext\": \"3993\", \"lat\": [19.441110000000002, 19.433571399999998], \"line\": {\"color\": \"#8c3271\", \"width\": 6.612021857923497}, \"lon\": [-99.16164, -99.16780909999999], \"mode\": \"lines\", \"name\": \"3993\", \"text\": \"3993\", \"type\": \"scattermapbox\"}, {\"hoverinfo\": \"text\", \"hovertext\": \"3971\", \"lat\": [19.43425, 19.441110000000002], \"line\": {\"color\": \"#913371\", \"width\": 6.575591985428051}, \"lon\": [-99.162508, -99.16164], \"mode\": \"lines\", \"name\": \"3971\", \"text\": \"3971\", \"type\": \"scattermapbox\"}, {\"hoverinfo\": \"text\", \"hovertext\": \"3965\", \"lat\": [19.42018, 19.42018], \"line\": {\"color\": \"#953470\", \"width\": 6.565656565656566}, \"lon\": [-99.17439300000001, -99.17439300000001], \"mode\": \"lines\", \"name\": \"3965\", \"text\": \"3965\", \"type\": \"scattermapbox\"}, {\"hoverinfo\": \"text\", \"hovertext\": \"3819\", \"lat\": [19.425468, 19.425468], \"line\": {\"color\": \"#9a3670\", \"width\": 6.323894684550422}, \"lon\": [-99.175166, -99.175166], \"mode\": \"lines\", \"name\": \"3819\", \"text\": \"3819\", \"type\": \"scattermapbox\"}, {\"hoverinfo\": \"text\", \"hovertext\": \"3765\", \"lat\": [19.433571399999998, 19.424674], \"line\": {\"color\": \"#9f376f\", \"width\": 6.234475906607054}, \"lon\": [-99.16780909999999, -99.163292], \"mode\": \"lines\", \"name\": \"3765\", \"text\": \"3765\", \"type\": \"scattermapbox\"}, {\"hoverinfo\": \"text\", \"hovertext\": \"3756\", \"lat\": [19.43676, 19.444031], \"line\": {\"color\": \"#a3386f\", \"width\": 6.219572776949827}, \"lon\": [-99.15387, -99.152187], \"mode\": \"lines\", \"name\": \"3756\", \"text\": \"3756\", \"type\": \"scattermapbox\"}, {\"hoverinfo\": \"text\", \"hovertext\": \"3712\", \"lat\": [19.435798000000002, 19.434182], \"line\": {\"color\": \"#a8396e\", \"width\": 6.146713031958933}, \"lon\": [-99.201419, -99.189835], \"mode\": \"lines\", \"name\": \"3712\", \"text\": \"3712\", \"type\": \"scattermapbox\"}, {\"hoverinfo\": \"text\", \"hovertext\": \"3589\", \"lat\": [19.433571399999998, 19.433571399999998], \"line\": {\"color\": \"#ad3b6d\", \"width\": 5.943036926643483}, \"lon\": [-99.16780909999999, -99.16780909999999], \"mode\": \"lines\", \"name\": \"3589\", \"text\": \"3589\", \"type\": \"scattermapbox\"}, {\"hoverinfo\": \"text\", \"hovertext\": \"3512\", \"lat\": [19.416128, 19.416128], \"line\": {\"color\": \"#b13c6c\", \"width\": 5.815532372909422}, \"lon\": [-99.162097, -99.162097], \"mode\": \"lines\", \"name\": \"3512\", \"text\": \"3512\", \"type\": \"scattermapbox\"}, {\"hoverinfo\": \"text\", \"hovertext\": \"3496\", \"lat\": [19.407447, 19.412860000000002], \"line\": {\"color\": \"#b63d6b\", \"width\": 5.789037920185462}, \"lon\": [-99.15571700000001, -99.160661], \"mode\": \"lines\", \"name\": \"3496\", \"text\": \"3496\", \"type\": \"scattermapbox\"}, {\"hoverinfo\": \"text\", \"hovertext\": \"3488\", \"lat\": [19.424725, 19.433571399999998], \"line\": {\"color\": \"#bb3f6a\", \"width\": 5.77579069382348}, \"lon\": [-99.163331, -99.16780909999999], \"mode\": \"lines\", \"name\": \"3488\", \"text\": \"3488\", \"type\": \"scattermapbox\"}, {\"hoverinfo\": \"text\", \"hovertext\": \"3436\", \"lat\": [19.443928, 19.432685], \"line\": {\"color\": \"#c04068\", \"width\": 5.689683722470607}, \"lon\": [-99.152525, -99.154726], \"mode\": \"lines\", \"name\": \"3436\", \"text\": \"3436\", \"type\": \"scattermapbox\"}, {\"hoverinfo\": \"text\", \"hovertext\": \"3418\", \"lat\": [19.441110000000002, 19.43425], \"line\": {\"color\": \"#c44267\", \"width\": 5.659877463156152}, \"lon\": [-99.16164, -99.162508], \"mode\": \"lines\", \"name\": \"3418\", \"text\": \"3418\", \"type\": \"scattermapbox\"}, {\"hoverinfo\": \"text\", \"hovertext\": \"3402\", \"lat\": [19.433571399999998, 19.441110000000002], \"line\": {\"color\": \"#c84465\", \"width\": 5.6333830104321905}, \"lon\": [-99.16780909999999, -99.16164], \"mode\": \"lines\", \"name\": \"3402\", \"text\": \"3402\", \"type\": \"scattermapbox\"}, {\"hoverinfo\": \"text\", \"hovertext\": \"3391\", \"lat\": [19.432888000000002, 19.433607000000002], \"line\": {\"color\": \"#cc4663\", \"width\": 5.615168074184468}, \"lon\": [-99.183605, -99.188528], \"mode\": \"lines\", \"name\": \"3391\", \"text\": \"3391\", \"type\": \"scattermapbox\"}, {\"hoverinfo\": \"text\", \"hovertext\": \"3373\", \"lat\": [19.433115, 19.422392000000002], \"line\": {\"color\": \"#d04962\", \"width\": 5.585361814870011}, \"lon\": [-99.143686, -99.150358], \"mode\": \"lines\", \"name\": \"3373\", \"text\": \"3373\", \"type\": \"scattermapbox\"}, {\"hoverinfo\": \"text\", \"hovertext\": \"3358\", \"lat\": [19.419225, 19.417715], \"line\": {\"color\": \"#d44c60\", \"width\": 5.560523265441298}, \"lon\": [-99.15509899999999, -99.162729], \"mode\": \"lines\", \"name\": \"3358\", \"text\": \"3358\", \"type\": \"scattermapbox\"}, {\"hoverinfo\": \"text\", \"hovertext\": \"3345\", \"lat\": [19.424674, 19.433571399999998], \"line\": {\"color\": \"#d7505e\", \"width\": 5.53899652260308}, \"lon\": [-99.163292, -99.16780909999999], \"mode\": \"lines\", \"name\": \"3345\", \"text\": \"3345\", \"type\": \"scattermapbox\"}, {\"hoverinfo\": \"text\", \"hovertext\": \"3338\", \"lat\": [19.429115, 19.444031], \"line\": {\"color\": \"#da545d\", \"width\": 5.527405199536347}, \"lon\": [-99.162614, -99.152187], \"mode\": \"lines\", \"name\": \"3338\", \"text\": \"3338\", \"type\": \"scattermapbox\"}, {\"hoverinfo\": \"text\", \"hovertext\": \"3313\", \"lat\": [19.410529, 19.407447], \"line\": {\"color\": \"#dc585c\", \"width\": 5.486007617155159}, \"lon\": [-99.160873, -99.15571700000001], \"mode\": \"lines\", \"name\": \"3313\", \"text\": \"3313\", \"type\": \"scattermapbox\"}, {\"hoverinfo\": \"text\", \"hovertext\": \"3234\", \"lat\": [19.443928, 19.43676], \"line\": {\"color\": \"#de5d5c\", \"width\": 5.355191256830602}, \"lon\": [-99.152525, -99.15387], \"mode\": \"lines\", \"name\": \"3234\", \"text\": \"3234\", \"type\": \"scattermapbox\"}, {\"hoverinfo\": \"text\", \"hovertext\": \"3140\", \"lat\": [19.363741, 19.363741], \"line\": {\"color\": \"#e0615c\", \"width\": 5.199536347077331}, \"lon\": [-99.17126800000001, -99.17126800000001], \"mode\": \"lines\", \"name\": \"3140\", \"text\": \"3140\", \"type\": \"scattermapbox\"}, {\"hoverinfo\": \"text\", \"hovertext\": \"3111\", \"lat\": [19.430625, 19.430625], \"line\": {\"color\": \"#e2665c\", \"width\": 5.151515151515151}, \"lon\": [-99.14248, -99.14248], \"mode\": \"lines\", \"name\": \"3111\", \"text\": \"3111\", \"type\": \"scattermapbox\"}, {\"hoverinfo\": \"text\", \"hovertext\": \"3097\", \"lat\": [19.435354, 19.435354], \"line\": {\"color\": \"#e36b5d\", \"width\": 5.128332505381685}, \"lon\": [-99.14774200000001, -99.14774200000001], \"mode\": \"lines\", \"name\": \"3097\", \"text\": \"3097\", \"type\": \"scattermapbox\"}, {\"hoverinfo\": \"text\", \"hovertext\": \"3084\", \"lat\": [19.415905, 19.407447], \"line\": {\"color\": \"#e5705e\", \"width\": 5.106805762543467}, \"lon\": [-99.15954, -99.15571700000001], \"mode\": \"lines\", \"name\": \"3084\", \"text\": \"3084\", \"type\": \"scattermapbox\"}, {\"hoverinfo\": \"text\", \"hovertext\": \"3049\", \"lat\": [19.424725, 19.424725], \"line\": {\"color\": \"#e67560\", \"width\": 5.048849147209803}, \"lon\": [-99.163331, -99.163331], \"mode\": \"lines\", \"name\": \"3049\", \"text\": \"3049\", \"type\": \"scattermapbox\"}, {\"hoverinfo\": \"text\", \"hovertext\": \"3011\", \"lat\": [19.429115, 19.433571399999998], \"line\": {\"color\": \"#e77a62\", \"width\": 4.9859248219903956}, \"lon\": [-99.162614, -99.16780909999999], \"mode\": \"lines\", \"name\": \"3011\", \"text\": \"3011\", \"type\": \"scattermapbox\"}, {\"hoverinfo\": \"text\", \"hovertext\": \"2994\", \"lat\": [19.4338, 19.4338], \"line\": {\"color\": \"#e87f64\", \"width\": 4.9577744659711875}, \"lon\": [-99.16622, -99.16622], \"mode\": \"lines\", \"name\": \"2994\", \"text\": \"2994\", \"type\": \"scattermapbox\"}, {\"hoverinfo\": \"text\", \"hovertext\": \"2989\", \"lat\": [19.433571399999998, 19.42995], \"line\": {\"color\": \"#e88466\", \"width\": 4.94949494949495}, \"lon\": [-99.16780909999999, -99.14591], \"mode\": \"lines\", \"name\": \"2989\", \"text\": \"2989\", \"type\": \"scattermapbox\"}, {\"hoverinfo\": \"text\", \"hovertext\": \"2988\", \"lat\": [19.43676, 19.43676], \"line\": {\"color\": \"#e98969\", \"width\": 4.947839046199702}, \"lon\": [-99.15387, -99.15387], \"mode\": \"lines\", \"name\": \"2988\", \"text\": \"2988\", \"type\": \"scattermapbox\"}, {\"hoverinfo\": \"text\", \"hovertext\": \"2985\", \"lat\": [19.429115, 19.435228], \"line\": {\"color\": \"#ea8e6c\", \"width\": 4.942871336313959}, \"lon\": [-99.162614, -99.146063], \"mode\": \"lines\", \"name\": \"2985\", \"text\": \"2985\", \"type\": \"scattermapbox\"}, {\"hoverinfo\": \"text\", \"hovertext\": \"2981\", \"lat\": [19.379269, 19.380598000000003], \"line\": {\"color\": \"#ea936f\", \"width\": 4.9362477231329684}, \"lon\": [-99.161169, -99.1669248], \"mode\": \"lines\", \"name\": \"2981\", \"text\": \"2981\", \"type\": \"scattermapbox\"}, {\"hoverinfo\": \"text\", \"hovertext\": \"2969\", \"lat\": [19.4338, 19.427305], \"line\": {\"color\": \"#eb9872\", \"width\": 4.916376883589998}, \"lon\": [-99.16622, -99.14953299999999], \"mode\": \"lines\", \"name\": \"2969\", \"text\": \"2969\", \"type\": \"scattermapbox\"}, {\"hoverinfo\": \"text\", \"hovertext\": \"2933\", \"lat\": [19.445039, 19.442338], \"line\": {\"color\": \"#eb9c75\", \"width\": 4.856764364961086}, \"lon\": [-99.194078, -99.202492], \"mode\": \"lines\", \"name\": \"2933\", \"text\": \"2933\", \"type\": \"scattermapbox\"}, {\"hoverinfo\": \"text\", \"hovertext\": \"2926\", \"lat\": [19.433607000000002, 19.435031], \"line\": {\"color\": \"#eca178\", \"width\": 4.845173041894354}, \"lon\": [-99.188528, -99.179838], \"mode\": \"lines\", \"name\": \"2926\", \"text\": \"2926\", \"type\": \"scattermapbox\"}, {\"hoverinfo\": \"text\", \"hovertext\": \"2903\", \"lat\": [19.406765, 19.411556], \"line\": {\"color\": \"#eca67b\", \"width\": 4.807087266103659}, \"lon\": [-99.178321, -99.17406], \"mode\": \"lines\", \"name\": \"2903\", \"text\": \"2903\", \"type\": \"scattermapbox\"}, {\"hoverinfo\": \"text\", \"hovertext\": \"2897\", \"lat\": [19.407447, 19.410529], \"line\": {\"color\": \"#edab7e\", \"width\": 4.7971518463321745}, \"lon\": [-99.15571700000001, -99.160873], \"mode\": \"lines\", \"name\": \"2897\", \"text\": \"2897\", \"type\": \"scattermapbox\"}, {\"hovertext\": [\"ID_estacion:1.0|n:18477\", \"ID_estacion:7.0|n:3819\", \"ID_estacion:18.0|n:6039\", \"ID_estacion:27.0|n:13343\", \"ID_estacion:33.0|n:5118\", \"ID_estacion:34.0|n:6537\", \"ID_estacion:35.0|n:3345\", \"ID_estacion:77.0|n:2903\", \"ID_estacion:82.0|n:3373\", \"ID_estacion:85.0|n:3971\", \"ID_estacion:96.0|n:3111\", \"ID_estacion:111.0|n:4976\", \"ID_estacion:135.0|n:3358\", \"ID_estacion:139.0|n:3512\", \"ID_estacion:141.0|n:3084\", \"ID_estacion:151.0|n:3313\", \"ID_estacion:158.0|n:10580\", \"ID_estacion:165.0|n:4113\", \"ID_estacion:174.0|n:17963\", \"ID_estacion:183.0|n:4511\", \"ID_estacion:206.0|n:3712\", \"ID_estacion:208.0|n:8191\", \"ID_estacion:211.0|n:8190\", \"ID_estacion:217.0|n:3391\", \"ID_estacion:257.0|n:5963\", \"ID_estacion:260.0|n:3097\", \"ID_estacion:270.0|n:6744\", \"ID_estacion:271.0|n:6670\", \"ID_estacion:359.0|n:2981\", \"ID_estacion:434.0|n:3140\", \"ID_estacion:449.0|n:3965\", \"ID_estacion:465.0|n:2933\"], \"lat\": [19.433571399999998, 19.425468, 19.42888, 19.429115, 19.424234, 19.424725, 19.424674, 19.406765, 19.433115, 19.43425, 19.430625, 19.438236899999996, 19.419225, 19.416128, 19.415905, 19.410529, 19.407447, 19.404268, 19.441110000000002, 19.43767, 19.435798000000002, 19.434182, 19.433607000000002, 19.432888000000002, 19.4338, 19.435354, 19.43676, 19.443928, 19.379269, 19.363741, 19.42018, 19.445039], \"lon\": [-99.16780909999999, -99.175166, -99.164176, -99.162614, -99.166431, -99.163331, -99.163292, -99.178321, -99.143686, -99.162508, -99.14248, -99.16594649999999, -99.15509899999999, -99.162097, -99.15954, -99.160873, -99.15571700000001, -99.160503, -99.16164, -99.16402, -99.201419, -99.189835, -99.188528, -99.183605, -99.16622, -99.14774200000001, -99.15387, -99.152525, -99.161169, -99.17126800000001, -99.17439300000001, -99.194078], \"marker\": {\"color\": \"white\", \"opacity\": 0.7, \"size\": [50.0, 10.334469881474265, 16.341938626400392, 36.10705201060778, 13.849650917356715, 17.689559993505437, 9.051794122422471, 7.855712507441684, 9.127563998484604, 10.74579206581155, 8.418574443903232, 13.46538940304162, 9.086972993451319, 9.50370731179304, 8.345510634843318, 8.965199978351464, 28.630188883476755, 11.130053580126644, 48.609081560859444, 12.207068247009795, 10.044920712236834, 22.165394815175624, 22.162688748173405, 9.176273204524545, 16.136277534231745, 8.380689505872166, 18.249715862964766, 18.049466904800564, 8.066785733614765, 8.497050386967581, 10.729555663798235, 7.936894517508253]}, \"mode\": \"markers\", \"name\": \"Origen\", \"text\": \"Origen\", \"type\": \"scattermapbox\"}, {\"hovertext\": [\"ID_estacion:1|n:18477\", \"ID_estacion:7|n:3819\", \"ID_estacion:18|n:6039\", \"ID_estacion:26|n:13343\", \"ID_estacion:27|n:5118\", \"ID_estacion:33|n:6537\", \"ID_estacion:34|n:3345\", \"ID_estacion:35|n:2903\", \"ID_estacion:43|n:3373\", \"ID_estacion:68|n:3971\", \"ID_estacion:85|n:3111\", \"ID_estacion:96|n:4976\", \"ID_estacion:99|n:3358\", \"ID_estacion:108|n:3512\", \"ID_estacion:111|n:3084\", \"ID_estacion:124|n:3313\", \"ID_estacion:136|n:10580\", \"ID_estacion:139|n:4113\", \"ID_estacion:141|n:17963\", \"ID_estacion:145|n:4511\", \"ID_estacion:151|n:3712\", \"ID_estacion:158|n:8191\", \"ID_estacion:163|n:8190\", \"ID_estacion:174|n:3391\", \"ID_estacion:183|n:5963\", \"ID_estacion:206|n:3097\", \"ID_estacion:208|n:6744\", \"ID_estacion:211|n:6670\", \"ID_estacion:217|n:2981\", \"ID_estacion:242|n:3140\", \"ID_estacion:257|n:3965\", \"ID_estacion:260|n:2933\", null, null, null, null, null, null, null], \"lat\": [19.433571399999998, 19.425468, 19.42888, 19.432685, 19.429115, 19.424234, 19.424725, 19.424674, 19.435228, 19.411556, 19.43425, 19.430625, 19.42995, 19.427305, 19.438236899999996, 19.422392000000002, 19.417715, 19.416128, 19.415905, 19.412860000000002, 19.410529, 19.407447, 19.405246, 19.441110000000002, 19.43767, 19.435798000000002, 19.434182, 19.433607000000002, 19.432888000000002, 19.440344, 19.4338, 19.435354, 19.444031, 19.43676, 19.380598000000003, 19.363741, 19.42018, 19.435031, 19.442338], \"lon\": [-99.16780909999999, -99.175166, -99.164176, -99.154726, -99.162614, -99.166431, -99.163331, -99.163292, -99.146063, -99.17406, -99.162508, -99.14248, -99.14591, -99.14953299999999, -99.16594649999999, -99.150358, -99.162729, -99.162097, -99.15954, -99.160661, -99.160873, -99.15571700000001, -99.15643100000001, -99.16164, -99.16402, -99.201419, -99.189835, -99.188528, -99.183605, -99.20105, -99.16622, -99.14774200000001, -99.152187, -99.15387, -99.1669248, -99.17126800000001, -99.17439300000001, -99.179838, -99.202492], \"marker\": {\"color\": \"red\", \"opacity\": 0.7, \"size\": [50.0, 8.137651821862347, 10.083102493074794, 7.3215427232047725, 8.54251012145749, 10.90560409119966, 6.496910291924142, 8.022586831451099, 6.360536969955252, 6.1858086511826125, 7.283187726401024, 6.629021947581504, 6.369060302578308, 6.3264436394630295, 11.367994886000426, 7.187300234391647, 7.155337737055188, 7.483486043042829, 8.921798423183464, 7.449392712550608, 6.173023652248029, 13.630939697421693, 8.764116769656937, 35.92584700617942, 11.116556573620286, 8.627743447688047, 7.909652674195611, 7.225655231195398, 11.216705731941188, 8.82591093117409, 6.379714468357128, 6.5991902834008105, 15.116130406989134, 13.258043895163008, 6.352013637332197, 6.690816109098657, 8.448753462603879, 6.234817813765183, 6.24973364585553]}, \"mode\": \"markers\", \"name\": \"Destino\", \"text\": \"Destino\", \"type\": \"scattermapbox\"}],\n",
              "                        {\"mapbox\": {\"accesstoken\": \"pk.eyJ1IjoiYXJ0ZWNrIiwiYSI6ImNqemhiZ2pwMDB1ZGczanFrbHcwdWd1M3kifQ.-25TFMLfltbaFcBKNY7AFQ\", \"center\": {\"lat\": 19.407447, \"lon\": -99.15571700000001}, \"style\": \"dark\", \"zoom\": 13}, \"margin\": {\"b\": 0, \"l\": 0, \"r\": 0, \"t\": 0}, \"template\": {\"data\": {\"bar\": [{\"error_x\": {\"color\": \"#2a3f5f\"}, \"error_y\": {\"color\": \"#2a3f5f\"}, \"marker\": {\"line\": {\"color\": \"#E5ECF6\", \"width\": 0.5}}, \"type\": \"bar\"}], \"barpolar\": [{\"marker\": {\"line\": {\"color\": \"#E5ECF6\", \"width\": 0.5}}, \"type\": \"barpolar\"}], \"carpet\": [{\"aaxis\": {\"endlinecolor\": \"#2a3f5f\", \"gridcolor\": \"white\", \"linecolor\": \"white\", \"minorgridcolor\": \"white\", \"startlinecolor\": \"#2a3f5f\"}, \"baxis\": {\"endlinecolor\": \"#2a3f5f\", \"gridcolor\": \"white\", \"linecolor\": \"white\", \"minorgridcolor\": \"white\", \"startlinecolor\": \"#2a3f5f\"}, \"type\": \"carpet\"}], \"choropleth\": [{\"colorbar\": {\"outlinewidth\": 0, \"ticks\": \"\"}, \"type\": \"choropleth\"}], \"contour\": [{\"colorbar\": {\"outlinewidth\": 0, \"ticks\": \"\"}, \"colorscale\": [[0.0, \"#0d0887\"], [0.1111111111111111, \"#46039f\"], [0.2222222222222222, \"#7201a8\"], [0.3333333333333333, \"#9c179e\"], [0.4444444444444444, \"#bd3786\"], [0.5555555555555556, \"#d8576b\"], [0.6666666666666666, \"#ed7953\"], [0.7777777777777778, \"#fb9f3a\"], [0.8888888888888888, \"#fdca26\"], [1.0, \"#f0f921\"]], \"type\": \"contour\"}], \"contourcarpet\": [{\"colorbar\": {\"outlinewidth\": 0, \"ticks\": \"\"}, \"type\": \"contourcarpet\"}], \"heatmap\": [{\"colorbar\": {\"outlinewidth\": 0, \"ticks\": \"\"}, \"colorscale\": [[0.0, \"#0d0887\"], [0.1111111111111111, \"#46039f\"], [0.2222222222222222, \"#7201a8\"], [0.3333333333333333, \"#9c179e\"], [0.4444444444444444, \"#bd3786\"], [0.5555555555555556, \"#d8576b\"], [0.6666666666666666, \"#ed7953\"], [0.7777777777777778, \"#fb9f3a\"], [0.8888888888888888, \"#fdca26\"], [1.0, \"#f0f921\"]], \"type\": \"heatmap\"}], \"heatmapgl\": [{\"colorbar\": {\"outlinewidth\": 0, \"ticks\": \"\"}, \"colorscale\": [[0.0, \"#0d0887\"], [0.1111111111111111, \"#46039f\"], [0.2222222222222222, \"#7201a8\"], [0.3333333333333333, \"#9c179e\"], [0.4444444444444444, \"#bd3786\"], [0.5555555555555556, \"#d8576b\"], [0.6666666666666666, \"#ed7953\"], [0.7777777777777778, \"#fb9f3a\"], [0.8888888888888888, \"#fdca26\"], [1.0, \"#f0f921\"]], \"type\": \"heatmapgl\"}], \"histogram\": [{\"marker\": {\"colorbar\": {\"outlinewidth\": 0, \"ticks\": \"\"}}, \"type\": \"histogram\"}], \"histogram2d\": [{\"colorbar\": {\"outlinewidth\": 0, \"ticks\": \"\"}, \"colorscale\": [[0.0, \"#0d0887\"], [0.1111111111111111, \"#46039f\"], [0.2222222222222222, \"#7201a8\"], [0.3333333333333333, \"#9c179e\"], [0.4444444444444444, \"#bd3786\"], [0.5555555555555556, \"#d8576b\"], [0.6666666666666666, \"#ed7953\"], [0.7777777777777778, \"#fb9f3a\"], [0.8888888888888888, \"#fdca26\"], [1.0, \"#f0f921\"]], \"type\": \"histogram2d\"}], \"histogram2dcontour\": [{\"colorbar\": {\"outlinewidth\": 0, \"ticks\": \"\"}, \"colorscale\": [[0.0, \"#0d0887\"], [0.1111111111111111, \"#46039f\"], [0.2222222222222222, \"#7201a8\"], [0.3333333333333333, \"#9c179e\"], [0.4444444444444444, \"#bd3786\"], [0.5555555555555556, \"#d8576b\"], [0.6666666666666666, \"#ed7953\"], [0.7777777777777778, \"#fb9f3a\"], [0.8888888888888888, \"#fdca26\"], [1.0, \"#f0f921\"]], \"type\": \"histogram2dcontour\"}], \"mesh3d\": [{\"colorbar\": {\"outlinewidth\": 0, \"ticks\": \"\"}, \"type\": \"mesh3d\"}], \"parcoords\": [{\"line\": {\"colorbar\": {\"outlinewidth\": 0, \"ticks\": \"\"}}, \"type\": \"parcoords\"}], \"pie\": [{\"automargin\": true, \"type\": \"pie\"}], \"scatter\": [{\"marker\": {\"colorbar\": {\"outlinewidth\": 0, \"ticks\": \"\"}}, \"type\": \"scatter\"}], \"scatter3d\": [{\"line\": {\"colorbar\": {\"outlinewidth\": 0, \"ticks\": \"\"}}, \"marker\": {\"colorbar\": {\"outlinewidth\": 0, \"ticks\": \"\"}}, \"type\": \"scatter3d\"}], \"scattercarpet\": [{\"marker\": {\"colorbar\": {\"outlinewidth\": 0, \"ticks\": \"\"}}, \"type\": \"scattercarpet\"}], \"scattergeo\": [{\"marker\": {\"colorbar\": {\"outlinewidth\": 0, \"ticks\": \"\"}}, \"type\": \"scattergeo\"}], \"scattergl\": [{\"marker\": {\"colorbar\": {\"outlinewidth\": 0, \"ticks\": \"\"}}, \"type\": \"scattergl\"}], \"scattermapbox\": [{\"marker\": {\"colorbar\": {\"outlinewidth\": 0, \"ticks\": \"\"}}, \"type\": \"scattermapbox\"}], \"scatterpolar\": [{\"marker\": {\"colorbar\": {\"outlinewidth\": 0, \"ticks\": \"\"}}, \"type\": \"scatterpolar\"}], \"scatterpolargl\": [{\"marker\": {\"colorbar\": {\"outlinewidth\": 0, \"ticks\": \"\"}}, \"type\": \"scatterpolargl\"}], \"scatterternary\": [{\"marker\": {\"colorbar\": {\"outlinewidth\": 0, \"ticks\": \"\"}}, \"type\": \"scatterternary\"}], \"surface\": [{\"colorbar\": {\"outlinewidth\": 0, \"ticks\": \"\"}, \"colorscale\": [[0.0, \"#0d0887\"], [0.1111111111111111, \"#46039f\"], [0.2222222222222222, \"#7201a8\"], [0.3333333333333333, \"#9c179e\"], [0.4444444444444444, \"#bd3786\"], [0.5555555555555556, \"#d8576b\"], [0.6666666666666666, \"#ed7953\"], [0.7777777777777778, \"#fb9f3a\"], [0.8888888888888888, \"#fdca26\"], [1.0, \"#f0f921\"]], \"type\": \"surface\"}], \"table\": [{\"cells\": {\"fill\": {\"color\": \"#EBF0F8\"}, \"line\": {\"color\": \"white\"}}, \"header\": {\"fill\": {\"color\": \"#C8D4E3\"}, \"line\": {\"color\": \"white\"}}, \"type\": \"table\"}]}, \"layout\": {\"annotationdefaults\": {\"arrowcolor\": \"#2a3f5f\", \"arrowhead\": 0, \"arrowwidth\": 1}, \"coloraxis\": {\"colorbar\": {\"outlinewidth\": 0, \"ticks\": \"\"}}, \"colorscale\": {\"diverging\": [[0, \"#8e0152\"], [0.1, \"#c51b7d\"], [0.2, \"#de77ae\"], [0.3, \"#f1b6da\"], [0.4, \"#fde0ef\"], [0.5, \"#f7f7f7\"], [0.6, \"#e6f5d0\"], [0.7, \"#b8e186\"], [0.8, \"#7fbc41\"], [0.9, \"#4d9221\"], [1, \"#276419\"]], \"sequential\": [[0.0, \"#0d0887\"], [0.1111111111111111, \"#46039f\"], [0.2222222222222222, \"#7201a8\"], [0.3333333333333333, \"#9c179e\"], [0.4444444444444444, \"#bd3786\"], [0.5555555555555556, \"#d8576b\"], [0.6666666666666666, \"#ed7953\"], [0.7777777777777778, \"#fb9f3a\"], [0.8888888888888888, \"#fdca26\"], [1.0, \"#f0f921\"]], \"sequentialminus\": [[0.0, \"#0d0887\"], [0.1111111111111111, \"#46039f\"], [0.2222222222222222, \"#7201a8\"], [0.3333333333333333, \"#9c179e\"], [0.4444444444444444, \"#bd3786\"], [0.5555555555555556, \"#d8576b\"], [0.6666666666666666, \"#ed7953\"], [0.7777777777777778, \"#fb9f3a\"], [0.8888888888888888, \"#fdca26\"], [1.0, \"#f0f921\"]]}, \"colorway\": [\"#636efa\", \"#EF553B\", \"#00cc96\", \"#ab63fa\", \"#FFA15A\", \"#19d3f3\", \"#FF6692\", \"#B6E880\", \"#FF97FF\", \"#FECB52\"], \"font\": {\"color\": \"#2a3f5f\"}, \"geo\": {\"bgcolor\": \"white\", \"lakecolor\": \"white\", \"landcolor\": \"#E5ECF6\", \"showlakes\": true, \"showland\": true, \"subunitcolor\": \"white\"}, \"hoverlabel\": {\"align\": \"left\"}, \"hovermode\": \"closest\", \"mapbox\": {\"style\": \"light\"}, \"paper_bgcolor\": \"white\", \"plot_bgcolor\": \"#E5ECF6\", \"polar\": {\"angularaxis\": {\"gridcolor\": \"white\", \"linecolor\": \"white\", \"ticks\": \"\"}, \"bgcolor\": \"#E5ECF6\", \"radialaxis\": {\"gridcolor\": \"white\", \"linecolor\": \"white\", \"ticks\": \"\"}}, \"scene\": {\"xaxis\": {\"backgroundcolor\": \"#E5ECF6\", \"gridcolor\": \"white\", \"gridwidth\": 2, \"linecolor\": \"white\", \"showbackground\": true, \"ticks\": \"\", \"zerolinecolor\": \"white\"}, \"yaxis\": {\"backgroundcolor\": \"#E5ECF6\", \"gridcolor\": \"white\", \"gridwidth\": 2, \"linecolor\": \"white\", \"showbackground\": true, \"ticks\": \"\", \"zerolinecolor\": \"white\"}, \"zaxis\": {\"backgroundcolor\": \"#E5ECF6\", \"gridcolor\": \"white\", \"gridwidth\": 2, \"linecolor\": \"white\", \"showbackground\": true, \"ticks\": \"\", \"zerolinecolor\": \"white\"}}, \"shapedefaults\": {\"line\": {\"color\": \"#2a3f5f\"}}, \"ternary\": {\"aaxis\": {\"gridcolor\": \"white\", \"linecolor\": \"white\", \"ticks\": \"\"}, \"baxis\": {\"gridcolor\": \"white\", \"linecolor\": \"white\", \"ticks\": \"\"}, \"bgcolor\": \"#E5ECF6\", \"caxis\": {\"gridcolor\": \"white\", \"linecolor\": \"white\", \"ticks\": \"\"}}, \"title\": {\"x\": 0.05}, \"xaxis\": {\"automargin\": true, \"gridcolor\": \"white\", \"linecolor\": \"white\", \"ticks\": \"\", \"title\": {\"standoff\": 15}, \"zerolinecolor\": \"white\", \"zerolinewidth\": 2}, \"yaxis\": {\"automargin\": true, \"gridcolor\": \"white\", \"linecolor\": \"white\", \"ticks\": \"\", \"title\": {\"standoff\": 15}, \"zerolinecolor\": \"white\", \"zerolinewidth\": 2}}}},\n",
              "                        {\"responsive\": true}\n",
              "                    ).then(function(){\n",
              "                            \n",
              "var gd = document.getElementById('e2f55130-0097-44c0-8aac-aef8a9317358');\n",
              "var x = new MutationObserver(function (mutations, observer) {{\n",
              "        var display = window.getComputedStyle(gd).display;\n",
              "        if (!display || display === 'none') {{\n",
              "            console.log([gd, 'removed!']);\n",
              "            Plotly.purge(gd);\n",
              "            observer.disconnect();\n",
              "        }}\n",
              "}});\n",
              "\n",
              "// Listen for the removal of the full notebook cells\n",
              "var notebookContainer = gd.closest('#notebook-container');\n",
              "if (notebookContainer) {{\n",
              "    x.observe(notebookContainer, {childList: true});\n",
              "}}\n",
              "\n",
              "// Listen for the clearing of the current output cell\n",
              "var outputEl = gd.closest('.output');\n",
              "if (outputEl) {{\n",
              "    x.observe(outputEl, {childList: true});\n",
              "}}\n",
              "\n",
              "                        })\n",
              "                };\n",
              "                \n",
              "            </script>\n",
              "        </div>\n",
              "</body>\n",
              "</html>"
            ]
          },
          "metadata": {
            "tags": []
          }
        }
      ]
    },
    {
      "cell_type": "code",
      "metadata": {
        "id": "huwdWhAexm2D",
        "colab": {
          "base_uri": "https://localhost:8080/",
          "height": 439
        },
        "outputId": "fda0617f-a53a-4341-cd1a-04c799ba45f0"
      },
      "source": [
        "top_50[top_50['Ciclo_Estacion_Arribo'] == top_50['Ciclo_Estacion_Retiro']]"
      ],
      "execution_count": null,
      "outputs": [
        {
          "output_type": "execute_result",
          "data": {
            "text/html": [
              "<div>\n",
              "<style scoped>\n",
              "    .dataframe tbody tr th:only-of-type {\n",
              "        vertical-align: middle;\n",
              "    }\n",
              "\n",
              "    .dataframe tbody tr th {\n",
              "        vertical-align: top;\n",
              "    }\n",
              "\n",
              "    .dataframe thead th {\n",
              "        text-align: right;\n",
              "    }\n",
              "</style>\n",
              "<table border=\"1\" class=\"dataframe\">\n",
              "  <thead>\n",
              "    <tr style=\"text-align: right;\">\n",
              "      <th></th>\n",
              "      <th>ruta</th>\n",
              "      <th>Ciclo_Estacion_Retiro</th>\n",
              "      <th>Ciclo_Estacion_Arribo</th>\n",
              "      <th>n</th>\n",
              "      <th>ID_retiro</th>\n",
              "      <th>Colonia_retiro</th>\n",
              "      <th>location/lat_retiro</th>\n",
              "      <th>location/lon_retiro</th>\n",
              "      <th>ID_arribo</th>\n",
              "      <th>Colonia_arribo</th>\n",
              "      <th>location/lat_arribo</th>\n",
              "      <th>location/lon_arribo</th>\n",
              "    </tr>\n",
              "  </thead>\n",
              "  <tbody>\n",
              "    <tr>\n",
              "      <th>4</th>\n",
              "      <td>33.0|33</td>\n",
              "      <td>33.0</td>\n",
              "      <td>33</td>\n",
              "      <td>5050</td>\n",
              "      <td>33</td>\n",
              "      <td>Juárez</td>\n",
              "      <td>19.424234</td>\n",
              "      <td>-99.166431</td>\n",
              "      <td>33</td>\n",
              "      <td>Juárez</td>\n",
              "      <td>19.424234</td>\n",
              "      <td>-99.166431</td>\n",
              "    </tr>\n",
              "    <tr>\n",
              "      <th>14</th>\n",
              "      <td>27.0|27</td>\n",
              "      <td>27.0</td>\n",
              "      <td>27</td>\n",
              "      <td>3940</td>\n",
              "      <td>27</td>\n",
              "      <td>Juárez</td>\n",
              "      <td>19.429115</td>\n",
              "      <td>-99.162614</td>\n",
              "      <td>27</td>\n",
              "      <td>Juárez</td>\n",
              "      <td>19.429115</td>\n",
              "      <td>-99.162614</td>\n",
              "    </tr>\n",
              "    <tr>\n",
              "      <th>15</th>\n",
              "      <td>449.0|449</td>\n",
              "      <td>449.0</td>\n",
              "      <td>449</td>\n",
              "      <td>3928</td>\n",
              "      <td>449</td>\n",
              "      <td>Juárez</td>\n",
              "      <td>19.420180</td>\n",
              "      <td>-99.174393</td>\n",
              "      <td>449</td>\n",
              "      <td>Juárez</td>\n",
              "      <td>19.420180</td>\n",
              "      <td>-99.174393</td>\n",
              "    </tr>\n",
              "    <tr>\n",
              "      <th>16</th>\n",
              "      <td>7.0|7</td>\n",
              "      <td>7.0</td>\n",
              "      <td>7</td>\n",
              "      <td>3817</td>\n",
              "      <td>7</td>\n",
              "      <td>Cuauhtémoc</td>\n",
              "      <td>19.425468</td>\n",
              "      <td>-99.175166</td>\n",
              "      <td>7</td>\n",
              "      <td>Cuauhtémoc</td>\n",
              "      <td>19.425468</td>\n",
              "      <td>-99.175166</td>\n",
              "    </tr>\n",
              "    <tr>\n",
              "      <th>20</th>\n",
              "      <td>1.0|1</td>\n",
              "      <td>1.0</td>\n",
              "      <td>1</td>\n",
              "      <td>3576</td>\n",
              "      <td>1</td>\n",
              "      <td>Cuauhtémoc</td>\n",
              "      <td>19.433571</td>\n",
              "      <td>-99.167809</td>\n",
              "      <td>1</td>\n",
              "      <td>Cuauhtémoc</td>\n",
              "      <td>19.433571</td>\n",
              "      <td>-99.167809</td>\n",
              "    </tr>\n",
              "    <tr>\n",
              "      <th>25</th>\n",
              "      <td>139.0|139</td>\n",
              "      <td>139.0</td>\n",
              "      <td>139</td>\n",
              "      <td>3395</td>\n",
              "      <td>139</td>\n",
              "      <td>Roma Norte</td>\n",
              "      <td>19.416128</td>\n",
              "      <td>-99.162097</td>\n",
              "      <td>139</td>\n",
              "      <td>Roma Norte</td>\n",
              "      <td>19.416128</td>\n",
              "      <td>-99.162097</td>\n",
              "    </tr>\n",
              "    <tr>\n",
              "      <th>34</th>\n",
              "      <td>434.0|434</td>\n",
              "      <td>434.0</td>\n",
              "      <td>434</td>\n",
              "      <td>3132</td>\n",
              "      <td>434</td>\n",
              "      <td>Del Valle Sur</td>\n",
              "      <td>19.363741</td>\n",
              "      <td>-99.171268</td>\n",
              "      <td>434</td>\n",
              "      <td>Del Valle Sur</td>\n",
              "      <td>19.363741</td>\n",
              "      <td>-99.171268</td>\n",
              "    </tr>\n",
              "    <tr>\n",
              "      <th>36</th>\n",
              "      <td>96.0|96</td>\n",
              "      <td>96.0</td>\n",
              "      <td>96</td>\n",
              "      <td>3074</td>\n",
              "      <td>96</td>\n",
              "      <td>Centro</td>\n",
              "      <td>19.430625</td>\n",
              "      <td>-99.142480</td>\n",
              "      <td>96</td>\n",
              "      <td>Centro</td>\n",
              "      <td>19.430625</td>\n",
              "      <td>-99.142480</td>\n",
              "    </tr>\n",
              "    <tr>\n",
              "      <th>37</th>\n",
              "      <td>260.0|260</td>\n",
              "      <td>260.0</td>\n",
              "      <td>260</td>\n",
              "      <td>3043</td>\n",
              "      <td>260</td>\n",
              "      <td>Centro</td>\n",
              "      <td>19.435354</td>\n",
              "      <td>-99.147742</td>\n",
              "      <td>260</td>\n",
              "      <td>Centro</td>\n",
              "      <td>19.435354</td>\n",
              "      <td>-99.147742</td>\n",
              "    </tr>\n",
              "    <tr>\n",
              "      <th>41</th>\n",
              "      <td>34.0|34</td>\n",
              "      <td>34.0</td>\n",
              "      <td>34</td>\n",
              "      <td>2980</td>\n",
              "      <td>34</td>\n",
              "      <td>Juárez</td>\n",
              "      <td>19.424725</td>\n",
              "      <td>-99.163331</td>\n",
              "      <td>34</td>\n",
              "      <td>Juárez</td>\n",
              "      <td>19.424725</td>\n",
              "      <td>-99.163331</td>\n",
              "    </tr>\n",
              "    <tr>\n",
              "      <th>43</th>\n",
              "      <td>257.0|257</td>\n",
              "      <td>257.0</td>\n",
              "      <td>257</td>\n",
              "      <td>2962</td>\n",
              "      <td>257</td>\n",
              "      <td>San Rafael</td>\n",
              "      <td>19.433800</td>\n",
              "      <td>-99.166220</td>\n",
              "      <td>257</td>\n",
              "      <td>San Rafael</td>\n",
              "      <td>19.433800</td>\n",
              "      <td>-99.166220</td>\n",
              "    </tr>\n",
              "    <tr>\n",
              "      <th>46</th>\n",
              "      <td>270.0|270</td>\n",
              "      <td>270.0</td>\n",
              "      <td>270</td>\n",
              "      <td>2926</td>\n",
              "      <td>270</td>\n",
              "      <td>Tabacalera</td>\n",
              "      <td>19.436760</td>\n",
              "      <td>-99.153870</td>\n",
              "      <td>270</td>\n",
              "      <td>Tabacalera</td>\n",
              "      <td>19.436760</td>\n",
              "      <td>-99.153870</td>\n",
              "    </tr>\n",
              "  </tbody>\n",
              "</table>\n",
              "</div>"
            ],
            "text/plain": [
              "         ruta  Ciclo_Estacion_Retiro  ... location/lat_arribo  location/lon_arribo\n",
              "4     33.0|33                   33.0  ...           19.424234           -99.166431\n",
              "14    27.0|27                   27.0  ...           19.429115           -99.162614\n",
              "15  449.0|449                  449.0  ...           19.420180           -99.174393\n",
              "16      7.0|7                    7.0  ...           19.425468           -99.175166\n",
              "20      1.0|1                    1.0  ...           19.433571           -99.167809\n",
              "25  139.0|139                  139.0  ...           19.416128           -99.162097\n",
              "34  434.0|434                  434.0  ...           19.363741           -99.171268\n",
              "36    96.0|96                   96.0  ...           19.430625           -99.142480\n",
              "37  260.0|260                  260.0  ...           19.435354           -99.147742\n",
              "41    34.0|34                   34.0  ...           19.424725           -99.163331\n",
              "43  257.0|257                  257.0  ...           19.433800           -99.166220\n",
              "46  270.0|270                  270.0  ...           19.436760           -99.153870\n",
              "\n",
              "[12 rows x 12 columns]"
            ]
          },
          "metadata": {
            "tags": []
          },
          "execution_count": 60
        }
      ]
    },
    {
      "cell_type": "code",
      "metadata": {
        "id": "ON_k7PJHjVXh"
      },
      "source": [
        "def crear_mapa(ecobici_df, estaciones_df, n_top = 50):\n",
        "  ecobici_df[\"ruta\"] = ecobici_df.Ciclo_Estacion_Retiro.astype(str) + \"|\" + ecobici_df.Ciclo_Estacion_Arribo.astype(str)\n",
        "  top = ecobici_df.groupby([\"ruta\", \"Ciclo_Estacion_Retiro\", \"Ciclo_Estacion_Arribo\"]).size().sort_values(ascending = False)[:n_top]\n",
        "  top.reset_index().head()\n",
        "  top = top.reset_index().rename(columns = {0:\"n\"}).merge(estaciones_df, how = \"left\", left_on = \"Ciclo_Estacion_Retiro\", right_on =\"ID\")\n",
        "  top = top.merge(estaciones_df, how = \"left\", left_on = \"Ciclo_Estacion_Arribo\", right_on =\"ID\", suffixes=('_retiro', '_arribo'))\n",
        "  valores_origen = top[[\"Ciclo_Estacion_Retiro\", \"location/lat_retiro\",\t\"location/lon_retiro\", \"n\"]].groupby([\"Ciclo_Estacion_Retiro\", \"location/lat_retiro\",\t\"location/lon_retiro\"]).sum().reset_index()\n",
        "  valores_destino = top[[\"Ciclo_Estacion_Arribo\", \"location/lat_arribo\",\t\"location/lon_arribo\", \"n\"]].groupby([\"Ciclo_Estacion_Arribo\", \"location/lat_arribo\",\t\"location/lon_arribo\"]).sum().reset_index()\n",
        "  return top,dibujar_mapa(top[[\"location/lat_retiro\", \"location/lon_retiro\"]], top[[\"location/lat_arribo\", \"location/lon_arribo\"]],valores_origen,valores_destino, top[\"n\"].values )"
      ],
      "execution_count": null,
      "outputs": []
    },
    {
      "cell_type": "code",
      "metadata": {
        "id": "4MnYpRjl0KmL",
        "colab": {
          "base_uri": "https://localhost:8080/",
          "height": 223
        },
        "outputId": "a4f3b52e-9814-4c74-df07-b3d843a0c190"
      },
      "source": [
        "ecobici_df.head()"
      ],
      "execution_count": null,
      "outputs": [
        {
          "output_type": "execute_result",
          "data": {
            "text/html": [
              "<div>\n",
              "<style scoped>\n",
              "    .dataframe tbody tr th:only-of-type {\n",
              "        vertical-align: middle;\n",
              "    }\n",
              "\n",
              "    .dataframe tbody tr th {\n",
              "        vertical-align: top;\n",
              "    }\n",
              "\n",
              "    .dataframe thead th {\n",
              "        text-align: right;\n",
              "    }\n",
              "</style>\n",
              "<table border=\"1\" class=\"dataframe\">\n",
              "  <thead>\n",
              "    <tr style=\"text-align: right;\">\n",
              "      <th></th>\n",
              "      <th>Genero_Usuario</th>\n",
              "      <th>Edad_Usuario</th>\n",
              "      <th>Bici</th>\n",
              "      <th>Ciclo_Estacion_Retiro</th>\n",
              "      <th>Fecha_Retiro</th>\n",
              "      <th>Hora_Retiro</th>\n",
              "      <th>Ciclo_Estacion_Arribo</th>\n",
              "      <th>Fecha_Arribo</th>\n",
              "      <th>Hora_Arribo</th>\n",
              "      <th>ruta</th>\n",
              "    </tr>\n",
              "  </thead>\n",
              "  <tbody>\n",
              "    <tr>\n",
              "      <th>0</th>\n",
              "      <td>M</td>\n",
              "      <td>37.0</td>\n",
              "      <td>6958</td>\n",
              "      <td>470.0</td>\n",
              "      <td>01/10/2020</td>\n",
              "      <td>5:52:34</td>\n",
              "      <td>271</td>\n",
              "      <td>01/10/2020</td>\n",
              "      <td>6:09:22</td>\n",
              "      <td>470.0|271</td>\n",
              "    </tr>\n",
              "    <tr>\n",
              "      <th>1</th>\n",
              "      <td>M</td>\n",
              "      <td>44.0</td>\n",
              "      <td>11618</td>\n",
              "      <td>128.0</td>\n",
              "      <td>01/10/2020</td>\n",
              "      <td>7:02:04</td>\n",
              "      <td>132</td>\n",
              "      <td>01/10/2020</td>\n",
              "      <td>7:05:23</td>\n",
              "      <td>128.0|132</td>\n",
              "    </tr>\n",
              "    <tr>\n",
              "      <th>2</th>\n",
              "      <td>M</td>\n",
              "      <td>59.0</td>\n",
              "      <td>10511</td>\n",
              "      <td>390.0</td>\n",
              "      <td>01/10/2020</td>\n",
              "      <td>7:26:31</td>\n",
              "      <td>305</td>\n",
              "      <td>01/10/2020</td>\n",
              "      <td>7:39:34</td>\n",
              "      <td>390.0|305</td>\n",
              "    </tr>\n",
              "    <tr>\n",
              "      <th>3</th>\n",
              "      <td>F</td>\n",
              "      <td>30.0</td>\n",
              "      <td>8660</td>\n",
              "      <td>168.0</td>\n",
              "      <td>01/10/2020</td>\n",
              "      <td>7:43:08</td>\n",
              "      <td>60</td>\n",
              "      <td>01/10/2020</td>\n",
              "      <td>7:53:42</td>\n",
              "      <td>168.0|60</td>\n",
              "    </tr>\n",
              "    <tr>\n",
              "      <th>4</th>\n",
              "      <td>F</td>\n",
              "      <td>40.0</td>\n",
              "      <td>10041</td>\n",
              "      <td>412.0</td>\n",
              "      <td>01/10/2020</td>\n",
              "      <td>7:50:43</td>\n",
              "      <td>443</td>\n",
              "      <td>01/10/2020</td>\n",
              "      <td>7:55:05</td>\n",
              "      <td>412.0|443</td>\n",
              "    </tr>\n",
              "  </tbody>\n",
              "</table>\n",
              "</div>"
            ],
            "text/plain": [
              "  Genero_Usuario  Edad_Usuario   Bici  ...  Fecha_Arribo Hora_Arribo       ruta\n",
              "0              M          37.0   6958  ...    01/10/2020     6:09:22  470.0|271\n",
              "1              M          44.0  11618  ...    01/10/2020     7:05:23  128.0|132\n",
              "2              M          59.0  10511  ...    01/10/2020     7:39:34  390.0|305\n",
              "3              F          30.0   8660  ...    01/10/2020     7:53:42   168.0|60\n",
              "4              F          40.0  10041  ...    01/10/2020     7:55:05  412.0|443\n",
              "\n",
              "[5 rows x 10 columns]"
            ]
          },
          "metadata": {
            "tags": []
          },
          "execution_count": 62
        }
      ]
    },
    {
      "cell_type": "code",
      "metadata": {
        "id": "f3SEzDdxxmNs"
      },
      "source": [
        "top_50, _ = crear_mapa(ecobici_df[ecobici_df[\"Genero_Usuario\"] == \"M\"].copy(), estaciones_df)"
      ],
      "execution_count": null,
      "outputs": []
    },
    {
      "cell_type": "code",
      "metadata": {
        "id": "P6f3jP3zys_B",
        "colab": {
          "base_uri": "https://localhost:8080/",
          "height": 542
        },
        "outputId": "9026f536-e6b2-4576-97c0-b6cf2223888e"
      },
      "source": [
        "top_50, _ = crear_mapa(ecobici_df[ecobici_df[\"Genero_Usuario\"] == \"F\"].copy(), estaciones_df)\n"
      ],
      "execution_count": null,
      "outputs": [
        {
          "output_type": "display_data",
          "data": {
            "text/html": [
              "<html>\n",
              "<head><meta charset=\"utf-8\" /></head>\n",
              "<body>\n",
              "    <div>\n",
              "            <script src=\"https://cdnjs.cloudflare.com/ajax/libs/mathjax/2.7.5/MathJax.js?config=TeX-AMS-MML_SVG\"></script><script type=\"text/javascript\">if (window.MathJax) {MathJax.Hub.Config({SVG: {font: \"STIX-Web\"}});}</script>\n",
              "                <script type=\"text/javascript\">window.PlotlyConfig = {MathJaxConfig: 'local'};</script>\n",
              "        <script src=\"https://cdn.plot.ly/plotly-latest.min.js\"></script>    \n",
              "            <div id=\"cbd1f611-1c5d-4a5e-abf4-01ebae61b2b9\" class=\"plotly-graph-div\" style=\"height:525px; width:100%;\"></div>\n",
              "            <script type=\"text/javascript\">\n",
              "                \n",
              "                    window.PLOTLYENV=window.PLOTLYENV || {};\n",
              "                    \n",
              "                if (document.getElementById(\"cbd1f611-1c5d-4a5e-abf4-01ebae61b2b9\")) {\n",
              "                    Plotly.newPlot(\n",
              "                        'cbd1f611-1c5d-4a5e-abf4-01ebae61b2b9',\n",
              "                        [{\"lat\": [19.42888, 19.433571399999998], \"line\": {\"color\": \"#4f2463\", \"width\": 10.0}, \"lon\": [-99.164176, -99.16780909999999], \"mode\": \"lines\", \"name\": \"1749|19.42888|-99.164176\", \"text\": \"1749\", \"type\": \"scattermapbox\"}, {\"hoverinfo\": \"text\", \"hovertext\": \"1600\", \"lat\": [19.412182, 19.412182], \"line\": {\"color\": \"#542665\", \"width\": 9.148084619782733}, \"lon\": [-99.158443, -99.158443], \"mode\": \"lines\", \"name\": \"1600\", \"text\": \"1600\", \"type\": \"scattermapbox\"}, {\"hoverinfo\": \"text\", \"hovertext\": \"1568\", \"lat\": [19.404268, 19.405246], \"line\": {\"color\": \"#582766\", \"width\": 8.965122927387078}, \"lon\": [-99.160503, -99.15643100000001], \"mode\": \"lines\", \"name\": \"1568\", \"text\": \"1568\", \"type\": \"scattermapbox\"}, {\"hoverinfo\": \"text\", \"hovertext\": \"1484\", \"lat\": [19.433571399999998, 19.42888], \"line\": {\"color\": \"#5d2868\", \"width\": 8.484848484848484}, \"lon\": [-99.16780909999999, -99.164176], \"mode\": \"lines\", \"name\": \"1484\", \"text\": \"1484\", \"type\": \"scattermapbox\"}, {\"hoverinfo\": \"text\", \"hovertext\": \"1452\", \"lat\": [19.43935, 19.43935], \"line\": {\"color\": \"#62296a\", \"width\": 8.30188679245283}, \"lon\": [-99.16006999999999, -99.16006999999999], \"mode\": \"lines\", \"name\": \"1452\", \"text\": \"1452\", \"type\": \"scattermapbox\"}, {\"hoverinfo\": \"text\", \"hovertext\": \"1372\", \"lat\": [19.433607000000002, 19.432888000000002], \"line\": {\"color\": \"#662a6b\", \"width\": 7.8444825614636935}, \"lon\": [-99.188528, -99.183605], \"mode\": \"lines\", \"name\": \"1372\", \"text\": \"1372\", \"type\": \"scattermapbox\"}, {\"hoverinfo\": \"text\", \"hovertext\": \"1242\", \"lat\": [19.407020000000003, 19.413681], \"line\": {\"color\": \"#6b2b6c\", \"width\": 7.101200686106347}, \"lon\": [-99.16958699999999, -99.171531], \"mode\": \"lines\", \"name\": \"1242\", \"text\": \"1242\", \"type\": \"scattermapbox\"}, {\"hoverinfo\": \"text\", \"hovertext\": \"1242\", \"lat\": [19.441110000000002, 19.438236899999996], \"line\": {\"color\": \"#702c6e\", \"width\": 7.101200686106347}, \"lon\": [-99.16164, -99.16594649999999], \"mode\": \"lines\", \"name\": \"1242\", \"text\": \"1242\", \"type\": \"scattermapbox\"}, {\"hoverinfo\": \"text\", \"hovertext\": \"1233\", \"lat\": [19.407447, 19.412860000000002], \"line\": {\"color\": \"#752d6f\", \"width\": 7.049742710120068}, \"lon\": [-99.15571700000001, -99.160661], \"mode\": \"lines\", \"name\": \"1233\", \"text\": \"1233\", \"type\": \"scattermapbox\"}, {\"hoverinfo\": \"text\", \"hovertext\": \"1125\", \"lat\": [19.441110000000002, 19.43767], \"line\": {\"color\": \"#792e6f\", \"width\": 6.432246998284734}, \"lon\": [-99.16164, -99.16402], \"mode\": \"lines\", \"name\": \"1125\", \"text\": \"1125\", \"type\": \"scattermapbox\"}, {\"hoverinfo\": \"text\", \"hovertext\": \"1125\", \"lat\": [19.415905, 19.407447], \"line\": {\"color\": \"#7e2f70\", \"width\": 6.432246998284734}, \"lon\": [-99.15954, -99.15571700000001], \"mode\": \"lines\", \"name\": \"1125\", \"text\": \"1125\", \"type\": \"scattermapbox\"}, {\"hoverinfo\": \"text\", \"hovertext\": \"1122\", \"lat\": [19.378345, 19.379884], \"line\": {\"color\": \"#833070\", \"width\": 6.415094339622641}, \"lon\": [-99.181973, -99.17747800000001], \"mode\": \"lines\", \"name\": \"1122\", \"text\": \"1122\", \"type\": \"scattermapbox\"}, {\"hoverinfo\": \"text\", \"hovertext\": \"1102\", \"lat\": [19.419225, 19.417715], \"line\": {\"color\": \"#873171\", \"width\": 6.3007432818753575}, \"lon\": [-99.15509899999999, -99.162729], \"mode\": \"lines\", \"name\": \"1102\", \"text\": \"1102\", \"type\": \"scattermapbox\"}, {\"hoverinfo\": \"text\", \"hovertext\": \"1096\", \"lat\": [19.429115, 19.429115], \"line\": {\"color\": \"#8c3271\", \"width\": 6.266437964551173}, \"lon\": [-99.162614, -99.162614], \"mode\": \"lines\", \"name\": \"1096\", \"text\": \"1096\", \"type\": \"scattermapbox\"}, {\"hoverinfo\": \"text\", \"hovertext\": \"1088\", \"lat\": [19.379884, 19.378345], \"line\": {\"color\": \"#913371\", \"width\": 6.2206975414522585}, \"lon\": [-99.17747800000001, -99.181973], \"mode\": \"lines\", \"name\": \"1088\", \"text\": \"1088\", \"type\": \"scattermapbox\"}, {\"hoverinfo\": \"text\", \"hovertext\": \"1056\", \"lat\": [19.435798000000002, 19.434182], \"line\": {\"color\": \"#953470\", \"width\": 6.037735849056603}, \"lon\": [-99.201419, -99.189835], \"mode\": \"lines\", \"name\": \"1056\", \"text\": \"1056\", \"type\": \"scattermapbox\"}, {\"hoverinfo\": \"text\", \"hovertext\": \"1052\", \"lat\": [19.432888000000002, 19.433607000000002], \"line\": {\"color\": \"#9a3670\", \"width\": 6.014865637507148}, \"lon\": [-99.183605, -99.188528], \"mode\": \"lines\", \"name\": \"1052\", \"text\": \"1052\", \"type\": \"scattermapbox\"}, {\"hoverinfo\": \"text\", \"hovertext\": \"1048\", \"lat\": [19.419725, 19.414773], \"line\": {\"color\": \"#9f376f\", \"width\": 5.99199542595769}, \"lon\": [-99.17577800000001, -99.178433], \"mode\": \"lines\", \"name\": \"1048\", \"text\": \"1048\", \"type\": \"scattermapbox\"}, {\"hoverinfo\": \"text\", \"hovertext\": \"1039\", \"lat\": [19.407447, 19.415905], \"line\": {\"color\": \"#a3386f\", \"width\": 5.940537449971412}, \"lon\": [-99.15571700000001, -99.15954], \"mode\": \"lines\", \"name\": \"1039\", \"text\": \"1039\", \"type\": \"scattermapbox\"}, {\"hoverinfo\": \"text\", \"hovertext\": \"1025\", \"lat\": [19.434182, 19.435798000000002], \"line\": {\"color\": \"#a8396e\", \"width\": 5.860491709548313}, \"lon\": [-99.189835, -99.201419], \"mode\": \"lines\", \"name\": \"1025\", \"text\": \"1025\", \"type\": \"scattermapbox\"}, {\"hoverinfo\": \"text\", \"hovertext\": \"1020\", \"lat\": [19.438236899999996, 19.42888], \"line\": {\"color\": \"#ad3b6d\", \"width\": 5.831903945111492}, \"lon\": [-99.16594649999999, -99.164176], \"mode\": \"lines\", \"name\": \"1020\", \"text\": \"1020\", \"type\": \"scattermapbox\"}, {\"hoverinfo\": \"text\", \"hovertext\": \"1016\", \"lat\": [19.417715, 19.419225], \"line\": {\"color\": \"#b13c6c\", \"width\": 5.8090337335620355}, \"lon\": [-99.162729, -99.15509899999999], \"mode\": \"lines\", \"name\": \"1016\", \"text\": \"1016\", \"type\": \"scattermapbox\"}, {\"hoverinfo\": \"text\", \"hovertext\": \"1005\", \"lat\": [19.422288, 19.418304], \"line\": {\"color\": \"#b63d6b\", \"width\": 5.74614065180103}, \"lon\": [-99.162138, -99.15956], \"mode\": \"lines\", \"name\": \"1005\", \"text\": \"1005\", \"type\": \"scattermapbox\"}, {\"hoverinfo\": \"text\", \"hovertext\": \"987\", \"lat\": [19.392585999999998, 19.395319], \"line\": {\"color\": \"#bb3f6a\", \"width\": 5.6432246998284725}, \"lon\": [-99.184742, -99.181733], \"mode\": \"lines\", \"name\": \"987\", \"text\": \"987\", \"type\": \"scattermapbox\"}, {\"hoverinfo\": \"text\", \"hovertext\": \"978\", \"lat\": [19.416128, 19.416128], \"line\": {\"color\": \"#c04068\", \"width\": 5.591766723842195}, \"lon\": [-99.162097, -99.162097], \"mode\": \"lines\", \"name\": \"978\", \"text\": \"978\", \"type\": \"scattermapbox\"}, {\"hoverinfo\": \"text\", \"hovertext\": \"977\", \"lat\": [19.408217999999998, 19.416128], \"line\": {\"color\": \"#c44267\", \"width\": 5.586049170954831}, \"lon\": [-99.159911, -99.162097], \"mode\": \"lines\", \"name\": \"977\", \"text\": \"977\", \"type\": \"scattermapbox\"}, {\"hoverinfo\": \"text\", \"hovertext\": \"957\", \"lat\": [19.435637, 19.430964000000003], \"line\": {\"color\": \"#c84465\", \"width\": 5.471698113207547}, \"lon\": [-99.150137, -99.160206], \"mode\": \"lines\", \"name\": \"957\", \"text\": \"957\", \"type\": \"scattermapbox\"}, {\"hoverinfo\": \"text\", \"hovertext\": \"935\", \"lat\": [19.373142, 19.373142], \"line\": {\"color\": \"#cc4663\", \"width\": 5.345911949685535}, \"lon\": [-99.178283, -99.178283], \"mode\": \"lines\", \"name\": \"935\", \"text\": \"935\", \"type\": \"scattermapbox\"}, {\"hoverinfo\": \"text\", \"hovertext\": \"921\", \"lat\": [19.434182, 19.440344], \"line\": {\"color\": \"#d04962\", \"width\": 5.265866209262436}, \"lon\": [-99.189835, -99.20105], \"mode\": \"lines\", \"name\": \"921\", \"text\": \"921\", \"type\": \"scattermapbox\"}, {\"hoverinfo\": \"text\", \"hovertext\": \"912\", \"lat\": [19.442338, 19.445039], \"line\": {\"color\": \"#d44c60\", \"width\": 5.214408233276158}, \"lon\": [-99.202492, -99.194078], \"mode\": \"lines\", \"name\": \"912\", \"text\": \"912\", \"type\": \"scattermapbox\"}, {\"hoverinfo\": \"text\", \"hovertext\": \"908\", \"lat\": [19.43676, 19.444031], \"line\": {\"color\": \"#d7505e\", \"width\": 5.1915380217267}, \"lon\": [-99.15387, -99.152187], \"mode\": \"lines\", \"name\": \"908\", \"text\": \"908\", \"type\": \"scattermapbox\"}, {\"hoverinfo\": \"text\", \"hovertext\": \"901\", \"lat\": [19.405246, 19.404907], \"line\": {\"color\": \"#da545d\", \"width\": 5.151515151515151}, \"lon\": [-99.15643100000001, -99.162485], \"mode\": \"lines\", \"name\": \"901\", \"text\": \"901\", \"type\": \"scattermapbox\"}, {\"hoverinfo\": \"text\", \"hovertext\": \"889\", \"lat\": [19.43425, 19.441110000000002], \"line\": {\"color\": \"#dc585c\", \"width\": 5.082904516866781}, \"lon\": [-99.162508, -99.16164], \"mode\": \"lines\", \"name\": \"889\", \"text\": \"889\", \"type\": \"scattermapbox\"}, {\"hoverinfo\": \"text\", \"hovertext\": \"878\", \"lat\": [19.438236899999996, 19.441110000000002], \"line\": {\"color\": \"#de5d5c\", \"width\": 5.020011435105775}, \"lon\": [-99.16594649999999, -99.16164], \"mode\": \"lines\", \"name\": \"878\", \"text\": \"878\", \"type\": \"scattermapbox\"}, {\"hoverinfo\": \"text\", \"hovertext\": \"872\", \"lat\": [19.42018, 19.42018], \"line\": {\"color\": \"#e0615c\", \"width\": 4.985706117781589}, \"lon\": [-99.17439300000001, -99.17439300000001], \"mode\": \"lines\", \"name\": \"872\", \"text\": \"872\", \"type\": \"scattermapbox\"}, {\"hoverinfo\": \"text\", \"hovertext\": \"872\", \"lat\": [19.379269, 19.380598000000003], \"line\": {\"color\": \"#e2665c\", \"width\": 4.985706117781589}, \"lon\": [-99.161169, -99.1669248], \"mode\": \"lines\", \"name\": \"872\", \"text\": \"872\", \"type\": \"scattermapbox\"}, {\"hoverinfo\": \"text\", \"hovertext\": \"870\", \"lat\": [19.416128, 19.408217999999998], \"line\": {\"color\": \"#e36b5d\", \"width\": 4.974271012006861}, \"lon\": [-99.162097, -99.159911], \"mode\": \"lines\", \"name\": \"870\", \"text\": \"870\", \"type\": \"scattermapbox\"}, {\"hoverinfo\": \"text\", \"hovertext\": \"870\", \"lat\": [19.410529, 19.407447], \"line\": {\"color\": \"#e5705e\", \"width\": 4.974271012006861}, \"lon\": [-99.160873, -99.15571700000001], \"mode\": \"lines\", \"name\": \"870\", \"text\": \"870\", \"type\": \"scattermapbox\"}, {\"hoverinfo\": \"text\", \"hovertext\": \"868\", \"lat\": [19.43676, 19.43676], \"line\": {\"color\": \"#e67560\", \"width\": 4.962835906232133}, \"lon\": [-99.15387, -99.15387], \"mode\": \"lines\", \"name\": \"868\", \"text\": \"868\", \"type\": \"scattermapbox\"}, {\"hoverinfo\": \"text\", \"hovertext\": \"858\", \"lat\": [19.438236899999996, 19.438236899999996], \"line\": {\"color\": \"#e77a62\", \"width\": 4.90566037735849}, \"lon\": [-99.16594649999999, -99.16594649999999], \"mode\": \"lines\", \"name\": \"858\", \"text\": \"858\", \"type\": \"scattermapbox\"}, {\"hoverinfo\": \"text\", \"hovertext\": \"857\", \"lat\": [19.422288, 19.415905], \"line\": {\"color\": \"#e87f64\", \"width\": 4.899942824471126}, \"lon\": [-99.162138, -99.15954], \"mode\": \"lines\", \"name\": \"857\", \"text\": \"857\", \"type\": \"scattermapbox\"}, {\"hoverinfo\": \"text\", \"hovertext\": \"852\", \"lat\": [19.391991, 19.396328], \"line\": {\"color\": \"#e88466\", \"width\": 4.871355060034305}, \"lon\": [-99.162684, -99.156871], \"mode\": \"lines\", \"name\": \"852\", \"text\": \"852\", \"type\": \"scattermapbox\"}, {\"hoverinfo\": \"text\", \"hovertext\": \"851\", \"lat\": [19.41004, 19.4128], \"line\": {\"color\": \"#e98969\", \"width\": 4.865637507146941}, \"lon\": [-99.18798000000001, -99.1828], \"mode\": \"lines\", \"name\": \"851\", \"text\": \"851\", \"type\": \"scattermapbox\"}, {\"hoverinfo\": \"text\", \"hovertext\": \"848\", \"lat\": [19.43767, 19.441110000000002], \"line\": {\"color\": \"#ea8e6c\", \"width\": 4.848484848484849}, \"lon\": [-99.16402, -99.16164], \"mode\": \"lines\", \"name\": \"848\", \"text\": \"848\", \"type\": \"scattermapbox\"}, {\"hoverinfo\": \"text\", \"hovertext\": \"836\", \"lat\": [19.415905, 19.422288], \"line\": {\"color\": \"#ea936f\", \"width\": 4.779874213836478}, \"lon\": [-99.15954, -99.162138], \"mode\": \"lines\", \"name\": \"836\", \"text\": \"836\", \"type\": \"scattermapbox\"}, {\"hoverinfo\": \"text\", \"hovertext\": \"834\", \"lat\": [19.433571399999998, 19.432378], \"line\": {\"color\": \"#eb9872\", \"width\": 4.76843910806175}, \"lon\": [-99.16780909999999, -99.159077], \"mode\": \"lines\", \"name\": \"834\", \"text\": \"834\", \"type\": \"scattermapbox\"}, {\"hoverinfo\": \"text\", \"hovertext\": \"831\", \"lat\": [19.396333, 19.392634], \"line\": {\"color\": \"#eb9c75\", \"width\": 4.751286449399657}, \"lon\": [-99.183575, -99.183737], \"mode\": \"lines\", \"name\": \"831\", \"text\": \"831\", \"type\": \"scattermapbox\"}, {\"hoverinfo\": \"text\", \"hovertext\": \"829\", \"lat\": [19.429115, 19.435228], \"line\": {\"color\": \"#eca178\", \"width\": 4.739851343624928}, \"lon\": [-99.162614, -99.146063], \"mode\": \"lines\", \"name\": \"829\", \"text\": \"829\", \"type\": \"scattermapbox\"}, {\"hoverinfo\": \"text\", \"hovertext\": \"818\", \"lat\": [19.379269, 19.381292000000002], \"line\": {\"color\": \"#eca67b\", \"width\": 4.6769582618639225}, \"lon\": [-99.161169, -99.170171], \"mode\": \"lines\", \"name\": \"818\", \"text\": \"818\", \"type\": \"scattermapbox\"}, {\"hoverinfo\": \"text\", \"hovertext\": \"815\", \"lat\": [19.412860000000002, 19.407447], \"line\": {\"color\": \"#edab7e\", \"width\": 4.65980560320183}, \"lon\": [-99.160661, -99.15571700000001], \"mode\": \"lines\", \"name\": \"815\", \"text\": \"815\", \"type\": \"scattermapbox\"}, {\"hovertext\": [\"ID_estacion:1.0|n:2318\", \"ID_estacion:18.0|n:1749\", \"ID_estacion:27.0|n:1925\", \"ID_estacion:36.0|n:1048\", \"ID_estacion:41.0|n:957\", \"ID_estacion:84.0|n:1242\", \"ID_estacion:85.0|n:889\", \"ID_estacion:111.0|n:2756\", \"ID_estacion:126.0|n:1862\", \"ID_estacion:135.0|n:1102\", \"ID_estacion:136.0|n:1016\", \"ID_estacion:139.0|n:1848\", \"ID_estacion:141.0|n:1961\", \"ID_estacion:145.0|n:815\", \"ID_estacion:147.0|n:1600\", \"ID_estacion:151.0|n:870\", \"ID_estacion:155.0|n:977\", \"ID_estacion:158.0|n:2272\", \"ID_estacion:163.0|n:901\", \"ID_estacion:165.0|n:1568\", \"ID_estacion:174.0|n:2367\", \"ID_estacion:183.0|n:848\", \"ID_estacion:189.0|n:851\", \"ID_estacion:206.0|n:1056\", \"ID_estacion:208.0|n:1946\", \"ID_estacion:211.0|n:1372\", \"ID_estacion:217.0|n:1052\", \"ID_estacion:254.0|n:1452\", \"ID_estacion:270.0|n:1776\", \"ID_estacion:288.0|n:831\", \"ID_estacion:319.0|n:852\", \"ID_estacion:328.0|n:987\", \"ID_estacion:359.0|n:1690\", \"ID_estacion:366.0|n:1122\", \"ID_estacion:369.0|n:1088\", \"ID_estacion:391.0|n:935\", \"ID_estacion:449.0|n:872\", \"ID_estacion:463.0|n:912\"], \"lat\": [19.433571399999998, 19.42888, 19.429115, 19.419725, 19.435637, 19.407020000000003, 19.43425, 19.438236899999996, 19.422288, 19.419225, 19.417715, 19.416128, 19.415905, 19.412860000000002, 19.412182, 19.410529, 19.408217999999998, 19.407447, 19.405246, 19.404268, 19.441110000000002, 19.43767, 19.41004, 19.435798000000002, 19.434182, 19.433607000000002, 19.432888000000002, 19.43935, 19.43676, 19.396333, 19.391991, 19.392585999999998, 19.379269, 19.378345, 19.379884, 19.373142, 19.42018, 19.442338], \"lon\": [-99.16780909999999, -99.164176, -99.162614, -99.17577800000001, -99.150137, -99.16958699999999, -99.162508, -99.16594649999999, -99.162138, -99.15509899999999, -99.162729, -99.162097, -99.15954, -99.160661, -99.158443, -99.160873, -99.159911, -99.15571700000001, -99.15643100000001, -99.160503, -99.16164, -99.16402, -99.18798000000001, -99.201419, -99.189835, -99.188528, -99.183605, -99.16006999999999, -99.15387, -99.183575, -99.162684, -99.184742, -99.161169, -99.181973, -99.17747800000001, -99.178283, -99.17439300000001, -99.202492], \"marker\": {\"color\": \"white\", \"opacity\": 0.7, \"size\": [42.05370101596517, 31.73076923076923, 34.92380261248186, 19.013062409288825, 17.36211901306241, 22.53265602322206, 16.128447024673438, 50.0, 33.78084179970973, 19.99274310595065, 18.432510885341074, 33.52685050798258, 35.57692307692308, 14.785921625544269, 29.027576197387518, 15.783744557329463, 17.724963715529753, 41.21915820029027, 16.346153846153847, 28.44702467343977, 42.94267053701016, 15.384615384615385, 15.439042089985486, 19.15820029027576, 35.30478955007257, 24.891146589259797, 19.085631349782293, 26.342525399129173, 32.22060957910015, 15.076197387518143, 15.457184325108852, 17.906386066763424, 30.660377358490564, 20.355587808417997, 19.738751814223512, 16.96298984034833, 15.820029027576195, 16.545718432510885]}, \"mode\": \"markers\", \"name\": \"Origen\", \"text\": \"Origen\", \"type\": \"scattermapbox\"}, {\"hovertext\": [\"ID_estacion:1|n:2318\", \"ID_estacion:18|n:1749\", \"ID_estacion:20|n:1925\", \"ID_estacion:27|n:1048\", \"ID_estacion:43|n:957\", \"ID_estacion:53|n:1242\", \"ID_estacion:63|n:889\", \"ID_estacion:86|n:2756\", \"ID_estacion:111|n:1862\", \"ID_estacion:126|n:1102\", \"ID_estacion:134|n:1016\", \"ID_estacion:135|n:1848\", \"ID_estacion:136|n:1961\", \"ID_estacion:139|n:815\", \"ID_estacion:141|n:1600\", \"ID_estacion:145|n:870\", \"ID_estacion:147|n:977\", \"ID_estacion:155|n:2272\", \"ID_estacion:158|n:901\", \"ID_estacion:162|n:1568\", \"ID_estacion:163|n:2367\", \"ID_estacion:174|n:848\", \"ID_estacion:183|n:851\", \"ID_estacion:185|n:1056\", \"ID_estacion:206|n:1946\", \"ID_estacion:208|n:1372\", \"ID_estacion:211|n:1052\", \"ID_estacion:217|n:1452\", \"ID_estacion:242|n:1776\", \"ID_estacion:254|n:831\", \"ID_estacion:266|n:852\", \"ID_estacion:270|n:987\", \"ID_estacion:295|n:1690\", \"ID_estacion:310|n:1122\", \"ID_estacion:312|n:1088\", \"ID_estacion:356|n:935\", \"ID_estacion:357|n:872\", \"ID_estacion:366|n:912\", null, null, null, null], \"lat\": [19.433571399999998, 19.42888, 19.430964000000003, 19.429115, 19.435228, 19.414773, 19.413681, 19.432378, 19.438236899999996, 19.422288, 19.418304, 19.419225, 19.417715, 19.416128, 19.415905, 19.412860000000002, 19.412182, 19.408217999999998, 19.407447, 19.404907, 19.405246, 19.441110000000002, 19.43767, 19.4128, 19.435798000000002, 19.434182, 19.433607000000002, 19.432888000000002, 19.440344, 19.43935, 19.444031, 19.43676, 19.396328, 19.395319, 19.392634, 19.381292000000002, 19.380598000000003, 19.378345, 19.379884, 19.373142, 19.42018, 19.445039], \"lon\": [-99.16780909999999, -99.164176, -99.160206, -99.162614, -99.146063, -99.178433, -99.171531, -99.159077, -99.16594649999999, -99.162138, -99.15956, -99.15509899999999, -99.162729, -99.162097, -99.15954, -99.160661, -99.158443, -99.159911, -99.15571700000001, -99.162485, -99.15643100000001, -99.16164, -99.16402, -99.1828, -99.201419, -99.189835, -99.188528, -99.183605, -99.20105, -99.16006999999999, -99.152187, -99.15387, -99.156871, -99.181733, -99.183737, -99.170171, -99.1669248, -99.181973, -99.17747800000001, -99.178283, -99.17439300000001, -99.194078], \"marker\": {\"color\": \"red\", \"opacity\": 0.7, \"size\": [31.12099644128114, 44.555160142348754, 17.02846975088968, 19.501779359430603, 14.750889679715304, 18.647686832740213, 22.09964412811388, 14.839857651245552, 37.36654804270463, 14.875444839857652, 17.88256227758007, 18.07829181494662, 19.608540925266905, 34.786476868327405, 33.73665480427046, 21.93950177935943, 28.46975088967972, 15.480427046263346, 50.0, 16.032028469750887, 27.900355871886124, 46.530249110320284, 20.01779359430605, 15.142348754448399, 18.23843416370107, 18.790035587188612, 18.718861209964412, 24.41281138790036, 16.38790035587189, 25.836298932384345, 16.15658362989324, 15.444839857651246, 15.16014234875445, 17.562277580071175, 14.786476868327403, 14.555160142348756, 15.516014234875444, 19.359430604982204, 19.9644128113879, 16.63701067615658, 15.516014234875444, 16.227758007117437]}, \"mode\": \"markers\", \"name\": \"Destino\", \"text\": \"Destino\", \"type\": \"scattermapbox\"}],\n",
              "                        {\"mapbox\": {\"accesstoken\": \"pk.eyJ1IjoiYXJ0ZWNrIiwiYSI6ImNqemhiZ2pwMDB1ZGczanFrbHcwdWd1M3kifQ.-25TFMLfltbaFcBKNY7AFQ\", \"center\": {\"lat\": 19.412860000000002, \"lon\": -99.160661}, \"style\": \"dark\", \"zoom\": 13}, \"margin\": {\"b\": 0, \"l\": 0, \"r\": 0, \"t\": 0}, \"template\": {\"data\": {\"bar\": [{\"error_x\": {\"color\": \"#2a3f5f\"}, \"error_y\": {\"color\": \"#2a3f5f\"}, \"marker\": {\"line\": {\"color\": \"#E5ECF6\", \"width\": 0.5}}, \"type\": \"bar\"}], \"barpolar\": [{\"marker\": {\"line\": {\"color\": \"#E5ECF6\", \"width\": 0.5}}, \"type\": \"barpolar\"}], \"carpet\": [{\"aaxis\": {\"endlinecolor\": \"#2a3f5f\", \"gridcolor\": \"white\", \"linecolor\": \"white\", \"minorgridcolor\": \"white\", \"startlinecolor\": \"#2a3f5f\"}, \"baxis\": {\"endlinecolor\": \"#2a3f5f\", \"gridcolor\": \"white\", \"linecolor\": \"white\", \"minorgridcolor\": \"white\", \"startlinecolor\": \"#2a3f5f\"}, \"type\": \"carpet\"}], \"choropleth\": [{\"colorbar\": {\"outlinewidth\": 0, \"ticks\": \"\"}, \"type\": \"choropleth\"}], \"contour\": [{\"colorbar\": {\"outlinewidth\": 0, \"ticks\": \"\"}, \"colorscale\": [[0.0, \"#0d0887\"], [0.1111111111111111, \"#46039f\"], [0.2222222222222222, \"#7201a8\"], [0.3333333333333333, \"#9c179e\"], [0.4444444444444444, \"#bd3786\"], [0.5555555555555556, \"#d8576b\"], [0.6666666666666666, \"#ed7953\"], [0.7777777777777778, \"#fb9f3a\"], [0.8888888888888888, \"#fdca26\"], [1.0, \"#f0f921\"]], \"type\": \"contour\"}], \"contourcarpet\": [{\"colorbar\": {\"outlinewidth\": 0, \"ticks\": \"\"}, \"type\": \"contourcarpet\"}], \"heatmap\": [{\"colorbar\": {\"outlinewidth\": 0, \"ticks\": \"\"}, \"colorscale\": [[0.0, \"#0d0887\"], [0.1111111111111111, \"#46039f\"], [0.2222222222222222, \"#7201a8\"], [0.3333333333333333, \"#9c179e\"], [0.4444444444444444, \"#bd3786\"], [0.5555555555555556, \"#d8576b\"], [0.6666666666666666, \"#ed7953\"], [0.7777777777777778, \"#fb9f3a\"], [0.8888888888888888, \"#fdca26\"], [1.0, \"#f0f921\"]], \"type\": \"heatmap\"}], \"heatmapgl\": [{\"colorbar\": {\"outlinewidth\": 0, \"ticks\": \"\"}, \"colorscale\": [[0.0, \"#0d0887\"], [0.1111111111111111, \"#46039f\"], [0.2222222222222222, \"#7201a8\"], [0.3333333333333333, \"#9c179e\"], [0.4444444444444444, \"#bd3786\"], [0.5555555555555556, \"#d8576b\"], [0.6666666666666666, \"#ed7953\"], [0.7777777777777778, \"#fb9f3a\"], [0.8888888888888888, \"#fdca26\"], [1.0, \"#f0f921\"]], \"type\": \"heatmapgl\"}], \"histogram\": [{\"marker\": {\"colorbar\": {\"outlinewidth\": 0, \"ticks\": \"\"}}, \"type\": \"histogram\"}], \"histogram2d\": [{\"colorbar\": {\"outlinewidth\": 0, \"ticks\": \"\"}, \"colorscale\": [[0.0, \"#0d0887\"], [0.1111111111111111, \"#46039f\"], [0.2222222222222222, \"#7201a8\"], [0.3333333333333333, \"#9c179e\"], [0.4444444444444444, \"#bd3786\"], [0.5555555555555556, \"#d8576b\"], [0.6666666666666666, \"#ed7953\"], [0.7777777777777778, \"#fb9f3a\"], [0.8888888888888888, \"#fdca26\"], [1.0, \"#f0f921\"]], \"type\": \"histogram2d\"}], \"histogram2dcontour\": [{\"colorbar\": {\"outlinewidth\": 0, \"ticks\": \"\"}, \"colorscale\": [[0.0, \"#0d0887\"], [0.1111111111111111, \"#46039f\"], [0.2222222222222222, \"#7201a8\"], [0.3333333333333333, \"#9c179e\"], [0.4444444444444444, \"#bd3786\"], [0.5555555555555556, \"#d8576b\"], [0.6666666666666666, \"#ed7953\"], [0.7777777777777778, \"#fb9f3a\"], [0.8888888888888888, \"#fdca26\"], [1.0, \"#f0f921\"]], \"type\": \"histogram2dcontour\"}], \"mesh3d\": [{\"colorbar\": {\"outlinewidth\": 0, \"ticks\": \"\"}, \"type\": \"mesh3d\"}], \"parcoords\": [{\"line\": {\"colorbar\": {\"outlinewidth\": 0, \"ticks\": \"\"}}, \"type\": \"parcoords\"}], \"pie\": [{\"automargin\": true, \"type\": \"pie\"}], \"scatter\": [{\"marker\": {\"colorbar\": {\"outlinewidth\": 0, \"ticks\": \"\"}}, \"type\": \"scatter\"}], \"scatter3d\": [{\"line\": {\"colorbar\": {\"outlinewidth\": 0, \"ticks\": \"\"}}, \"marker\": {\"colorbar\": {\"outlinewidth\": 0, \"ticks\": \"\"}}, \"type\": \"scatter3d\"}], \"scattercarpet\": [{\"marker\": {\"colorbar\": {\"outlinewidth\": 0, \"ticks\": \"\"}}, \"type\": \"scattercarpet\"}], \"scattergeo\": [{\"marker\": {\"colorbar\": {\"outlinewidth\": 0, \"ticks\": \"\"}}, \"type\": \"scattergeo\"}], \"scattergl\": [{\"marker\": {\"colorbar\": {\"outlinewidth\": 0, \"ticks\": \"\"}}, \"type\": \"scattergl\"}], \"scattermapbox\": [{\"marker\": {\"colorbar\": {\"outlinewidth\": 0, \"ticks\": \"\"}}, \"type\": \"scattermapbox\"}], \"scatterpolar\": [{\"marker\": {\"colorbar\": {\"outlinewidth\": 0, \"ticks\": \"\"}}, \"type\": \"scatterpolar\"}], \"scatterpolargl\": [{\"marker\": {\"colorbar\": {\"outlinewidth\": 0, \"ticks\": \"\"}}, \"type\": \"scatterpolargl\"}], \"scatterternary\": [{\"marker\": {\"colorbar\": {\"outlinewidth\": 0, \"ticks\": \"\"}}, \"type\": \"scatterternary\"}], \"surface\": [{\"colorbar\": {\"outlinewidth\": 0, \"ticks\": \"\"}, \"colorscale\": [[0.0, \"#0d0887\"], [0.1111111111111111, \"#46039f\"], [0.2222222222222222, \"#7201a8\"], [0.3333333333333333, \"#9c179e\"], [0.4444444444444444, \"#bd3786\"], [0.5555555555555556, \"#d8576b\"], [0.6666666666666666, \"#ed7953\"], [0.7777777777777778, \"#fb9f3a\"], [0.8888888888888888, \"#fdca26\"], [1.0, \"#f0f921\"]], \"type\": \"surface\"}], \"table\": [{\"cells\": {\"fill\": {\"color\": \"#EBF0F8\"}, \"line\": {\"color\": \"white\"}}, \"header\": {\"fill\": {\"color\": \"#C8D4E3\"}, \"line\": {\"color\": \"white\"}}, \"type\": \"table\"}]}, \"layout\": {\"annotationdefaults\": {\"arrowcolor\": \"#2a3f5f\", \"arrowhead\": 0, \"arrowwidth\": 1}, \"coloraxis\": {\"colorbar\": {\"outlinewidth\": 0, \"ticks\": \"\"}}, \"colorscale\": {\"diverging\": [[0, \"#8e0152\"], [0.1, \"#c51b7d\"], [0.2, \"#de77ae\"], [0.3, \"#f1b6da\"], [0.4, \"#fde0ef\"], [0.5, \"#f7f7f7\"], [0.6, \"#e6f5d0\"], [0.7, \"#b8e186\"], [0.8, \"#7fbc41\"], [0.9, \"#4d9221\"], [1, \"#276419\"]], \"sequential\": [[0.0, \"#0d0887\"], [0.1111111111111111, \"#46039f\"], [0.2222222222222222, \"#7201a8\"], [0.3333333333333333, \"#9c179e\"], [0.4444444444444444, \"#bd3786\"], [0.5555555555555556, \"#d8576b\"], [0.6666666666666666, \"#ed7953\"], [0.7777777777777778, \"#fb9f3a\"], [0.8888888888888888, \"#fdca26\"], [1.0, \"#f0f921\"]], \"sequentialminus\": [[0.0, \"#0d0887\"], [0.1111111111111111, \"#46039f\"], [0.2222222222222222, \"#7201a8\"], [0.3333333333333333, \"#9c179e\"], [0.4444444444444444, \"#bd3786\"], [0.5555555555555556, \"#d8576b\"], [0.6666666666666666, \"#ed7953\"], [0.7777777777777778, \"#fb9f3a\"], [0.8888888888888888, \"#fdca26\"], [1.0, \"#f0f921\"]]}, \"colorway\": [\"#636efa\", \"#EF553B\", \"#00cc96\", \"#ab63fa\", \"#FFA15A\", \"#19d3f3\", \"#FF6692\", \"#B6E880\", \"#FF97FF\", \"#FECB52\"], \"font\": {\"color\": \"#2a3f5f\"}, \"geo\": {\"bgcolor\": \"white\", \"lakecolor\": \"white\", \"landcolor\": \"#E5ECF6\", \"showlakes\": true, \"showland\": true, \"subunitcolor\": \"white\"}, \"hoverlabel\": {\"align\": \"left\"}, \"hovermode\": \"closest\", \"mapbox\": {\"style\": \"light\"}, \"paper_bgcolor\": \"white\", \"plot_bgcolor\": \"#E5ECF6\", \"polar\": {\"angularaxis\": {\"gridcolor\": \"white\", \"linecolor\": \"white\", \"ticks\": \"\"}, \"bgcolor\": \"#E5ECF6\", \"radialaxis\": {\"gridcolor\": \"white\", \"linecolor\": \"white\", \"ticks\": \"\"}}, \"scene\": {\"xaxis\": {\"backgroundcolor\": \"#E5ECF6\", \"gridcolor\": \"white\", \"gridwidth\": 2, \"linecolor\": \"white\", \"showbackground\": true, \"ticks\": \"\", \"zerolinecolor\": \"white\"}, \"yaxis\": {\"backgroundcolor\": \"#E5ECF6\", \"gridcolor\": \"white\", \"gridwidth\": 2, \"linecolor\": \"white\", \"showbackground\": true, \"ticks\": \"\", \"zerolinecolor\": \"white\"}, \"zaxis\": {\"backgroundcolor\": \"#E5ECF6\", \"gridcolor\": \"white\", \"gridwidth\": 2, \"linecolor\": \"white\", \"showbackground\": true, \"ticks\": \"\", \"zerolinecolor\": \"white\"}}, \"shapedefaults\": {\"line\": {\"color\": \"#2a3f5f\"}}, \"ternary\": {\"aaxis\": {\"gridcolor\": \"white\", \"linecolor\": \"white\", \"ticks\": \"\"}, \"baxis\": {\"gridcolor\": \"white\", \"linecolor\": \"white\", \"ticks\": \"\"}, \"bgcolor\": \"#E5ECF6\", \"caxis\": {\"gridcolor\": \"white\", \"linecolor\": \"white\", \"ticks\": \"\"}}, \"title\": {\"x\": 0.05}, \"xaxis\": {\"automargin\": true, \"gridcolor\": \"white\", \"linecolor\": \"white\", \"ticks\": \"\", \"title\": {\"standoff\": 15}, \"zerolinecolor\": \"white\", \"zerolinewidth\": 2}, \"yaxis\": {\"automargin\": true, \"gridcolor\": \"white\", \"linecolor\": \"white\", \"ticks\": \"\", \"title\": {\"standoff\": 15}, \"zerolinecolor\": \"white\", \"zerolinewidth\": 2}}}},\n",
              "                        {\"responsive\": true}\n",
              "                    ).then(function(){\n",
              "                            \n",
              "var gd = document.getElementById('cbd1f611-1c5d-4a5e-abf4-01ebae61b2b9');\n",
              "var x = new MutationObserver(function (mutations, observer) {{\n",
              "        var display = window.getComputedStyle(gd).display;\n",
              "        if (!display || display === 'none') {{\n",
              "            console.log([gd, 'removed!']);\n",
              "            Plotly.purge(gd);\n",
              "            observer.disconnect();\n",
              "        }}\n",
              "}});\n",
              "\n",
              "// Listen for the removal of the full notebook cells\n",
              "var notebookContainer = gd.closest('#notebook-container');\n",
              "if (notebookContainer) {{\n",
              "    x.observe(notebookContainer, {childList: true});\n",
              "}}\n",
              "\n",
              "// Listen for the clearing of the current output cell\n",
              "var outputEl = gd.closest('.output');\n",
              "if (outputEl) {{\n",
              "    x.observe(outputEl, {childList: true});\n",
              "}}\n",
              "\n",
              "                        })\n",
              "                };\n",
              "                \n",
              "            </script>\n",
              "        </div>\n",
              "</body>\n",
              "</html>"
            ]
          },
          "metadata": {
            "tags": []
          }
        }
      ]
    },
    {
      "cell_type": "code",
      "metadata": {
        "id": "vv4xMJ-S1RFf",
        "colab": {
          "base_uri": "https://localhost:8080/",
          "height": 542
        },
        "outputId": "4e28de16-0b47-4a6e-b7b1-79c224ba04cc"
      },
      "source": [
        "top_50, _ = crear_mapa(ecobici_df[ecobici_df['Edad_Usuario'] > 60].copy(), estaciones_df)\n"
      ],
      "execution_count": null,
      "outputs": [
        {
          "output_type": "display_data",
          "data": {
            "text/html": [
              "<html>\n",
              "<head><meta charset=\"utf-8\" /></head>\n",
              "<body>\n",
              "    <div>\n",
              "            <script src=\"https://cdnjs.cloudflare.com/ajax/libs/mathjax/2.7.5/MathJax.js?config=TeX-AMS-MML_SVG\"></script><script type=\"text/javascript\">if (window.MathJax) {MathJax.Hub.Config({SVG: {font: \"STIX-Web\"}});}</script>\n",
              "                <script type=\"text/javascript\">window.PlotlyConfig = {MathJaxConfig: 'local'};</script>\n",
              "        <script src=\"https://cdn.plot.ly/plotly-latest.min.js\"></script>    \n",
              "            <div id=\"610b72d7-d43f-4c92-b283-5bd1736b0610\" class=\"plotly-graph-div\" style=\"height:525px; width:100%;\"></div>\n",
              "            <script type=\"text/javascript\">\n",
              "                \n",
              "                    window.PLOTLYENV=window.PLOTLYENV || {};\n",
              "                    \n",
              "                if (document.getElementById(\"610b72d7-d43f-4c92-b283-5bd1736b0610\")) {\n",
              "                    Plotly.newPlot(\n",
              "                        '610b72d7-d43f-4c92-b283-5bd1736b0610',\n",
              "                        [{\"lat\": [19.43935, 19.43935], \"line\": {\"color\": \"#4f2463\", \"width\": 10.0}, \"lon\": [-99.16006999999999, -99.16006999999999], \"mode\": \"lines\", \"name\": \"1260|19.43935|-99.16006999999999\", \"text\": \"1260\", \"type\": \"scattermapbox\"}, {\"hoverinfo\": \"text\", \"hovertext\": \"956\", \"lat\": [19.408217999999998, 19.408217999999998], \"line\": {\"color\": \"#542665\", \"width\": 7.587301587301587}, \"lon\": [-99.159911, -99.159911], \"mode\": \"lines\", \"name\": \"956\", \"text\": \"956\", \"type\": \"scattermapbox\"}, {\"hoverinfo\": \"text\", \"hovertext\": \"692\", \"lat\": [19.412860000000002, 19.419579000000002], \"line\": {\"color\": \"#582766\", \"width\": 5.492063492063492}, \"lon\": [-99.160661, -99.161314], \"mode\": \"lines\", \"name\": \"692\", \"text\": \"692\", \"type\": \"scattermapbox\"}, {\"hoverinfo\": \"text\", \"hovertext\": \"561\", \"lat\": [19.392634, 19.392634], \"line\": {\"color\": \"#5d2868\", \"width\": 4.4523809523809526}, \"lon\": [-99.183737, -99.183737], \"mode\": \"lines\", \"name\": \"561\", \"text\": \"561\", \"type\": \"scattermapbox\"}, {\"hoverinfo\": \"text\", \"hovertext\": \"537\", \"lat\": [19.419579000000002, 19.412860000000002], \"line\": {\"color\": \"#62296a\", \"width\": 4.261904761904762}, \"lon\": [-99.161314, -99.160661], \"mode\": \"lines\", \"name\": \"537\", \"text\": \"537\", \"type\": \"scattermapbox\"}, {\"hoverinfo\": \"text\", \"hovertext\": \"497\", \"lat\": [19.4128, 19.41479], \"line\": {\"color\": \"#662a6b\", \"width\": 3.944444444444444}, \"lon\": [-99.1828, -99.18508], \"mode\": \"lines\", \"name\": \"497\", \"text\": \"497\", \"type\": \"scattermapbox\"}, {\"hoverinfo\": \"text\", \"hovertext\": \"448\", \"lat\": [19.425476999999997, 19.425476999999997], \"line\": {\"color\": \"#6b2b6c\", \"width\": 3.555555555555556}, \"lon\": [-99.17156700000001, -99.17156700000001], \"mode\": \"lines\", \"name\": \"448\", \"text\": \"448\", \"type\": \"scattermapbox\"}, {\"hoverinfo\": \"text\", \"hovertext\": \"442\", \"lat\": [19.412182, 19.41199], \"line\": {\"color\": \"#702c6e\", \"width\": 3.507936507936508}, \"lon\": [-99.158443, -99.155699], \"mode\": \"lines\", \"name\": \"442\", \"text\": \"442\", \"type\": \"scattermapbox\"}, {\"hoverinfo\": \"text\", \"hovertext\": \"406\", \"lat\": [19.41479, 19.4128], \"line\": {\"color\": \"#752d6f\", \"width\": 3.2222222222222223}, \"lon\": [-99.18508, -99.1828], \"mode\": \"lines\", \"name\": \"406\", \"text\": \"406\", \"type\": \"scattermapbox\"}, {\"hoverinfo\": \"text\", \"hovertext\": \"394\", \"lat\": [19.41004, 19.41004], \"line\": {\"color\": \"#792e6f\", \"width\": 3.126984126984127}, \"lon\": [-99.18798000000001, -99.18798000000001], \"mode\": \"lines\", \"name\": \"394\", \"text\": \"394\", \"type\": \"scattermapbox\"}, {\"hoverinfo\": \"text\", \"hovertext\": \"387\", \"lat\": [19.411797, 19.411797], \"line\": {\"color\": \"#7e2f70\", \"width\": 3.0714285714285716}, \"lon\": [-99.17588, -99.17588], \"mode\": \"lines\", \"name\": \"387\", \"text\": \"387\", \"type\": \"scattermapbox\"}, {\"hoverinfo\": \"text\", \"hovertext\": \"385\", \"lat\": [19.391647, 19.384849], \"line\": {\"color\": \"#833070\", \"width\": 3.055555555555556}, \"lon\": [-99.17733100000001, -99.16704], \"mode\": \"lines\", \"name\": \"385\", \"text\": \"385\", \"type\": \"scattermapbox\"}, {\"hoverinfo\": \"text\", \"hovertext\": \"377\", \"lat\": [19.438236899999996, 19.441110000000002], \"line\": {\"color\": \"#873171\", \"width\": 2.992063492063492}, \"lon\": [-99.16594649999999, -99.16164], \"mode\": \"lines\", \"name\": \"377\", \"text\": \"377\", \"type\": \"scattermapbox\"}, {\"hoverinfo\": \"text\", \"hovertext\": \"376\", \"lat\": [19.415905, 19.412829000000002], \"line\": {\"color\": \"#8c3271\", \"width\": 2.984126984126984}, \"lon\": [-99.15954, -99.155116], \"mode\": \"lines\", \"name\": \"376\", \"text\": \"376\", \"type\": \"scattermapbox\"}, {\"hoverinfo\": \"text\", \"hovertext\": \"371\", \"lat\": [19.403204000000002, 19.406682999999997], \"line\": {\"color\": \"#913371\", \"width\": 2.9444444444444446}, \"lon\": [-99.16596, -99.167962], \"mode\": \"lines\", \"name\": \"371\", \"text\": \"371\", \"type\": \"scattermapbox\"}, {\"hoverinfo\": \"text\", \"hovertext\": \"370\", \"lat\": [19.41199, 19.412182], \"line\": {\"color\": \"#953470\", \"width\": 2.9365079365079367}, \"lon\": [-99.155699, -99.158443], \"mode\": \"lines\", \"name\": \"370\", \"text\": \"370\", \"type\": \"scattermapbox\"}, {\"hoverinfo\": \"text\", \"hovertext\": \"370\", \"lat\": [19.415121, 19.419725], \"line\": {\"color\": \"#9a3670\", \"width\": 2.9365079365079367}, \"lon\": [-99.166661, -99.17577800000001], \"mode\": \"lines\", \"name\": \"370\", \"text\": \"370\", \"type\": \"scattermapbox\"}, {\"hoverinfo\": \"text\", \"hovertext\": \"359\", \"lat\": [19.407020000000003, 19.407020000000003], \"line\": {\"color\": \"#9f376f\", \"width\": 2.849206349206349}, \"lon\": [-99.16958699999999, -99.16958699999999], \"mode\": \"lines\", \"name\": \"359\", \"text\": \"359\", \"type\": \"scattermapbox\"}, {\"hoverinfo\": \"text\", \"hovertext\": \"336\", \"lat\": [19.441110000000002, 19.438236899999996], \"line\": {\"color\": \"#a3386f\", \"width\": 2.6666666666666665}, \"lon\": [-99.16164, -99.16594649999999], \"mode\": \"lines\", \"name\": \"336\", \"text\": \"336\", \"type\": \"scattermapbox\"}, {\"hoverinfo\": \"text\", \"hovertext\": \"329\", \"lat\": [19.420419, 19.420419], \"line\": {\"color\": \"#a8396e\", \"width\": 2.611111111111111}, \"lon\": [-99.172676, -99.172676], \"mode\": \"lines\", \"name\": \"329\", \"text\": \"329\", \"type\": \"scattermapbox\"}, {\"hoverinfo\": \"text\", \"hovertext\": \"329\", \"lat\": [19.410529, 19.4167], \"line\": {\"color\": \"#ad3b6d\", \"width\": 2.611111111111111}, \"lon\": [-99.160873, -99.1791], \"mode\": \"lines\", \"name\": \"329\", \"text\": \"329\", \"type\": \"scattermapbox\"}, {\"hoverinfo\": \"text\", \"hovertext\": \"327\", \"lat\": [19.411797, 19.412876999999998], \"line\": {\"color\": \"#b13c6c\", \"width\": 2.5952380952380953}, \"lon\": [-99.17588, -99.166986], \"mode\": \"lines\", \"name\": \"327\", \"text\": \"327\", \"type\": \"scattermapbox\"}, {\"hoverinfo\": \"text\", \"hovertext\": \"321\", \"lat\": [19.41568, 19.406295999999998], \"line\": {\"color\": \"#b63d6b\", \"width\": 2.5476190476190474}, \"lon\": [-99.17179300000001, -99.172117], \"mode\": \"lines\", \"name\": \"321\", \"text\": \"321\", \"type\": \"scattermapbox\"}, {\"hoverinfo\": \"text\", \"hovertext\": \"319\", \"lat\": [19.384849, 19.391647], \"line\": {\"color\": \"#bb3f6a\", \"width\": 2.5317460317460316}, \"lon\": [-99.16704, -99.17733100000001], \"mode\": \"lines\", \"name\": \"319\", \"text\": \"319\", \"type\": \"scattermapbox\"}, {\"hoverinfo\": \"text\", \"hovertext\": \"313\", \"lat\": [19.43862, 19.43862], \"line\": {\"color\": \"#c04068\", \"width\": 2.484126984126984}, \"lon\": [-99.20758000000001, -99.20758000000001], \"mode\": \"lines\", \"name\": \"313\", \"text\": \"313\", \"type\": \"scattermapbox\"}, {\"hoverinfo\": \"text\", \"hovertext\": \"301\", \"lat\": [19.4372, 19.435637], \"line\": {\"color\": \"#c44267\", \"width\": 2.388888888888889}, \"lon\": [-99.15816, -99.150137], \"mode\": \"lines\", \"name\": \"301\", \"text\": \"301\", \"type\": \"scattermapbox\"}, {\"hoverinfo\": \"text\", \"hovertext\": \"300\", \"lat\": [19.421758999999998, 19.421758999999998], \"line\": {\"color\": \"#c84465\", \"width\": 2.380952380952381}, \"lon\": [-99.16694, -99.16694], \"mode\": \"lines\", \"name\": \"300\", \"text\": \"300\", \"type\": \"scattermapbox\"}, {\"hoverinfo\": \"text\", \"hovertext\": \"295\", \"lat\": [19.406236, 19.403204000000002], \"line\": {\"color\": \"#cc4663\", \"width\": 2.3412698412698414}, \"lon\": [-99.166616, -99.16596], \"mode\": \"lines\", \"name\": \"295\", \"text\": \"295\", \"type\": \"scattermapbox\"}, {\"hoverinfo\": \"text\", \"hovertext\": \"292\", \"lat\": [19.431386, 19.407020000000003], \"line\": {\"color\": \"#d04962\", \"width\": 2.3174603174603177}, \"lon\": [-99.171695, -99.16958699999999], \"mode\": \"lines\", \"name\": \"292\", \"text\": \"292\", \"type\": \"scattermapbox\"}, {\"hoverinfo\": \"text\", \"hovertext\": \"292\", \"lat\": [19.418304, 19.422288], \"line\": {\"color\": \"#d44c60\", \"width\": 2.3174603174603177}, \"lon\": [-99.15956, -99.162138], \"mode\": \"lines\", \"name\": \"292\", \"text\": \"292\", \"type\": \"scattermapbox\"}, {\"hoverinfo\": \"text\", \"hovertext\": \"288\", \"lat\": [19.377968, 19.379269], \"line\": {\"color\": \"#d7505e\", \"width\": 2.2857142857142856}, \"lon\": [-99.166663, -99.161169], \"mode\": \"lines\", \"name\": \"288\", \"text\": \"288\", \"type\": \"scattermapbox\"}, {\"hoverinfo\": \"text\", \"hovertext\": \"287\", \"lat\": [19.404268, 19.405246], \"line\": {\"color\": \"#da545d\", \"width\": 2.2777777777777777}, \"lon\": [-99.160503, -99.15643100000001], \"mode\": \"lines\", \"name\": \"287\", \"text\": \"287\", \"type\": \"scattermapbox\"}, {\"hoverinfo\": \"text\", \"hovertext\": \"287\", \"lat\": [19.42888, 19.433571399999998], \"line\": {\"color\": \"#dc585c\", \"width\": 2.2777777777777777}, \"lon\": [-99.164176, -99.16780909999999], \"mode\": \"lines\", \"name\": \"287\", \"text\": \"287\", \"type\": \"scattermapbox\"}, {\"hoverinfo\": \"text\", \"hovertext\": \"287\", \"lat\": [19.403204000000002, 19.403204000000002], \"line\": {\"color\": \"#de5d5c\", \"width\": 2.2777777777777777}, \"lon\": [-99.16596, -99.16596], \"mode\": \"lines\", \"name\": \"287\", \"text\": \"287\", \"type\": \"scattermapbox\"}, {\"hoverinfo\": \"text\", \"hovertext\": \"286\", \"lat\": [19.406236, 19.413742000000003], \"line\": {\"color\": \"#e0615c\", \"width\": 2.2698412698412698}, \"lon\": [-99.166616, -99.169525], \"mode\": \"lines\", \"name\": \"286\", \"text\": \"286\", \"type\": \"scattermapbox\"}, {\"hoverinfo\": \"text\", \"hovertext\": \"280\", \"lat\": [19.416712, 19.416712], \"line\": {\"color\": \"#e2665c\", \"width\": 2.2222222222222223}, \"lon\": [-99.17570400000001, -99.17570400000001], \"mode\": \"lines\", \"name\": \"280\", \"text\": \"280\", \"type\": \"scattermapbox\"}, {\"hoverinfo\": \"text\", \"hovertext\": \"275\", \"lat\": [19.435354, 19.435354], \"line\": {\"color\": \"#e36b5d\", \"width\": 2.182539682539683}, \"lon\": [-99.14774200000001, -99.14774200000001], \"mode\": \"lines\", \"name\": \"275\", \"text\": \"275\", \"type\": \"scattermapbox\"}, {\"hoverinfo\": \"text\", \"hovertext\": \"271\", \"lat\": [19.419579000000002, 19.412182], \"line\": {\"color\": \"#e5705e\", \"width\": 2.150793650793651}, \"lon\": [-99.161314, -99.158443], \"mode\": \"lines\", \"name\": \"271\", \"text\": \"271\", \"type\": \"scattermapbox\"}, {\"hoverinfo\": \"text\", \"hovertext\": \"268\", \"lat\": [19.402584, 19.421758999999998], \"line\": {\"color\": \"#e67560\", \"width\": 2.126984126984127}, \"lon\": [-99.17819899999999, -99.16694], \"mode\": \"lines\", \"name\": \"268\", \"text\": \"268\", \"type\": \"scattermapbox\"}, {\"hoverinfo\": \"text\", \"hovertext\": \"267\", \"lat\": [19.432313, 19.427501], \"line\": {\"color\": \"#e77a62\", \"width\": 2.119047619047619}, \"lon\": [-99.161597, -99.167125], \"mode\": \"lines\", \"name\": \"267\", \"text\": \"267\", \"type\": \"scattermapbox\"}, {\"hoverinfo\": \"text\", \"hovertext\": \"266\", \"lat\": [19.394693, 19.392634], \"line\": {\"color\": \"#e87f64\", \"width\": 2.111111111111111}, \"lon\": [-99.175531, -99.183737], \"mode\": \"lines\", \"name\": \"266\", \"text\": \"266\", \"type\": \"scattermapbox\"}, {\"hoverinfo\": \"text\", \"hovertext\": \"260\", \"lat\": [19.375394, 19.371308], \"line\": {\"color\": \"#e88466\", \"width\": 2.0634920634920633}, \"lon\": [-99.16375, -99.177607], \"mode\": \"lines\", \"name\": \"260\", \"text\": \"260\", \"type\": \"scattermapbox\"}, {\"hoverinfo\": \"text\", \"hovertext\": \"258\", \"lat\": [19.42592, 19.424282], \"line\": {\"color\": \"#e98969\", \"width\": 2.0476190476190474}, \"lon\": [-99.19075500000001, -99.180334], \"mode\": \"lines\", \"name\": \"258\", \"text\": \"258\", \"type\": \"scattermapbox\"}, {\"hoverinfo\": \"text\", \"hovertext\": \"256\", \"lat\": [19.427329, 19.431655], \"line\": {\"color\": \"#ea8e6c\", \"width\": 2.0317460317460316}, \"lon\": [-99.149971, -99.158668], \"mode\": \"lines\", \"name\": \"256\", \"text\": \"256\", \"type\": \"scattermapbox\"}, {\"hoverinfo\": \"text\", \"hovertext\": \"255\", \"lat\": [19.407534, 19.412876999999998], \"line\": {\"color\": \"#ea936f\", \"width\": 2.0238095238095237}, \"lon\": [-99.17442700000001, -99.166986], \"mode\": \"lines\", \"name\": \"255\", \"text\": \"255\", \"type\": \"scattermapbox\"}, {\"hoverinfo\": \"text\", \"hovertext\": \"252\", \"lat\": [19.401682, 19.41479], \"line\": {\"color\": \"#eb9872\", \"width\": 2.0}, \"lon\": [-99.17639799999999, -99.18508], \"mode\": \"lines\", \"name\": \"252\", \"text\": \"252\", \"type\": \"scattermapbox\"}, {\"hoverinfo\": \"text\", \"hovertext\": \"252\", \"lat\": [19.371308, 19.375394], \"line\": {\"color\": \"#eb9c75\", \"width\": 2.0}, \"lon\": [-99.177607, -99.16375], \"mode\": \"lines\", \"name\": \"252\", \"text\": \"252\", \"type\": \"scattermapbox\"}, {\"hoverinfo\": \"text\", \"hovertext\": \"249\", \"lat\": [19.379269, 19.377968], \"line\": {\"color\": \"#eca178\", \"width\": 1.976190476190476}, \"lon\": [-99.161169, -99.166663], \"mode\": \"lines\", \"name\": \"249\", \"text\": \"249\", \"type\": \"scattermapbox\"}, {\"hoverinfo\": \"text\", \"hovertext\": \"248\", \"lat\": [19.378542000000003, 19.385019], \"line\": {\"color\": \"#eca67b\", \"width\": 1.9682539682539681}, \"lon\": [-99.174328, -99.174077], \"mode\": \"lines\", \"name\": \"248\", \"text\": \"248\", \"type\": \"scattermapbox\"}, {\"hoverinfo\": \"text\", \"hovertext\": \"247\", \"lat\": [19.410737, 19.419725], \"line\": {\"color\": \"#edab7e\", \"width\": 1.9603174603174602}, \"lon\": [-99.165716, -99.17577800000001], \"mode\": \"lines\", \"name\": \"247\", \"text\": \"247\", \"type\": \"scattermapbox\"}, {\"hovertext\": [\"ID_estacion:2.0|n:292\", \"ID_estacion:12.0|n:267\", \"ID_estacion:15.0|n:448\", \"ID_estacion:18.0|n:287\", \"ID_estacion:37.0|n:329\", \"ID_estacion:39.0|n:300\", \"ID_estacion:49.0|n:280\", \"ID_estacion:58.0|n:321\", \"ID_estacion:59.0|n:370\", \"ID_estacion:67.0|n:714\", \"ID_estacion:79.0|n:255\", \"ID_estacion:84.0|n:359\", \"ID_estacion:107.0|n:256\", \"ID_estacion:111.0|n:377\", \"ID_estacion:131.0|n:808\", \"ID_estacion:134.0|n:292\", \"ID_estacion:141.0|n:376\", \"ID_estacion:145.0|n:692\", \"ID_estacion:146.0|n:247\", \"ID_estacion:147.0|n:442\", \"ID_estacion:149.0|n:370\", \"ID_estacion:151.0|n:329\", \"ID_estacion:155.0|n:956\", \"ID_estacion:157.0|n:581\", \"ID_estacion:164.0|n:658\", \"ID_estacion:165.0|n:287\", \"ID_estacion:171.0|n:268\", \"ID_estacion:173.0|n:252\", \"ID_estacion:174.0|n:336\", \"ID_estacion:184.0|n:406\", \"ID_estacion:185.0|n:497\", \"ID_estacion:189.0|n:394\", \"ID_estacion:192.0|n:258\", \"ID_estacion:241.0|n:313\", \"ID_estacion:254.0|n:1260\", \"ID_estacion:256.0|n:301\", \"ID_estacion:260.0|n:275\", \"ID_estacion:305.0|n:266\", \"ID_estacion:312.0|n:561\", \"ID_estacion:314.0|n:385\", \"ID_estacion:337.0|n:319\", \"ID_estacion:359.0|n:249\", \"ID_estacion:371.0|n:248\", \"ID_estacion:373.0|n:288\", \"ID_estacion:377.0|n:260\", \"ID_estacion:416.0|n:252\"], \"lat\": [19.431386, 19.432313, 19.425476999999997, 19.42888, 19.420419, 19.421758999999998, 19.416712, 19.41568, 19.415121, 19.411797, 19.407534, 19.407020000000003, 19.427329, 19.438236899999996, 19.419579000000002, 19.418304, 19.415905, 19.412860000000002, 19.410737, 19.412182, 19.41199, 19.410529, 19.408217999999998, 19.406236, 19.403204000000002, 19.404268, 19.402584, 19.401682, 19.441110000000002, 19.41479, 19.4128, 19.41004, 19.42592, 19.43862, 19.43935, 19.4372, 19.435354, 19.394693, 19.392634, 19.391647, 19.384849, 19.379269, 19.378542000000003, 19.377968, 19.375394, 19.371308], \"lon\": [-99.171695, -99.161597, -99.17156700000001, -99.164176, -99.172676, -99.16694, -99.17570400000001, -99.17179300000001, -99.166661, -99.17588, -99.17442700000001, -99.16958699999999, -99.149971, -99.16594649999999, -99.161314, -99.15956, -99.15954, -99.160661, -99.165716, -99.158443, -99.155699, -99.160873, -99.159911, -99.166616, -99.16596, -99.160503, -99.17819899999999, -99.17639799999999, -99.16164, -99.18508, -99.1828, -99.18798000000001, -99.19075500000001, -99.20758000000001, -99.16006999999999, -99.15816, -99.14774200000001, -99.175531, -99.183737, -99.17733100000001, -99.16704, -99.161169, -99.174328, -99.166663, -99.16375, -99.177607], \"marker\": {\"color\": \"white\", \"opacity\": 0.7, \"size\": [11.587301587301587, 10.595238095238095, 17.77777777777778, 11.38888888888889, 13.055555555555557, 11.904761904761903, 11.11111111111111, 12.738095238095237, 14.682539682539684, 28.333333333333332, 10.119047619047619, 14.246031746031745, 10.158730158730158, 14.96031746031746, 32.06349206349206, 11.587301587301587, 14.920634920634921, 27.460317460317462, 9.801587301587302, 17.539682539682538, 14.682539682539684, 13.055555555555557, 37.93650793650794, 23.055555555555557, 26.111111111111114, 11.38888888888889, 10.634920634920634, 10.0, 13.333333333333334, 16.11111111111111, 19.72222222222222, 15.634920634920634, 10.238095238095237, 12.420634920634921, 50.0, 11.944444444444445, 10.912698412698413, 10.555555555555555, 22.26190476190476, 15.277777777777779, 12.658730158730158, 9.880952380952381, 9.841269841269842, 11.428571428571429, 10.317460317460316, 10.0]}, \"mode\": \"markers\", \"name\": \"Origen\", \"text\": \"Origen\", \"type\": \"scattermapbox\"}, {\"hovertext\": [\"ID_estacion:1|n:292\", \"ID_estacion:3|n:267\", \"ID_estacion:15|n:448\", \"ID_estacion:17|n:287\", \"ID_estacion:36|n:329\", \"ID_estacion:37|n:300\", \"ID_estacion:39|n:280\", \"ID_estacion:41|n:321\", \"ID_estacion:49|n:370\", \"ID_estacion:61|n:714\", \"ID_estacion:64|n:255\", \"ID_estacion:67|n:359\", \"ID_estacion:83|n:256\", \"ID_estacion:84|n:377\", \"ID_estacion:111|n:808\", \"ID_estacion:126|n:292\", \"ID_estacion:131|n:376\", \"ID_estacion:145|n:692\", \"ID_estacion:147|n:247\", \"ID_estacion:148|n:442\", \"ID_estacion:149|n:370\", \"ID_estacion:154|n:329\", \"ID_estacion:155|n:956\", \"ID_estacion:163|n:581\", \"ID_estacion:164|n:658\", \"ID_estacion:174|n:287\", \"ID_estacion:184|n:268\", \"ID_estacion:185|n:252\", \"ID_estacion:189|n:336\", \"ID_estacion:194|n:406\", \"ID_estacion:241|n:497\", \"ID_estacion:254|n:394\", \"ID_estacion:258|n:258\", \"ID_estacion:260|n:313\", \"ID_estacion:312|n:1260\", \"ID_estacion:314|n:301\", \"ID_estacion:337|n:275\", \"ID_estacion:346|n:266\", \"ID_estacion:359|n:561\", \"ID_estacion:373|n:385\", \"ID_estacion:377|n:319\", \"ID_estacion:416|n:249\", null, null, null, null], \"lat\": [19.433571399999998, 19.431655, 19.425476999999997, 19.427501, 19.419725, 19.420419, 19.421758999999998, 19.435637, 19.416712, 19.413742000000003, 19.412876999999998, 19.411797, 19.406295999999998, 19.407020000000003, 19.438236899999996, 19.422288, 19.419579000000002, 19.412860000000002, 19.412182, 19.412829000000002, 19.41199, 19.406682999999997, 19.408217999999998, 19.405246, 19.403204000000002, 19.441110000000002, 19.41479, 19.4128, 19.41004, 19.424282, 19.43862, 19.43935, 19.4167, 19.435354, 19.392634, 19.391647, 19.384849, 19.385019, 19.379269, 19.377968, 19.375394, 19.371308], \"lon\": [-99.16780909999999, -99.158668, -99.17156700000001, -99.167125, -99.17577800000001, -99.172676, -99.16694, -99.150137, -99.17570400000001, -99.169525, -99.166986, -99.17588, -99.172117, -99.16958699999999, -99.16594649999999, -99.162138, -99.161314, -99.160661, -99.158443, -99.155116, -99.155699, -99.167962, -99.159911, -99.15643100000001, -99.16596, -99.16164, -99.18508, -99.1828, -99.18798000000001, -99.180334, -99.20758000000001, -99.16006999999999, -99.1791, -99.14774200000001, -99.183737, -99.17733100000001, -99.16704, -99.174077, -99.161169, -99.166663, -99.16375, -99.177607], \"marker\": {\"color\": \"red\", \"opacity\": 0.7, \"size\": [11.38888888888889, 10.158730158730158, 17.77777777777778, 10.595238095238095, 24.484126984126984, 13.055555555555557, 22.53968253968254, 11.944444444444445, 11.11111111111111, 11.34920634920635, 23.095238095238095, 15.357142857142858, 12.738095238095237, 25.833333333333336, 13.333333333333334, 11.587301587301587, 27.460317460317462, 21.30952380952381, 25.436507936507937, 14.920634920634921, 17.539682539682538, 14.722222222222223, 37.93650793650794, 11.38888888888889, 23.095238095238095, 14.96031746031746, 29.72222222222222, 16.11111111111111, 15.634920634920634, 10.238095238095237, 12.420634920634921, 50.0, 13.055555555555557, 10.912698412698413, 32.817460317460316, 12.658730158730158, 15.277777777777779, 9.841269841269842, 11.428571428571429, 9.880952380952381, 10.0, 10.317460317460316]}, \"mode\": \"markers\", \"name\": \"Destino\", \"text\": \"Destino\", \"type\": \"scattermapbox\"}],\n",
              "                        {\"mapbox\": {\"accesstoken\": \"pk.eyJ1IjoiYXJ0ZWNrIiwiYSI6ImNqemhiZ2pwMDB1ZGczanFrbHcwdWd1M3kifQ.-25TFMLfltbaFcBKNY7AFQ\", \"center\": {\"lat\": 19.410737, \"lon\": -99.165716}, \"style\": \"dark\", \"zoom\": 13}, \"margin\": {\"b\": 0, \"l\": 0, \"r\": 0, \"t\": 0}, \"template\": {\"data\": {\"bar\": [{\"error_x\": {\"color\": \"#2a3f5f\"}, \"error_y\": {\"color\": \"#2a3f5f\"}, \"marker\": {\"line\": {\"color\": \"#E5ECF6\", \"width\": 0.5}}, \"type\": \"bar\"}], \"barpolar\": [{\"marker\": {\"line\": {\"color\": \"#E5ECF6\", \"width\": 0.5}}, \"type\": \"barpolar\"}], \"carpet\": [{\"aaxis\": {\"endlinecolor\": \"#2a3f5f\", \"gridcolor\": \"white\", \"linecolor\": \"white\", \"minorgridcolor\": \"white\", \"startlinecolor\": \"#2a3f5f\"}, \"baxis\": {\"endlinecolor\": \"#2a3f5f\", \"gridcolor\": \"white\", \"linecolor\": \"white\", \"minorgridcolor\": \"white\", \"startlinecolor\": \"#2a3f5f\"}, \"type\": \"carpet\"}], \"choropleth\": [{\"colorbar\": {\"outlinewidth\": 0, \"ticks\": \"\"}, \"type\": \"choropleth\"}], \"contour\": [{\"colorbar\": {\"outlinewidth\": 0, \"ticks\": \"\"}, \"colorscale\": [[0.0, \"#0d0887\"], [0.1111111111111111, \"#46039f\"], [0.2222222222222222, \"#7201a8\"], [0.3333333333333333, \"#9c179e\"], [0.4444444444444444, \"#bd3786\"], [0.5555555555555556, \"#d8576b\"], [0.6666666666666666, \"#ed7953\"], [0.7777777777777778, \"#fb9f3a\"], [0.8888888888888888, \"#fdca26\"], [1.0, \"#f0f921\"]], \"type\": \"contour\"}], \"contourcarpet\": [{\"colorbar\": {\"outlinewidth\": 0, \"ticks\": \"\"}, \"type\": \"contourcarpet\"}], \"heatmap\": [{\"colorbar\": {\"outlinewidth\": 0, \"ticks\": \"\"}, \"colorscale\": [[0.0, \"#0d0887\"], [0.1111111111111111, \"#46039f\"], [0.2222222222222222, \"#7201a8\"], [0.3333333333333333, \"#9c179e\"], [0.4444444444444444, \"#bd3786\"], [0.5555555555555556, \"#d8576b\"], [0.6666666666666666, \"#ed7953\"], [0.7777777777777778, \"#fb9f3a\"], [0.8888888888888888, \"#fdca26\"], [1.0, \"#f0f921\"]], \"type\": \"heatmap\"}], \"heatmapgl\": [{\"colorbar\": {\"outlinewidth\": 0, \"ticks\": \"\"}, \"colorscale\": [[0.0, \"#0d0887\"], [0.1111111111111111, \"#46039f\"], [0.2222222222222222, \"#7201a8\"], [0.3333333333333333, \"#9c179e\"], [0.4444444444444444, \"#bd3786\"], [0.5555555555555556, \"#d8576b\"], [0.6666666666666666, \"#ed7953\"], [0.7777777777777778, \"#fb9f3a\"], [0.8888888888888888, \"#fdca26\"], [1.0, \"#f0f921\"]], \"type\": \"heatmapgl\"}], \"histogram\": [{\"marker\": {\"colorbar\": {\"outlinewidth\": 0, \"ticks\": \"\"}}, \"type\": \"histogram\"}], \"histogram2d\": [{\"colorbar\": {\"outlinewidth\": 0, \"ticks\": \"\"}, \"colorscale\": [[0.0, \"#0d0887\"], [0.1111111111111111, \"#46039f\"], [0.2222222222222222, \"#7201a8\"], [0.3333333333333333, \"#9c179e\"], [0.4444444444444444, \"#bd3786\"], [0.5555555555555556, \"#d8576b\"], [0.6666666666666666, \"#ed7953\"], [0.7777777777777778, \"#fb9f3a\"], [0.8888888888888888, \"#fdca26\"], [1.0, \"#f0f921\"]], \"type\": \"histogram2d\"}], \"histogram2dcontour\": [{\"colorbar\": {\"outlinewidth\": 0, \"ticks\": \"\"}, \"colorscale\": [[0.0, \"#0d0887\"], [0.1111111111111111, \"#46039f\"], [0.2222222222222222, \"#7201a8\"], [0.3333333333333333, \"#9c179e\"], [0.4444444444444444, \"#bd3786\"], [0.5555555555555556, \"#d8576b\"], [0.6666666666666666, \"#ed7953\"], [0.7777777777777778, \"#fb9f3a\"], [0.8888888888888888, \"#fdca26\"], [1.0, \"#f0f921\"]], \"type\": \"histogram2dcontour\"}], \"mesh3d\": [{\"colorbar\": {\"outlinewidth\": 0, \"ticks\": \"\"}, \"type\": \"mesh3d\"}], \"parcoords\": [{\"line\": {\"colorbar\": {\"outlinewidth\": 0, \"ticks\": \"\"}}, \"type\": \"parcoords\"}], \"pie\": [{\"automargin\": true, \"type\": \"pie\"}], \"scatter\": [{\"marker\": {\"colorbar\": {\"outlinewidth\": 0, \"ticks\": \"\"}}, \"type\": \"scatter\"}], \"scatter3d\": [{\"line\": {\"colorbar\": {\"outlinewidth\": 0, \"ticks\": \"\"}}, \"marker\": {\"colorbar\": {\"outlinewidth\": 0, \"ticks\": \"\"}}, \"type\": \"scatter3d\"}], \"scattercarpet\": [{\"marker\": {\"colorbar\": {\"outlinewidth\": 0, \"ticks\": \"\"}}, \"type\": \"scattercarpet\"}], \"scattergeo\": [{\"marker\": {\"colorbar\": {\"outlinewidth\": 0, \"ticks\": \"\"}}, \"type\": \"scattergeo\"}], \"scattergl\": [{\"marker\": {\"colorbar\": {\"outlinewidth\": 0, \"ticks\": \"\"}}, \"type\": \"scattergl\"}], \"scattermapbox\": [{\"marker\": {\"colorbar\": {\"outlinewidth\": 0, \"ticks\": \"\"}}, \"type\": \"scattermapbox\"}], \"scatterpolar\": [{\"marker\": {\"colorbar\": {\"outlinewidth\": 0, \"ticks\": \"\"}}, \"type\": \"scatterpolar\"}], \"scatterpolargl\": [{\"marker\": {\"colorbar\": {\"outlinewidth\": 0, \"ticks\": \"\"}}, \"type\": \"scatterpolargl\"}], \"scatterternary\": [{\"marker\": {\"colorbar\": {\"outlinewidth\": 0, \"ticks\": \"\"}}, \"type\": \"scatterternary\"}], \"surface\": [{\"colorbar\": {\"outlinewidth\": 0, \"ticks\": \"\"}, \"colorscale\": [[0.0, \"#0d0887\"], [0.1111111111111111, \"#46039f\"], [0.2222222222222222, \"#7201a8\"], [0.3333333333333333, \"#9c179e\"], [0.4444444444444444, \"#bd3786\"], [0.5555555555555556, \"#d8576b\"], [0.6666666666666666, \"#ed7953\"], [0.7777777777777778, \"#fb9f3a\"], [0.8888888888888888, \"#fdca26\"], [1.0, \"#f0f921\"]], \"type\": \"surface\"}], \"table\": [{\"cells\": {\"fill\": {\"color\": \"#EBF0F8\"}, \"line\": {\"color\": \"white\"}}, \"header\": {\"fill\": {\"color\": \"#C8D4E3\"}, \"line\": {\"color\": \"white\"}}, \"type\": \"table\"}]}, \"layout\": {\"annotationdefaults\": {\"arrowcolor\": \"#2a3f5f\", \"arrowhead\": 0, \"arrowwidth\": 1}, \"coloraxis\": {\"colorbar\": {\"outlinewidth\": 0, \"ticks\": \"\"}}, \"colorscale\": {\"diverging\": [[0, \"#8e0152\"], [0.1, \"#c51b7d\"], [0.2, \"#de77ae\"], [0.3, \"#f1b6da\"], [0.4, \"#fde0ef\"], [0.5, \"#f7f7f7\"], [0.6, \"#e6f5d0\"], [0.7, \"#b8e186\"], [0.8, \"#7fbc41\"], [0.9, \"#4d9221\"], [1, \"#276419\"]], \"sequential\": [[0.0, \"#0d0887\"], [0.1111111111111111, \"#46039f\"], [0.2222222222222222, \"#7201a8\"], [0.3333333333333333, \"#9c179e\"], [0.4444444444444444, \"#bd3786\"], [0.5555555555555556, \"#d8576b\"], [0.6666666666666666, \"#ed7953\"], [0.7777777777777778, \"#fb9f3a\"], [0.8888888888888888, \"#fdca26\"], [1.0, \"#f0f921\"]], \"sequentialminus\": [[0.0, \"#0d0887\"], [0.1111111111111111, \"#46039f\"], [0.2222222222222222, \"#7201a8\"], [0.3333333333333333, \"#9c179e\"], [0.4444444444444444, \"#bd3786\"], [0.5555555555555556, \"#d8576b\"], [0.6666666666666666, \"#ed7953\"], [0.7777777777777778, \"#fb9f3a\"], [0.8888888888888888, \"#fdca26\"], [1.0, \"#f0f921\"]]}, \"colorway\": [\"#636efa\", \"#EF553B\", \"#00cc96\", \"#ab63fa\", \"#FFA15A\", \"#19d3f3\", \"#FF6692\", \"#B6E880\", \"#FF97FF\", \"#FECB52\"], \"font\": {\"color\": \"#2a3f5f\"}, \"geo\": {\"bgcolor\": \"white\", \"lakecolor\": \"white\", \"landcolor\": \"#E5ECF6\", \"showlakes\": true, \"showland\": true, \"subunitcolor\": \"white\"}, \"hoverlabel\": {\"align\": \"left\"}, \"hovermode\": \"closest\", \"mapbox\": {\"style\": \"light\"}, \"paper_bgcolor\": \"white\", \"plot_bgcolor\": \"#E5ECF6\", \"polar\": {\"angularaxis\": {\"gridcolor\": \"white\", \"linecolor\": \"white\", \"ticks\": \"\"}, \"bgcolor\": \"#E5ECF6\", \"radialaxis\": {\"gridcolor\": \"white\", \"linecolor\": \"white\", \"ticks\": \"\"}}, \"scene\": {\"xaxis\": {\"backgroundcolor\": \"#E5ECF6\", \"gridcolor\": \"white\", \"gridwidth\": 2, \"linecolor\": \"white\", \"showbackground\": true, \"ticks\": \"\", \"zerolinecolor\": \"white\"}, \"yaxis\": {\"backgroundcolor\": \"#E5ECF6\", \"gridcolor\": \"white\", \"gridwidth\": 2, \"linecolor\": \"white\", \"showbackground\": true, \"ticks\": \"\", \"zerolinecolor\": \"white\"}, \"zaxis\": {\"backgroundcolor\": \"#E5ECF6\", \"gridcolor\": \"white\", \"gridwidth\": 2, \"linecolor\": \"white\", \"showbackground\": true, \"ticks\": \"\", \"zerolinecolor\": \"white\"}}, \"shapedefaults\": {\"line\": {\"color\": \"#2a3f5f\"}}, \"ternary\": {\"aaxis\": {\"gridcolor\": \"white\", \"linecolor\": \"white\", \"ticks\": \"\"}, \"baxis\": {\"gridcolor\": \"white\", \"linecolor\": \"white\", \"ticks\": \"\"}, \"bgcolor\": \"#E5ECF6\", \"caxis\": {\"gridcolor\": \"white\", \"linecolor\": \"white\", \"ticks\": \"\"}}, \"title\": {\"x\": 0.05}, \"xaxis\": {\"automargin\": true, \"gridcolor\": \"white\", \"linecolor\": \"white\", \"ticks\": \"\", \"title\": {\"standoff\": 15}, \"zerolinecolor\": \"white\", \"zerolinewidth\": 2}, \"yaxis\": {\"automargin\": true, \"gridcolor\": \"white\", \"linecolor\": \"white\", \"ticks\": \"\", \"title\": {\"standoff\": 15}, \"zerolinecolor\": \"white\", \"zerolinewidth\": 2}}}},\n",
              "                        {\"responsive\": true}\n",
              "                    ).then(function(){\n",
              "                            \n",
              "var gd = document.getElementById('610b72d7-d43f-4c92-b283-5bd1736b0610');\n",
              "var x = new MutationObserver(function (mutations, observer) {{\n",
              "        var display = window.getComputedStyle(gd).display;\n",
              "        if (!display || display === 'none') {{\n",
              "            console.log([gd, 'removed!']);\n",
              "            Plotly.purge(gd);\n",
              "            observer.disconnect();\n",
              "        }}\n",
              "}});\n",
              "\n",
              "// Listen for the removal of the full notebook cells\n",
              "var notebookContainer = gd.closest('#notebook-container');\n",
              "if (notebookContainer) {{\n",
              "    x.observe(notebookContainer, {childList: true});\n",
              "}}\n",
              "\n",
              "// Listen for the clearing of the current output cell\n",
              "var outputEl = gd.closest('.output');\n",
              "if (outputEl) {{\n",
              "    x.observe(outputEl, {childList: true});\n",
              "}}\n",
              "\n",
              "                        })\n",
              "                };\n",
              "                \n",
              "            </script>\n",
              "        </div>\n",
              "</body>\n",
              "</html>"
            ]
          },
          "metadata": {
            "tags": []
          }
        }
      ]
    },
    {
      "cell_type": "code",
      "metadata": {
        "id": "gmQWuruV7Px8",
        "colab": {
          "base_uri": "https://localhost:8080/"
        },
        "outputId": "ec1b458f-fb79-4daa-cb85-d307120b899a"
      },
      "source": [
        "ecobici_df.Fecha_Retiro.str.slice(6).astype(\"int\")"
      ],
      "execution_count": null,
      "outputs": [
        {
          "output_type": "execute_result",
          "data": {
            "text/plain": [
              "0         2020\n",
              "1         2020\n",
              "2         2020\n",
              "3         2020\n",
              "4         2020\n",
              "          ... \n",
              "697284    2019\n",
              "697285    2019\n",
              "697286    2019\n",
              "697287    2019\n",
              "697288    2019\n",
              "Name: Fecha_Retiro, Length: 11838575, dtype: int64"
            ]
          },
          "metadata": {
            "tags": []
          },
          "execution_count": 66
        }
      ]
    },
    {
      "cell_type": "code",
      "metadata": {
        "id": "btM4b55v29kI",
        "colab": {
          "base_uri": "https://localhost:8080/",
          "height": 542
        },
        "outputId": "afb92423-f291-4318-d986-7b99cf4638ec"
      },
      "source": [
        "top_50, _ = crear_mapa(ecobici_df[ecobici_df.Fecha_Retiro.str.slice(6).astype(\"int\") == 2020].copy(), estaciones_df)\n"
      ],
      "execution_count": null,
      "outputs": [
        {
          "output_type": "display_data",
          "data": {
            "text/html": [
              "<html>\n",
              "<head><meta charset=\"utf-8\" /></head>\n",
              "<body>\n",
              "    <div>\n",
              "            <script src=\"https://cdnjs.cloudflare.com/ajax/libs/mathjax/2.7.5/MathJax.js?config=TeX-AMS-MML_SVG\"></script><script type=\"text/javascript\">if (window.MathJax) {MathJax.Hub.Config({SVG: {font: \"STIX-Web\"}});}</script>\n",
              "                <script type=\"text/javascript\">window.PlotlyConfig = {MathJaxConfig: 'local'};</script>\n",
              "        <script src=\"https://cdn.plot.ly/plotly-latest.min.js\"></script>    \n",
              "            <div id=\"7b4e841e-d884-4bc2-a7da-b31ceede5c0b\" class=\"plotly-graph-div\" style=\"height:525px; width:100%;\"></div>\n",
              "            <script type=\"text/javascript\">\n",
              "                \n",
              "                    window.PLOTLYENV=window.PLOTLYENV || {};\n",
              "                    \n",
              "                if (document.getElementById(\"7b4e841e-d884-4bc2-a7da-b31ceede5c0b\")) {\n",
              "                    Plotly.newPlot(\n",
              "                        '7b4e841e-d884-4bc2-a7da-b31ceede5c0b',\n",
              "                        [{\"lat\": [19.424234, 19.424234], \"line\": {\"color\": \"#4f2463\", \"width\": 10.0}, \"lon\": [-99.166431, -99.166431], \"mode\": \"lines\", \"name\": \"2433|19.424234|-99.166431\", \"text\": \"2433\", \"type\": \"scattermapbox\"}, {\"hoverinfo\": \"text\", \"hovertext\": \"2145\", \"lat\": [19.424725, 19.424725], \"line\": {\"color\": \"#542665\", \"width\": 8.816276202219482}, \"lon\": [-99.163331, -99.163331], \"mode\": \"lines\", \"name\": \"2145\", \"text\": \"2145\", \"type\": \"scattermapbox\"}, {\"hoverinfo\": \"text\", \"hovertext\": \"2052\", \"lat\": [19.429115, 19.429115], \"line\": {\"color\": \"#582766\", \"width\": 8.43403205918619}, \"lon\": [-99.162614, -99.162614], \"mode\": \"lines\", \"name\": \"2052\", \"text\": \"2052\", \"type\": \"scattermapbox\"}, {\"hoverinfo\": \"text\", \"hovertext\": \"1741\", \"lat\": [19.416128, 19.416128], \"line\": {\"color\": \"#5d2868\", \"width\": 7.1557747636662565}, \"lon\": [-99.162097, -99.162097], \"mode\": \"lines\", \"name\": \"1741\", \"text\": \"1741\", \"type\": \"scattermapbox\"}, {\"hoverinfo\": \"text\", \"hovertext\": \"1620\", \"lat\": [19.363741, 19.363741], \"line\": {\"color\": \"#62296a\", \"width\": 6.658446362515413}, \"lon\": [-99.17126800000001, -99.17126800000001], \"mode\": \"lines\", \"name\": \"1620\", \"text\": \"1620\", \"type\": \"scattermapbox\"}, {\"hoverinfo\": \"text\", \"hovertext\": \"1611\", \"lat\": [19.42888, 19.433571399999998], \"line\": {\"color\": \"#662a6b\", \"width\": 6.621454993834773}, \"lon\": [-99.164176, -99.16780909999999], \"mode\": \"lines\", \"name\": \"1611\", \"text\": \"1611\", \"type\": \"scattermapbox\"}, {\"hoverinfo\": \"text\", \"hovertext\": \"1464\", \"lat\": [19.42018, 19.42018], \"line\": {\"color\": \"#6b2b6c\", \"width\": 6.017262638717632}, \"lon\": [-99.17439300000001, -99.17439300000001], \"mode\": \"lines\", \"name\": \"1464\", \"text\": \"1464\", \"type\": \"scattermapbox\"}, {\"hoverinfo\": \"text\", \"hovertext\": \"1430\", \"lat\": [19.433571399999998, 19.433571399999998], \"line\": {\"color\": \"#702c6e\", \"width\": 5.877517468146322}, \"lon\": [-99.16780909999999, -99.16780909999999], \"mode\": \"lines\", \"name\": \"1430\", \"text\": \"1430\", \"type\": \"scattermapbox\"}, {\"hoverinfo\": \"text\", \"hovertext\": \"1424\", \"lat\": [19.441110000000002, 19.438236899999996], \"line\": {\"color\": \"#752d6f\", \"width\": 5.8528565556925605}, \"lon\": [-99.16164, -99.16594649999999], \"mode\": \"lines\", \"name\": \"1424\", \"text\": \"1424\", \"type\": \"scattermapbox\"}, {\"hoverinfo\": \"text\", \"hovertext\": \"1397\", \"lat\": [19.373142, 19.373142], \"line\": {\"color\": \"#792e6f\", \"width\": 5.741882449650637}, \"lon\": [-99.178283, -99.178283], \"mode\": \"lines\", \"name\": \"1397\", \"text\": \"1397\", \"type\": \"scattermapbox\"}, {\"hoverinfo\": \"text\", \"hovertext\": \"1369\", \"lat\": [19.438236899999996, 19.441110000000002], \"line\": {\"color\": \"#7e2f70\", \"width\": 5.626798191533087}, \"lon\": [-99.16594649999999, -99.16164], \"mode\": \"lines\", \"name\": \"1369\", \"text\": \"1369\", \"type\": \"scattermapbox\"}, {\"hoverinfo\": \"text\", \"hovertext\": \"1365\", \"lat\": [19.4338, 19.4338], \"line\": {\"color\": \"#833070\", \"width\": 5.61035758323058}, \"lon\": [-99.16622, -99.16622], \"mode\": \"lines\", \"name\": \"1365\", \"text\": \"1365\", \"type\": \"scattermapbox\"}, {\"hoverinfo\": \"text\", \"hovertext\": \"1355\", \"lat\": [19.427329, 19.430369], \"line\": {\"color\": \"#873171\", \"width\": 5.569256062474311}, \"lon\": [-99.149971, -99.15441899999999], \"mode\": \"lines\", \"name\": \"1355\", \"text\": \"1355\", \"type\": \"scattermapbox\"}, {\"hoverinfo\": \"text\", \"hovertext\": \"1343\", \"lat\": [19.434182, 19.435798000000002], \"line\": {\"color\": \"#8c3271\", \"width\": 5.51993423756679}, \"lon\": [-99.189835, -99.201419], \"mode\": \"lines\", \"name\": \"1343\", \"text\": \"1343\", \"type\": \"scattermapbox\"}, {\"hoverinfo\": \"text\", \"hovertext\": \"1319\", \"lat\": [19.411272, 19.411272], \"line\": {\"color\": \"#913371\", \"width\": 5.421290587751747}, \"lon\": [-99.169718, -99.169718], \"mode\": \"lines\", \"name\": \"1319\", \"text\": \"1319\", \"type\": \"scattermapbox\"}, {\"hoverinfo\": \"text\", \"hovertext\": \"1309\", \"lat\": [19.408217999999998, 19.408217999999998], \"line\": {\"color\": \"#953470\", \"width\": 5.380189066995479}, \"lon\": [-99.159911, -99.159911], \"mode\": \"lines\", \"name\": \"1309\", \"text\": \"1309\", \"type\": \"scattermapbox\"}, {\"hoverinfo\": \"text\", \"hovertext\": \"1231\", \"lat\": [19.433607000000002, 19.432888000000002], \"line\": {\"color\": \"#9a3670\", \"width\": 5.059597205096589}, \"lon\": [-99.188528, -99.183605], \"mode\": \"lines\", \"name\": \"1231\", \"text\": \"1231\", \"type\": \"scattermapbox\"}, {\"hoverinfo\": \"text\", \"hovertext\": \"1230\", \"lat\": [19.430369, 19.427329], \"line\": {\"color\": \"#9f376f\", \"width\": 5.055487053020961}, \"lon\": [-99.15441899999999, -99.149971], \"mode\": \"lines\", \"name\": \"1230\", \"text\": \"1230\", \"type\": \"scattermapbox\"}, {\"hoverinfo\": \"text\", \"hovertext\": \"1190\", \"lat\": [19.441110000000002, 19.43767], \"line\": {\"color\": \"#a3386f\", \"width\": 4.8910809699958895}, \"lon\": [-99.16164, -99.16402], \"mode\": \"lines\", \"name\": \"1190\", \"text\": \"1190\", \"type\": \"scattermapbox\"}, {\"hoverinfo\": \"text\", \"hovertext\": \"1188\", \"lat\": [19.441110000000002, 19.433571399999998], \"line\": {\"color\": \"#a8396e\", \"width\": 4.882860665844636}, \"lon\": [-99.16164, -99.16780909999999], \"mode\": \"lines\", \"name\": \"1188\", \"text\": \"1188\", \"type\": \"scattermapbox\"}, {\"hoverinfo\": \"text\", \"hovertext\": \"1160\", \"lat\": [19.433571399999998, 19.42888], \"line\": {\"color\": \"#ad3b6d\", \"width\": 4.767776407727085}, \"lon\": [-99.16780909999999, -99.164176], \"mode\": \"lines\", \"name\": \"1160\", \"text\": \"1160\", \"type\": \"scattermapbox\"}, {\"hoverinfo\": \"text\", \"hovertext\": \"1125\", \"lat\": [19.435354, 19.435354], \"line\": {\"color\": \"#b13c6c\", \"width\": 4.623921085080148}, \"lon\": [-99.14774200000001, -99.14774200000001], \"mode\": \"lines\", \"name\": \"1125\", \"text\": \"1125\", \"type\": \"scattermapbox\"}, {\"hoverinfo\": \"text\", \"hovertext\": \"1121\", \"lat\": [19.434182, 19.440344], \"line\": {\"color\": \"#b63d6b\", \"width\": 4.60748047677764}, \"lon\": [-99.189835, -99.20105], \"mode\": \"lines\", \"name\": \"1121\", \"text\": \"1121\", \"type\": \"scattermapbox\"}, {\"hoverinfo\": \"text\", \"hovertext\": \"1118\", \"lat\": [19.43767, 19.441110000000002], \"line\": {\"color\": \"#bb3f6a\", \"width\": 4.5951500205507605}, \"lon\": [-99.16402, -99.16164], \"mode\": \"lines\", \"name\": \"1118\", \"text\": \"1118\", \"type\": \"scattermapbox\"}, {\"hoverinfo\": \"text\", \"hovertext\": \"1102\", \"lat\": [19.435798000000002, 19.434182], \"line\": {\"color\": \"#c04068\", \"width\": 4.529387587340732}, \"lon\": [-99.201419, -99.189835], \"mode\": \"lines\", \"name\": \"1102\", \"text\": \"1102\", \"type\": \"scattermapbox\"}, {\"hoverinfo\": \"text\", \"hovertext\": \"1096\", \"lat\": [19.441110000000002, 19.43425], \"line\": {\"color\": \"#c44267\", \"width\": 4.504726674886971}, \"lon\": [-99.16164, -99.162508], \"mode\": \"lines\", \"name\": \"1096\", \"text\": \"1096\", \"type\": \"scattermapbox\"}, {\"hoverinfo\": \"text\", \"hovertext\": \"1093\", \"lat\": [19.43425, 19.441110000000002], \"line\": {\"color\": \"#c84465\", \"width\": 4.49239621866009}, \"lon\": [-99.162508, -99.16164], \"mode\": \"lines\", \"name\": \"1093\", \"text\": \"1093\", \"type\": \"scattermapbox\"}, {\"hoverinfo\": \"text\", \"hovertext\": \"1066\", \"lat\": [19.402089, 19.402089], \"line\": {\"color\": \"#cc4663\", \"width\": 4.381422112618167}, \"lon\": [-99.17139, -99.17139], \"mode\": \"lines\", \"name\": \"1066\", \"text\": \"1066\", \"type\": \"scattermapbox\"}, {\"hoverinfo\": \"text\", \"hovertext\": \"1062\", \"lat\": [19.425468, 19.425468], \"line\": {\"color\": \"#d04962\", \"width\": 4.36498150431566}, \"lon\": [-99.175166, -99.175166], \"mode\": \"lines\", \"name\": \"1062\", \"text\": \"1062\", \"type\": \"scattermapbox\"}, {\"hoverinfo\": \"text\", \"hovertext\": \"1040\", \"lat\": [19.38885, 19.38885], \"line\": {\"color\": \"#d44c60\", \"width\": 4.27455815865187}, \"lon\": [-99.17772, -99.17772], \"mode\": \"lines\", \"name\": \"1040\", \"text\": \"1040\", \"type\": \"scattermapbox\"}, {\"hoverinfo\": \"text\", \"hovertext\": \"1035\", \"lat\": [19.407447, 19.415905], \"line\": {\"color\": \"#d7505e\", \"width\": 4.254007398273735}, \"lon\": [-99.15571700000001, -99.15954], \"mode\": \"lines\", \"name\": \"1035\", \"text\": \"1035\", \"type\": \"scattermapbox\"}, {\"hoverinfo\": \"text\", \"hovertext\": \"1031\", \"lat\": [19.43676, 19.444031], \"line\": {\"color\": \"#da545d\", \"width\": 4.237566789971229}, \"lon\": [-99.15387, -99.152187], \"mode\": \"lines\", \"name\": \"1031\", \"text\": \"1031\", \"type\": \"scattermapbox\"}, {\"hoverinfo\": \"text\", \"hovertext\": \"1023\", \"lat\": [19.430625, 19.430625], \"line\": {\"color\": \"#dc585c\", \"width\": 4.2046855733662145}, \"lon\": [-99.14248, -99.14248], \"mode\": \"lines\", \"name\": \"1023\", \"text\": \"1023\", \"type\": \"scattermapbox\"}, {\"hoverinfo\": \"text\", \"hovertext\": \"1017\", \"lat\": [19.43676, 19.43676], \"line\": {\"color\": \"#de5d5c\", \"width\": 4.180024660912453}, \"lon\": [-99.15387, -99.15387], \"mode\": \"lines\", \"name\": \"1017\", \"text\": \"1017\", \"type\": \"scattermapbox\"}, {\"hoverinfo\": \"text\", \"hovertext\": \"1014\", \"lat\": [19.404268, 19.405246], \"line\": {\"color\": \"#e0615c\", \"width\": 4.167694204685573}, \"lon\": [-99.160503, -99.15643100000001], \"mode\": \"lines\", \"name\": \"1014\", \"text\": \"1014\", \"type\": \"scattermapbox\"}, {\"hoverinfo\": \"text\", \"hovertext\": \"1005\", \"lat\": [19.43767, 19.43767], \"line\": {\"color\": \"#e2665c\", \"width\": 4.130702836004932}, \"lon\": [-99.16402, -99.16402], \"mode\": \"lines\", \"name\": \"1005\", \"text\": \"1005\", \"type\": \"scattermapbox\"}, {\"hoverinfo\": \"text\", \"hovertext\": \"1005\", \"lat\": [19.433115, 19.422392000000002], \"line\": {\"color\": \"#e36b5d\", \"width\": 4.130702836004932}, \"lon\": [-99.143686, -99.150358], \"mode\": \"lines\", \"name\": \"1005\", \"text\": \"1005\", \"type\": \"scattermapbox\"}, {\"hoverinfo\": \"text\", \"hovertext\": \"999\", \"lat\": [19.438236899999996, 19.438236899999996], \"line\": {\"color\": \"#e5705e\", \"width\": 4.106041923551171}, \"lon\": [-99.16594649999999, -99.16594649999999], \"mode\": \"lines\", \"name\": \"999\", \"text\": \"999\", \"type\": \"scattermapbox\"}, {\"hoverinfo\": \"text\", \"hovertext\": \"998\", \"lat\": [19.433571399999998, 19.424674], \"line\": {\"color\": \"#e67560\", \"width\": 4.101931771475544}, \"lon\": [-99.16780909999999, -99.163292], \"mode\": \"lines\", \"name\": \"998\", \"text\": \"998\", \"type\": \"scattermapbox\"}, {\"hoverinfo\": \"text\", \"hovertext\": \"988\", \"lat\": [19.443928, 19.43676], \"line\": {\"color\": \"#e77a62\", \"width\": 4.060830250719277}, \"lon\": [-99.152525, -99.15387], \"mode\": \"lines\", \"name\": \"988\", \"text\": \"988\", \"type\": \"scattermapbox\"}, {\"hoverinfo\": \"text\", \"hovertext\": \"987\", \"lat\": [19.415905, 19.415905], \"line\": {\"color\": \"#e87f64\", \"width\": 4.05672009864365}, \"lon\": [-99.15954, -99.15954], \"mode\": \"lines\", \"name\": \"987\", \"text\": \"987\", \"type\": \"scattermapbox\"}, {\"hoverinfo\": \"text\", \"hovertext\": \"970\", \"lat\": [19.428309, 19.428309], \"line\": {\"color\": \"#e88466\", \"width\": 3.9868475133579944}, \"lon\": [-99.171713, -99.171713], \"mode\": \"lines\", \"name\": \"970\", \"text\": \"970\", \"type\": \"scattermapbox\"}, {\"hoverinfo\": \"text\", \"hovertext\": \"965\", \"lat\": [19.403204000000002, 19.403204000000002], \"line\": {\"color\": \"#e98969\", \"width\": 3.9662967529798605}, \"lon\": [-99.16596, -99.16596], \"mode\": \"lines\", \"name\": \"965\", \"text\": \"965\", \"type\": \"scattermapbox\"}, {\"hoverinfo\": \"text\", \"hovertext\": \"959\", \"lat\": [19.443928, 19.432685], \"line\": {\"color\": \"#ea8e6c\", \"width\": 3.941635840526099}, \"lon\": [-99.152525, -99.154726], \"mode\": \"lines\", \"name\": \"959\", \"text\": \"959\", \"type\": \"scattermapbox\"}, {\"hoverinfo\": \"text\", \"hovertext\": \"954\", \"lat\": [19.440344, 19.440344], \"line\": {\"color\": \"#ea936f\", \"width\": 3.9210850801479658}, \"lon\": [-99.20105, -99.20105], \"mode\": \"lines\", \"name\": \"954\", \"text\": \"954\", \"type\": \"scattermapbox\"}, {\"hoverinfo\": \"text\", \"hovertext\": \"949\", \"lat\": [19.379269, 19.380598000000003], \"line\": {\"color\": \"#eb9872\", \"width\": 3.9005343197698314}, \"lon\": [-99.161169, -99.1669248], \"mode\": \"lines\", \"name\": \"949\", \"text\": \"949\", \"type\": \"scattermapbox\"}, {\"hoverinfo\": \"text\", \"hovertext\": \"940\", \"lat\": [19.422392000000002, 19.422392000000002], \"line\": {\"color\": \"#eb9c75\", \"width\": 3.8635429510891903}, \"lon\": [-99.150358, -99.150358], \"mode\": \"lines\", \"name\": \"940\", \"text\": \"940\", \"type\": \"scattermapbox\"}, {\"hoverinfo\": \"text\", \"hovertext\": \"934\", \"lat\": [19.419225, 19.417715], \"line\": {\"color\": \"#eca178\", \"width\": 3.8388820386354294}, \"lon\": [-99.15509899999999, -99.162729], \"mode\": \"lines\", \"name\": \"934\", \"text\": \"934\", \"type\": \"scattermapbox\"}, {\"hoverinfo\": \"text\", \"hovertext\": \"931\", \"lat\": [19.433571399999998, 19.441110000000002], \"line\": {\"color\": \"#eca67b\", \"width\": 3.8265515824085488}, \"lon\": [-99.16780909999999, -99.16164], \"mode\": \"lines\", \"name\": \"931\", \"text\": \"931\", \"type\": \"scattermapbox\"}, {\"hoverinfo\": \"text\", \"hovertext\": \"921\", \"lat\": [19.419225, 19.419225], \"line\": {\"color\": \"#edab7e\", \"width\": 3.7854500616522815}, \"lon\": [-99.15509899999999, -99.15509899999999], \"mode\": \"lines\", \"name\": \"921\", \"text\": \"921\", \"type\": \"scattermapbox\"}, {\"hovertext\": [\"ID_estacion:1.0|n:4519\", \"ID_estacion:4.0|n:970\", \"ID_estacion:7.0|n:1062\", \"ID_estacion:18.0|n:1611\", \"ID_estacion:27.0|n:2052\", \"ID_estacion:33.0|n:2433\", \"ID_estacion:34.0|n:2145\", \"ID_estacion:70.0|n:1319\", \"ID_estacion:82.0|n:1005\", \"ID_estacion:85.0|n:1093\", \"ID_estacion:96.0|n:1023\", \"ID_estacion:107.0|n:1355\", \"ID_estacion:111.0|n:2368\", \"ID_estacion:113.0|n:1230\", \"ID_estacion:124.0|n:940\", \"ID_estacion:135.0|n:1855\", \"ID_estacion:139.0|n:1741\", \"ID_estacion:141.0|n:987\", \"ID_estacion:155.0|n:1309\", \"ID_estacion:158.0|n:1035\", \"ID_estacion:164.0|n:965\", \"ID_estacion:165.0|n:1014\", \"ID_estacion:174.0|n:4898\", \"ID_estacion:182.0|n:1066\", \"ID_estacion:183.0|n:2123\", \"ID_estacion:206.0|n:1102\", \"ID_estacion:208.0|n:2464\", \"ID_estacion:211.0|n:1231\", \"ID_estacion:242.0|n:954\", \"ID_estacion:257.0|n:1365\", \"ID_estacion:260.0|n:1125\", \"ID_estacion:270.0|n:2048\", \"ID_estacion:271.0|n:1947\", \"ID_estacion:327.0|n:1040\", \"ID_estacion:359.0|n:949\", \"ID_estacion:391.0|n:1397\", \"ID_estacion:434.0|n:1620\", \"ID_estacion:449.0|n:1464\"], \"lat\": [19.433571399999998, 19.428309, 19.425468, 19.42888, 19.429115, 19.424234, 19.424725, 19.411272, 19.433115, 19.43425, 19.430625, 19.427329, 19.438236899999996, 19.430369, 19.422392000000002, 19.419225, 19.416128, 19.415905, 19.408217999999998, 19.407447, 19.403204000000002, 19.404268, 19.441110000000002, 19.402089, 19.43767, 19.435798000000002, 19.434182, 19.433607000000002, 19.440344, 19.4338, 19.435354, 19.43676, 19.443928, 19.38885, 19.379269, 19.373142, 19.363741, 19.42018], \"lon\": [-99.16780909999999, -99.171713, -99.175166, -99.164176, -99.162614, -99.166431, -99.163331, -99.169718, -99.143686, -99.162508, -99.14248, -99.149971, -99.16594649999999, -99.15441899999999, -99.150358, -99.15509899999999, -99.162097, -99.15954, -99.159911, -99.15571700000001, -99.16596, -99.160503, -99.16164, -99.17139, -99.16402, -99.201419, -99.189835, -99.188528, -99.20105, -99.16622, -99.14774200000001, -99.15387, -99.152525, -99.17772, -99.161169, -99.178283, -99.17126800000001, -99.17439300000001], \"marker\": {\"color\": \"white\", \"opacity\": 0.7, \"size\": [46.131073907717436, 9.90200081665986, 10.841159657002859, 16.445487954267048, 20.947325438954675, 24.836668027766436, 21.89669252756227, 13.464679461004492, 10.259289505920783, 11.15761535320539, 10.443037974683545, 13.832176398530013, 24.17313189056758, 12.556145365455288, 9.595753368721928, 18.93630053082891, 17.772560228664762, 10.075541037158024, 13.362596978358512, 10.565536953858718, 9.850959575336873, 10.351163740302164, 50.0, 10.88199265006125, 21.672111065741117, 11.249489587586769, 25.153123723968967, 12.566353613719885, 9.738668844426297, 13.93425888117599, 11.48427929767252, 20.906492445896284, 19.875459371171907, 10.616578195181708, 9.687627603103307, 14.260922825643119, 16.537362188648427, 14.94487545937117]}, \"mode\": \"markers\", \"name\": \"Origen\", \"text\": \"Origen\", \"type\": \"scattermapbox\"}, {\"hovertext\": [\"ID_estacion:1|n:4519\", \"ID_estacion:4|n:970\", \"ID_estacion:7|n:1062\", \"ID_estacion:18|n:1611\", \"ID_estacion:26|n:2052\", \"ID_estacion:27|n:2433\", \"ID_estacion:33|n:2145\", \"ID_estacion:34|n:1319\", \"ID_estacion:35|n:1005\", \"ID_estacion:70|n:1093\", \"ID_estacion:85|n:1023\", \"ID_estacion:96|n:1355\", \"ID_estacion:107|n:2368\", \"ID_estacion:111|n:1230\", \"ID_estacion:113|n:940\", \"ID_estacion:124|n:1855\", \"ID_estacion:135|n:1741\", \"ID_estacion:136|n:987\", \"ID_estacion:139|n:1309\", \"ID_estacion:141|n:1035\", \"ID_estacion:155|n:965\", \"ID_estacion:163|n:1014\", \"ID_estacion:164|n:4898\", \"ID_estacion:174|n:1066\", \"ID_estacion:182|n:2123\", \"ID_estacion:183|n:1102\", \"ID_estacion:206|n:2464\", \"ID_estacion:208|n:1231\", \"ID_estacion:217|n:954\", \"ID_estacion:242|n:1365\", \"ID_estacion:257|n:1125\", \"ID_estacion:260|n:2048\", \"ID_estacion:266|n:1947\", \"ID_estacion:270|n:1040\", \"ID_estacion:327|n:949\", \"ID_estacion:357|n:1397\", \"ID_estacion:391|n:1620\", \"ID_estacion:434|n:1464\", null], \"lat\": [19.433571399999998, 19.428309, 19.425468, 19.42888, 19.432685, 19.429115, 19.424234, 19.424725, 19.424674, 19.411272, 19.43425, 19.430625, 19.427329, 19.438236899999996, 19.430369, 19.422392000000002, 19.419225, 19.417715, 19.416128, 19.415905, 19.408217999999998, 19.405246, 19.403204000000002, 19.441110000000002, 19.402089, 19.43767, 19.435798000000002, 19.434182, 19.432888000000002, 19.440344, 19.4338, 19.435354, 19.444031, 19.43676, 19.38885, 19.380598000000003, 19.373142, 19.363741, 19.42018], \"lon\": [-99.16780909999999, -99.171713, -99.175166, -99.164176, -99.154726, -99.162614, -99.166431, -99.163331, -99.163292, -99.169718, -99.162508, -99.14248, -99.149971, -99.16594649999999, -99.15441899999999, -99.150358, -99.15509899999999, -99.162729, -99.162097, -99.15954, -99.159911, -99.15643100000001, -99.16596, -99.16164, -99.17139, -99.16402, -99.201419, -99.189835, -99.183605, -99.20105, -99.16622, -99.14774200000001, -99.152187, -99.15387, -99.17772, -99.1669248, -99.178283, -99.17126800000001, -99.17439300000001], \"marker\": {\"color\": \"red\", \"opacity\": 0.7, \"size\": [46.87430724894702, 10.75149634227444, 11.771225892263356, 12.857459543338507, 10.629572156949678, 22.74440257149191, 26.967412990467743, 23.77521613832853, 11.061848814010197, 14.619818222123698, 12.148082465085347, 11.338949235202838, 13.633340722677897, 26.85657282199069, 15.018842828641098, 21.55841276878741, 10.208379516736866, 10.352471735757037, 19.297273331855465, 22.41188206606074, 14.508978053646644, 11.239193083573488, 10.696076258035912, 50.0, 11.815561959654179, 24.329416980713813, 14.885834626468633, 12.21458656617158, 13.644424739525604, 22.999334958989138, 15.129682997118154, 12.469518953668809, 11.427621369984482, 22.223453779649745, 11.527377521613833, 10.518731988472622, 15.484371536244733, 17.956107293283086, 16.22700066504101]}, \"mode\": \"markers\", \"name\": \"Destino\", \"text\": \"Destino\", \"type\": \"scattermapbox\"}],\n",
              "                        {\"mapbox\": {\"accesstoken\": \"pk.eyJ1IjoiYXJ0ZWNrIiwiYSI6ImNqemhiZ2pwMDB1ZGczanFrbHcwdWd1M3kifQ.-25TFMLfltbaFcBKNY7AFQ\", \"center\": {\"lat\": 19.419225, \"lon\": -99.15509899999999}, \"style\": \"dark\", \"zoom\": 13}, \"margin\": {\"b\": 0, \"l\": 0, \"r\": 0, \"t\": 0}, \"template\": {\"data\": {\"bar\": [{\"error_x\": {\"color\": \"#2a3f5f\"}, \"error_y\": {\"color\": \"#2a3f5f\"}, \"marker\": {\"line\": {\"color\": \"#E5ECF6\", \"width\": 0.5}}, \"type\": \"bar\"}], \"barpolar\": [{\"marker\": {\"line\": {\"color\": \"#E5ECF6\", \"width\": 0.5}}, \"type\": \"barpolar\"}], \"carpet\": [{\"aaxis\": {\"endlinecolor\": \"#2a3f5f\", \"gridcolor\": \"white\", \"linecolor\": \"white\", \"minorgridcolor\": \"white\", \"startlinecolor\": \"#2a3f5f\"}, \"baxis\": {\"endlinecolor\": \"#2a3f5f\", \"gridcolor\": \"white\", \"linecolor\": \"white\", \"minorgridcolor\": \"white\", \"startlinecolor\": \"#2a3f5f\"}, \"type\": \"carpet\"}], \"choropleth\": [{\"colorbar\": {\"outlinewidth\": 0, \"ticks\": \"\"}, \"type\": \"choropleth\"}], \"contour\": [{\"colorbar\": {\"outlinewidth\": 0, \"ticks\": \"\"}, \"colorscale\": [[0.0, \"#0d0887\"], [0.1111111111111111, \"#46039f\"], [0.2222222222222222, \"#7201a8\"], [0.3333333333333333, \"#9c179e\"], [0.4444444444444444, \"#bd3786\"], [0.5555555555555556, \"#d8576b\"], [0.6666666666666666, \"#ed7953\"], [0.7777777777777778, \"#fb9f3a\"], [0.8888888888888888, \"#fdca26\"], [1.0, \"#f0f921\"]], \"type\": \"contour\"}], \"contourcarpet\": [{\"colorbar\": {\"outlinewidth\": 0, \"ticks\": \"\"}, \"type\": \"contourcarpet\"}], \"heatmap\": [{\"colorbar\": {\"outlinewidth\": 0, \"ticks\": \"\"}, \"colorscale\": [[0.0, \"#0d0887\"], [0.1111111111111111, \"#46039f\"], [0.2222222222222222, \"#7201a8\"], [0.3333333333333333, \"#9c179e\"], [0.4444444444444444, \"#bd3786\"], [0.5555555555555556, \"#d8576b\"], [0.6666666666666666, \"#ed7953\"], [0.7777777777777778, \"#fb9f3a\"], [0.8888888888888888, \"#fdca26\"], [1.0, \"#f0f921\"]], \"type\": \"heatmap\"}], \"heatmapgl\": [{\"colorbar\": {\"outlinewidth\": 0, \"ticks\": \"\"}, \"colorscale\": [[0.0, \"#0d0887\"], [0.1111111111111111, \"#46039f\"], [0.2222222222222222, \"#7201a8\"], [0.3333333333333333, \"#9c179e\"], [0.4444444444444444, \"#bd3786\"], [0.5555555555555556, \"#d8576b\"], [0.6666666666666666, \"#ed7953\"], [0.7777777777777778, \"#fb9f3a\"], [0.8888888888888888, \"#fdca26\"], [1.0, \"#f0f921\"]], \"type\": \"heatmapgl\"}], \"histogram\": [{\"marker\": {\"colorbar\": {\"outlinewidth\": 0, \"ticks\": \"\"}}, \"type\": \"histogram\"}], \"histogram2d\": [{\"colorbar\": {\"outlinewidth\": 0, \"ticks\": \"\"}, \"colorscale\": [[0.0, \"#0d0887\"], [0.1111111111111111, \"#46039f\"], [0.2222222222222222, \"#7201a8\"], [0.3333333333333333, \"#9c179e\"], [0.4444444444444444, \"#bd3786\"], [0.5555555555555556, \"#d8576b\"], [0.6666666666666666, \"#ed7953\"], [0.7777777777777778, \"#fb9f3a\"], [0.8888888888888888, \"#fdca26\"], [1.0, \"#f0f921\"]], \"type\": \"histogram2d\"}], \"histogram2dcontour\": [{\"colorbar\": {\"outlinewidth\": 0, \"ticks\": \"\"}, \"colorscale\": [[0.0, \"#0d0887\"], [0.1111111111111111, \"#46039f\"], [0.2222222222222222, \"#7201a8\"], [0.3333333333333333, \"#9c179e\"], [0.4444444444444444, \"#bd3786\"], [0.5555555555555556, \"#d8576b\"], [0.6666666666666666, \"#ed7953\"], [0.7777777777777778, \"#fb9f3a\"], [0.8888888888888888, \"#fdca26\"], [1.0, \"#f0f921\"]], \"type\": \"histogram2dcontour\"}], \"mesh3d\": [{\"colorbar\": {\"outlinewidth\": 0, \"ticks\": \"\"}, \"type\": \"mesh3d\"}], \"parcoords\": [{\"line\": {\"colorbar\": {\"outlinewidth\": 0, \"ticks\": \"\"}}, \"type\": \"parcoords\"}], \"pie\": [{\"automargin\": true, \"type\": \"pie\"}], \"scatter\": [{\"marker\": {\"colorbar\": {\"outlinewidth\": 0, \"ticks\": \"\"}}, \"type\": \"scatter\"}], \"scatter3d\": [{\"line\": {\"colorbar\": {\"outlinewidth\": 0, \"ticks\": \"\"}}, \"marker\": {\"colorbar\": {\"outlinewidth\": 0, \"ticks\": \"\"}}, \"type\": \"scatter3d\"}], \"scattercarpet\": [{\"marker\": {\"colorbar\": {\"outlinewidth\": 0, \"ticks\": \"\"}}, \"type\": \"scattercarpet\"}], \"scattergeo\": [{\"marker\": {\"colorbar\": {\"outlinewidth\": 0, \"ticks\": \"\"}}, \"type\": \"scattergeo\"}], \"scattergl\": [{\"marker\": {\"colorbar\": {\"outlinewidth\": 0, \"ticks\": \"\"}}, \"type\": \"scattergl\"}], \"scattermapbox\": [{\"marker\": {\"colorbar\": {\"outlinewidth\": 0, \"ticks\": \"\"}}, \"type\": \"scattermapbox\"}], \"scatterpolar\": [{\"marker\": {\"colorbar\": {\"outlinewidth\": 0, \"ticks\": \"\"}}, \"type\": \"scatterpolar\"}], \"scatterpolargl\": [{\"marker\": {\"colorbar\": {\"outlinewidth\": 0, \"ticks\": \"\"}}, \"type\": \"scatterpolargl\"}], \"scatterternary\": [{\"marker\": {\"colorbar\": {\"outlinewidth\": 0, \"ticks\": \"\"}}, \"type\": \"scatterternary\"}], \"surface\": [{\"colorbar\": {\"outlinewidth\": 0, \"ticks\": \"\"}, \"colorscale\": [[0.0, \"#0d0887\"], [0.1111111111111111, \"#46039f\"], [0.2222222222222222, \"#7201a8\"], [0.3333333333333333, \"#9c179e\"], [0.4444444444444444, \"#bd3786\"], [0.5555555555555556, \"#d8576b\"], [0.6666666666666666, \"#ed7953\"], [0.7777777777777778, \"#fb9f3a\"], [0.8888888888888888, \"#fdca26\"], [1.0, \"#f0f921\"]], \"type\": \"surface\"}], \"table\": [{\"cells\": {\"fill\": {\"color\": \"#EBF0F8\"}, \"line\": {\"color\": \"white\"}}, \"header\": {\"fill\": {\"color\": \"#C8D4E3\"}, \"line\": {\"color\": \"white\"}}, \"type\": \"table\"}]}, \"layout\": {\"annotationdefaults\": {\"arrowcolor\": \"#2a3f5f\", \"arrowhead\": 0, \"arrowwidth\": 1}, \"coloraxis\": {\"colorbar\": {\"outlinewidth\": 0, \"ticks\": \"\"}}, \"colorscale\": {\"diverging\": [[0, \"#8e0152\"], [0.1, \"#c51b7d\"], [0.2, \"#de77ae\"], [0.3, \"#f1b6da\"], [0.4, \"#fde0ef\"], [0.5, \"#f7f7f7\"], [0.6, \"#e6f5d0\"], [0.7, \"#b8e186\"], [0.8, \"#7fbc41\"], [0.9, \"#4d9221\"], [1, \"#276419\"]], \"sequential\": [[0.0, \"#0d0887\"], [0.1111111111111111, \"#46039f\"], [0.2222222222222222, \"#7201a8\"], [0.3333333333333333, \"#9c179e\"], [0.4444444444444444, \"#bd3786\"], [0.5555555555555556, \"#d8576b\"], [0.6666666666666666, \"#ed7953\"], [0.7777777777777778, \"#fb9f3a\"], [0.8888888888888888, \"#fdca26\"], [1.0, \"#f0f921\"]], \"sequentialminus\": [[0.0, \"#0d0887\"], [0.1111111111111111, \"#46039f\"], [0.2222222222222222, \"#7201a8\"], [0.3333333333333333, \"#9c179e\"], [0.4444444444444444, \"#bd3786\"], [0.5555555555555556, \"#d8576b\"], [0.6666666666666666, \"#ed7953\"], [0.7777777777777778, \"#fb9f3a\"], [0.8888888888888888, \"#fdca26\"], [1.0, \"#f0f921\"]]}, \"colorway\": [\"#636efa\", \"#EF553B\", \"#00cc96\", \"#ab63fa\", \"#FFA15A\", \"#19d3f3\", \"#FF6692\", \"#B6E880\", \"#FF97FF\", \"#FECB52\"], \"font\": {\"color\": \"#2a3f5f\"}, \"geo\": {\"bgcolor\": \"white\", \"lakecolor\": \"white\", \"landcolor\": \"#E5ECF6\", \"showlakes\": true, \"showland\": true, \"subunitcolor\": \"white\"}, \"hoverlabel\": {\"align\": \"left\"}, \"hovermode\": \"closest\", \"mapbox\": {\"style\": \"light\"}, \"paper_bgcolor\": \"white\", \"plot_bgcolor\": \"#E5ECF6\", \"polar\": {\"angularaxis\": {\"gridcolor\": \"white\", \"linecolor\": \"white\", \"ticks\": \"\"}, \"bgcolor\": \"#E5ECF6\", \"radialaxis\": {\"gridcolor\": \"white\", \"linecolor\": \"white\", \"ticks\": \"\"}}, \"scene\": {\"xaxis\": {\"backgroundcolor\": \"#E5ECF6\", \"gridcolor\": \"white\", \"gridwidth\": 2, \"linecolor\": \"white\", \"showbackground\": true, \"ticks\": \"\", \"zerolinecolor\": \"white\"}, \"yaxis\": {\"backgroundcolor\": \"#E5ECF6\", \"gridcolor\": \"white\", \"gridwidth\": 2, \"linecolor\": \"white\", \"showbackground\": true, \"ticks\": \"\", \"zerolinecolor\": \"white\"}, \"zaxis\": {\"backgroundcolor\": \"#E5ECF6\", \"gridcolor\": \"white\", \"gridwidth\": 2, \"linecolor\": \"white\", \"showbackground\": true, \"ticks\": \"\", \"zerolinecolor\": \"white\"}}, \"shapedefaults\": {\"line\": {\"color\": \"#2a3f5f\"}}, \"ternary\": {\"aaxis\": {\"gridcolor\": \"white\", \"linecolor\": \"white\", \"ticks\": \"\"}, \"baxis\": {\"gridcolor\": \"white\", \"linecolor\": \"white\", \"ticks\": \"\"}, \"bgcolor\": \"#E5ECF6\", \"caxis\": {\"gridcolor\": \"white\", \"linecolor\": \"white\", \"ticks\": \"\"}}, \"title\": {\"x\": 0.05}, \"xaxis\": {\"automargin\": true, \"gridcolor\": \"white\", \"linecolor\": \"white\", \"ticks\": \"\", \"title\": {\"standoff\": 15}, \"zerolinecolor\": \"white\", \"zerolinewidth\": 2}, \"yaxis\": {\"automargin\": true, \"gridcolor\": \"white\", \"linecolor\": \"white\", \"ticks\": \"\", \"title\": {\"standoff\": 15}, \"zerolinecolor\": \"white\", \"zerolinewidth\": 2}}}},\n",
              "                        {\"responsive\": true}\n",
              "                    ).then(function(){\n",
              "                            \n",
              "var gd = document.getElementById('7b4e841e-d884-4bc2-a7da-b31ceede5c0b');\n",
              "var x = new MutationObserver(function (mutations, observer) {{\n",
              "        var display = window.getComputedStyle(gd).display;\n",
              "        if (!display || display === 'none') {{\n",
              "            console.log([gd, 'removed!']);\n",
              "            Plotly.purge(gd);\n",
              "            observer.disconnect();\n",
              "        }}\n",
              "}});\n",
              "\n",
              "// Listen for the removal of the full notebook cells\n",
              "var notebookContainer = gd.closest('#notebook-container');\n",
              "if (notebookContainer) {{\n",
              "    x.observe(notebookContainer, {childList: true});\n",
              "}}\n",
              "\n",
              "// Listen for the clearing of the current output cell\n",
              "var outputEl = gd.closest('.output');\n",
              "if (outputEl) {{\n",
              "    x.observe(outputEl, {childList: true});\n",
              "}}\n",
              "\n",
              "                        })\n",
              "                };\n",
              "                \n",
              "            </script>\n",
              "        </div>\n",
              "</body>\n",
              "</html>"
            ]
          },
          "metadata": {
            "tags": []
          }
        }
      ]
    },
    {
      "cell_type": "code",
      "metadata": {
        "id": "GItkEK5T52XU",
        "colab": {
          "base_uri": "https://localhost:8080/",
          "height": 542
        },
        "outputId": "1577daec-ecd9-484d-bb68-5af8f84911e1"
      },
      "source": [
        "top_50, _ = crear_mapa(ecobici_df[ecobici_df.Fecha_Retiro.str.slice(6).astype(\"int\") == 2019].copy(), estaciones_df)\n"
      ],
      "execution_count": null,
      "outputs": [
        {
          "output_type": "display_data",
          "data": {
            "text/html": [
              "<html>\n",
              "<head><meta charset=\"utf-8\" /></head>\n",
              "<body>\n",
              "    <div>\n",
              "            <script src=\"https://cdnjs.cloudflare.com/ajax/libs/mathjax/2.7.5/MathJax.js?config=TeX-AMS-MML_SVG\"></script><script type=\"text/javascript\">if (window.MathJax) {MathJax.Hub.Config({SVG: {font: \"STIX-Web\"}});}</script>\n",
              "                <script type=\"text/javascript\">window.PlotlyConfig = {MathJaxConfig: 'local'};</script>\n",
              "        <script src=\"https://cdn.plot.ly/plotly-latest.min.js\"></script>    \n",
              "            <div id=\"bce8164a-ca3f-414a-94ba-cd6796475493\" class=\"plotly-graph-div\" style=\"height:525px; width:100%;\"></div>\n",
              "            <script type=\"text/javascript\">\n",
              "                \n",
              "                    window.PLOTLYENV=window.PLOTLYENV || {};\n",
              "                    \n",
              "                if (document.getElementById(\"bce8164a-ca3f-414a-94ba-cd6796475493\")) {\n",
              "                    Plotly.newPlot(\n",
              "                        'bce8164a-ca3f-414a-94ba-cd6796475493',\n",
              "                        [{\"lat\": [19.42888, 19.433571399999998], \"line\": {\"color\": \"#4f2463\", \"width\": 10.0}, \"lon\": [-99.164176, -99.16780909999999], \"mode\": \"lines\", \"name\": \"4409|19.42888|-99.164176\", \"text\": \"4409\", \"type\": \"scattermapbox\"}, {\"hoverinfo\": \"text\", \"hovertext\": \"4025\", \"lat\": [19.433607000000002, 19.432888000000002], \"line\": {\"color\": \"#542665\", \"width\": 9.129054207303243}, \"lon\": [-99.188528, -99.183605], \"mode\": \"lines\", \"name\": \"4025\", \"text\": \"4025\", \"type\": \"scattermapbox\"}, {\"hoverinfo\": \"text\", \"hovertext\": \"3967\", \"lat\": [19.441110000000002, 19.43767], \"line\": {\"color\": \"#582766\", \"width\": 8.997505103198003}, \"lon\": [-99.16164, -99.16402], \"mode\": \"lines\", \"name\": \"3967\", \"text\": \"3967\", \"type\": \"scattermapbox\"}, {\"hoverinfo\": \"text\", \"hovertext\": \"3882\", \"lat\": [19.441110000000002, 19.438236899999996], \"line\": {\"color\": \"#5d2868\", \"width\": 8.804717623043775}, \"lon\": [-99.16164, -99.16594649999999], \"mode\": \"lines\", \"name\": \"3882\", \"text\": \"3882\", \"type\": \"scattermapbox\"}, {\"hoverinfo\": \"text\", \"hovertext\": \"3580\", \"lat\": [19.438236899999996, 19.441110000000002], \"line\": {\"color\": \"#62296a\", \"width\": 8.119755046495804}, \"lon\": [-99.16594649999999, -99.16164], \"mode\": \"lines\", \"name\": \"3580\", \"text\": \"3580\", \"type\": \"scattermapbox\"}, {\"hoverinfo\": \"text\", \"hovertext\": \"3558\", \"lat\": [19.433571399999998, 19.42888], \"line\": {\"color\": \"#662a6b\", \"width\": 8.069857110455885}, \"lon\": [-99.16780909999999, -99.164176], \"mode\": \"lines\", \"name\": \"3558\", \"text\": \"3558\", \"type\": \"scattermapbox\"}, {\"hoverinfo\": \"text\", \"hovertext\": \"3336\", \"lat\": [19.43767, 19.441110000000002], \"line\": {\"color\": \"#6b2b6c\", \"width\": 7.566341574053074}, \"lon\": [-99.16402, -99.16164], \"mode\": \"lines\", \"name\": \"3336\", \"text\": \"3336\", \"type\": \"scattermapbox\"}, {\"hoverinfo\": \"text\", \"hovertext\": \"3139\", \"lat\": [19.407447, 19.415905], \"line\": {\"color\": \"#702c6e\", \"width\": 7.119528237695622}, \"lon\": [-99.15571700000001, -99.15954], \"mode\": \"lines\", \"name\": \"3139\", \"text\": \"3139\", \"type\": \"scattermapbox\"}, {\"hoverinfo\": \"text\", \"hovertext\": \"3096\", \"lat\": [19.404268, 19.405246], \"line\": {\"color\": \"#752d6f\", \"width\": 7.022000453617601}, \"lon\": [-99.160503, -99.15643100000001], \"mode\": \"lines\", \"name\": \"3096\", \"text\": \"3096\", \"type\": \"scattermapbox\"}, {\"hoverinfo\": \"text\", \"hovertext\": \"3011\", \"lat\": [19.434182, 19.440344], \"line\": {\"color\": \"#792e6f\", \"width\": 6.82921297346337}, \"lon\": [-99.189835, -99.20105], \"mode\": \"lines\", \"name\": \"3011\", \"text\": \"3011\", \"type\": \"scattermapbox\"}, {\"hoverinfo\": \"text\", \"hovertext\": \"2864\", \"lat\": [19.43425, 19.441110000000002], \"line\": {\"color\": \"#7e2f70\", \"width\": 6.495804037196643}, \"lon\": [-99.162508, -99.16164], \"mode\": \"lines\", \"name\": \"2864\", \"text\": \"2864\", \"type\": \"scattermapbox\"}, {\"hoverinfo\": \"text\", \"hovertext\": \"2784\", \"lat\": [19.441110000000002, 19.433571399999998], \"line\": {\"color\": \"#833070\", \"width\": 6.314356997051486}, \"lon\": [-99.16164, -99.16780909999999], \"mode\": \"lines\", \"name\": \"2784\", \"text\": \"2784\", \"type\": \"scattermapbox\"}, {\"hoverinfo\": \"text\", \"hovertext\": \"2758\", \"lat\": [19.433571399999998, 19.424674], \"line\": {\"color\": \"#873171\", \"width\": 6.255386709004309}, \"lon\": [-99.16780909999999, -99.163292], \"mode\": \"lines\", \"name\": \"2758\", \"text\": \"2758\", \"type\": \"scattermapbox\"}, {\"hoverinfo\": \"text\", \"hovertext\": \"2755\", \"lat\": [19.425468, 19.425468], \"line\": {\"color\": \"#8c3271\", \"width\": 6.248582444998866}, \"lon\": [-99.175166, -99.175166], \"mode\": \"lines\", \"name\": \"2755\", \"text\": \"2755\", \"type\": \"scattermapbox\"}, {\"hoverinfo\": \"text\", \"hovertext\": \"2711\", \"lat\": [19.43676, 19.444031], \"line\": {\"color\": \"#913371\", \"width\": 6.148786572919029}, \"lon\": [-99.15387, -99.152187], \"mode\": \"lines\", \"name\": \"2711\", \"text\": \"2711\", \"type\": \"scattermapbox\"}, {\"hoverinfo\": \"text\", \"hovertext\": \"2685\", \"lat\": [19.429115, 19.444031], \"line\": {\"color\": \"#953470\", \"width\": 6.089816284871853}, \"lon\": [-99.162614, -99.152187], \"mode\": \"lines\", \"name\": \"2685\", \"text\": \"2685\", \"type\": \"scattermapbox\"}, {\"hoverinfo\": \"text\", \"hovertext\": \"2668\", \"lat\": [19.434182, 19.435798000000002], \"line\": {\"color\": \"#9a3670\", \"width\": 6.051258788841007}, \"lon\": [-99.189835, -99.201419], \"mode\": \"lines\", \"name\": \"2668\", \"text\": \"2668\", \"type\": \"scattermapbox\"}, {\"hoverinfo\": \"text\", \"hovertext\": \"2666\", \"lat\": [19.407447, 19.412860000000002], \"line\": {\"color\": \"#9f376f\", \"width\": 6.046722612837378}, \"lon\": [-99.15571700000001, -99.160661], \"mode\": \"lines\", \"name\": \"2666\", \"text\": \"2666\", \"type\": \"scattermapbox\"}, {\"hoverinfo\": \"text\", \"hovertext\": \"2617\", \"lat\": [19.424234, 19.424234], \"line\": {\"color\": \"#a3386f\", \"width\": 5.935586300748469}, \"lon\": [-99.166431, -99.166431], \"mode\": \"lines\", \"name\": \"2617\", \"text\": \"2617\", \"type\": \"scattermapbox\"}, {\"hoverinfo\": \"text\", \"hovertext\": \"2607\", \"lat\": [19.432888000000002, 19.433607000000002], \"line\": {\"color\": \"#a8396e\", \"width\": 5.912905420730325}, \"lon\": [-99.183605, -99.188528], \"mode\": \"lines\", \"name\": \"2607\", \"text\": \"2607\", \"type\": \"scattermapbox\"}, {\"hoverinfo\": \"text\", \"hovertext\": \"2558\", \"lat\": [19.435798000000002, 19.434182], \"line\": {\"color\": \"#ad3b6d\", \"width\": 5.801769108641416}, \"lon\": [-99.201419, -99.189835], \"mode\": \"lines\", \"name\": \"2558\", \"text\": \"2558\", \"type\": \"scattermapbox\"}, {\"hoverinfo\": \"text\", \"hovertext\": \"2544\", \"lat\": [19.424725, 19.433571399999998], \"line\": {\"color\": \"#b13c6c\", \"width\": 5.770015876616013}, \"lon\": [-99.163331, -99.16780909999999], \"mode\": \"lines\", \"name\": \"2544\", \"text\": \"2544\", \"type\": \"scattermapbox\"}, {\"hoverinfo\": \"text\", \"hovertext\": \"2476\", \"lat\": [19.443928, 19.432685], \"line\": {\"color\": \"#b63d6b\", \"width\": 5.615785892492628}, \"lon\": [-99.152525, -99.154726], \"mode\": \"lines\", \"name\": \"2476\", \"text\": \"2476\", \"type\": \"scattermapbox\"}, {\"hoverinfo\": \"text\", \"hovertext\": \"2464\", \"lat\": [19.42018, 19.42018], \"line\": {\"color\": \"#bb3f6a\", \"width\": 5.588568836470856}, \"lon\": [-99.17439300000001, -99.17439300000001], \"mode\": \"lines\", \"name\": \"2464\", \"text\": \"2464\", \"type\": \"scattermapbox\"}, {\"hoverinfo\": \"text\", \"hovertext\": \"2459\", \"lat\": [19.424674, 19.433571399999998], \"line\": {\"color\": \"#c04068\", \"width\": 5.577228396461783}, \"lon\": [-99.163292, -99.16780909999999], \"mode\": \"lines\", \"name\": \"2459\", \"text\": \"2459\", \"type\": \"scattermapbox\"}, {\"hoverinfo\": \"text\", \"hovertext\": \"2439\", \"lat\": [19.410529, 19.407447], \"line\": {\"color\": \"#c44267\", \"width\": 5.531866636425493}, \"lon\": [-99.160873, -99.15571700000001], \"mode\": \"lines\", \"name\": \"2439\", \"text\": \"2439\", \"type\": \"scattermapbox\"}, {\"hoverinfo\": \"text\", \"hovertext\": \"2427\", \"lat\": [19.433571399999998, 19.441110000000002], \"line\": {\"color\": \"#c84465\", \"width\": 5.50464958040372}, \"lon\": [-99.16780909999999, -99.16164], \"mode\": \"lines\", \"name\": \"2427\", \"text\": \"2427\", \"type\": \"scattermapbox\"}, {\"hoverinfo\": \"text\", \"hovertext\": \"2413\", \"lat\": [19.419225, 19.417715], \"line\": {\"color\": \"#cc4663\", \"width\": 5.472896348378317}, \"lon\": [-99.15509899999999, -99.162729], \"mode\": \"lines\", \"name\": \"2413\", \"text\": \"2413\", \"type\": \"scattermapbox\"}, {\"hoverinfo\": \"text\", \"hovertext\": \"2397\", \"lat\": [19.445039, 19.442338], \"line\": {\"color\": \"#d04962\", \"width\": 5.436606940349286}, \"lon\": [-99.194078, -99.202492], \"mode\": \"lines\", \"name\": \"2397\", \"text\": \"2397\", \"type\": \"scattermapbox\"}, {\"hoverinfo\": \"text\", \"hovertext\": \"2350\", \"lat\": [19.433115, 19.422392000000002], \"line\": {\"color\": \"#d44c60\", \"width\": 5.330006804264006}, \"lon\": [-99.143686, -99.150358], \"mode\": \"lines\", \"name\": \"2350\", \"text\": \"2350\", \"type\": \"scattermapbox\"}, {\"hoverinfo\": \"text\", \"hovertext\": \"2337\", \"lat\": [19.433607000000002, 19.435031], \"line\": {\"color\": \"#d7505e\", \"width\": 5.300521660240417}, \"lon\": [-99.188528, -99.179838], \"mode\": \"lines\", \"name\": \"2337\", \"text\": \"2337\", \"type\": \"scattermapbox\"}, {\"hoverinfo\": \"text\", \"hovertext\": \"2332\", \"lat\": [19.415905, 19.407447], \"line\": {\"color\": \"#da545d\", \"width\": 5.289181220231345}, \"lon\": [-99.15954, -99.15571700000001], \"mode\": \"lines\", \"name\": \"2332\", \"text\": \"2332\", \"type\": \"scattermapbox\"}, {\"hoverinfo\": \"text\", \"hovertext\": \"2311\", \"lat\": [19.441110000000002, 19.43425], \"line\": {\"color\": \"#dc585c\", \"width\": 5.241551372193242}, \"lon\": [-99.16164, -99.162508], \"mode\": \"lines\", \"name\": \"2311\", \"text\": \"2311\", \"type\": \"scattermapbox\"}, {\"hoverinfo\": \"text\", \"hovertext\": \"2250\", \"lat\": [19.415905, 19.422288], \"line\": {\"color\": \"#de5d5c\", \"width\": 5.103198004082559}, \"lon\": [-99.15954, -99.162138], \"mode\": \"lines\", \"name\": \"2250\", \"text\": \"2250\", \"type\": \"scattermapbox\"}, {\"hoverinfo\": \"text\", \"hovertext\": \"2233\", \"lat\": [19.433571399999998, 19.42995], \"line\": {\"color\": \"#e0615c\", \"width\": 5.064640508051712}, \"lon\": [-99.16780909999999, -99.14591], \"mode\": \"lines\", \"name\": \"2233\", \"text\": \"2233\", \"type\": \"scattermapbox\"}, {\"hoverinfo\": \"text\", \"hovertext\": \"2232\", \"lat\": [19.443928, 19.43676], \"line\": {\"color\": \"#e2665c\", \"width\": 5.062372420049898}, \"lon\": [-99.152525, -99.15387], \"mode\": \"lines\", \"name\": \"2232\", \"text\": \"2232\", \"type\": \"scattermapbox\"}, {\"hoverinfo\": \"text\", \"hovertext\": \"2225\", \"lat\": [19.429115, 19.433571399999998], \"line\": {\"color\": \"#e36b5d\", \"width\": 5.046495804037196}, \"lon\": [-99.162614, -99.16780909999999], \"mode\": \"lines\", \"name\": \"2225\", \"text\": \"2225\", \"type\": \"scattermapbox\"}, {\"hoverinfo\": \"text\", \"hovertext\": \"2203\", \"lat\": [19.429115, 19.435228], \"line\": {\"color\": \"#e5705e\", \"width\": 4.996597867997278}, \"lon\": [-99.162614, -99.146063], \"mode\": \"lines\", \"name\": \"2203\", \"text\": \"2203\", \"type\": \"scattermapbox\"}, {\"hoverinfo\": \"text\", \"hovertext\": \"2172\", \"lat\": [19.433571399999998, 19.432378], \"line\": {\"color\": \"#e67560\", \"width\": 4.92628713994103}, \"lon\": [-99.16780909999999, -99.159077], \"mode\": \"lines\", \"name\": \"2172\", \"text\": \"2172\", \"type\": \"scattermapbox\"}, {\"hoverinfo\": \"text\", \"hovertext\": \"2157\", \"lat\": [19.4338, 19.427305], \"line\": {\"color\": \"#e77a62\", \"width\": 4.8922658199138125}, \"lon\": [-99.16622, -99.14953299999999], \"mode\": \"lines\", \"name\": \"2157\", \"text\": \"2157\", \"type\": \"scattermapbox\"}, {\"hoverinfo\": \"text\", \"hovertext\": \"2146\", \"lat\": [19.433571399999998, 19.433571399999998], \"line\": {\"color\": \"#e87f64\", \"width\": 4.867316851893854}, \"lon\": [-99.16780909999999, -99.16780909999999], \"mode\": \"lines\", \"name\": \"2146\", \"text\": \"2146\", \"type\": \"scattermapbox\"}, {\"hoverinfo\": \"text\", \"hovertext\": \"2110\", \"lat\": [19.406765, 19.411556], \"line\": {\"color\": \"#e88466\", \"width\": 4.785665683828533}, \"lon\": [-99.178321, -99.17406], \"mode\": \"lines\", \"name\": \"2110\", \"text\": \"2110\", \"type\": \"scattermapbox\"}, {\"hoverinfo\": \"text\", \"hovertext\": \"2090\", \"lat\": [19.442338, 19.445039], \"line\": {\"color\": \"#e98969\", \"width\": 4.7403039237922435}, \"lon\": [-99.202492, -99.194078], \"mode\": \"lines\", \"name\": \"2090\", \"text\": \"2090\", \"type\": \"scattermapbox\"}, {\"hoverinfo\": \"text\", \"hovertext\": \"2079\", \"lat\": [19.426470000000002, 19.444031], \"line\": {\"color\": \"#ea8e6c\", \"width\": 4.715354955772284}, \"lon\": [-99.16821999999999, -99.152187], \"mode\": \"lines\", \"name\": \"2079\", \"text\": \"2079\", \"type\": \"scattermapbox\"}, {\"hoverinfo\": \"text\", \"hovertext\": \"2079\", \"lat\": [19.407020000000003, 19.413681], \"line\": {\"color\": \"#ea936f\", \"width\": 4.715354955772284}, \"lon\": [-99.16958699999999, -99.171531], \"mode\": \"lines\", \"name\": \"2079\", \"text\": \"2079\", \"type\": \"scattermapbox\"}, {\"hoverinfo\": \"text\", \"hovertext\": \"2077\", \"lat\": [19.407447, 19.410529], \"line\": {\"color\": \"#eb9872\", \"width\": 4.710818779768655}, \"lon\": [-99.15571700000001, -99.160873], \"mode\": \"lines\", \"name\": \"2077\", \"text\": \"2077\", \"type\": \"scattermapbox\"}, {\"hoverinfo\": \"text\", \"hovertext\": \"2075\", \"lat\": [19.435637, 19.430964000000003], \"line\": {\"color\": \"#eb9c75\", \"width\": 4.706282603765026}, \"lon\": [-99.150137, -99.160206], \"mode\": \"lines\", \"name\": \"2075\", \"text\": \"2075\", \"type\": \"scattermapbox\"}, {\"hoverinfo\": \"text\", \"hovertext\": \"2071\", \"lat\": [19.427305, 19.4338], \"line\": {\"color\": \"#eca178\", \"width\": 4.697210251757768}, \"lon\": [-99.14953299999999, -99.16622], \"mode\": \"lines\", \"name\": \"2071\", \"text\": \"2071\", \"type\": \"scattermapbox\"}, {\"hoverinfo\": \"text\", \"hovertext\": \"2063\", \"lat\": [19.417715, 19.419225], \"line\": {\"color\": \"#eca67b\", \"width\": 4.679065547743252}, \"lon\": [-99.162729, -99.15509899999999], \"mode\": \"lines\", \"name\": \"2063\", \"text\": \"2063\", \"type\": \"scattermapbox\"}, {\"hoverinfo\": \"text\", \"hovertext\": \"2051\", \"lat\": [19.430625, 19.430625], \"line\": {\"color\": \"#edab7e\", \"width\": 4.651848491721479}, \"lon\": [-99.14248, -99.14248], \"mode\": \"lines\", \"name\": \"2051\", \"text\": \"2051\", \"type\": \"scattermapbox\"}, {\"hovertext\": [\"ID_estacion:1.0|n:15294\", \"ID_estacion:7.0|n:2755\", \"ID_estacion:18.0|n:4409\", \"ID_estacion:24.0|n:2079\", \"ID_estacion:27.0|n:7113\", \"ID_estacion:33.0|n:2617\", \"ID_estacion:34.0|n:2544\", \"ID_estacion:35.0|n:2459\", \"ID_estacion:41.0|n:2075\", \"ID_estacion:77.0|n:2110\", \"ID_estacion:82.0|n:2350\", \"ID_estacion:84.0|n:2079\", \"ID_estacion:85.0|n:2864\", \"ID_estacion:96.0|n:2051\", \"ID_estacion:108.0|n:2071\", \"ID_estacion:111.0|n:3580\", \"ID_estacion:135.0|n:2413\", \"ID_estacion:136.0|n:2063\", \"ID_estacion:141.0|n:4582\", \"ID_estacion:151.0|n:2439\", \"ID_estacion:158.0|n:7882\", \"ID_estacion:165.0|n:3096\", \"ID_estacion:174.0|n:12944\", \"ID_estacion:183.0|n:3336\", \"ID_estacion:206.0|n:2558\", \"ID_estacion:208.0|n:5679\", \"ID_estacion:211.0|n:6362\", \"ID_estacion:217.0|n:2607\", \"ID_estacion:257.0|n:2157\", \"ID_estacion:270.0|n:2711\", \"ID_estacion:271.0|n:4708\", \"ID_estacion:449.0|n:2464\", \"ID_estacion:463.0|n:2090\", \"ID_estacion:465.0|n:2397\"], \"lat\": [19.433571399999998, 19.425468, 19.42888, 19.426470000000002, 19.429115, 19.424234, 19.424725, 19.424674, 19.435637, 19.406765, 19.433115, 19.407020000000003, 19.43425, 19.430625, 19.427305, 19.438236899999996, 19.419225, 19.417715, 19.415905, 19.410529, 19.407447, 19.404268, 19.441110000000002, 19.43767, 19.435798000000002, 19.434182, 19.433607000000002, 19.432888000000002, 19.4338, 19.43676, 19.443928, 19.42018, 19.442338, 19.445039], \"lon\": [-99.16780909999999, -99.175166, -99.164176, -99.16821999999999, -99.162614, -99.166431, -99.163331, -99.163292, -99.150137, -99.178321, -99.143686, -99.16958699999999, -99.162508, -99.14248, -99.14953299999999, -99.16594649999999, -99.15509899999999, -99.162729, -99.15954, -99.160873, -99.15571700000001, -99.160503, -99.16164, -99.16402, -99.201419, -99.189835, -99.188528, -99.183605, -99.16622, -99.15387, -99.152525, -99.17439300000001, -99.202492, -99.194078], \"marker\": {\"color\": \"white\", \"opacity\": 0.7, \"size\": [50.0, 9.006800052308094, 14.414149339610304, 6.796783052177324, 23.254217340133383, 8.555642735713352, 8.316987053746567, 8.039100300771544, 6.783706028507912, 6.898129985615274, 7.682751405780045, 6.796783052177324, 9.363148947299594, 6.705243886491434, 6.770629004838499, 11.703936184124492, 7.888714528573297, 6.744474957499673, 14.97973061331241, 7.97371518242448, 25.768275140578005, 10.12161632012554, 42.317248594219954, 10.90623774029031, 8.362756636589513, 18.566104354648882, 20.799006146201123, 8.522950176539819, 7.051785013730876, 8.862952791944553, 15.391656858898914, 8.05544658035831, 6.83274486726821, 7.836406433895646]}, \"mode\": \"markers\", \"name\": \"Origen\", \"text\": \"Origen\", \"type\": \"scattermapbox\"}, {\"hovertext\": [\"ID_estacion:1|n:15294\", \"ID_estacion:7|n:2755\", \"ID_estacion:18|n:4409\", \"ID_estacion:20|n:2079\", \"ID_estacion:26|n:7113\", \"ID_estacion:33|n:2617\", \"ID_estacion:35|n:2544\", \"ID_estacion:43|n:2459\", \"ID_estacion:63|n:2075\", \"ID_estacion:68|n:2110\", \"ID_estacion:85|n:2350\", \"ID_estacion:86|n:2079\", \"ID_estacion:96|n:2864\", \"ID_estacion:99|n:2051\", \"ID_estacion:108|n:2071\", \"ID_estacion:111|n:3580\", \"ID_estacion:124|n:2413\", \"ID_estacion:126|n:2063\", \"ID_estacion:135|n:4582\", \"ID_estacion:136|n:2439\", \"ID_estacion:141|n:7882\", \"ID_estacion:145|n:3096\", \"ID_estacion:151|n:12944\", \"ID_estacion:158|n:3336\", \"ID_estacion:163|n:2558\", \"ID_estacion:174|n:5679\", \"ID_estacion:183|n:6362\", \"ID_estacion:206|n:2607\", \"ID_estacion:208|n:2157\", \"ID_estacion:211|n:2711\", \"ID_estacion:217|n:4708\", \"ID_estacion:242|n:2464\", \"ID_estacion:257|n:2090\", \"ID_estacion:266|n:2397\", null, null, null, null, null], \"lat\": [19.433571399999998, 19.425468, 19.42888, 19.430964000000003, 19.432685, 19.424234, 19.424674, 19.435228, 19.413681, 19.411556, 19.43425, 19.432378, 19.430625, 19.42995, 19.427305, 19.438236899999996, 19.422392000000002, 19.422288, 19.419225, 19.417715, 19.415905, 19.412860000000002, 19.410529, 19.407447, 19.405246, 19.441110000000002, 19.43767, 19.435798000000002, 19.434182, 19.433607000000002, 19.432888000000002, 19.440344, 19.4338, 19.444031, 19.43676, 19.42018, 19.435031, 19.442338, 19.445039], \"lon\": [-99.16780909999999, -99.175166, -99.164176, -99.160206, -99.154726, -99.166431, -99.163292, -99.146063, -99.171531, -99.17406, -99.162508, -99.159077, -99.14248, -99.14591, -99.14953299999999, -99.16594649999999, -99.150358, -99.162138, -99.15509899999999, -99.162729, -99.15954, -99.160661, -99.160873, -99.15571700000001, -99.15643100000001, -99.16164, -99.16402, -99.201419, -99.189835, -99.188528, -99.183605, -99.20105, -99.16622, -99.152187, -99.15387, -99.17439300000001, -99.179838, -99.202492, -99.194078], \"marker\": {\"color\": \"red\", \"opacity\": 0.7, \"size\": [50.0, 8.314722037785959, 10.738214522846622, 6.26244944769723, 7.472686666264259, 7.8982314239150115, 8.323776181565764, 6.6487595823021675, 6.274521639403634, 6.368081125128267, 6.974708758375082, 6.555200096577534, 6.190016297458803, 6.7393010201002, 6.509929377678518, 11.716062051065371, 7.092412627512525, 6.790607834852418, 6.2262328725780165, 7.282549646888392, 9.473652441600773, 8.046115772318464, 6.268485543550431, 14.399106657813727, 9.343876380756926, 36.84131104001931, 11.972596124826463, 8.052151868171666, 7.720166596245548, 7.868050944649001, 12.147642904569325, 9.087342306995835, 6.250377255990826, 22.559908251343032, 6.736282972173598, 7.436470091145048, 7.0531780044667105, 7.234260880062775, 6.307720166596245]}, \"mode\": \"markers\", \"name\": \"Destino\", \"text\": \"Destino\", \"type\": \"scattermapbox\"}],\n",
              "                        {\"mapbox\": {\"accesstoken\": \"pk.eyJ1IjoiYXJ0ZWNrIiwiYSI6ImNqemhiZ2pwMDB1ZGczanFrbHcwdWd1M3kifQ.-25TFMLfltbaFcBKNY7AFQ\", \"center\": {\"lat\": 19.430625, \"lon\": -99.14248}, \"style\": \"dark\", \"zoom\": 13}, \"margin\": {\"b\": 0, \"l\": 0, \"r\": 0, \"t\": 0}, \"template\": {\"data\": {\"bar\": [{\"error_x\": {\"color\": \"#2a3f5f\"}, \"error_y\": {\"color\": \"#2a3f5f\"}, \"marker\": {\"line\": {\"color\": \"#E5ECF6\", \"width\": 0.5}}, \"type\": \"bar\"}], \"barpolar\": [{\"marker\": {\"line\": {\"color\": \"#E5ECF6\", \"width\": 0.5}}, \"type\": \"barpolar\"}], \"carpet\": [{\"aaxis\": {\"endlinecolor\": \"#2a3f5f\", \"gridcolor\": \"white\", \"linecolor\": \"white\", \"minorgridcolor\": \"white\", \"startlinecolor\": \"#2a3f5f\"}, \"baxis\": {\"endlinecolor\": \"#2a3f5f\", \"gridcolor\": \"white\", \"linecolor\": \"white\", \"minorgridcolor\": \"white\", \"startlinecolor\": \"#2a3f5f\"}, \"type\": \"carpet\"}], \"choropleth\": [{\"colorbar\": {\"outlinewidth\": 0, \"ticks\": \"\"}, \"type\": \"choropleth\"}], \"contour\": [{\"colorbar\": {\"outlinewidth\": 0, \"ticks\": \"\"}, \"colorscale\": [[0.0, \"#0d0887\"], [0.1111111111111111, \"#46039f\"], [0.2222222222222222, \"#7201a8\"], [0.3333333333333333, \"#9c179e\"], [0.4444444444444444, \"#bd3786\"], [0.5555555555555556, \"#d8576b\"], [0.6666666666666666, \"#ed7953\"], [0.7777777777777778, \"#fb9f3a\"], [0.8888888888888888, \"#fdca26\"], [1.0, \"#f0f921\"]], \"type\": \"contour\"}], \"contourcarpet\": [{\"colorbar\": {\"outlinewidth\": 0, \"ticks\": \"\"}, \"type\": \"contourcarpet\"}], \"heatmap\": [{\"colorbar\": {\"outlinewidth\": 0, \"ticks\": \"\"}, \"colorscale\": [[0.0, \"#0d0887\"], [0.1111111111111111, \"#46039f\"], [0.2222222222222222, \"#7201a8\"], [0.3333333333333333, \"#9c179e\"], [0.4444444444444444, \"#bd3786\"], [0.5555555555555556, \"#d8576b\"], [0.6666666666666666, \"#ed7953\"], [0.7777777777777778, \"#fb9f3a\"], [0.8888888888888888, \"#fdca26\"], [1.0, \"#f0f921\"]], \"type\": \"heatmap\"}], \"heatmapgl\": [{\"colorbar\": {\"outlinewidth\": 0, \"ticks\": \"\"}, \"colorscale\": [[0.0, \"#0d0887\"], [0.1111111111111111, \"#46039f\"], [0.2222222222222222, \"#7201a8\"], [0.3333333333333333, \"#9c179e\"], [0.4444444444444444, \"#bd3786\"], [0.5555555555555556, \"#d8576b\"], [0.6666666666666666, \"#ed7953\"], [0.7777777777777778, \"#fb9f3a\"], [0.8888888888888888, \"#fdca26\"], [1.0, \"#f0f921\"]], \"type\": \"heatmapgl\"}], \"histogram\": [{\"marker\": {\"colorbar\": {\"outlinewidth\": 0, \"ticks\": \"\"}}, \"type\": \"histogram\"}], \"histogram2d\": [{\"colorbar\": {\"outlinewidth\": 0, \"ticks\": \"\"}, \"colorscale\": [[0.0, \"#0d0887\"], [0.1111111111111111, \"#46039f\"], [0.2222222222222222, \"#7201a8\"], [0.3333333333333333, \"#9c179e\"], [0.4444444444444444, \"#bd3786\"], [0.5555555555555556, \"#d8576b\"], [0.6666666666666666, \"#ed7953\"], [0.7777777777777778, \"#fb9f3a\"], [0.8888888888888888, \"#fdca26\"], [1.0, \"#f0f921\"]], \"type\": \"histogram2d\"}], \"histogram2dcontour\": [{\"colorbar\": {\"outlinewidth\": 0, \"ticks\": \"\"}, \"colorscale\": [[0.0, \"#0d0887\"], [0.1111111111111111, \"#46039f\"], [0.2222222222222222, \"#7201a8\"], [0.3333333333333333, \"#9c179e\"], [0.4444444444444444, \"#bd3786\"], [0.5555555555555556, \"#d8576b\"], [0.6666666666666666, \"#ed7953\"], [0.7777777777777778, \"#fb9f3a\"], [0.8888888888888888, \"#fdca26\"], [1.0, \"#f0f921\"]], \"type\": \"histogram2dcontour\"}], \"mesh3d\": [{\"colorbar\": {\"outlinewidth\": 0, \"ticks\": \"\"}, \"type\": \"mesh3d\"}], \"parcoords\": [{\"line\": {\"colorbar\": {\"outlinewidth\": 0, \"ticks\": \"\"}}, \"type\": \"parcoords\"}], \"pie\": [{\"automargin\": true, \"type\": \"pie\"}], \"scatter\": [{\"marker\": {\"colorbar\": {\"outlinewidth\": 0, \"ticks\": \"\"}}, \"type\": \"scatter\"}], \"scatter3d\": [{\"line\": {\"colorbar\": {\"outlinewidth\": 0, \"ticks\": \"\"}}, \"marker\": {\"colorbar\": {\"outlinewidth\": 0, \"ticks\": \"\"}}, \"type\": \"scatter3d\"}], \"scattercarpet\": [{\"marker\": {\"colorbar\": {\"outlinewidth\": 0, \"ticks\": \"\"}}, \"type\": \"scattercarpet\"}], \"scattergeo\": [{\"marker\": {\"colorbar\": {\"outlinewidth\": 0, \"ticks\": \"\"}}, \"type\": \"scattergeo\"}], \"scattergl\": [{\"marker\": {\"colorbar\": {\"outlinewidth\": 0, \"ticks\": \"\"}}, \"type\": \"scattergl\"}], \"scattermapbox\": [{\"marker\": {\"colorbar\": {\"outlinewidth\": 0, \"ticks\": \"\"}}, \"type\": \"scattermapbox\"}], \"scatterpolar\": [{\"marker\": {\"colorbar\": {\"outlinewidth\": 0, \"ticks\": \"\"}}, \"type\": \"scatterpolar\"}], \"scatterpolargl\": [{\"marker\": {\"colorbar\": {\"outlinewidth\": 0, \"ticks\": \"\"}}, \"type\": \"scatterpolargl\"}], \"scatterternary\": [{\"marker\": {\"colorbar\": {\"outlinewidth\": 0, \"ticks\": \"\"}}, \"type\": \"scatterternary\"}], \"surface\": [{\"colorbar\": {\"outlinewidth\": 0, \"ticks\": \"\"}, \"colorscale\": [[0.0, \"#0d0887\"], [0.1111111111111111, \"#46039f\"], [0.2222222222222222, \"#7201a8\"], [0.3333333333333333, \"#9c179e\"], [0.4444444444444444, \"#bd3786\"], [0.5555555555555556, \"#d8576b\"], [0.6666666666666666, \"#ed7953\"], [0.7777777777777778, \"#fb9f3a\"], [0.8888888888888888, \"#fdca26\"], [1.0, \"#f0f921\"]], \"type\": \"surface\"}], \"table\": [{\"cells\": {\"fill\": {\"color\": \"#EBF0F8\"}, \"line\": {\"color\": \"white\"}}, \"header\": {\"fill\": {\"color\": \"#C8D4E3\"}, \"line\": {\"color\": \"white\"}}, \"type\": \"table\"}]}, \"layout\": {\"annotationdefaults\": {\"arrowcolor\": \"#2a3f5f\", \"arrowhead\": 0, \"arrowwidth\": 1}, \"coloraxis\": {\"colorbar\": {\"outlinewidth\": 0, \"ticks\": \"\"}}, \"colorscale\": {\"diverging\": [[0, \"#8e0152\"], [0.1, \"#c51b7d\"], [0.2, \"#de77ae\"], [0.3, \"#f1b6da\"], [0.4, \"#fde0ef\"], [0.5, \"#f7f7f7\"], [0.6, \"#e6f5d0\"], [0.7, \"#b8e186\"], [0.8, \"#7fbc41\"], [0.9, \"#4d9221\"], [1, \"#276419\"]], \"sequential\": [[0.0, \"#0d0887\"], [0.1111111111111111, \"#46039f\"], [0.2222222222222222, \"#7201a8\"], [0.3333333333333333, \"#9c179e\"], [0.4444444444444444, \"#bd3786\"], [0.5555555555555556, \"#d8576b\"], [0.6666666666666666, \"#ed7953\"], [0.7777777777777778, \"#fb9f3a\"], [0.8888888888888888, \"#fdca26\"], [1.0, \"#f0f921\"]], \"sequentialminus\": [[0.0, \"#0d0887\"], [0.1111111111111111, \"#46039f\"], [0.2222222222222222, \"#7201a8\"], [0.3333333333333333, \"#9c179e\"], [0.4444444444444444, \"#bd3786\"], [0.5555555555555556, \"#d8576b\"], [0.6666666666666666, \"#ed7953\"], [0.7777777777777778, \"#fb9f3a\"], [0.8888888888888888, \"#fdca26\"], [1.0, \"#f0f921\"]]}, \"colorway\": [\"#636efa\", \"#EF553B\", \"#00cc96\", \"#ab63fa\", \"#FFA15A\", \"#19d3f3\", \"#FF6692\", \"#B6E880\", \"#FF97FF\", \"#FECB52\"], \"font\": {\"color\": \"#2a3f5f\"}, \"geo\": {\"bgcolor\": \"white\", \"lakecolor\": \"white\", \"landcolor\": \"#E5ECF6\", \"showlakes\": true, \"showland\": true, \"subunitcolor\": \"white\"}, \"hoverlabel\": {\"align\": \"left\"}, \"hovermode\": \"closest\", \"mapbox\": {\"style\": \"light\"}, \"paper_bgcolor\": \"white\", \"plot_bgcolor\": \"#E5ECF6\", \"polar\": {\"angularaxis\": {\"gridcolor\": \"white\", \"linecolor\": \"white\", \"ticks\": \"\"}, \"bgcolor\": \"#E5ECF6\", \"radialaxis\": {\"gridcolor\": \"white\", \"linecolor\": \"white\", \"ticks\": \"\"}}, \"scene\": {\"xaxis\": {\"backgroundcolor\": \"#E5ECF6\", \"gridcolor\": \"white\", \"gridwidth\": 2, \"linecolor\": \"white\", \"showbackground\": true, \"ticks\": \"\", \"zerolinecolor\": \"white\"}, \"yaxis\": {\"backgroundcolor\": \"#E5ECF6\", \"gridcolor\": \"white\", \"gridwidth\": 2, \"linecolor\": \"white\", \"showbackground\": true, \"ticks\": \"\", \"zerolinecolor\": \"white\"}, \"zaxis\": {\"backgroundcolor\": \"#E5ECF6\", \"gridcolor\": \"white\", \"gridwidth\": 2, \"linecolor\": \"white\", \"showbackground\": true, \"ticks\": \"\", \"zerolinecolor\": \"white\"}}, \"shapedefaults\": {\"line\": {\"color\": \"#2a3f5f\"}}, \"ternary\": {\"aaxis\": {\"gridcolor\": \"white\", \"linecolor\": \"white\", \"ticks\": \"\"}, \"baxis\": {\"gridcolor\": \"white\", \"linecolor\": \"white\", \"ticks\": \"\"}, \"bgcolor\": \"#E5ECF6\", \"caxis\": {\"gridcolor\": \"white\", \"linecolor\": \"white\", \"ticks\": \"\"}}, \"title\": {\"x\": 0.05}, \"xaxis\": {\"automargin\": true, \"gridcolor\": \"white\", \"linecolor\": \"white\", \"ticks\": \"\", \"title\": {\"standoff\": 15}, \"zerolinecolor\": \"white\", \"zerolinewidth\": 2}, \"yaxis\": {\"automargin\": true, \"gridcolor\": \"white\", \"linecolor\": \"white\", \"ticks\": \"\", \"title\": {\"standoff\": 15}, \"zerolinecolor\": \"white\", \"zerolinewidth\": 2}}}},\n",
              "                        {\"responsive\": true}\n",
              "                    ).then(function(){\n",
              "                            \n",
              "var gd = document.getElementById('bce8164a-ca3f-414a-94ba-cd6796475493');\n",
              "var x = new MutationObserver(function (mutations, observer) {{\n",
              "        var display = window.getComputedStyle(gd).display;\n",
              "        if (!display || display === 'none') {{\n",
              "            console.log([gd, 'removed!']);\n",
              "            Plotly.purge(gd);\n",
              "            observer.disconnect();\n",
              "        }}\n",
              "}});\n",
              "\n",
              "// Listen for the removal of the full notebook cells\n",
              "var notebookContainer = gd.closest('#notebook-container');\n",
              "if (notebookContainer) {{\n",
              "    x.observe(notebookContainer, {childList: true});\n",
              "}}\n",
              "\n",
              "// Listen for the clearing of the current output cell\n",
              "var outputEl = gd.closest('.output');\n",
              "if (outputEl) {{\n",
              "    x.observe(outputEl, {childList: true});\n",
              "}}\n",
              "\n",
              "                        })\n",
              "                };\n",
              "                \n",
              "            </script>\n",
              "        </div>\n",
              "</body>\n",
              "</html>"
            ]
          },
          "metadata": {
            "tags": []
          }
        }
      ]
    },
    {
      "cell_type": "markdown",
      "metadata": {
        "id": "F3B-GwIchSpR"
      },
      "source": [
        "\n",
        "\n",
        "> Arturo Téllez  tellez.cortes.arturo@gmail.com\n",
        "\n",
        "\n",
        "\n"
      ]
    },
    {
      "cell_type": "code",
      "metadata": {
        "id": "fCTrugDcy85Y"
      },
      "source": [
        ""
      ],
      "execution_count": null,
      "outputs": []
    },
    {
      "cell_type": "code",
      "metadata": {
        "id": "GvsN3SiZzPy3"
      },
      "source": [
        ""
      ],
      "execution_count": null,
      "outputs": []
    },
    {
      "cell_type": "code",
      "metadata": {
        "id": "ZFQCyWcjzR24"
      },
      "source": [
        ""
      ],
      "execution_count": null,
      "outputs": []
    },
    {
      "cell_type": "code",
      "metadata": {
        "id": "Ss3UrJSBzTp-"
      },
      "source": [
        ""
      ],
      "execution_count": null,
      "outputs": []
    }
  ]
}