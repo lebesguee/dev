{
 "cells": [
  {
   "cell_type": "markdown",
   "metadata": {},
   "source": [
    "# Proyecto Ecobici\n",
    "1. Obener información de Programa Ecobici\n",
    "2. Limpiar la base de datos. Estructura homogénea. - Script Artur\n",
    "3. Missing Values, NA's y Nulos - Análisis\n",
    "4. Ubicación de cicloestaciones - visualización geográfica\n",
    "5. EDA - Estadísticas(), Insights y Visualizaciones (histogramas duración de viajes, agrupaciones+agregaciones)\n",
    "6. Algoritmo de Clustering para identificar ubicación de hotspots\n",
    "7. Recomendaciones de Redes - dos enfoques\\\n",
    "    a) Content Based Algo - Comparar necesidades de usuarios con características de las cicloestaciones. Entrenar un modelo con el producto punto como medida de similaridad.\\\n",
    "    b) Recomendaciones con Collaborative Filtering\n",
    "8. Conclusiones, Propuesta de Nuevos Modelos\n",
    "\n",
    "9. Agrupar por cicloestación o por usuario\n",
    "\n",
    "10. Algoritmos aglomerativos"
   ]
  },
  {
   "cell_type": "markdown",
   "metadata": {},
   "source": [
    "## 1. Obener información del Programa Ecobici"
   ]
  },
  {
   "cell_type": "code",
   "execution_count": 1,
   "metadata": {},
   "outputs": [],
   "source": [
    "import io\n",
    "import pandas as pd"
   ]
  },
  {
   "cell_type": "code",
   "execution_count": 2,
   "metadata": {},
   "outputs": [],
   "source": [
    "# función para leer datos del URL de ecobici\n",
    "def leer_historico_ecobici(anio, mes):\n",
    "  import requests\n",
    "  csv_url = f\"https://www.ecobici.cdmx.gob.mx/sites/default/files/data/usages/{anio}-{mes}.csv\"\n",
    "  req = requests.get(csv_url)\n",
    "  url_content = req.content\n",
    "  rawData = pd.read_csv(io.StringIO(url_content.decode('utf-8')))\n",
    "  return rawData"
   ]
  },
  {
   "cell_type": "code",
   "execution_count": 7,
   "metadata": {},
   "outputs": [],
   "source": [
    "\"\"\"\"\"\n",
    "\n",
    "# periodos a consultar\n",
    "consultas = [\n",
    "  #(2022, \"06\"), # info de Junio aún no está completa para consultar\n",
    "  (2022, \"05\"),\n",
    "  (2022, \"04\"),\n",
    "  (2022, \"03\"),\n",
    "  (2022, \"02\"),\n",
    "  (2022, \"01\"), \n",
    "  (2021, \"12\"),\n",
    "  (2021, \"11\"),\n",
    "  (2021, \"10\"),\n",
    "  (2021, \"09\"),\n",
    "  (2021, \"08\"),\n",
    "  (2021, \"07\"),\n",
    "  (2021, \"06\"),\n",
    "  (2021, \"05\"),\n",
    "  (2021, \"04\"),\n",
    "  (2021, \"03\"),\n",
    "  (2021, \"02\"),\n",
    "  (2021, \"01\"), \n",
    "  #(2020, \"12\"), # detalle a atender -- revisar info de dic/2020 en especifico\n",
    "  (2020, \"11\"),\n",
    "  (2020, \"10\"),\n",
    "  (2020, \"09\"),\n",
    "  (2020, \"08\"),\n",
    "  (2020, \"07\"),\n",
    "  (2020, \"06\"),\n",
    "  (2020, \"05\"),\n",
    "  (2020, \"04\"),\n",
    "  (2020, \"03\"),\n",
    "  (2020, \"02\"),\n",
    "  (2020, \"01\"),\n",
    "  (2019, \"12\"),\n",
    "  (2019, \"11\"),\n",
    "  (2019, \"10\"),\n",
    "  (2019, \"09\"),\n",
    "  (2019, \"08\"),\n",
    "  (2019, \"07\"),\n",
    "  (2019, \"06\"),\n",
    "  (2019, \"05\"),\n",
    "  (2019, \"04\"),\n",
    "  (2019, \"03\"),\n",
    "  (2019, \"02\"),\n",
    "  (2019, \"01\")\n",
    "]\n",
    "\n",
    "\"\"\""
   ]
  },
  {
   "cell_type": "code",
   "execution_count": 18,
   "metadata": {},
   "outputs": [],
   "source": [
    "consultas = [\n",
    "  #(2020, \"12\"),\n",
    "  (2020, \"11\"),\n",
    "  (2020, \"10\"),\n",
    "  (2020, \"09\"),\n",
    "  (2020, \"08\"),\n",
    "  (2020, \"07\"),\n",
    "  (2020, \"06\"),\n",
    "  (2020, \"05\"),\n",
    "  (2020, \"04\"),\n",
    "  (2020, \"03\"),\n",
    "  (2020, \"02\"),\n",
    "  (2020, \"01\")]"
   ]
  },
  {
   "cell_type": "code",
   "execution_count": 19,
   "metadata": {},
   "outputs": [
    {
     "name": "stdout",
     "output_type": "stream",
     "text": [
      "(2020, '11')\n",
      "(2020, '10')\n",
      "(2020, '09')\n",
      "(2020, '08')\n",
      "(2020, '07')\n",
      "(2020, '06')\n",
      "(2020, '05')\n",
      "(2020, '04')\n",
      "(2020, '03')\n"
     ]
    },
    {
     "name": "stderr",
     "output_type": "stream",
     "text": [
      "C:\\Users\\mike_\\AppData\\Local\\Temp\\ipykernel_6184\\2215206597.py:6: DtypeWarning: Columns (2) have mixed types. Specify dtype option on import or set low_memory=False.\n",
      "  rawData = pd.read_csv(io.StringIO(url_content.decode('utf-8')))\n"
     ]
    },
    {
     "name": "stdout",
     "output_type": "stream",
     "text": [
      "(2020, '02')\n",
      "(2020, '01')\n"
     ]
    }
   ],
   "source": [
    "# leer historico para cada mes especificado en lista consultas\n",
    "consulta_df = []\n",
    "for consulta in consultas:\n",
    "  print(consulta)\n",
    "  consulta_df.append(leer_historico_ecobici(*consulta))"
   ]
  },
  {
   "cell_type": "code",
   "execution_count": 20,
   "metadata": {},
   "outputs": [
    {
     "name": "stderr",
     "output_type": "stream",
     "text": [
      "C:\\Users\\mike_\\AppData\\Local\\Temp\\ipykernel_6184\\1202030006.py:4: FutureWarning: The frame.append method is deprecated and will be removed from pandas in a future version. Use pandas.concat instead.\n",
      "  df = df.append(df_temp)\n",
      "C:\\Users\\mike_\\AppData\\Local\\Temp\\ipykernel_6184\\1202030006.py:4: FutureWarning: The frame.append method is deprecated and will be removed from pandas in a future version. Use pandas.concat instead.\n",
      "  df = df.append(df_temp)\n",
      "C:\\Users\\mike_\\AppData\\Local\\Temp\\ipykernel_6184\\1202030006.py:4: FutureWarning: The frame.append method is deprecated and will be removed from pandas in a future version. Use pandas.concat instead.\n",
      "  df = df.append(df_temp)\n",
      "C:\\Users\\mike_\\AppData\\Local\\Temp\\ipykernel_6184\\1202030006.py:4: FutureWarning: The frame.append method is deprecated and will be removed from pandas in a future version. Use pandas.concat instead.\n",
      "  df = df.append(df_temp)\n",
      "C:\\Users\\mike_\\AppData\\Local\\Temp\\ipykernel_6184\\1202030006.py:4: FutureWarning: The frame.append method is deprecated and will be removed from pandas in a future version. Use pandas.concat instead.\n",
      "  df = df.append(df_temp)\n",
      "C:\\Users\\mike_\\AppData\\Local\\Temp\\ipykernel_6184\\1202030006.py:4: FutureWarning: The frame.append method is deprecated and will be removed from pandas in a future version. Use pandas.concat instead.\n",
      "  df = df.append(df_temp)\n",
      "C:\\Users\\mike_\\AppData\\Local\\Temp\\ipykernel_6184\\1202030006.py:4: FutureWarning: The frame.append method is deprecated and will be removed from pandas in a future version. Use pandas.concat instead.\n",
      "  df = df.append(df_temp)\n",
      "C:\\Users\\mike_\\AppData\\Local\\Temp\\ipykernel_6184\\1202030006.py:4: FutureWarning: The frame.append method is deprecated and will be removed from pandas in a future version. Use pandas.concat instead.\n",
      "  df = df.append(df_temp)\n",
      "C:\\Users\\mike_\\AppData\\Local\\Temp\\ipykernel_6184\\1202030006.py:4: FutureWarning: The frame.append method is deprecated and will be removed from pandas in a future version. Use pandas.concat instead.\n",
      "  df = df.append(df_temp)\n"
     ]
    }
   ],
   "source": [
    "# consolidar la información en un pandas dataset\n",
    "df = pd.DataFrame({})\n",
    "for df_temp in consulta_df:\n",
    "  df = df.append(df_temp)"
   ]
  },
  {
   "cell_type": "code",
   "execution_count": 21,
   "metadata": {},
   "outputs": [
    {
     "data": {
      "text/plain": [
       "(3774961, 10)"
      ]
     },
     "execution_count": 21,
     "metadata": {},
     "output_type": "execute_result"
    }
   ],
   "source": [
    "# dimension de filas y columnas\n",
    "df.shape "
   ]
  },
  {
   "cell_type": "code",
   "execution_count": 22,
   "metadata": {},
   "outputs": [
    {
     "data": {
      "text/html": [
       "<div>\n",
       "<style scoped>\n",
       "    .dataframe tbody tr th:only-of-type {\n",
       "        vertical-align: middle;\n",
       "    }\n",
       "\n",
       "    .dataframe tbody tr th {\n",
       "        vertical-align: top;\n",
       "    }\n",
       "\n",
       "    .dataframe thead th {\n",
       "        text-align: right;\n",
       "    }\n",
       "</style>\n",
       "<table border=\"1\" class=\"dataframe\">\n",
       "  <thead>\n",
       "    <tr style=\"text-align: right;\">\n",
       "      <th></th>\n",
       "      <th>Genero_Usuario</th>\n",
       "      <th>Edad_Usuario</th>\n",
       "      <th>Bici</th>\n",
       "      <th>Ciclo_Estacion_Retiro</th>\n",
       "      <th>Fecha_Retiro</th>\n",
       "      <th>Hora_Retiro</th>\n",
       "      <th>Ciclo_Estacion_Arribo</th>\n",
       "      <th>Fecha_Arribo</th>\n",
       "      <th>Hora_Arribo</th>\n",
       "      <th>BikeID</th>\n",
       "    </tr>\n",
       "  </thead>\n",
       "  <tbody>\n",
       "    <tr>\n",
       "      <th>0</th>\n",
       "      <td>M</td>\n",
       "      <td>48.0</td>\n",
       "      <td>9989.0</td>\n",
       "      <td>140.0</td>\n",
       "      <td>31/10/2020</td>\n",
       "      <td>23:46:40</td>\n",
       "      <td>85</td>\n",
       "      <td>01/11/2020</td>\n",
       "      <td>0:03:35</td>\n",
       "      <td>NaN</td>\n",
       "    </tr>\n",
       "    <tr>\n",
       "      <th>1</th>\n",
       "      <td>M</td>\n",
       "      <td>29.0</td>\n",
       "      <td>6898.0</td>\n",
       "      <td>276.0</td>\n",
       "      <td>01/11/2020</td>\n",
       "      <td>5:16:20</td>\n",
       "      <td>424</td>\n",
       "      <td>01/11/2020</td>\n",
       "      <td>5:38:13</td>\n",
       "      <td>NaN</td>\n",
       "    </tr>\n",
       "    <tr>\n",
       "      <th>2</th>\n",
       "      <td>F</td>\n",
       "      <td>43.0</td>\n",
       "      <td>11061.0</td>\n",
       "      <td>60.0</td>\n",
       "      <td>01/11/2020</td>\n",
       "      <td>8:50:57</td>\n",
       "      <td>232</td>\n",
       "      <td>01/11/2020</td>\n",
       "      <td>9:27:09</td>\n",
       "      <td>NaN</td>\n",
       "    </tr>\n",
       "    <tr>\n",
       "      <th>3</th>\n",
       "      <td>F</td>\n",
       "      <td>35.0</td>\n",
       "      <td>11097.0</td>\n",
       "      <td>408.0</td>\n",
       "      <td>01/11/2020</td>\n",
       "      <td>8:25:52</td>\n",
       "      <td>96</td>\n",
       "      <td>01/11/2020</td>\n",
       "      <td>9:28:59</td>\n",
       "      <td>NaN</td>\n",
       "    </tr>\n",
       "    <tr>\n",
       "      <th>4</th>\n",
       "      <td>F</td>\n",
       "      <td>27.0</td>\n",
       "      <td>10308.0</td>\n",
       "      <td>379.0</td>\n",
       "      <td>01/11/2020</td>\n",
       "      <td>9:35:55</td>\n",
       "      <td>394</td>\n",
       "      <td>01/11/2020</td>\n",
       "      <td>9:38:28</td>\n",
       "      <td>NaN</td>\n",
       "    </tr>\n",
       "  </tbody>\n",
       "</table>\n",
       "</div>"
      ],
      "text/plain": [
       "  Genero_Usuario  Edad_Usuario     Bici  Ciclo_Estacion_Retiro Fecha_Retiro  \\\n",
       "0              M          48.0   9989.0                  140.0   31/10/2020   \n",
       "1              M          29.0   6898.0                  276.0   01/11/2020   \n",
       "2              F          43.0  11061.0                   60.0   01/11/2020   \n",
       "3              F          35.0  11097.0                  408.0   01/11/2020   \n",
       "4              F          27.0  10308.0                  379.0   01/11/2020   \n",
       "\n",
       "  Hora_Retiro  Ciclo_Estacion_Arribo Fecha_Arribo Hora_Arribo  BikeID  \n",
       "0    23:46:40                     85   01/11/2020     0:03:35     NaN  \n",
       "1     5:16:20                    424   01/11/2020     5:38:13     NaN  \n",
       "2     8:50:57                    232   01/11/2020     9:27:09     NaN  \n",
       "3     8:25:52                     96   01/11/2020     9:28:59     NaN  \n",
       "4     9:35:55                    394   01/11/2020     9:38:28     NaN  "
      ]
     },
     "execution_count": 22,
     "metadata": {},
     "output_type": "execute_result"
    }
   ],
   "source": [
    "df.head()"
   ]
  },
  {
   "cell_type": "code",
   "execution_count": 23,
   "metadata": {},
   "outputs": [
    {
     "data": {
      "text/html": [
       "<div>\n",
       "<style scoped>\n",
       "    .dataframe tbody tr th:only-of-type {\n",
       "        vertical-align: middle;\n",
       "    }\n",
       "\n",
       "    .dataframe tbody tr th {\n",
       "        vertical-align: top;\n",
       "    }\n",
       "\n",
       "    .dataframe thead th {\n",
       "        text-align: right;\n",
       "    }\n",
       "</style>\n",
       "<table border=\"1\" class=\"dataframe\">\n",
       "  <thead>\n",
       "    <tr style=\"text-align: right;\">\n",
       "      <th></th>\n",
       "      <th>Genero_Usuario</th>\n",
       "      <th>Edad_Usuario</th>\n",
       "      <th>Bici</th>\n",
       "      <th>Ciclo_Estacion_Retiro</th>\n",
       "      <th>Fecha_Retiro</th>\n",
       "      <th>Hora_Retiro</th>\n",
       "      <th>Ciclo_Estacion_Arribo</th>\n",
       "      <th>Fecha_Arribo</th>\n",
       "      <th>Hora_Arribo</th>\n",
       "      <th>BikeID</th>\n",
       "    </tr>\n",
       "  </thead>\n",
       "  <tbody>\n",
       "    <tr>\n",
       "      <th>24453</th>\n",
       "      <td>M</td>\n",
       "      <td>22.0</td>\n",
       "      <td>10024.0</td>\n",
       "      <td>271.0</td>\n",
       "      <td>03/10/2020</td>\n",
       "      <td>8:44:42</td>\n",
       "      <td>23</td>\n",
       "      <td>03/10/2020</td>\n",
       "      <td>8:56:43</td>\n",
       "      <td>NaN</td>\n",
       "    </tr>\n",
       "    <tr>\n",
       "      <th>169154</th>\n",
       "      <td>M</td>\n",
       "      <td>53.0</td>\n",
       "      <td>11470.0</td>\n",
       "      <td>141.0</td>\n",
       "      <td>20/10/2020</td>\n",
       "      <td>11:18:30</td>\n",
       "      <td>141</td>\n",
       "      <td>20/10/2020</td>\n",
       "      <td>11:45:52</td>\n",
       "      <td>NaN</td>\n",
       "    </tr>\n",
       "    <tr>\n",
       "      <th>174337</th>\n",
       "      <td>M</td>\n",
       "      <td>28.0</td>\n",
       "      <td>9986</td>\n",
       "      <td>113.0</td>\n",
       "      <td>10/01/2020</td>\n",
       "      <td>16:12:05</td>\n",
       "      <td>270</td>\n",
       "      <td>10/01/2020</td>\n",
       "      <td>16:19:20</td>\n",
       "      <td>NaN</td>\n",
       "    </tr>\n",
       "    <tr>\n",
       "      <th>48736</th>\n",
       "      <td>M</td>\n",
       "      <td>38.0</td>\n",
       "      <td>7354</td>\n",
       "      <td>20.0</td>\n",
       "      <td>03/03/2020</td>\n",
       "      <td>9:30:14</td>\n",
       "      <td>14</td>\n",
       "      <td>03/03/2020</td>\n",
       "      <td>9:42:02</td>\n",
       "      <td>NaN</td>\n",
       "    </tr>\n",
       "    <tr>\n",
       "      <th>268596</th>\n",
       "      <td>F</td>\n",
       "      <td>25.0</td>\n",
       "      <td>7465</td>\n",
       "      <td>64.0</td>\n",
       "      <td>15/01/2020</td>\n",
       "      <td>7:52:38</td>\n",
       "      <td>36</td>\n",
       "      <td>15/01/2020</td>\n",
       "      <td>7:59:48</td>\n",
       "      <td>NaN</td>\n",
       "    </tr>\n",
       "    <tr>\n",
       "      <th>565573</th>\n",
       "      <td>F</td>\n",
       "      <td>71.0</td>\n",
       "      <td>11730</td>\n",
       "      <td>5.0</td>\n",
       "      <td>28/01/2020</td>\n",
       "      <td>8:35:29</td>\n",
       "      <td>56</td>\n",
       "      <td>28/01/2020</td>\n",
       "      <td>8:50:32</td>\n",
       "      <td>NaN</td>\n",
       "    </tr>\n",
       "    <tr>\n",
       "      <th>135807</th>\n",
       "      <td>F</td>\n",
       "      <td>32.0</td>\n",
       "      <td>1583.0</td>\n",
       "      <td>295.0</td>\n",
       "      <td>18/11/2020</td>\n",
       "      <td>9:26:53</td>\n",
       "      <td>74</td>\n",
       "      <td>18/11/2020</td>\n",
       "      <td>9:45:14</td>\n",
       "      <td>NaN</td>\n",
       "    </tr>\n",
       "  </tbody>\n",
       "</table>\n",
       "</div>"
      ],
      "text/plain": [
       "       Genero_Usuario  Edad_Usuario     Bici  Ciclo_Estacion_Retiro  \\\n",
       "24453               M          22.0  10024.0                  271.0   \n",
       "169154              M          53.0  11470.0                  141.0   \n",
       "174337              M          28.0     9986                  113.0   \n",
       "48736               M          38.0     7354                   20.0   \n",
       "268596              F          25.0     7465                   64.0   \n",
       "565573              F          71.0    11730                    5.0   \n",
       "135807              F          32.0   1583.0                  295.0   \n",
       "\n",
       "       Fecha_Retiro Hora_Retiro  Ciclo_Estacion_Arribo Fecha_Arribo  \\\n",
       "24453    03/10/2020     8:44:42                     23   03/10/2020   \n",
       "169154   20/10/2020    11:18:30                    141   20/10/2020   \n",
       "174337   10/01/2020    16:12:05                    270   10/01/2020   \n",
       "48736    03/03/2020     9:30:14                     14   03/03/2020   \n",
       "268596   15/01/2020     7:52:38                     36   15/01/2020   \n",
       "565573   28/01/2020     8:35:29                     56   28/01/2020   \n",
       "135807   18/11/2020     9:26:53                     74   18/11/2020   \n",
       "\n",
       "       Hora_Arribo  BikeID  \n",
       "24453      8:56:43     NaN  \n",
       "169154    11:45:52     NaN  \n",
       "174337    16:19:20     NaN  \n",
       "48736      9:42:02     NaN  \n",
       "268596     7:59:48     NaN  \n",
       "565573     8:50:32     NaN  \n",
       "135807     9:45:14     NaN  "
      ]
     },
     "execution_count": 23,
     "metadata": {},
     "output_type": "execute_result"
    }
   ],
   "source": [
    "df.sample(7)"
   ]
  },
  {
   "cell_type": "code",
   "execution_count": 25,
   "metadata": {},
   "outputs": [],
   "source": [
    "# Variables númericas y variables categoricas\n",
    "num_vars = df.columns[df.dtypes != 'object']\n",
    "cat_vars = df.columns[df.dtypes == 'object']"
   ]
  },
  {
   "cell_type": "code",
   "execution_count": 27,
   "metadata": {},
   "outputs": [
    {
     "data": {
      "text/plain": [
       "BikeID                   3508023\n",
       "Edad_Usuario                  32\n",
       "Ciclo_Estacion_Retiro         32\n",
       "Ciclo_Estacion_Arribo          0\n",
       "dtype: int64"
      ]
     },
     "execution_count": 27,
     "metadata": {},
     "output_type": "execute_result"
    }
   ],
   "source": [
    "# análisis de missing values en variables numéricas\n",
    "df[num_vars].isnull().sum().sort_values(ascending=False)"
   ]
  },
  {
   "cell_type": "code",
   "execution_count": 28,
   "metadata": {},
   "outputs": [
    {
     "data": {
      "text/plain": [
       "BikeID                   0.929287\n",
       "Edad_Usuario             0.000008\n",
       "Ciclo_Estacion_Retiro    0.000008\n",
       "Ciclo_Estacion_Arribo    0.000000\n",
       "dtype: float64"
      ]
     },
     "execution_count": 28,
     "metadata": {},
     "output_type": "execute_result"
    }
   ],
   "source": [
    "# análisis de missing values en variables numéricas en porcentaje\n",
    "df[num_vars].isnull().sum().sort_values(ascending=False)/len(df)  # id de bicicleta muchos missing"
   ]
  },
  {
   "cell_type": "code",
   "execution_count": 29,
   "metadata": {},
   "outputs": [
    {
     "data": {
      "text/html": [
       "<div>\n",
       "<style scoped>\n",
       "    .dataframe tbody tr th:only-of-type {\n",
       "        vertical-align: middle;\n",
       "    }\n",
       "\n",
       "    .dataframe tbody tr th {\n",
       "        vertical-align: top;\n",
       "    }\n",
       "\n",
       "    .dataframe thead th {\n",
       "        text-align: right;\n",
       "    }\n",
       "</style>\n",
       "<table border=\"1\" class=\"dataframe\">\n",
       "  <thead>\n",
       "    <tr style=\"text-align: right;\">\n",
       "      <th></th>\n",
       "      <th>Edad_Usuario</th>\n",
       "      <th>Ciclo_Estacion_Retiro</th>\n",
       "      <th>Ciclo_Estacion_Arribo</th>\n",
       "      <th>BikeID</th>\n",
       "    </tr>\n",
       "  </thead>\n",
       "  <tbody>\n",
       "    <tr>\n",
       "      <th>count</th>\n",
       "      <td>3.774929e+06</td>\n",
       "      <td>3.774929e+06</td>\n",
       "      <td>3.774961e+06</td>\n",
       "      <td>266938.000000</td>\n",
       "    </tr>\n",
       "    <tr>\n",
       "      <th>mean</th>\n",
       "      <td>3.609266e+01</td>\n",
       "      <td>1.863721e+02</td>\n",
       "      <td>1.850312e+02</td>\n",
       "      <td>9916.554421</td>\n",
       "    </tr>\n",
       "    <tr>\n",
       "      <th>std</th>\n",
       "      <td>1.072206e+01</td>\n",
       "      <td>1.337225e+02</td>\n",
       "      <td>1.331043e+02</td>\n",
       "      <td>2684.602780</td>\n",
       "    </tr>\n",
       "    <tr>\n",
       "      <th>min</th>\n",
       "      <td>1.600000e+01</td>\n",
       "      <td>1.000000e+00</td>\n",
       "      <td>1.000000e+00</td>\n",
       "      <td>809.000000</td>\n",
       "    </tr>\n",
       "    <tr>\n",
       "      <th>25%</th>\n",
       "      <td>2.800000e+01</td>\n",
       "      <td>6.900000e+01</td>\n",
       "      <td>6.900000e+01</td>\n",
       "      <td>8233.000000</td>\n",
       "    </tr>\n",
       "    <tr>\n",
       "      <th>50%</th>\n",
       "      <td>3.300000e+01</td>\n",
       "      <td>1.600000e+02</td>\n",
       "      <td>1.580000e+02</td>\n",
       "      <td>10078.000000</td>\n",
       "    </tr>\n",
       "    <tr>\n",
       "      <th>75%</th>\n",
       "      <td>4.200000e+01</td>\n",
       "      <td>2.860000e+02</td>\n",
       "      <td>2.820000e+02</td>\n",
       "      <td>12049.000000</td>\n",
       "    </tr>\n",
       "    <tr>\n",
       "      <th>max</th>\n",
       "      <td>1.200000e+02</td>\n",
       "      <td>3.002000e+03</td>\n",
       "      <td>3.003000e+03</td>\n",
       "      <td>14207.000000</td>\n",
       "    </tr>\n",
       "  </tbody>\n",
       "</table>\n",
       "</div>"
      ],
      "text/plain": [
       "       Edad_Usuario  Ciclo_Estacion_Retiro  Ciclo_Estacion_Arribo  \\\n",
       "count  3.774929e+06           3.774929e+06           3.774961e+06   \n",
       "mean   3.609266e+01           1.863721e+02           1.850312e+02   \n",
       "std    1.072206e+01           1.337225e+02           1.331043e+02   \n",
       "min    1.600000e+01           1.000000e+00           1.000000e+00   \n",
       "25%    2.800000e+01           6.900000e+01           6.900000e+01   \n",
       "50%    3.300000e+01           1.600000e+02           1.580000e+02   \n",
       "75%    4.200000e+01           2.860000e+02           2.820000e+02   \n",
       "max    1.200000e+02           3.002000e+03           3.003000e+03   \n",
       "\n",
       "              BikeID  \n",
       "count  266938.000000  \n",
       "mean     9916.554421  \n",
       "std      2684.602780  \n",
       "min       809.000000  \n",
       "25%      8233.000000  \n",
       "50%     10078.000000  \n",
       "75%     12049.000000  \n",
       "max     14207.000000  "
      ]
     },
     "execution_count": 29,
     "metadata": {},
     "output_type": "execute_result"
    }
   ],
   "source": [
    "# estadisticas rapidas\n",
    "df.describe()"
   ]
  },
  {
   "cell_type": "code",
   "execution_count": 30,
   "metadata": {},
   "outputs": [
    {
     "name": "stdout",
     "output_type": "stream",
     "text": [
      "<class 'pandas.core.frame.DataFrame'>\n",
      "Int64Index: 3774961 entries, 0 to 676907\n",
      "Data columns (total 10 columns):\n",
      " #   Column                 Dtype  \n",
      "---  ------                 -----  \n",
      " 0   Genero_Usuario         object \n",
      " 1   Edad_Usuario           float64\n",
      " 2   Bici                   object \n",
      " 3   Ciclo_Estacion_Retiro  float64\n",
      " 4   Fecha_Retiro           object \n",
      " 5   Hora_Retiro            object \n",
      " 6   Ciclo_Estacion_Arribo  int64  \n",
      " 7   Fecha_Arribo           object \n",
      " 8   Hora_Arribo            object \n",
      " 9   BikeID                 float64\n",
      "dtypes: float64(3), int64(1), object(6)\n",
      "memory usage: 316.8+ MB\n"
     ]
    }
   ],
   "source": [
    "# tipos de datos\n",
    "df.info()"
   ]
  },
  {
   "cell_type": "code",
   "execution_count": null,
   "metadata": {},
   "outputs": [],
   "source": [
    "# cambiar tipos de datos de fecha # crear dos columnas: datetome inicio y datetime término"
   ]
  },
  {
   "cell_type": "markdown",
   "metadata": {},
   "source": [
    "### Cicloestaciones"
   ]
  },
  {
   "cell_type": "code",
   "execution_count": 31,
   "metadata": {},
   "outputs": [],
   "source": [
    "estaciones = pd.read_csv('https://raw.githubusercontent.com/gonzalezgouveia/proyecto-ecobici/master/datos/ecobiciestaciones.csv')"
   ]
  },
  {
   "cell_type": "code",
   "execution_count": 32,
   "metadata": {},
   "outputs": [
    {
     "name": "stdout",
     "output_type": "stream",
     "text": [
      "<class 'pandas.core.frame.DataFrame'>\n",
      "RangeIndex: 268 entries, 0 to 267\n",
      "Data columns (total 9 columns):\n",
      " #   Column      Non-Null Count  Dtype  \n",
      "---  ------      --------------  -----  \n",
      " 0   id          268 non-null    int64  \n",
      " 1   principal   268 non-null    object \n",
      " 2   secundario  268 non-null    object \n",
      " 3   referencia  178 non-null    object \n",
      " 4   colonia     268 non-null    object \n",
      " 5   delegacion  268 non-null    object \n",
      " 6   longitud    268 non-null    float64\n",
      " 7   latitud     268 non-null    float64\n",
      " 8   nombre      268 non-null    object \n",
      "dtypes: float64(2), int64(1), object(6)\n",
      "memory usage: 19.0+ KB\n"
     ]
    }
   ],
   "source": [
    "estaciones.info()"
   ]
  },
  {
   "cell_type": "code",
   "execution_count": 33,
   "metadata": {},
   "outputs": [
    {
     "data": {
      "text/html": [
       "<div>\n",
       "<style scoped>\n",
       "    .dataframe tbody tr th:only-of-type {\n",
       "        vertical-align: middle;\n",
       "    }\n",
       "\n",
       "    .dataframe tbody tr th {\n",
       "        vertical-align: top;\n",
       "    }\n",
       "\n",
       "    .dataframe thead th {\n",
       "        text-align: right;\n",
       "    }\n",
       "</style>\n",
       "<table border=\"1\" class=\"dataframe\">\n",
       "  <thead>\n",
       "    <tr style=\"text-align: right;\">\n",
       "      <th></th>\n",
       "      <th>id</th>\n",
       "      <th>longitud</th>\n",
       "      <th>latitud</th>\n",
       "    </tr>\n",
       "  </thead>\n",
       "  <tbody>\n",
       "    <tr>\n",
       "      <th>count</th>\n",
       "      <td>268.000000</td>\n",
       "      <td>268.000000</td>\n",
       "      <td>268.000000</td>\n",
       "    </tr>\n",
       "    <tr>\n",
       "      <th>mean</th>\n",
       "      <td>135.895522</td>\n",
       "      <td>-99.169222</td>\n",
       "      <td>19.423328</td>\n",
       "    </tr>\n",
       "    <tr>\n",
       "      <th>std</th>\n",
       "      <td>78.647154</td>\n",
       "      <td>0.018256</td>\n",
       "      <td>0.015289</td>\n",
       "    </tr>\n",
       "    <tr>\n",
       "      <th>min</th>\n",
       "      <td>1.000000</td>\n",
       "      <td>-99.207808</td>\n",
       "      <td>19.249080</td>\n",
       "    </tr>\n",
       "    <tr>\n",
       "      <th>25%</th>\n",
       "      <td>67.750000</td>\n",
       "      <td>-99.180484</td>\n",
       "      <td>19.414257</td>\n",
       "    </tr>\n",
       "    <tr>\n",
       "      <th>50%</th>\n",
       "      <td>136.500000</td>\n",
       "      <td>-99.168895</td>\n",
       "      <td>19.426420</td>\n",
       "    </tr>\n",
       "    <tr>\n",
       "      <th>75%</th>\n",
       "      <td>203.250000</td>\n",
       "      <td>-99.158116</td>\n",
       "      <td>19.432689</td>\n",
       "    </tr>\n",
       "    <tr>\n",
       "      <th>max</th>\n",
       "      <td>275.000000</td>\n",
       "      <td>-99.104160</td>\n",
       "      <td>19.444272</td>\n",
       "    </tr>\n",
       "  </tbody>\n",
       "</table>\n",
       "</div>"
      ],
      "text/plain": [
       "               id    longitud     latitud\n",
       "count  268.000000  268.000000  268.000000\n",
       "mean   135.895522  -99.169222   19.423328\n",
       "std     78.647154    0.018256    0.015289\n",
       "min      1.000000  -99.207808   19.249080\n",
       "25%     67.750000  -99.180484   19.414257\n",
       "50%    136.500000  -99.168895   19.426420\n",
       "75%    203.250000  -99.158116   19.432689\n",
       "max    275.000000  -99.104160   19.444272"
      ]
     },
     "execution_count": 33,
     "metadata": {},
     "output_type": "execute_result"
    }
   ],
   "source": [
    "estaciones.describe()"
   ]
  },
  {
   "cell_type": "code",
   "execution_count": 34,
   "metadata": {},
   "outputs": [
    {
     "data": {
      "text/html": [
       "<div>\n",
       "<style scoped>\n",
       "    .dataframe tbody tr th:only-of-type {\n",
       "        vertical-align: middle;\n",
       "    }\n",
       "\n",
       "    .dataframe tbody tr th {\n",
       "        vertical-align: top;\n",
       "    }\n",
       "\n",
       "    .dataframe thead th {\n",
       "        text-align: right;\n",
       "    }\n",
       "</style>\n",
       "<table border=\"1\" class=\"dataframe\">\n",
       "  <thead>\n",
       "    <tr style=\"text-align: right;\">\n",
       "      <th></th>\n",
       "      <th>id</th>\n",
       "      <th>principal</th>\n",
       "      <th>secundario</th>\n",
       "      <th>referencia</th>\n",
       "      <th>colonia</th>\n",
       "      <th>delegacion</th>\n",
       "      <th>longitud</th>\n",
       "      <th>latitud</th>\n",
       "      <th>nombre</th>\n",
       "    </tr>\n",
       "  </thead>\n",
       "  <tbody>\n",
       "    <tr>\n",
       "      <th>210</th>\n",
       "      <td>213</td>\n",
       "      <td>Av. Horacio</td>\n",
       "      <td>FFCC Cuernavaca</td>\n",
       "      <td>Frente al No. 1550</td>\n",
       "      <td>Polanco</td>\n",
       "      <td>Miguel Hidalgo</td>\n",
       "      <td>-99.206967</td>\n",
       "      <td>19.435197</td>\n",
       "      <td>Av. Horacio-FFCC Cuernavaca</td>\n",
       "    </tr>\n",
       "    <tr>\n",
       "      <th>112</th>\n",
       "      <td>115</td>\n",
       "      <td>Roma</td>\n",
       "      <td>Dinamarca</td>\n",
       "      <td>A un costado de Mac´Donals</td>\n",
       "      <td>Juárez</td>\n",
       "      <td>Cuauhtémoc</td>\n",
       "      <td>-99.159698</td>\n",
       "      <td>19.429947</td>\n",
       "      <td>Roma-Dinamarca</td>\n",
       "    </tr>\n",
       "    <tr>\n",
       "      <th>253</th>\n",
       "      <td>256</td>\n",
       "      <td>Gómez Farías</td>\n",
       "      <td>Sadi Carnot</td>\n",
       "      <td>Frente a la UVM</td>\n",
       "      <td>San Rafael</td>\n",
       "      <td>Cuauhtémoc</td>\n",
       "      <td>-99.158313</td>\n",
       "      <td>19.437167</td>\n",
       "      <td>Gómez Farías-Sadi Carnot</td>\n",
       "    </tr>\n",
       "    <tr>\n",
       "      <th>31</th>\n",
       "      <td>32</td>\n",
       "      <td>Londres</td>\n",
       "      <td>Sevilla</td>\n",
       "      <td>NaN</td>\n",
       "      <td>Juárez</td>\n",
       "      <td>Cuauhtémoc</td>\n",
       "      <td>-99.169700</td>\n",
       "      <td>19.422850</td>\n",
       "      <td>Londres-Sevilla</td>\n",
       "    </tr>\n",
       "    <tr>\n",
       "      <th>65</th>\n",
       "      <td>66</td>\n",
       "      <td>Mazatlán</td>\n",
       "      <td>Francisco Márquez</td>\n",
       "      <td>NaN</td>\n",
       "      <td>Condesa</td>\n",
       "      <td>Cuauhtémoc</td>\n",
       "      <td>-99.178480</td>\n",
       "      <td>19.411810</td>\n",
       "      <td>Mazatlán-Francisco Márquez</td>\n",
       "    </tr>\n",
       "    <tr>\n",
       "      <th>56</th>\n",
       "      <td>57</td>\n",
       "      <td>Cuernavaca</td>\n",
       "      <td>Juan Escutia</td>\n",
       "      <td>NaN</td>\n",
       "      <td>Condesa</td>\n",
       "      <td>Cuauhtémoc</td>\n",
       "      <td>-99.174770</td>\n",
       "      <td>19.414970</td>\n",
       "      <td>Cuernavaca-Juan Escutia</td>\n",
       "    </tr>\n",
       "    <tr>\n",
       "      <th>129</th>\n",
       "      <td>132</td>\n",
       "      <td>Colima</td>\n",
       "      <td>Frontera</td>\n",
       "      <td>Frente a Edificio Marisol</td>\n",
       "      <td>Roma Norte</td>\n",
       "      <td>Cuauhtémoc</td>\n",
       "      <td>-99.156450</td>\n",
       "      <td>19.420667</td>\n",
       "      <td>Colima-Frontera</td>\n",
       "    </tr>\n",
       "  </tbody>\n",
       "</table>\n",
       "</div>"
      ],
      "text/plain": [
       "      id     principal         secundario                  referencia  \\\n",
       "210  213   Av. Horacio    FFCC Cuernavaca          Frente al No. 1550   \n",
       "112  115          Roma          Dinamarca  A un costado de Mac´Donals   \n",
       "253  256  Gómez Farías        Sadi Carnot             Frente a la UVM   \n",
       "31    32       Londres            Sevilla                         NaN   \n",
       "65    66      Mazatlán  Francisco Márquez                         NaN   \n",
       "56    57    Cuernavaca       Juan Escutia                         NaN   \n",
       "129  132        Colima           Frontera   Frente a Edificio Marisol   \n",
       "\n",
       "        colonia      delegacion   longitud    latitud  \\\n",
       "210     Polanco  Miguel Hidalgo -99.206967  19.435197   \n",
       "112      Juárez      Cuauhtémoc -99.159698  19.429947   \n",
       "253  San Rafael      Cuauhtémoc -99.158313  19.437167   \n",
       "31       Juárez      Cuauhtémoc -99.169700  19.422850   \n",
       "65      Condesa      Cuauhtémoc -99.178480  19.411810   \n",
       "56      Condesa      Cuauhtémoc -99.174770  19.414970   \n",
       "129  Roma Norte      Cuauhtémoc -99.156450  19.420667   \n",
       "\n",
       "                          nombre  \n",
       "210  Av. Horacio-FFCC Cuernavaca  \n",
       "112               Roma-Dinamarca  \n",
       "253     Gómez Farías-Sadi Carnot  \n",
       "31               Londres-Sevilla  \n",
       "65    Mazatlán-Francisco Márquez  \n",
       "56       Cuernavaca-Juan Escutia  \n",
       "129              Colima-Frontera  "
      ]
     },
     "execution_count": 34,
     "metadata": {},
     "output_type": "execute_result"
    }
   ],
   "source": [
    "estaciones.sample(7)"
   ]
  },
  {
   "cell_type": "markdown",
   "metadata": {},
   "source": [
    "### Analizando los csv mensuales "
   ]
  },
  {
   "cell_type": "code",
   "execution_count": 1,
   "metadata": {},
   "outputs": [],
   "source": [
    "import pandas as pd"
   ]
  },
  {
   "cell_type": "code",
   "execution_count": 49,
   "metadata": {},
   "outputs": [
    {
     "name": "stderr",
     "output_type": "stream",
     "text": [
      "C:\\Users\\mike_\\AppData\\Local\\Temp\\ipykernel_8008\\1916318915.py:2: DtypeWarning: Columns (2) have mixed types. Specify dtype option on import or set low_memory=False.\n",
      "  jan_2019 = pd.read_csv('data/2019-01.csv')\n",
      "C:\\Users\\mike_\\AppData\\Local\\Temp\\ipykernel_8008\\1916318915.py:3: DtypeWarning: Columns (2) have mixed types. Specify dtype option on import or set low_memory=False.\n",
      "  feb_2019 = pd.read_csv('data/2019-02.csv')\n",
      "C:\\Users\\mike_\\AppData\\Local\\Temp\\ipykernel_8008\\1916318915.py:4: DtypeWarning: Columns (2,6,9) have mixed types. Specify dtype option on import or set low_memory=False.\n",
      "  mar_2019 = pd.read_csv('data/2019-03.csv')\n",
      "C:\\Users\\mike_\\AppData\\Local\\Temp\\ipykernel_8008\\1916318915.py:11: DtypeWarning: Columns (2) have mixed types. Specify dtype option on import or set low_memory=False.\n",
      "  oct_2019 = pd.read_csv('data/2019-10.csv')\n",
      "C:\\Users\\mike_\\AppData\\Local\\Temp\\ipykernel_8008\\1916318915.py:12: DtypeWarning: Columns (2) have mixed types. Specify dtype option on import or set low_memory=False.\n",
      "  nov_2019 = pd.read_csv('data/2019-11.csv')\n",
      "C:\\Users\\mike_\\AppData\\Local\\Temp\\ipykernel_8008\\1916318915.py:13: DtypeWarning: Columns (2) have mixed types. Specify dtype option on import or set low_memory=False.\n",
      "  dec_2019 = pd.read_csv('data/2019-12.csv')\n"
     ]
    }
   ],
   "source": [
    "# Reading year 2019\n",
    "jan_2019 = pd.read_csv('data/2019-01.csv')\n",
    "feb_2019 = pd.read_csv('data/2019-02.csv')\n",
    "mar_2019 = pd.read_csv('data/2019-03.csv')\n",
    "apr_2019 = pd.read_csv('data/2019-04.csv')\n",
    "may_2019 = pd.read_csv('data/2019-05.csv')\n",
    "jun_2019 = pd.read_csv('data/2019-06.csv')\n",
    "jul_2019 = pd.read_csv('data/2019-07.csv')\n",
    "aug_2019 = pd.read_csv('data/2019-08.csv')\n",
    "sep_2019 = pd.read_csv('data/2019-09.csv')\n",
    "oct_2019 = pd.read_csv('data/2019-10.csv')\n",
    "nov_2019 = pd.read_csv('data/2019-11.csv')\n",
    "dec_2019 = pd.read_csv('data/2019-12.csv')"
   ]
  },
  {
   "cell_type": "code",
   "execution_count": 50,
   "metadata": {},
   "outputs": [
    {
     "data": {
      "text/plain": [
       "array([ True,  True,  True,  True,  True,  True,  True,  True,  True])"
      ]
     },
     "execution_count": 50,
     "metadata": {},
     "output_type": "execute_result"
    }
   ],
   "source": [
    "jan_2019.columns == feb_2019.columns # january columns"
   ]
  },
  {
   "cell_type": "code",
   "execution_count": 51,
   "metadata": {},
   "outputs": [
    {
     "data": {
      "text/plain": [
       "(697289, 9)"
      ]
     },
     "execution_count": 51,
     "metadata": {},
     "output_type": "execute_result"
    }
   ],
   "source": [
    "jan_2019.shape"
   ]
  },
  {
   "cell_type": "code",
   "execution_count": 52,
   "metadata": {},
   "outputs": [
    {
     "data": {
      "text/plain": [
       "Index(['Genero_Usuario', 'Edad_Usuario', 'Bici', 'Ciclo_Estacion_Retiro',\n",
       "       'Fecha_Retiro', 'Hora_Retiro', 'Ciclo_Estacion_Arribo', 'Fecha_Arribo',\n",
       "       'Hora_Arribo'],\n",
       "      dtype='object')"
      ]
     },
     "execution_count": 52,
     "metadata": {},
     "output_type": "execute_result"
    }
   ],
   "source": [
    "jan_2019.columns"
   ]
  },
  {
   "cell_type": "code",
   "execution_count": 53,
   "metadata": {},
   "outputs": [
    {
     "data": {
      "text/plain": [
       "Index(['Genero_Usuario', 'Edad_Usuario', 'Bici', 'Ciclo_Estacion_Retiro',\n",
       "       'Fecha_Retiro', 'Hora_Retiro', 'Ciclo_Estacion_Arribo', 'Fecha_Arribo',\n",
       "       'Hora_Arribo', 'Unnamed: 9'],\n",
       "      dtype='object')"
      ]
     },
     "execution_count": 53,
     "metadata": {},
     "output_type": "execute_result"
    }
   ],
   "source": [
    "mar_2019.columns # march-2019 got an extra column"
   ]
  },
  {
   "cell_type": "code",
   "execution_count": 54,
   "metadata": {},
   "outputs": [
    {
     "data": {
      "text/plain": [
       "(752299, 10)"
      ]
     },
     "execution_count": 54,
     "metadata": {},
     "output_type": "execute_result"
    }
   ],
   "source": [
    "mar_2019.shape"
   ]
  },
  {
   "cell_type": "code",
   "execution_count": 55,
   "metadata": {},
   "outputs": [
    {
     "data": {
      "text/html": [
       "<div>\n",
       "<style scoped>\n",
       "    .dataframe tbody tr th:only-of-type {\n",
       "        vertical-align: middle;\n",
       "    }\n",
       "\n",
       "    .dataframe tbody tr th {\n",
       "        vertical-align: top;\n",
       "    }\n",
       "\n",
       "    .dataframe thead th {\n",
       "        text-align: right;\n",
       "    }\n",
       "</style>\n",
       "<table border=\"1\" class=\"dataframe\">\n",
       "  <thead>\n",
       "    <tr style=\"text-align: right;\">\n",
       "      <th></th>\n",
       "      <th>Genero_Usuario</th>\n",
       "      <th>Edad_Usuario</th>\n",
       "      <th>Bici</th>\n",
       "      <th>Ciclo_Estacion_Retiro</th>\n",
       "      <th>Fecha_Retiro</th>\n",
       "      <th>Hora_Retiro</th>\n",
       "      <th>Ciclo_Estacion_Arribo</th>\n",
       "      <th>Fecha_Arribo</th>\n",
       "      <th>Hora_Arribo</th>\n",
       "      <th>Unnamed: 9</th>\n",
       "    </tr>\n",
       "  </thead>\n",
       "  <tbody>\n",
       "    <tr>\n",
       "      <th>603805</th>\n",
       "      <td>M</td>\n",
       "      <td>23</td>\n",
       "      <td>7262</td>\n",
       "      <td>384</td>\n",
       "      <td>26/03/2019</td>\n",
       "      <td>08:32:08</td>\n",
       "      <td>166</td>\n",
       "      <td>26/03/2019</td>\n",
       "      <td>08:46:06</td>\n",
       "      <td>NaN</td>\n",
       "    </tr>\n",
       "    <tr>\n",
       "      <th>636408</th>\n",
       "      <td>M</td>\n",
       "      <td>28</td>\n",
       "      <td>12217</td>\n",
       "      <td>266</td>\n",
       "      <td>27/03/2019</td>\n",
       "      <td>08:38:01</td>\n",
       "      <td>23</td>\n",
       "      <td>27/03/2019</td>\n",
       "      <td>09:01:12</td>\n",
       "      <td>NaN</td>\n",
       "    </tr>\n",
       "    <tr>\n",
       "      <th>53498</th>\n",
       "      <td>M</td>\n",
       "      <td>35</td>\n",
       "      <td>10463</td>\n",
       "      <td>15</td>\n",
       "      <td>03/03/2019</td>\n",
       "      <td>19:39:03</td>\n",
       "      <td>46</td>\n",
       "      <td>03/03/2019</td>\n",
       "      <td>19:47:28</td>\n",
       "      <td>NaN</td>\n",
       "    </tr>\n",
       "    <tr>\n",
       "      <th>421185</th>\n",
       "      <td>M</td>\n",
       "      <td>27</td>\n",
       "      <td>3282</td>\n",
       "      <td>169</td>\n",
       "      <td>19/03/2019</td>\n",
       "      <td>06:59:25</td>\n",
       "      <td>182</td>\n",
       "      <td>19/03/2019</td>\n",
       "      <td>07:01:07</td>\n",
       "      <td>NaN</td>\n",
       "    </tr>\n",
       "    <tr>\n",
       "      <th>84356</th>\n",
       "      <td>M</td>\n",
       "      <td>31</td>\n",
       "      <td>7262</td>\n",
       "      <td>347</td>\n",
       "      <td>05/03/2019</td>\n",
       "      <td>07:57:39</td>\n",
       "      <td>390</td>\n",
       "      <td>05/03/2019</td>\n",
       "      <td>08:03:28</td>\n",
       "      <td>NaN</td>\n",
       "    </tr>\n",
       "    <tr>\n",
       "      <th>345900</th>\n",
       "      <td>M</td>\n",
       "      <td>31</td>\n",
       "      <td>9123</td>\n",
       "      <td>51</td>\n",
       "      <td>14/03/2019</td>\n",
       "      <td>17:12:12</td>\n",
       "      <td>32</td>\n",
       "      <td>14/03/2019</td>\n",
       "      <td>17:16:46</td>\n",
       "      <td>NaN</td>\n",
       "    </tr>\n",
       "    <tr>\n",
       "      <th>127375</th>\n",
       "      <td>F</td>\n",
       "      <td>30</td>\n",
       "      <td>11826</td>\n",
       "      <td>59</td>\n",
       "      <td>06/03/2019</td>\n",
       "      <td>16:11:39</td>\n",
       "      <td>163</td>\n",
       "      <td>06/03/2019</td>\n",
       "      <td>16:23:03</td>\n",
       "      <td>NaN</td>\n",
       "    </tr>\n",
       "  </tbody>\n",
       "</table>\n",
       "</div>"
      ],
      "text/plain": [
       "       Genero_Usuario  Edad_Usuario   Bici  Ciclo_Estacion_Retiro  \\\n",
       "603805              M            23   7262                    384   \n",
       "636408              M            28  12217                    266   \n",
       "53498               M            35  10463                     15   \n",
       "421185              M            27   3282                    169   \n",
       "84356               M            31   7262                    347   \n",
       "345900              M            31   9123                     51   \n",
       "127375              F            30  11826                     59   \n",
       "\n",
       "       Fecha_Retiro Hora_Retiro Ciclo_Estacion_Arribo Fecha_Arribo  \\\n",
       "603805   26/03/2019    08:32:08                   166   26/03/2019   \n",
       "636408   27/03/2019    08:38:01                    23   27/03/2019   \n",
       "53498    03/03/2019    19:39:03                    46   03/03/2019   \n",
       "421185   19/03/2019    06:59:25                   182   19/03/2019   \n",
       "84356    05/03/2019    07:57:39                   390   05/03/2019   \n",
       "345900   14/03/2019    17:12:12                    32   14/03/2019   \n",
       "127375   06/03/2019    16:11:39                   163   06/03/2019   \n",
       "\n",
       "       Hora_Arribo Unnamed: 9  \n",
       "603805    08:46:06        NaN  \n",
       "636408    09:01:12        NaN  \n",
       "53498     19:47:28        NaN  \n",
       "421185    07:01:07        NaN  \n",
       "84356     08:03:28        NaN  \n",
       "345900    17:16:46        NaN  \n",
       "127375    16:23:03        NaN  "
      ]
     },
     "execution_count": 55,
     "metadata": {},
     "output_type": "execute_result"
    }
   ],
   "source": [
    "mar_2019.sample(7)"
   ]
  },
  {
   "cell_type": "code",
   "execution_count": 56,
   "metadata": {},
   "outputs": [
    {
     "data": {
      "text/html": [
       "<div>\n",
       "<style scoped>\n",
       "    .dataframe tbody tr th:only-of-type {\n",
       "        vertical-align: middle;\n",
       "    }\n",
       "\n",
       "    .dataframe tbody tr th {\n",
       "        vertical-align: top;\n",
       "    }\n",
       "\n",
       "    .dataframe thead th {\n",
       "        text-align: right;\n",
       "    }\n",
       "</style>\n",
       "<table border=\"1\" class=\"dataframe\">\n",
       "  <thead>\n",
       "    <tr style=\"text-align: right;\">\n",
       "      <th></th>\n",
       "      <th>Genero_Usuario</th>\n",
       "      <th>Edad_Usuario</th>\n",
       "      <th>Bici</th>\n",
       "      <th>Ciclo_Estacion_Retiro</th>\n",
       "      <th>Fecha_Retiro</th>\n",
       "      <th>Hora_Retiro</th>\n",
       "      <th>Ciclo_Estacion_Arribo</th>\n",
       "      <th>Fecha_Arribo</th>\n",
       "      <th>Hora_Arribo</th>\n",
       "      <th>Unnamed: 9</th>\n",
       "    </tr>\n",
       "  </thead>\n",
       "  <tbody>\n",
       "    <tr>\n",
       "      <th>113432</th>\n",
       "      <td>M</td>\n",
       "      <td>44</td>\n",
       "      <td>9944</td>\n",
       "      <td>267</td>\n",
       "      <td>06/03/2019</td>\n",
       "      <td>08:06:23</td>\n",
       "      <td>32:11.8</td>\n",
       "      <td>10</td>\n",
       "      <td>00:00:00</td>\n",
       "      <td>08:41:11</td>\n",
       "    </tr>\n",
       "  </tbody>\n",
       "</table>\n",
       "</div>"
      ],
      "text/plain": [
       "       Genero_Usuario  Edad_Usuario  Bici  Ciclo_Estacion_Retiro Fecha_Retiro  \\\n",
       "113432              M            44  9944                    267   06/03/2019   \n",
       "\n",
       "       Hora_Retiro Ciclo_Estacion_Arribo Fecha_Arribo Hora_Arribo Unnamed: 9  \n",
       "113432    08:06:23               32:11.8           10    00:00:00   08:41:11  "
      ]
     },
     "execution_count": 56,
     "metadata": {},
     "output_type": "execute_result"
    }
   ],
   "source": [
    "mar_2019[mar_2019['Unnamed: 9']=='08:41:11'] # row with incorrectly assigned value at 'Hora_Arribo'"
   ]
  },
  {
   "cell_type": "code",
   "execution_count": 57,
   "metadata": {},
   "outputs": [],
   "source": [
    "# In March 2019, 'Hora_Arribo' column was not correctly registered. Assign it to its corresponging column\n",
    "mar_2019.at[113432, 'Hora_Arribo'] = '08:41:11'"
   ]
  },
  {
   "cell_type": "code",
   "execution_count": 58,
   "metadata": {},
   "outputs": [
    {
     "data": {
      "text/html": [
       "<div>\n",
       "<style scoped>\n",
       "    .dataframe tbody tr th:only-of-type {\n",
       "        vertical-align: middle;\n",
       "    }\n",
       "\n",
       "    .dataframe tbody tr th {\n",
       "        vertical-align: top;\n",
       "    }\n",
       "\n",
       "    .dataframe thead th {\n",
       "        text-align: right;\n",
       "    }\n",
       "</style>\n",
       "<table border=\"1\" class=\"dataframe\">\n",
       "  <thead>\n",
       "    <tr style=\"text-align: right;\">\n",
       "      <th></th>\n",
       "      <th>Genero_Usuario</th>\n",
       "      <th>Edad_Usuario</th>\n",
       "      <th>Bici</th>\n",
       "      <th>Ciclo_Estacion_Retiro</th>\n",
       "      <th>Fecha_Retiro</th>\n",
       "      <th>Hora_Retiro</th>\n",
       "      <th>Ciclo_Estacion_Arribo</th>\n",
       "      <th>Fecha_Arribo</th>\n",
       "      <th>Hora_Arribo</th>\n",
       "      <th>Unnamed: 9</th>\n",
       "    </tr>\n",
       "  </thead>\n",
       "  <tbody>\n",
       "    <tr>\n",
       "      <th>113432</th>\n",
       "      <td>M</td>\n",
       "      <td>44</td>\n",
       "      <td>9944</td>\n",
       "      <td>267</td>\n",
       "      <td>06/03/2019</td>\n",
       "      <td>08:06:23</td>\n",
       "      <td>32:11.8</td>\n",
       "      <td>10</td>\n",
       "      <td>08:41:11</td>\n",
       "      <td>08:41:11</td>\n",
       "    </tr>\n",
       "  </tbody>\n",
       "</table>\n",
       "</div>"
      ],
      "text/plain": [
       "       Genero_Usuario  Edad_Usuario  Bici  Ciclo_Estacion_Retiro Fecha_Retiro  \\\n",
       "113432              M            44  9944                    267   06/03/2019   \n",
       "\n",
       "       Hora_Retiro Ciclo_Estacion_Arribo Fecha_Arribo Hora_Arribo Unnamed: 9  \n",
       "113432    08:06:23               32:11.8           10    08:41:11   08:41:11  "
      ]
     },
     "execution_count": 58,
     "metadata": {},
     "output_type": "execute_result"
    }
   ],
   "source": [
    "# check the index '113432' \n",
    "mar_2019.iloc[[113432]]"
   ]
  },
  {
   "cell_type": "code",
   "execution_count": 59,
   "metadata": {},
   "outputs": [],
   "source": [
    "# now we can drop the whole column 'Unnamed: 9'\n",
    "mar_2019.drop('Unnamed: 9', inplace=True, axis=1)"
   ]
  },
  {
   "cell_type": "code",
   "execution_count": 60,
   "metadata": {},
   "outputs": [
    {
     "data": {
      "text/plain": [
       "(752299, 9)"
      ]
     },
     "execution_count": 60,
     "metadata": {},
     "output_type": "execute_result"
    }
   ],
   "source": [
    "# check march 2019 structure\n",
    "mar_2019.shape"
   ]
  },
  {
   "cell_type": "code",
   "execution_count": 61,
   "metadata": {},
   "outputs": [
    {
     "data": {
      "text/plain": [
       "array([ True,  True,  True,  True,  True,  True,  True,  True,  True])"
      ]
     },
     "execution_count": 61,
     "metadata": {},
     "output_type": "execute_result"
    }
   ],
   "source": [
    "# verify mar_2019 matches the structure of the other months\n",
    "mar_2019.columns == may_2019.columns"
   ]
  },
  {
   "cell_type": "code",
   "execution_count": 62,
   "metadata": {},
   "outputs": [
    {
     "data": {
      "text/plain": [
       "array([ True,  True,  True,  True,  True,  True,  True,  True,  True])"
      ]
     },
     "execution_count": 62,
     "metadata": {},
     "output_type": "execute_result"
    }
   ],
   "source": [
    "apr_2019.columns == jan_2019.columns"
   ]
  },
  {
   "cell_type": "code",
   "execution_count": 30,
   "metadata": {},
   "outputs": [
    {
     "data": {
      "text/plain": [
       "array([ True,  True,  True,  True,  True,  True,  True,  True,  True])"
      ]
     },
     "execution_count": 30,
     "metadata": {},
     "output_type": "execute_result"
    }
   ],
   "source": [
    "jan_2019.columns == may_2019.columns"
   ]
  },
  {
   "cell_type": "code",
   "execution_count": 31,
   "metadata": {},
   "outputs": [
    {
     "data": {
      "text/plain": [
       "array([ True,  True,  True,  True,  True,  True,  True,  True,  True])"
      ]
     },
     "execution_count": 31,
     "metadata": {},
     "output_type": "execute_result"
    }
   ],
   "source": [
    "may_2019.columns == jun_2019.columns"
   ]
  },
  {
   "cell_type": "code",
   "execution_count": 32,
   "metadata": {},
   "outputs": [
    {
     "data": {
      "text/plain": [
       "array([ True,  True,  True,  True,  True,  True,  True,  True,  True])"
      ]
     },
     "execution_count": 32,
     "metadata": {},
     "output_type": "execute_result"
    }
   ],
   "source": [
    "jun_2019.columns == jul_2019.columns"
   ]
  },
  {
   "cell_type": "code",
   "execution_count": 33,
   "metadata": {},
   "outputs": [
    {
     "data": {
      "text/plain": [
       "array([ True,  True,  True,  True,  True,  True,  True,  True,  True])"
      ]
     },
     "execution_count": 33,
     "metadata": {},
     "output_type": "execute_result"
    }
   ],
   "source": [
    "jul_2019.columns == aug_2019.columns"
   ]
  },
  {
   "cell_type": "code",
   "execution_count": 34,
   "metadata": {},
   "outputs": [
    {
     "data": {
      "text/plain": [
       "array([ True,  True,  True,  True,  True,  True,  True,  True,  True])"
      ]
     },
     "execution_count": 34,
     "metadata": {},
     "output_type": "execute_result"
    }
   ],
   "source": [
    "aug_2019.columns == sep_2019.columns"
   ]
  },
  {
   "cell_type": "code",
   "execution_count": 35,
   "metadata": {},
   "outputs": [
    {
     "data": {
      "text/plain": [
       "array([ True,  True,  True,  True,  True,  True,  True,  True,  True])"
      ]
     },
     "execution_count": 35,
     "metadata": {},
     "output_type": "execute_result"
    }
   ],
   "source": [
    "sep_2019.columns == oct_2019.columns"
   ]
  },
  {
   "cell_type": "code",
   "execution_count": 36,
   "metadata": {},
   "outputs": [
    {
     "data": {
      "text/plain": [
       "array([ True,  True,  True,  True,  True,  True,  True,  True,  True])"
      ]
     },
     "execution_count": 36,
     "metadata": {},
     "output_type": "execute_result"
    }
   ],
   "source": [
    "oct_2019.columns == nov_2019.columns"
   ]
  },
  {
   "cell_type": "code",
   "execution_count": 37,
   "metadata": {},
   "outputs": [
    {
     "data": {
      "text/plain": [
       "array([ True,  True,  True,  True,  True,  True,  True,  True,  True])"
      ]
     },
     "execution_count": 37,
     "metadata": {},
     "output_type": "execute_result"
    }
   ],
   "source": [
    "nov_2019.columns == dec_2019.columns"
   ]
  },
  {
   "cell_type": "code",
   "execution_count": 63,
   "metadata": {},
   "outputs": [],
   "source": [
    "# Proceed to merge all 2019 months into a single dataframe\n",
    "months_2019 = [jan_2019, feb_2019, mar_2019, apr_2019, may_2019, jun_2019, jul_2019, aug_2019, sep_2019, oct_2019, nov_2019, dec_2019]\n",
    "year_2019 = pd.concat(months_2019, ignore_index=True)"
   ]
  },
  {
   "cell_type": "code",
   "execution_count": 64,
   "metadata": {},
   "outputs": [
    {
     "data": {
      "text/plain": [
       "(7725442, 9)"
      ]
     },
     "execution_count": 64,
     "metadata": {},
     "output_type": "execute_result"
    }
   ],
   "source": [
    "year_2019.shape"
   ]
  },
  {
   "cell_type": "code",
   "execution_count": 82,
   "metadata": {},
   "outputs": [
    {
     "data": {
      "text/plain": [
       "True"
      ]
     },
     "execution_count": 82,
     "metadata": {},
     "output_type": "execute_result"
    }
   ],
   "source": [
    "sum(month.shape[0] for month in months_2019) == year_2019.shape[0] # Verify merged dataset dimension"
   ]
  },
  {
   "cell_type": "code",
   "execution_count": 83,
   "metadata": {},
   "outputs": [
    {
     "name": "stderr",
     "output_type": "stream",
     "text": [
      "C:\\Users\\mike_\\AppData\\Local\\Temp\\ipykernel_8008\\1299327238.py:4: DtypeWarning: Columns (2) have mixed types. Specify dtype option on import or set low_memory=False.\n",
      "  mar_2020 = pd.read_csv('data/2020-03.csv')\n"
     ]
    },
    {
     "ename": "UnicodeDecodeError",
     "evalue": "'utf-8' codec can't decode bytes in position 15-16: invalid continuation byte",
     "output_type": "error",
     "traceback": [
      "\u001b[1;31m---------------------------------------------------------------------------\u001b[0m",
      "\u001b[1;31mUnicodeDecodeError\u001b[0m                        Traceback (most recent call last)",
      "\u001b[1;32mc:\\Users\\mike_\\Documents\\research\\code\\dev\\proyecto_ecobici\\ecobici.ipynb Cell 50'\u001b[0m in \u001b[0;36m<cell line: 13>\u001b[1;34m()\u001b[0m\n\u001b[0;32m     <a href='vscode-notebook-cell:/c%3A/Users/mike_/Documents/research/code/dev/proyecto_ecobici/ecobici.ipynb#ch0000055?line=10'>11</a>\u001b[0m oct_2020 \u001b[39m=\u001b[39m pd\u001b[39m.\u001b[39mread_csv(\u001b[39m'\u001b[39m\u001b[39mdata/2020-10.csv\u001b[39m\u001b[39m'\u001b[39m)\n\u001b[0;32m     <a href='vscode-notebook-cell:/c%3A/Users/mike_/Documents/research/code/dev/proyecto_ecobici/ecobici.ipynb#ch0000055?line=11'>12</a>\u001b[0m nov_2020 \u001b[39m=\u001b[39m pd\u001b[39m.\u001b[39mread_csv(\u001b[39m'\u001b[39m\u001b[39mdata/2020-11.csv\u001b[39m\u001b[39m'\u001b[39m)\n\u001b[1;32m---> <a href='vscode-notebook-cell:/c%3A/Users/mike_/Documents/research/code/dev/proyecto_ecobici/ecobici.ipynb#ch0000055?line=12'>13</a>\u001b[0m dec_2020 \u001b[39m=\u001b[39m pd\u001b[39m.\u001b[39;49mread_csv(\u001b[39m'\u001b[39;49m\u001b[39mdata/2020-12.csv\u001b[39;49m\u001b[39m'\u001b[39;49m)\n",
      "File \u001b[1;32mc:\\Users\\mike_\\anaconda3\\lib\\site-packages\\pandas\\util\\_decorators.py:311\u001b[0m, in \u001b[0;36mdeprecate_nonkeyword_arguments.<locals>.decorate.<locals>.wrapper\u001b[1;34m(*args, **kwargs)\u001b[0m\n\u001b[0;32m    305\u001b[0m \u001b[39mif\u001b[39;00m \u001b[39mlen\u001b[39m(args) \u001b[39m>\u001b[39m num_allow_args:\n\u001b[0;32m    306\u001b[0m     warnings\u001b[39m.\u001b[39mwarn(\n\u001b[0;32m    307\u001b[0m         msg\u001b[39m.\u001b[39mformat(arguments\u001b[39m=\u001b[39marguments),\n\u001b[0;32m    308\u001b[0m         \u001b[39mFutureWarning\u001b[39;00m,\n\u001b[0;32m    309\u001b[0m         stacklevel\u001b[39m=\u001b[39mstacklevel,\n\u001b[0;32m    310\u001b[0m     )\n\u001b[1;32m--> 311\u001b[0m \u001b[39mreturn\u001b[39;00m func(\u001b[39m*\u001b[39margs, \u001b[39m*\u001b[39m\u001b[39m*\u001b[39mkwargs)\n",
      "File \u001b[1;32mc:\\Users\\mike_\\anaconda3\\lib\\site-packages\\pandas\\io\\parsers\\readers.py:680\u001b[0m, in \u001b[0;36mread_csv\u001b[1;34m(filepath_or_buffer, sep, delimiter, header, names, index_col, usecols, squeeze, prefix, mangle_dupe_cols, dtype, engine, converters, true_values, false_values, skipinitialspace, skiprows, skipfooter, nrows, na_values, keep_default_na, na_filter, verbose, skip_blank_lines, parse_dates, infer_datetime_format, keep_date_col, date_parser, dayfirst, cache_dates, iterator, chunksize, compression, thousands, decimal, lineterminator, quotechar, quoting, doublequote, escapechar, comment, encoding, encoding_errors, dialect, error_bad_lines, warn_bad_lines, on_bad_lines, delim_whitespace, low_memory, memory_map, float_precision, storage_options)\u001b[0m\n\u001b[0;32m    665\u001b[0m kwds_defaults \u001b[39m=\u001b[39m _refine_defaults_read(\n\u001b[0;32m    666\u001b[0m     dialect,\n\u001b[0;32m    667\u001b[0m     delimiter,\n\u001b[1;32m   (...)\u001b[0m\n\u001b[0;32m    676\u001b[0m     defaults\u001b[39m=\u001b[39m{\u001b[39m\"\u001b[39m\u001b[39mdelimiter\u001b[39m\u001b[39m\"\u001b[39m: \u001b[39m\"\u001b[39m\u001b[39m,\u001b[39m\u001b[39m\"\u001b[39m},\n\u001b[0;32m    677\u001b[0m )\n\u001b[0;32m    678\u001b[0m kwds\u001b[39m.\u001b[39mupdate(kwds_defaults)\n\u001b[1;32m--> 680\u001b[0m \u001b[39mreturn\u001b[39;00m _read(filepath_or_buffer, kwds)\n",
      "File \u001b[1;32mc:\\Users\\mike_\\anaconda3\\lib\\site-packages\\pandas\\io\\parsers\\readers.py:575\u001b[0m, in \u001b[0;36m_read\u001b[1;34m(filepath_or_buffer, kwds)\u001b[0m\n\u001b[0;32m    572\u001b[0m _validate_names(kwds\u001b[39m.\u001b[39mget(\u001b[39m\"\u001b[39m\u001b[39mnames\u001b[39m\u001b[39m\"\u001b[39m, \u001b[39mNone\u001b[39;00m))\n\u001b[0;32m    574\u001b[0m \u001b[39m# Create the parser.\u001b[39;00m\n\u001b[1;32m--> 575\u001b[0m parser \u001b[39m=\u001b[39m TextFileReader(filepath_or_buffer, \u001b[39m*\u001b[39m\u001b[39m*\u001b[39mkwds)\n\u001b[0;32m    577\u001b[0m \u001b[39mif\u001b[39;00m chunksize \u001b[39mor\u001b[39;00m iterator:\n\u001b[0;32m    578\u001b[0m     \u001b[39mreturn\u001b[39;00m parser\n",
      "File \u001b[1;32mc:\\Users\\mike_\\anaconda3\\lib\\site-packages\\pandas\\io\\parsers\\readers.py:933\u001b[0m, in \u001b[0;36mTextFileReader.__init__\u001b[1;34m(self, f, engine, **kwds)\u001b[0m\n\u001b[0;32m    930\u001b[0m     \u001b[39mself\u001b[39m\u001b[39m.\u001b[39moptions[\u001b[39m\"\u001b[39m\u001b[39mhas_index_names\u001b[39m\u001b[39m\"\u001b[39m] \u001b[39m=\u001b[39m kwds[\u001b[39m\"\u001b[39m\u001b[39mhas_index_names\u001b[39m\u001b[39m\"\u001b[39m]\n\u001b[0;32m    932\u001b[0m \u001b[39mself\u001b[39m\u001b[39m.\u001b[39mhandles: IOHandles \u001b[39m|\u001b[39m \u001b[39mNone\u001b[39;00m \u001b[39m=\u001b[39m \u001b[39mNone\u001b[39;00m\n\u001b[1;32m--> 933\u001b[0m \u001b[39mself\u001b[39m\u001b[39m.\u001b[39m_engine \u001b[39m=\u001b[39m \u001b[39mself\u001b[39;49m\u001b[39m.\u001b[39;49m_make_engine(f, \u001b[39mself\u001b[39;49m\u001b[39m.\u001b[39;49mengine)\n",
      "File \u001b[1;32mc:\\Users\\mike_\\anaconda3\\lib\\site-packages\\pandas\\io\\parsers\\readers.py:1235\u001b[0m, in \u001b[0;36mTextFileReader._make_engine\u001b[1;34m(self, f, engine)\u001b[0m\n\u001b[0;32m   1232\u001b[0m     \u001b[39mraise\u001b[39;00m \u001b[39mValueError\u001b[39;00m(msg)\n\u001b[0;32m   1234\u001b[0m \u001b[39mtry\u001b[39;00m:\n\u001b[1;32m-> 1235\u001b[0m     \u001b[39mreturn\u001b[39;00m mapping[engine](f, \u001b[39m*\u001b[39m\u001b[39m*\u001b[39m\u001b[39mself\u001b[39m\u001b[39m.\u001b[39moptions)\n\u001b[0;32m   1236\u001b[0m \u001b[39mexcept\u001b[39;00m \u001b[39mException\u001b[39;00m:\n\u001b[0;32m   1237\u001b[0m     \u001b[39mif\u001b[39;00m \u001b[39mself\u001b[39m\u001b[39m.\u001b[39mhandles \u001b[39mis\u001b[39;00m \u001b[39mnot\u001b[39;00m \u001b[39mNone\u001b[39;00m:\n",
      "File \u001b[1;32mc:\\Users\\mike_\\anaconda3\\lib\\site-packages\\pandas\\io\\parsers\\c_parser_wrapper.py:75\u001b[0m, in \u001b[0;36mCParserWrapper.__init__\u001b[1;34m(self, src, **kwds)\u001b[0m\n\u001b[0;32m     72\u001b[0m     kwds\u001b[39m.\u001b[39mpop(key, \u001b[39mNone\u001b[39;00m)\n\u001b[0;32m     74\u001b[0m kwds[\u001b[39m\"\u001b[39m\u001b[39mdtype\u001b[39m\u001b[39m\"\u001b[39m] \u001b[39m=\u001b[39m ensure_dtype_objs(kwds\u001b[39m.\u001b[39mget(\u001b[39m\"\u001b[39m\u001b[39mdtype\u001b[39m\u001b[39m\"\u001b[39m, \u001b[39mNone\u001b[39;00m))\n\u001b[1;32m---> 75\u001b[0m \u001b[39mself\u001b[39m\u001b[39m.\u001b[39m_reader \u001b[39m=\u001b[39m parsers\u001b[39m.\u001b[39mTextReader(src, \u001b[39m*\u001b[39m\u001b[39m*\u001b[39mkwds)\n\u001b[0;32m     77\u001b[0m \u001b[39mself\u001b[39m\u001b[39m.\u001b[39munnamed_cols \u001b[39m=\u001b[39m \u001b[39mself\u001b[39m\u001b[39m.\u001b[39m_reader\u001b[39m.\u001b[39munnamed_cols\n\u001b[0;32m     79\u001b[0m \u001b[39m# error: Cannot determine type of 'names'\u001b[39;00m\n",
      "File \u001b[1;32mc:\\Users\\mike_\\anaconda3\\lib\\site-packages\\pandas\\_libs\\parsers.pyx:544\u001b[0m, in \u001b[0;36mpandas._libs.parsers.TextReader.__cinit__\u001b[1;34m()\u001b[0m\n",
      "File \u001b[1;32mc:\\Users\\mike_\\anaconda3\\lib\\site-packages\\pandas\\_libs\\parsers.pyx:633\u001b[0m, in \u001b[0;36mpandas._libs.parsers.TextReader._get_header\u001b[1;34m()\u001b[0m\n",
      "File \u001b[1;32mc:\\Users\\mike_\\anaconda3\\lib\\site-packages\\pandas\\_libs\\parsers.pyx:847\u001b[0m, in \u001b[0;36mpandas._libs.parsers.TextReader._tokenize_rows\u001b[1;34m()\u001b[0m\n",
      "File \u001b[1;32mc:\\Users\\mike_\\anaconda3\\lib\\site-packages\\pandas\\_libs\\parsers.pyx:1952\u001b[0m, in \u001b[0;36mpandas._libs.parsers.raise_parser_error\u001b[1;34m()\u001b[0m\n",
      "\u001b[1;31mUnicodeDecodeError\u001b[0m: 'utf-8' codec can't decode bytes in position 15-16: invalid continuation byte"
     ]
    }
   ],
   "source": [
    "# Reading year 2020\n",
    "jan_2020 = pd.read_csv('data/2020-01.csv')\n",
    "feb_2020 = pd.read_csv('data/2020-02.csv')\n",
    "mar_2020 = pd.read_csv('data/2020-03.csv')\n",
    "apr_2020 = pd.read_csv('data/2020-04.csv')\n",
    "may_2020 = pd.read_csv('data/2020-05.csv')\n",
    "jun_2020 = pd.read_csv('data/2020-06.csv')\n",
    "jul_2020 = pd.read_csv('data/2020-07.csv')\n",
    "aug_2020 = pd.read_csv('data/2020-08.csv')\n",
    "sep_2020 = pd.read_csv('data/2020-09.csv')\n",
    "oct_2020 = pd.read_csv('data/2020-10.csv')\n",
    "nov_2020 = pd.read_csv('data/2020-11.csv')\n",
    "dec_2020 = pd.read_csv('data/2020-12.csv')"
   ]
  },
  {
   "cell_type": "code",
   "execution_count": 85,
   "metadata": {},
   "outputs": [
    {
     "data": {
      "text/plain": [
       "Index(['Genero_Usuario', 'Edad_Usuario', 'Bici', 'Ciclo_Estacion_Retiro',\n",
       "       'Fecha_Retiro', 'Hora_Retiro', 'Ciclo_Estacion_Arribo', 'Fecha_Arribo',\n",
       "       'Hora_Arribo'],\n",
       "      dtype='object')"
      ]
     },
     "execution_count": 85,
     "metadata": {},
     "output_type": "execute_result"
    }
   ],
   "source": [
    "jan_2020.shape\n",
    "jan_2020.columns"
   ]
  },
  {
   "cell_type": "code",
   "execution_count": null,
   "metadata": {},
   "outputs": [],
   "source": []
  }
 ],
 "metadata": {
  "kernelspec": {
   "display_name": "Python 3.9.12 ('base')",
   "language": "python",
   "name": "python3"
  },
  "language_info": {
   "codemirror_mode": {
    "name": "ipython",
    "version": 3
   },
   "file_extension": ".py",
   "mimetype": "text/x-python",
   "name": "python",
   "nbconvert_exporter": "python",
   "pygments_lexer": "ipython3",
   "version": "3.9.12"
  },
  "orig_nbformat": 4,
  "vscode": {
   "interpreter": {
    "hash": "777a9814b1f625c6de01a68afd34302da90c24c55ff64ad7426d28deb82a847b"
   }
  }
 },
 "nbformat": 4,
 "nbformat_minor": 2
}
